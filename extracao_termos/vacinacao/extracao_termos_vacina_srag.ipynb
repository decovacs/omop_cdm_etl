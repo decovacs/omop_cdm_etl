{
 "cells": [
  {
   "cell_type": "markdown",
   "metadata": {},
   "source": [
    "### extrair termos e contagem para ser submetida ao software usagi.\n",
    " \n",
    " \n",
    " * pensar como tratar termos compartilhados entre os bancos , pois os dados depois voltam\n",
    " * como trabalhar tbm com ids confiaveis \n",
    " \n",
    " Bancos: vacinas /SRAG\n",
    " \n",
    " variáveis que fiz em separado pois precisam ser harmonizadas em conjunto (precisam mesmo?) - Raça - Sexo"
   ]
  },
  {
   "cell_type": "code",
   "execution_count": 1,
   "metadata": {},
   "outputs": [
    {
     "data": {
      "text/html": [
       "<style>.container { width:100% !important; }</style>"
      ],
      "text/plain": [
       "<IPython.core.display.HTML object>"
      ]
     },
     "metadata": {},
     "output_type": "display_data"
    }
   ],
   "source": [
    "from IPython.core.display import display, HTML\n",
    "display(HTML(\"<style>.container { width:100% !important; }</style>\"))\n",
    "from pyspark.sql import functions as F\n",
    "import glob"
   ]
  },
  {
   "cell_type": "code",
   "execution_count": 2,
   "metadata": {},
   "outputs": [],
   "source": [
    "vac  = spark.read.parquet(\"/dados10t/datalake/raw/vigivac/vacinacao/vacinacao17032023.parquet/\")"
   ]
  },
  {
   "cell_type": "code",
   "execution_count": 5,
   "metadata": {},
   "outputs": [
    {
     "data": {
      "text/plain": [
       "36390"
      ]
     },
     "execution_count": 5,
     "metadata": {},
     "output_type": "execute_result"
    }
   ],
   "source": [
    "vac.select(\"estabelecimento_valor\").distinct().count()"
   ]
  },
  {
   "cell_type": "code",
   "execution_count": 6,
   "metadata": {},
   "outputs": [],
   "source": [
    "#vac.take(2)"
   ]
  },
  {
   "cell_type": "code",
   "execution_count": 7,
   "metadata": {},
   "outputs": [
    {
     "name": "stdout",
     "output_type": "stream",
     "text": [
      "root\n",
      " |-- document_id: string (nullable = true)\n",
      " |-- id_paciente: string (nullable = true)\n",
      " |-- paciente_idade: double (nullable = true)\n",
      " |-- paciente_datanascimento: string (nullable = true)\n",
      " |-- paciente_enumsexobiologico: string (nullable = true)\n",
      " |-- paciente_racacor_codigo: string (nullable = true)\n",
      " |-- paciente_racacor_valor: string (nullable = true)\n",
      " |-- paciente_endereco_coibgemunicipio: string (nullable = true)\n",
      " |-- paciente_endereco_copais: string (nullable = true)\n",
      " |-- paciente_endereco_nmmunicipio: string (nullable = true)\n",
      " |-- paciente_endereco_nmpais: string (nullable = true)\n",
      " |-- paciente_endereco_uf: string (nullable = true)\n",
      " |-- paciente_endereco_cep: string (nullable = true)\n",
      " |-- paciente_nacionalidade_enumnacionalidade: string (nullable = true)\n",
      " |-- estabelecimento_valor: string (nullable = true)\n",
      " |-- estabelecimento_razaosocial: string (nullable = true)\n",
      " |-- estalecimento_nofantasia: string (nullable = true)\n",
      " |-- estabelecimento_municipio_codigo: string (nullable = true)\n",
      " |-- estabelecimento_municipio_nome: string (nullable = true)\n",
      " |-- estabelecimento_uf: string (nullable = true)\n",
      " |-- vacina_grupoatendimento_codigo: string (nullable = true)\n",
      " |-- vacina_grupoatendimento_nome: string (nullable = true)\n",
      " |-- vacina_categoria_codigo: string (nullable = true)\n",
      " |-- vacina_categoria_nome: string (nullable = true)\n",
      " |-- vacina_lote: string (nullable = true)\n",
      " |-- vacina_fabricante_nome: string (nullable = true)\n",
      " |-- vacina_fabricante_referencia: string (nullable = true)\n",
      " |-- vacina_dataaplicacao: date (nullable = true)\n",
      " |-- vacina_descricao_dose: string (nullable = true)\n",
      " |-- vacina_codigo: string (nullable = true)\n",
      " |-- vacina_nome: string (nullable = true)\n",
      " |-- sistema_origem: string (nullable = true)\n",
      " |-- data_importacao_datalake: timestamp (nullable = true)\n",
      " |-- data_importacao_rnds: timestamp (nullable = true)\n",
      " |-- id_sistema_origem: string (nullable = true)\n",
      " |-- dt_deleted: string (nullable = true)\n",
      " |-- status: string (nullable = true)\n",
      " |-- vacina_numdose: string (nullable = true)\n",
      " |-- co_condicao_maternal: double (nullable = true)\n",
      " |-- ds_condicao_maternal: string (nullable = true)\n",
      "\n"
     ]
    }
   ],
   "source": [
    "vac.printSchema()"
   ]
  },
  {
   "cell_type": "code",
   "execution_count": 8,
   "metadata": {},
   "outputs": [
    {
     "data": {
      "text/plain": [
       "550640907"
      ]
     },
     "execution_count": 8,
     "metadata": {},
     "output_type": "execute_result"
    }
   ],
   "source": [
    "vac.count()"
   ]
  },
  {
   "cell_type": "code",
   "execution_count": 9,
   "metadata": {},
   "outputs": [
    {
     "data": {
      "text/plain": [
       "57262"
      ]
     },
     "execution_count": 9,
     "metadata": {},
     "output_type": "execute_result"
    }
   ],
   "source": [
    "vac.select(\"vacina_lote\").distinct().count()"
   ]
  },
  {
   "cell_type": "code",
   "execution_count": 10,
   "metadata": {},
   "outputs": [
    {
     "data": {
      "text/plain": [
       "25"
      ]
     },
     "execution_count": 10,
     "metadata": {},
     "output_type": "execute_result"
    }
   ],
   "source": [
    "vac.select(\"vacina_fabricante_nome\").distinct().count()"
   ]
  },
  {
   "cell_type": "code",
   "execution_count": 11,
   "metadata": {},
   "outputs": [
    {
     "data": {
      "text/plain": [
       "76"
      ]
     },
     "execution_count": 11,
     "metadata": {},
     "output_type": "execute_result"
    }
   ],
   "source": [
    "vac.select(\"vacina_fabricante_referencia\").distinct().count()"
   ]
  },
  {
   "cell_type": "code",
   "execution_count": 14,
   "metadata": {},
   "outputs": [
    {
     "data": {
      "text/plain": [
       "11"
      ]
     },
     "execution_count": 14,
     "metadata": {},
     "output_type": "execute_result"
    }
   ],
   "source": [
    "vac.select(\"vacina_nome\").distinct().count()  "
   ]
  },
  {
   "cell_type": "code",
   "execution_count": 16,
   "metadata": {},
   "outputs": [
    {
     "name": "stdout",
     "output_type": "stream",
     "text": [
      "+------------------------------------------------------+-----------------------------------------+---------+\n",
      "|vacina_nome                                           |vacina_fabricante_nome                   |count    |\n",
      "+------------------------------------------------------+-----------------------------------------+---------+\n",
      "|COVID-19 PFIZER - COMIRNATY                           |PFIZER                                   |211044986|\n",
      "|COVID-19 ASTRAZENECA/FIOCRUZ - COVISHIELD             |ASTRAZENECA/FIOCRUZ                      |155270923|\n",
      "|COVID-19 SINOVAC/BUTANTAN - CORONAVAC                 |SINOVAC/BUTANTAN                         |118922716|\n",
      "|COVID-19 JANSSEN - Ad26.COV2.S                        |JANSSEN                                  |35493031 |\n",
      "|COVID-19 PEDIÁTRICA - PFIZER COMIRNATY                |Pendente Identificação                   |9000896  |\n",
      "|COVID-19 ASTRAZENECA - ChAdOx1-S                      |ASTRAZENECA                              |7980477  |\n",
      "|COVID-19 PFIZER - COMIRNATY BIVALENTE                 |PFIZER                                   |5310650  |\n",
      "|COVID-19 PEDIÁTRICA - PFIZER COMIRNATY                |PFIZER - PEDIÁTRICA                      |1963971  |\n",
      "|COVID-19 SINOVAC - CORONAVAC                          |Pendente Identificação                   |1499987  |\n",
      "|COVID-19 PEDIÁTRICA - PFIZER COMIRNATY                |Pendente Identifica??o                   |1381274  |\n",
      "|COVID-19 PFIZER - COMIRNATY PEDIÁTRICA                |PFIZER - PEDIÁTRICA                      |1371324  |\n",
      "|COVID-19 PFIZER - COMIRNATY PEDIÁTRICA MENOR DE 5 ANOS|PFIZER - PEDIÁTRICA MENOR DE 5 ANOS      |1056941  |\n",
      "|COVID-19 SINOVAC - CORONAVAC                          |SINOVAC                                  |340136   |\n",
      "|COVID-19 SINOVAC - CORONAVAC                          |Pendente Identifica??o                   |2054     |\n",
      "|COVID-19 PFIZER - COMIRNATY                           |PFIZER MANUFACTURING BELGIUM NV - BELGICA|482      |\n",
      "|COVID-19 ASTRAZENECA/FIOCRUZ - COVISHIELD             |FUNDACAO OSWALDO CRUZ                    |425      |\n",
      "|COVID-19 JANSSEN - Ad26.COV2.S                        |JANSSEN PHARMACEUTICA NV                 |141      |\n",
      "|COVID-19 JANSSEN - Ad26.COV2.S                        |COVID-19 JANSSEN - Ad26.COV2.S           |98       |\n",
      "|COVID-19 ASTRAZENECA/FIOCRUZ - COVISHIELD             |ASTRAZENECA/OXFORD                       |94       |\n",
      "|COVID-19 PFIZER - COMIRNATY                           |PFIZER/BIONTECH                          |65       |\n",
      "|COVID-19 PEDIÁTRICA - PFIZER COMIRNATY                |PFIZER MANUFACTURING BELGIUM NV - BELGICA|60       |\n",
      "|COVID-19 SINOVAC/BUTANTAN - CORONAVAC                 |INSTITUTO BUTANTAN                       |56       |\n",
      "|COVID-19 SINOVAC/BUTANTAN - CORONAVAC                 |SINOVAC LIFE SCIENCES CO., LTD           |50       |\n",
      "|INF3                                                  |Pendente Identificação                   |26       |\n",
      "|COVID-19 ASTRAZENECA/FIOCRUZ - COVISHIELD             |OXFORD-ASTRAZENECA                       |10       |\n",
      "|COVID-19 ASTRAZENECA/FIOCRUZ - COVISHIELD             |COVID-19 ASTRAZENECA/FIOCRUZ - COVISHIELD|7        |\n",
      "|COVID-19 JANSSEN - Ad26.COV2.S                        |JOHNSON & JOHNSON/JANSSEN                |6        |\n",
      "|COVID-19 SINOVAC - CORONAVAC                          |SINOVAC LIFE SCIENCES CO., LTD           |6        |\n",
      "|COVID-19 PEDIÁTRICA - PFIZER COMIRNATY                |PFIZER - PEDI?TRICA                      |5        |\n",
      "|COVID-19 PFIZER - COMIRNATY                           |COVID-19 PFIZER - COMIRNATY              |4        |\n",
      "|COVID-19 PEDIÁTRICA - PFIZER COMIRNATY                |PFIZER/BIONTECH                          |4        |\n",
      "|COVID-19 JANSSEN - Ad26.COV2.S                        |JANSSEN-CILAG                            |1        |\n",
      "|COVID-19 SINOVAC/BUTANTAN - CORONAVAC                 |COVID-19 SINOVAC/BUTANTAN - CORONAVAC    |1        |\n",
      "+------------------------------------------------------+-----------------------------------------+---------+\n",
      "\n"
     ]
    }
   ],
   "source": [
    "vac.groupBy(\"vacina_nome\",\"vacina_fabricante_nome\").count().orderBy(  F.col(\"count\").desc()   ).show(150,False)"
   ]
  },
  {
   "cell_type": "code",
   "execution_count": 4,
   "metadata": {},
   "outputs": [],
   "source": [
    "vac_termo_op2 = vac.groupBy(\"vacina_nome\").count().orderBy(  F.col(\"count\").desc()   )\n",
    "vac_termo_op2 = vac_termo_op2.withColumn(\"id_termo\",F.monotonically_increasing_id())\n",
    "vac_termo_op2.toPandas().to_csv(\"/dados10t/datalake/standard/omop/lista_v2_op2_termos_banco_vacinas_17032023.csv\",sep=\",\",index=False)"
   ]
  },
  {
   "cell_type": "code",
   "execution_count": null,
   "metadata": {},
   "outputs": [],
   "source": []
  },
  {
   "cell_type": "code",
   "execution_count": 22,
   "metadata": {},
   "outputs": [],
   "source": [
    "vac_termos = vac.groupBy(\"vacina_nome\",\"vacina_fabricante_nome\").count().orderBy(  F.col(\"count\").desc()   )"
   ]
  },
  {
   "cell_type": "code",
   "execution_count": 23,
   "metadata": {},
   "outputs": [],
   "source": [
    "vac_termos = vac_termos.withColumn(\"id_termo\",F.monotonically_increasing_id())"
   ]
  },
  {
   "cell_type": "code",
   "execution_count": 24,
   "metadata": {},
   "outputs": [],
   "source": [
    "vac_termos.toPandas().to_csv(\"/dados10t/datalake/standard/omop/lista_v2_termos_banco_vacinas_17032023.csv\",sep=\",\",index=False)"
   ]
  },
  {
   "cell_type": "code",
   "execution_count": 21,
   "metadata": {},
   "outputs": [],
   "source": [
    "#vac.groupBy(\"vacina_fabricante_nome\").count().orderBy(  F.col(\"count\").desc()   ).show(50,False)"
   ]
  },
  {
   "cell_type": "code",
   "execution_count": 19,
   "metadata": {},
   "outputs": [],
   "source": [
    "#vac.groupBy(\"vacina_fabricante_referencia\").count().orderBy(  F.col(\"count\").desc()   ).show(100,False)"
   ]
  },
  {
   "cell_type": "code",
   "execution_count": null,
   "metadata": {},
   "outputs": [],
   "source": []
  },
  {
   "cell_type": "code",
   "execution_count": null,
   "metadata": {},
   "outputs": [],
   "source": [
    "vac.groupBy(\"vacina_grupoatendimento_nome\").count().orderBy(  F.col(\"count\").desc()   ).show(50,False)"
   ]
  },
  {
   "cell_type": "code",
   "execution_count": null,
   "metadata": {},
   "outputs": [],
   "source": [
    "vac_vacina_nome = vac.groupBy(\"vacina_nome\").count().orderBy(  F.col(\"count\").desc()   ).cache()"
   ]
  },
  {
   "cell_type": "code",
   "execution_count": 8,
   "metadata": {},
   "outputs": [
    {
     "name": "stderr",
     "output_type": "stream",
     "text": [
      "[Stage 12:>                                                         (0 + 3) / 3]\r"
     ]
    },
    {
     "name": "stdout",
     "output_type": "stream",
     "text": [
      "+-----------------------------------------------------------------------+---------+\n",
      "|vacina_grupoatendimento_nome                                           |count    |\n",
      "+-----------------------------------------------------------------------+---------+\n",
      "|Pessoas de 18 a 64 anos                                                |272590074|\n",
      "|Outros                                                                 |40820962 |\n",
      "|Pessoas de 12 a 17 anos                                                |31377855 |\n",
      "|Pessoas de 65 a 69 anos                                                |26408885 |\n",
      "|Pessoas de 5 a 11 anos                                                 |24231689 |\n",
      "|Pessoas de 70 a 74 anos                                                |19954052 |\n",
      "|Hipertensão de difícil controle ou com complicações/lesão de órgão alvo|18059392 |\n",
      "|Pessoas de 80 anos ou mais                                             |15519202 |\n",
      "|Pessoas de 75 a 79 anos                                                |13260651 |\n",
      "|Ensino Básico                                                          |11038980 |\n",
      "|Diabetes Mellitus                                                      |9999394  |\n",
      "|Outros Grupos                                                          |8270560  |\n",
      "|Outros Imunocomprometidos                                              |4234780  |\n",
      "|Trabalhadores Industriais                                              |3669876  |\n",
      "|Pneumopatias Crônicas Graves                                           |2990336  |\n",
      "|Obesidade Grave (Imc≥40)                                               |2743343  |\n",
      "|Pessoas com Deficiência Permanente                                     |2666252  |\n",
      "|Doenças Cardiovasculares e Cerebrovasculares                           |2589519  |\n",
      "|Faixa Etária                                                           |2426507  |\n",
      "|Pessoas de 60 nos ou mais Institucionalizadas                          |2419964  |\n",
      "|Pessoas de 3 a 4 anos                                                  |2210238  |\n",
      "|Gestante                                                               |2151492  |\n",
      "|Técnico de Enfermagem                                                  |2141726  |\n",
      "|Quilombola                                                             |1762457  |\n",
      "|null                                                                   |1474409  |\n",
      "|Caminhoneiro                                                           |1384102  |\n",
      "|Povos indígenas em terras indígenas                                    |1273126  |\n",
      "|População Privada de Liberdade                                         |1141689  |\n",
      "|Sem registro no modelo de informação de origem                         |1131505  |\n",
      "|Ensino Superior                                                        |1070672  |\n",
      "|Ribeirinha                                                             |1039789  |\n",
      "|Enfermeiro(a)                                                          |1000750  |\n",
      "|Coletivo Rodoviário Passageiros Urbano e de Longo Curso                |982693   |\n",
      "|Médico                                                                 |923329   |\n",
      "|Acadêmicos/estudantes em estágio em estabelecimentos de saúde          |870154   |\n",
      "|Neoplasias                                                             |791984   |\n",
      "|Recepcionista                                                          |778725   |\n",
      "|Segurança                                                              |764410   |\n",
      "|Doença Renal Crônica                                                   |741581   |\n",
      "|Profissionais e Auxiliares de limpeza                                  |668554   |\n",
      "|Policial Militar                                                       |652780   |\n",
      "|Puérpera                                                               |638743   |\n",
      "|Doença neurológica crônica                                             |601248   |\n",
      "|Odontologista                                                          |571963   |\n",
      "|Pessoas de 6 meses a 2 anos                                            |544777   |\n",
      "|Psicólogo                                                              |453691   |\n",
      "|Trabalhadores de limpeza urbana e manejo de resíduos sólidos           |441821   |\n",
      "|Fisioterapeutas                                                        |425814   |\n",
      "|Farmacêutico                                                           |415011   |\n",
      "|Cuidador de Idosos                                                     |391688   |\n",
      "+-----------------------------------------------------------------------+---------+\n",
      "only showing top 50 rows\n",
      "\n"
     ]
    },
    {
     "name": "stderr",
     "output_type": "stream",
     "text": [
      "\r",
      "                                                                                \r"
     ]
    }
   ],
   "source": [
    "vac.groupBy(\"vacina_grupoatendimento_nome\").count().orderBy(  F.col(\"count\").desc()   ).show(50,False)"
   ]
  },
  {
   "cell_type": "code",
   "execution_count": 9,
   "metadata": {},
   "outputs": [
    {
     "name": "stderr",
     "output_type": "stream",
     "text": [
      "[Stage 15:>                                                         (0 + 1) / 1]\r"
     ]
    },
    {
     "name": "stdout",
     "output_type": "stream",
     "text": [
      "+-----------------------------------------------+---------+\n",
      "|vacina_categoria_nome                          |count    |\n",
      "+-----------------------------------------------+---------+\n",
      "|Faixa Etária                                   |384975988|\n",
      "|Trabalhadores de Saúde                         |52290225 |\n",
      "|Comorbidades                                   |43783339 |\n",
      "|null                                           |26076791 |\n",
      "|Trabalhadores da Educação                      |12109652 |\n",
      "|Outros                                         |8270560  |\n",
      "|Trabalhadores Industriais                      |3669876  |\n",
      "|Pessoas com Deficiência                        |2928481  |\n",
      "|Trabalhadores de Transporte                    |2837072  |\n",
      "|Povos e Comunidades Tradicionais               |2805130  |\n",
      "|Pessoas de 60 anos ou mais institucionalizadas |2419964  |\n",
      "|Gestantes                                      |2151492  |\n",
      "|Povos Indígenas                                |1304717  |\n",
      "|Forças de Segurança e Salvamento               |1255126  |\n",
      "|População Privada de Liberdade                 |1142049  |\n",
      "|Trabalhadores de Limpeza Urbana                |441821   |\n",
      "|Puérperas                                      |436453   |\n",
      "|Forças Armadas (membros ativos)                |414716   |\n",
      "|Trabalhadores Portuários                       |349669   |\n",
      "|Pessoas Institucionalizadas                    |304418   |\n",
      "|Pessoas em Situação de Rua                     |267869   |\n",
      "|Funcionário do Sistema de Privação de Liberdade|203209   |\n",
      "|Puérperas                                      |202290   |\n",
      "+-----------------------------------------------+---------+\n",
      "\n"
     ]
    },
    {
     "name": "stderr",
     "output_type": "stream",
     "text": [
      "\r",
      "                                                                                \r"
     ]
    }
   ],
   "source": [
    "vac.groupBy(\"vacina_categoria_nome\").count().orderBy(  F.col(\"count\").desc()   ).show(50,False)"
   ]
  },
  {
   "cell_type": "code",
   "execution_count": null,
   "metadata": {},
   "outputs": [],
   "source": []
  },
  {
   "cell_type": "code",
   "execution_count": 10,
   "metadata": {},
   "outputs": [
    {
     "name": "stderr",
     "output_type": "stream",
     "text": [
      "[Stage 18:>                                                         (0 + 1) / 1]\r"
     ]
    },
    {
     "name": "stdout",
     "output_type": "stream",
     "text": [
      "+-----------------------------------------+---------+\n",
      "|vacina_fabricante_nome                   |count    |\n",
      "+-----------------------------------------+---------+\n",
      "|PFIZER                                   |216355636|\n",
      "|ASTRAZENECA/FIOCRUZ                      |155270923|\n",
      "|SINOVAC/BUTANTAN                         |118922716|\n",
      "|JANSSEN                                  |35493031 |\n",
      "|Pendente Identificação                   |10500909 |\n",
      "|ASTRAZENECA                              |7980477  |\n",
      "|PFIZER - PEDIÁTRICA                      |3335295  |\n",
      "|Pendente Identifica??o                   |1383328  |\n",
      "|PFIZER - PEDIÁTRICA MENOR DE 5 ANOS      |1056941  |\n",
      "|SINOVAC                                  |340136   |\n",
      "|PFIZER MANUFACTURING BELGIUM NV - BELGICA|542      |\n",
      "|FUNDACAO OSWALDO CRUZ                    |425      |\n",
      "|JANSSEN PHARMACEUTICA NV                 |141      |\n",
      "|COVID-19 JANSSEN - Ad26.COV2.S           |98       |\n",
      "|ASTRAZENECA/OXFORD                       |94       |\n",
      "|PFIZER/BIONTECH                          |69       |\n",
      "|SINOVAC LIFE SCIENCES CO., LTD           |56       |\n",
      "|INSTITUTO BUTANTAN                       |56       |\n",
      "|OXFORD-ASTRAZENECA                       |10       |\n",
      "|COVID-19 ASTRAZENECA/FIOCRUZ - COVISHIELD|7        |\n",
      "|JOHNSON & JOHNSON/JANSSEN                |6        |\n",
      "|PFIZER - PEDI?TRICA                      |5        |\n",
      "|COVID-19 PFIZER - COMIRNATY              |4        |\n",
      "|JANSSEN-CILAG                            |1        |\n",
      "|COVID-19 SINOVAC/BUTANTAN - CORONAVAC    |1        |\n",
      "+-----------------------------------------+---------+\n",
      "\n"
     ]
    },
    {
     "name": "stderr",
     "output_type": "stream",
     "text": [
      "\r",
      "                                                                                \r"
     ]
    }
   ],
   "source": [
    "vac.groupBy(\"vacina_fabricante_nome\").count().orderBy(  F.col(\"count\").desc()   ).show(50,False)"
   ]
  },
  {
   "cell_type": "code",
   "execution_count": 11,
   "metadata": {},
   "outputs": [
    {
     "name": "stderr",
     "output_type": "stream",
     "text": [
      "[Stage 21:>                                                         (0 + 1) / 1]\r"
     ]
    },
    {
     "name": "stdout",
     "output_type": "stream",
     "text": [
      "+------------------------------+---------+\n",
      "|vacina_descricao_dose         |count    |\n",
      "+------------------------------+---------+\n",
      "|1ª Dose                       |193321480|\n",
      "|2ª Dose                       |173274355|\n",
      "|Reforço                       |122582884|\n",
      "|2º Reforço                    |45137781 |\n",
      "|Dose Adicional                |5381533  |\n",
      "|Dose                          |4769177  |\n",
      "|3ª Dose                       |2002624  |\n",
      "|4ª Dose                       |1325244  |\n",
      "|3º Reforço                    |1012476  |\n",
      "|1º Reforço                    |574309   |\n",
      "|Única                         |367416   |\n",
      "|2ª Dose Revacinação           |211137   |\n",
      "|4ª Dose Revacinação           |190459   |\n",
      "|1ª Dose Revacinação           |165955   |\n",
      "|3ª Dose Revacinação           |120493   |\n",
      "|4º Reforço                    |115555   |\n",
      "|Revacinação                   |68019    |\n",
      "|5ª Dose                       |6887     |\n",
      "|null                          |6012     |\n",
      "|5ª Dose Revacinação           |5199     |\n",
      "|Dose Inicial                  |1837     |\n",
      "|Tratamento com duas doses     |21       |\n",
      "|Tratamento com uma dose       |20       |\n",
      "|2ª Dose Fracionada            |12       |\n",
      "|1ª Dose Fracionada            |5        |\n",
      "|Tratamento com doze doses     |3        |\n",
      "|Tratamento com dez doses      |2        |\n",
      "|Tratamento com dezessete doses|2        |\n",
      "|Tratamento com onze doses     |2        |\n",
      "|Tratamento com quinze doses   |1        |\n",
      "|Tratamento com dezesseis doses|1        |\n",
      "|Tratamento com treze doses    |1        |\n",
      "|Tratamento com vinte doses    |1        |\n",
      "|Tratamento com quartorze doses|1        |\n",
      "|4ª Dose Fracionada            |1        |\n",
      "|6º Reforço                    |1        |\n",
      "|Tratamento com quatro doses   |1        |\n",
      "+------------------------------+---------+\n",
      "\n"
     ]
    },
    {
     "name": "stderr",
     "output_type": "stream",
     "text": [
      "\r",
      "                                                                                \r"
     ]
    }
   ],
   "source": [
    "vac.groupBy(\"vacina_descricao_dose\").count().orderBy(  F.col(\"count\").desc()   ).show(50,False)"
   ]
  },
  {
   "cell_type": "code",
   "execution_count": 12,
   "metadata": {},
   "outputs": [
    {
     "name": "stderr",
     "output_type": "stream",
     "text": [
      "[Stage 24:>                                                         (0 + 1) / 1]\r"
     ]
    },
    {
     "name": "stdout",
     "output_type": "stream",
     "text": [
      "+------------------------------------------------------+---------+\n",
      "|vacina_nome                                           |count    |\n",
      "+------------------------------------------------------+---------+\n",
      "|COVID-19 PFIZER - COMIRNATY                           |211045537|\n",
      "|COVID-19 ASTRAZENECA/FIOCRUZ - COVISHIELD             |155271459|\n",
      "|COVID-19 SINOVAC/BUTANTAN - CORONAVAC                 |118922823|\n",
      "|COVID-19 JANSSEN - Ad26.COV2.S                        |35493277 |\n",
      "|COVID-19 PEDIÁTRICA - PFIZER COMIRNATY                |12346210 |\n",
      "|COVID-19 ASTRAZENECA - ChAdOx1-S                      |7980477  |\n",
      "|COVID-19 PFIZER - COMIRNATY BIVALENTE                 |5310650  |\n",
      "|COVID-19 SINOVAC - CORONAVAC                          |1842183  |\n",
      "|COVID-19 PFIZER - COMIRNATY PEDIÁTRICA                |1371324  |\n",
      "|COVID-19 PFIZER - COMIRNATY PEDIÁTRICA MENOR DE 5 ANOS|1056941  |\n",
      "|INF3                                                  |26       |\n",
      "+------------------------------------------------------+---------+\n",
      "\n"
     ]
    },
    {
     "name": "stderr",
     "output_type": "stream",
     "text": [
      "\r",
      "                                                                                \r"
     ]
    }
   ],
   "source": [
    "vac.groupBy(\"vacina_nome\").count().orderBy(  F.col(\"count\").desc()   ).show(50,False)"
   ]
  },
  {
   "cell_type": "code",
   "execution_count": 21,
   "metadata": {},
   "outputs": [],
   "source": [
    "#vac_termos = vac.select(\"vacina_nome\",\"vacina_descricao_dose\",\"vacina_fabricante_nome\",\"vacina_categoria_nome\")"
   ]
  },
  {
   "cell_type": "code",
   "execution_count": 29,
   "metadata": {},
   "outputs": [
    {
     "name": "stdout",
     "output_type": "stream",
     "text": [
      "23/04/06 17:14:19 WARN CacheManager: Asked to cache already cached data.\n",
      "23/04/06 17:14:19 WARN CacheManager: Asked to cache already cached data.\n",
      "23/04/06 17:14:19 WARN CacheManager: Asked to cache already cached data.\n",
      "23/04/06 17:14:19 WARN CacheManager: Asked to cache already cached data.\n"
     ]
    }
   ],
   "source": [
    "vac_vacina_nome = vac.groupBy(\"vacina_nome\").count().orderBy(  F.col(\"count\").desc()   ).cache()\n",
    "vac_vacina_descricao_dose = vac.groupBy(\"vacina_descricao_dose\").count().orderBy(  F.col(\"count\").desc()   ).cache()\n",
    "vac_vacina_fabricante_nome = vac.groupBy(\"vacina_fabricante_nome\").count().orderBy(  F.col(\"count\").desc()   ).cache()\n",
    "vac_vacina_categoria_nome = vac.groupBy(\"vacina_categoria_nome\").count().orderBy(  F.col(\"count\").desc()   ).cache()"
   ]
  },
  {
   "cell_type": "code",
   "execution_count": 30,
   "metadata": {},
   "outputs": [],
   "source": [
    "vac_vacina_nome = vac_vacina_nome.withColumn(\"variavel\",F.lit(\"vacina_nome\"))\n",
    "vac_vacina_nome = vac_vacina_nome.withColumnRenamed(\"count\",\"n_registro\")\n",
    "vac_vacina_nome = vac_vacina_nome.withColumnRenamed(\"vacina_nome\",\"termo\")\n",
    "\n",
    "\n",
    "vac_vacina_descricao_dose = vac_vacina_descricao_dose.withColumn(\"variavel\",F.lit(\"vacina_descricao_dose\"))\n",
    "vac_vacina_descricao_dose = vac_vacina_descricao_dose.withColumnRenamed(\"count\",\"n_registro\")\n",
    "vac_vacina_descricao_dose = vac_vacina_descricao_dose.withColumnRenamed(\"vacina_descricao_dose\",\"termo\")\n",
    "\n",
    "\n",
    "vac_vacina_fabricante_nome = vac_vacina_fabricante_nome.withColumn(\"variavel\",F.lit(\"vacina_fabricante_nome\"))\n",
    "vac_vacina_fabricante_nome = vac_vacina_fabricante_nome.withColumnRenamed(\"count\",\"n_registro\")\n",
    "vac_vacina_fabricante_nome = vac_vacina_fabricante_nome.withColumnRenamed(\"vacina_fabricante_nome\",\"termo\")\n",
    "\n",
    "\n",
    "vac_vacina_categoria_nome = vac_vacina_categoria_nome.withColumn(\"variavel\",F.lit(\"vacina_categoria_nome\"))\n",
    "vac_vacina_categoria_nome = vac_vacina_categoria_nome.withColumnRenamed(\"count\",\"n_registro\")\n",
    "vac_vacina_categoria_nome = vac_vacina_categoria_nome.withColumnRenamed(\"vacina_categoria_nome\",\"termo\")"
   ]
  },
  {
   "cell_type": "code",
   "execution_count": 33,
   "metadata": {},
   "outputs": [
    {
     "name": "stderr",
     "output_type": "stream",
     "text": [
      "                                                                                \r"
     ]
    },
    {
     "name": "stdout",
     "output_type": "stream",
     "text": [
      "+----------------------+----------+---------------------+\n",
      "|termo                 |n_registro|variavel             |\n",
      "+----------------------+----------+---------------------+\n",
      "|Faixa Etária          |384975988 |vacina_categoria_nome|\n",
      "|Trabalhadores de Saúde|52290225  |vacina_categoria_nome|\n",
      "|Comorbidades          |43783339  |vacina_categoria_nome|\n",
      "+----------------------+----------+---------------------+\n",
      "only showing top 3 rows\n",
      "\n"
     ]
    }
   ],
   "source": [
    "vac_vacina_categoria_nome.show(3,False)"
   ]
  },
  {
   "cell_type": "code",
   "execution_count": 35,
   "metadata": {},
   "outputs": [],
   "source": [
    "vac_termos = vac_vacina_nome.unionByName(vac_vacina_descricao_dose)\n",
    "vac_termos = vac_termos.unionByName(vac_vacina_fabricante_nome)\n",
    "vac_termos = vac_termos.unionByName(vac_vacina_categoria_nome).cache()"
   ]
  },
  {
   "cell_type": "code",
   "execution_count": 36,
   "metadata": {},
   "outputs": [
    {
     "name": "stderr",
     "output_type": "stream",
     "text": [
      "                                                                                \r"
     ]
    },
    {
     "data": {
      "text/plain": [
       "96"
      ]
     },
     "execution_count": 36,
     "metadata": {},
     "output_type": "execute_result"
    }
   ],
   "source": [
    "vac_termos.count()"
   ]
  },
  {
   "cell_type": "code",
   "execution_count": 41,
   "metadata": {},
   "outputs": [],
   "source": [
    "vac_termos = vac_termos.withColumn(\"id_termo\",F.monotonically_increasing_id())"
   ]
  },
  {
   "cell_type": "code",
   "execution_count": 43,
   "metadata": {},
   "outputs": [],
   "source": [
    "vac_termos.toPandas().to_csv(\"/dados10t/datalake/standard/omop/lista_v1_termos_banco_vacinas_17032023.csv\",sep=\",\",index=False)"
   ]
  },
  {
   "cell_type": "code",
   "execution_count": 38,
   "metadata": {},
   "outputs": [
    {
     "name": "stdout",
     "output_type": "stream",
     "text": [
      "+------------------------------------------------------+----------+---------------------+\n",
      "|termo                                                 |n_registro|variavel             |\n",
      "+------------------------------------------------------+----------+---------------------+\n",
      "|COVID-19 PFIZER - COMIRNATY                           |211045537 |vacina_nome          |\n",
      "|COVID-19 ASTRAZENECA/FIOCRUZ - COVISHIELD             |155271459 |vacina_nome          |\n",
      "|COVID-19 SINOVAC/BUTANTAN - CORONAVAC                 |118922823 |vacina_nome          |\n",
      "|COVID-19 JANSSEN - Ad26.COV2.S                        |35493277  |vacina_nome          |\n",
      "|COVID-19 PEDIÁTRICA - PFIZER COMIRNATY                |12346210  |vacina_nome          |\n",
      "|COVID-19 ASTRAZENECA - ChAdOx1-S                      |7980477   |vacina_nome          |\n",
      "|COVID-19 PFIZER - COMIRNATY BIVALENTE                 |5310650   |vacina_nome          |\n",
      "|COVID-19 SINOVAC - CORONAVAC                          |1842183   |vacina_nome          |\n",
      "|COVID-19 PFIZER - COMIRNATY PEDIÁTRICA                |1371324   |vacina_nome          |\n",
      "|COVID-19 PFIZER - COMIRNATY PEDIÁTRICA MENOR DE 5 ANOS|1056941   |vacina_nome          |\n",
      "|INF3                                                  |26        |vacina_nome          |\n",
      "|1ª Dose                                               |193321480 |vacina_descricao_dose|\n",
      "|2ª Dose                                               |173274355 |vacina_descricao_dose|\n",
      "|Reforço                                               |122582884 |vacina_descricao_dose|\n",
      "|2º Reforço                                            |45137781  |vacina_descricao_dose|\n",
      "|Dose Adicional                                        |5381533   |vacina_descricao_dose|\n",
      "|Dose                                                  |4769177   |vacina_descricao_dose|\n",
      "|3ª Dose                                               |2002624   |vacina_descricao_dose|\n",
      "|4ª Dose                                               |1325244   |vacina_descricao_dose|\n",
      "|3º Reforço                                            |1012476   |vacina_descricao_dose|\n",
      "|1º Reforço                                            |574309    |vacina_descricao_dose|\n",
      "|Única                                                 |367416    |vacina_descricao_dose|\n",
      "|2ª Dose Revacinação                                   |211137    |vacina_descricao_dose|\n",
      "|4ª Dose Revacinação                                   |190459    |vacina_descricao_dose|\n",
      "|1ª Dose Revacinação                                   |165955    |vacina_descricao_dose|\n",
      "|3ª Dose Revacinação                                   |120493    |vacina_descricao_dose|\n",
      "|4º Reforço                                            |115555    |vacina_descricao_dose|\n",
      "|Revacinação                                           |68019     |vacina_descricao_dose|\n",
      "|5ª Dose                                               |6887      |vacina_descricao_dose|\n",
      "|null                                                  |6012      |vacina_descricao_dose|\n",
      "+------------------------------------------------------+----------+---------------------+\n",
      "only showing top 30 rows\n",
      "\n"
     ]
    }
   ],
   "source": [
    "vac_termos.show(30,False)"
   ]
  },
  {
   "cell_type": "code",
   "execution_count": 2,
   "metadata": {},
   "outputs": [
    {
     "name": "stdout",
     "output_type": "stream",
     "text": [
      "root\n",
      " |-- document_id: string (nullable = true)\n",
      " |-- id_paciente: string (nullable = true)\n",
      " |-- paciente_idade: double (nullable = true)\n",
      " |-- paciente_datanascimento: string (nullable = true)\n",
      " |-- paciente_enumsexobiologico: string (nullable = true)\n",
      " |-- paciente_racacor_codigo: string (nullable = true)\n",
      " |-- paciente_racacor_valor: string (nullable = true)\n",
      " |-- paciente_endereco_coibgemunicipio: string (nullable = true)\n",
      " |-- paciente_endereco_copais: string (nullable = true)\n",
      " |-- paciente_endereco_nmmunicipio: string (nullable = true)\n",
      " |-- paciente_endereco_nmpais: string (nullable = true)\n",
      " |-- paciente_endereco_uf: string (nullable = true)\n",
      " |-- paciente_endereco_cep: string (nullable = true)\n",
      " |-- paciente_nacionalidade_enumnacionalidade: string (nullable = true)\n",
      " |-- estabelecimento_valor: string (nullable = true)\n",
      " |-- estabelecimento_razaosocial: string (nullable = true)\n",
      " |-- estalecimento_nofantasia: string (nullable = true)\n",
      " |-- estabelecimento_municipio_codigo: string (nullable = true)\n",
      " |-- estabelecimento_municipio_nome: string (nullable = true)\n",
      " |-- estabelecimento_uf: string (nullable = true)\n",
      " |-- vacina_grupoatendimento_codigo: string (nullable = true)\n",
      " |-- vacina_grupoatendimento_nome: string (nullable = true)\n",
      " |-- vacina_categoria_codigo: string (nullable = true)\n",
      " |-- vacina_categoria_nome: string (nullable = true)\n",
      " |-- vacina_lote: string (nullable = true)\n",
      " |-- vacina_fabricante_nome: string (nullable = true)\n",
      " |-- vacina_fabricante_referencia: string (nullable = true)\n",
      " |-- vacina_dataaplicacao: date (nullable = true)\n",
      " |-- vacina_descricao_dose: string (nullable = true)\n",
      " |-- vacina_codigo: string (nullable = true)\n",
      " |-- vacina_nome: string (nullable = true)\n",
      " |-- sistema_origem: string (nullable = true)\n",
      " |-- data_importacao_datalake: timestamp (nullable = true)\n",
      " |-- data_importacao_rnds: timestamp (nullable = true)\n",
      " |-- id_sistema_origem: string (nullable = true)\n",
      " |-- dt_deleted: string (nullable = true)\n",
      " |-- status: string (nullable = true)\n",
      " |-- vacina_numdose: string (nullable = true)\n",
      " |-- co_condicao_maternal: double (nullable = true)\n",
      " |-- ds_condicao_maternal: string (nullable = true)\n",
      "\n"
     ]
    }
   ],
   "source": [
    "vac.printSchema()"
   ]
  }
 ],
 "metadata": {
  "kernelspec": {
   "display_name": "Python 3",
   "language": "python",
   "name": "python3"
  },
  "language_info": {
   "codemirror_mode": {
    "name": "ipython",
    "version": 3
   },
   "file_extension": ".py",
   "mimetype": "text/x-python",
   "name": "python",
   "nbconvert_exporter": "python",
   "pygments_lexer": "ipython3",
   "version": "3.7.9"
  }
 },
 "nbformat": 4,
 "nbformat_minor": 5
}
