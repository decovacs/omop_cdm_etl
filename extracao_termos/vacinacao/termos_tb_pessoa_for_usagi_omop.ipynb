{
 "cells": [
  {
   "cell_type": "code",
   "execution_count": 1,
   "id": "6d09d8fd",
   "metadata": {},
   "outputs": [
    {
     "data": {
      "text/html": [
       "<style>.container { width:100% !important; }</style>"
      ],
      "text/plain": [
       "<IPython.core.display.HTML object>"
      ]
     },
     "metadata": {},
     "output_type": "display_data"
    }
   ],
   "source": [
    "from IPython.core.display import display, HTML\n",
    "display(HTML(\"<style>.container { width:100% !important; }</style>\"))\n",
    "from pyspark.sql import functions as F\n",
    "from pyspark.sql.types import *"
   ]
  },
  {
   "cell_type": "code",
   "execution_count": 2,
   "id": "80bdd500",
   "metadata": {},
   "outputs": [
    {
     "name": "stderr",
     "output_type": "stream",
     "text": [
      "                                                                                \r"
     ]
    }
   ],
   "source": [
    "vac  = spark.read.parquet(\"/dados10t/datalake/standard/dados_datasus/vacinacao/vacinacao07072022_pessoasunicas_5doses_v17.parquet/\")"
   ]
  },
  {
   "cell_type": "code",
   "execution_count": 42,
   "id": "06bee308",
   "metadata": {},
   "outputs": [
    {
     "data": {
      "text/plain": [
       "[Row(d_sexo='M', d_codibge='290210', d_idade=33.0, d_racacor='PARDA', d_paciente_endereco_uf='BA', d_total_regitros_dedup=2.0, d1_nome_vacina='Covid-19-AstraZeneca', d1_data_aplicacao=datetime.date(2021, 5, 28), d1_estab_mun_codigo='290210', d1_estab_valor='6848079', d1_vacina_grupoAtendimento_nome='Doenças Cardiovasculares e Cerebrovasculares', d1_vacina_categoria_nome='Comorbidades', d1_vacina_dose='1ª Dose', d2_nome_vacina='Covid-19-AstraZeneca', d2_data_aplicacao=datetime.date(2021, 8, 26), d2_estab_mun_codigo='290210', d2_estab_valor='6848079', d2_vacina_grupoAtendimento_nome='Doenças Cardiovasculares e Cerebrovasculares', d2_vacina_categoria_nome='Comorbidades', d2_vacina_dose='2ª Dose', d3_nome_vacina=None, d3_data_aplicacao=None, d3_estab_mun_codigo=None, d3_estab_valor=None, d3_vacina_grupoAtendimento_nome=None, d3_vacina_categoria_nome=None, d3_vacina_dose=None, d4_nome_vacina=None, d4_data_aplicacao=None, d4_estab_mun_codigo=None, d4_estab_valor=None, d4_vacina_grupoAtendimento_nome=None, d4_vacina_categoria_nome=None, d4_vacina_dose=None, d5_nome_vacina=None, d5_data_aplicacao=None, d5_estab_mun_codigo=None, d5_estab_valor=None, d5_vacina_grupoAtendimento_nome=None, d5_vacina_categoria_nome=None, d5_vacina_dose=None, total_registros_vacinacao=2.0, inconsistente=None, id_vigvac=463856467968, lang='en', sexo_omop='Masculino', sexo_omop_en='Male', raca_omop='PARDA', raca_omop_en='Black'),\n",
       " Row(d_sexo='M', d_codibge='355030', d_idade=13.0, d_racacor=None, d_paciente_endereco_uf='SP', d_total_regitros_dedup=1.0, d1_nome_vacina='Vacina covid-19 - BNT162b2 - BioNTech/Fosun Pharma/Pfizer', d1_data_aplicacao=datetime.date(2021, 9, 11), d1_estab_mun_codigo='351060', d1_estab_valor='7347103', d1_vacina_grupoAtendimento_nome='Pessoas de 12 a 17 anos', d1_vacina_categoria_nome='Faixa Etária', d1_vacina_dose='1ª Dose', d2_nome_vacina=None, d2_data_aplicacao=None, d2_estab_mun_codigo=None, d2_estab_valor=None, d2_vacina_grupoAtendimento_nome=None, d2_vacina_categoria_nome=None, d2_vacina_dose=None, d3_nome_vacina=None, d3_data_aplicacao=None, d3_estab_mun_codigo=None, d3_estab_valor=None, d3_vacina_grupoAtendimento_nome=None, d3_vacina_categoria_nome=None, d3_vacina_dose=None, d4_nome_vacina=None, d4_data_aplicacao=None, d4_estab_mun_codigo=None, d4_estab_valor=None, d4_vacina_grupoAtendimento_nome=None, d4_vacina_categoria_nome=None, d4_vacina_dose=None, d5_nome_vacina=None, d5_data_aplicacao=None, d5_estab_mun_codigo=None, d5_estab_valor=None, d5_vacina_grupoAtendimento_nome=None, d5_vacina_categoria_nome=None, d5_vacina_dose=None, total_registros_vacinacao=1.0, inconsistente=None, id_vigvac=463856467969, lang='en', sexo_omop='Masculino', sexo_omop_en='Male', raca_omop=None, raca_omop_en=None),\n",
       " Row(d_sexo='F', d_codibge='292260', d_idade=30.0, d_racacor='BRANCA', d_paciente_endereco_uf='BA', d_total_regitros_dedup=3.0, d1_nome_vacina='Vacina covid-19 - BNT162b2 - BioNTech/Fosun Pharma/Pfizer', d1_data_aplicacao=datetime.date(2021, 6, 23), d1_estab_mun_codigo='292260', d1_estab_valor='2506157', d1_vacina_grupoAtendimento_nome='Gestante', d1_vacina_categoria_nome='Gestantes', d1_vacina_dose='1ª Dose', d2_nome_vacina='Vacina covid-19 - BNT162b2 - BioNTech/Fosun Pharma/Pfizer', d2_data_aplicacao=datetime.date(2021, 10, 19), d2_estab_mun_codigo='290540', d2_estab_valor='6741096', d2_vacina_grupoAtendimento_nome='Gestante', d2_vacina_categoria_nome='Gestantes', d2_vacina_dose='2ª Dose', d3_nome_vacina='Vacina covid-19 - BNT162b2 - BioNTech/Fosun Pharma/Pfizer', d3_data_aplicacao=datetime.date(2022, 3, 2), d3_estab_mun_codigo='290540', d3_estab_valor='6741096', d3_vacina_grupoAtendimento_nome='Gestante', d3_vacina_categoria_nome='Gestantes', d3_vacina_dose='Reforço', d4_nome_vacina=None, d4_data_aplicacao=None, d4_estab_mun_codigo=None, d4_estab_valor=None, d4_vacina_grupoAtendimento_nome=None, d4_vacina_categoria_nome=None, d4_vacina_dose=None, d5_nome_vacina=None, d5_data_aplicacao=None, d5_estab_mun_codigo=None, d5_estab_valor=None, d5_vacina_grupoAtendimento_nome=None, d5_vacina_categoria_nome=None, d5_vacina_dose=None, total_registros_vacinacao=3.0, inconsistente=None, id_vigvac=463856467970, lang='en', sexo_omop='Feminino', sexo_omop_en='Female', raca_omop='BRANCA', raca_omop_en='White')]"
      ]
     },
     "execution_count": 42,
     "metadata": {},
     "output_type": "execute_result"
    }
   ],
   "source": [
    "vac.take(3)"
   ]
  },
  {
   "cell_type": "code",
   "execution_count": 41,
   "id": "24c44237",
   "metadata": {},
   "outputs": [
    {
     "name": "stdout",
     "output_type": "stream",
     "text": [
      "root\n",
      " |-- d_sexo: string (nullable = true)\n",
      " |-- d_codibge: string (nullable = true)\n",
      " |-- d_idade: double (nullable = true)\n",
      " |-- d_racacor: string (nullable = true)\n",
      " |-- d_paciente_endereco_uf: string (nullable = true)\n",
      " |-- d_total_regitros_dedup: double (nullable = true)\n",
      " |-- d1_nome_vacina: string (nullable = true)\n",
      " |-- d1_data_aplicacao: date (nullable = true)\n",
      " |-- d1_estab_mun_codigo: string (nullable = true)\n",
      " |-- d1_estab_valor: string (nullable = true)\n",
      " |-- d1_vacina_grupoAtendimento_nome: string (nullable = true)\n",
      " |-- d1_vacina_categoria_nome: string (nullable = true)\n",
      " |-- d1_vacina_dose: string (nullable = true)\n",
      " |-- d2_nome_vacina: string (nullable = true)\n",
      " |-- d2_data_aplicacao: date (nullable = true)\n",
      " |-- d2_estab_mun_codigo: string (nullable = true)\n",
      " |-- d2_estab_valor: string (nullable = true)\n",
      " |-- d2_vacina_grupoAtendimento_nome: string (nullable = true)\n",
      " |-- d2_vacina_categoria_nome: string (nullable = true)\n",
      " |-- d2_vacina_dose: string (nullable = true)\n",
      " |-- d3_nome_vacina: string (nullable = true)\n",
      " |-- d3_data_aplicacao: date (nullable = true)\n",
      " |-- d3_estab_mun_codigo: string (nullable = true)\n",
      " |-- d3_estab_valor: string (nullable = true)\n",
      " |-- d3_vacina_grupoAtendimento_nome: string (nullable = true)\n",
      " |-- d3_vacina_categoria_nome: string (nullable = true)\n",
      " |-- d3_vacina_dose: string (nullable = true)\n",
      " |-- d4_nome_vacina: string (nullable = true)\n",
      " |-- d4_data_aplicacao: date (nullable = true)\n",
      " |-- d4_estab_mun_codigo: string (nullable = true)\n",
      " |-- d4_estab_valor: string (nullable = true)\n",
      " |-- d4_vacina_grupoAtendimento_nome: string (nullable = true)\n",
      " |-- d4_vacina_categoria_nome: string (nullable = true)\n",
      " |-- d4_vacina_dose: string (nullable = true)\n",
      " |-- d5_nome_vacina: string (nullable = true)\n",
      " |-- d5_data_aplicacao: date (nullable = true)\n",
      " |-- d5_estab_mun_codigo: string (nullable = true)\n",
      " |-- d5_estab_valor: string (nullable = true)\n",
      " |-- d5_vacina_grupoAtendimento_nome: string (nullable = true)\n",
      " |-- d5_vacina_categoria_nome: string (nullable = true)\n",
      " |-- d5_vacina_dose: string (nullable = true)\n",
      " |-- total_registros_vacinacao: double (nullable = true)\n",
      " |-- inconsistente: string (nullable = true)\n",
      " |-- id_vigvac: long (nullable = true)\n",
      " |-- lang: string (nullable = false)\n",
      " |-- sexo_omop: string (nullable = true)\n",
      " |-- sexo_omop_en: string (nullable = true)\n",
      " |-- raca_omop: string (nullable = true)\n",
      " |-- raca_omop_en: string (nullable = true)\n",
      "\n"
     ]
    }
   ],
   "source": [
    "vac.printSchema()"
   ]
  },
  {
   "cell_type": "code",
   "execution_count": 3,
   "id": "608d382d",
   "metadata": {},
   "outputs": [],
   "source": [
    "srag  = spark.read.parquet(\"/dados10t/datalake/standard/dados_datasus/srag/dbsrag_tb_influd_long_09072022_v8.parquet/\")"
   ]
  },
  {
   "cell_type": "code",
   "execution_count": 4,
   "id": "05f40f16",
   "metadata": {},
   "outputs": [],
   "source": [
    "sg  = spark.read.parquet(\"/dados10t/datalake/standard/dados_datasus/SG/sg_long_09072022_v9.parquet/\")"
   ]
  },
  {
   "cell_type": "code",
   "execution_count": 5,
   "id": "f05dfa00",
   "metadata": {},
   "outputs": [
    {
     "name": "stderr",
     "output_type": "stream",
     "text": [
      "[Stage 3:============================================>           (40 + 10) / 50]\r"
     ]
    },
    {
     "name": "stdout",
     "output_type": "stream",
     "text": [
      "+------+--------+\n",
      "|d_sexo|count   |\n",
      "+------+--------+\n",
      "|F     |95510810|\n",
      "|M     |88245694|\n",
      "|I     |3437    |\n",
      "+------+--------+\n",
      "\n"
     ]
    },
    {
     "name": "stderr",
     "output_type": "stream",
     "text": [
      "\r",
      "                                                                                \r"
     ]
    }
   ],
   "source": [
    "vac.groupBy(\"d_sexo\").count().orderBy(F.desc(\"count\")).show(300,False) "
   ]
  },
  {
   "cell_type": "code",
   "execution_count": 6,
   "id": "5f790edc",
   "metadata": {},
   "outputs": [
    {
     "name": "stdout",
     "output_type": "stream",
     "text": [
      "+-------+-------+\n",
      "|cs_sexo|count  |\n",
      "+-------+-------+\n",
      "|M      |1344547|\n",
      "|F      |1142513|\n",
      "|I      |25     |\n",
      "+-------+-------+\n",
      "\n"
     ]
    }
   ],
   "source": [
    "srag.groupBy(\"cs_sexo\").count().orderBy(F.desc(\"count\")).show(300,False) "
   ]
  },
  {
   "cell_type": "code",
   "execution_count": 7,
   "id": "8e2854ac",
   "metadata": {},
   "outputs": [
    {
     "name": "stderr",
     "output_type": "stream",
     "text": [
      "[Stage 9:=======================================================> (33 + 1) / 34]\r"
     ]
    },
    {
     "name": "stdout",
     "output_type": "stream",
     "text": [
      "+----------+--------+\n",
      "|sexo_2    |count   |\n",
      "+----------+--------+\n",
      "|Feminino  |45511625|\n",
      "|Masculino |37301161|\n",
      "|Indefinido|82953   |\n",
      "|null      |780     |\n",
      "+----------+--------+\n",
      "\n"
     ]
    },
    {
     "name": "stderr",
     "output_type": "stream",
     "text": [
      "\r",
      "                                                                                \r"
     ]
    }
   ],
   "source": [
    "sg.groupBy(\"sexo_2\").count().orderBy(F.desc(\"count\")).show(300,False) "
   ]
  },
  {
   "cell_type": "code",
   "execution_count": 5,
   "id": "da450c08",
   "metadata": {},
   "outputs": [],
   "source": [
    "def sex_harmo(var,idioma=\"pt-br\"): #\n",
    "    if idioma == \"pt-br\":\n",
    "        if var ==\"M\" or var == \"Masculino\":\n",
    "            return \"Masculino\"\n",
    "        elif var == 'F' or var == \"Feminino\":\n",
    "            return \"Feminino\"\n",
    "    if idioma == \"en\":\n",
    "        if var ==\"M\" or var == \"Masculino\":\n",
    "            return \"Male\"\n",
    "        elif var == \"F\" or var == \"Feminino\":\n",
    "            return \"Female\"\n",
    "    \n",
    "        \n",
    "        \n",
    "def raca_harmo(var,idioma=\"pt-br\"): #\n",
    "    if idioma == \"pt-br\":\n",
    "        pass\n",
    "    elif idioma == \"en\":\n",
    "        if var ==\"BRANCA\":\n",
    "            return \"White\"\n",
    "        elif var == \"PRETA\" or var == \"PARDA\":\n",
    "            return \"Black\"\n",
    "        elif var == \"INDIGENA\":\n",
    "            return \"American Indian\"\n",
    "        elif var == \"AMARELA\":\n",
    "            return \"Asian\"\n",
    "    \n"
   ]
  },
  {
   "cell_type": "code",
   "execution_count": 6,
   "id": "28697ea5",
   "metadata": {},
   "outputs": [],
   "source": [
    "udf_sex_omop = F.udf(sex_harmo,StringType() )\n",
    "\n",
    "udf_race_omop = F.udf(raca_harmo,StringType() )"
   ]
  },
  {
   "cell_type": "code",
   "execution_count": 31,
   "id": "462557b6",
   "metadata": {},
   "outputs": [],
   "source": [
    "vac = vac.withColumn(\"lang\",F.lit(\"en\"))\n",
    "sg = sg.withColumn(\"lang\",F.lit(\"en\"))\n",
    "srag = srag.withColumn(\"lang\",F.lit(\"en\"))"
   ]
  },
  {
   "cell_type": "code",
   "execution_count": 8,
   "id": "374b5b6a",
   "metadata": {},
   "outputs": [],
   "source": [
    "vac = vac.withColumn(\"sexo_omop\",udf_sex_omop(F.col(\"d_sexo\")))\n",
    "vac = vac.withColumn(\"sexo_omop_en\", udf_sex_omop( F.col(\"d_sexo\"),F.col(\"lang\") ))\n",
    "\n",
    "\n",
    "sg = sg.withColumn(\"sexo_omop\",udf_sex_omop(F.col(\"sexo_2\")))\n",
    "sg = sg.withColumn(\"sexo_omop_en\", udf_sex_omop( \"sexo_2\",\"lang\" ))\n",
    "\n",
    "\n",
    "srag = srag.withColumn(\"sexo_omop\",udf_sex_omop(F.col(\"cs_sexo\")))\n",
    "srag = srag.withColumn(\"sexo_omop_en\", udf_sex_omop( \"cs_sexo\",\"lang\" ))"
   ]
  },
  {
   "cell_type": "code",
   "execution_count": 12,
   "id": "edb69129",
   "metadata": {},
   "outputs": [
    {
     "name": "stderr",
     "output_type": "stream",
     "text": [
      "[Stage 12:=====================================================>  (48 + 2) / 50]\r"
     ]
    },
    {
     "name": "stdout",
     "output_type": "stream",
     "text": [
      "+---------+--------+\n",
      "|sexo_omop|count   |\n",
      "+---------+--------+\n",
      "|Feminino |95510810|\n",
      "|Masculino|88245694|\n",
      "|null     |3437    |\n",
      "+---------+--------+\n",
      "\n"
     ]
    },
    {
     "name": "stderr",
     "output_type": "stream",
     "text": [
      "\r",
      "                                                                                \r"
     ]
    }
   ],
   "source": [
    "vac.groupBy(\"sexo_omop\").count().orderBy(F.desc(\"count\")).show(300,False) "
   ]
  },
  {
   "cell_type": "code",
   "execution_count": 13,
   "id": "1f70f289",
   "metadata": {},
   "outputs": [
    {
     "name": "stderr",
     "output_type": "stream",
     "text": [
      "[Stage 15:======================================================> (49 + 1) / 50]\r"
     ]
    },
    {
     "name": "stdout",
     "output_type": "stream",
     "text": [
      "+------------+--------+\n",
      "|sexo_omop_en|count   |\n",
      "+------------+--------+\n",
      "|Female      |95510810|\n",
      "|Male        |88245694|\n",
      "|null        |3437    |\n",
      "+------------+--------+\n",
      "\n"
     ]
    },
    {
     "name": "stderr",
     "output_type": "stream",
     "text": [
      "\r",
      "                                                                                \r"
     ]
    }
   ],
   "source": [
    "vac.groupBy(\"sexo_omop_en\").count().orderBy(F.desc(\"count\")).show(300,False) "
   ]
  },
  {
   "cell_type": "code",
   "execution_count": 14,
   "id": "c2059afe",
   "metadata": {},
   "outputs": [
    {
     "name": "stderr",
     "output_type": "stream",
     "text": [
      "[Stage 18:======================================================> (33 + 1) / 34]\r"
     ]
    },
    {
     "name": "stdout",
     "output_type": "stream",
     "text": [
      "+---------+--------+\n",
      "|sexo_omop|count   |\n",
      "+---------+--------+\n",
      "|Feminino |45511625|\n",
      "|Masculino|37301161|\n",
      "|null     |83733   |\n",
      "+---------+--------+\n",
      "\n"
     ]
    },
    {
     "name": "stderr",
     "output_type": "stream",
     "text": [
      "\r",
      "                                                                                \r"
     ]
    }
   ],
   "source": [
    "sg.groupBy(\"sexo_omop\").count().orderBy(F.desc(\"count\")).show(300,False) "
   ]
  },
  {
   "cell_type": "code",
   "execution_count": 15,
   "id": "6821a423",
   "metadata": {},
   "outputs": [
    {
     "name": "stderr",
     "output_type": "stream",
     "text": [
      "[Stage 21:======================================================> (33 + 1) / 34]\r"
     ]
    },
    {
     "name": "stdout",
     "output_type": "stream",
     "text": [
      "+------------+--------+\n",
      "|sexo_omop_en|count   |\n",
      "+------------+--------+\n",
      "|Female      |45511625|\n",
      "|Male        |37301161|\n",
      "|null        |83733   |\n",
      "+------------+--------+\n",
      "\n"
     ]
    },
    {
     "name": "stderr",
     "output_type": "stream",
     "text": [
      "\r",
      "                                                                                \r"
     ]
    }
   ],
   "source": [
    "sg.groupBy(\"sexo_omop_en\").count().orderBy(F.desc(\"count\")).show(300,False) "
   ]
  },
  {
   "cell_type": "code",
   "execution_count": 16,
   "id": "31156557",
   "metadata": {},
   "outputs": [
    {
     "name": "stdout",
     "output_type": "stream",
     "text": [
      "+---------+-------+\n",
      "|sexo_omop|count  |\n",
      "+---------+-------+\n",
      "|Masculino|1344547|\n",
      "|Feminino |1142513|\n",
      "|null     |25     |\n",
      "+---------+-------+\n",
      "\n"
     ]
    }
   ],
   "source": [
    "srag.groupBy(\"sexo_omop\").count().orderBy(F.desc(\"count\")).show(300,False) "
   ]
  },
  {
   "cell_type": "code",
   "execution_count": 17,
   "id": "6622b919",
   "metadata": {
    "scrolled": false
   },
   "outputs": [
    {
     "name": "stderr",
     "output_type": "stream",
     "text": [
      "\r",
      "[Stage 27:============================================>           (23 + 6) / 29]\r"
     ]
    },
    {
     "name": "stdout",
     "output_type": "stream",
     "text": [
      "+------------+-------+\n",
      "|sexo_omop_en|count  |\n",
      "+------------+-------+\n",
      "|Male        |1344547|\n",
      "|Female      |1142513|\n",
      "|null        |25     |\n",
      "+------------+-------+\n",
      "\n"
     ]
    },
    {
     "name": "stderr",
     "output_type": "stream",
     "text": [
      "\r",
      "                                                                                \r"
     ]
    }
   ],
   "source": [
    "srag.groupBy(\"sexo_omop_en\").count().orderBy(F.desc(\"count\")).show(300,False) "
   ]
  },
  {
   "cell_type": "code",
   "execution_count": 9,
   "id": "5a5a7dff",
   "metadata": {},
   "outputs": [],
   "source": [
    "def raca_harmo(var,idioma=\"pt-br\"): #\n",
    "    if var:\n",
    "        var = var.upper()\n",
    "        if idioma == \"pt-br\":\n",
    "            return var\n",
    "        elif idioma == \"en\":\n",
    "            if var ==\"BRANCA\":\n",
    "                return \"White\"\n",
    "            elif var == \"PRETA\" or var == \"PARDA\":\n",
    "                return \"Black\"\n",
    "            elif var == \"INDIGENA\":\n",
    "                return \"American Indian\"\n",
    "            elif var == \"AMARELA\":\n",
    "                return \"Asian\"\n",
    "            \n",
    "            \n",
    "def fix_raca_srag(raca):\n",
    "    raca = str(raca)\n",
    "    if raca:\n",
    "        if raca == \"1\":\n",
    "            return \"BRANCA\"\n",
    "        elif raca == \"2\":\n",
    "            return \"PRETA\"\n",
    "        elif raca == \"3\":\n",
    "            return \"AMARELA\"\n",
    "        elif raca == \"4\":\n",
    "            return \"PARDA\"\n",
    "        elif raca == \"5\":\n",
    "            return \"INDIGENA\"\n",
    "    \n"
   ]
  },
  {
   "cell_type": "code",
   "execution_count": 10,
   "id": "d4d11ae0",
   "metadata": {},
   "outputs": [],
   "source": [
    "udf_race_omop = F.udf(raca_harmo,StringType() )\n",
    "udf_fix_raca_srag = F.udf(fix_raca_srag,StringType() )"
   ]
  },
  {
   "cell_type": "code",
   "execution_count": null,
   "id": "05264d9e",
   "metadata": {},
   "outputs": [],
   "source": []
  },
  {
   "cell_type": "code",
   "execution_count": 11,
   "id": "c3e9be95",
   "metadata": {},
   "outputs": [],
   "source": [
    "vac = vac.withColumn(\"raca_omop\",udf_race_omop(F.col(\"d_racacor\")))\n",
    "vac = vac.withColumn(\"raca_omop_en\", udf_race_omop( F.trim(F.col(\"d_racacor\")),F.col(\"lang\") ))\n",
    "\n",
    "\n",
    "sg = sg.withColumn(\"raca_omop\",udf_race_omop(F.col(\"racacor_2\")))\n",
    "sg = sg.withColumn(\"raca_omop_en\", udf_race_omop( \"racacor_2\",\"lang\" ))\n",
    "\n",
    "\n",
    "srag = srag.withColumn(\"raca_omop\",udf_fix_raca_srag(F.col(\"cs_raca\")))\n",
    "srag = srag.withColumn(\"raca_omop_en\", udf_race_omop( \"raca_omop\",\"lang\" ))"
   ]
  },
  {
   "cell_type": "code",
   "execution_count": 21,
   "id": "a8fda213",
   "metadata": {
    "scrolled": true
   },
   "outputs": [
    {
     "name": "stderr",
     "output_type": "stream",
     "text": [
      "[Stage 30:======================================================> (49 + 1) / 50]\r"
     ]
    },
    {
     "name": "stdout",
     "output_type": "stream",
     "text": [
      "+---------+--------+\n",
      "|raca_omop|count   |\n",
      "+---------+--------+\n",
      "|BRANCA   |61517395|\n",
      "|null     |45074568|\n",
      "|PARDA    |42199385|\n",
      "|AMARELA  |26604921|\n",
      "|PRETA    |7806738 |\n",
      "|INDIGENA |556934  |\n",
      "+---------+--------+\n",
      "\n"
     ]
    },
    {
     "name": "stderr",
     "output_type": "stream",
     "text": [
      "\r",
      "                                                                                \r"
     ]
    }
   ],
   "source": [
    "vac.groupBy(\"raca_omop\").count().orderBy(F.desc(\"count\")).show(300,False) "
   ]
  },
  {
   "cell_type": "code",
   "execution_count": 22,
   "id": "be171585",
   "metadata": {},
   "outputs": [
    {
     "name": "stderr",
     "output_type": "stream",
     "text": [
      "[Stage 33:=====================================================>  (48 + 2) / 50]\r"
     ]
    },
    {
     "name": "stdout",
     "output_type": "stream",
     "text": [
      "+---------------+--------+\n",
      "|raca_omop_en   |count   |\n",
      "+---------------+--------+\n",
      "|White          |61517395|\n",
      "|Black          |50006123|\n",
      "|null           |45074568|\n",
      "|Asian          |26604921|\n",
      "|American Indian|556934  |\n",
      "+---------------+--------+\n",
      "\n"
     ]
    },
    {
     "name": "stderr",
     "output_type": "stream",
     "text": [
      "\r",
      "                                                                                \r"
     ]
    }
   ],
   "source": [
    "vac.groupBy(\"raca_omop_en\").count().orderBy(F.desc(\"count\")).show(300,False) "
   ]
  },
  {
   "cell_type": "code",
   "execution_count": 23,
   "id": "67cfd5e5",
   "metadata": {},
   "outputs": [
    {
     "name": "stderr",
     "output_type": "stream",
     "text": [
      "[Stage 36:======================================================> (33 + 1) / 34]\r"
     ]
    },
    {
     "name": "stdout",
     "output_type": "stream",
     "text": [
      "+-------------+--------+\n",
      "|raca_omop    |count   |\n",
      "+-------------+--------+\n",
      "|BRANCA       |31615421|\n",
      "|PARDA        |25570173|\n",
      "|null         |19866924|\n",
      "|PRETA        |3218746 |\n",
      "|AMARELA      |2456329 |\n",
      "|INDIGENA     |168924  |\n",
      "|NÃO INFORMADO|2       |\n",
      "+-------------+--------+\n",
      "\n"
     ]
    },
    {
     "name": "stderr",
     "output_type": "stream",
     "text": [
      "\r",
      "                                                                                \r"
     ]
    }
   ],
   "source": [
    "sg.groupBy(\"raca_omop\").count().orderBy(F.desc(\"count\")).show(300,False) "
   ]
  },
  {
   "cell_type": "code",
   "execution_count": 24,
   "id": "cba5f0d3",
   "metadata": {},
   "outputs": [
    {
     "name": "stderr",
     "output_type": "stream",
     "text": [
      "[Stage 39:======================================================> (33 + 1) / 34]\r"
     ]
    },
    {
     "name": "stdout",
     "output_type": "stream",
     "text": [
      "+---------------+--------+\n",
      "|raca_omop_en   |count   |\n",
      "+---------------+--------+\n",
      "|White          |31615421|\n",
      "|Black          |28788919|\n",
      "|null           |19866926|\n",
      "|Asian          |2456329 |\n",
      "|American Indian|168924  |\n",
      "+---------------+--------+\n",
      "\n"
     ]
    },
    {
     "name": "stderr",
     "output_type": "stream",
     "text": [
      "\r",
      "                                                                                \r"
     ]
    }
   ],
   "source": [
    "sg.groupBy(\"raca_omop_en\").count().orderBy(F.desc(\"count\")).show(300,False) "
   ]
  },
  {
   "cell_type": "code",
   "execution_count": 25,
   "id": "e14dbab0",
   "metadata": {},
   "outputs": [
    {
     "name": "stdout",
     "output_type": "stream",
     "text": [
      "+-------+-------+\n",
      "|cs_raca|count  |\n",
      "+-------+-------+\n",
      "|1      |1098563|\n",
      "|4      |821187 |\n",
      "|9      |403505 |\n",
      "|2      |107781 |\n",
      "|null   |27250  |\n",
      "|3      |24113  |\n",
      "|5      |4686   |\n",
      "+-------+-------+\n",
      "\n"
     ]
    }
   ],
   "source": [
    "srag.groupBy(\"cs_raca\").count().orderBy(F.desc(\"count\")).show(300,False) "
   ]
  },
  {
   "cell_type": "code",
   "execution_count": 26,
   "id": "695f5f6f",
   "metadata": {},
   "outputs": [
    {
     "name": "stdout",
     "output_type": "stream",
     "text": [
      "+---------+-------+\n",
      "|raca_omop|count  |\n",
      "+---------+-------+\n",
      "|BRANCA   |1098563|\n",
      "|PARDA    |821187 |\n",
      "|null     |430755 |\n",
      "|PRETA    |107781 |\n",
      "|AMARELA  |24113  |\n",
      "|INDIGENA |4686   |\n",
      "+---------+-------+\n",
      "\n"
     ]
    }
   ],
   "source": [
    "srag.groupBy(\"raca_omop\").count().orderBy(F.desc(\"count\")).show(300,False) "
   ]
  },
  {
   "cell_type": "code",
   "execution_count": 27,
   "id": "41ff4bfb",
   "metadata": {},
   "outputs": [
    {
     "name": "stderr",
     "output_type": "stream",
     "text": [
      "[Stage 48:======================================================> (28 + 1) / 29]\r"
     ]
    },
    {
     "name": "stdout",
     "output_type": "stream",
     "text": [
      "+---------------+-------+\n",
      "|raca_omop_en   |count  |\n",
      "+---------------+-------+\n",
      "|White          |1098563|\n",
      "|Black          |928968 |\n",
      "|null           |430755 |\n",
      "|Asian          |24113  |\n",
      "|American Indian|4686   |\n",
      "+---------------+-------+\n",
      "\n"
     ]
    },
    {
     "name": "stderr",
     "output_type": "stream",
     "text": [
      "\r",
      "                                                                                \r"
     ]
    }
   ],
   "source": [
    "srag.groupBy(\"raca_omop_en\").count().orderBy(F.desc(\"count\")).show(300,False) "
   ]
  },
  {
   "cell_type": "code",
   "execution_count": 12,
   "id": "43bd4701",
   "metadata": {},
   "outputs": [],
   "source": [
    "#teste2 = srag.groupBy(\"id_vigvac\").agg(F.collect_set(\"sexo_omop_en\").alias(\"sexo_set\"),F.collect_list(\"sexo_omop_en\").alias(\"sexo_list\") ).cache()"
   ]
  },
  {
   "cell_type": "code",
   "execution_count": 13,
   "id": "15b0cce9",
   "metadata": {},
   "outputs": [],
   "source": [
    "#teste2 = teste2.withColumn(\"qtd_sexo\",F.size(\"sexo_list\"))\n",
    "#teste2 = teste2.withColumn(\"qtd_sexo_diff\",F.size(\"sexo_set\"))"
   ]
  },
  {
   "cell_type": "code",
   "execution_count": 14,
   "id": "e0e3ff66",
   "metadata": {},
   "outputs": [],
   "source": [
    "#teste2.orderBy(F.desc(\"qtd_sexo_diff\")).show(30,False) #validar escolha do mais frequente"
   ]
  },
  {
   "cell_type": "code",
   "execution_count": 15,
   "id": "1356ca49",
   "metadata": {},
   "outputs": [
    {
     "name": "stdout",
     "output_type": "stream",
     "text": [
      "root\n",
      " |-- d_sexo: string (nullable = true)\n",
      " |-- d_codibge: string (nullable = true)\n",
      " |-- d_idade: double (nullable = true)\n",
      " |-- d_racacor: string (nullable = true)\n",
      " |-- d_paciente_endereco_uf: string (nullable = true)\n",
      " |-- d_total_regitros_dedup: double (nullable = true)\n",
      " |-- d1_nome_vacina: string (nullable = true)\n",
      " |-- d1_data_aplicacao: date (nullable = true)\n",
      " |-- d1_estab_mun_codigo: string (nullable = true)\n",
      " |-- d1_estab_valor: string (nullable = true)\n",
      " |-- d1_vacina_grupoAtendimento_nome: string (nullable = true)\n",
      " |-- d1_vacina_categoria_nome: string (nullable = true)\n",
      " |-- d1_vacina_dose: string (nullable = true)\n",
      " |-- d2_nome_vacina: string (nullable = true)\n",
      " |-- d2_data_aplicacao: date (nullable = true)\n",
      " |-- d2_estab_mun_codigo: string (nullable = true)\n",
      " |-- d2_estab_valor: string (nullable = true)\n",
      " |-- d2_vacina_grupoAtendimento_nome: string (nullable = true)\n",
      " |-- d2_vacina_categoria_nome: string (nullable = true)\n",
      " |-- d2_vacina_dose: string (nullable = true)\n",
      " |-- d3_nome_vacina: string (nullable = true)\n",
      " |-- d3_data_aplicacao: date (nullable = true)\n",
      " |-- d3_estab_mun_codigo: string (nullable = true)\n",
      " |-- d3_estab_valor: string (nullable = true)\n",
      " |-- d3_vacina_grupoAtendimento_nome: string (nullable = true)\n",
      " |-- d3_vacina_categoria_nome: string (nullable = true)\n",
      " |-- d3_vacina_dose: string (nullable = true)\n",
      " |-- d4_nome_vacina: string (nullable = true)\n",
      " |-- d4_data_aplicacao: date (nullable = true)\n",
      " |-- d4_estab_mun_codigo: string (nullable = true)\n",
      " |-- d4_estab_valor: string (nullable = true)\n",
      " |-- d4_vacina_grupoAtendimento_nome: string (nullable = true)\n",
      " |-- d4_vacina_categoria_nome: string (nullable = true)\n",
      " |-- d4_vacina_dose: string (nullable = true)\n",
      " |-- d5_nome_vacina: string (nullable = true)\n",
      " |-- d5_data_aplicacao: date (nullable = true)\n",
      " |-- d5_estab_mun_codigo: string (nullable = true)\n",
      " |-- d5_estab_valor: string (nullable = true)\n",
      " |-- d5_vacina_grupoAtendimento_nome: string (nullable = true)\n",
      " |-- d5_vacina_categoria_nome: string (nullable = true)\n",
      " |-- d5_vacina_dose: string (nullable = true)\n",
      " |-- total_registros_vacinacao: double (nullable = true)\n",
      " |-- inconsistente: string (nullable = true)\n",
      " |-- id_vigvac: long (nullable = true)\n",
      " |-- lang: string (nullable = false)\n",
      " |-- sexo_omop: string (nullable = true)\n",
      " |-- sexo_omop_en: string (nullable = true)\n",
      " |-- raca_omop: string (nullable = true)\n",
      " |-- raca_omop_en: string (nullable = true)\n",
      "\n"
     ]
    }
   ],
   "source": [
    "vac.printSchema()"
   ]
  },
  {
   "cell_type": "code",
   "execution_count": 16,
   "id": "d5a116ff",
   "metadata": {},
   "outputs": [],
   "source": [
    "srag_counts_sexo =  srag.groupBy(\"id_vigvac\",\"sexo_omop\").count().cache()\n",
    "srag_counts_raca =  srag.groupBy(\"id_vigvac\",\"raca_omop\").count().cache()\n",
    "\n",
    "\n",
    "srag_grouped_sexo = srag_counts_sexo.orderBy(['id_vigvac', F.desc('count')])\n",
    "srag_grouped_raca = srag_counts_raca.orderBy(['id_vigvac', F.desc('count')])\n",
    "\n",
    "srag_result_sexo  = srag_grouped_sexo.groupBy('id_vigvac').agg(F.first(\"sexo_omop\").alias(\"sexo\"),F.first(\"count\").alias(\"count\")).cache()\n",
    "srag_result_raca  = srag_grouped_raca.groupBy('id_vigvac').agg(F.first(\"raca_omop\").alias(\"raca\"),F.first(\"count\").alias(\"count\")).cache()"
   ]
  },
  {
   "cell_type": "code",
   "execution_count": 17,
   "id": "26816ce5",
   "metadata": {},
   "outputs": [],
   "source": [
    "sg_counts_sexo =  sg.groupBy(\"id_vigvac\",\"sexo_omop\").count().cache()\n",
    "sg_counts_raca =  sg.groupBy(\"id_vigvac\",\"raca_omop\").count().cache()\n",
    "\n",
    "\n",
    "sg_grouped_sexo = sg_counts_sexo.orderBy(['id_vigvac', F.desc('count')])\n",
    "sg_grouped_raca = sg_counts_raca.orderBy(['id_vigvac', F.desc('count')])\n",
    "\n",
    "sg_result_sexo  = sg_grouped_sexo.groupBy('id_vigvac').agg(F.first(\"sexo_omop\").alias(\"sexo\"),F.first(\"count\").alias(\"count\")).cache()\n",
    "sg_result_raca  = sg_grouped_raca.groupBy('id_vigvac').agg(F.first(\"raca_omop\").alias(\"raca\"),F.first(\"count\").alias(\"count\")).cache()"
   ]
  },
  {
   "cell_type": "code",
   "execution_count": 18,
   "id": "bae3d5a1",
   "metadata": {},
   "outputs": [],
   "source": [
    "vac_counts_sexo =  vac.groupBy(\"id_vigvac\",\"sexo_omop\").count().cache()\n",
    "vac_counts_raca =  vac.groupBy(\"id_vigvac\",\"raca_omop\").count().cache()\n",
    "\n",
    "\n",
    "vac_grouped_sexo = vac_counts_sexo.orderBy(['id_vigvac', F.desc('count')])\n",
    "vac_grouped_raca = vac_counts_raca.orderBy(['id_vigvac', F.desc('count')])\n",
    "\n",
    "vac_result_sexo  = vac_grouped_sexo.groupBy('id_vigvac').agg(F.first(\"sexo_omop\").alias(\"sexo\"),F.first(\"count\").alias(\"count\")).cache()\n",
    "vac_result_raca  = vac_grouped_raca.groupBy('id_vigvac').agg(F.first(\"raca_omop\").alias(\"raca\"),F.first(\"count\").alias(\"count\")).cache()"
   ]
  },
  {
   "cell_type": "code",
   "execution_count": 19,
   "id": "ff56648e",
   "metadata": {},
   "outputs": [
    {
     "name": "stderr",
     "output_type": "stream",
     "text": [
      "[Stage 19:===================================>                 (133 + 32) / 200]\r"
     ]
    },
    {
     "name": "stdout",
     "output_type": "stream",
     "text": [
      "srag sexo 2320559 e srag raça 2320559\n"
     ]
    },
    {
     "name": "stderr",
     "output_type": "stream",
     "text": [
      "\r",
      "[Stage 24:>                                                         (0 + 1) / 1]\r",
      "\r",
      "                                                                                \r"
     ]
    }
   ],
   "source": [
    "print(\"srag sexo {} e srag raça {}\".format(srag_result_sexo.count(),srag_result_raca.count() ))"
   ]
  },
  {
   "cell_type": "code",
   "execution_count": 38,
   "id": "4476ae76",
   "metadata": {},
   "outputs": [
    {
     "name": "stderr",
     "output_type": "stream",
     "text": [
      "[Stage 91:====================================================> (195 + 5) / 200]\r"
     ]
    },
    {
     "name": "stdout",
     "output_type": "stream",
     "text": [
      "SG sexo 53109190 e SG raça 53109190\n"
     ]
    },
    {
     "name": "stderr",
     "output_type": "stream",
     "text": [
      "\r",
      "                                                                                \r"
     ]
    }
   ],
   "source": [
    "print(\"SG sexo {} e SG raça {}\".format(sg_result_sexo.count(),sg_result_raca.count() ))"
   ]
  },
  {
   "cell_type": "code",
   "execution_count": 39,
   "id": "3fbb8628",
   "metadata": {},
   "outputs": [
    {
     "name": "stderr",
     "output_type": "stream",
     "text": [
      "[Stage 113:===================================================> (196 + 4) / 200]\r"
     ]
    },
    {
     "name": "stdout",
     "output_type": "stream",
     "text": [
      "vac sexo 183759941 e vac raça 183759941\n"
     ]
    },
    {
     "name": "stderr",
     "output_type": "stream",
     "text": [
      "\r",
      "[Stage 118:>                                                        (0 + 1) / 1]\r",
      "\r",
      "                                                                                \r"
     ]
    }
   ],
   "source": [
    "print(\"vac sexo {} e vac raça {}\".format(vac_result_sexo.count(),vac_result_raca.count()))"
   ]
  },
  {
   "cell_type": "code",
   "execution_count": 20,
   "id": "9e326e00",
   "metadata": {},
   "outputs": [],
   "source": [
    "srag_termos = srag_result_sexo.join(srag_result_raca,['id_vigvac'],'inner')\n",
    "sg_termos = sg_result_sexo.join(sg_result_raca,['id_vigvac'],'inner')\n",
    "vac_termos = vac_result_sexo.join(vac_result_raca,['id_vigvac'],'inner')"
   ]
  },
  {
   "cell_type": "code",
   "execution_count": 42,
   "id": "edcc2805",
   "metadata": {},
   "outputs": [
    {
     "name": "stderr",
     "output_type": "stream",
     "text": [
      "\r",
      "[Stage 178:>                                                        (0 + 1) / 1]\r",
      "\r",
      "                                                                                \r"
     ]
    },
    {
     "name": "stdout",
     "output_type": "stream",
     "text": [
      "SRAG 2320559\n"
     ]
    },
    {
     "name": "stderr",
     "output_type": "stream",
     "text": [
      "                                                                                \r"
     ]
    },
    {
     "name": "stdout",
     "output_type": "stream",
     "text": [
      "VAC 53109190\n"
     ]
    },
    {
     "name": "stderr",
     "output_type": "stream",
     "text": [
      "[Stage 200:================================================>   (186 + 14) / 200]\r"
     ]
    },
    {
     "name": "stdout",
     "output_type": "stream",
     "text": [
      "SG 183759941\n"
     ]
    },
    {
     "name": "stderr",
     "output_type": "stream",
     "text": [
      "\r",
      "                                                                                \r"
     ]
    }
   ],
   "source": [
    "print(\"SRAG {}\".format(srag_termos.count()))\n",
    "print(\"VAC {}\".format(sg_termos.count()))\n",
    "print(\"SG {}\".format(vac_termos.count()))"
   ]
  },
  {
   "cell_type": "code",
   "execution_count": 21,
   "id": "b250654f",
   "metadata": {},
   "outputs": [],
   "source": [
    "for variavel in srag_termos.columns:\n",
    "    if variavel == \"id_vigvac\":\n",
    "        pass\n",
    "    else:\n",
    "        srag_termos = srag_termos.withColumnRenamed(variavel,\"srag_\"+variavel)"
   ]
  },
  {
   "cell_type": "code",
   "execution_count": 22,
   "id": "07e65c5e",
   "metadata": {},
   "outputs": [],
   "source": [
    "for variavel in sg_termos.columns:\n",
    "    if variavel == \"id_vigvac\":\n",
    "        pass\n",
    "    else:\n",
    "        sg_termos = sg_termos.withColumnRenamed(variavel,\"sg_\"+variavel)"
   ]
  },
  {
   "cell_type": "code",
   "execution_count": 23,
   "id": "1237276f",
   "metadata": {},
   "outputs": [],
   "source": [
    "for variavel in vac_termos.columns:\n",
    "    if variavel == \"id_vigvac\":\n",
    "        pass\n",
    "    else:\n",
    "        vac_termos = vac_termos.withColumnRenamed(variavel,\"vac_\"+variavel)"
   ]
  },
  {
   "cell_type": "code",
   "execution_count": 24,
   "id": "abbb88da",
   "metadata": {},
   "outputs": [],
   "source": [
    "srag_termos_v2 = srag_termos.select(\"id_vigvac\",\"srag_sexo\",\"srag_raca\")\n",
    "sg_termos_v2 = sg_termos.select(\"id_vigvac\",\"sg_sexo\",\"sg_raca\")\n",
    "vac_termos_v2 = vac_termos.select(\"id_vigvac\",\"vac_sexo\",\"vac_raca\")"
   ]
  },
  {
   "cell_type": "code",
   "execution_count": 25,
   "id": "9f53955f",
   "metadata": {},
   "outputs": [],
   "source": [
    "pessoas_termos = vac_termos_v2.join(sg_termos_v2,['id_vigvac'],'full')\n",
    "pessoas_termos = pessoas_termos.join(srag_termos_v2,['id_vigvac'],'full')"
   ]
  },
  {
   "cell_type": "code",
   "execution_count": 55,
   "id": "16a1a836",
   "metadata": {},
   "outputs": [
    {
     "name": "stderr",
     "output_type": "stream",
     "text": [
      "                                                                                \r"
     ]
    },
    {
     "data": {
      "text/plain": [
       "188537327"
      ]
     },
     "execution_count": 55,
     "metadata": {},
     "output_type": "execute_result"
    }
   ],
   "source": [
    "pessoas_termos.count()"
   ]
  },
  {
   "cell_type": "code",
   "execution_count": 56,
   "id": "2022eade",
   "metadata": {},
   "outputs": [
    {
     "name": "stdout",
     "output_type": "stream",
     "text": [
      "root\n",
      " |-- id_vigvac: long (nullable = true)\n",
      " |-- vac_sexo: string (nullable = true)\n",
      " |-- vac_raca: string (nullable = true)\n",
      " |-- sg_sexo: string (nullable = true)\n",
      " |-- sg_raca: string (nullable = true)\n",
      " |-- srag_sexo: string (nullable = true)\n",
      " |-- srag_raca: string (nullable = true)\n",
      "\n"
     ]
    }
   ],
   "source": [
    "pessoas_termos.printSchema()"
   ]
  },
  {
   "cell_type": "code",
   "execution_count": 26,
   "id": "982df058",
   "metadata": {},
   "outputs": [],
   "source": [
    "pessoas_termos = pessoas_termos.withColumn(\"sexo_omop\",F.coalesce(\"srag_sexo\",\"vac_sexo\",\"sg_sexo\") )\n",
    "pessoas_termos = pessoas_termos.withColumn(\"raca_omop\",F.coalesce(\"srag_raca\",\"vac_raca\",\"sg_raca\") )"
   ]
  },
  {
   "cell_type": "code",
   "execution_count": 27,
   "id": "6a266070",
   "metadata": {},
   "outputs": [
    {
     "name": "stderr",
     "output_type": "stream",
     "text": [
      "[Stage 86:>                                                         (0 + 1) / 1]\r"
     ]
    },
    {
     "name": "stdout",
     "output_type": "stream",
     "text": [
      "+---------+--------+\n",
      "|sexo_omop|count   |\n",
      "+---------+--------+\n",
      "|Feminino |97691185|\n",
      "|Masculino|90840855|\n",
      "|null     |5287    |\n",
      "+---------+--------+\n",
      "\n"
     ]
    },
    {
     "name": "stderr",
     "output_type": "stream",
     "text": [
      "\r",
      "                                                                                \r"
     ]
    }
   ],
   "source": [
    "pessoas_termos.groupBy(\"sexo_omop\").count().orderBy(F.desc(\"count\")).show(300,False) "
   ]
  },
  {
   "cell_type": "code",
   "execution_count": 28,
   "id": "fcade796",
   "metadata": {},
   "outputs": [
    {
     "name": "stderr",
     "output_type": "stream",
     "text": [
      "[Stage 140:>                                                        (0 + 1) / 1]\r"
     ]
    },
    {
     "name": "stdout",
     "output_type": "stream",
     "text": [
      "+---------+--------+\n",
      "|raca_omop|count   |\n",
      "+---------+--------+\n",
      "|BRANCA   |67172103|\n",
      "|PARDA    |47435553|\n",
      "|null     |38292655|\n",
      "|AMARELA  |26676084|\n",
      "|PRETA    |8369733 |\n",
      "|INDIGENA |591199  |\n",
      "+---------+--------+\n",
      "\n"
     ]
    },
    {
     "name": "stderr",
     "output_type": "stream",
     "text": [
      "\r",
      "                                                                                \r"
     ]
    }
   ],
   "source": [
    "pessoas_termos.groupBy(\"raca_omop\").count().orderBy(F.desc(\"count\")).show(300,False) "
   ]
  },
  {
   "cell_type": "code",
   "execution_count": 30,
   "id": "9a5361e8",
   "metadata": {},
   "outputs": [
    {
     "name": "stdout",
     "output_type": "stream",
     "text": [
      "root\n",
      " |-- id_vigvac: long (nullable = true)\n",
      " |-- vac_sexo: string (nullable = true)\n",
      " |-- vac_raca: string (nullable = true)\n",
      " |-- sg_sexo: string (nullable = true)\n",
      " |-- sg_raca: string (nullable = true)\n",
      " |-- srag_sexo: string (nullable = true)\n",
      " |-- srag_raca: string (nullable = true)\n",
      " |-- sexo_omop: string (nullable = true)\n",
      " |-- raca_omop: string (nullable = true)\n",
      "\n"
     ]
    }
   ],
   "source": [
    "pessoas_termos.printSchema()"
   ]
  },
  {
   "cell_type": "code",
   "execution_count": 32,
   "id": "1cc08974",
   "metadata": {},
   "outputs": [],
   "source": [
    "pessoas_termos = pessoas_termos.withColumn(\"lang\",F.lit(\"en\"))"
   ]
  },
  {
   "cell_type": "code",
   "execution_count": 33,
   "id": "12df399a",
   "metadata": {},
   "outputs": [],
   "source": [
    "pessoas_termos = pessoas_termos.withColumn(\"raca_omop_en\", udf_race_omop( F.trim(F.col(\"raca_omop\")),F.col(\"lang\") ))\n",
    "pessoas_termos = pessoas_termos.withColumn(\"sexo_omop_en\", udf_sex_omop( F.col(\"sexo_omop\"),F.col(\"lang\") ))"
   ]
  },
  {
   "cell_type": "code",
   "execution_count": 34,
   "id": "5329570a",
   "metadata": {},
   "outputs": [
    {
     "name": "stderr",
     "output_type": "stream",
     "text": [
      "[Stage 194:>                                                        (0 + 1) / 1]\r"
     ]
    },
    {
     "name": "stdout",
     "output_type": "stream",
     "text": [
      "+------------+--------+\n",
      "|sexo_omop_en|count   |\n",
      "+------------+--------+\n",
      "|Female      |97691185|\n",
      "|Male        |90840855|\n",
      "|null        |5287    |\n",
      "+------------+--------+\n",
      "\n"
     ]
    },
    {
     "name": "stderr",
     "output_type": "stream",
     "text": [
      "\r",
      "                                                                                \r"
     ]
    }
   ],
   "source": [
    "pessoas_termos.groupBy(\"sexo_omop_en\").count().orderBy(F.desc(\"count\")).show(300,False) "
   ]
  },
  {
   "cell_type": "code",
   "execution_count": 35,
   "id": "4cc0a95b",
   "metadata": {},
   "outputs": [
    {
     "name": "stderr",
     "output_type": "stream",
     "text": [
      "[Stage 248:>                                                        (0 + 1) / 1]\r"
     ]
    },
    {
     "name": "stdout",
     "output_type": "stream",
     "text": [
      "+---------------+--------+\n",
      "|raca_omop_en   |count   |\n",
      "+---------------+--------+\n",
      "|White          |67172103|\n",
      "|Black          |55805286|\n",
      "|null           |38292655|\n",
      "|Asian          |26676084|\n",
      "|American Indian|591199  |\n",
      "+---------------+--------+\n",
      "\n"
     ]
    },
    {
     "name": "stderr",
     "output_type": "stream",
     "text": [
      "\r",
      "                                                                                \r"
     ]
    }
   ],
   "source": [
    "pessoas_termos.groupBy(\"raca_omop_en\").count().orderBy(F.desc(\"count\")).show(300,False) "
   ]
  },
  {
   "cell_type": "code",
   "execution_count": 36,
   "id": "e7de5d7c",
   "metadata": {},
   "outputs": [],
   "source": [
    "sexo_lista = pessoas_termos.groupBy(\"sexo_omop\").count().orderBy(F.desc(\"count\")).cache()\n",
    "raca_lista = pessoas_termos.groupBy(\"raca_omop\").count().orderBy(F.desc(\"count\")).cache()"
   ]
  },
  {
   "cell_type": "code",
   "execution_count": 40,
   "id": "ecf3fb37",
   "metadata": {},
   "outputs": [
    {
     "name": "stderr",
     "output_type": "stream",
     "text": [
      "                                                                                \r"
     ]
    },
    {
     "name": "stdout",
     "output_type": "stream",
     "text": [
      "+---------+--------+\n",
      "|raca_omop|   count|\n",
      "+---------+--------+\n",
      "|   BRANCA|67172103|\n",
      "|    PARDA|47435553|\n",
      "|     null|38292655|\n",
      "|  AMARELA|26676084|\n",
      "|    PRETA| 8369733|\n",
      "| INDIGENA|  591199|\n",
      "+---------+--------+\n",
      "\n"
     ]
    }
   ],
   "source": [
    "raca_lista.show()"
   ]
  },
  {
   "cell_type": "code",
   "execution_count": 39,
   "id": "acd55410",
   "metadata": {},
   "outputs": [
    {
     "name": "stdout",
     "output_type": "stream",
     "text": [
      "+---------+--------+\n",
      "|sexo_omop|   count|\n",
      "+---------+--------+\n",
      "| Feminino|97691185|\n",
      "|Masculino|90840855|\n",
      "|     null|    5287|\n",
      "+---------+--------+\n",
      "\n"
     ]
    }
   ],
   "source": [
    "sexo_lista.show()"
   ]
  },
  {
   "cell_type": "code",
   "execution_count": null,
   "id": "09ec3451",
   "metadata": {},
   "outputs": [],
   "source": []
  },
  {
   "cell_type": "code",
   "execution_count": 69,
   "id": "ef6425d4",
   "metadata": {},
   "outputs": [],
   "source": [
    "sexo_lista_termos = sexo_lista.select(\"sexo_omop\").withColumnRenamed(\"sexo_omop\",\"termo\")\n",
    "raca_lista_termos = raca_lista.select(\"raca_omop\").withColumnRenamed(\"raca_omop\",\"termo\")"
   ]
  },
  {
   "cell_type": "code",
   "execution_count": 71,
   "id": "be6638f0",
   "metadata": {},
   "outputs": [
    {
     "name": "stderr",
     "output_type": "stream",
     "text": [
      "[Stage 478:>                                                        (0 + 1) / 1]\r"
     ]
    },
    {
     "name": "stdout",
     "output_type": "stream",
     "text": [
      "+------+\n",
      "| termo|\n",
      "+------+\n",
      "|Female|\n",
      "|  Male|\n",
      "|  null|\n",
      "+------+\n",
      "\n"
     ]
    },
    {
     "name": "stderr",
     "output_type": "stream",
     "text": [
      "\r",
      "                                                                                \r"
     ]
    }
   ],
   "source": [
    "sexo_lista_termos.show()"
   ]
  },
  {
   "cell_type": "code",
   "execution_count": 72,
   "id": "304b9697",
   "metadata": {},
   "outputs": [],
   "source": [
    "final = sexo_lista_termos.unionByName(raca_lista_termos)"
   ]
  },
  {
   "cell_type": "code",
   "execution_count": 73,
   "id": "5c1421e3",
   "metadata": {},
   "outputs": [
    {
     "name": "stderr",
     "output_type": "stream",
     "text": [
      "                                                                                \r"
     ]
    }
   ],
   "source": [
    "final.toPandas().to_csv(\"/home/juracy.santos/lista_termos_tb_pessoa_omop.csv\",sep=\";\")"
   ]
  },
  {
   "cell_type": "code",
   "execution_count": 74,
   "id": "ddff9712",
   "metadata": {},
   "outputs": [
    {
     "name": "stdout",
     "output_type": "stream",
     "text": [
      "root\n",
      " |-- id_vigvac: long (nullable = true)\n",
      " |-- vac_sexo: string (nullable = true)\n",
      " |-- vac_raca: string (nullable = true)\n",
      " |-- sg_sexo: string (nullable = true)\n",
      " |-- sg_raca: string (nullable = true)\n",
      " |-- srag_sexo: string (nullable = true)\n",
      " |-- srag_raca: string (nullable = true)\n",
      " |-- sexo_omop: string (nullable = true)\n",
      " |-- raca_omop: string (nullable = true)\n",
      "\n"
     ]
    }
   ],
   "source": [
    "pessoas_termos.printSchema()"
   ]
  },
  {
   "cell_type": "code",
   "execution_count": 75,
   "id": "aaa7f60e",
   "metadata": {},
   "outputs": [],
   "source": [
    "tb_pessoa = pessoas_termos.select(\"id_vigvac\",\"sexo_omop\",\"raca_omop\")"
   ]
  },
  {
   "cell_type": "code",
   "execution_count": 82,
   "id": "8d0e2b75",
   "metadata": {},
   "outputs": [],
   "source": [
    "mapeamento_sexo_raca = spark.read.csv(\"/dados10t/datalake/standard/omop/resultado_mapeamento_sexo_raca.csv\",sep=\",\",header=True)\n",
    "mapeamento_sexo_raca = mapeamento_sexo_raca.drop(\"invalid_reason\",\"valid_start_date\",\"valid_end_date\",\"target_vocabulary_id\")"
   ]
  },
  {
   "cell_type": "code",
   "execution_count": 83,
   "id": "bc733f4e",
   "metadata": {},
   "outputs": [
    {
     "name": "stdout",
     "output_type": "stream",
     "text": [
      "+-----------+-----------------+--------------------+-----------------------+-----------------+\n",
      "|source_code|source_concept_id|source_vocabulary_id|source_code_description|target_concept_id|\n",
      "+-----------+-----------------+--------------------+-----------------------+-----------------+\n",
      "|          3|                0|                   1|                  White|             8527|\n",
      "|          6|                0|                   1|                  Asian|             8515|\n",
      "|          4|                0|                   1|                  Black|         38003598|\n",
      "|          0|                0|                   1|                 Female|             8532|\n",
      "|          1|                0|                   1|                   Male|             8507|\n",
      "+-----------+-----------------+--------------------+-----------------------+-----------------+\n",
      "only showing top 5 rows\n",
      "\n"
     ]
    }
   ],
   "source": [
    "mapeamento_sexo_raca.show(5)"
   ]
  },
  {
   "cell_type": "code",
   "execution_count": 80,
   "id": "4c1fceed",
   "metadata": {},
   "outputs": [
    {
     "name": "stderr",
     "output_type": "stream",
     "text": [
      "[Stage 608:=================================================>  (190 + 10) / 200]\r"
     ]
    },
    {
     "name": "stdout",
     "output_type": "stream",
     "text": [
      "+---------+---------+---------+\n",
      "|id_vigvac|sexo_omop|raca_omop|\n",
      "+---------+---------+---------+\n",
      "|       26|   Female|    Black|\n",
      "|       29|   Female|    White|\n",
      "|      474|   Female|     null|\n",
      "|      964|   Female|    White|\n",
      "|     1677|   Female|    Black|\n",
      "|     1697|   Female|    Asian|\n",
      "|     1806|     Male|     null|\n",
      "|     1950|     Male|    White|\n",
      "|     2040|   Female|     null|\n",
      "|     2214|   Female|    Asian|\n",
      "+---------+---------+---------+\n",
      "only showing top 10 rows\n",
      "\n"
     ]
    },
    {
     "name": "stderr",
     "output_type": "stream",
     "text": [
      "\r",
      "                                                                                \r"
     ]
    }
   ],
   "source": [
    "tb_pessoa.show(10)"
   ]
  },
  {
   "cell_type": "code",
   "execution_count": null,
   "id": "0889dc9e",
   "metadata": {},
   "outputs": [],
   "source": [
    "#add conceitos e dados do mapeamento\n",
    "tb_pessoa_v2 = tb_pessoa.join(mapeamento_sexo_raca,)"
   ]
  },
  {
   "cell_type": "code",
   "execution_count": 77,
   "id": "973e35f6",
   "metadata": {},
   "outputs": [
    {
     "name": "stdout",
     "output_type": "stream",
     "text": [
      "root\n",
      " |-- source_code: string (nullable = true)\n",
      " |-- source_concept_id: string (nullable = true)\n",
      " |-- source_vocabulary_id: string (nullable = true)\n",
      " |-- source_code_description: string (nullable = true)\n",
      " |-- target_concept_id: string (nullable = true)\n",
      " |-- target_vocabulary_id: string (nullable = true)\n",
      " |-- valid_start_date: string (nullable = true)\n",
      " |-- valid_end_date: string (nullable = true)\n",
      " |-- invalid_reason: string (nullable = true)\n",
      "\n"
     ]
    }
   ],
   "source": [
    "mapeamento_sexo_raca.printSchema()"
   ]
  }
 ],
 "metadata": {
  "kernelspec": {
   "display_name": "Python 3 (ipykernel)",
   "language": "python",
   "name": "python3"
  },
  "language_info": {
   "codemirror_mode": {
    "name": "ipython",
    "version": 3
   },
   "file_extension": ".py",
   "mimetype": "text/x-python",
   "name": "python",
   "nbconvert_exporter": "python",
   "pygments_lexer": "ipython3",
   "version": "3.10.12"
  }
 },
 "nbformat": 4,
 "nbformat_minor": 5
}
