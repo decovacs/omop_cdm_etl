{
 "cells": [
  {
   "cell_type": "markdown",
   "metadata": {},
   "source": [
    "#### extrair do srag gerado por zatti os sinais e sintomas"
   ]
  },
  {
   "cell_type": "code",
   "execution_count": 5,
   "metadata": {},
   "outputs": [
    {
     "name": "stderr",
     "output_type": "stream",
     "text": [
      "/tmp/ipykernel_233159/3777615979.py:1: DeprecationWarning: Importing display from IPython.core.display is deprecated since IPython 7.14, please import from IPython display\n",
      "  from IPython.core.display import display, HTML\n"
     ]
    },
    {
     "data": {
      "text/html": [
       "<style>.container { width:100% !important; }</style>"
      ],
      "text/plain": [
       "<IPython.core.display.HTML object>"
      ]
     },
     "metadata": {},
     "output_type": "display_data"
    }
   ],
   "source": [
    "from IPython.core.display import display, HTML\n",
    "display(HTML(\"<style>.container { width:100% !important; }</style>\"))"
   ]
  },
  {
   "cell_type": "code",
   "execution_count": 1,
   "metadata": {},
   "outputs": [
    {
     "name": "stderr",
     "output_type": "stream",
     "text": [
      "                                                                                \r"
     ]
    }
   ],
   "source": [
    "srag_sintomas = spark.read.parquet(\"/dados10t/datalake/raw/omop/srag_zatti/campo_aberto_sintomas.parquet\")\n",
    "srag_comorb = spark.read.parquet(\"/dados10t/datalake/raw/omop/srag_zatti/campo_aberto_comorbidades.parquet\")"
   ]
  },
  {
   "cell_type": "code",
   "execution_count": null,
   "metadata": {},
   "outputs": [],
   "source": [
    "srag_sintomas"
   ]
  },
  {
   "cell_type": "code",
   "execution_count": 2,
   "metadata": {},
   "outputs": [
    {
     "name": "stdout",
     "output_type": "stream",
     "text": [
      "root\n",
      " |-- id_vigvac: long (nullable = true)\n",
      " |-- outro_des: string (nullable = true)\n",
      " |-- dt_notific_dt: string (nullable = true)\n",
      " |-- cefaleia: double (nullable = true)\n",
      " |-- mialgia: double (nullable = true)\n",
      " |-- coriza: double (nullable = true)\n",
      " |-- astenia: double (nullable = true)\n",
      " |-- nauseas: double (nullable = true)\n",
      " |-- inapetencia: double (nullable = true)\n",
      " |-- esquecimento: double (nullable = true)\n",
      " |-- anosmia: double (nullable = true)\n",
      " |-- ageusia: double (nullable = true)\n",
      " |-- alteracoes neurologicas: double (nullable = true)\n",
      "\n"
     ]
    }
   ],
   "source": [
    "srag_sintomas.printSchema()"
   ]
  },
  {
   "cell_type": "code",
   "execution_count": 4,
   "metadata": {},
   "outputs": [
    {
     "name": "stdout",
     "output_type": "stream",
     "text": [
      "+---------+--------------------+-------------+--------+-------+------+-------+-------+-----------+------------+-------+-------+-----------------------+\n",
      "|id_vigvac|           outro_des|dt_notific_dt|cefaleia|mialgia|coriza|astenia|nauseas|inapetencia|esquecimento|anosmia|ageusia|alteracoes neurologicas|\n",
      "+---------+--------------------+-------------+--------+-------+------+-------+-------+-----------+------------+-------+-------+-----------------------+\n",
      "|        7|             MIALGIA|   2020-07-03|    null|    1.0|  null|   null|   null|       null|        null|   null|   null|                   null|\n",
      "|      173|                null|   2021-01-25|    null|   null|  null|   null|   null|       null|        null|   null|   null|                   null|\n",
      "|      184|DIARREIA FADIGA P...|   2022-07-06|    null|   null|  null|    1.0|   null|       null|        null|   null|   null|                   null|\n",
      "|      193|                null|   2021-03-22|    null|   null|  null|   null|   null|       null|        null|   null|   null|                   null|\n",
      "|      309|                null|   2022-01-07|    null|   null|  null|   null|   null|       null|        null|   null|   null|                   null|\n",
      "|      365|                null|   2021-01-04|    null|   null|  null|   null|   null|       null|        null|   null|   null|                   null|\n",
      "|      448|                null|   2021-08-02|    null|   null|  null|   null|   null|       null|        null|   null|   null|                   null|\n",
      "|      449|                null|   2021-01-12|    null|   null|  null|   null|   null|       null|        null|   null|   null|                   null|\n",
      "|      516|ANOREXIA  PROSTRACAO|   2022-06-29|    null|   null|  null|    1.0|   null|       null|        null|   null|   null|                   null|\n",
      "|      605|                null|   2020-07-27|    null|   null|  null|   null|   null|       null|        null|   null|   null|                   null|\n",
      "+---------+--------------------+-------------+--------+-------+------+-------+-------+-----------+------------+-------+-------+-----------------------+\n",
      "only showing top 10 rows\n",
      "\n"
     ]
    },
    {
     "name": "stderr",
     "output_type": "stream",
     "text": [
      "\r",
      "[Stage 3:============================================>              (3 + 1) / 4]\r",
      "\r",
      "                                                                                \r"
     ]
    }
   ],
   "source": [
    "srag_sintomas.show(10)"
   ]
  },
  {
   "cell_type": "code",
   "execution_count": 3,
   "metadata": {},
   "outputs": [
    {
     "name": "stdout",
     "output_type": "stream",
     "text": [
      "root\n",
      " |-- id_vigvac: long (nullable = true)\n",
      " |-- outro_des: string (nullable = true)\n",
      " |-- dt_notific_dt: string (nullable = true)\n",
      " |-- MORB_DESC: string (nullable = true)\n",
      " |-- ex tabagista: double (nullable = true)\n",
      " |-- has: double (nullable = true)\n",
      " |-- diabetes: double (nullable = true)\n",
      " |-- tabagismo: double (nullable = true)\n",
      " |-- hipotireoidismo: double (nullable = true)\n",
      " |-- dpoc: double (nullable = true)\n",
      " |-- alzheimer: double (nullable = true)\n",
      " |-- etilista: double (nullable = true)\n",
      " |-- obesidade: double (nullable = true)\n",
      " |-- depressao: double (nullable = true)\n",
      " |-- epilepsia: double (nullable = true)\n",
      " |-- cardiopata: double (nullable = true)\n",
      " |-- parkinson: double (nullable = true)\n",
      " |-- esquizofrenia: double (nullable = true)\n",
      " |-- enfisema: double (nullable = true)\n",
      " |-- linfoma: double (nullable = true)\n",
      " |-- artrite reumatoide: double (nullable = true)\n",
      " |-- cancer de mama: double (nullable = true)\n",
      " |-- asma: double (nullable = true)\n",
      " |-- rinite: double (nullable = true)\n",
      " |-- doenca renal cronica: double (nullable = true)\n",
      " |-- hipertireoidismo: double (nullable = true)\n",
      " |-- pneumonia: double (nullable = true)\n",
      "\n"
     ]
    }
   ],
   "source": [
    "srag_comorb.printSchema()"
   ]
  },
  {
   "cell_type": "code",
   "execution_count": 23,
   "metadata": {},
   "outputs": [],
   "source": [
    "srag_long = spark.read.parquet(\"/dados10t/datalake/standard/vigivac/srag/dbsrag_tb_influd_long_28032023_v8.parquet/\")\n",
    "srag = spark.read.parquet(\"/dados10t/datalake/raw/vigivac/srag/dbsrag_tb_influd_from_pandas_28032023.parquet/\")\n",
    "id_vigivac = spark.read.parquet(\"/dados10t/datalake/standard/vigivac/base_analise/id_paciente_to_id_vigivac/id_vigivac_id_paciente_17032023.parquet/\")"
   ]
  },
  {
   "cell_type": "code",
   "execution_count": 24,
   "metadata": {},
   "outputs": [],
   "source": [
    "srag = srag.join(id_vigivac, ['id_paciente'],'left')#.cache()"
   ]
  },
  {
   "cell_type": "code",
   "execution_count": 25,
   "metadata": {},
   "outputs": [
    {
     "data": {
      "text/plain": [
       "2677369"
      ]
     },
     "execution_count": 25,
     "metadata": {},
     "output_type": "execute_result"
    }
   ],
   "source": [
    "srag_long.count()"
   ]
  },
  {
   "cell_type": "code",
   "execution_count": 26,
   "metadata": {},
   "outputs": [
    {
     "data": {
      "text/plain": [
       "2680086"
      ]
     },
     "execution_count": 26,
     "metadata": {},
     "output_type": "execute_result"
    }
   ],
   "source": [
    "srag.count() #2680086"
   ]
  },
  {
   "cell_type": "code",
   "execution_count": 4,
   "metadata": {},
   "outputs": [
    {
     "data": {
      "text/plain": [
       "2680086"
      ]
     },
     "execution_count": 4,
     "metadata": {},
     "output_type": "execute_result"
    }
   ],
   "source": [
    "srag_sintomas.count()"
   ]
  },
  {
   "cell_type": "code",
   "execution_count": 5,
   "metadata": {},
   "outputs": [
    {
     "data": {
      "text/plain": [
       "2680086"
      ]
     },
     "execution_count": 5,
     "metadata": {},
     "output_type": "execute_result"
    }
   ],
   "source": [
    "srag_comorb.count()"
   ]
  },
  {
   "cell_type": "code",
   "execution_count": 27,
   "metadata": {},
   "outputs": [],
   "source": [
    "teste = srag.join(srag_sintomas, ['id_vigvac'],'inner')"
   ]
  },
  {
   "cell_type": "code",
   "execution_count": 29,
   "metadata": {},
   "outputs": [
    {
     "data": {
      "text/plain": [
       "2490556"
      ]
     },
     "execution_count": 29,
     "metadata": {},
     "output_type": "execute_result"
    }
   ],
   "source": [
    "srag.select(\"id_vigvac\").distinct().count()"
   ]
  },
  {
   "cell_type": "code",
   "execution_count": 30,
   "metadata": {},
   "outputs": [
    {
     "data": {
      "text/plain": [
       "2490556"
      ]
     },
     "execution_count": 30,
     "metadata": {},
     "output_type": "execute_result"
    }
   ],
   "source": [
    "srag.select(\"id_paciente\").distinct().count()"
   ]
  },
  {
   "cell_type": "code",
   "execution_count": 28,
   "metadata": {},
   "outputs": [
    {
     "data": {
      "text/plain": [
       "3158412"
      ]
     },
     "execution_count": 28,
     "metadata": {},
     "output_type": "execute_result"
    }
   ],
   "source": [
    "teste.count()"
   ]
  },
  {
   "cell_type": "code",
   "execution_count": null,
   "metadata": {},
   "outputs": [],
   "source": []
  },
  {
   "cell_type": "code",
   "execution_count": 18,
   "metadata": {},
   "outputs": [
    {
     "name": "stdout",
     "output_type": "stream",
     "text": [
      "root\n",
      " |-- st_notific: string (nullable = true)\n",
      " |-- sem_not: string (nullable = true)\n",
      " |-- sem_pri: string (nullable = true)\n",
      " |-- sg_uf_not: string (nullable = true)\n",
      " |-- id_regiona: string (nullable = true)\n",
      " |-- co_regiona: string (nullable = true)\n",
      " |-- id_municip: string (nullable = true)\n",
      " |-- co_mun_not: string (nullable = true)\n",
      " |-- id_unidade: string (nullable = true)\n",
      " |-- co_uni_not: string (nullable = true)\n",
      " |-- cs_sexo: string (nullable = true)\n",
      " |-- nu_idade_n: string (nullable = true)\n",
      " |-- tp_idade: string (nullable = true)\n",
      " |-- cod_idade: string (nullable = true)\n",
      " |-- cs_gestant: string (nullable = true)\n",
      " |-- cs_raca: short (nullable = true)\n",
      " |-- cs_etinia: string (nullable = true)\n",
      " |-- cs_escol_n: string (nullable = true)\n",
      " |-- sg_uf: string (nullable = true)\n",
      " |-- id_mn_resi: string (nullable = true)\n",
      " |-- co_mun_res: string (nullable = true)\n",
      " |-- cs_zona: short (nullable = true)\n",
      " |-- febre: short (nullable = true)\n",
      " |-- tosse: short (nullable = true)\n",
      " |-- garganta: short (nullable = true)\n",
      " |-- dispneia: short (nullable = true)\n",
      " |-- desc_resp: short (nullable = true)\n",
      " |-- saturacao: short (nullable = true)\n",
      " |-- diarreia: short (nullable = true)\n",
      " |-- vomito: short (nullable = true)\n",
      " |-- fator_risc: short (nullable = true)\n",
      " |-- puerpera: short (nullable = true)\n",
      " |-- cardiopati: short (nullable = true)\n",
      " |-- hematologi: short (nullable = true)\n",
      " |-- sind_down: short (nullable = true)\n",
      " |-- hepatica: short (nullable = true)\n",
      " |-- asma: short (nullable = true)\n",
      " |-- diabetes: short (nullable = true)\n",
      " |-- neurologic: short (nullable = true)\n",
      " |-- pneumopati: short (nullable = true)\n",
      " |-- imunodepre: short (nullable = true)\n",
      " |-- renal: short (nullable = true)\n",
      " |-- obesidade: short (nullable = true)\n",
      " |-- obes_imc: string (nullable = true)\n",
      " |-- out_morbi: short (nullable = true)\n",
      " |-- morb_desc: string (nullable = true)\n",
      " |-- mae_vac: string (nullable = true)\n",
      " |-- dt_vac_mae: string (nullable = true)\n",
      " |-- m_amamenta: string (nullable = true)\n",
      " |-- dt_doseuni: string (nullable = true)\n",
      " |-- dt_1_dose: string (nullable = true)\n",
      " |-- dt_2_dose: string (nullable = true)\n",
      " |-- antiviral: string (nullable = true)\n",
      " |-- tp_antivir: string (nullable = true)\n",
      " |-- out_antiv: string (nullable = true)\n",
      " |-- dt_antivir: string (nullable = true)\n",
      " |-- hospital: short (nullable = true)\n",
      " |-- dt_interna: string (nullable = true)\n",
      " |-- sg_uf_inte: string (nullable = true)\n",
      " |-- id_rg_inte: string (nullable = true)\n",
      " |-- co_rg_inte: string (nullable = true)\n",
      " |-- id_mn_inte: string (nullable = true)\n",
      " |-- co_mu_inte: string (nullable = true)\n",
      " |-- nm_un_inte: string (nullable = true)\n",
      " |-- co_un_inte: string (nullable = true)\n",
      " |-- uti: short (nullable = true)\n",
      " |-- suport_ven: short (nullable = true)\n",
      " |-- raiox_res: string (nullable = true)\n",
      " |-- raiox_out: string (nullable = true)\n",
      " |-- dt_raiox: string (nullable = true)\n",
      " |-- amostra: string (nullable = true)\n",
      " |-- dt_coleta: string (nullable = true)\n",
      " |-- tp_amostra: string (nullable = true)\n",
      " |-- st_requisicao_gal: string (nullable = true)\n",
      " |-- pcr_resul: short (nullable = true)\n",
      " |-- pos_pcrflu: string (nullable = true)\n",
      " |-- pcr_fluasu: string (nullable = true)\n",
      " |-- fluasu_out: string (nullable = true)\n",
      " |-- pcr_flubli: string (nullable = true)\n",
      " |-- flubli_out: string (nullable = true)\n",
      " |-- pos_pcrout: string (nullable = true)\n",
      " |-- pcr_vsr: string (nullable = true)\n",
      " |-- pcr_para1: string (nullable = true)\n",
      " |-- pcr_adeno: string (nullable = true)\n",
      " |-- pcr_metap: string (nullable = true)\n",
      " |-- pcr_boca: string (nullable = true)\n",
      " |-- pcr_rino: string (nullable = true)\n",
      " |-- pcr_outro: string (nullable = true)\n",
      " |-- ds_pcr_out: string (nullable = true)\n",
      " |-- lab_pcr: string (nullable = true)\n",
      " |-- co_lab_pcr: string (nullable = true)\n",
      " |-- classi_fin: short (nullable = true)\n",
      " |-- classi_out: string (nullable = true)\n",
      " |-- criterio: string (nullable = true)\n",
      " |-- evolucao: short (nullable = true)\n",
      " |-- dt_evoluca: string (nullable = true)\n",
      " |-- dt_encerra: string (nullable = true)\n",
      " |-- dt_digita: string (nullable = true)\n",
      " |-- pcr_sars2: short (nullable = true)\n",
      " |-- pac_cocbo: string (nullable = true)\n",
      " |-- pac_dscbo: string (nullable = true)\n",
      " |-- dor_abd: string (nullable = true)\n",
      " |-- fadiga: string (nullable = true)\n",
      " |-- perd_olft: string (nullable = true)\n",
      " |-- perd_pala: string (nullable = true)\n",
      " |-- tomo_res: string (nullable = true)\n",
      " |-- tomo_out: string (nullable = true)\n",
      " |-- dt_tomo: string (nullable = true)\n",
      " |-- tp_tes_an: string (nullable = true)\n",
      " |-- res_an: short (nullable = true)\n",
      " |-- lab_an: string (nullable = true)\n",
      " |-- co_lab_an: string (nullable = true)\n",
      " |-- pos_an_flu: string (nullable = true)\n",
      " |-- an_sars2: short (nullable = true)\n",
      " |-- an_vsr: string (nullable = true)\n",
      " |-- an_para1: string (nullable = true)\n",
      " |-- an_para2: string (nullable = true)\n",
      " |-- tp_am_sor: string (nullable = true)\n",
      " |-- sor_out: string (nullable = true)\n",
      " |-- tp_sor: string (nullable = true)\n",
      " |-- out_sor: string (nullable = true)\n",
      " |-- dt_res: string (nullable = true)\n",
      " |-- res_igg: string (nullable = true)\n",
      " |-- res_igm: string (nullable = true)\n",
      " |-- res_iga: string (nullable = true)\n",
      " |-- st_do: string (nullable = true)\n",
      " |-- estrang: string (nullable = true)\n",
      " |-- vacina_cov: string (nullable = true)\n",
      " |-- dose_1_cov: string (nullable = true)\n",
      " |-- dose_2_cov: string (nullable = true)\n",
      " |-- lab_pr_cov: string (nullable = true)\n",
      " |-- lote_1_cov: string (nullable = true)\n",
      " |-- lote_2_cov: string (nullable = true)\n",
      " |-- fnt_in_cov: string (nullable = true)\n",
      " |-- dt_notific_dt: string (nullable = true)\n",
      " |-- __index_level_0__: integer (nullable = true)\n",
      " |-- UTI_2: string (nullable = true)\n",
      " |-- saturacao_2: string (nullable = true)\n",
      " |-- SUPORT_VEN_2: string (nullable = true)\n",
      " |-- CS_RACA_2: string (nullable = true)\n",
      " |-- CS_ESCOL_N_2: string (nullable = true)\n",
      " |-- PCR_SARS2_2: string (nullable = true)\n",
      " |-- DISPNEIA_2: string (nullable = true)\n",
      " |-- dt_notif_dt: date (nullable = true)\n",
      " |-- dt_sin_pri_dt: date (nullable = true)\n",
      " |-- dt_pcr_dt: date (nullable = true)\n",
      " |-- dt_res_an_dt: date (nullable = true)\n",
      " |-- dt_entuti_dt: date (nullable = true)\n",
      " |-- dt_saiduti_dt: date (nullable = true)\n",
      " |-- dt_encerra_dt: date (nullable = true)\n",
      " |-- dt_interna_dt: date (nullable = true)\n",
      " |-- dt_coleta_dt: date (nullable = true)\n",
      " |-- total_notif: long (nullable = true)\n",
      " |-- idade_calc_dt_sintomas: short (nullable = true)\n",
      " |-- id_vigvac: long (nullable = true)\n",
      " |-- ano_nascimento: integer (nullable = true)\n",
      "\n"
     ]
    }
   ],
   "source": [
    "srag_long.printSchema()"
   ]
  },
  {
   "cell_type": "code",
   "execution_count": 16,
   "metadata": {},
   "outputs": [
    {
     "name": "stdout",
     "output_type": "stream",
     "text": [
      "root\n",
      " |-- id_vigvac: long (nullable = true)\n",
      " |-- outro_des: string (nullable = true)\n",
      " |-- dt_notific_dt: string (nullable = true)\n",
      " |-- cefaleia: double (nullable = true)\n",
      " |-- mialgia: double (nullable = true)\n",
      " |-- coriza: double (nullable = true)\n",
      " |-- astenia: double (nullable = true)\n",
      " |-- nauseas: double (nullable = true)\n",
      " |-- inapetencia: double (nullable = true)\n",
      " |-- esquecimento: double (nullable = true)\n",
      " |-- anosmia: double (nullable = true)\n",
      " |-- ageusia: double (nullable = true)\n",
      " |-- alteracoes neurologicas: double (nullable = true)\n",
      "\n"
     ]
    }
   ],
   "source": [
    "srag_sintomas.printSchema()"
   ]
  },
  {
   "cell_type": "code",
   "execution_count": 17,
   "metadata": {},
   "outputs": [
    {
     "name": "stdout",
     "output_type": "stream",
     "text": [
      "root\n",
      " |-- id_vigvac: long (nullable = true)\n",
      " |-- outro_des: string (nullable = true)\n",
      " |-- dt_notific_dt: string (nullable = true)\n",
      " |-- MORB_DESC: string (nullable = true)\n",
      " |-- ex tabagista: double (nullable = true)\n",
      " |-- has: double (nullable = true)\n",
      " |-- diabetes: double (nullable = true)\n",
      " |-- tabagismo: double (nullable = true)\n",
      " |-- hipotireoidismo: double (nullable = true)\n",
      " |-- dpoc: double (nullable = true)\n",
      " |-- alzheimer: double (nullable = true)\n",
      " |-- etilista: double (nullable = true)\n",
      " |-- obesidade: double (nullable = true)\n",
      " |-- depressao: double (nullable = true)\n",
      " |-- epilepsia: double (nullable = true)\n",
      " |-- cardiopata: double (nullable = true)\n",
      " |-- parkinson: double (nullable = true)\n",
      " |-- esquizofrenia: double (nullable = true)\n",
      " |-- enfisema: double (nullable = true)\n",
      " |-- linfoma: double (nullable = true)\n",
      " |-- artrite reumatoide: double (nullable = true)\n",
      " |-- cancer de mama: double (nullable = true)\n",
      " |-- asma: double (nullable = true)\n",
      " |-- rinite: double (nullable = true)\n",
      " |-- doenca renal cronica: double (nullable = true)\n",
      " |-- hipertireoidismo: double (nullable = true)\n",
      " |-- pneumonia: double (nullable = true)\n",
      "\n"
     ]
    }
   ],
   "source": [
    "srag_comorb.printSchema()"
   ]
  }
 ],
 "metadata": {
  "kernelspec": {
   "display_name": "Python 3 (ipykernel)",
   "language": "python",
   "name": "python3"
  },
  "language_info": {
   "codemirror_mode": {
    "name": "ipython",
    "version": 3
   },
   "file_extension": ".py",
   "mimetype": "text/x-python",
   "name": "python",
   "nbconvert_exporter": "python",
   "pygments_lexer": "ipython3",
   "version": "3.10.12"
  }
 },
 "nbformat": 4,
 "nbformat_minor": 4
}
