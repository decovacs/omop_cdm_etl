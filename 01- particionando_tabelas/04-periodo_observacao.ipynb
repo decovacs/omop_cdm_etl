{
 "cells": [
  {
   "cell_type": "code",
   "execution_count": 1,
   "id": "1b257607",
   "metadata": {},
   "outputs": [
    {
     "data": {
      "text/html": [
       "<style>.container { width:100% !important; }</style>"
      ],
      "text/plain": [
       "<IPython.core.display.HTML object>"
      ]
     },
     "metadata": {},
     "output_type": "display_data"
    },
    {
     "name": "stderr",
     "output_type": "stream",
     "text": [
      "23/10/18 17:22:17 WARN SparkSession: Using an existing Spark session; only runtime SQL configurations will take effect.\n"
     ]
    }
   ],
   "source": [
    "from IPython.display import display, HTML\n",
    "\n",
    "\n",
    "display(HTML(\"<style>.container { width:100% !important; }</style>\"))\n",
    "from pyspark.sql import functions as F\n",
    "import glob\n",
    "from pyspark.sql.types import *\n",
    "\n",
    "from pyspark.sql import SparkSession\n",
    "spark = SparkSession.builder \\\n",
    "       .master(\"local[*]\") \\\n",
    "       .appName(\"test\") \\\n",
    "       .config(\"spark.driver.memory\", \"80g\")\\\n",
    "       .config(\"spark.executor.memory\", \"50g\")\\\n",
    "       .config(\"spark.dirver.maxResultSize\", \"50g\")\\\n",
    "       .getOrCreate()\n",
    "sc = spark.sparkContext"
   ]
  },
  {
   "cell_type": "code",
   "execution_count": null,
   "id": "78a839d2",
   "metadata": {},
   "outputs": [],
   "source": []
  },
  {
   "cell_type": "markdown",
   "id": "c88eb33a",
   "metadata": {},
   "source": [
    "### vacinação"
   ]
  },
  {
   "cell_type": "code",
   "execution_count": 2,
   "id": "e4f12f7d",
   "metadata": {},
   "outputs": [
    {
     "name": "stderr",
     "output_type": "stream",
     "text": [
      "\r",
      "[Stage 0:>                                                          (0 + 1) / 1]\r",
      "\r",
      "                                                                                \r"
     ]
    }
   ],
   "source": [
    "#df = spark.read.parquet(\"/dados10t/datalake/standard/dados_datasus/vacinacao/vacinacao07072022_pessoasunicas_5doses_v17.parquet/\")\n",
    "df = spark.read.parquet(\"/dados10t/datalake/standard/vigivac/vacinacao/vacinacao07072022_pessoasunicas_5doses_v17.parquet/\")"
   ]
  },
  {
   "cell_type": "code",
   "execution_count": 3,
   "id": "d1384921",
   "metadata": {},
   "outputs": [
    {
     "name": "stderr",
     "output_type": "stream",
     "text": [
      "                                                                                \r"
     ]
    },
    {
     "data": {
      "text/plain": [
       "183759941"
      ]
     },
     "execution_count": 3,
     "metadata": {},
     "output_type": "execute_result"
    }
   ],
   "source": [
    "df.count()"
   ]
  },
  {
   "cell_type": "code",
   "execution_count": 4,
   "id": "88cd4bce",
   "metadata": {},
   "outputs": [],
   "source": [
    "vac_long = df.selectExpr(\"id_vigvac\",\"stack(5,'d1_data_aplicacao',d1_data_aplicacao,'d2_data_aplicacao',d2_data_aplicacao,'d3_data_aplicacao',d3_data_aplicacao,'d4_data_aplicacao',d4_data_aplicacao,'d5_data_aplicacao',d5_data_aplicacao) as (variable,data_entrada)\" ).filter(F.col(\"data_entrada\").isNotNull())"
   ]
  },
  {
   "cell_type": "code",
   "execution_count": 5,
   "id": "2eccfe9c",
   "metadata": {},
   "outputs": [
    {
     "name": "stderr",
     "output_type": "stream",
     "text": [
      "                                                                                \r"
     ]
    },
    {
     "data": {
      "text/plain": [
       "446217353"
      ]
     },
     "execution_count": 5,
     "metadata": {},
     "output_type": "execute_result"
    }
   ],
   "source": [
    "vac_long.count()"
   ]
  },
  {
   "cell_type": "code",
   "execution_count": 6,
   "id": "3f49b326",
   "metadata": {},
   "outputs": [],
   "source": [
    "#vac_long_v2 = vac_long.rdd.zipWithIndex() \n",
    "#vac_long_v2 = vac_long_v2.toDF()\n",
    "#vac_long_v2.printSchema()\n",
    "#vac_long_v3=vac_long_v2.select(F.col(\"_1.*\"),F.col(\"_2\").alias('increasing_id'))\n",
    "#vac_long_v3.printSchema()\n",
    "#vac_long_v3.select(\"increasing_id\").distinct().count()"
   ]
  },
  {
   "cell_type": "code",
   "execution_count": 7,
   "id": "cfbe58bd",
   "metadata": {},
   "outputs": [
    {
     "name": "stdout",
     "output_type": "stream",
     "text": [
      "+------------+-----------------+------------+\n",
      "|id_vigvac   |variable         |data_entrada|\n",
      "+------------+-----------------+------------+\n",
      "|463856467968|d1_data_aplicacao|2021-05-28  |\n",
      "|463856467968|d2_data_aplicacao|2021-08-26  |\n",
      "|463856467969|d1_data_aplicacao|2021-09-11  |\n",
      "|463856467970|d1_data_aplicacao|2021-06-23  |\n",
      "|463856467970|d2_data_aplicacao|2021-10-19  |\n",
      "|463856467970|d3_data_aplicacao|2022-03-02  |\n",
      "|463856467971|d1_data_aplicacao|2021-09-16  |\n",
      "|463856467971|d2_data_aplicacao|2021-11-12  |\n",
      "|463856467972|d1_data_aplicacao|2021-06-18  |\n",
      "|463856467972|d2_data_aplicacao|2021-09-10  |\n",
      "|463856467973|d1_data_aplicacao|2021-10-20  |\n",
      "|463856467973|d2_data_aplicacao|2022-01-03  |\n",
      "|463856467974|d1_data_aplicacao|2021-07-07  |\n",
      "|463856467974|d2_data_aplicacao|2022-02-19  |\n",
      "|463856467975|d1_data_aplicacao|2021-07-22  |\n",
      "|463856467975|d2_data_aplicacao|2021-10-14  |\n",
      "|463856467976|d1_data_aplicacao|2021-05-31  |\n",
      "|463856467976|d2_data_aplicacao|2021-07-26  |\n",
      "|463856467977|d1_data_aplicacao|2021-05-13  |\n",
      "|463856467977|d2_data_aplicacao|2021-08-06  |\n",
      "+------------+-----------------+------------+\n",
      "only showing top 20 rows\n",
      "\n"
     ]
    }
   ],
   "source": [
    "vac_long.show(20,False)"
   ]
  },
  {
   "cell_type": "markdown",
   "id": "b33958fc",
   "metadata": {},
   "source": [
    "#### srag"
   ]
  },
  {
   "cell_type": "code",
   "execution_count": 8,
   "id": "c3f53ed6",
   "metadata": {},
   "outputs": [],
   "source": [
    "srag = spark.read.parquet(\"/dados10t/datalake/standard/vigivac/srag/dbsrag_tb_influd_long_09072022_v8.parquet/\")"
   ]
  },
  {
   "cell_type": "code",
   "execution_count": 9,
   "id": "06e1ebb5",
   "metadata": {},
   "outputs": [],
   "source": [
    "srag_v2 = srag.select(\"id_vigvac\",\"dt_notif_dt\",\"dt_sin_pri_dt\",\"dt_interna_dt\",\"dt_encerra_dt\",\"dt_saiduti_dt\",\"evolucao\",\"dt_evoluca\",\"dt_pcr_dt\",\"dt_entuti_dt\")"
   ]
  },
  {
   "cell_type": "code",
   "execution_count": 10,
   "id": "208d9a61",
   "metadata": {},
   "outputs": [
    {
     "data": {
      "text/plain": [
       "2487085"
      ]
     },
     "execution_count": 10,
     "metadata": {},
     "output_type": "execute_result"
    }
   ],
   "source": [
    "srag_v2.count()"
   ]
  },
  {
   "cell_type": "markdown",
   "id": "0dd6baa5",
   "metadata": {},
   "source": [
    "#### Evolução do caso\n",
    " - 1-Cura\n",
    " - 2-Óbito\n",
    " - 3- Óbito por outras causas\n",
    " - 9-Ignorado"
   ]
  },
  {
   "cell_type": "code",
   "execution_count": 11,
   "id": "4eefb6f7",
   "metadata": {},
   "outputs": [
    {
     "name": "stderr",
     "output_type": "stream",
     "text": [
      "\r",
      "[Stage 12:============================>                          (15 + 14) / 29]\r"
     ]
    },
    {
     "name": "stdout",
     "output_type": "stream",
     "text": [
      "+--------+-------+\n",
      "|evolucao|count  |\n",
      "+--------+-------+\n",
      "|1       |1531743|\n",
      "|2       |593018 |\n",
      "|null    |266170 |\n",
      "|9       |61700  |\n",
      "|3       |34454  |\n",
      "+--------+-------+\n",
      "\n"
     ]
    },
    {
     "name": "stderr",
     "output_type": "stream",
     "text": [
      "\r",
      "                                                                                \r"
     ]
    }
   ],
   "source": [
    "srag_v2.groupBy(\"evolucao\").count().orderBy(F.desc(\"count\")).show(300,False) "
   ]
  },
  {
   "cell_type": "code",
   "execution_count": 12,
   "id": "29ac7a87",
   "metadata": {},
   "outputs": [
    {
     "data": {
      "text/plain": [
       "627472"
      ]
     },
     "execution_count": 12,
     "metadata": {},
     "output_type": "execute_result"
    }
   ],
   "source": [
    "srag_v2.filter(F.col(\"evolucao\").isin([2,3]) ).count() #quantidade de óbitos no srag"
   ]
  },
  {
   "cell_type": "code",
   "execution_count": 13,
   "id": "13de0a0b",
   "metadata": {},
   "outputs": [
    {
     "data": {
      "text/plain": [
       "2066997"
      ]
     },
     "execution_count": 13,
     "metadata": {},
     "output_type": "execute_result"
    }
   ],
   "source": [
    "srag_v2.filter(F.col(\"dt_evoluca\").isNotNull() ).count()"
   ]
  },
  {
   "cell_type": "code",
   "execution_count": 14,
   "id": "fcafc44a",
   "metadata": {},
   "outputs": [],
   "source": [
    "srag_v2 = srag_v2.withColumn(\"dt_evoluca_dt\",F.to_date(\"dt_evoluca\",\"dd/MM/yyyy\"))"
   ]
  },
  {
   "cell_type": "code",
   "execution_count": 15,
   "id": "b828b0b5",
   "metadata": {},
   "outputs": [
    {
     "data": {
      "text/plain": [
       "2066997"
      ]
     },
     "execution_count": 15,
     "metadata": {},
     "output_type": "execute_result"
    }
   ],
   "source": [
    "srag_v2.filter(F.col(\"dt_evoluca_dt\").isNotNull() ).count()"
   ]
  },
  {
   "cell_type": "code",
   "execution_count": 16,
   "id": "bad6ca4c",
   "metadata": {},
   "outputs": [],
   "source": [
    "srag_v2 = srag_v2.withColumn(\"dt_obito\",F.when(F.col(\"evolucao\").isin([2,3]),F.col(\"dt_evoluca_dt\")   ).otherwise(None) )"
   ]
  },
  {
   "cell_type": "code",
   "execution_count": 17,
   "id": "08edde89",
   "metadata": {},
   "outputs": [
    {
     "data": {
      "text/plain": [
       "2487085"
      ]
     },
     "execution_count": 17,
     "metadata": {},
     "output_type": "execute_result"
    }
   ],
   "source": [
    "srag_v2.count()"
   ]
  },
  {
   "cell_type": "code",
   "execution_count": 18,
   "id": "c444f636",
   "metadata": {},
   "outputs": [],
   "source": [
    "#srag.printSchema()"
   ]
  },
  {
   "cell_type": "code",
   "execution_count": 19,
   "id": "65783841",
   "metadata": {},
   "outputs": [],
   "source": [
    "srag_v2 = srag_v2.withColumn(\"data_entrada\", F.coalesce(F.col(\"dt_sin_pri_dt\"), F.col(\"dt_notif_dt\"), F.col(\"dt_interna_dt\")  ) ) \n",
    "srag_v2 = srag_v2.withColumn(\"data_saida\",F.coalesce(F.col(\"dt_obito\"),F.col(\"dt_saiduti_dt\"),F.col(\"dt_encerra_dt\") ))   #,F.col(\"dt_encerra_dt\"),F.col(\"dt_interna_dt\"),F.col(\"dt_entuti_dt\") ,F.col(\"dt_pcr_dt\")  ) )  "
   ]
  },
  {
   "cell_type": "code",
   "execution_count": 20,
   "id": "d6b26cbb",
   "metadata": {},
   "outputs": [
    {
     "name": "stdout",
     "output_type": "stream",
     "text": [
      "N não nulos data entrada srag 2487085\n",
      "N não nulos data saida srag 2244081\n"
     ]
    }
   ],
   "source": [
    "print(\"N não nulos data entrada srag {}\".format(srag_v2.filter(F.col(\"data_entrada\").isNotNull() ).count()))\n",
    "print(\"N não nulos data saida srag {}\".format(srag_v2.filter(F.col(\"data_saida\").isNotNull() ).count()) ) #somente com dt do óbito 625465/ dt do obito + dt_saiduti_dt 835587 / dt do obito + dt_saiduti_dt + dt_saiduti_dt 2244081"
   ]
  },
  {
   "cell_type": "code",
   "execution_count": 21,
   "id": "a7b74048",
   "metadata": {},
   "outputs": [
    {
     "data": {
      "text/plain": [
       "243004"
      ]
     },
     "execution_count": 21,
     "metadata": {},
     "output_type": "execute_result"
    }
   ],
   "source": [
    "2487085-2244081"
   ]
  },
  {
   "cell_type": "markdown",
   "id": "974c1888",
   "metadata": {},
   "source": [
    "# 243004 sem data de saida no srag melhorar e 339 casos onde a data de entrada e maior que a de saida\n",
    "##### casos por exemplo que a data da internação e anterior a data dos primeiros sintomas entre outros"
   ]
  },
  {
   "cell_type": "code",
   "execution_count": 22,
   "id": "edc012a6",
   "metadata": {},
   "outputs": [
    {
     "data": {
      "text/plain": [
       "339"
      ]
     },
     "execution_count": 22,
     "metadata": {},
     "output_type": "execute_result"
    }
   ],
   "source": [
    "srag_v2.filter(F.col(\"data_entrada\") > F.col(\"data_saida\") ).count()"
   ]
  },
  {
   "cell_type": "code",
   "execution_count": 23,
   "id": "b8b916b5",
   "metadata": {},
   "outputs": [
    {
     "name": "stdout",
     "output_type": "stream",
     "text": [
      "+-------------+-----------+-------------+-------------+-------------+-------------+--------+----------+----------+------------+-------------+--------+------------+----------+\n",
      "|    id_vigvac|dt_notif_dt|dt_sin_pri_dt|dt_interna_dt|dt_encerra_dt|dt_saiduti_dt|evolucao|dt_evoluca| dt_pcr_dt|dt_entuti_dt|dt_evoluca_dt|dt_obito|data_entrada|data_saida|\n",
      "+-------------+-----------+-------------+-------------+-------------+-------------+--------+----------+----------+------------+-------------+--------+------------+----------+\n",
      "|1511829181029| 2021-03-28|   2021-03-28|   2021-03-19|   2021-06-07|   2021-03-23|       1|09/04/2021|      null|  2021-03-19|   2021-04-09|    null|  2021-03-28|2021-03-23|\n",
      "| 747324673800| 2021-11-04|   2021-10-31|   2021-09-13|   2021-12-16|   2021-10-06|       1|10/12/2021|2021-12-01|  2021-09-14|   2021-12-10|    null|  2021-10-31|2021-10-06|\n",
      "| 412316987172| 2021-07-22|   2021-07-12|   2021-04-17|   2021-10-16|   2021-06-18|       1|24/07/2021|2021-07-22|  2021-06-04|   2021-07-24|    null|  2021-07-12|2021-06-18|\n",
      "| 412317713932| 2022-04-09|   2022-04-08|         null|   2022-06-10|   2022-04-04|       1|26/04/2022|      null|  2022-03-24|   2022-04-26|    null|  2022-04-08|2022-04-04|\n",
      "|1623498247115| 2021-12-11|   2021-12-11|   2021-11-21|   2022-02-24|   2021-12-04|       1|24/02/2022|      null|  2021-11-24|   2022-02-24|    null|  2021-12-11|2021-12-04|\n",
      "+-------------+-----------+-------------+-------------+-------------+-------------+--------+----------+----------+------------+-------------+--------+------------+----------+\n",
      "only showing top 5 rows\n",
      "\n"
     ]
    }
   ],
   "source": [
    "srag_v2.filter(F.col(\"data_entrada\") > F.col(\"data_saida\") ).show(5)"
   ]
  },
  {
   "cell_type": "code",
   "execution_count": 24,
   "id": "e33241bb",
   "metadata": {},
   "outputs": [],
   "source": [
    "#srag_v2.show(5) #.select(\"dt_encerra_dt\",\"dt_saiduti_dt\",\"dt_obito\",\"data_saida\")"
   ]
  },
  {
   "cell_type": "code",
   "execution_count": 25,
   "id": "0262c11b",
   "metadata": {},
   "outputs": [
    {
     "name": "stdout",
     "output_type": "stream",
     "text": [
      "% não nulos id_vigvac : 100.0\n",
      "% não nulos dt_notif_dt : 100.0\n",
      "% não nulos dt_sin_pri_dt : 100.0\n",
      "% não nulos dt_interna_dt : 93.50758015910192\n",
      "% não nulos dt_encerra_dt : 89.69994994139726\n",
      "% não nulos dt_saiduti_dt : 17.371058890226905\n",
      "% não nulos evolucao : 89.29791301865437\n",
      "% não nulos dt_evoluca : 83.1092222421027\n",
      "% não nulos dt_pcr_dt : 68.88896036926764\n",
      "% não nulos dt_entuti_dt : 29.072307540755546\n",
      "% não nulos dt_evoluca_dt : 83.1092222421027\n",
      "% não nulos dt_obito : 25.148517240062162\n",
      "% não nulos data_entrada : 100.0\n",
      "% não nulos data_saida : 90.22936489906859\n",
      "14\n"
     ]
    }
   ],
   "source": [
    "total = srag_v2.count()\n",
    "\n",
    "i = 0\n",
    "for variavel in srag_v2.columns:\n",
    "    i = i+1\n",
    "    nao_vazios = srag_v2.filter(F.col(variavel).isNull()).count()\n",
    "    porcent = nao_vazios * 100 / total\n",
    "    print(\"% não nulos {} : {}\".format(variavel,100 - porcent))\n",
    "print(i)"
   ]
  },
  {
   "cell_type": "code",
   "execution_count": 26,
   "id": "1ea56361",
   "metadata": {},
   "outputs": [],
   "source": [
    "srag_datas = srag_v2.select(\"id_vigvac\",\"data_entrada\",\"data_saida\" ).withColumn(\"variable\",F.lit(\"srag\"))#.withColumnRenamed(\"data_entrada\",\"value\")"
   ]
  },
  {
   "cell_type": "code",
   "execution_count": 27,
   "id": "e456618a",
   "metadata": {},
   "outputs": [],
   "source": [
    "periodo_obs = vac_long.unionByName(srag_datas,allowMissingColumns=True)\n"
   ]
  },
  {
   "cell_type": "code",
   "execution_count": 28,
   "id": "0ac358c9",
   "metadata": {},
   "outputs": [
    {
     "name": "stdout",
     "output_type": "stream",
     "text": [
      "+------------+-----------------+------------+----------+\n",
      "|   id_vigvac|         variable|data_entrada|data_saida|\n",
      "+------------+-----------------+------------+----------+\n",
      "|463856467968|d1_data_aplicacao|  2021-05-28|      null|\n",
      "|463856467968|d2_data_aplicacao|  2021-08-26|      null|\n",
      "|463856467969|d1_data_aplicacao|  2021-09-11|      null|\n",
      "|463856467970|d1_data_aplicacao|  2021-06-23|      null|\n",
      "|463856467970|d2_data_aplicacao|  2021-10-19|      null|\n",
      "|463856467970|d3_data_aplicacao|  2022-03-02|      null|\n",
      "|463856467971|d1_data_aplicacao|  2021-09-16|      null|\n",
      "|463856467971|d2_data_aplicacao|  2021-11-12|      null|\n",
      "|463856467972|d1_data_aplicacao|  2021-06-18|      null|\n",
      "|463856467972|d2_data_aplicacao|  2021-09-10|      null|\n",
      "|463856467973|d1_data_aplicacao|  2021-10-20|      null|\n",
      "|463856467973|d2_data_aplicacao|  2022-01-03|      null|\n",
      "|463856467974|d1_data_aplicacao|  2021-07-07|      null|\n",
      "|463856467974|d2_data_aplicacao|  2022-02-19|      null|\n",
      "|463856467975|d1_data_aplicacao|  2021-07-22|      null|\n",
      "|463856467975|d2_data_aplicacao|  2021-10-14|      null|\n",
      "|463856467976|d1_data_aplicacao|  2021-05-31|      null|\n",
      "|463856467976|d2_data_aplicacao|  2021-07-26|      null|\n",
      "|463856467977|d1_data_aplicacao|  2021-05-13|      null|\n",
      "|463856467977|d2_data_aplicacao|  2021-08-06|      null|\n",
      "+------------+-----------------+------------+----------+\n",
      "only showing top 20 rows\n",
      "\n"
     ]
    }
   ],
   "source": [
    "periodo_obs.show(20)"
   ]
  },
  {
   "cell_type": "markdown",
   "id": "1596c6c8",
   "metadata": {},
   "source": [
    "se o registro é diferente de um registro de srag, nesse ponto temos dados somente de vacina, então a data de saida fica sendo a data de entrada"
   ]
  },
  {
   "cell_type": "code",
   "execution_count": 29,
   "id": "2cb12292",
   "metadata": {},
   "outputs": [],
   "source": [
    "periodo_obs = periodo_obs.withColumn(\"data_saida\",F.when(F.col(\"variable\") != \"srag\", F.col(\"data_entrada\")).otherwise(F.col(\"data_saida\") ) ) "
   ]
  },
  {
   "cell_type": "code",
   "execution_count": 30,
   "id": "805b8554",
   "metadata": {},
   "outputs": [
    {
     "name": "stdout",
     "output_type": "stream",
     "text": [
      "+------------+-----------------+------------+----------+\n",
      "|   id_vigvac|         variable|data_entrada|data_saida|\n",
      "+------------+-----------------+------------+----------+\n",
      "|463856467968|d1_data_aplicacao|  2021-05-28|2021-05-28|\n",
      "|463856467968|d2_data_aplicacao|  2021-08-26|2021-08-26|\n",
      "|463856467969|d1_data_aplicacao|  2021-09-11|2021-09-11|\n",
      "|463856467970|d1_data_aplicacao|  2021-06-23|2021-06-23|\n",
      "|463856467970|d2_data_aplicacao|  2021-10-19|2021-10-19|\n",
      "|463856467970|d3_data_aplicacao|  2022-03-02|2022-03-02|\n",
      "|463856467971|d1_data_aplicacao|  2021-09-16|2021-09-16|\n",
      "|463856467971|d2_data_aplicacao|  2021-11-12|2021-11-12|\n",
      "|463856467972|d1_data_aplicacao|  2021-06-18|2021-06-18|\n",
      "|463856467972|d2_data_aplicacao|  2021-09-10|2021-09-10|\n",
      "+------------+-----------------+------------+----------+\n",
      "only showing top 10 rows\n",
      "\n"
     ]
    }
   ],
   "source": [
    "periodo_obs.show(10)"
   ]
  },
  {
   "cell_type": "markdown",
   "id": "2f278596",
   "metadata": {},
   "source": [
    "#### sg"
   ]
  },
  {
   "cell_type": "code",
   "execution_count": null,
   "id": "b113c8c3-1677-4a09-96f6-256f41a20dc0",
   "metadata": {},
   "outputs": [],
   "source": []
  },
  {
   "cell_type": "code",
   "execution_count": 31,
   "id": "f104abd4",
   "metadata": {},
   "outputs": [],
   "source": [
    "sg = spark.read.parquet(\"/dados10t/datalake/standard/vigivac/SG/sg_long_09072022_v9.parquet/\")"
   ]
  },
  {
   "cell_type": "code",
   "execution_count": 32,
   "id": "46df3ab7",
   "metadata": {},
   "outputs": [
    {
     "data": {
      "text/plain": [
       "82896519"
      ]
     },
     "execution_count": 32,
     "metadata": {},
     "output_type": "execute_result"
    }
   ],
   "source": [
    "sg.count()"
   ]
  },
  {
   "cell_type": "code",
   "execution_count": 33,
   "id": "9a1d1e8e",
   "metadata": {},
   "outputs": [
    {
     "name": "stdout",
     "output_type": "stream",
     "text": [
      "root\n",
      " |-- dt_datanotificacao: date (nullable = true)\n",
      " |-- dt_datainiciosintomas: date (nullable = true)\n",
      " |-- dt_datateste: date (nullable = true)\n",
      " |-- condicoes: string (nullable = true)\n",
      " |-- sintomas: string (nullable = true)\n",
      " |-- classificacaofinal: string (nullable = true)\n",
      " |-- dt_dataencerramento: date (nullable = true)\n",
      " |-- evolucaocaso: string (nullable = true)\n",
      " |-- tipoteste: string (nullable = true)\n",
      " |-- resultadoteste: string (nullable = true)\n",
      " |-- codigotipoteste: string (nullable = true)\n",
      " |-- codigoresultadoteste: string (nullable = true)\n",
      " |-- estadonotificacao: string (nullable = true)\n",
      " |-- municipio: string (nullable = true)\n",
      " |-- estado: string (nullable = true)\n",
      " |-- idade: double (nullable = true)\n",
      " |-- codigo_ibge_resid: string (nullable = true)\n",
      " |-- profissionalsaude: string (nullable = true)\n",
      " |-- cbo: string (nullable = true)\n",
      " |-- evolucaocaso_2: string (nullable = true)\n",
      " |-- classificacaofinal_2: string (nullable = true)\n",
      " |-- sexo_2: string (nullable = true)\n",
      " |-- racacor_2: string (nullable = true)\n",
      " |-- condicoes_2: string (nullable = true)\n",
      " |-- tipoteste_2: string (nullable = true)\n",
      " |-- sg: string (nullable = true)\n",
      " |-- srag: string (nullable = true)\n",
      " |-- vacinacao: string (nullable = true)\n",
      " |-- id_vigvac: long (nullable = true)\n",
      "\n"
     ]
    }
   ],
   "source": [
    "sg.printSchema()"
   ]
  },
  {
   "cell_type": "code",
   "execution_count": 34,
   "id": "77e02aa0",
   "metadata": {},
   "outputs": [],
   "source": [
    "sg_v2 = sg.select(\"id_vigvac\",\"dt_datanotificacao\",\"dt_datainiciosintomas\",\"dt_datateste\",\"dt_dataencerramento\",\"evolucaocaso_2\")"
   ]
  },
  {
   "cell_type": "code",
   "execution_count": 35,
   "id": "611de489",
   "metadata": {},
   "outputs": [
    {
     "name": "stdout",
     "output_type": "stream",
     "text": [
      "% não nulos id_vigvac : 100.0\n"
     ]
    },
    {
     "name": "stderr",
     "output_type": "stream",
     "text": [
      "                                                                                \r"
     ]
    },
    {
     "name": "stdout",
     "output_type": "stream",
     "text": [
      "% não nulos dt_datanotificacao : 99.99959467538076\n"
     ]
    },
    {
     "name": "stderr",
     "output_type": "stream",
     "text": [
      "                                                                                \r"
     ]
    },
    {
     "name": "stdout",
     "output_type": "stream",
     "text": [
      "% não nulos dt_datainiciosintomas : 91.61799664953362\n"
     ]
    },
    {
     "name": "stderr",
     "output_type": "stream",
     "text": [
      "                                                                                \r"
     ]
    },
    {
     "name": "stdout",
     "output_type": "stream",
     "text": [
      "% não nulos dt_datateste : 83.51046562039596\n"
     ]
    },
    {
     "name": "stderr",
     "output_type": "stream",
     "text": [
      "\r",
      "[Stage 103:=====================================================> (33 + 1) / 34]\r",
      "\r",
      "                                                                                \r"
     ]
    },
    {
     "name": "stdout",
     "output_type": "stream",
     "text": [
      "% não nulos dt_dataencerramento : 42.60621486410063\n"
     ]
    },
    {
     "name": "stderr",
     "output_type": "stream",
     "text": [
      "\r",
      "[Stage 106:===============>                                      (10 + 24) / 34]\r",
      "\r",
      "[Stage 106:===================================================>   (32 + 2) / 34]\r"
     ]
    },
    {
     "name": "stdout",
     "output_type": "stream",
     "text": [
      "% não nulos evolucaocaso_2 : 39.73388074353279\n",
      "6\n"
     ]
    },
    {
     "name": "stderr",
     "output_type": "stream",
     "text": [
      "\r",
      "                                                                                \r"
     ]
    }
   ],
   "source": [
    "total = sg_v2.count()\n",
    "\n",
    "i = 0\n",
    "for variavel in sg_v2.columns:\n",
    "    i = i+1\n",
    "    nao_vazios = sg_v2.filter(F.col(variavel).isNull()).count()\n",
    "    porcent = nao_vazios * 100 / total\n",
    "    print(\"% não nulos {} : {}\".format(variavel,100 - porcent))\n",
    "print(i)"
   ]
  },
  {
   "cell_type": "code",
   "execution_count": 36,
   "id": "87da2cb3",
   "metadata": {},
   "outputs": [],
   "source": [
    "sg_datas = sg_v2.withColumn(\"data_entrada\",F.coalesce(F.col(\"dt_datainiciosintomas\") , F.col(\"dt_datanotificacao\"), F.col(\"dt_datateste\")  ) )\n",
    "sg_datas = sg_datas.withColumn(\"data_saida\",F.coalesce(F.col(\"dt_dataencerramento\"),F.col(\"dt_datateste\"),F.col(\"dt_datanotificacao\") )  ).withColumn(\"variable\",F.lit(\"sg\"))#.select(\"id_vigvac\",\"data_entrada\",\"data_saida\",\"variable\")"
   ]
  },
  {
   "cell_type": "code",
   "execution_count": 37,
   "id": "84267771",
   "metadata": {},
   "outputs": [
    {
     "data": {
      "text/plain": [
       "82896519"
      ]
     },
     "execution_count": 37,
     "metadata": {},
     "output_type": "execute_result"
    }
   ],
   "source": [
    "sg_v2.count()"
   ]
  },
  {
   "cell_type": "code",
   "execution_count": 38,
   "id": "25c4b97e",
   "metadata": {},
   "outputs": [
    {
     "name": "stderr",
     "output_type": "stream",
     "text": [
      "                                                                                \r"
     ]
    },
    {
     "name": "stdout",
     "output_type": "stream",
     "text": [
      "N não nulos data entrada sg 82896502\n"
     ]
    },
    {
     "name": "stderr",
     "output_type": "stream",
     "text": [
      "[Stage 115:=====================================================> (33 + 1) / 34]\r"
     ]
    },
    {
     "name": "stdout",
     "output_type": "stream",
     "text": [
      "N não nulos data saida sg 82896257\n"
     ]
    },
    {
     "name": "stderr",
     "output_type": "stream",
     "text": [
      "\r",
      "                                                                                \r"
     ]
    }
   ],
   "source": [
    "print(\"N não nulos data entrada sg {}\".format(sg_datas.filter(F.col(\"data_entrada\").isNotNull() ).count()))\n",
    "print(\"N não nulos data saida sg {}\".format(sg_datas.filter(F.col(\"data_saida\").isNotNull() ).count()) )"
   ]
  },
  {
   "cell_type": "code",
   "execution_count": 39,
   "id": "21258c8f",
   "metadata": {},
   "outputs": [
    {
     "data": {
      "text/plain": [
       "262"
      ]
     },
     "execution_count": 39,
     "metadata": {},
     "output_type": "execute_result"
    }
   ],
   "source": [
    "82896519-82896257"
   ]
  },
  {
   "cell_type": "markdown",
   "id": "b9291911",
   "metadata": {},
   "source": [
    "# 33701 sem data de saida no srag melhorar e 1292 casos onde a data de entrada e maior que a de saida\n",
    "##### casos por exemplo que a data da internação e anterior a data dos primeiros sintomas entre outros"
   ]
  },
  {
   "cell_type": "code",
   "execution_count": 40,
   "id": "08322c13",
   "metadata": {},
   "outputs": [
    {
     "name": "stderr",
     "output_type": "stream",
     "text": [
      "                                                                                \r"
     ]
    },
    {
     "data": {
      "text/plain": [
       "2844630"
      ]
     },
     "execution_count": 40,
     "metadata": {},
     "output_type": "execute_result"
    }
   ],
   "source": [
    "sg_datas.filter(F.col(\"data_entrada\") > F.col(\"data_saida\") ).count()"
   ]
  },
  {
   "cell_type": "code",
   "execution_count": 41,
   "id": "fda148cf",
   "metadata": {},
   "outputs": [
    {
     "name": "stdout",
     "output_type": "stream",
     "text": [
      "+------------+------------------+---------------------+------------+-------------------+--------------+------------+----------+--------+\n",
      "|   id_vigvac|dt_datanotificacao|dt_datainiciosintomas|dt_datateste|dt_dataencerramento|evolucaocaso_2|data_entrada|data_saida|variable|\n",
      "+------------+------------------+---------------------+------------+-------------------+--------------+------------+----------+--------+\n",
      "|463856468113|        2020-06-27|                 null|  2020-06-17|               null|     Cancelado|  2020-06-27|2020-06-17|      sg|\n",
      "|463856468133|        2022-01-08|                 null|  2022-01-07|               null|          null|  2022-01-08|2022-01-07|      sg|\n",
      "|463856468213|        2022-02-23|                 null|  2022-01-24|               null|          null|  2022-02-23|2022-01-24|      sg|\n",
      "|463856468354|        2022-01-28|                 null|  2022-01-11|               null|          null|  2022-01-28|2022-01-11|      sg|\n",
      "|463856468395|        2021-03-31|           2021-03-24|  2021-03-26|         2021-03-06|          Cura|  2021-03-24|2021-03-06|      sg|\n",
      "+------------+------------------+---------------------+------------+-------------------+--------------+------------+----------+--------+\n",
      "only showing top 5 rows\n",
      "\n"
     ]
    }
   ],
   "source": [
    "sg_datas.filter(F.col(\"data_entrada\") > F.col(\"data_saida\") ).show(5)"
   ]
  },
  {
   "cell_type": "code",
   "execution_count": 42,
   "id": "47e4be65",
   "metadata": {},
   "outputs": [],
   "source": [
    "sg_datas_v2 = sg_datas.select(\"id_vigvac\",\"data_entrada\",\"data_saida\",\"evolucaocaso_2\",\"variable\")"
   ]
  },
  {
   "cell_type": "markdown",
   "id": "88e0c667",
   "metadata": {},
   "source": [
    "### sg"
   ]
  },
  {
   "cell_type": "code",
   "execution_count": 43,
   "id": "f901a9c8",
   "metadata": {},
   "outputs": [
    {
     "name": "stdout",
     "output_type": "stream",
     "text": [
      "+------------+------------+----------+--------------------+--------+\n",
      "|   id_vigvac|data_entrada|data_saida|      evolucaocaso_2|variable|\n",
      "+------------+------------+----------+--------------------+--------+\n",
      "|463856467979|  2021-05-31|2021-05-31|                null|      sg|\n",
      "|463856467983|  2021-03-22|2021-05-24|                Cura|      sg|\n",
      "|463856467985|  2021-01-10|2022-01-13|                null|      sg|\n",
      "|463856467990|  2022-01-23|2022-01-24|                null|      sg|\n",
      "|463856467992|  2021-01-24|2021-02-02|Em tratamento dom...|      sg|\n",
      "|463856467998|  2022-01-15|2022-01-19|                null|      sg|\n",
      "|463856467999|  2021-02-14|2021-02-16|                null|      sg|\n",
      "|463856467999|  2021-02-14|2021-02-16|           Cancelado|      sg|\n",
      "|463856467999|  2022-03-06|2022-03-11|                null|      sg|\n",
      "|463856467999|  2021-04-08|2021-04-12|                null|      sg|\n",
      "+------------+------------+----------+--------------------+--------+\n",
      "only showing top 10 rows\n",
      "\n"
     ]
    }
   ],
   "source": [
    "sg_datas_v2.show(10)"
   ]
  },
  {
   "cell_type": "code",
   "execution_count": 44,
   "id": "bfc7085e",
   "metadata": {},
   "outputs": [],
   "source": [
    "periodo_obs_long = periodo_obs.unionByName(sg_datas_v2,allowMissingColumns=True)"
   ]
  },
  {
   "cell_type": "code",
   "execution_count": 45,
   "id": "93d89e94",
   "metadata": {},
   "outputs": [
    {
     "name": "stderr",
     "output_type": "stream",
     "text": [
      "[Stage 123:====================================================>(112 + 1) / 113]\r"
     ]
    },
    {
     "name": "stdout",
     "output_type": "stream",
     "text": [
      "+-----------------+---------+\n",
      "|variable         |count    |\n",
      "+-----------------+---------+\n",
      "|d1_data_aplicacao|183759941|\n",
      "|d2_data_aplicacao|159314222|\n",
      "|d3_data_aplicacao|84018885 |\n",
      "|sg               |82896519 |\n",
      "|d4_data_aplicacao|18936809 |\n",
      "|srag             |2487085  |\n",
      "|d5_data_aplicacao|187496   |\n",
      "+-----------------+---------+\n",
      "\n"
     ]
    },
    {
     "name": "stderr",
     "output_type": "stream",
     "text": [
      "\r",
      "                                                                                \r"
     ]
    }
   ],
   "source": [
    "periodo_obs_long.groupBy(\"variable\").count().orderBy(F.desc(\"count\")).show(300,False)"
   ]
  },
  {
   "cell_type": "code",
   "execution_count": 46,
   "id": "2bf978d8",
   "metadata": {},
   "outputs": [
    {
     "name": "stderr",
     "output_type": "stream",
     "text": [
      "                                                                                \r"
     ]
    },
    {
     "name": "stdout",
     "output_type": "stream",
     "text": [
      "% não nulos id_vigvac : 100.0\n"
     ]
    },
    {
     "name": "stderr",
     "output_type": "stream",
     "text": [
      "                                                                                \r"
     ]
    },
    {
     "name": "stdout",
     "output_type": "stream",
     "text": [
      "% não nulos variable : 100.0\n"
     ]
    },
    {
     "name": "stderr",
     "output_type": "stream",
     "text": [
      "                                                                                \r"
     ]
    },
    {
     "name": "stdout",
     "output_type": "stream",
     "text": [
      "% não nulos data_entrada : 99.9999968021126\n"
     ]
    },
    {
     "name": "stderr",
     "output_type": "stream",
     "text": [
      "                                                                                \r"
     ]
    },
    {
     "name": "stdout",
     "output_type": "stream",
     "text": [
      "% não nulos data_saida : 99.9542389838098\n"
     ]
    },
    {
     "name": "stderr",
     "output_type": "stream",
     "text": [
      "[Stage 141:====================================================>(112 + 1) / 113]\r"
     ]
    },
    {
     "name": "stdout",
     "output_type": "stream",
     "text": [
      "% não nulos evolucaocaso_2 : 6.196001637371012\n",
      "5\n"
     ]
    },
    {
     "name": "stderr",
     "output_type": "stream",
     "text": [
      "\r",
      "                                                                                \r"
     ]
    }
   ],
   "source": [
    "total = periodo_obs_long.count()\n",
    "\n",
    "i = 0\n",
    "for variavel in periodo_obs_long.columns:\n",
    "    i = i+1\n",
    "    nao_vazios = periodo_obs_long.filter(F.col(variavel).isNull()).count()\n",
    "    porcent = nao_vazios * 100 / total\n",
    "    print(\"% não nulos {} : {}\".format(variavel,100 - porcent))\n",
    "print(i)"
   ]
  },
  {
   "cell_type": "code",
   "execution_count": 47,
   "id": "3864eaa4",
   "metadata": {
    "scrolled": true
   },
   "outputs": [],
   "source": [
    "#periodo_obs_long.filter(F.col(\"variable\") == \"srag\").show(10)"
   ]
  },
  {
   "cell_type": "code",
   "execution_count": 48,
   "id": "1a212bc3",
   "metadata": {},
   "outputs": [],
   "source": [
    "#periodo_obs_long.filter(F.col(\"variable\") == \"sg\").show(10)"
   ]
  },
  {
   "cell_type": "code",
   "execution_count": 49,
   "id": "ad042135",
   "metadata": {},
   "outputs": [],
   "source": [
    "#periodo_obs_long.show(100)"
   ]
  },
  {
   "cell_type": "code",
   "execution_count": 50,
   "id": "9cee908a",
   "metadata": {},
   "outputs": [],
   "source": [
    "#F.col()\n",
    "\n",
    "#periodo_obs_long = periodo_obs_long.withColumn(F.when()  )"
   ]
  },
  {
   "cell_type": "code",
   "execution_count": 51,
   "id": "48f7f3f5",
   "metadata": {},
   "outputs": [],
   "source": [
    "periodo_obs_long_v2 = periodo_obs_long.selectExpr(\"id_vigvac\",\"variable\",\"stack(2,'data_entrada',data_entrada,'data_saida',data_saida) as (variable2,data)\" )"
   ]
  },
  {
   "cell_type": "code",
   "execution_count": 52,
   "id": "ad2020ff",
   "metadata": {},
   "outputs": [
    {
     "name": "stdout",
     "output_type": "stream",
     "text": [
      "root\n",
      " |-- id_vigvac: long (nullable = true)\n",
      " |-- variable: string (nullable = true)\n",
      " |-- variable2: string (nullable = true)\n",
      " |-- data: date (nullable = true)\n",
      "\n"
     ]
    }
   ],
   "source": [
    "periodo_obs_long_v2.printSchema()"
   ]
  },
  {
   "cell_type": "code",
   "execution_count": 53,
   "id": "4f4ff1d5",
   "metadata": {},
   "outputs": [
    {
     "name": "stdout",
     "output_type": "stream",
     "text": [
      "+------------+-----------------+------------+----------+\n",
      "|   id_vigvac|         variable|   variable2|      data|\n",
      "+------------+-----------------+------------+----------+\n",
      "|463856467968|d1_data_aplicacao|data_entrada|2021-05-28|\n",
      "|463856467968|d1_data_aplicacao|  data_saida|2021-05-28|\n",
      "|463856467968|d2_data_aplicacao|data_entrada|2021-08-26|\n",
      "|463856467968|d2_data_aplicacao|  data_saida|2021-08-26|\n",
      "|463856467969|d1_data_aplicacao|data_entrada|2021-09-11|\n",
      "+------------+-----------------+------------+----------+\n",
      "only showing top 5 rows\n",
      "\n"
     ]
    }
   ],
   "source": [
    "periodo_obs_long_v2.show(5)"
   ]
  },
  {
   "cell_type": "code",
   "execution_count": null,
   "id": "80a28e2c",
   "metadata": {},
   "outputs": [],
   "source": []
  },
  {
   "cell_type": "code",
   "execution_count": 54,
   "id": "2df8c8b6",
   "metadata": {},
   "outputs": [],
   "source": [
    "tb_periodo_obs = periodo_obs_long_v2.groupBy(\"id_vigvac\").agg(F.min(\"data\").alias(\"observation_period_start_date\") ,F.max(\"data\").alias(\"observation_period_end_date\") ).cache()"
   ]
  },
  {
   "cell_type": "code",
   "execution_count": 55,
   "id": "c06ee9f1",
   "metadata": {},
   "outputs": [
    {
     "name": "stderr",
     "output_type": "stream",
     "text": [
      "                                                                                \r"
     ]
    },
    {
     "data": {
      "text/plain": [
       "188537327"
      ]
     },
     "execution_count": 55,
     "metadata": {},
     "output_type": "execute_result"
    }
   ],
   "source": [
    "tb_periodo_obs.count() #188537327"
   ]
  },
  {
   "cell_type": "code",
   "execution_count": 56,
   "id": "4da56910",
   "metadata": {},
   "outputs": [
    {
     "name": "stdout",
     "output_type": "stream",
     "text": [
      "+------------+-----------------------------+---------------------------+\n",
      "|   id_vigvac|observation_period_start_date|observation_period_end_date|\n",
      "+------------+-----------------------------+---------------------------+\n",
      "|463856467978|                   2021-05-25|                 2021-07-01|\n",
      "|463856468033|                   2021-08-13|                 2021-11-25|\n",
      "|463856468157|                   2021-05-25|                 2022-04-29|\n",
      "|463856468260|                   2021-08-10|                 2022-03-02|\n",
      "|463856468291|                   2021-11-08|                 2021-12-20|\n",
      "+------------+-----------------------------+---------------------------+\n",
      "only showing top 5 rows\n",
      "\n"
     ]
    }
   ],
   "source": [
    "tb_periodo_obs.show(5)"
   ]
  },
  {
   "cell_type": "code",
   "execution_count": 57,
   "id": "8677e447",
   "metadata": {},
   "outputs": [],
   "source": [
    "#srag_v2.filter(F.col(\"id_vigvac\") == \"1065152481134\").take(2)"
   ]
  },
  {
   "cell_type": "code",
   "execution_count": 58,
   "id": "50ab7551",
   "metadata": {},
   "outputs": [],
   "source": [
    "#periodo_obs_long_v2.filter(F.col(\"id_vigvac\").isin(['1511828488212','1511828488233','1511828488237','1511828488669','1065152481134','463856469127'])).orderBy(\"id_vigvac\").show(100)"
   ]
  },
  {
   "cell_type": "code",
   "execution_count": 59,
   "id": "1bab2237",
   "metadata": {},
   "outputs": [],
   "source": [
    "#tb_periodo_obs.filter(F.col(\"id_vigvac\").isin(['1511828488212','1511828488233','1511828488237','1511828488669','1065152481134','463856469127'])).orderBy(\"id_vigvac\").show(100)"
   ]
  },
  {
   "cell_type": "markdown",
   "id": "c5c36749",
   "metadata": {},
   "source": [
    "###  nessa versão 2 a data final é igual a data do update do banco de dados"
   ]
  },
  {
   "cell_type": "code",
   "execution_count": 60,
   "id": "735cd581",
   "metadata": {},
   "outputs": [],
   "source": [
    "tb_periodo_obs_opcao2 = tb_periodo_obs.withColumn(\"observation_period_end_date\",F.to_date(F.lit(\"2022-07-30\")))"
   ]
  },
  {
   "cell_type": "markdown",
   "id": "95465577",
   "metadata": {},
   "source": [
    "#### a partir daqui vou tratar dois bancos , um com data final que é a data da extração e a data inicial é o primeiro evento, e um segundo banco onde a data final é a data do último evento registrado"
   ]
  },
  {
   "cell_type": "code",
   "execution_count": 61,
   "id": "c19a41a1",
   "metadata": {},
   "outputs": [],
   "source": [
    "tb_periodo_obs = tb_periodo_obs.withColumn(\"period_type_concept_id\",F.lit(\"32817\"))\n",
    "tb_periodo_obs_opcao2 = tb_periodo_obs_opcao2.withColumn(\"period_type_concept_id\",F.lit(\"32817\"))"
   ]
  },
  {
   "cell_type": "code",
   "execution_count": 62,
   "id": "dc1dc288",
   "metadata": {},
   "outputs": [],
   "source": [
    "#tb_periodo_obs = tb_periodo_obs.withColumn(\"observation_period_id\",F.monotonically_increasing_id())\n",
    "tb_periodo_obs = tb_periodo_obs.withColumnRenamed(\"id_vigvac\",\"person_id\")\n",
    "\n",
    "#tb_periodo_obs_opcao2 = tb_periodo_obs_opcao2.withColumn(\"observation_period_id\",F.monotonically_increasing_id())\n",
    "tb_periodo_obs_opcao2 = tb_periodo_obs_opcao2.withColumnRenamed(\"id_vigvac\",\"person_id\")"
   ]
  },
  {
   "cell_type": "code",
   "execution_count": 63,
   "id": "27d3369c",
   "metadata": {},
   "outputs": [
    {
     "name": "stdout",
     "output_type": "stream",
     "text": [
      "root\n",
      " |-- person_id: long (nullable = true)\n",
      " |-- observation_period_start_date: date (nullable = true)\n",
      " |-- observation_period_end_date: date (nullable = true)\n",
      " |-- period_type_concept_id: string (nullable = false)\n",
      "\n"
     ]
    }
   ],
   "source": [
    "tb_periodo_obs.printSchema()"
   ]
  },
  {
   "cell_type": "code",
   "execution_count": 64,
   "id": "6405dab3",
   "metadata": {},
   "outputs": [
    {
     "name": "stdout",
     "output_type": "stream",
     "text": [
      "root\n",
      " |-- person_id: long (nullable = true)\n",
      " |-- observation_period_start_date: date (nullable = true)\n",
      " |-- observation_period_end_date: date (nullable = true)\n",
      " |-- period_type_concept_id: string (nullable = false)\n",
      "\n"
     ]
    }
   ],
   "source": [
    "tb_periodo_obs_opcao2.printSchema()"
   ]
  },
  {
   "cell_type": "code",
   "execution_count": 65,
   "id": "cf16ef46",
   "metadata": {},
   "outputs": [
    {
     "name": "stderr",
     "output_type": "stream",
     "text": [
      "                                                                                \r"
     ]
    },
    {
     "data": {
      "text/plain": [
       "0"
      ]
     },
     "execution_count": 65,
     "metadata": {},
     "output_type": "execute_result"
    }
   ],
   "source": [
    "tb_periodo_obs.filter(F.col(\"observation_period_start_date\") > F.col(\"observation_period_end_date\")).count()"
   ]
  },
  {
   "cell_type": "code",
   "execution_count": 66,
   "id": "da755df3",
   "metadata": {},
   "outputs": [
    {
     "data": {
      "text/plain": [
       "0"
      ]
     },
     "execution_count": 66,
     "metadata": {},
     "output_type": "execute_result"
    }
   ],
   "source": [
    "tb_periodo_obs_opcao2.filter(F.col(\"observation_period_start_date\") > F.col(\"observation_period_end_date\")).count()"
   ]
  },
  {
   "cell_type": "code",
   "execution_count": 67,
   "id": "ec1bab27",
   "metadata": {},
   "outputs": [
    {
     "name": "stdout",
     "output_type": "stream",
     "text": [
      "+------------+-----------------------------+---------------------------+----------------------+\n",
      "|   person_id|observation_period_start_date|observation_period_end_date|period_type_concept_id|\n",
      "+------------+-----------------------------+---------------------------+----------------------+\n",
      "|463856467978|                   2021-05-25|                 2021-07-01|                 32817|\n",
      "|463856468033|                   2021-08-13|                 2021-11-25|                 32817|\n",
      "|463856468157|                   2021-05-25|                 2022-04-29|                 32817|\n",
      "|463856468260|                   2021-08-10|                 2022-03-02|                 32817|\n",
      "|463856468291|                   2021-11-08|                 2021-12-20|                 32817|\n",
      "|463856468413|                   2020-07-22|                 2022-02-04|                 32817|\n",
      "|463856468511|                   2021-06-01|                 2021-06-28|                 32817|\n",
      "|463856468748|                   2021-06-15|                 2021-09-14|                 32817|\n",
      "|463856469127|                   2022-01-25|                 2022-01-25|                 32817|\n",
      "|463856469310|                   2021-09-11|                 2021-11-16|                 32817|\n",
      "+------------+-----------------------------+---------------------------+----------------------+\n",
      "only showing top 10 rows\n",
      "\n"
     ]
    }
   ],
   "source": [
    "tb_periodo_obs.show(10)"
   ]
  },
  {
   "cell_type": "code",
   "execution_count": 68,
   "id": "8cfd073e",
   "metadata": {},
   "outputs": [],
   "source": [
    "teste1 = tb_periodo_obs.withColumn(\"days\",F.datediff(\"observation_period_end_date\",\"observation_period_start_date\"))\n",
    "\n",
    "teste2 = tb_periodo_obs_opcao2.withColumn(\"days\",F.datediff(\"observation_period_end_date\",\"observation_period_start_date\"))"
   ]
  },
  {
   "cell_type": "code",
   "execution_count": 69,
   "id": "eb40e37d",
   "metadata": {},
   "outputs": [
    {
     "name": "stderr",
     "output_type": "stream",
     "text": [
      "\r",
      "[Stage 165:===================================>                (136 + 32) / 200]\r"
     ]
    },
    {
     "name": "stdout",
     "output_type": "stream",
     "text": [
      "+-------+------------------+\n",
      "|summary|              days|\n",
      "+-------+------------------+\n",
      "|  count|         188537327|\n",
      "|   mean|206.42901999984332|\n",
      "| stddev|165.85111592540815|\n",
      "|    min|                 0|\n",
      "|    max|             44726|\n",
      "+-------+------------------+\n",
      "\n"
     ]
    },
    {
     "name": "stderr",
     "output_type": "stream",
     "text": [
      "\r",
      "[Stage 168:>                                                        (0 + 1) / 1]\r",
      "\r",
      "                                                                                \r"
     ]
    }
   ],
   "source": [
    "teste1.describe(\"days\").show()"
   ]
  },
  {
   "cell_type": "code",
   "execution_count": 70,
   "id": "375cc60f",
   "metadata": {},
   "outputs": [
    {
     "name": "stdout",
     "output_type": "stream",
     "text": [
      "+-------+------------------+\n",
      "|summary|              days|\n",
      "+-------+------------------+\n",
      "|  count|         188537327|\n",
      "|   mean| 412.8456537362493|\n",
      "| stddev|141.81791976279638|\n",
      "|    min|                22|\n",
      "|    max|             44772|\n",
      "+-------+------------------+\n",
      "\n"
     ]
    }
   ],
   "source": [
    "teste2.describe(\"days\").show()"
   ]
  },
  {
   "cell_type": "code",
   "execution_count": 71,
   "id": "98624653",
   "metadata": {},
   "outputs": [
    {
     "name": "stderr",
     "output_type": "stream",
     "text": [
      "                                                                                \r"
     ]
    },
    {
     "data": {
      "text/plain": [
       "20521728"
      ]
     },
     "execution_count": 71,
     "metadata": {},
     "output_type": "execute_result"
    }
   ],
   "source": [
    "teste1.filter(F.col(\"days\") == 0).count()"
   ]
  },
  {
   "cell_type": "code",
   "execution_count": 72,
   "id": "6ddd9fef",
   "metadata": {},
   "outputs": [
    {
     "data": {
      "text/plain": [
       "0"
      ]
     },
     "execution_count": 72,
     "metadata": {},
     "output_type": "execute_result"
    }
   ],
   "source": [
    "teste2.filter(F.col(\"days\") == 0).count()"
   ]
  },
  {
   "cell_type": "code",
   "execution_count": 73,
   "id": "495a03a6",
   "metadata": {},
   "outputs": [
    {
     "name": "stdout",
     "output_type": "stream",
     "text": [
      "root\n",
      " |-- person_id: long (nullable = true)\n",
      " |-- observation_period_start_date: date (nullable = true)\n",
      " |-- observation_period_end_date: date (nullable = true)\n",
      " |-- period_type_concept_id: string (nullable = false)\n",
      "\n"
     ]
    }
   ],
   "source": [
    "tb_periodo_obs_opcao2.printSchema()"
   ]
  },
  {
   "cell_type": "code",
   "execution_count": 74,
   "id": "1206b2a7",
   "metadata": {},
   "outputs": [],
   "source": [
    "tb_periodo_obs_opcao2 = tb_periodo_obs_opcao2.select(\"person_id\",\"observation_period_start_date\",\"observation_period_end_date\",\"period_type_concept_id\")"
   ]
  },
  {
   "cell_type": "code",
   "execution_count": 75,
   "id": "8def67a0",
   "metadata": {},
   "outputs": [],
   "source": [
    "pacientes_v6 = spark.read.parquet(\"/dados10t/datalake/standard/omop/tabelas_omop_cmd_5.4_v1/tb_person.parquet/\")"
   ]
  },
  {
   "cell_type": "code",
   "execution_count": 76,
   "id": "151fd865",
   "metadata": {},
   "outputs": [
    {
     "name": "stderr",
     "output_type": "stream",
     "text": [
      "                                                                                \r"
     ]
    },
    {
     "data": {
      "text/plain": [
       "188537327"
      ]
     },
     "execution_count": 76,
     "metadata": {},
     "output_type": "execute_result"
    }
   ],
   "source": [
    "pacientes_v6.count() # 187634532"
   ]
  },
  {
   "cell_type": "code",
   "execution_count": 77,
   "id": "83f23f0c",
   "metadata": {},
   "outputs": [
    {
     "name": "stdout",
     "output_type": "stream",
     "text": [
      "root\n",
      " |-- raca: string (nullable = true)\n",
      " |-- sexo: string (nullable = true)\n",
      " |-- id_vigvac: long (nullable = true)\n",
      " |-- gender_source_value: string (nullable = true)\n",
      " |-- race_source_value: string (nullable = true)\n",
      " |-- gender_concept_id: string (nullable = true)\n",
      " |-- race_concept_id: string (nullable = true)\n",
      " |-- year_of_birth: long (nullable = true)\n",
      " |-- month_of_birth: long (nullable = true)\n",
      " |-- day_of_birth: long (nullable = true)\n",
      " |-- birth_datetime: timestamp (nullable = true)\n",
      " |-- ethnicity_concept_id: string (nullable = true)\n",
      " |-- person_id: long (nullable = true)\n",
      "\n"
     ]
    }
   ],
   "source": [
    "pacientes_v6.printSchema()"
   ]
  },
  {
   "cell_type": "code",
   "execution_count": 78,
   "id": "4ed586fd",
   "metadata": {},
   "outputs": [
    {
     "name": "stdout",
     "output_type": "stream",
     "text": [
      "root\n",
      " |-- person_id: long (nullable = true)\n",
      " |-- observation_period_start_date: date (nullable = true)\n",
      " |-- observation_period_end_date: date (nullable = true)\n",
      " |-- period_type_concept_id: string (nullable = false)\n",
      "\n"
     ]
    }
   ],
   "source": [
    "tb_periodo_obs_opcao2.printSchema()"
   ]
  },
  {
   "cell_type": "code",
   "execution_count": 79,
   "id": "111b473a",
   "metadata": {},
   "outputs": [],
   "source": [
    "pacientes_join = pacientes_v6.select(\"person_id\",\"id_vigvac\")"
   ]
  },
  {
   "cell_type": "code",
   "execution_count": 80,
   "id": "55372d11",
   "metadata": {},
   "outputs": [],
   "source": [
    "tb_periodo_obs_opcao2 = tb_periodo_obs_opcao2.withColumnRenamed(\"person_id\",\"id_vigvac\")"
   ]
  },
  {
   "cell_type": "code",
   "execution_count": 81,
   "id": "db1aa20e",
   "metadata": {},
   "outputs": [],
   "source": [
    "tb_periodo_obs_opcao2_v2 = tb_periodo_obs_opcao2.join(pacientes_join,['id_vigvac'],'inner')"
   ]
  },
  {
   "cell_type": "code",
   "execution_count": 82,
   "id": "cd5a7695",
   "metadata": {},
   "outputs": [
    {
     "name": "stderr",
     "output_type": "stream",
     "text": [
      "                                                                                \r"
     ]
    },
    {
     "data": {
      "text/plain": [
       "188537327"
      ]
     },
     "execution_count": 82,
     "metadata": {},
     "output_type": "execute_result"
    }
   ],
   "source": [
    "tb_periodo_obs_opcao2_v2.count()"
   ]
  },
  {
   "cell_type": "code",
   "execution_count": 83,
   "id": "2f96277d",
   "metadata": {},
   "outputs": [
    {
     "name": "stdout",
     "output_type": "stream",
     "text": [
      "root\n",
      " |-- id_vigvac: long (nullable = true)\n",
      " |-- observation_period_start_date: date (nullable = true)\n",
      " |-- observation_period_end_date: date (nullable = true)\n",
      " |-- period_type_concept_id: string (nullable = false)\n",
      " |-- person_id: long (nullable = true)\n",
      "\n"
     ]
    }
   ],
   "source": [
    "tb_periodo_obs_opcao2_v2.printSchema()"
   ]
  },
  {
   "cell_type": "code",
   "execution_count": 84,
   "id": "d8c840b6",
   "metadata": {},
   "outputs": [],
   "source": [
    "import time\n",
    "start = time.time()"
   ]
  },
  {
   "cell_type": "code",
   "execution_count": 85,
   "id": "676fda60",
   "metadata": {},
   "outputs": [
    {
     "name": "stderr",
     "output_type": "stream",
     "text": [
      "                                                                                \r"
     ]
    }
   ],
   "source": [
    "tb_periodo_obs_opcao2_v3 = tb_periodo_obs_opcao2_v2.rdd.zipWithIndex().toDF().select(F.col(\"_1.*\"),F.col(\"_2\").alias('observation_period_id'))"
   ]
  },
  {
   "cell_type": "code",
   "execution_count": 86,
   "id": "016a4725",
   "metadata": {},
   "outputs": [
    {
     "name": "stdout",
     "output_type": "stream",
     "text": [
      "70.29584455490112\n"
     ]
    }
   ],
   "source": [
    "end = time.time()\n",
    "print(end - start)"
   ]
  },
  {
   "cell_type": "code",
   "execution_count": 87,
   "id": "389fcfec",
   "metadata": {},
   "outputs": [
    {
     "name": "stdout",
     "output_type": "stream",
     "text": [
      "root\n",
      " |-- id_vigvac: long (nullable = true)\n",
      " |-- observation_period_start_date: date (nullable = true)\n",
      " |-- observation_period_end_date: date (nullable = true)\n",
      " |-- period_type_concept_id: string (nullable = true)\n",
      " |-- person_id: long (nullable = true)\n",
      " |-- observation_period_id: long (nullable = true)\n",
      "\n"
     ]
    }
   ],
   "source": [
    "tb_periodo_obs_opcao2_v3.printSchema()"
   ]
  },
  {
   "cell_type": "code",
   "execution_count": 88,
   "id": "8f6f7eea",
   "metadata": {},
   "outputs": [
    {
     "name": "stderr",
     "output_type": "stream",
     "text": [
      "                                                                                \r"
     ]
    }
   ],
   "source": [
    "tb_periodo_obs_opcao2_v3.write.parquet(\"/dados10t/datalake/standard/omop/tabelas_omop_cmd_5.4_v1/tb_observation_period.parquet\") #OBSERVATION_PERIOD"
   ]
  },
  {
   "cell_type": "code",
   "execution_count": 90,
   "id": "27602663",
   "metadata": {},
   "outputs": [
    {
     "name": "stderr",
     "output_type": "stream",
     "text": [
      "                                                                                \r"
     ]
    },
    {
     "data": {
      "text/plain": [
       "188537327"
      ]
     },
     "execution_count": 90,
     "metadata": {},
     "output_type": "execute_result"
    }
   ],
   "source": [
    "tb_periodo_obs_opcao2_v3.select(\"observation_period_id\").distinct().count()"
   ]
  },
  {
   "cell_type": "code",
   "execution_count": null,
   "id": "4e411930",
   "metadata": {},
   "outputs": [],
   "source": [
    "188537327 == "
   ]
  },
  {
   "cell_type": "code",
   "execution_count": 89,
   "id": "4e1d5d4f",
   "metadata": {},
   "outputs": [
    {
     "name": "stdout",
     "output_type": "stream",
     "text": [
      "196.29272866249084\n"
     ]
    }
   ],
   "source": [
    "end = time.time()\n",
    "print(end - start)"
   ]
  }
 ],
 "metadata": {
  "kernelspec": {
   "display_name": "Python 3 (ipykernel)",
   "language": "python",
   "name": "python3"
  },
  "language_info": {
   "codemirror_mode": {
    "name": "ipython",
    "version": 3
   },
   "file_extension": ".py",
   "mimetype": "text/x-python",
   "name": "python",
   "nbconvert_exporter": "python",
   "pygments_lexer": "ipython3",
   "version": "3.10.12"
  }
 },
 "nbformat": 4,
 "nbformat_minor": 5
}
