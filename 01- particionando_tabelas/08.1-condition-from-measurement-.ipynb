{
 "cells": [
  {
   "cell_type": "code",
   "execution_count": 1,
   "id": "b2690f42-329f-4269-9bdb-5b30695a6394",
   "metadata": {},
   "outputs": [
    {
     "data": {
      "text/html": [
       "<style>.container { width:100% !important; }</style>"
      ],
      "text/plain": [
       "<IPython.core.display.HTML object>"
      ]
     },
     "metadata": {},
     "output_type": "display_data"
    }
   ],
   "source": [
    "from IPython.core.display import display, HTML\n",
    "display(HTML(\"<style>.container { width:100% !important; }</style>\"))\n",
    "from pyspark.sql import functions as F\n",
    "from pyspark.sql.types import *\n",
    "import pandas as pd\n",
    "from pyspark.sql.window import Window\n",
    "import time\n",
    "from pyspark.sql import SparkSession"
   ]
  },
  {
   "cell_type": "code",
   "execution_count": 2,
   "id": "a3127f96-31b1-4176-ab76-7fd9ee2a993b",
   "metadata": {},
   "outputs": [],
   "source": [
    "spark = SparkSession.builder \\\n",
    "       .master(\"local[*]\") \\\n",
    "       .appName(\"test\") \\\n",
    "       .config(\"spark.driver.memory\", \"80g\")\\\n",
    "       .config(\"spark.executor.memory\", \"50g\")\\\n",
    "       .config(\"spark.dirver.maxResultSize\", \"50g\")\\\n",
    "       .config('spark.local.dir', '/dados10t/datalake/raw/checkpoint_dir')\\\n",
    "       .getOrCreate()\n",
    "sc = spark.sparkContext\n",
    "sc.setCheckpointDir('/dados10t/datalake/raw/checkpoint_dir')"
   ]
  },
  {
   "cell_type": "markdown",
   "id": "0340f2a7-b01f-4b82-8765-3f64a646e8de",
   "metadata": {},
   "source": [
    "# Criando condition_occurrence\n",
    "\n",
    "Todos os testes de covid com resultados positivos resultam em um registro na tabela condition_occurrence.\n",
    "\n",
    "Esse script lê os dados da tabela de medida para verificar os testes positivos.\n",
    "Os dados da tabela de condition_occurrence são lidos para saber qual o maior condition_occurrence_id.\n",
    "\n",
    "Os novos registros extraídos da tabela de medidas precisam ter o id maior que o maior condition_occurrence_id."
   ]
  },
  {
   "cell_type": "markdown",
   "id": "e25a93d6-b789-411e-a1e4-94c19a11ce68",
   "metadata": {},
   "source": [
    "#### measurement"
   ]
  },
  {
   "cell_type": "code",
   "execution_count": 3,
   "id": "022ec791-d1d8-4d98-9cb3-918fcc431fae",
   "metadata": {},
   "outputs": [],
   "source": [
    "measurement_df = spark.read.parquet(\"/dados10t/datalake/standard/omop/tabelas_omop_cmd_5.4_v1/tb_measurement_data.parquet\")"
   ]
  },
  {
   "cell_type": "code",
   "execution_count": 14,
   "id": "a81a403e-5df4-41ff-9ea7-6672447da12a",
   "metadata": {
    "collapsed": true,
    "jupyter": {
     "outputs_hidden": true
    },
    "tags": []
   },
   "outputs": [
    {
     "name": "stdout",
     "output_type": "stream",
     "text": [
      "root\n",
      " |-- visit_occurrence_id: integer (nullable = true)\n",
      " |-- measurement_date: date (nullable = true)\n",
      " |-- measurement_type_concept_id: integer (nullable = true)\n",
      " |-- measurement_concept_id: integer (nullable = true)\n",
      " |-- value_as_concept_id: integer (nullable = true)\n",
      " |-- person_id: integer (nullable = true)\n",
      " |-- measurement_id: integer (nullable = true)\n",
      "\n"
     ]
    }
   ],
   "source": [
    "measurement_df.printSchema()"
   ]
  },
  {
   "cell_type": "markdown",
   "id": "d908cf32-1965-4c6d-97cc-9421b549e291",
   "metadata": {},
   "source": [
    "#### condition"
   ]
  },
  {
   "cell_type": "code",
   "execution_count": 4,
   "id": "059cbcea-cbf8-4720-b1c7-d26ac1f514f2",
   "metadata": {},
   "outputs": [],
   "source": [
    "condition_df = spark.read.parquet(\"/dados10t/datalake/standard/omop/tabelas_omop_cmd_5.4_v1/tb_condition_occurence_data.parquet/\")"
   ]
  },
  {
   "cell_type": "code",
   "execution_count": 5,
   "id": "0667af1a-ccfe-49ea-9454-446ad2b50171",
   "metadata": {},
   "outputs": [],
   "source": [
    "last_id_condition = condition_df.select(F.max('condition_occurrence_id')).collect()[0][0]"
   ]
  },
  {
   "cell_type": "code",
   "execution_count": 13,
   "id": "445b4e84-89db-4e10-8905-ddaa6d3cdb69",
   "metadata": {},
   "outputs": [
    {
     "name": "stdout",
     "output_type": "stream",
     "text": [
      "root\n",
      " |-- visit_occurrence_id: integer (nullable = true)\n",
      " |-- condition_start_date: date (nullable = true)\n",
      " |-- condition_concept_id: integer (nullable = true)\n",
      " |-- person_id: integer (nullable = true)\n",
      " |-- condition_type_concept_id: integer (nullable = true)\n",
      " |-- condition_occurrence_id: integer (nullable = true)\n",
      "\n"
     ]
    }
   ],
   "source": [
    "condition_df.printSchema()"
   ]
  },
  {
   "cell_type": "code",
   "execution_count": 25,
   "id": "79058301-c0ef-4c3c-b000-d270bd583189",
   "metadata": {
    "collapsed": true,
    "jupyter": {
     "outputs_hidden": true
    },
    "tags": []
   },
   "outputs": [
    {
     "name": "stdout",
     "output_type": "stream",
     "text": [
      "+--------------------+\n",
      "|condition_concept_id|\n",
      "+--------------------+\n",
      "|              201820|\n",
      "|              254761|\n",
      "|              378253|\n",
      "|              201820|\n",
      "|              254761|\n",
      "|              259153|\n",
      "|              259153|\n",
      "|              378253|\n",
      "|             4215968|\n",
      "|             4215968|\n",
      "|              321588|\n",
      "|             4276172|\n",
      "|             4276172|\n",
      "|              259153|\n",
      "|             4215968|\n",
      "|             4276172|\n",
      "|             4215968|\n",
      "|             4215968|\n",
      "|              321588|\n",
      "|             4276172|\n",
      "+--------------------+\n",
      "only showing top 20 rows\n",
      "\n"
     ]
    }
   ],
   "source": [
    "condition_df.select('condition_concept_id').show()"
   ]
  },
  {
   "cell_type": "markdown",
   "id": "0ed438aa-eb88-4e91-8e5f-76a6cab663ba",
   "metadata": {},
   "source": [
    "### filter positive tests"
   ]
  },
  {
   "cell_type": "code",
   "execution_count": 6,
   "id": "670ff9bb-73b5-4faf-b051-bbdf17508c22",
   "metadata": {},
   "outputs": [],
   "source": [
    "positive_measurement = measurement_df.filter(F.col('value_as_concept_id')== 45884084)"
   ]
  },
  {
   "cell_type": "code",
   "execution_count": 7,
   "id": "a7a0174b-0d9c-4b98-9f39-9cc90400fabd",
   "metadata": {},
   "outputs": [],
   "source": [
    "positive_measurement = positive_measurement.withColumnRenamed('measurement_date', 'condition_start_date')"
   ]
  },
  {
   "cell_type": "code",
   "execution_count": 8,
   "id": "a4e3318e-c682-46f0-aae6-0bd76b146341",
   "metadata": {},
   "outputs": [],
   "source": [
    "positive_measurement = positive_measurement\\\n",
    ".drop('value_as_concept_id')\\\n",
    ".drop('measurement_id')\\\n",
    ".drop('measurement_type_concept_id')\\\n",
    ".drop('measurement_concept_id')"
   ]
  },
  {
   "cell_type": "code",
   "execution_count": 9,
   "id": "ec6e01b5-cbb0-4875-beab-ab0954288738",
   "metadata": {},
   "outputs": [],
   "source": [
    "positive_measurement = positive_measurement.withColumn('condition_concept_id', F.lit(37311061))"
   ]
  },
  {
   "cell_type": "code",
   "execution_count": null,
   "id": "28853af5-1aff-4348-bdee-e39f8e4b793d",
   "metadata": {},
   "outputs": [],
   "source": []
  },
  {
   "cell_type": "code",
   "execution_count": 10,
   "id": "6de7a787-8d79-4c85-ad6b-820b0a709377",
   "metadata": {},
   "outputs": [],
   "source": [
    "# EHR\n",
    "positive_measurement = positive_measurement.withColumn('condition_type_concept_id', F.lit(32817))"
   ]
  },
  {
   "cell_type": "code",
   "execution_count": 12,
   "id": "66035e8b-cdd6-4a01-85dc-7a08aeb813c9",
   "metadata": {},
   "outputs": [
    {
     "name": "stdout",
     "output_type": "stream",
     "text": [
      "root\n",
      " |-- visit_occurrence_id: integer (nullable = true)\n",
      " |-- condition_start_date: date (nullable = true)\n",
      " |-- person_id: integer (nullable = true)\n",
      " |-- condition_concept_id: integer (nullable = false)\n",
      " |-- condition_type_concept_id: integer (nullable = false)\n",
      "\n"
     ]
    }
   ],
   "source": [
    "positive_measurement.printSchema()"
   ]
  },
  {
   "cell_type": "code",
   "execution_count": 11,
   "id": "97e49893-0c1c-4059-8804-24bb0766a9f5",
   "metadata": {
    "tags": []
   },
   "outputs": [],
   "source": [
    "new_measurement = positive_measurement.rdd.zipWithIndex().toDF().select(F.col(\"_1.*\"),F.col(\"_2\").alias('condition_occurrence_id'))"
   ]
  },
  {
   "cell_type": "code",
   "execution_count": 13,
   "id": "41d01e06-e97d-4455-81f6-31d8703223d8",
   "metadata": {},
   "outputs": [
    {
     "name": "stdout",
     "output_type": "stream",
     "text": [
      "root\n",
      " |-- visit_occurrence_id: long (nullable = true)\n",
      " |-- condition_start_date: date (nullable = true)\n",
      " |-- person_id: long (nullable = true)\n",
      " |-- condition_concept_id: long (nullable = true)\n",
      " |-- condition_type_concept_id: long (nullable = true)\n",
      " |-- condition_occurrence_id: long (nullable = true)\n",
      "\n"
     ]
    }
   ],
   "source": [
    "new_measurement.printSchema()"
   ]
  },
  {
   "cell_type": "code",
   "execution_count": 31,
   "id": "73425782-1f42-4af7-b6ab-555b78a28fcf",
   "metadata": {},
   "outputs": [
    {
     "name": "stdout",
     "output_type": "stream",
     "text": [
      "+----------------------------+\n",
      "|min(condition_occurrence_id)|\n",
      "+----------------------------+\n",
      "|                           0|\n",
      "+----------------------------+\n",
      "\n"
     ]
    }
   ],
   "source": [
    "new_measurement.select(F.min('condition_occurrence_id')).show()"
   ]
  },
  {
   "cell_type": "markdown",
   "id": "85c66fed-02ea-46f0-abdf-7d6e86ba93ba",
   "metadata": {},
   "source": [
    "#### criando novo id para as condições decorrentes de teste de covid\n"
   ]
  },
  {
   "cell_type": "code",
   "execution_count": 13,
   "id": "761242c5-2617-4e26-b8be-f34b94f10483",
   "metadata": {},
   "outputs": [],
   "source": [
    "new_measurement = new_measurement.withColumn('condition_occurrence_id', F.col('condition_occurrence_id')+last_id_condition+1)"
   ]
  },
  {
   "cell_type": "markdown",
   "id": "36e1d636-3276-4261-b8ac-5dcee6d15f4c",
   "metadata": {},
   "source": [
    "##### making sure there's no overlap"
   ]
  },
  {
   "cell_type": "code",
   "execution_count": 14,
   "id": "bb7238a5-160a-4ea3-9334-1583e65be109",
   "metadata": {},
   "outputs": [
    {
     "data": {
      "text/plain": [
       "0"
      ]
     },
     "execution_count": 14,
     "metadata": {},
     "output_type": "execute_result"
    }
   ],
   "source": [
    "condition_df.select('condition_occurrence_id')\\\n",
    ".join(new_measurement.select('condition_occurrence_id'), 'condition_occurrence_id', 'inner')\\\n",
    ".count()"
   ]
  },
  {
   "cell_type": "markdown",
   "id": "49070058-7386-4284-b933-6f24b8ed1d8a",
   "metadata": {},
   "source": [
    "##### escrita no arquivo"
   ]
  },
  {
   "cell_type": "code",
   "execution_count": 16,
   "id": "2c66bb90-8827-4715-96e3-9bdd180db888",
   "metadata": {},
   "outputs": [],
   "source": [
    "condition_df.write.parquet('/dados10t/datalake/standard/omop/tabelas_omop_cmd_5.4_v1/tb_condition_occurence_from_measurement.parquet/')"
   ]
  }
 ],
 "metadata": {
  "kernelspec": {
   "display_name": "Python 3",
   "language": "python",
   "name": "python3"
  },
  "language_info": {
   "codemirror_mode": {
    "name": "ipython",
    "version": 3
   },
   "file_extension": ".py",
   "mimetype": "text/x-python",
   "name": "python",
   "nbconvert_exporter": "python",
   "pygments_lexer": "ipython3",
   "version": "3.8.5"
  }
 },
 "nbformat": 4,
 "nbformat_minor": 5
}
