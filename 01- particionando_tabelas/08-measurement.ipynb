{
 "cells": [
  {
   "cell_type": "code",
   "execution_count": 2,
   "id": "b2690f42-329f-4269-9bdb-5b30695a6394",
   "metadata": {},
   "outputs": [
    {
     "name": "stderr",
     "output_type": "stream",
     "text": [
      "/tmp/ipykernel_84228/1510302545.py:1: DeprecationWarning: Importing display from IPython.core.display is deprecated since IPython 7.14, please import from IPython display\n",
      "  from IPython.core.display import display, HTML\n"
     ]
    },
    {
     "data": {
      "text/html": [
       "<style>.container { width:100% !important; }</style>"
      ],
      "text/plain": [
       "<IPython.core.display.HTML object>"
      ]
     },
     "metadata": {},
     "output_type": "display_data"
    }
   ],
   "source": [
    "from IPython.core.display import display, HTML\n",
    "display(HTML(\"<style>.container { width:100% !important; }</style>\"))\n",
    "from pyspark.sql import functions as F\n",
    "from pyspark.sql.types import *\n",
    "import pandas as pd\n",
    "from pyspark.sql.window import Window\n",
    "import time\n",
    "from pyspark.sql import SparkSession"
   ]
  },
  {
   "cell_type": "code",
   "execution_count": 3,
   "id": "a3127f96-31b1-4176-ab76-7fd9ee2a993b",
   "metadata": {},
   "outputs": [
    {
     "name": "stderr",
     "output_type": "stream",
     "text": [
      "Setting default log level to \"WARN\".\n",
      "To adjust logging level use sc.setLogLevel(newLevel). For SparkR, use setLogLevel(newLevel).\n",
      "23/10/23 20:37:21 WARN NativeCodeLoader: Unable to load native-hadoop library for your platform... using builtin-java classes where applicable\n",
      "23/10/23 20:37:21 WARN SparkConf: Note that spark.local.dir will be overridden by the value set by the cluster manager (via SPARK_LOCAL_DIRS in mesos/standalone/kubernetes and LOCAL_DIRS in YARN).\n",
      "23/10/23 20:37:22 WARN Utils: Service 'SparkUI' could not bind on port 4040. Attempting port 4041.\n"
     ]
    }
   ],
   "source": [
    "spark = SparkSession.builder \\\n",
    "       .master(\"local[*]\") \\\n",
    "       .appName(\"test\") \\\n",
    "       .config(\"spark.driver.memory\", \"80g\")\\\n",
    "       .config(\"spark.executor.memory\", \"50g\")\\\n",
    "       .config(\"spark.dirver.maxResultSize\", \"50g\")\\\n",
    "       .config('spark.local.dir', '/dados10t/datalake/raw/checkpoint_dir')\\\n",
    "       .getOrCreate()\n",
    "sc = spark.sparkContext\n",
    "sc.setCheckpointDir('/dados10t/datalake/raw/checkpoint_dir')"
   ]
  },
  {
   "cell_type": "markdown",
   "id": "2ee89f80-0ccb-4bb2-891b-a4543d2bc244",
   "metadata": {},
   "source": [
    "# srag"
   ]
  },
  {
   "cell_type": "code",
   "execution_count": 4,
   "id": "31656511-51bf-486d-8efb-5a7506f8fae5",
   "metadata": {},
   "outputs": [
    {
     "name": "stderr",
     "output_type": "stream",
     "text": [
      "                                                                                \r"
     ]
    }
   ],
   "source": [
    "#srag = spark.read.parquet(\"/dados10t/datalake/standard/omop/data_with_ids/dbsrag_tb_influd_long_09072022_v8-id_omop.parquet\")\n",
    "srag = spark.read.parquet('/dados10t/datalake/standard/omop/data_with_ids/dbsrag_tb_influd_long_09072022_v8-id_omop-v3.parquet/')"
   ]
  },
  {
   "cell_type": "code",
   "execution_count": 5,
   "id": "7b59dcf5-e71f-45d2-853e-63da718d5c2c",
   "metadata": {},
   "outputs": [],
   "source": [
    "id_vigivac = spark.read.parquet(\"/dados10t/datalake/standard/vigivac/base_analise/id_paciente_to_id_vigivac/id_vigivac_id_paciente_09072022.parquet/\")"
   ]
  },
  {
   "cell_type": "code",
   "execution_count": 6,
   "id": "ba82576a-0bdc-45f6-b98c-283760de2d4e",
   "metadata": {},
   "outputs": [],
   "source": [
    "srag = srag.join(id_vigivac, ['id_paciente'], 'inner')"
   ]
  },
  {
   "cell_type": "code",
   "execution_count": 7,
   "id": "5ce81e4b-246e-4c97-b2b1-d54e8e5c47e5",
   "metadata": {},
   "outputs": [],
   "source": [
    "test_vars = ['pcr_sars2', 'an_sars2', 'pcr_resul', 'res_an', 'pcr_vsr', 'pcr_rino', 'an_vsr', 'pos_pcrflu', 'pos_an_flu']"
   ]
  },
  {
   "cell_type": "code",
   "execution_count": 6,
   "id": "40f92ced-9b3e-44e5-8ca6-904f3f835647",
   "metadata": {
    "collapsed": true,
    "jupyter": {
     "outputs_hidden": true
    },
    "tags": []
   },
   "outputs": [
    {
     "name": "stdout",
     "output_type": "stream",
     "text": [
      "+---------+--------+---------+------+-------+--------+------+----------+----------+\n",
      "|pcr_sars2|an_sars2|pcr_resul|res_an|pcr_vsr|pcr_rino|an_vsr|pos_pcrflu|pos_an_flu|\n",
      "+---------+--------+---------+------+-------+--------+------+----------+----------+\n",
      "|     null|    null|        2|     5|   null|    null|  null|      null|      null|\n",
      "|        1|    null|        1|     4|   null|    null|  null|         2|      null|\n",
      "|        1|    null|        1|     5|   null|    null|  null|         2|      null|\n",
      "|     null|    null|        2|     5|   null|    null|  null|      null|      null|\n",
      "|     null|    null|        2|     2|   null|    null|  null|      null|      null|\n",
      "|     null|    null|        2|     4|   null|    null|  null|      null|      null|\n",
      "|     null|    null|        2|     5|   null|    null|  null|      null|      null|\n",
      "|     null|    null|        9|     4|   null|    null|  null|      null|      null|\n",
      "|        1|    null|        1|     5|   null|    null|  null|         9|      null|\n",
      "|     null|    null|        1|     5|   null|       1|  null|      null|      null|\n",
      "|     null|    null|        5|     2|   null|    null|  null|      null|      null|\n",
      "|     null|    null|        2|     5|   null|    null|  null|      null|      null|\n",
      "|     null|    null|     null|  null|   null|    null|  null|      null|      null|\n",
      "|     null|    null|     null|  null|   null|    null|  null|      null|      null|\n",
      "|        1|    null|        1|     4|   null|    null|  null|      null|      null|\n",
      "|     null|    null|        2|     5|   null|    null|  null|      null|      null|\n",
      "|        1|    null|        1|     5|   null|    null|  null|         2|      null|\n",
      "|     null|    null|        2|     4|   null|    null|  null|      null|      null|\n",
      "|        1|    null|        1|     5|   null|    null|  null|         2|      null|\n",
      "|     null|    null|     null|  null|   null|    null|  null|      null|      null|\n",
      "+---------+--------+---------+------+-------+--------+------+----------+----------+\n",
      "only showing top 20 rows\n",
      "\n"
     ]
    }
   ],
   "source": [
    "#\n",
    "srag.select(test_vars).show()"
   ]
  },
  {
   "cell_type": "code",
   "execution_count": 12,
   "id": "1105bd95-3b0a-47ba-b621-9d618d342968",
   "metadata": {
    "collapsed": true,
    "jupyter": {
     "outputs_hidden": true
    },
    "tags": []
   },
   "outputs": [
    {
     "name": "stderr",
     "output_type": "stream",
     "text": [
      "[Stage 5:=======================================================>(99 + 1) / 100]\r"
     ]
    },
    {
     "name": "stdout",
     "output_type": "stream",
     "text": [
      "+---------+--------+---------+------+-------+--------+------+----------+----------+\n",
      "|pcr_sars2|an_sars2|pcr_resul|res_an|pcr_vsr|pcr_rino|an_vsr|pos_pcrflu|pos_an_flu|\n",
      "+---------+--------+---------+------+-------+--------+------+----------+----------+\n",
      "|        1|    null|        1|  null|   null|    null|  null|         2|      null|\n",
      "|        1|    null|        1|     5|   null|    null|  null|      null|      null|\n",
      "|        1|    null|        1|     5|   null|    null|  null|         2|      null|\n",
      "|        1|    null|        1|     5|   null|    null|  null|         2|      null|\n",
      "|        1|    null|        1|     5|   null|    null|  null|      null|      null|\n",
      "|        1|    null|        1|     4|   null|    null|  null|      null|      null|\n",
      "|        1|    null|        1|     4|   null|    null|  null|         2|      null|\n",
      "|        1|    null|        1|     4|   null|    null|  null|         2|      null|\n",
      "|        1|    null|        1|     4|   null|    null|  null|      null|      null|\n",
      "|        1|       1|        1|     1|   null|    null|  null|      null|      null|\n",
      "|        1|    null|        1|     5|   null|    null|  null|      null|      null|\n",
      "|        1|    null|        1|     4|   null|    null|  null|         2|      null|\n",
      "|        1|    null|        1|     4|   null|    null|  null|         9|      null|\n",
      "|        1|    null|        1|     5|   null|    null|  null|      null|      null|\n",
      "|        1|    null|        1|  null|   null|    null|  null|      null|      null|\n",
      "|        1|    null|        1|     5|   null|    null|  null|         2|      null|\n",
      "|        1|    null|        1|     4|   null|    null|  null|         2|      null|\n",
      "|        1|    null|        1|     4|   null|    null|  null|         2|      null|\n",
      "|        1|    null|        1|     5|   null|    null|  null|      null|      null|\n",
      "|        1|    null|        1|     5|   null|    null|  null|         2|      null|\n",
      "+---------+--------+---------+------+-------+--------+------+----------+----------+\n",
      "only showing top 20 rows\n",
      "\n"
     ]
    },
    {
     "name": "stderr",
     "output_type": "stream",
     "text": [
      "                                                                                \r"
     ]
    }
   ],
   "source": [
    "#\n",
    "srag.select(\n",
    "    'pcr_sars2', \n",
    "    'an_sars2',\n",
    "    'pcr_resul',\n",
    "    'res_an',\n",
    "    'pcr_vsr',\n",
    "    'pcr_rino',\n",
    "    'an_vsr',\n",
    "    'pos_pcrflu',\n",
    "    'pos_an_flu'\n",
    ").filter(F.col('pcr_sars2').isNotNull()).show()"
   ]
  },
  {
   "cell_type": "code",
   "execution_count": null,
   "id": "cb2efdd4-c788-458a-8c64-028fd51771a2",
   "metadata": {},
   "outputs": [],
   "source": [
    "# tipo teste\n",
    "# not nul pcr_sars2 -> RT-PCR\n",
    "# not nul an_sars2 -> Antigeno\n",
    "# pcr_resul in 1, 2, 3, 5 -> RT-PCR\n",
    "# res_an in 1, 2, 3, 5 -> Antigeno\n",
    "# pcr_resul == 4|9 or res_an == 4|9 -> Sem teste"
   ]
  },
  {
   "cell_type": "code",
   "execution_count": 98,
   "id": "5eac9491-4c8b-42d7-9420-34ae8fdb7412",
   "metadata": {
    "collapsed": true,
    "jupyter": {
     "outputs_hidden": true
    },
    "tags": []
   },
   "outputs": [
    {
     "name": "stdout",
     "output_type": "stream",
     "text": [
      "root\n",
      " |-- st_notific: string (nullable = true)\n",
      " |-- sem_not: string (nullable = true)\n",
      " |-- sem_pri: string (nullable = true)\n",
      " |-- sg_uf_not: string (nullable = true)\n",
      " |-- id_regiona: string (nullable = true)\n",
      " |-- co_regiona: decimal(10,0) (nullable = true)\n",
      " |-- id_municip: string (nullable = true)\n",
      " |-- co_mun_not: string (nullable = true)\n",
      " |-- id_unidade: string (nullable = true)\n",
      " |-- co_uni_not: string (nullable = true)\n",
      " |-- cs_sexo: string (nullable = true)\n",
      " |-- nu_idade_n: decimal(10,0) (nullable = true)\n",
      " |-- tp_idade: string (nullable = true)\n",
      " |-- cod_idade: string (nullable = true)\n",
      " |-- cs_gestant: decimal(10,0) (nullable = true)\n",
      " |-- cs_raca: short (nullable = true)\n",
      " |-- cs_etinia: string (nullable = true)\n",
      " |-- cs_escol_n: decimal(10,0) (nullable = true)\n",
      " |-- sg_uf: string (nullable = true)\n",
      " |-- id_mn_resi: string (nullable = true)\n",
      " |-- co_mun_res: string (nullable = true)\n",
      " |-- cs_zona: short (nullable = true)\n",
      " |-- febre: short (nullable = true)\n",
      " |-- tosse: short (nullable = true)\n",
      " |-- garganta: short (nullable = true)\n",
      " |-- dispneia: short (nullable = true)\n",
      " |-- desc_resp: short (nullable = true)\n",
      " |-- saturacao: short (nullable = true)\n",
      " |-- diarreia: short (nullable = true)\n",
      " |-- vomito: short (nullable = true)\n",
      " |-- fator_risc: short (nullable = true)\n",
      " |-- puerpera: short (nullable = true)\n",
      " |-- cardiopati: short (nullable = true)\n",
      " |-- hematologi: short (nullable = true)\n",
      " |-- sind_down: short (nullable = true)\n",
      " |-- hepatica: short (nullable = true)\n",
      " |-- asma: short (nullable = true)\n",
      " |-- diabetes: short (nullable = true)\n",
      " |-- neurologic: short (nullable = true)\n",
      " |-- pneumopati: short (nullable = true)\n",
      " |-- imunodepre: short (nullable = true)\n",
      " |-- renal: short (nullable = true)\n",
      " |-- obesidade: short (nullable = true)\n",
      " |-- obes_imc: string (nullable = true)\n",
      " |-- out_morbi: short (nullable = true)\n",
      " |-- morb_desc: string (nullable = true)\n",
      " |-- mae_vac: string (nullable = true)\n",
      " |-- dt_vac_mae: string (nullable = true)\n",
      " |-- m_amamenta: string (nullable = true)\n",
      " |-- dt_doseuni: string (nullable = true)\n",
      " |-- dt_1_dose: string (nullable = true)\n",
      " |-- dt_2_dose: string (nullable = true)\n",
      " |-- antiviral: string (nullable = true)\n",
      " |-- tp_antivir: decimal(10,0) (nullable = true)\n",
      " |-- out_antiv: string (nullable = true)\n",
      " |-- dt_antivir: string (nullable = true)\n",
      " |-- hospital: short (nullable = true)\n",
      " |-- dt_interna: string (nullable = true)\n",
      " |-- sg_uf_inte: string (nullable = true)\n",
      " |-- id_rg_inte: string (nullable = true)\n",
      " |-- co_rg_inte: decimal(10,0) (nullable = true)\n",
      " |-- id_mn_inte: string (nullable = true)\n",
      " |-- co_mu_inte: string (nullable = true)\n",
      " |-- nm_un_inte: string (nullable = true)\n",
      " |-- co_un_inte: string (nullable = true)\n",
      " |-- uti: short (nullable = true)\n",
      " |-- suport_ven: short (nullable = true)\n",
      " |-- raiox_res: decimal(10,0) (nullable = true)\n",
      " |-- raiox_out: string (nullable = true)\n",
      " |-- dt_raiox: string (nullable = true)\n",
      " |-- amostra: string (nullable = true)\n",
      " |-- dt_coleta: string (nullable = true)\n",
      " |-- tp_amostra: decimal(10,0) (nullable = true)\n",
      " |-- st_requisicao_gal: string (nullable = true)\n",
      " |-- pcr_resul: short (nullable = true)\n",
      " |-- pos_pcrflu: string (nullable = true)\n",
      " |-- pcr_fluasu: string (nullable = true)\n",
      " |-- fluasu_out: string (nullable = true)\n",
      " |-- pcr_flubli: string (nullable = true)\n",
      " |-- flubli_out: string (nullable = true)\n",
      " |-- pos_pcrout: string (nullable = true)\n",
      " |-- pcr_vsr: string (nullable = true)\n",
      " |-- pcr_para1: string (nullable = true)\n",
      " |-- pcr_adeno: string (nullable = true)\n",
      " |-- pcr_metap: string (nullable = true)\n",
      " |-- pcr_boca: string (nullable = true)\n",
      " |-- pcr_rino: string (nullable = true)\n",
      " |-- pcr_outro: string (nullable = true)\n",
      " |-- ds_pcr_out: string (nullable = true)\n",
      " |-- lab_pcr: string (nullable = true)\n",
      " |-- co_lab_pcr: string (nullable = true)\n",
      " |-- classi_fin: short (nullable = true)\n",
      " |-- classi_out: string (nullable = true)\n",
      " |-- criterio: decimal(10,0) (nullable = true)\n",
      " |-- evolucao: short (nullable = true)\n",
      " |-- dt_evoluca: string (nullable = true)\n",
      " |-- dt_encerra: string (nullable = true)\n",
      " |-- dt_digita: string (nullable = true)\n",
      " |-- pcr_sars2: short (nullable = true)\n",
      " |-- pac_cocbo: string (nullable = true)\n",
      " |-- pac_dscbo: string (nullable = true)\n",
      " |-- dor_abd: string (nullable = true)\n",
      " |-- fadiga: string (nullable = true)\n",
      " |-- perd_olft: string (nullable = true)\n",
      " |-- perd_pala: string (nullable = true)\n",
      " |-- tomo_res: decimal(10,0) (nullable = true)\n",
      " |-- tomo_out: string (nullable = true)\n",
      " |-- dt_tomo: string (nullable = true)\n",
      " |-- tp_tes_an: decimal(10,0) (nullable = true)\n",
      " |-- res_an: short (nullable = true)\n",
      " |-- lab_an: string (nullable = true)\n",
      " |-- co_lab_an: string (nullable = true)\n",
      " |-- pos_an_flu: string (nullable = true)\n",
      " |-- an_sars2: short (nullable = true)\n",
      " |-- an_vsr: string (nullable = true)\n",
      " |-- an_para1: string (nullable = true)\n",
      " |-- an_para2: string (nullable = true)\n",
      " |-- tp_am_sor: decimal(10,0) (nullable = true)\n",
      " |-- sor_out: string (nullable = true)\n",
      " |-- tp_sor: decimal(10,0) (nullable = true)\n",
      " |-- out_sor: string (nullable = true)\n",
      " |-- dt_res: string (nullable = true)\n",
      " |-- res_igg: string (nullable = true)\n",
      " |-- res_igm: string (nullable = true)\n",
      " |-- res_iga: string (nullable = true)\n",
      " |-- st_do: string (nullable = true)\n",
      " |-- estrang: string (nullable = true)\n",
      " |-- vacina_cov: string (nullable = true)\n",
      " |-- dose_1_cov: string (nullable = true)\n",
      " |-- dose_2_cov: string (nullable = true)\n",
      " |-- lab_pr_cov: string (nullable = true)\n",
      " |-- lote_1_cov: string (nullable = true)\n",
      " |-- lote_2_cov: string (nullable = true)\n",
      " |-- fnt_in_cov: string (nullable = true)\n",
      " |-- UTI_2: string (nullable = true)\n",
      " |-- saturacao_2: string (nullable = true)\n",
      " |-- SUPORT_VEN_2: string (nullable = true)\n",
      " |-- CS_RACA_2: string (nullable = true)\n",
      " |-- CS_ESCOL_N_2: decimal(10,0) (nullable = true)\n",
      " |-- PCR_SARS2_2: string (nullable = true)\n",
      " |-- DISPNEIA_2: string (nullable = true)\n",
      " |-- dt_notif_dt: date (nullable = true)\n",
      " |-- dt_sin_pri_dt: date (nullable = true)\n",
      " |-- dt_pcr_dt: date (nullable = true)\n",
      " |-- dt_res_an_dt: date (nullable = true)\n",
      " |-- dt_entuti_dt: date (nullable = true)\n",
      " |-- dt_saiduti_dt: date (nullable = true)\n",
      " |-- dt_encerra_dt: date (nullable = true)\n",
      " |-- dt_interna_dt: date (nullable = true)\n",
      " |-- dt_coleta_dt: date (nullable = true)\n",
      " |-- total_notif: long (nullable = true)\n",
      " |-- idade_calc_dt_sintomas: short (nullable = true)\n",
      " |-- id_vigvac: long (nullable = true)\n",
      " |-- ano_nascimento: integer (nullable = true)\n",
      " |-- visit_occurrence_id: integer (nullable = true)\n",
      " |-- test_type: string (nullable = true)\n",
      " |-- test_result: string (nullable = true)\n",
      "\n"
     ]
    }
   ],
   "source": [
    "#\n",
    "srag.printSchema()"
   ]
  },
  {
   "cell_type": "code",
   "execution_count": 4,
   "id": "27a1b69a-d18e-46db-ae54-ac96a7dbed3f",
   "metadata": {},
   "outputs": [
    {
     "data": {
      "text/plain": [
       "2487085"
      ]
     },
     "execution_count": 4,
     "metadata": {},
     "output_type": "execute_result"
    }
   ],
   "source": [
    "#\n",
    "srag.count()"
   ]
  },
  {
   "cell_type": "markdown",
   "id": "1a1ca171-948b-4e42-9abb-6cc55aaf0ea0",
   "metadata": {},
   "source": [
    "### define test type - measurement_concept_id "
   ]
  },
  {
   "cell_type": "code",
   "execution_count": 8,
   "id": "d4ddfb6f-4d58-4dd4-8d12-f1a88072a870",
   "metadata": {},
   "outputs": [],
   "source": [
    "srag = srag\\\n",
    ".withColumn('test_type',\n",
    "            F.when( F.col('pcr_sars2').isNotNull(), 'rt_pcr')\\\n",
    "            .when(F.col('an_sars2').isNotNull(), 'antigeno')\\\n",
    "            .when(F.col('pcr_resul').isin([1, 2, 3, 5]),  'rt-pcr')\\\n",
    "            .when(F.col('res_an').isin([1, 2, 3, 5]), 'antigeno')\\\n",
    "            .when(F.col('pcr_resul').isin([4,9]) | F.col('res_an').isin([4,9]), None)\n",
    "           )"
   ]
  },
  {
   "cell_type": "code",
   "execution_count": 9,
   "id": "d7ab611d-6d89-4ac7-81b9-b0dc93a65b47",
   "metadata": {},
   "outputs": [],
   "source": [
    "srag = srag.filter(F.col('test_type').isNotNull())"
   ]
  },
  {
   "cell_type": "code",
   "execution_count": null,
   "id": "dfd0b608-6d93-4d95-b70b-fee5f0b12dde",
   "metadata": {},
   "outputs": [],
   "source": [
    "# resultado teste\n",
    "# pcr_vsr=1|pcr_rino=1|an_vsr=1|pos_pcrflu=1|pos_an_flu=1 -> Negativo\n",
    "# pcr_sars2=1|an_sars2=1 -> confirmado\n",
    "# pcr_resul=1|pos_pcrflu in 2|9| is.na(pos_pcrflu) -> confirmado\n",
    "# res_an=1| pos_an_flu in 2|9 is.na(pos_an_flu) -> confirmado\n",
    "# pcr_resul=2|res_an=2 -> negativo"
   ]
  },
  {
   "cell_type": "code",
   "execution_count": 7,
   "id": "a14f6214-c7b3-4afc-b5e1-2817fa4c80fe",
   "metadata": {},
   "outputs": [
    {
     "name": "stderr",
     "output_type": "stream",
     "text": [
      "                                                                                \r"
     ]
    },
    {
     "data": {
      "text/plain": [
       "2259491"
      ]
     },
     "execution_count": 7,
     "metadata": {},
     "output_type": "execute_result"
    }
   ],
   "source": [
    "#\n",
    "srag.count()"
   ]
  },
  {
   "cell_type": "markdown",
   "id": "c4b19bad-df7d-4861-94e1-f6f23cc85ec3",
   "metadata": {},
   "source": [
    "### define test result - value_as_concept_id"
   ]
  },
  {
   "cell_type": "code",
   "execution_count": 10,
   "id": "761b5f21-1d6b-4360-91d0-0a6b18c4fcf5",
   "metadata": {},
   "outputs": [],
   "source": [
    "srag = srag\\\n",
    ".withColumn('test_result',\n",
    "            F.when( F.col('pcr_vsr') == 1, 'negative')\\\n",
    "            .when( F.col('pcr_rino') == 1, 'negative')\\\n",
    "            .when( F.col('an_vsr') == 1, 'negative')\\\n",
    "            .when( F.col('pos_pcrflu') == 1, 'negative')\\\n",
    "            .when( F.col('pos_an_flu') == 1, 'negative')\\\n",
    "            .when( F.col('pcr_sars2') == 1, 'positive')\\\n",
    "            .when( F.col('an_sars2') == 1, 'positive')\\\n",
    "            .when( F.col('pcr_resul') == 1, 'positive')\\\n",
    "            .when( F.col('pos_pcrflu').isin([2, 9]), 'positive')\\\n",
    "            .when( F.col('res_an') == 1, 'positive')\\\n",
    "            .when( F.col('pos_an_flu').isin([2, 9]), 'positive')\\\n",
    "            .when(F.col('pcr_resul') == 2, 'negative')\\\n",
    "            .when(F.col('res_an') == 2, 'negative')\n",
    "           )"
   ]
  },
  {
   "cell_type": "code",
   "execution_count": 11,
   "id": "5ce6fd88-a6a9-4e19-a3b5-5b3d293dccea",
   "metadata": {},
   "outputs": [],
   "source": [
    "srag = srag.filter(F.col('test_result').isNotNull())"
   ]
  },
  {
   "cell_type": "code",
   "execution_count": 10,
   "id": "25cba2e6-c289-41ab-9c21-9d16dae18fe0",
   "metadata": {},
   "outputs": [
    {
     "name": "stderr",
     "output_type": "stream",
     "text": [
      "                                                                                \r"
     ]
    },
    {
     "data": {
      "text/plain": [
       "2087916"
      ]
     },
     "execution_count": 10,
     "metadata": {},
     "output_type": "execute_result"
    }
   ],
   "source": [
    "#\n",
    "srag.count()"
   ]
  },
  {
   "cell_type": "code",
   "execution_count": 10,
   "id": "659090d7-59b8-4109-925d-f18ab04a594a",
   "metadata": {
    "collapsed": true,
    "jupyter": {
     "outputs_hidden": true
    },
    "tags": []
   },
   "outputs": [
    {
     "name": "stdout",
     "output_type": "stream",
     "text": [
      "+---------+-----------+\n",
      "|test_type|test_result|\n",
      "+---------+-----------+\n",
      "|   rt_pcr|   positive|\n",
      "|   rt-pcr|   negative|\n",
      "|   rt_pcr|   positive|\n",
      "|   rt-pcr|   negative|\n",
      "|   rt_pcr|   positive|\n",
      "|   rt-pcr|   negative|\n",
      "|   rt-pcr|   negative|\n",
      "|   rt-pcr|   negative|\n",
      "|   rt_pcr|   positive|\n",
      "|   rt_pcr|   positive|\n",
      "|   rt-pcr|   negative|\n",
      "|   rt-pcr|   negative|\n",
      "|   rt_pcr|   positive|\n",
      "|   rt_pcr|   positive|\n",
      "|   rt_pcr|   positive|\n",
      "| antigeno|   positive|\n",
      "|   rt_pcr|   positive|\n",
      "|   rt-pcr|   negative|\n",
      "|   rt_pcr|   positive|\n",
      "|   rt-pcr|   negative|\n",
      "+---------+-----------+\n",
      "only showing top 20 rows\n",
      "\n"
     ]
    }
   ],
   "source": [
    "#\n",
    "srag.select('test_type', 'test_result').show()"
   ]
  },
  {
   "cell_type": "code",
   "execution_count": 61,
   "id": "80b53db1-3ead-4c7b-94ed-bdb952da3964",
   "metadata": {
    "collapsed": true,
    "jupyter": {
     "outputs_hidden": true
    },
    "tags": []
   },
   "outputs": [
    {
     "name": "stdout",
     "output_type": "stream",
     "text": [
      "+---------+-----------+---------+--------+---------+------+-------+--------+------+----------+----------+\n",
      "|test_type|test_result|pcr_sars2|an_sars2|pcr_resul|res_an|pcr_vsr|pcr_rino|an_vsr|pos_pcrflu|pos_an_flu|\n",
      "+---------+-----------+---------+--------+---------+------+-------+--------+------+----------+----------+\n",
      "|   rt_pcr|   positive|        1|    null|        1|     5|   null|    null|  null|      null|      null|\n",
      "|     null|       null|     null|    null|     null|  null|   null|    null|  null|      null|      null|\n",
      "|     null|       null|     null|    null|        4|     4|   null|    null|  null|      null|      null|\n",
      "|   rt-pcr|   negative|     null|    null|        2|     4|   null|    null|  null|      null|      null|\n",
      "|   rt_pcr|   positive|        1|    null|        1|     5|   null|    null|  null|         2|      null|\n",
      "|   rt-pcr|   negative|     null|    null|        2|     5|   null|    null|  null|      null|      null|\n",
      "|   rt_pcr|   positive|        1|    null|        1|     5|   null|    null|  null|         2|      null|\n",
      "|   rt-pcr|   negative|     null|    null|        2|     4|   null|    null|  null|      null|      null|\n",
      "|   rt-pcr|   negative|     null|    null|        2|  null|   null|    null|  null|      null|      null|\n",
      "|   rt-pcr|   negative|     null|    null|        2|     4|   null|    null|  null|      null|      null|\n",
      "|   rt_pcr|   positive|        1|    null|        1|     5|   null|    null|  null|      null|      null|\n",
      "|   rt_pcr|   positive|        1|    null|        1|     5|   null|    null|  null|         2|      null|\n",
      "|   rt-pcr|   negative|     null|    null|        2|     5|   null|    null|  null|      null|      null|\n",
      "|   rt-pcr|       null|     null|    null|        5|     5|   null|    null|  null|      null|      null|\n",
      "|   rt-pcr|   negative|     null|    null|        2|     4|   null|    null|  null|      null|      null|\n",
      "|   rt_pcr|   positive|        1|    null|        1|     5|   null|    null|  null|         2|      null|\n",
      "|   rt_pcr|   positive|        1|    null|        1|     5|   null|    null|  null|      null|      null|\n",
      "|   rt_pcr|   positive|        1|    null|        1|     2|   null|    null|  null|      null|      null|\n",
      "| antigeno|   positive|     null|       1|        4|     1|   null|    null|  null|      null|         2|\n",
      "|   rt_pcr|   positive|        1|    null|        1|     5|   null|    null|  null|      null|      null|\n",
      "|   rt-pcr|   negative|     null|    null|        2|     5|   null|    null|  null|      null|      null|\n",
      "|   rt_pcr|   positive|        1|    null|        1|     4|   null|    null|  null|      null|      null|\n",
      "|   rt-pcr|   negative|     null|    null|        2|     2|   null|    null|  null|      null|      null|\n",
      "|   rt-pcr|   negative|     null|    null|        2|  null|   null|    null|  null|      null|      null|\n",
      "|   rt_pcr|   positive|        1|    null|        1|     5|   null|    null|  null|         2|      null|\n",
      "|   rt_pcr|   positive|        1|    null|        1|     5|   null|    null|  null|      null|      null|\n",
      "|   rt_pcr|   positive|        1|    null|        1|     4|   null|    null|  null|         2|      null|\n",
      "|   rt_pcr|   positive|        1|    null|        1|     5|   null|    null|  null|      null|      null|\n",
      "|   rt_pcr|   positive|        1|    null|        1|     4|   null|    null|  null|         2|      null|\n",
      "|   rt_pcr|   positive|        1|    null|        1|     5|   null|    null|  null|      null|      null|\n",
      "| antigeno|   negative|     null|    null|        4|     2|   null|    null|  null|      null|      null|\n",
      "| antigeno|   positive|     null|       1|        5|     1|   null|    null|  null|      null|         2|\n",
      "|   rt_pcr|   positive|        1|    null|        1|     5|   null|    null|  null|      null|      null|\n",
      "|   rt-pcr|   negative|     null|    null|        5|     2|   null|    null|  null|      null|      null|\n",
      "|   rt-pcr|   negative|     null|    null|        2|     5|   null|    null|  null|      null|      null|\n",
      "|   rt_pcr|   positive|        1|    null|        1|     5|   null|    null|  null|         2|      null|\n",
      "|   rt_pcr|   positive|        1|    null|        1|     5|   null|    null|  null|         2|      null|\n",
      "|   rt_pcr|   positive|        1|    null|        1|     5|   null|    null|  null|      null|      null|\n",
      "| antigeno|   positive|     null|       1|        5|     1|   null|    null|  null|      null|         2|\n",
      "| antigeno|   positive|     null|       1|        5|     1|   null|    null|  null|      null|         2|\n",
      "|   rt-pcr|   negative|     null|    null|        2|     4|   null|    null|  null|      null|      null|\n",
      "|     null|       null|     null|    null|     null|  null|   null|    null|  null|      null|      null|\n",
      "|   rt-pcr|   negative|     null|    null|        2|     5|   null|    null|  null|      null|      null|\n",
      "|   rt-pcr|       null|     null|    null|        5|     5|   null|    null|  null|      null|      null|\n",
      "| antigeno|   positive|     null|       1|        4|     1|   null|    null|  null|      null|         2|\n",
      "| antigeno|   positive|     null|       1|        4|     1|   null|    null|  null|      null|         2|\n",
      "|   rt-pcr|   negative|     null|    null|        2|     4|   null|    null|  null|      null|      null|\n",
      "|   rt-pcr|   negative|     null|    null|        5|     2|   null|    null|  null|      null|      null|\n",
      "|   rt_pcr|   positive|        1|    null|        1|  null|   null|    null|  null|      null|      null|\n",
      "|   rt-pcr|   negative|     null|    null|        2|     5|   null|    null|  null|      null|      null|\n",
      "|   rt_pcr|   positive|        1|    null|        1|     5|   null|    null|  null|      null|      null|\n",
      "|     null|   positive|     null|    null|        4|     4|   null|    null|  null|      null|         2|\n",
      "|   rt_pcr|   positive|        1|    null|        1|     4|   null|    null|  null|         2|      null|\n",
      "|   rt-pcr|   negative|     null|    null|        2|  null|   null|    null|  null|      null|      null|\n",
      "|   rt_pcr|   positive|        1|    null|        1|  null|   null|    null|  null|         9|      null|\n",
      "|   rt-pcr|   negative|     null|    null|        2|     2|   null|    null|  null|      null|      null|\n",
      "|   rt_pcr|   positive|        1|    null|        1|     4|   null|    null|  null|         2|      null|\n",
      "|   rt-pcr|   negative|     null|    null|        2|     4|   null|    null|  null|      null|      null|\n",
      "|   rt_pcr|   positive|        1|    null|        1|     4|   null|    null|  null|         2|      null|\n",
      "|   rt-pcr|   negative|     null|    null|        2|     4|   null|    null|  null|      null|      null|\n",
      "|   rt-pcr|   negative|     null|    null|        2|     4|   null|    null|  null|      null|      null|\n",
      "|   rt-pcr|   positive|     null|    null|        5|     1|   null|    null|  null|      null|      null|\n",
      "|   rt-pcr|   negative|     null|    null|        2|     5|   null|    null|  null|      null|      null|\n",
      "|   rt_pcr|   positive|        1|    null|        1|     4|   null|    null|  null|         2|      null|\n",
      "|   rt-pcr|       null|     null|    null|        5|     5|   null|    null|  null|      null|      null|\n",
      "|   rt-pcr|   negative|     null|    null|        2|  null|   null|    null|  null|      null|      null|\n",
      "| antigeno|   positive|     null|       1|        5|     1|   null|    null|  null|      null|         2|\n",
      "|   rt_pcr|   positive|        1|    null|        1|     5|   null|    null|  null|      null|      null|\n",
      "|   rt_pcr|   positive|        1|    null|        1|     5|   null|    null|  null|      null|      null|\n",
      "|     null|       null|     null|    null|     null|  null|   null|    null|  null|      null|      null|\n",
      "|     null|       null|     null|    null|     null|  null|   null|    null|  null|      null|      null|\n",
      "|   rt_pcr|   positive|        1|       1|        1|     1|   null|    null|  null|         9|         2|\n",
      "|   rt-pcr|   negative|     null|    null|        2|     5|   null|    null|  null|      null|      null|\n",
      "| antigeno|   positive|     null|       1|        4|     1|   null|    null|  null|      null|         2|\n",
      "|   rt-pcr|   negative|     null|    null|        2|     5|   null|    null|  null|      null|      null|\n",
      "|     null|       null|     null|    null|     null|  null|   null|    null|  null|      null|      null|\n",
      "| antigeno|   positive|     null|    null|        4|     1|   null|    null|  null|      null|      null|\n",
      "|   rt-pcr|   negative|     null|    null|        2|     5|   null|    null|  null|      null|      null|\n",
      "|   rt_pcr|   positive|        1|    null|        1|     5|   null|    null|  null|         2|      null|\n",
      "|   rt_pcr|   positive|        1|    null|        1|  null|   null|    null|  null|      null|      null|\n",
      "|   rt-pcr|   positive|     null|    null|        5|     1|   null|    null|  null|      null|      null|\n",
      "|   rt-pcr|   negative|     null|    null|        2|     5|   null|    null|  null|      null|      null|\n",
      "|   rt_pcr|   positive|        1|    null|        1|     5|   null|    null|  null|         2|      null|\n",
      "|     null|       null|     null|    null|     null|  null|   null|    null|  null|      null|      null|\n",
      "|   rt_pcr|   positive|        1|    null|        1|     4|   null|    null|  null|         2|      null|\n",
      "|   rt_pcr|   positive|        1|    null|        1|     5|   null|    null|  null|      null|      null|\n",
      "|   rt-pcr|   negative|     null|    null|        1|     5|      1|    null|  null|      null|      null|\n",
      "| antigeno|   positive|     null|       1|        5|     1|   null|    null|  null|      null|      null|\n",
      "| antigeno|   positive|     null|       1|        4|     1|   null|    null|  null|      null|         2|\n",
      "|   rt-pcr|   negative|     null|    null|        2|     5|   null|    null|  null|      null|      null|\n",
      "|   rt_pcr|   positive|        1|    null|        1|     1|   null|    null|  null|      null|      null|\n",
      "|   rt-pcr|   negative|     null|    null|        2|     4|   null|    null|  null|      null|      null|\n",
      "|   rt-pcr|   positive|     null|    null|        1|     5|   null|    null|  null|      null|      null|\n",
      "|   rt_pcr|   positive|        1|    null|        1|     5|   null|    null|  null|      null|      null|\n",
      "|   rt_pcr|   positive|        1|    null|        1|     5|   null|    null|  null|      null|      null|\n",
      "|   rt-pcr|   negative|     null|    null|        2|     5|   null|    null|  null|      null|      null|\n",
      "|   rt-pcr|       null|     null|    null|        5|     5|   null|    null|  null|      null|      null|\n",
      "|   rt_pcr|   positive|        1|    null|        1|     4|   null|    null|  null|         2|      null|\n",
      "|   rt-pcr|   negative|     null|    null|        2|     5|   null|    null|  null|      null|      null|\n",
      "|   rt-pcr|   positive|     null|    null|        1|     5|   null|    null|  null|      null|      null|\n",
      "| antigeno|   positive|     null|    null|        9|     1|   null|    null|  null|      null|      null|\n",
      "| antigeno|   positive|     null|    null|     null|     1|   null|    null|  null|      null|      null|\n",
      "|   rt-pcr|   negative|     null|    null|        2|     5|   null|    null|  null|      null|      null|\n",
      "|   rt_pcr|   positive|        1|    null|        1|     5|   null|    null|  null|         9|      null|\n",
      "|   rt_pcr|   positive|        1|    null|        1|     5|   null|    null|  null|      null|      null|\n",
      "|   rt_pcr|   positive|        1|    null|        1|     5|   null|    null|  null|         2|      null|\n",
      "|   rt_pcr|   positive|        1|    null|        1|     5|   null|    null|  null|         2|      null|\n",
      "|   rt-pcr|   negative|     null|    null|        2|     4|   null|    null|  null|      null|      null|\n",
      "|   rt-pcr|   negative|     null|    null|        2|     4|   null|    null|  null|      null|      null|\n",
      "| antigeno|   negative|     null|    null|        4|     2|   null|    null|  null|      null|      null|\n",
      "|     null|       null|     null|    null|     null|  null|   null|    null|  null|      null|      null|\n",
      "|   rt-pcr|   negative|     null|    null|        2|     4|   null|    null|  null|      null|      null|\n",
      "|   rt_pcr|   positive|        1|    null|        1|     5|   null|    null|  null|         2|      null|\n",
      "|   rt-pcr|       null|     null|    null|        5|     5|   null|    null|  null|      null|      null|\n",
      "|   rt_pcr|   positive|        1|    null|        1|     9|   null|    null|  null|         2|      null|\n",
      "|   rt-pcr|   positive|     null|    null|        1|     5|   null|    null|  null|      null|      null|\n",
      "|   rt-pcr|   negative|     null|    null|        2|     4|   null|    null|  null|      null|      null|\n",
      "|   rt_pcr|   positive|        1|    null|        1|     4|   null|    null|  null|      null|      null|\n",
      "|   rt_pcr|   positive|        1|    null|        1|     5|   null|    null|  null|      null|      null|\n",
      "|   rt-pcr|   negative|     null|    null|        2|     5|   null|    null|  null|      null|      null|\n",
      "|   rt_pcr|   positive|        1|    null|        1|     4|   null|    null|  null|         2|      null|\n",
      "|   rt-pcr|   positive|     null|    null|        1|     4|   null|    null|  null|         2|      null|\n",
      "|   rt-pcr|   positive|     null|    null|        1|     5|   null|    null|  null|      null|      null|\n",
      "| antigeno|   positive|     null|       1|        5|     1|   null|    null|  null|      null|      null|\n",
      "|   rt-pcr|       null|     null|    null|        5|     5|   null|    null|  null|      null|      null|\n",
      "|   rt_pcr|   positive|        1|    null|        1|     5|   null|    null|  null|      null|      null|\n",
      "|   rt-pcr|   positive|     null|    null|        1|     5|   null|    null|  null|      null|      null|\n",
      "|   rt_pcr|   positive|        1|    null|        1|     4|   null|    null|  null|         2|      null|\n",
      "|     null|       null|     null|    null|     null|  null|   null|    null|  null|      null|      null|\n",
      "| antigeno|   positive|     null|       1|     null|     1|   null|    null|  null|      null|         2|\n",
      "|   rt-pcr|   negative|     null|    null|        2|     2|   null|    null|  null|      null|      null|\n",
      "|   rt_pcr|   positive|        1|    null|        1|  null|   null|    null|  null|      null|      null|\n",
      "|     null|       null|     null|    null|     null|  null|   null|    null|  null|      null|      null|\n",
      "| antigeno|   positive|     null|       1|        4|     1|   null|    null|  null|      null|         2|\n",
      "|   rt_pcr|   positive|        1|    null|        1|     5|   null|    null|  null|      null|      null|\n",
      "|   rt-pcr|   negative|     null|    null|        2|     5|   null|    null|  null|      null|      null|\n",
      "|   rt_pcr|   positive|        1|    null|        1|     5|   null|    null|  null|         2|      null|\n",
      "|   rt_pcr|   positive|        1|    null|        1|     4|   null|    null|  null|         2|      null|\n",
      "|   rt_pcr|   positive|        1|       1|        1|     1|   null|    null|  null|         2|         2|\n",
      "|   rt_pcr|   positive|        1|    null|        1|     5|   null|    null|  null|      null|      null|\n",
      "| antigeno|   positive|     null|       1|        5|     1|   null|    null|  null|      null|      null|\n",
      "|   rt-pcr|   negative|     null|    null|        2|     5|   null|    null|  null|      null|      null|\n",
      "|   rt_pcr|   positive|        1|    null|        1|     4|   null|    null|  null|         2|      null|\n",
      "|   rt-pcr|   negative|     null|    null|        2|     4|   null|    null|  null|      null|      null|\n",
      "|   rt_pcr|   positive|        1|    null|        1|     4|   null|    null|  null|      null|      null|\n",
      "| antigeno|   positive|     null|       1|        4|     1|   null|    null|  null|      null|         2|\n",
      "|   rt_pcr|   positive|        1|    null|        1|     4|   null|    null|  null|         2|      null|\n",
      "|   rt_pcr|   positive|        1|    null|        1|  null|   null|    null|  null|         2|      null|\n",
      "|   rt_pcr|   positive|        1|    null|        1|     5|   null|    null|  null|         2|      null|\n",
      "|   rt-pcr|       null|     null|    null|        5|     5|   null|    null|  null|      null|      null|\n",
      "| antigeno|   positive|     null|       1|        5|     1|   null|    null|  null|      null|         2|\n",
      "| antigeno|   positive|     null|       1|        4|     1|   null|    null|  null|      null|      null|\n",
      "|   rt_pcr|   positive|        1|    null|        1|     5|   null|    null|  null|      null|      null|\n",
      "|   rt-pcr|       null|     null|    null|        5|     4|   null|    null|  null|      null|      null|\n",
      "|   rt_pcr|   positive|        1|    null|        1|  null|   null|    null|  null|      null|      null|\n",
      "|   rt_pcr|   positive|        1|    null|        1|  null|   null|    null|  null|         2|      null|\n",
      "|   rt_pcr|   positive|        1|    null|        1|     5|   null|    null|  null|      null|      null|\n",
      "|   rt-pcr|   negative|     null|    null|        2|     5|   null|    null|  null|      null|      null|\n",
      "| antigeno|   positive|     null|       1|        4|     1|   null|    null|  null|      null|         2|\n",
      "| antigeno|   positive|     null|    null|        4|     1|   null|    null|  null|      null|         2|\n",
      "|   rt_pcr|   positive|        1|    null|        1|     4|   null|    null|  null|         2|      null|\n",
      "|   rt-pcr|   negative|     null|    null|        2|     5|   null|    null|  null|      null|      null|\n",
      "| antigeno|   positive|     null|       1|        4|     1|   null|    null|  null|      null|         2|\n",
      "|     null|       null|     null|    null|     null|  null|   null|    null|  null|      null|      null|\n",
      "|   rt-pcr|   negative|     null|    null|        2|     4|   null|    null|  null|      null|      null|\n",
      "| antigeno|   negative|     null|    null|        4|     2|   null|    null|  null|      null|      null|\n",
      "|   rt-pcr|   negative|     null|    null|        2|     2|   null|    null|  null|      null|      null|\n",
      "|   rt-pcr|   negative|     null|    null|        2|     5|   null|    null|  null|      null|      null|\n",
      "|   rt_pcr|   positive|        1|    null|        1|     5|   null|    null|  null|         9|      null|\n",
      "|   rt-pcr|   negative|     null|    null|        2|     5|   null|    null|  null|      null|      null|\n",
      "|   rt_pcr|   positive|        1|    null|        1|     4|   null|    null|  null|         2|      null|\n",
      "|   rt-pcr|   negative|     null|    null|        2|     2|   null|    null|  null|      null|      null|\n",
      "|   rt_pcr|   positive|        1|    null|        1|     5|   null|    null|  null|         9|      null|\n",
      "|   rt_pcr|   positive|        1|    null|        1|     4|   null|    null|  null|         2|      null|\n",
      "|   rt_pcr|   positive|        1|    null|        1|  null|   null|    null|  null|         2|      null|\n",
      "|   rt_pcr|   positive|        1|    null|        1|     5|   null|    null|  null|      null|      null|\n",
      "|   rt_pcr|   positive|        1|    null|        1|     4|   null|    null|  null|         2|      null|\n",
      "|   rt-pcr|   negative|     null|    null|        2|  null|   null|    null|  null|      null|      null|\n",
      "|   rt-pcr|   negative|     null|    null|        2|     4|   null|    null|  null|      null|      null|\n",
      "|   rt_pcr|   positive|        1|    null|        1|     5|   null|    null|  null|         9|      null|\n",
      "|   rt_pcr|   positive|        1|    null|        1|     5|   null|    null|  null|         2|      null|\n",
      "|   rt_pcr|   positive|        1|    null|        1|     5|   null|    null|  null|      null|      null|\n",
      "|   rt_pcr|   positive|        1|    null|        1|     5|   null|    null|  null|      null|      null|\n",
      "|   rt-pcr|   positive|     null|    null|        1|     5|   null|    null|  null|      null|      null|\n",
      "|   rt-pcr|       null|     null|    null|        5|     5|   null|    null|  null|      null|      null|\n",
      "|   rt_pcr|   positive|        1|    null|        1|     5|   null|    null|  null|      null|      null|\n",
      "|   rt-pcr|       null|     null|    null|        5|     5|   null|    null|  null|      null|      null|\n",
      "|   rt_pcr|   positive|        1|    null|        1|     5|   null|    null|  null|         2|      null|\n",
      "|   rt_pcr|   positive|        1|    null|        1|     4|   null|    null|  null|      null|      null|\n",
      "| antigeno|   positive|     null|       1|        5|     1|   null|    null|  null|      null|      null|\n",
      "|   rt-pcr|   negative|     null|    null|        2|     5|   null|    null|  null|      null|      null|\n",
      "|   rt_pcr|   positive|        1|    null|        1|  null|   null|    null|  null|      null|      null|\n",
      "|   rt_pcr|   positive|        1|    null|        1|     1|   null|    null|  null|         2|      null|\n",
      "|     null|   positive|     null|    null|     null|  null|   null|    null|  null|      null|         2|\n",
      "|   rt-pcr|   negative|     null|    null|        2|  null|   null|    null|  null|      null|      null|\n",
      "|   rt_pcr|   positive|        1|    null|        1|     4|   null|    null|  null|         2|      null|\n",
      "|   rt-pcr|   negative|     null|    null|        2|     5|   null|    null|  null|      null|      null|\n",
      "|   rt-pcr|   negative|     null|    null|        2|     4|   null|    null|  null|      null|      null|\n",
      "|   rt_pcr|   positive|        1|    null|        1|     4|   null|    null|  null|         9|      null|\n",
      "|     null|       null|     null|    null|     null|  null|   null|    null|  null|      null|      null|\n",
      "|   rt-pcr|   negative|     null|    null|        2|     5|   null|    null|  null|      null|      null|\n",
      "|   rt-pcr|   positive|     null|    null|        5|     1|   null|    null|  null|      null|      null|\n",
      "|     null|       null|     null|    null|     null|  null|   null|    null|  null|      null|      null|\n",
      "| antigeno|   positive|     null|       1|        5|     1|   null|    null|  null|      null|         2|\n",
      "|   rt_pcr|   positive|        1|    null|        1|     5|   null|    null|  null|         2|      null|\n",
      "|   rt-pcr|   negative|     null|    null|        2|     4|   null|    null|  null|      null|      null|\n",
      "|   rt-pcr|   positive|     null|    null|        5|     1|   null|    null|  null|      null|      null|\n",
      "|   rt_pcr|   positive|        1|    null|        1|     4|   null|    null|  null|         2|      null|\n",
      "|   rt_pcr|   positive|        1|    null|        1|     5|   null|    null|  null|      null|      null|\n",
      "|   rt_pcr|   positive|        1|    null|        1|     5|   null|    null|  null|      null|      null|\n",
      "|   rt-pcr|   negative|     null|    null|        2|     2|   null|    null|  null|      null|      null|\n",
      "|   rt-pcr|   negative|     null|    null|        2|     4|   null|    null|  null|      null|      null|\n",
      "|   rt_pcr|   positive|        1|    null|        1|     4|   null|    null|  null|      null|      null|\n",
      "| antigeno|   positive|     null|       1|        4|     1|   null|    null|  null|      null|         2|\n",
      "| antigeno|   positive|     null|    null|        4|     1|   null|    null|  null|      null|      null|\n",
      "|   rt-pcr|   negative|     null|    null|        2|     5|   null|    null|  null|      null|      null|\n",
      "|     null|       null|     null|    null|        4|  null|   null|    null|  null|      null|      null|\n",
      "|   rt-pcr|   negative|     null|    null|        2|     5|   null|    null|  null|      null|      null|\n",
      "|   rt-pcr|   positive|     null|    null|        5|     1|   null|    null|  null|      null|      null|\n",
      "|   rt-pcr|       null|     null|    null|        5|     4|   null|    null|  null|      null|      null|\n",
      "|   rt-pcr|       null|     null|    null|        5|     5|   null|    null|  null|      null|      null|\n",
      "|     null|       null|     null|    null|     null|  null|   null|    null|  null|      null|      null|\n",
      "|   rt_pcr|   positive|        1|    null|        1|     4|   null|    null|  null|         2|      null|\n",
      "|   rt_pcr|   positive|        1|    null|        1|     5|   null|    null|  null|         2|      null|\n",
      "|   rt_pcr|   positive|        1|    null|        1|     4|   null|    null|  null|      null|      null|\n",
      "|   rt-pcr|   negative|     null|    null|        1|     4|   null|    null|  null|         1|      null|\n",
      "|   rt-pcr|   negative|     null|    null|        2|     5|   null|    null|  null|      null|      null|\n",
      "|   rt-pcr|   negative|     null|    null|        2|     5|   null|    null|  null|      null|      null|\n",
      "|   rt_pcr|   positive|        1|    null|        1|     5|   null|    null|  null|         2|      null|\n",
      "|   rt_pcr|   positive|        1|    null|        1|     4|   null|    null|  null|         2|      null|\n",
      "|   rt-pcr|   negative|     null|    null|        2|  null|   null|    null|  null|      null|      null|\n",
      "|   rt_pcr|   positive|        1|    null|        1|     4|   null|    null|  null|         2|      null|\n",
      "|   rt-pcr|   negative|     null|    null|        2|  null|   null|    null|  null|      null|      null|\n",
      "|   rt-pcr|   negative|     null|    null|        2|     4|   null|    null|  null|      null|      null|\n",
      "|   rt_pcr|   positive|        1|    null|        1|     5|   null|    null|  null|      null|      null|\n",
      "|   rt_pcr|   positive|        1|    null|        1|     5|   null|    null|  null|      null|      null|\n",
      "|   rt-pcr|   negative|     null|    null|        2|     5|   null|    null|  null|      null|      null|\n",
      "| antigeno|   positive|     null|       1|        4|     1|   null|    null|  null|      null|      null|\n",
      "|     null|       null|     null|    null|     null|  null|   null|    null|  null|      null|      null|\n",
      "|   rt_pcr|   positive|        1|    null|        1|     5|   null|    null|  null|      null|      null|\n",
      "|   rt-pcr|   negative|     null|    null|        2|     5|   null|    null|  null|      null|      null|\n",
      "|   rt_pcr|   positive|        1|    null|        1|     4|   null|    null|  null|         2|      null|\n",
      "|   rt_pcr|   positive|        1|    null|        1|     5|   null|    null|  null|         2|      null|\n",
      "| antigeno|   positive|     null|       1|        4|     1|   null|    null|  null|      null|         2|\n",
      "|   rt-pcr|   negative|     null|    null|        2|     4|   null|    null|  null|      null|      null|\n",
      "| antigeno|   positive|     null|    null|     null|     1|   null|    null|  null|      null|      null|\n",
      "|   rt_pcr|   positive|        1|    null|        1|     5|   null|    null|  null|      null|      null|\n",
      "| antigeno|   positive|     null|       1|        4|     1|   null|    null|  null|      null|         2|\n",
      "|   rt-pcr|   negative|     null|    null|        2|  null|   null|    null|  null|      null|      null|\n",
      "|   rt-pcr|   positive|     null|    null|        5|     1|   null|    null|  null|      null|      null|\n",
      "| antigeno|   positive|     null|       1|        4|     1|   null|    null|  null|      null|         2|\n",
      "|   rt-pcr|   negative|     null|    null|        2|     5|   null|    null|  null|      null|      null|\n",
      "|   rt_pcr|   positive|        1|    null|        1|     4|   null|    null|  null|      null|      null|\n",
      "|   rt_pcr|   positive|        1|    null|        1|     4|   null|    null|  null|         2|      null|\n",
      "|   rt-pcr|   negative|     null|    null|        2|     4|   null|    null|  null|      null|      null|\n",
      "|   rt-pcr|   negative|     null|    null|        5|     1|   null|    null|  null|      null|         1|\n",
      "|   rt-pcr|   positive|     null|    null|        1|     5|   null|    null|  null|         2|      null|\n",
      "|   rt-pcr|   negative|     null|    null|        2|     5|   null|    null|  null|      null|      null|\n",
      "|   rt-pcr|   negative|     null|    null|        2|     4|   null|    null|  null|      null|      null|\n",
      "|   rt-pcr|   positive|     null|    null|        5|     1|   null|    null|  null|      null|      null|\n",
      "|   rt-pcr|   negative|     null|    null|        2|     5|   null|    null|  null|      null|      null|\n",
      "|   rt-pcr|   negative|     null|    null|        2|     5|   null|    null|  null|      null|      null|\n",
      "|   rt-pcr|   negative|     null|    null|        2|     5|   null|    null|  null|      null|      null|\n",
      "| antigeno|   negative|     null|    null|     null|     2|   null|    null|  null|      null|      null|\n",
      "|   rt-pcr|   negative|     null|    null|        2|     5|   null|    null|  null|      null|      null|\n",
      "|   rt-pcr|   negative|     null|    null|        2|     5|   null|    null|  null|      null|      null|\n",
      "|   rt_pcr|   positive|        1|    null|        1|     4|   null|    null|  null|         2|      null|\n",
      "|   rt-pcr|   negative|     null|    null|        2|     9|   null|    null|  null|      null|      null|\n",
      "|   rt_pcr|   positive|        1|    null|        1|     5|   null|    null|  null|         2|      null|\n",
      "|   rt-pcr|   negative|     null|    null|        2|     4|   null|    null|  null|      null|      null|\n",
      "|   rt-pcr|   negative|     null|    null|        2|     4|   null|    null|  null|      null|      null|\n",
      "|   rt-pcr|   negative|     null|    null|        2|     4|   null|    null|  null|      null|      null|\n",
      "|   rt_pcr|   positive|        1|    null|        1|     5|   null|    null|  null|      null|      null|\n",
      "|   rt_pcr|   positive|        1|    null|        1|     5|   null|    null|  null|      null|      null|\n",
      "|   rt-pcr|   negative|     null|    null|        2|     2|   null|    null|  null|      null|      null|\n",
      "|   rt-pcr|   negative|     null|    null|        2|     5|   null|    null|  null|      null|      null|\n",
      "|     null|       null|     null|    null|     null|  null|   null|    null|  null|      null|      null|\n",
      "| antigeno|   positive|     null|       1|     null|     1|   null|    null|  null|      null|      null|\n",
      "| antigeno|   negative|     null|    null|        4|     1|   null|    null|  null|      null|         1|\n",
      "|   rt-pcr|   negative|     null|    null|        2|     5|   null|    null|  null|      null|      null|\n",
      "|   rt-pcr|   negative|     null|    null|        2|     5|   null|    null|  null|      null|      null|\n",
      "|   rt_pcr|   positive|        1|    null|        1|     5|   null|    null|  null|         2|      null|\n",
      "|   rt-pcr|   negative|     null|    null|        2|     9|   null|    null|  null|      null|      null|\n",
      "|   rt_pcr|   positive|        1|    null|        1|     4|   null|    null|  null|         2|      null|\n",
      "|   rt-pcr|   negative|     null|    null|        2|     2|   null|    null|  null|      null|      null|\n",
      "|   rt-pcr|       null|     null|    null|        5|     5|   null|    null|  null|      null|      null|\n",
      "|   rt_pcr|   negative|        1|    null|        1|     1|   null|    null|     1|      null|      null|\n",
      "| antigeno|   positive|     null|       1|     null|     1|   null|    null|  null|      null|         9|\n",
      "|   rt-pcr|   positive|     null|    null|        1|     4|   null|    null|  null|      null|      null|\n",
      "|     null|       null|     null|    null|     null|  null|   null|    null|  null|      null|      null|\n",
      "|     null|       null|     null|    null|     null|  null|   null|    null|  null|      null|      null|\n",
      "|   rt_pcr|   positive|        1|    null|        1|     5|   null|    null|  null|      null|      null|\n",
      "|   rt-pcr|   negative|     null|    null|        2|     4|   null|    null|  null|      null|      null|\n",
      "|   rt-pcr|   negative|     null|    null|        5|     2|   null|    null|  null|      null|      null|\n",
      "|   rt-pcr|   negative|     null|    null|        2|     1|   null|    null|     1|      null|         2|\n",
      "|   rt_pcr|   positive|        1|    null|        1|     4|   null|    null|  null|      null|      null|\n",
      "|   rt_pcr|   positive|        1|    null|        1|     5|   null|    null|  null|      null|      null|\n",
      "|   rt_pcr|   positive|        1|    null|        1|     4|   null|    null|  null|         2|      null|\n",
      "|   rt_pcr|   positive|        1|    null|        1|  null|   null|    null|  null|         9|      null|\n",
      "|   rt-pcr|   negative|     null|    null|        5|     2|   null|    null|  null|      null|      null|\n",
      "|   rt-pcr|   negative|     null|    null|        2|     5|   null|    null|  null|      null|      null|\n",
      "|   rt_pcr|   positive|        1|    null|        1|     5|   null|    null|  null|      null|      null|\n",
      "|   rt-pcr|   negative|     null|    null|        1|     5|   null|       1|  null|         2|      null|\n",
      "|   rt-pcr|   negative|     null|    null|        2|     4|   null|    null|  null|      null|      null|\n",
      "|   rt-pcr|   negative|     null|    null|        2|     4|   null|    null|  null|      null|      null|\n",
      "|   rt_pcr|   positive|        1|    null|        1|     4|   null|    null|  null|         2|      null|\n",
      "|   rt-pcr|   negative|     null|    null|        2|     4|   null|    null|  null|      null|      null|\n",
      "|   rt-pcr|   negative|     null|    null|        2|     5|   null|    null|  null|      null|      null|\n",
      "| antigeno|   positive|     null|       1|        5|     1|   null|    null|  null|      null|         9|\n",
      "|   rt-pcr|       null|     null|    null|        5|     5|   null|    null|  null|      null|      null|\n",
      "|   rt_pcr|   positive|        1|    null|        1|     9|   null|    null|  null|         2|      null|\n",
      "|   rt_pcr|   positive|        1|    null|        1|     4|   null|    null|  null|         2|      null|\n",
      "|   rt_pcr|   positive|        1|    null|        1|     5|   null|    null|  null|      null|      null|\n",
      "|   rt-pcr|   negative|     null|    null|        2|     9|   null|    null|  null|      null|      null|\n",
      "|   rt_pcr|   positive|        1|    null|        1|     5|   null|    null|  null|         2|      null|\n",
      "|   rt_pcr|   positive|        1|    null|        1|     5|   null|    null|  null|         2|      null|\n",
      "|   rt_pcr|   positive|        1|    null|        1|     5|   null|    null|  null|         2|      null|\n",
      "|   rt-pcr|   positive|     null|    null|        1|     5|   null|    null|  null|      null|      null|\n",
      "|   rt_pcr|   positive|        1|    null|        1|     4|   null|    null|  null|         2|      null|\n",
      "|   rt_pcr|   positive|        1|    null|        1|     5|   null|    null|  null|      null|      null|\n",
      "|   rt-pcr|   negative|     null|    null|        2|     2|   null|    null|  null|      null|      null|\n",
      "|   rt_pcr|   positive|        1|    null|        1|     5|   null|    null|  null|         9|      null|\n",
      "|   rt-pcr|   negative|     null|    null|        2|     4|   null|    null|  null|      null|      null|\n",
      "|   rt-pcr|   positive|     null|    null|        1|     5|   null|    null|  null|      null|      null|\n",
      "|   rt-pcr|   negative|     null|    null|        2|     5|   null|    null|  null|      null|      null|\n",
      "| antigeno|   positive|     null|       1|        4|     1|   null|    null|  null|      null|         2|\n",
      "|   rt_pcr|   positive|        1|    null|        1|     5|   null|    null|  null|         2|      null|\n",
      "|   rt-pcr|   negative|     null|    null|        5|     2|   null|    null|  null|      null|      null|\n",
      "|   rt_pcr|   positive|        1|    null|        1|  null|   null|    null|  null|      null|      null|\n",
      "|   rt-pcr|   negative|     null|    null|        2|     5|   null|    null|  null|      null|      null|\n",
      "|   rt-pcr|   positive|     null|    null|        1|     4|   null|    null|  null|      null|      null|\n",
      "|   rt_pcr|   positive|        1|    null|        1|     4|   null|    null|  null|         2|      null|\n",
      "|   rt-pcr|   negative|     null|    null|        2|     5|   null|    null|  null|      null|      null|\n",
      "|     null|       null|     null|    null|     null|  null|   null|    null|  null|      null|      null|\n",
      "| antigeno|   positive|     null|       1|        5|     1|   null|    null|  null|      null|         2|\n",
      "|   rt-pcr|   positive|     null|    null|        1|     1|   null|    null|  null|      null|      null|\n",
      "| antigeno|   positive|     null|    null|     null|     1|   null|    null|  null|      null|      null|\n",
      "|   rt_pcr|   positive|        1|    null|        1|     4|   null|    null|  null|         2|      null|\n",
      "|   rt-pcr|   negative|     null|    null|        2|     5|   null|    null|  null|      null|      null|\n",
      "|   rt_pcr|   positive|        1|    null|        1|     4|   null|    null|  null|      null|      null|\n",
      "|   rt-pcr|   negative|     null|    null|        2|     5|   null|    null|  null|      null|      null|\n",
      "|   rt_pcr|   positive|        1|    null|        1|     4|   null|    null|  null|      null|      null|\n",
      "|   rt_pcr|   positive|        1|    null|        1|     5|   null|    null|  null|      null|      null|\n",
      "|   rt-pcr|   negative|     null|    null|        2|     5|   null|    null|  null|      null|      null|\n",
      "|     null|       null|     null|    null|     null|  null|   null|    null|  null|      null|      null|\n",
      "|   rt-pcr|   negative|     null|    null|        2|     4|   null|    null|  null|      null|      null|\n",
      "|     null|       null|     null|    null|     null|  null|   null|    null|  null|      null|      null|\n",
      "|   rt_pcr|   positive|        1|    null|        1|     5|   null|    null|  null|      null|      null|\n",
      "|   rt_pcr|   positive|        1|    null|        1|     4|   null|    null|  null|         2|      null|\n",
      "|   rt-pcr|   negative|     null|    null|        2|     4|   null|    null|  null|      null|      null|\n",
      "|     null|       null|     null|    null|     null|  null|   null|    null|  null|      null|      null|\n",
      "|   rt-pcr|       null|     null|    null|        5|     5|   null|    null|  null|      null|      null|\n",
      "|   rt_pcr|   positive|        1|    null|        1|     4|   null|    null|  null|         2|      null|\n",
      "|   rt_pcr|   positive|        1|    null|        1|     5|   null|    null|  null|      null|      null|\n",
      "|   rt_pcr|   positive|        1|    null|        1|     5|   null|    null|  null|      null|      null|\n",
      "|     null|       null|     null|    null|     null|  null|   null|    null|  null|      null|      null|\n",
      "|   rt_pcr|   positive|        1|    null|        1|     4|   null|    null|  null|         2|      null|\n",
      "|   rt-pcr|       null|     null|    null|        5|     5|   null|    null|  null|      null|      null|\n",
      "|     null|       null|     null|    null|     null|  null|   null|    null|  null|      null|      null|\n",
      "|   rt_pcr|   positive|        1|    null|        1|     5|   null|    null|  null|         2|      null|\n",
      "|   rt_pcr|   positive|        1|    null|        1|     5|   null|    null|  null|      null|      null|\n",
      "|   rt_pcr|   positive|        1|    null|        1|     5|   null|    null|  null|         2|      null|\n",
      "|   rt-pcr|       null|     null|    null|        5|     5|   null|    null|  null|      null|      null|\n",
      "|   rt-pcr|       null|     null|    null|        5|     5|   null|    null|  null|      null|      null|\n",
      "|   rt_pcr|   positive|        1|    null|        1|     5|   null|    null|  null|      null|      null|\n",
      "|   rt_pcr|   positive|        1|    null|        1|     4|   null|    null|  null|         2|      null|\n",
      "| antigeno|   negative|     null|    null|        4|     2|   null|    null|  null|      null|      null|\n",
      "|   rt-pcr|   positive|     null|    null|        1|     5|   null|    null|  null|      null|      null|\n",
      "|     null|       null|     null|    null|     null|  null|   null|    null|  null|      null|      null|\n",
      "|   rt_pcr|   positive|        1|    null|        1|     4|   null|    null|  null|      null|      null|\n",
      "|   rt_pcr|   positive|        1|    null|        1|  null|   null|    null|  null|         2|      null|\n",
      "|   rt-pcr|   negative|     null|    null|        2|  null|   null|    null|  null|      null|      null|\n",
      "|   rt-pcr|   negative|     null|    null|        1|     9|      1|    null|  null|      null|      null|\n",
      "|   rt_pcr|   positive|        1|    null|        1|  null|   null|    null|  null|      null|      null|\n",
      "|   rt_pcr|   positive|        1|    null|        1|     4|   null|    null|  null|         2|      null|\n",
      "|   rt_pcr|   positive|        1|    null|        1|     5|   null|    null|  null|      null|      null|\n",
      "|   rt-pcr|   negative|     null|    null|        2|     5|   null|    null|  null|      null|      null|\n",
      "|   rt-pcr|   negative|     null|    null|        2|  null|   null|    null|  null|      null|      null|\n",
      "|   rt-pcr|   negative|     null|    null|        1|     5|      1|    null|  null|         2|      null|\n",
      "|   rt_pcr|   positive|        1|    null|        1|     4|   null|    null|  null|         2|      null|\n",
      "|   rt-pcr|   negative|     null|    null|        2|     5|   null|    null|  null|      null|      null|\n",
      "|   rt_pcr|   positive|        1|    null|        1|     5|   null|    null|  null|      null|      null|\n",
      "|   rt-pcr|   positive|     null|    null|        1|     4|   null|    null|  null|      null|      null|\n",
      "|   rt_pcr|   positive|        1|    null|        1|     4|   null|    null|  null|      null|      null|\n",
      "|   rt_pcr|   positive|        1|    null|        1|     4|   null|    null|  null|         2|      null|\n",
      "|   rt-pcr|       null|     null|    null|        5|     5|   null|    null|  null|      null|      null|\n",
      "|   rt-pcr|   negative|     null|    null|        2|  null|   null|    null|  null|      null|      null|\n",
      "|   rt-pcr|   negative|     null|    null|        2|     4|   null|    null|  null|      null|      null|\n",
      "|   rt_pcr|   positive|        1|    null|        1|  null|   null|    null|  null|      null|      null|\n",
      "| antigeno|   positive|     null|       1|        5|     1|   null|    null|  null|      null|         2|\n",
      "|   rt_pcr|   positive|        1|    null|        1|     4|   null|    null|  null|         2|      null|\n",
      "|   rt-pcr|       null|     null|    null|        5|     5|   null|    null|  null|      null|      null|\n",
      "|   rt_pcr|   positive|        1|    null|        1|  null|   null|    null|  null|      null|      null|\n",
      "|   rt_pcr|   positive|        1|    null|        1|     2|   null|    null|  null|         9|      null|\n",
      "|     null|       null|     null|    null|     null|  null|   null|    null|  null|      null|      null|\n",
      "|   rt-pcr|   negative|     null|    null|        2|     5|   null|    null|  null|      null|      null|\n",
      "| antigeno|   positive|     null|       1|        5|     1|   null|    null|  null|      null|      null|\n",
      "|     null|       null|     null|    null|        4|     4|   null|    null|  null|      null|      null|\n",
      "|   rt-pcr|   negative|     null|    null|        2|  null|   null|    null|  null|      null|      null|\n",
      "|   rt_pcr|   positive|        1|    null|        1|  null|   null|    null|  null|         2|      null|\n",
      "|   rt-pcr|   negative|     null|    null|        2|     2|   null|    null|  null|      null|      null|\n",
      "|   rt_pcr|   positive|        1|    null|        1|  null|   null|    null|  null|      null|      null|\n",
      "|   rt-pcr|   negative|     null|    null|        2|     5|   null|    null|  null|      null|      null|\n",
      "|   rt-pcr|   negative|     null|    null|        2|     4|   null|    null|  null|      null|      null|\n",
      "|   rt-pcr|   negative|     null|    null|        2|     4|   null|    null|  null|      null|      null|\n",
      "|   rt_pcr|   positive|        1|    null|        1|     5|   null|    null|  null|         2|      null|\n",
      "|   rt_pcr|   positive|        1|    null|        1|     5|   null|    null|  null|      null|      null|\n",
      "|   rt_pcr|   positive|        1|    null|        1|     5|   null|    null|  null|         2|      null|\n",
      "|   rt_pcr|   positive|        1|    null|        1|     5|   null|    null|  null|         2|      null|\n",
      "|   rt-pcr|   negative|     null|    null|        2|     2|   null|    null|  null|      null|      null|\n",
      "| antigeno|   positive|     null|    null|        4|     1|   null|    null|  null|      null|         2|\n",
      "|   rt_pcr|   positive|        1|    null|        1|     5|   null|    null|  null|         2|      null|\n",
      "|   rt_pcr|   positive|        1|    null|        1|     5|   null|    null|  null|         9|      null|\n",
      "| antigeno|   positive|     null|    null|        9|     1|   null|    null|  null|      null|         9|\n",
      "|   rt-pcr|   negative|     null|    null|        2|  null|   null|    null|  null|      null|      null|\n",
      "|   rt_pcr|   positive|        1|    null|        1|     5|   null|    null|  null|      null|      null|\n",
      "|   rt-pcr|       null|     null|    null|        5|     5|   null|    null|  null|      null|      null|\n",
      "|   rt_pcr|   positive|        1|    null|        1|     5|   null|    null|  null|      null|      null|\n",
      "|   rt_pcr|   positive|        1|    null|        1|     5|   null|    null|  null|      null|      null|\n",
      "|   rt_pcr|   positive|        1|    null|        1|     4|   null|    null|  null|         2|      null|\n",
      "|   rt-pcr|   negative|     null|    null|        5|     1|   null|    null|  null|      null|         1|\n",
      "|   rt_pcr|   positive|        1|    null|        1|     5|   null|    null|  null|      null|      null|\n",
      "| antigeno|   positive|     null|       1|        5|     1|   null|    null|  null|      null|         2|\n",
      "|   rt_pcr|   positive|        1|    null|        1|     5|   null|    null|  null|         2|      null|\n",
      "|   rt-pcr|       null|     null|    null|        5|     5|   null|    null|  null|      null|      null|\n",
      "| antigeno|   negative|     null|    null|     null|     2|   null|    null|  null|      null|      null|\n",
      "|   rt_pcr|   positive|        1|    null|        1|     5|   null|    null|  null|         2|      null|\n",
      "| antigeno|   positive|     null|       1|        5|     1|   null|    null|  null|      null|         2|\n",
      "|     null|       null|     null|    null|     null|  null|   null|    null|  null|      null|      null|\n",
      "|   rt_pcr|   positive|        1|    null|        1|     5|   null|    null|  null|      null|      null|\n",
      "|   rt_pcr|   positive|        1|    null|        1|     5|   null|    null|  null|      null|      null|\n",
      "|   rt-pcr|   negative|     null|    null|        1|     5|      1|    null|  null|         2|      null|\n",
      "|   rt-pcr|       null|     null|    null|        5|  null|   null|    null|  null|      null|      null|\n",
      "| antigeno|   positive|     null|       1|        4|     1|   null|    null|  null|      null|         2|\n",
      "|   rt-pcr|   positive|     null|    null|        1|     5|   null|    null|  null|      null|      null|\n",
      "|   rt-pcr|       null|     null|    null|        5|     5|   null|    null|  null|      null|      null|\n",
      "|   rt_pcr|   positive|        1|    null|        1|     5|   null|    null|  null|      null|      null|\n",
      "|   rt_pcr|   positive|        1|    null|        1|     5|   null|    null|  null|         2|      null|\n",
      "|   rt_pcr|   positive|        1|    null|        1|     5|   null|    null|  null|         2|      null|\n",
      "|   rt_pcr|   positive|        1|    null|        1|     9|   null|    null|  null|         2|      null|\n",
      "|   rt_pcr|   positive|        1|    null|        1|     5|   null|    null|  null|         2|      null|\n",
      "| antigeno|   positive|     null|       1|     null|     1|   null|    null|  null|      null|         2|\n",
      "|   rt_pcr|   positive|        1|    null|        1|     5|   null|    null|  null|      null|      null|\n",
      "|   rt_pcr|   positive|        1|    null|        1|     4|   null|    null|  null|         2|      null|\n",
      "|     null|       null|     null|    null|     null|  null|   null|    null|  null|      null|      null|\n",
      "|     null|       null|     null|    null|     null|  null|   null|    null|  null|      null|      null|\n",
      "|   rt-pcr|   negative|     null|    null|        2|     4|   null|    null|  null|      null|      null|\n",
      "|   rt-pcr|   negative|     null|    null|        2|     5|   null|    null|  null|      null|      null|\n",
      "| antigeno|   positive|     null|       1|        4|     1|   null|    null|  null|      null|         2|\n",
      "|   rt_pcr|   positive|        1|    null|        1|     4|   null|    null|  null|         2|      null|\n",
      "|     null|       null|     null|    null|     null|  null|   null|    null|  null|      null|      null|\n",
      "|   rt-pcr|       null|     null|    null|        5|     5|   null|    null|  null|      null|      null|\n",
      "|   rt_pcr|   positive|        1|    null|        1|     5|   null|    null|  null|      null|      null|\n",
      "|   rt-pcr|       null|     null|    null|        5|     5|   null|    null|  null|      null|      null|\n",
      "|   rt-pcr|       null|     null|    null|        5|     4|   null|    null|  null|      null|      null|\n",
      "|   rt-pcr|   negative|     null|    null|        2|     4|   null|    null|  null|      null|      null|\n",
      "|   rt_pcr|   positive|        1|       1|        1|     1|   null|    null|  null|         2|         2|\n",
      "|   rt-pcr|   negative|     null|    null|        2|     5|   null|    null|  null|      null|      null|\n",
      "|   rt_pcr|   positive|        1|    null|        1|     5|   null|    null|  null|      null|      null|\n",
      "| antigeno|   positive|     null|       1|        4|     1|   null|    null|  null|      null|         2|\n",
      "|   rt-pcr|   negative|     null|    null|        2|     5|   null|    null|  null|      null|      null|\n",
      "|   rt-pcr|   negative|     null|    null|        2|     5|   null|    null|  null|      null|      null|\n",
      "|   rt_pcr|   positive|        1|    null|        1|     5|   null|    null|  null|         2|      null|\n",
      "|   rt_pcr|   positive|        1|    null|        1|     5|   null|    null|  null|      null|      null|\n",
      "|   rt_pcr|   positive|        1|    null|        1|     4|   null|    null|  null|         2|      null|\n",
      "| antigeno|   negative|     null|    null|     null|     2|   null|    null|  null|      null|      null|\n",
      "|   rt-pcr|   negative|     null|    null|        2|     4|   null|    null|  null|      null|      null|\n",
      "|   rt_pcr|   positive|        1|    null|        1|     9|   null|    null|  null|      null|      null|\n",
      "|     null|       null|     null|    null|     null|  null|   null|    null|  null|      null|      null|\n",
      "|   rt-pcr|   negative|     null|    null|        2|     5|   null|    null|  null|      null|      null|\n",
      "|   rt-pcr|       null|     null|    null|        5|     5|   null|    null|  null|      null|      null|\n",
      "|   rt-pcr|   negative|     null|    null|        5|     2|   null|    null|  null|      null|      null|\n",
      "|   rt_pcr|   positive|        1|    null|        1|     4|   null|    null|  null|         2|      null|\n",
      "|   rt-pcr|   negative|     null|    null|        2|     5|   null|    null|  null|      null|      null|\n",
      "|   rt_pcr|   positive|        1|    null|        1|     4|   null|    null|  null|      null|      null|\n",
      "|     null|       null|     null|    null|     null|  null|   null|    null|  null|      null|      null|\n",
      "|   rt-pcr|   negative|     null|    null|        2|     5|   null|    null|  null|      null|      null|\n",
      "|   rt-pcr|   negative|     null|    null|        2|     2|   null|    null|  null|      null|      null|\n",
      "|   rt-pcr|   negative|     null|    null|        2|     2|   null|    null|  null|      null|      null|\n",
      "|   rt-pcr|   negative|     null|    null|        2|     5|   null|    null|  null|      null|      null|\n",
      "|   rt-pcr|   negative|     null|    null|        2|     5|   null|    null|  null|      null|      null|\n",
      "|   rt_pcr|   positive|        1|    null|        1|     2|   null|    null|  null|      null|      null|\n",
      "|   rt-pcr|   negative|     null|    null|        2|     4|   null|    null|  null|      null|      null|\n",
      "|   rt_pcr|   positive|        1|    null|        1|     9|   null|    null|  null|      null|      null|\n",
      "|   rt-pcr|   negative|     null|    null|        2|     5|   null|    null|  null|      null|      null|\n",
      "|   rt_pcr|   positive|        1|    null|        1|     4|   null|    null|  null|         2|      null|\n",
      "|   rt_pcr|   positive|        1|    null|        1|  null|   null|    null|  null|         9|      null|\n",
      "|   rt_pcr|   positive|        1|    null|        1|     4|   null|    null|  null|         2|      null|\n",
      "|   rt-pcr|   negative|     null|    null|        2|     5|   null|    null|  null|      null|      null|\n",
      "|   rt-pcr|   negative|     null|    null|        2|     5|   null|    null|  null|      null|      null|\n",
      "|   rt_pcr|   positive|        1|    null|        1|     5|   null|    null|  null|         2|      null|\n",
      "|   rt_pcr|   positive|        1|    null|        1|     9|   null|    null|  null|      null|      null|\n",
      "|   rt_pcr|   positive|        1|    null|        1|     5|   null|    null|  null|      null|      null|\n",
      "| antigeno|   positive|     null|       1|        5|     1|   null|    null|  null|      null|         9|\n",
      "|   rt_pcr|   positive|        1|    null|        1|     5|   null|    null|  null|      null|      null|\n",
      "|   rt-pcr|   positive|     null|    null|        1|     4|   null|    null|  null|         2|      null|\n",
      "|   rt_pcr|   positive|        1|    null|        1|     5|   null|    null|  null|         2|      null|\n",
      "|   rt-pcr|   negative|     null|    null|        2|  null|   null|    null|  null|      null|      null|\n",
      "|   rt_pcr|   positive|        1|    null|        1|     5|   null|    null|  null|         2|      null|\n",
      "|   rt-pcr|       null|     null|    null|        5|  null|   null|    null|  null|      null|      null|\n",
      "|   rt-pcr|   negative|     null|    null|        2|     2|   null|    null|  null|      null|      null|\n",
      "|   rt_pcr|   positive|        1|    null|        1|     5|   null|    null|  null|         2|      null|\n",
      "| antigeno|       null|     null|    null|     null|     5|   null|    null|  null|      null|      null|\n",
      "| antigeno|   positive|     null|       1|        5|     1|   null|    null|  null|      null|         2|\n",
      "|   rt_pcr|   positive|        1|    null|        1|  null|   null|    null|  null|         2|      null|\n",
      "|   rt_pcr|   positive|        1|    null|        1|     5|   null|    null|  null|      null|      null|\n",
      "| antigeno|   positive|     null|       1|        5|     1|   null|    null|  null|      null|         2|\n",
      "|   rt-pcr|   negative|     null|    null|        2|     5|   null|    null|  null|      null|      null|\n",
      "| antigeno|   positive|     null|       1|        5|     1|   null|    null|  null|      null|      null|\n",
      "| antigeno|   negative|     null|    null|     null|     2|   null|    null|  null|      null|      null|\n",
      "|   rt_pcr|   positive|        1|    null|        1|     5|   null|    null|  null|         2|      null|\n",
      "|   rt_pcr|   positive|        1|    null|        1|     4|   null|    null|  null|         2|      null|\n",
      "|   rt-pcr|   negative|     null|    null|        2|     5|   null|    null|  null|      null|      null|\n",
      "| antigeno|   positive|     null|       1|        5|     1|   null|    null|  null|      null|         2|\n",
      "|   rt_pcr|   positive|        1|    null|        1|     5|   null|    null|  null|         2|      null|\n",
      "|   rt-pcr|       null|     null|    null|        3|     5|   null|    null|  null|      null|      null|\n",
      "|   rt-pcr|   negative|     null|    null|        5|     2|   null|    null|  null|      null|      null|\n",
      "|   rt_pcr|   positive|        1|    null|        1|     4|   null|    null|  null|         2|      null|\n",
      "|   rt-pcr|   negative|     null|    null|        2|     4|   null|    null|  null|      null|      null|\n",
      "|   rt-pcr|   negative|     null|    null|        2|     2|   null|    null|  null|      null|      null|\n",
      "|   rt-pcr|   negative|     null|    null|        2|     4|   null|    null|  null|      null|      null|\n",
      "|   rt_pcr|   positive|        1|    null|        1|     5|   null|    null|  null|         2|      null|\n",
      "|   rt_pcr|   positive|        1|    null|        1|     5|   null|    null|  null|      null|      null|\n",
      "|   rt_pcr|   positive|        1|    null|        1|     5|   null|    null|  null|      null|      null|\n",
      "|   rt_pcr|   positive|        1|    null|        1|     4|   null|    null|  null|         9|      null|\n",
      "|   rt-pcr|   positive|     null|    null|        5|     1|   null|    null|  null|      null|      null|\n",
      "|   rt_pcr|   positive|        1|    null|        1|     5|   null|    null|  null|      null|      null|\n",
      "|   rt_pcr|   positive|        1|    null|        1|     4|   null|    null|  null|         9|      null|\n",
      "|   rt_pcr|   positive|        1|    null|        1|     4|   null|    null|  null|         9|      null|\n",
      "| antigeno|   positive|     null|       1|        4|     1|   null|    null|  null|      null|      null|\n",
      "|   rt-pcr|   negative|     null|    null|        1|     5|   null|    null|  null|         1|      null|\n",
      "| antigeno|   positive|     null|       1|        5|     1|   null|    null|  null|      null|         2|\n",
      "|   rt_pcr|   positive|        1|    null|        1|     4|   null|    null|  null|         2|      null|\n",
      "| antigeno|   positive|     null|       1|        4|     1|   null|    null|  null|      null|         2|\n",
      "|     null|       null|     null|    null|     null|  null|   null|    null|  null|      null|      null|\n",
      "|   rt-pcr|   negative|     null|    null|        2|     4|   null|    null|  null|      null|      null|\n",
      "|   rt-pcr|   negative|     null|    null|        2|     5|   null|    null|  null|      null|      null|\n",
      "|   rt-pcr|   positive|     null|    null|        1|     5|   null|    null|  null|      null|      null|\n",
      "|   rt_pcr|   positive|        1|       1|        1|     1|   null|    null|  null|         9|         9|\n",
      "| antigeno|   positive|     null|       1|        4|     1|   null|    null|  null|      null|         2|\n",
      "|   rt_pcr|   positive|        1|    null|        1|     5|   null|    null|  null|         2|      null|\n",
      "|   rt_pcr|   positive|        1|    null|        1|     4|   null|    null|  null|         2|      null|\n",
      "| antigeno|   positive|     null|       1|        4|     1|   null|    null|  null|      null|      null|\n",
      "|   rt-pcr|   positive|     null|    null|        1|     5|   null|    null|  null|      null|      null|\n",
      "| antigeno|   positive|     null|       1|        5|     1|   null|    null|  null|      null|         2|\n",
      "|   rt-pcr|   negative|     null|    null|        2|     5|   null|    null|  null|      null|      null|\n",
      "|     null|       null|     null|    null|     null|  null|   null|    null|  null|      null|      null|\n",
      "|   rt_pcr|   positive|        1|    null|        1|     4|   null|    null|  null|         9|      null|\n",
      "|   rt_pcr|   positive|        1|    null|        1|     5|   null|    null|  null|      null|      null|\n",
      "|     null|       null|     null|    null|     null|  null|   null|    null|  null|      null|      null|\n",
      "|     null|       null|     null|    null|     null|  null|   null|    null|  null|      null|      null|\n",
      "|   rt-pcr|   negative|     null|    null|        2|     5|   null|    null|  null|      null|      null|\n",
      "|   rt_pcr|   positive|        1|    null|        1|     5|   null|    null|  null|         2|      null|\n",
      "|   rt_pcr|   positive|        1|    null|        1|     4|   null|    null|  null|         2|      null|\n",
      "|   rt-pcr|   negative|     null|    null|        2|     4|   null|    null|  null|      null|      null|\n",
      "|   rt_pcr|   positive|        1|    null|        1|     4|   null|    null|  null|         2|      null|\n",
      "|   rt_pcr|   positive|        1|    null|        1|     5|   null|    null|  null|         2|      null|\n",
      "|   rt_pcr|   positive|        1|    null|        1|     4|   null|    null|  null|         2|      null|\n",
      "|   rt-pcr|       null|     null|    null|        5|     5|   null|    null|  null|      null|      null|\n",
      "|   rt_pcr|   positive|        1|    null|        1|     5|   null|    null|  null|         2|      null|\n",
      "|   rt_pcr|   positive|        1|    null|        1|  null|   null|    null|  null|         2|      null|\n",
      "| antigeno|   negative|     null|    null|     null|     2|   null|    null|  null|      null|      null|\n",
      "|   rt-pcr|   negative|     null|    null|        5|     2|   null|    null|  null|      null|      null|\n",
      "|   rt-pcr|   negative|     null|    null|        2|     5|   null|    null|  null|      null|      null|\n",
      "|   rt-pcr|       null|     null|    null|        5|     5|   null|    null|  null|      null|      null|\n",
      "|   rt_pcr|   positive|        1|    null|        1|     4|   null|    null|  null|      null|      null|\n",
      "|   rt-pcr|   negative|     null|    null|        2|  null|   null|    null|  null|      null|      null|\n",
      "|   rt-pcr|   negative|     null|    null|        2|     4|   null|    null|  null|      null|      null|\n",
      "|   rt-pcr|   positive|     null|    null|        1|     5|   null|    null|  null|      null|      null|\n",
      "|   rt_pcr|   positive|        1|    null|        1|     4|   null|    null|  null|         2|      null|\n",
      "|   rt-pcr|   positive|     null|    null|        1|     5|   null|    null|  null|         2|      null|\n",
      "|   rt_pcr|   positive|        1|    null|        1|     4|   null|    null|  null|         2|      null|\n",
      "|   rt-pcr|       null|     null|    null|        5|     5|   null|    null|  null|      null|      null|\n",
      "|   rt-pcr|   negative|     null|    null|        2|     2|   null|    null|  null|      null|      null|\n",
      "|   rt-pcr|   negative|     null|    null|        1|     5|   null|       1|  null|         2|      null|\n",
      "|   rt-pcr|   negative|     null|    null|        5|     2|   null|    null|  null|      null|      null|\n",
      "|   rt-pcr|   positive|     null|    null|        5|     1|   null|    null|  null|      null|      null|\n",
      "|   rt_pcr|   positive|        1|    null|        1|     5|   null|    null|  null|      null|      null|\n",
      "|   rt-pcr|   positive|     null|    null|        1|     5|   null|    null|  null|      null|      null|\n",
      "|   rt-pcr|       null|     null|    null|        5|     5|   null|    null|  null|      null|      null|\n",
      "|   rt-pcr|       null|     null|    null|        5|     5|   null|    null|  null|      null|      null|\n",
      "|   rt-pcr|   negative|     null|    null|        5|     2|   null|    null|  null|      null|      null|\n",
      "|   rt_pcr|   positive|        1|    null|        1|     5|   null|    null|  null|         2|      null|\n",
      "|   rt_pcr|   positive|        1|    null|        1|     4|   null|    null|  null|      null|      null|\n",
      "|   rt_pcr|   positive|        1|    null|        1|     5|   null|    null|  null|      null|      null|\n",
      "|   rt-pcr|   negative|     null|    null|        2|     4|   null|    null|  null|      null|      null|\n",
      "|   rt_pcr|   positive|        1|    null|        1|     2|   null|    null|  null|         2|      null|\n",
      "|   rt-pcr|   negative|     null|    null|        2|     2|   null|    null|  null|      null|      null|\n",
      "|     null|       null|     null|    null|     null|  null|   null|    null|  null|      null|      null|\n",
      "|   rt-pcr|   negative|     null|    null|        2|     4|   null|    null|  null|      null|      null|\n",
      "|   rt_pcr|   positive|        1|    null|        1|     5|   null|    null|  null|      null|      null|\n",
      "|   rt_pcr|   positive|        1|    null|        1|     5|   null|    null|  null|      null|      null|\n",
      "| antigeno|   positive|     null|       1|     null|     1|   null|    null|  null|      null|         2|\n",
      "|   rt-pcr|   negative|     null|    null|        2|     5|   null|    null|  null|      null|      null|\n",
      "| antigeno|   positive|     null|       1|        4|     1|   null|    null|  null|      null|         9|\n",
      "|   rt-pcr|   negative|     null|    null|        1|     4|      1|    null|  null|         9|      null|\n",
      "| antigeno|   positive|     null|       1|        4|     1|   null|    null|  null|      null|      null|\n",
      "|   rt_pcr|   positive|        1|    null|        1|  null|   null|    null|  null|         2|      null|\n",
      "|   rt_pcr|   positive|        1|    null|        1|     5|   null|    null|  null|      null|      null|\n",
      "|   rt_pcr|   positive|        1|    null|        1|     5|   null|    null|  null|         2|      null|\n",
      "| antigeno|   positive|     null|       1|        4|     1|   null|    null|  null|      null|         9|\n",
      "|   rt-pcr|   negative|     null|    null|        5|     2|   null|    null|  null|      null|      null|\n",
      "|   rt-pcr|   positive|     null|    null|        1|     5|   null|    null|  null|      null|      null|\n",
      "|   rt_pcr|   positive|        1|    null|        1|     4|   null|    null|  null|         2|      null|\n",
      "|   rt_pcr|   positive|        1|    null|        1|     4|   null|    null|  null|         9|      null|\n",
      "|   rt_pcr|   positive|        1|    null|        1|     4|   null|    null|  null|      null|      null|\n",
      "|   rt_pcr|   positive|        1|    null|        1|     5|   null|    null|  null|      null|      null|\n",
      "|     null|       null|     null|    null|     null|  null|   null|    null|  null|      null|      null|\n",
      "| antigeno|   positive|     null|       1|        4|     1|   null|    null|  null|      null|         2|\n",
      "|   rt-pcr|   negative|     null|    null|        2|     4|   null|    null|  null|      null|      null|\n",
      "|   rt-pcr|       null|     null|    null|        3|     5|   null|    null|  null|      null|      null|\n",
      "|   rt-pcr|   negative|     null|    null|        5|     2|   null|    null|  null|      null|      null|\n",
      "| antigeno|   positive|     null|       1|        5|     1|   null|    null|  null|      null|      null|\n",
      "|   rt_pcr|   positive|        1|    null|        1|     4|   null|    null|  null|         2|      null|\n",
      "|   rt_pcr|   positive|        1|    null|        1|     5|   null|    null|  null|         2|      null|\n",
      "|   rt-pcr|   negative|     null|    null|        2|  null|   null|    null|  null|      null|      null|\n",
      "|   rt-pcr|   positive|     null|    null|        1|     5|   null|    null|  null|      null|      null|\n",
      "|   rt_pcr|   positive|        1|    null|        1|     5|   null|    null|  null|         2|      null|\n",
      "|   rt_pcr|   positive|        1|    null|        1|     5|   null|    null|  null|         2|      null|\n",
      "|   rt-pcr|   negative|     null|    null|        2|     4|   null|    null|  null|      null|      null|\n",
      "|   rt-pcr|       null|     null|    null|        5|     5|   null|    null|  null|      null|      null|\n",
      "|   rt_pcr|   positive|        1|    null|        1|     5|   null|    null|  null|      null|      null|\n",
      "|     null|       null|     null|    null|        4|     4|   null|    null|  null|      null|      null|\n",
      "| antigeno|   positive|     null|       1|        4|     1|   null|    null|  null|      null|         2|\n",
      "|   rt-pcr|   negative|     null|    null|        2|     5|   null|    null|  null|      null|      null|\n",
      "|     null|       null|     null|    null|     null|  null|   null|    null|  null|      null|      null|\n",
      "|   rt-pcr|       null|     null|    null|        5|     5|   null|    null|  null|      null|      null|\n",
      "|   rt-pcr|   positive|     null|    null|        1|     5|   null|    null|  null|      null|      null|\n",
      "|   rt_pcr|   positive|        1|    null|        1|     4|   null|    null|  null|         9|      null|\n",
      "|   rt_pcr|   positive|        1|    null|        1|     4|   null|    null|  null|      null|      null|\n",
      "|   rt-pcr|   positive|     null|    null|        1|     5|   null|    null|  null|         2|      null|\n",
      "|   rt_pcr|   positive|        1|    null|        1|     5|   null|    null|  null|      null|      null|\n",
      "|   rt-pcr|   negative|     null|    null|        2|     4|   null|    null|  null|      null|      null|\n",
      "|   rt-pcr|       null|     null|    null|        5|     5|   null|    null|  null|      null|      null|\n",
      "|   rt_pcr|   positive|        1|    null|        1|     4|   null|    null|  null|         2|      null|\n",
      "|   rt_pcr|   positive|        1|    null|        1|     5|   null|    null|  null|         2|      null|\n",
      "|   rt-pcr|   negative|     null|    null|        2|     5|   null|    null|  null|      null|      null|\n",
      "|   rt-pcr|   negative|     null|    null|        2|     4|   null|    null|  null|      null|      null|\n",
      "|   rt-pcr|   negative|     null|    null|        2|     2|   null|    null|  null|      null|      null|\n",
      "|   rt-pcr|   negative|     null|    null|        2|     5|   null|    null|  null|      null|      null|\n",
      "|   rt-pcr|   negative|     null|    null|        2|     5|   null|    null|  null|      null|      null|\n",
      "| antigeno|   positive|     null|       1|        5|     1|   null|    null|  null|      null|         2|\n",
      "|   rt_pcr|   positive|        1|    null|        1|     5|   null|    null|  null|         2|      null|\n",
      "|   rt-pcr|       null|     null|    null|        5|     5|   null|    null|  null|      null|      null|\n",
      "| antigeno|   positive|     null|       1|        5|     1|   null|    null|  null|      null|      null|\n",
      "| antigeno|   positive|     null|       1|        4|     1|   null|    null|  null|      null|         2|\n",
      "|   rt-pcr|   negative|     null|    null|        2|     5|   null|    null|  null|      null|      null|\n",
      "|   rt_pcr|   positive|        1|    null|        1|     5|   null|    null|  null|         2|      null|\n",
      "|   rt_pcr|   positive|        1|    null|        1|     4|   null|    null|  null|         2|      null|\n",
      "|   rt_pcr|   positive|        1|    null|        1|     5|   null|    null|  null|         2|      null|\n",
      "|   rt-pcr|   negative|     null|    null|        2|     5|   null|    null|  null|      null|      null|\n",
      "|   rt_pcr|   positive|        1|    null|        1|     5|   null|    null|  null|         2|      null|\n",
      "| antigeno|   positive|     null|       1|        5|     1|   null|    null|  null|      null|         2|\n",
      "|   rt-pcr|       null|     null|    null|        5|     5|   null|    null|  null|      null|      null|\n",
      "|     null|       null|     null|    null|     null|  null|   null|    null|  null|      null|      null|\n",
      "|   rt-pcr|   negative|     null|    null|        2|     5|   null|    null|  null|      null|      null|\n",
      "|   rt_pcr|   positive|        1|    null|        1|     5|   null|    null|  null|      null|      null|\n",
      "|   rt_pcr|   positive|        1|    null|        1|     5|   null|    null|  null|      null|      null|\n",
      "|   rt_pcr|   positive|        1|    null|        1|     4|   null|    null|  null|         2|      null|\n",
      "|   rt_pcr|   positive|        1|    null|        1|     4|   null|    null|  null|         2|      null|\n",
      "| antigeno|   positive|     null|    null|        4|     1|   null|    null|  null|      null|         2|\n",
      "|   rt_pcr|   positive|        1|    null|        1|     4|   null|    null|  null|         2|      null|\n",
      "|   rt_pcr|   positive|        1|    null|        1|     5|   null|    null|  null|      null|      null|\n",
      "|   rt-pcr|       null|     null|    null|        5|     5|   null|    null|  null|      null|      null|\n",
      "|     null|       null|     null|    null|     null|  null|   null|    null|  null|      null|      null|\n",
      "|   rt_pcr|   positive|        1|    null|        1|     5|   null|    null|  null|         2|      null|\n",
      "|   rt_pcr|   positive|        1|    null|        1|     4|   null|    null|  null|         2|      null|\n",
      "|   rt-pcr|   negative|     null|    null|        2|     5|   null|    null|  null|      null|      null|\n",
      "|   rt-pcr|       null|     null|    null|        5|     5|   null|    null|  null|      null|      null|\n",
      "|   rt_pcr|   positive|        1|    null|        1|     5|   null|    null|  null|         2|      null|\n",
      "|   rt-pcr|   negative|     null|    null|        5|     2|   null|    null|  null|      null|      null|\n",
      "|   rt-pcr|   negative|     null|    null|        2|     4|   null|    null|  null|      null|      null|\n",
      "|   rt_pcr|   positive|        1|    null|        1|     4|   null|    null|  null|         2|      null|\n",
      "|   rt_pcr|   positive|        1|    null|        1|  null|   null|    null|  null|      null|      null|\n",
      "|   rt-pcr|   negative|     null|    null|        2|     5|   null|    null|  null|      null|      null|\n",
      "|   rt_pcr|   positive|        1|    null|        1|     5|   null|    null|  null|         2|      null|\n",
      "|   rt-pcr|   negative|     null|    null|        2|     4|   null|    null|  null|      null|      null|\n",
      "| antigeno|   positive|     null|       1|        5|     1|   null|    null|  null|      null|         2|\n",
      "|   rt-pcr|       null|     null|    null|        5|     5|   null|    null|  null|      null|      null|\n",
      "| antigeno|   positive|     null|       1|        4|     1|   null|    null|  null|      null|         2|\n",
      "|     null|       null|     null|    null|     null|  null|   null|    null|  null|      null|      null|\n",
      "|   rt-pcr|   positive|     null|    null|        1|     5|   null|    null|  null|      null|      null|\n",
      "|   rt_pcr|   positive|        1|    null|        1|     4|   null|    null|  null|         2|      null|\n",
      "|   rt_pcr|   positive|        1|    null|        1|     5|   null|    null|  null|         2|      null|\n",
      "|   rt_pcr|   positive|        1|    null|        1|     4|   null|    null|  null|         2|      null|\n",
      "|   rt_pcr|   positive|        1|    null|        1|     2|   null|    null|  null|      null|      null|\n",
      "|     null|       null|     null|    null|     null|  null|   null|    null|  null|      null|      null|\n",
      "|   rt_pcr|   positive|        1|    null|        1|     4|   null|    null|  null|         2|      null|\n",
      "|     null|       null|     null|    null|     null|  null|   null|    null|  null|      null|      null|\n",
      "|     null|       null|     null|    null|     null|  null|   null|    null|  null|      null|      null|\n",
      "|   rt-pcr|   negative|     null|    null|        2|     5|   null|    null|  null|      null|      null|\n",
      "|   rt_pcr|   positive|        1|    null|        1|     4|   null|    null|  null|         2|      null|\n",
      "|   rt-pcr|   positive|     null|    null|        1|     5|   null|    null|  null|      null|      null|\n",
      "|   rt_pcr|   positive|        1|    null|        1|     5|   null|    null|  null|         2|      null|\n",
      "| antigeno|   positive|     null|    null|     null|     1|   null|    null|  null|      null|      null|\n",
      "|   rt_pcr|   positive|        1|    null|        1|     5|   null|    null|  null|         9|      null|\n",
      "|   rt_pcr|   positive|        1|    null|        1|     5|   null|    null|  null|      null|      null|\n",
      "|   rt-pcr|   negative|     null|    null|        2|     5|   null|    null|  null|      null|      null|\n",
      "|   rt-pcr|   negative|     null|    null|        2|     4|   null|    null|  null|      null|      null|\n",
      "|   rt-pcr|   negative|     null|    null|        2|     4|   null|    null|  null|      null|      null|\n",
      "|   rt-pcr|   positive|     null|    null|        5|     1|   null|    null|  null|      null|      null|\n",
      "| antigeno|   positive|     null|       1|        5|     1|   null|    null|  null|      null|         2|\n",
      "|   rt_pcr|   positive|        1|    null|        1|     5|   null|    null|  null|         2|      null|\n",
      "|   rt-pcr|   positive|     null|    null|        1|     5|   null|    null|  null|      null|      null|\n",
      "|   rt_pcr|   positive|        1|    null|        1|     5|   null|    null|  null|         2|      null|\n",
      "|   rt-pcr|   negative|     null|    null|        2|     4|   null|    null|  null|      null|      null|\n",
      "|   rt_pcr|   positive|        1|    null|        1|     4|   null|    null|  null|         2|      null|\n",
      "| antigeno|   positive|     null|       1|        4|     1|   null|    null|  null|      null|      null|\n",
      "|   rt-pcr|   negative|     null|    null|        2|  null|   null|    null|  null|      null|      null|\n",
      "| antigeno|   positive|     null|    null|     null|     1|   null|    null|  null|      null|      null|\n",
      "|   rt-pcr|   positive|     null|    null|        1|     5|   null|    null|  null|      null|      null|\n",
      "|   rt_pcr|   positive|        1|    null|        1|     5|   null|    null|  null|      null|      null|\n",
      "|   rt-pcr|   negative|     null|    null|        2|     5|   null|    null|  null|      null|      null|\n",
      "|   rt_pcr|   positive|        1|    null|        1|     5|   null|    null|  null|         2|      null|\n",
      "|   rt_pcr|   positive|        1|    null|        1|     5|   null|    null|  null|         2|      null|\n",
      "|   rt_pcr|   positive|        1|    null|        1|     5|   null|    null|  null|         2|      null|\n",
      "|   rt-pcr|   negative|     null|    null|        2|     5|   null|    null|  null|      null|      null|\n",
      "|     null|       null|     null|    null|     null|  null|   null|    null|  null|      null|      null|\n",
      "|   rt-pcr|       null|     null|    null|        5|     5|   null|    null|  null|      null|      null|\n",
      "|     null|       null|     null|    null|     null|  null|   null|    null|  null|      null|      null|\n",
      "|   rt_pcr|   positive|        1|    null|        1|     4|   null|    null|  null|         2|      null|\n",
      "|   rt_pcr|   positive|        1|    null|        1|     5|   null|    null|  null|         2|      null|\n",
      "|   rt_pcr|   positive|        1|    null|        1|     4|   null|    null|  null|         2|      null|\n",
      "|     null|       null|     null|    null|     null|  null|   null|    null|  null|      null|      null|\n",
      "|   rt_pcr|   positive|        1|    null|        1|     4|   null|    null|  null|         2|      null|\n",
      "|     null|       null|     null|    null|     null|  null|   null|    null|  null|      null|      null|\n",
      "|   rt-pcr|       null|     null|    null|        5|     5|   null|    null|  null|      null|      null|\n",
      "|   rt-pcr|   negative|     null|    null|        2|     5|   null|    null|  null|      null|      null|\n",
      "| antigeno|   positive|     null|    null|     null|     1|   null|    null|  null|      null|      null|\n",
      "|   rt-pcr|       null|     null|    null|        5|     5|   null|    null|  null|      null|      null|\n",
      "| antigeno|   positive|     null|       1|        5|     1|   null|    null|  null|      null|         2|\n",
      "|   rt_pcr|   positive|        1|    null|        1|     5|   null|    null|  null|         2|      null|\n",
      "|   rt_pcr|   positive|        1|    null|        1|     5|   null|    null|  null|      null|      null|\n",
      "|     null|   positive|     null|    null|        4|  null|   null|    null|  null|      null|         2|\n",
      "|   rt-pcr|   negative|     null|    null|        2|     5|   null|    null|  null|      null|      null|\n",
      "|     null|       null|     null|    null|     null|  null|   null|    null|  null|      null|      null|\n",
      "|   rt-pcr|   negative|     null|    null|        2|     5|   null|    null|  null|      null|      null|\n",
      "|   rt-pcr|   positive|     null|    null|        1|     4|   null|    null|  null|      null|      null|\n",
      "|   rt-pcr|   negative|     null|    null|        1|     1|      1|    null|  null|         2|      null|\n",
      "|   rt-pcr|   negative|     null|    null|        2|     5|   null|    null|  null|      null|      null|\n",
      "|   rt-pcr|   negative|     null|    null|        2|     5|   null|    null|  null|      null|      null|\n",
      "| antigeno|   positive|     null|       1|        4|     1|   null|    null|  null|      null|         2|\n",
      "|   rt_pcr|   positive|        1|    null|        1|     4|   null|    null|  null|      null|      null|\n",
      "|   rt_pcr|   positive|        1|    null|        1|     5|   null|    null|  null|         2|      null|\n",
      "|   rt_pcr|   positive|        1|    null|        1|     5|   null|    null|  null|         2|      null|\n",
      "|   rt_pcr|   positive|        1|    null|        1|     5|   null|    null|  null|      null|      null|\n",
      "|   rt-pcr|   positive|     null|    null|        1|     5|   null|    null|  null|      null|      null|\n",
      "|   rt_pcr|   positive|        1|    null|        1|     4|   null|    null|  null|         2|      null|\n",
      "|   rt_pcr|   positive|        1|    null|        1|     4|   null|    null|  null|         2|      null|\n",
      "|   rt_pcr|   positive|        1|    null|        1|  null|   null|    null|  null|         9|      null|\n",
      "|   rt_pcr|   positive|        1|    null|        1|     4|   null|    null|  null|         2|      null|\n",
      "|   rt_pcr|   positive|        1|    null|        1|     5|   null|    null|  null|         2|      null|\n",
      "|   rt_pcr|   positive|        1|    null|        1|     4|   null|    null|  null|         2|      null|\n",
      "|     null|       null|     null|    null|     null|  null|   null|    null|  null|      null|      null|\n",
      "| antigeno|   positive|     null|       1|     null|     1|   null|    null|  null|      null|         9|\n",
      "|   rt-pcr|   negative|     null|    null|        2|     4|   null|    null|  null|      null|      null|\n",
      "|   rt-pcr|       null|     null|    null|        5|     5|   null|    null|  null|      null|      null|\n",
      "| antigeno|   positive|     null|       1|        5|     1|   null|    null|  null|      null|      null|\n",
      "|   rt_pcr|   positive|        1|    null|        1|     2|   null|    null|  null|         2|      null|\n",
      "|   rt_pcr|   positive|        1|    null|        1|     5|   null|    null|  null|      null|      null|\n",
      "| antigeno|   positive|     null|    null|        4|     1|   null|    null|  null|      null|      null|\n",
      "|   rt-pcr|   negative|     null|    null|        1|     2|   null|    null|  null|         1|      null|\n",
      "| antigeno|   positive|     null|       1|        5|     1|   null|    null|  null|      null|      null|\n",
      "|   rt_pcr|   positive|        1|    null|        1|     5|   null|    null|  null|      null|      null|\n",
      "| antigeno|   positive|     null|       1|     null|     1|   null|    null|  null|      null|      null|\n",
      "|   rt_pcr|   positive|        1|    null|        1|     4|   null|    null|  null|         2|      null|\n",
      "|   rt-pcr|   negative|     null|    null|        2|     4|   null|    null|  null|      null|      null|\n",
      "|   rt_pcr|   positive|        1|    null|        1|     4|   null|    null|  null|         2|      null|\n",
      "|   rt_pcr|   positive|        1|    null|        1|     5|   null|    null|  null|         2|      null|\n",
      "|   rt_pcr|   positive|        1|    null|        1|     5|   null|    null|  null|      null|      null|\n",
      "|   rt-pcr|   negative|     null|    null|        2|     4|   null|    null|  null|      null|      null|\n",
      "|     null|       null|     null|    null|     null|  null|   null|    null|  null|      null|      null|\n",
      "|   rt_pcr|   positive|        1|    null|        1|     4|   null|    null|  null|         2|      null|\n",
      "|   rt_pcr|   positive|        1|    null|        1|     5|   null|    null|  null|      null|      null|\n",
      "|   rt_pcr|   positive|        1|    null|        1|     4|   null|    null|  null|      null|      null|\n",
      "|   rt_pcr|   positive|        1|    null|        1|     4|   null|    null|  null|         2|      null|\n",
      "|   rt-pcr|   positive|     null|    null|        1|     5|   null|    null|  null|      null|      null|\n",
      "| antigeno|   positive|     null|       1|        4|     1|   null|    null|  null|      null|         2|\n",
      "|   rt_pcr|   positive|        1|    null|        1|     4|   null|    null|  null|      null|      null|\n",
      "| antigeno|   positive|     null|       1|     null|     1|   null|    null|  null|      null|      null|\n",
      "|   rt_pcr|   positive|        1|       1|        1|     1|   null|    null|  null|         2|         2|\n",
      "|   rt-pcr|   negative|     null|    null|        2|     5|   null|    null|  null|      null|      null|\n",
      "|     null|       null|     null|    null|     null|  null|   null|    null|  null|      null|      null|\n",
      "|   rt_pcr|   positive|        1|    null|        1|     4|   null|    null|  null|         9|      null|\n",
      "|   rt_pcr|   positive|        1|    null|        1|  null|   null|    null|  null|         2|      null|\n",
      "|   rt-pcr|   negative|     null|    null|        2|  null|   null|    null|  null|      null|      null|\n",
      "|   rt-pcr|   negative|     null|    null|        2|  null|   null|    null|  null|      null|      null|\n",
      "|   rt-pcr|   positive|     null|    null|        5|     1|   null|    null|  null|      null|      null|\n",
      "|     null|       null|     null|    null|     null|  null|   null|    null|  null|      null|      null|\n",
      "|   rt_pcr|   positive|        1|    null|        1|     2|   null|    null|  null|         2|      null|\n",
      "|   rt-pcr|       null|     null|    null|        5|     5|   null|    null|  null|      null|      null|\n",
      "|   rt_pcr|   positive|        1|    null|        1|     5|   null|    null|  null|      null|      null|\n",
      "|   rt_pcr|   positive|        1|    null|        1|     5|   null|    null|  null|         9|      null|\n",
      "|   rt-pcr|   positive|     null|    null|        1|     5|   null|    null|  null|      null|      null|\n",
      "|   rt-pcr|   positive|     null|    null|        5|     1|   null|    null|  null|      null|      null|\n",
      "|     null|       null|     null|    null|        4|     4|   null|    null|  null|      null|      null|\n",
      "|   rt_pcr|   positive|        1|    null|        1|     5|   null|    null|  null|         2|      null|\n",
      "|   rt_pcr|   positive|        1|    null|        1|     5|   null|    null|  null|      null|      null|\n",
      "|   rt-pcr|   positive|     null|    null|        1|     5|   null|    null|  null|      null|      null|\n",
      "|   rt-pcr|   negative|     null|    null|        2|     2|   null|    null|  null|      null|      null|\n",
      "|   rt_pcr|   positive|        1|    null|        1|     1|   null|    null|  null|      null|      null|\n",
      "|   rt_pcr|   positive|        1|    null|        1|     5|   null|    null|  null|         9|      null|\n",
      "|   rt-pcr|   negative|     null|    null|        2|     9|   null|    null|  null|      null|      null|\n",
      "|   rt_pcr|   positive|        1|    null|        1|     5|   null|    null|  null|         2|      null|\n",
      "|   rt_pcr|   positive|        1|    null|        1|     4|   null|    null|  null|      null|      null|\n",
      "|   rt-pcr|   negative|     null|    null|        2|     4|   null|    null|  null|      null|      null|\n",
      "| antigeno|       null|     null|    null|     null|     5|   null|    null|  null|      null|      null|\n",
      "|   rt-pcr|   negative|     null|    null|        2|     5|   null|    null|  null|      null|      null|\n",
      "|   rt-pcr|   negative|     null|    null|        1|     5|   null|    null|  null|         1|      null|\n",
      "|   rt-pcr|   positive|     null|    null|        1|     9|   null|    null|  null|         9|      null|\n",
      "|   rt_pcr|   positive|        1|    null|        1|     4|   null|    null|  null|         2|      null|\n",
      "|   rt-pcr|   negative|     null|    null|        2|     4|   null|    null|  null|      null|      null|\n",
      "|   rt-pcr|   negative|     null|    null|        2|     5|   null|    null|  null|      null|      null|\n",
      "|   rt-pcr|   negative|     null|    null|        2|     5|   null|    null|  null|      null|      null|\n",
      "| antigeno|   positive|     null|       1|        5|     1|   null|    null|  null|      null|         2|\n",
      "|   rt-pcr|   negative|     null|    null|        2|     4|   null|    null|  null|      null|      null|\n",
      "|   rt_pcr|   positive|        1|    null|        1|     4|   null|    null|  null|         2|      null|\n",
      "| antigeno|   positive|     null|       1|        5|     1|   null|    null|  null|      null|      null|\n",
      "|   rt_pcr|   positive|        1|    null|        1|     4|   null|    null|  null|         2|      null|\n",
      "|   rt-pcr|   positive|     null|    null|        5|     1|   null|    null|  null|      null|      null|\n",
      "|   rt_pcr|   positive|        1|    null|        1|     4|   null|    null|  null|         2|      null|\n",
      "| antigeno|   positive|     null|       1|        4|     1|   null|    null|  null|      null|         2|\n",
      "| antigeno|   positive|     null|       1|        4|     1|   null|    null|  null|      null|         2|\n",
      "|   rt-pcr|       null|     null|    null|        5|     4|   null|    null|  null|      null|      null|\n",
      "|   rt_pcr|   positive|        1|    null|        1|     4|   null|    null|  null|         2|      null|\n",
      "|   rt-pcr|       null|     null|    null|        5|     5|   null|    null|  null|      null|      null|\n",
      "|   rt-pcr|   negative|     null|    null|        5|     2|   null|    null|  null|      null|      null|\n",
      "| antigeno|   positive|     null|       1|        5|     1|   null|    null|  null|      null|         2|\n",
      "|   rt-pcr|   negative|     null|    null|        2|     2|   null|    null|  null|      null|      null|\n",
      "|   rt-pcr|   positive|     null|    null|        1|     5|   null|    null|  null|      null|      null|\n",
      "|   rt_pcr|   positive|        1|    null|        1|  null|   null|    null|  null|         2|      null|\n",
      "|   rt_pcr|   positive|        1|    null|        1|     5|   null|    null|  null|      null|      null|\n",
      "|   rt-pcr|   negative|     null|    null|        2|     4|   null|    null|  null|      null|      null|\n",
      "|   rt_pcr|   positive|        1|    null|        1|     4|   null|    null|  null|         2|      null|\n",
      "|   rt_pcr|   positive|        1|    null|        1|     5|   null|    null|  null|         2|      null|\n",
      "|   rt_pcr|   positive|        1|    null|        1|     5|   null|    null|  null|         2|      null|\n",
      "|   rt-pcr|   negative|     null|    null|        2|     2|   null|    null|  null|      null|      null|\n",
      "|   rt-pcr|   negative|     null|    null|        2|     5|   null|    null|  null|      null|      null|\n",
      "| antigeno|   negative|     null|    null|     null|     2|   null|    null|  null|      null|      null|\n",
      "|     null|       null|     null|    null|     null|  null|   null|    null|  null|      null|      null|\n",
      "| antigeno|   positive|     null|       1|        4|     1|   null|    null|  null|      null|         2|\n",
      "|   rt-pcr|   negative|     null|    null|        2|     5|   null|    null|  null|      null|      null|\n",
      "| antigeno|   positive|     null|       1|        4|     1|   null|    null|  null|      null|      null|\n",
      "|     null|       null|     null|    null|     null|  null|   null|    null|  null|      null|      null|\n",
      "|   rt-pcr|   negative|     null|    null|        2|     4|   null|    null|  null|      null|      null|\n",
      "|   rt-pcr|   positive|     null|    null|        1|     5|   null|    null|  null|      null|      null|\n",
      "|   rt_pcr|   positive|        1|    null|        1|  null|   null|    null|  null|      null|      null|\n",
      "|   rt-pcr|   negative|     null|    null|        5|     2|   null|    null|  null|      null|      null|\n",
      "|   rt-pcr|   negative|     null|    null|        2|     5|   null|    null|  null|      null|      null|\n",
      "|   rt_pcr|   positive|        1|    null|        1|     4|   null|    null|  null|         9|      null|\n",
      "|   rt-pcr|       null|     null|    null|        5|  null|   null|    null|  null|      null|      null|\n",
      "|   rt_pcr|   positive|        1|    null|        1|     4|   null|    null|  null|         2|      null|\n",
      "|   rt-pcr|   negative|     null|    null|        2|     5|   null|    null|  null|      null|      null|\n",
      "|   rt-pcr|   negative|     null|    null|        2|     5|   null|    null|  null|      null|      null|\n",
      "|   rt-pcr|   negative|     null|    null|        2|     5|   null|    null|  null|      null|      null|\n",
      "|   rt-pcr|   negative|     null|    null|        2|     4|   null|    null|  null|      null|      null|\n",
      "|     null|       null|     null|    null|     null|  null|   null|    null|  null|      null|      null|\n",
      "|   rt_pcr|   positive|        1|    null|        1|     5|   null|    null|  null|         9|      null|\n",
      "|   rt-pcr|   negative|     null|    null|        5|     2|   null|    null|  null|      null|      null|\n",
      "|   rt-pcr|       null|     null|    null|        5|     5|   null|    null|  null|      null|      null|\n",
      "|   rt_pcr|   positive|        1|    null|        1|     5|   null|    null|  null|      null|      null|\n",
      "|   rt_pcr|   positive|        1|    null|        1|     5|   null|    null|  null|      null|      null|\n",
      "|   rt-pcr|   negative|     null|    null|        2|     5|   null|    null|  null|      null|      null|\n",
      "| antigeno|   positive|     null|    null|        4|     1|   null|    null|  null|      null|         2|\n",
      "|   rt_pcr|   positive|        1|    null|        1|     5|   null|    null|  null|         2|      null|\n",
      "|   rt_pcr|   positive|        1|    null|        1|     9|   null|    null|  null|      null|      null|\n",
      "| antigeno|   positive|     null|       1|        5|     1|   null|    null|  null|      null|         2|\n",
      "|   rt-pcr|   negative|     null|    null|        5|     2|   null|    null|  null|      null|      null|\n",
      "|   rt_pcr|   positive|        1|    null|        1|     5|   null|    null|  null|      null|      null|\n",
      "|     null|       null|     null|    null|     null|  null|   null|    null|  null|      null|      null|\n",
      "|   rt-pcr|   negative|     null|    null|        2|     5|   null|    null|  null|      null|      null|\n",
      "|   rt_pcr|   positive|        1|    null|        1|     4|   null|    null|  null|         2|      null|\n",
      "|   rt-pcr|   negative|     null|    null|        2|     5|   null|    null|  null|      null|      null|\n",
      "| antigeno|   positive|     null|       1|        4|     1|   null|    null|  null|      null|         2|\n",
      "|   rt_pcr|   positive|        1|    null|        1|     5|   null|    null|  null|      null|      null|\n",
      "|   rt-pcr|   positive|     null|    null|        1|     5|   null|    null|  null|      null|      null|\n",
      "|   rt-pcr|   negative|     null|    null|        2|     5|   null|    null|  null|      null|      null|\n",
      "|     null|       null|     null|    null|     null|  null|   null|    null|  null|      null|      null|\n",
      "|   rt_pcr|   positive|        1|    null|        1|     5|   null|    null|  null|         2|      null|\n",
      "|   rt_pcr|   positive|        1|    null|        1|     4|   null|    null|  null|         2|      null|\n",
      "|   rt-pcr|   negative|     null|    null|        2|     5|   null|    null|  null|      null|      null|\n",
      "|   rt_pcr|   positive|        1|    null|        1|     5|   null|    null|  null|         2|      null|\n",
      "|   rt-pcr|   negative|     null|    null|        2|  null|   null|    null|  null|      null|      null|\n",
      "|   rt-pcr|   negative|     null|    null|        2|     4|   null|    null|  null|      null|      null|\n",
      "|   rt_pcr|   positive|        1|    null|        1|     4|   null|    null|  null|         2|      null|\n",
      "|   rt_pcr|   positive|        1|    null|        1|     5|   null|    null|  null|      null|      null|\n",
      "|   rt_pcr|   positive|        1|    null|        1|     5|   null|    null|  null|      null|      null|\n",
      "| antigeno|   positive|     null|       1|        4|     1|   null|    null|  null|      null|         2|\n",
      "| antigeno|   positive|     null|       1|        4|     1|   null|    null|  null|      null|         9|\n",
      "|     null|       null|     null|    null|     null|  null|   null|    null|  null|      null|      null|\n",
      "|   rt_pcr|   positive|        1|    null|        1|  null|   null|    null|  null|      null|      null|\n",
      "|   rt-pcr|   negative|     null|    null|        5|     2|   null|    null|  null|      null|      null|\n",
      "|   rt_pcr|   positive|        1|    null|        1|     4|   null|    null|  null|         2|      null|\n",
      "|   rt-pcr|       null|     null|    null|        5|     5|   null|    null|  null|      null|      null|\n",
      "|   rt_pcr|   positive|        1|    null|        1|     5|   null|    null|  null|         2|      null|\n",
      "|   rt-pcr|   negative|     null|    null|        2|     4|   null|    null|  null|      null|      null|\n",
      "|     null|   positive|     null|    null|        4|     4|   null|    null|  null|      null|         2|\n",
      "|   rt-pcr|   positive|     null|    null|        5|     1|   null|    null|  null|      null|      null|\n",
      "| antigeno|   positive|     null|       1|        4|     1|   null|    null|  null|      null|         2|\n",
      "|     null|       null|     null|    null|        9|     9|   null|    null|  null|      null|      null|\n",
      "|   rt_pcr|   positive|        1|    null|        1|     4|   null|    null|  null|         2|      null|\n",
      "|   rt_pcr|   positive|        1|    null|        1|  null|   null|    null|  null|      null|      null|\n",
      "|   rt_pcr|   positive|        1|    null|        1|     5|   null|    null|  null|      null|      null|\n",
      "|   rt-pcr|   positive|     null|    null|        5|     1|   null|    null|  null|      null|      null|\n",
      "|   rt_pcr|   positive|        1|    null|        1|     5|   null|    null|  null|      null|      null|\n",
      "| antigeno|   positive|     null|       1|        5|     1|   null|    null|  null|      null|         2|\n",
      "| antigeno|   positive|     null|       1|        4|     1|   null|    null|  null|      null|         9|\n",
      "| antigeno|   positive|     null|       1|        4|     1|   null|    null|  null|      null|         2|\n",
      "|     null|       null|     null|    null|     null|  null|   null|    null|  null|      null|      null|\n",
      "| antigeno|   positive|     null|       1|        4|     1|   null|    null|  null|      null|         2|\n",
      "|   rt-pcr|   negative|     null|    null|        2|     5|   null|    null|  null|      null|      null|\n",
      "|   rt-pcr|       null|     null|    null|        5|     5|   null|    null|  null|      null|      null|\n",
      "|   rt_pcr|   positive|        1|    null|        1|     4|   null|    null|  null|         2|      null|\n",
      "|   rt_pcr|   positive|        1|    null|        1|     5|   null|    null|  null|         2|      null|\n",
      "| antigeno|   positive|     null|       1|        4|     1|   null|    null|  null|      null|         2|\n",
      "|   rt-pcr|   positive|     null|    null|        1|     5|   null|    null|  null|         2|      null|\n",
      "|   rt_pcr|   positive|        1|    null|        1|     5|   null|    null|  null|      null|      null|\n",
      "|   rt_pcr|   positive|        1|    null|        1|     5|   null|    null|  null|      null|      null|\n",
      "|   rt-pcr|   negative|     null|    null|        2|     4|   null|    null|  null|      null|      null|\n",
      "|   rt_pcr|   positive|        1|    null|        1|  null|   null|    null|  null|         2|      null|\n",
      "| antigeno|   positive|     null|       1|        5|     1|   null|    null|  null|      null|         2|\n",
      "|   rt-pcr|   negative|     null|    null|        1|     5|      1|    null|  null|      null|      null|\n",
      "|   rt-pcr|   positive|     null|    null|        1|     4|   null|    null|  null|         2|      null|\n",
      "|   rt_pcr|   positive|        1|    null|        1|     4|   null|    null|  null|         2|      null|\n",
      "|   rt-pcr|   negative|     null|    null|        2|     1|   null|    null|     1|      null|         2|\n",
      "|   rt-pcr|   positive|     null|    null|        5|     1|   null|    null|  null|      null|      null|\n",
      "|   rt_pcr|   positive|        1|    null|        1|     4|   null|    null|  null|         2|      null|\n",
      "|   rt_pcr|   positive|        1|    null|        1|     5|   null|    null|  null|      null|      null|\n",
      "|   rt-pcr|   negative|     null|    null|        2|     5|   null|    null|  null|      null|      null|\n",
      "|   rt_pcr|   positive|        1|    null|        1|     4|   null|    null|  null|         2|      null|\n",
      "|   rt-pcr|   negative|     null|    null|        2|     5|   null|    null|  null|      null|      null|\n",
      "| antigeno|   positive|     null|       1|        2|     1|   null|    null|  null|      null|         2|\n",
      "|   rt_pcr|   positive|        1|    null|        1|     5|   null|    null|  null|         2|      null|\n",
      "|     null|       null|     null|    null|        4|     4|   null|    null|  null|      null|      null|\n",
      "|   rt-pcr|   negative|     null|    null|        2|     5|   null|    null|  null|      null|      null|\n",
      "| antigeno|   negative|     null|    null|        4|     2|   null|    null|  null|      null|      null|\n",
      "|   rt_pcr|   positive|        1|    null|        1|     5|   null|    null|  null|      null|      null|\n",
      "|   rt-pcr|   negative|     null|    null|        2|     4|   null|    null|  null|      null|      null|\n",
      "|   rt-pcr|   negative|     null|    null|        2|     4|   null|    null|  null|      null|      null|\n",
      "|   rt_pcr|   positive|        1|    null|        1|     5|   null|    null|  null|      null|      null|\n",
      "|   rt-pcr|   negative|     null|    null|        2|     4|   null|    null|  null|      null|      null|\n",
      "|   rt_pcr|   positive|        1|    null|        1|     5|   null|    null|  null|         2|      null|\n",
      "|   rt_pcr|   positive|        1|    null|        1|     9|   null|    null|  null|         2|      null|\n",
      "|   rt_pcr|   positive|        1|    null|        1|     2|   null|    null|  null|         2|      null|\n",
      "|   rt_pcr|   positive|        1|    null|        1|     5|   null|    null|  null|      null|      null|\n",
      "|   rt_pcr|   positive|        1|    null|        1|     5|   null|    null|  null|         2|      null|\n",
      "|   rt-pcr|       null|     null|    null|        5|     5|   null|    null|  null|      null|      null|\n",
      "|   rt_pcr|   positive|        1|    null|        1|     5|   null|    null|  null|      null|      null|\n",
      "|   rt_pcr|   positive|        1|    null|        1|     4|   null|    null|  null|         2|      null|\n",
      "|     null|       null|     null|    null|     null|  null|   null|    null|  null|      null|      null|\n",
      "|   rt_pcr|   positive|        1|    null|        1|     5|   null|    null|  null|         2|      null|\n",
      "|   rt-pcr|   positive|     null|    null|        1|     5|   null|    null|  null|      null|      null|\n",
      "|     null|       null|     null|    null|     null|  null|   null|    null|  null|      null|      null|\n",
      "|   rt_pcr|   positive|        1|    null|        1|     4|   null|    null|  null|      null|      null|\n",
      "|     null|       null|     null|    null|     null|  null|   null|    null|  null|      null|      null|\n",
      "|   rt_pcr|   positive|        1|    null|        1|     5|   null|    null|  null|         2|      null|\n",
      "|   rt_pcr|   positive|        1|    null|        1|     4|   null|    null|  null|         2|      null|\n",
      "|   rt_pcr|   positive|        1|    null|        1|     5|   null|    null|  null|         9|      null|\n",
      "|   rt_pcr|   positive|        1|    null|        1|     5|   null|    null|  null|      null|      null|\n",
      "| antigeno|   positive|     null|       1|        4|     1|   null|    null|  null|      null|         2|\n",
      "|   rt_pcr|   positive|        1|    null|        1|     5|   null|    null|  null|      null|      null|\n",
      "|     null|       null|     null|    null|     null|  null|   null|    null|  null|      null|      null|\n",
      "|   rt-pcr|   negative|     null|    null|        1|     5|   null|       1|  null|         2|      null|\n",
      "|   rt-pcr|   negative|     null|    null|        2|  null|   null|    null|  null|      null|      null|\n",
      "|   rt-pcr|       null|     null|    null|        5|     5|   null|    null|  null|      null|      null|\n",
      "|   rt_pcr|   positive|        1|    null|        1|     4|   null|    null|  null|         2|      null|\n",
      "|   rt-pcr|   negative|     null|    null|        2|     5|   null|    null|  null|      null|      null|\n",
      "| antigeno|   positive|     null|       1|        5|     1|   null|    null|  null|      null|      null|\n",
      "|   rt_pcr|   positive|        1|    null|        1|     5|   null|    null|  null|         2|      null|\n",
      "|   rt-pcr|   positive|     null|    null|        5|     1|   null|    null|  null|      null|      null|\n",
      "|   rt-pcr|   negative|     null|    null|        5|     2|   null|    null|  null|      null|      null|\n",
      "|   rt-pcr|   positive|     null|    null|        5|     1|   null|    null|  null|      null|      null|\n",
      "|   rt_pcr|   positive|        1|    null|        1|     5|   null|    null|  null|         2|      null|\n",
      "|     null|       null|     null|    null|     null|  null|   null|    null|  null|      null|      null|\n",
      "|   rt_pcr|   positive|        1|    null|        1|     4|   null|    null|  null|         2|      null|\n",
      "|   rt_pcr|   positive|        1|    null|        1|     4|   null|    null|  null|      null|      null|\n",
      "|   rt-pcr|   negative|     null|    null|        2|     5|   null|    null|  null|      null|      null|\n",
      "|     null|       null|     null|    null|     null|  null|   null|    null|  null|      null|      null|\n",
      "|   rt-pcr|   negative|     null|    null|        5|     2|   null|    null|  null|      null|      null|\n",
      "|   rt-pcr|   negative|     null|    null|        2|     5|   null|    null|  null|      null|      null|\n",
      "|   rt-pcr|   negative|     null|    null|        2|     5|   null|    null|  null|      null|      null|\n",
      "|   rt_pcr|   positive|        1|    null|        1|     5|   null|    null|  null|      null|      null|\n",
      "| antigeno|   positive|     null|       1|        4|     1|   null|    null|  null|      null|         2|\n",
      "|   rt_pcr|   positive|        1|    null|        1|  null|   null|    null|  null|         2|      null|\n",
      "|     null|       null|     null|    null|     null|  null|   null|    null|  null|      null|      null|\n",
      "|   rt_pcr|   positive|        1|    null|        1|     5|   null|    null|  null|      null|      null|\n",
      "|   rt-pcr|   positive|     null|    null|        1|     5|   null|    null|  null|      null|      null|\n",
      "|   rt_pcr|   positive|        1|    null|        1|     4|   null|    null|  null|         2|      null|\n",
      "|   rt_pcr|   positive|        1|    null|        1|     5|   null|    null|  null|      null|      null|\n",
      "|   rt-pcr|   negative|     null|    null|        2|     5|   null|    null|  null|      null|      null|\n",
      "|   rt_pcr|   positive|        1|    null|        1|     5|   null|    null|  null|      null|      null|\n",
      "|   rt-pcr|   negative|     null|    null|        2|     5|   null|    null|  null|      null|      null|\n",
      "|   rt-pcr|   negative|     null|    null|        5|     2|   null|    null|  null|      null|      null|\n",
      "|   rt_pcr|   positive|        1|    null|        1|     4|   null|    null|  null|         2|      null|\n",
      "|   rt_pcr|   positive|        1|    null|        1|     5|   null|    null|  null|      null|      null|\n",
      "|   rt_pcr|   positive|        1|    null|        1|  null|   null|    null|  null|      null|      null|\n",
      "|   rt-pcr|   negative|     null|    null|        2|     4|   null|    null|  null|      null|      null|\n",
      "|   rt_pcr|   positive|        1|    null|        1|     5|   null|    null|  null|      null|      null|\n",
      "|   rt-pcr|   negative|     null|    null|        2|     4|   null|    null|  null|      null|      null|\n",
      "|   rt-pcr|   negative|     null|    null|        2|     5|   null|    null|  null|      null|      null|\n",
      "+---------+-----------+---------+--------+---------+------+-------+--------+------+----------+----------+\n",
      "only showing top 1000 rows\n",
      "\n"
     ]
    }
   ],
   "source": [
    "#\n",
    "srag.select(['test_type', 'test_result'] + test_vars).show(1000)"
   ]
  },
  {
   "cell_type": "markdown",
   "id": "17819cf8-ac58-4cf0-99d1-701e3869389d",
   "metadata": {},
   "source": [
    "### measurement_date"
   ]
  },
  {
   "cell_type": "code",
   "execution_count": 12,
   "id": "3e92fefb-5209-48a2-b3e5-a2a42ad8004a",
   "metadata": {},
   "outputs": [],
   "source": [
    "srag = srag.withColumn('measurement_date', \n",
    "                      F.when(F.col('test_type') == 'rt_pcr', \n",
    "                            F.coalesce(\n",
    "                                F.to_date(F.col('dt_pcr'), 'dd/MM/yyyy'), \n",
    "                                F.to_date(F.col('dt_coleta'), 'dd/MM/yyyy'), \n",
    "                                F.to_date(F.col('dt_notific'), 'dd/MM/yyyy')\n",
    "                            )\n",
    "                      )\\\n",
    "                       .when(F.col('test_type') == 'antigeno', \n",
    "                            F.coalesce(\n",
    "                                F.to_date(F.col('dt_res_an'), 'dd/MM/yyyy'),\n",
    "                                F.to_date(F.col('dt_coleta'), 'dd/MM/yyyy'),\n",
    "                                F.to_date(F.col('dt_notific'), 'dd/MM/yyyy')\n",
    "                            )\n",
    "                            )\n",
    "                      )"
   ]
  },
  {
   "cell_type": "code",
   "execution_count": 13,
   "id": "a43dab4e-f885-4af5-aeec-9884d3d1392f",
   "metadata": {},
   "outputs": [],
   "source": [
    "srag = srag.filter(F.col('measurement_date').isNotNull())"
   ]
  },
  {
   "cell_type": "code",
   "execution_count": 12,
   "id": "c49f31e1-fbf6-4074-9aca-113dcdd41581",
   "metadata": {},
   "outputs": [
    {
     "name": "stderr",
     "output_type": "stream",
     "text": [
      "                                                                                \r"
     ]
    },
    {
     "data": {
      "text/plain": [
       "2087916"
      ]
     },
     "execution_count": 12,
     "metadata": {},
     "output_type": "execute_result"
    }
   ],
   "source": [
    "#\n",
    "srag.count()"
   ]
  },
  {
   "cell_type": "code",
   "execution_count": 14,
   "id": "e77d25f4-4e52-4bf5-8e14-553a548ab032",
   "metadata": {},
   "outputs": [],
   "source": [
    "srag = srag.select('visit_occurrence_id', 'id_vigvac',  'test_type', 'test_result', 'measurement_date')"
   ]
  },
  {
   "cell_type": "markdown",
   "id": "4eb4ad72-07d4-45f9-a844-d4b458b8eea6",
   "metadata": {},
   "source": [
    "# sg"
   ]
  },
  {
   "cell_type": "code",
   "execution_count": 15,
   "id": "b5d47ed6-001f-4913-a0ca-052465c34491",
   "metadata": {},
   "outputs": [],
   "source": [
    "sg = spark.read.parquet(\"/dados10t/datalake/standard/omop/data_with_ids/sg_long_09072022_v9-id_omop.parquet/\")"
   ]
  },
  {
   "cell_type": "code",
   "execution_count": 15,
   "id": "8b1370a7-e6a9-4fa2-993f-5fdf5e561432",
   "metadata": {},
   "outputs": [
    {
     "data": {
      "text/plain": [
       "82896519"
      ]
     },
     "execution_count": 15,
     "metadata": {},
     "output_type": "execute_result"
    }
   ],
   "source": [
    "#\n",
    "sg.count()"
   ]
  },
  {
   "cell_type": "code",
   "execution_count": 11,
   "id": "9abeeabd-7426-4647-bbbc-18a75007f486",
   "metadata": {
    "collapsed": true,
    "jupyter": {
     "outputs_hidden": true
    },
    "tags": []
   },
   "outputs": [
    {
     "name": "stdout",
     "output_type": "stream",
     "text": [
      "root\n",
      " |-- dt_datanotificacao: date (nullable = true)\n",
      " |-- dt_datainiciosintomas: date (nullable = true)\n",
      " |-- dt_datateste: date (nullable = true)\n",
      " |-- condicoes: string (nullable = true)\n",
      " |-- sintomas: string (nullable = true)\n",
      " |-- classificacaofinal: string (nullable = true)\n",
      " |-- dt_dataencerramento: date (nullable = true)\n",
      " |-- evolucaocaso: string (nullable = true)\n",
      " |-- tipoteste: string (nullable = true)\n",
      " |-- resultadoteste: string (nullable = true)\n",
      " |-- codigotipoteste: string (nullable = true)\n",
      " |-- codigoresultadoteste: string (nullable = true)\n",
      " |-- estadonotificacao: string (nullable = true)\n",
      " |-- municipio: string (nullable = true)\n",
      " |-- estado: string (nullable = true)\n",
      " |-- idade: double (nullable = true)\n",
      " |-- codigo_ibge_resid: string (nullable = true)\n",
      " |-- profissionalsaude: string (nullable = true)\n",
      " |-- cbo: string (nullable = true)\n",
      " |-- evolucaocaso_2: string (nullable = true)\n",
      " |-- classificacaofinal_2: string (nullable = true)\n",
      " |-- sexo_2: string (nullable = true)\n",
      " |-- racacor_2: string (nullable = true)\n",
      " |-- condicoes_2: string (nullable = true)\n",
      " |-- tipoteste_2: string (nullable = true)\n",
      " |-- sg: string (nullable = true)\n",
      " |-- srag: string (nullable = true)\n",
      " |-- vacinacao: string (nullable = true)\n",
      " |-- id_vigvac: long (nullable = true)\n",
      "\n"
     ]
    }
   ],
   "source": [
    "#\n",
    "sg.printSchema()"
   ]
  },
  {
   "cell_type": "code",
   "execution_count": 72,
   "id": "ae8f2b0b-ffba-49c1-8499-427846841bbc",
   "metadata": {
    "collapsed": true,
    "jupyter": {
     "outputs_hidden": true
    },
    "tags": []
   },
   "outputs": [
    {
     "name": "stdout",
     "output_type": "stream",
     "text": [
      "+------------+-----------------------+---------------+--------------+--------------------+\n",
      "|dt_datateste|tipoteste              |codigotipoteste|resultadoteste|codigoresultadoteste|\n",
      "+------------+-----------------------+---------------+--------------+--------------------+\n",
      "|2021-05-31  |RT-PCR                 |1              |Detectável    |1                   |\n",
      "|2021-03-24  |RT-PCR                 |1              |Detectável    |1                   |\n",
      "|2022-01-13  |RT-PCR                 |1              |null          |null                |\n",
      "|2022-01-24  |TESTE RÁPIDO - ANTÍGENO|3              |Reagente      |1                   |\n",
      "|2021-01-26  |TESTE RÁPIDO - ANTÍGENO|3              |Detectável    |1                   |\n",
      "|2022-01-19  |TESTE RÁPIDO - ANTÍGENO|3              |Reagente      |1                   |\n",
      "|2021-02-16  |RT-PCR                 |1              |null          |null                |\n",
      "|2021-02-16  |RT-PCR                 |1              |Detectável    |1                   |\n",
      "|2022-03-11  |TESTE RÁPIDO - ANTÍGENO|3              |Não Reagente  |2                   |\n",
      "|2021-04-12  |RT-PCR                 |1              |null          |null                |\n",
      "+------------+-----------------------+---------------+--------------+--------------------+\n",
      "only showing top 10 rows\n",
      "\n"
     ]
    }
   ],
   "source": [
    "#\n",
    "sg.select('dt_datateste', 'tipoteste', 'codigotipoteste', 'resultadoteste', 'codigoresultadoteste').show(10, truncate=False)"
   ]
  },
  {
   "cell_type": "markdown",
   "id": "45e541be-bf9b-411e-9281-54f71b89f701",
   "metadata": {},
   "source": [
    "### define test type - measurement_concept_id "
   ]
  },
  {
   "cell_type": "code",
   "execution_count": 16,
   "id": "6f133c4a-3a7b-434c-bd0b-cf6bf02947d4",
   "metadata": {},
   "outputs": [],
   "source": [
    "sg = sg.withColumn('test_type', \n",
    "              F.when (F.lower(F.col('tipoteste')).like('%antígeno%'), 'antigeno')\\\n",
    "              .when(F.lower(F.col('tipoteste')).like('%rt-pcr%'), 'rt-pcr')\n",
    "             )\n",
    "#.select('test_type', 'tipoteste').show(100, truncate=False)"
   ]
  },
  {
   "cell_type": "code",
   "execution_count": 17,
   "id": "ac8b11ab-03ad-47ee-b80a-5ef508856894",
   "metadata": {},
   "outputs": [],
   "source": [
    "sg = sg.filter(F.col('test_type').isNotNull())"
   ]
  },
  {
   "cell_type": "code",
   "execution_count": 19,
   "id": "af84cbcf-1781-4c0c-bf1b-dc63ea064c75",
   "metadata": {},
   "outputs": [
    {
     "name": "stderr",
     "output_type": "stream",
     "text": [
      "                                                                                \r"
     ]
    },
    {
     "data": {
      "text/plain": [
       "56475307"
      ]
     },
     "execution_count": 19,
     "metadata": {},
     "output_type": "execute_result"
    }
   ],
   "source": [
    "#\n",
    "sg.count()"
   ]
  },
  {
   "cell_type": "markdown",
   "id": "1994f1eb-9c81-43b9-b944-a7be9fc05106",
   "metadata": {},
   "source": [
    "### define test result - value_as_concept_id"
   ]
  },
  {
   "cell_type": "code",
   "execution_count": 18,
   "id": "b87f53ce-bd36-4c85-8bdc-adcc0e81373d",
   "metadata": {
    "tags": []
   },
   "outputs": [],
   "source": [
    "sg = sg.withColumn('test_result', \n",
    "              F.when (F.lower(F.col('resultadoteste')).startswith('positivo'), 'positive')\\\n",
    "              .when(F.lower(F.col('resultadoteste')).startswith('detectável'), 'positive')\\\n",
    "              .when(F.lower(F.col('resultadoteste')).startswith('reagente'), 'positive')\\\n",
    "              .when(F.lower(F.col('resultadoteste')).like('%negativo%'), 'negative')\\\n",
    "              .when(F.lower(F.col('resultadoteste')).like('%não%'), 'negative')\n",
    "             )"
   ]
  },
  {
   "cell_type": "code",
   "execution_count": 19,
   "id": "aae4fa0e-6e96-4549-ba4a-de39cf11a4b3",
   "metadata": {},
   "outputs": [],
   "source": [
    "sg = sg.filter(F.col('test_result').isNotNull())"
   ]
  },
  {
   "cell_type": "code",
   "execution_count": 22,
   "id": "76a8fe83-8e8f-4a9a-ab19-38b7cf896be5",
   "metadata": {},
   "outputs": [
    {
     "name": "stderr",
     "output_type": "stream",
     "text": [
      "                                                                                \r"
     ]
    },
    {
     "data": {
      "text/plain": [
       "47977499"
      ]
     },
     "execution_count": 22,
     "metadata": {},
     "output_type": "execute_result"
    }
   ],
   "source": [
    "#\n",
    "sg.count()"
   ]
  },
  {
   "cell_type": "markdown",
   "id": "15d9f07b-1cd5-40ab-b47c-b24f4c776a58",
   "metadata": {},
   "source": [
    "### measurement_date "
   ]
  },
  {
   "cell_type": "code",
   "execution_count": 20,
   "id": "46b80118-22a8-44da-910c-42b71ce7a5cb",
   "metadata": {},
   "outputs": [],
   "source": [
    "sg = sg.withColumn('measurement_date',\n",
    "                   F.coalesce(\n",
    "                       F.col('dt_datateste'),\n",
    "                       F.col('dt_datanotificacao'),\n",
    "                       F.col('dt_datainiciosintomas')\n",
    "                   )\n",
    "                  )"
   ]
  },
  {
   "cell_type": "code",
   "execution_count": 20,
   "id": "55b4eda7-7d04-44f5-94bd-210118177d95",
   "metadata": {},
   "outputs": [],
   "source": [
    "sg = sg.filter(F.col('measurement_date').isNotNull())"
   ]
  },
  {
   "cell_type": "code",
   "execution_count": 21,
   "id": "be0c4b8a-3d61-43ef-a741-9d6cca279a41",
   "metadata": {},
   "outputs": [
    {
     "name": "stderr",
     "output_type": "stream",
     "text": [
      "                                                                                \r"
     ]
    },
    {
     "data": {
      "text/plain": [
       "47977498"
      ]
     },
     "execution_count": 21,
     "metadata": {},
     "output_type": "execute_result"
    }
   ],
   "source": [
    "#\n",
    "sg.count()"
   ]
  },
  {
   "cell_type": "code",
   "execution_count": 21,
   "id": "fe9b0eee-c7c6-403d-883e-f930ea2df1c5",
   "metadata": {},
   "outputs": [],
   "source": [
    "sg = sg.select('visit_occurrence_id', 'id_vigvac',  'test_type', 'test_result', 'measurement_date')"
   ]
  },
  {
   "cell_type": "markdown",
   "id": "eec7badc-169e-4434-857b-c93ac339a9c1",
   "metadata": {},
   "source": [
    "# union"
   ]
  },
  {
   "cell_type": "code",
   "execution_count": 22,
   "id": "da314ec2-cb70-49f5-9097-814f11c043bd",
   "metadata": {},
   "outputs": [],
   "source": [
    "sg_srag = sg.union(srag)"
   ]
  },
  {
   "cell_type": "markdown",
   "id": "2a5150cf-00cb-4a0c-99bd-a1f0e96ec811",
   "metadata": {},
   "source": [
    "### measurement_type_concept_id "
   ]
  },
  {
   "cell_type": "code",
   "execution_count": 23,
   "id": "67155a8b-66f0-4cde-a55f-cca324b30246",
   "metadata": {},
   "outputs": [],
   "source": [
    "# EHR\n",
    "sg_srag = sg_srag.withColumn('measurement_type_concept_id', F.lit(32817))"
   ]
  },
  {
   "cell_type": "markdown",
   "id": "49cad12e-109d-4e04-b9e3-e8fa1b46077a",
   "metadata": {},
   "source": [
    "### measurement_concept_id"
   ]
  },
  {
   "cell_type": "code",
   "execution_count": 24,
   "id": "30bd0078-c77e-4569-9a50-88d48d00a495",
   "metadata": {},
   "outputs": [],
   "source": [
    "# sg_srag = sg_srag.withColumn('measurement_concept_id', F.lit(3033385))\n",
    "sg_srag = sg_srag.withColumn('measurement_concept_id', \n",
    "                             F.when(F.col('test_type') == 'rt-pcr', 3964944)\\\n",
    "                             .when(F.col('test_type') == 'antigeno', 757685))"
   ]
  },
  {
   "cell_type": "code",
   "execution_count": 25,
   "id": "e3bf4dc7-a27f-4254-b754-ab20e6abe9fb",
   "metadata": {},
   "outputs": [],
   "source": [
    "sg_srag = sg_srag.filter(F.col('measurement_concept_id').isNotNull())"
   ]
  },
  {
   "cell_type": "markdown",
   "id": "1b32436d-449f-4927-b752-84c53ca9a855",
   "metadata": {},
   "source": [
    "### value_as_concept_id"
   ]
  },
  {
   "cell_type": "code",
   "execution_count": 26,
   "id": "8b1a2a1a-37dc-406f-ae2a-695599db7be7",
   "metadata": {},
   "outputs": [],
   "source": [
    "sg_srag = sg_srag.withColumn('value_as_concept_id', \n",
    "                             F.when(F.col('test_result') == 'positive', 45884084).otherwise(45878583)\n",
    "                            )"
   ]
  },
  {
   "cell_type": "code",
   "execution_count": 29,
   "id": "ddb148b0-aee0-4b06-9feb-772ae149b429",
   "metadata": {
    "tags": []
   },
   "outputs": [
    {
     "name": "stderr",
     "output_type": "stream",
     "text": [
      "                                                                                \r"
     ]
    },
    {
     "data": {
      "text/plain": [
       "49285778"
      ]
     },
     "execution_count": 29,
     "metadata": {},
     "output_type": "execute_result"
    }
   ],
   "source": [
    "sg_srag.count()"
   ]
  },
  {
   "cell_type": "markdown",
   "id": "9aae544f-3aee-46f6-9fcb-461f85fef364",
   "metadata": {},
   "source": [
    "### person_id"
   ]
  },
  {
   "cell_type": "code",
   "execution_count": 27,
   "id": "5e855804-2f68-46be-9c2f-7548590a10dd",
   "metadata": {},
   "outputs": [],
   "source": [
    "person_id = spark.read.parquet(\"/dados10t/datalake/standard/omop/tabelas_omop_cmd_5.4_v1/tb_person.parquet/\")\n",
    "person_id = person_id.withColumnRenamed('id_vigivac', 'id_vigvac')"
   ]
  },
  {
   "cell_type": "code",
   "execution_count": 28,
   "id": "1d69e30d-35e0-4477-8e6a-7c682f02e6d2",
   "metadata": {},
   "outputs": [],
   "source": [
    "srag_sg_id = sg_srag.join(person_id, 'id_vigvac', 'inner').select(sg_srag.columns + ['person_id'])"
   ]
  },
  {
   "cell_type": "code",
   "execution_count": 36,
   "id": "7e9fd296-ac54-4f77-a715-f6f3aec59936",
   "metadata": {},
   "outputs": [
    {
     "name": "stderr",
     "output_type": "stream",
     "text": [
      "[Stage 47:>                                                         (0 + 1) / 1]\r"
     ]
    },
    {
     "name": "stdout",
     "output_type": "stream",
     "text": [
      "+----------------------+\n",
      "|measurement_concept_id|\n",
      "+----------------------+\n",
      "|               3964944|\n",
      "|                757685|\n",
      "|                757685|\n",
      "|               3964944|\n",
      "|               3964944|\n",
      "|                757685|\n",
      "|                757685|\n",
      "|               3964944|\n",
      "|               3964944|\n",
      "|               3964944|\n",
      "|                757685|\n",
      "|               3964944|\n",
      "|                757685|\n",
      "|                757685|\n",
      "|               3964944|\n",
      "|               3964944|\n",
      "|               3964944|\n",
      "|                757685|\n",
      "|               3964944|\n",
      "|               3964944|\n",
      "+----------------------+\n",
      "only showing top 20 rows\n",
      "\n"
     ]
    },
    {
     "name": "stderr",
     "output_type": "stream",
     "text": [
      "                                                                                \r"
     ]
    }
   ],
   "source": [
    "srag_sg_id.select('measurement_concept_id').show()"
   ]
  },
  {
   "cell_type": "markdown",
   "id": "1a6a4e17-847e-4d3d-9cef-2022ef269459",
   "metadata": {},
   "source": [
    "### measurement_id "
   ]
  },
  {
   "cell_type": "code",
   "execution_count": 25,
   "id": "a78bd95e-d877-472e-a4b3-4c535f3ea0ee",
   "metadata": {},
   "outputs": [
    {
     "name": "stderr",
     "output_type": "stream",
     "text": [
      "                                                                                \r"
     ]
    }
   ],
   "source": [
    "# full_id = srag_sg_id.withColumn(\"new_column\", F.lit(\"ABC\"))\n",
    "# w = Window().partitionBy('new_column').orderBy(F.lit('A'))\n",
    "# full_id_with_row = full_id.withColumn(\"measurement_id\",F.row_number().over(w)).drop(\"new_column\").checkpoint()"
   ]
  },
  {
   "cell_type": "code",
   "execution_count": 29,
   "id": "09808055-daf0-40aa-b515-9fabf3af4f52",
   "metadata": {},
   "outputs": [
    {
     "name": "stderr",
     "output_type": "stream",
     "text": [
      "                                                                                \r"
     ]
    }
   ],
   "source": [
    "full_id_with_row = srag_sg_id.rdd.zipWithIndex().toDF().select(F.col(\"_1.*\"),F.col(\"_2\").alias('measurement_id'))"
   ]
  },
  {
   "cell_type": "code",
   "execution_count": 36,
   "id": "20b624f4-fbb3-472d-ac66-71756aed9eb7",
   "metadata": {
    "collapsed": true,
    "jupyter": {
     "outputs_hidden": true
    },
    "tags": []
   },
   "outputs": [
    {
     "name": "stdout",
     "output_type": "stream",
     "text": [
      "+-------------------+------------+---------+-----------+----------------+---------------------------+----------------------+-------------------+--------------+\n",
      "|visit_occurrence_id|   id_vigvac|test_type|test_result|measurement_date|measurement_type_concept_id|measurement_concept_id|value_as_concept_id|measurement_id|\n",
      "+-------------------+------------+---------+-----------+----------------+---------------------------+----------------------+-------------------+--------------+\n",
      "|            4974171|463856467979|   rt-pcr|   positive|      2021-05-31|                      32817|               3033385|           45884084|             0|\n",
      "|            4974173|463856467983|   rt-pcr|   positive|      2021-03-24|                      32817|               3033385|           45884084|             1|\n",
      "|            4974177|463856467990| antigeno|   positive|      2022-01-24|                      32817|               3033385|           45884084|             2|\n",
      "|            4974179|463856467992| antigeno|   positive|      2021-01-26|                      32817|               3033385|           45884084|             3|\n",
      "|            4974181|463856467998| antigeno|   positive|      2022-01-19|                      32817|               3033385|           45884084|             4|\n",
      "|            4974185|463856467999|   rt-pcr|   positive|      2021-02-16|                      32817|               3033385|           45884084|             5|\n",
      "|            4974187|463856467999| antigeno|   negative|      2022-03-11|                      32817|               3033385|           45878583|             6|\n",
      "|            4974191|463856467999| antigeno|   negative|      2021-04-11|                      32817|               3033385|           45878583|             7|\n",
      "|            4974193|463856467999|   rt-pcr|   positive|      2021-02-16|                      32817|               3033385|           45884084|             8|\n",
      "|            4974195|463856468001| antigeno|   positive|      2022-01-19|                      32817|               3033385|           45884084|             9|\n",
      "|            4974199|463856468012|   rt-pcr|   negative|      2021-05-28|                      32817|               3033385|           45878583|            10|\n",
      "|            4974201|463856468026| antigeno|   negative|      2022-01-14|                      32817|               3033385|           45878583|            11|\n",
      "|            4974203|463856468027| antigeno|   negative|      2021-05-24|                      32817|               3033385|           45878583|            12|\n",
      "|            4974207|463856468037| antigeno|   negative|      2021-05-10|                      32817|               3033385|           45878583|            13|\n",
      "|            4974209|463856468042| antigeno|   positive|      2022-01-10|                      32817|               3033385|           45884084|            14|\n",
      "|            4974213|463856468046|   rt-pcr|   positive|      2021-04-23|                      32817|               3033385|           45884084|            15|\n",
      "|            4974221|463856468050| antigeno|   positive|      2021-05-11|                      32817|               3033385|           45884084|            16|\n",
      "|            4974225|463856468055| antigeno|   positive|      2022-01-14|                      32817|               3033385|           45884084|            17|\n",
      "|            4974229|463856468059| antigeno|   negative|      2021-07-19|                      32817|               3033385|           45878583|            18|\n",
      "|            4974233|463856468066| antigeno|   negative|      2021-06-07|                      32817|               3033385|           45878583|            19|\n",
      "+-------------------+------------+---------+-----------+----------------+---------------------------+----------------------+-------------------+--------------+\n",
      "only showing top 20 rows\n",
      "\n"
     ]
    }
   ],
   "source": [
    "full_id_with_row.show()"
   ]
  },
  {
   "cell_type": "code",
   "execution_count": 43,
   "id": "ccf8e794-2b26-489d-9610-25abceab3dd0",
   "metadata": {
    "tags": []
   },
   "outputs": [
    {
     "name": "stdout",
     "output_type": "stream",
     "text": [
      "root\n",
      " |-- visit_occurrence_id: long (nullable = true)\n",
      " |-- id_vigvac: long (nullable = true)\n",
      " |-- test_type: string (nullable = true)\n",
      " |-- test_result: string (nullable = true)\n",
      " |-- measurement_date: date (nullable = true)\n",
      " |-- measurement_type_concept_id: long (nullable = true)\n",
      " |-- measurement_concept_id: long (nullable = true)\n",
      " |-- value_as_concept_id: long (nullable = true)\n",
      " |-- person_id: long (nullable = true)\n",
      " |-- measurement_id: long (nullable = true)\n",
      "\n"
     ]
    }
   ],
   "source": [
    "full_id_with_row.printSchema()"
   ]
  },
  {
   "cell_type": "code",
   "execution_count": 30,
   "id": "4badea18-9a33-4ff8-951f-68f0e5421d8a",
   "metadata": {},
   "outputs": [],
   "source": [
    "full_id_with_row = full_id_with_row\\\n",
    ".withColumn('visit_occurrence_id', F.col('visit_occurrence_id').cast(IntegerType()))\\\n",
    ".withColumn('measurement_type_concept_id', F.col('measurement_type_concept_id').cast(IntegerType()))\\\n",
    ".withColumn('measurement_concept_id', F.col('measurement_concept_id').cast(IntegerType()))\\\n",
    ".withColumn('value_as_concept_id', F.col('value_as_concept_id').cast(IntegerType()))\\\n",
    ".withColumn('measurement_id', F.col('measurement_id').cast(IntegerType()))\\\n",
    ".withColumn('person_id', F.col('person_id').cast(IntegerType()))"
   ]
  },
  {
   "cell_type": "code",
   "execution_count": null,
   "id": "28935049-54ae-4120-95d2-4ff7b3544478",
   "metadata": {},
   "outputs": [],
   "source": [
    "full_id_with_row.show()"
   ]
  },
  {
   "cell_type": "markdown",
   "id": "0340f2a7-b01f-4b82-8765-3f64a646e8de",
   "metadata": {},
   "source": [
    "# write"
   ]
  },
  {
   "cell_type": "code",
   "execution_count": 31,
   "id": "022ec791-d1d8-4d98-9cb3-918fcc431fae",
   "metadata": {},
   "outputs": [
    {
     "name": "stderr",
     "output_type": "stream",
     "text": [
      "                                                                                \r"
     ]
    }
   ],
   "source": [
    "full_id_with_row\\\n",
    ".drop('id_vigvac')\\\n",
    ".drop('test_type')\\\n",
    ".drop('test_result')\\\n",
    ".write.parquet(\"/dados10t/datalake/standard/omop/tabelas_omop_cmd_5.4_v1/tb_measurement_data.parquet\")"
   ]
  },
  {
   "cell_type": "markdown",
   "id": "5005219c-9125-41af-a68e-8e062ae4a523",
   "metadata": {},
   "source": [
    "### condition"
   ]
  },
  {
   "cell_type": "markdown",
   "id": "bf104738-f588-443a-96c8-bbcbcad1e93a",
   "metadata": {},
   "source": [
    " |-- id_vigvac: long (nullable = true)\n",
    " |-- visit_occurrence_id: integer (nullable = true)\n",
    " |-- condition_start_date: date (nullable = true)\n",
    " |-- condition_concept_id: integer (nullable = true)\n",
    " |-- person_id: integer (nullable = true)\n",
    " |-- condition_type_concept_id: integer (nullable = true)\n",
    " |-- condition_occurrence_id: integer (nullable = true)"
   ]
  },
  {
   "cell_type": "code",
   "execution_count": null,
   "id": "e5631a4c-f08e-42d7-b8f2-23633a2679a6",
   "metadata": {},
   "outputs": [],
   "source": []
  }
 ],
 "metadata": {
  "kernelspec": {
   "display_name": "base",
   "language": "python",
   "name": "base"
  },
  "language_info": {
   "codemirror_mode": {
    "name": "ipython",
    "version": 3
   },
   "file_extension": ".py",
   "mimetype": "text/x-python",
   "name": "python",
   "nbconvert_exporter": "python",
   "pygments_lexer": "ipython3",
   "version": "3.11.4"
  }
 },
 "nbformat": 4,
 "nbformat_minor": 5
}
