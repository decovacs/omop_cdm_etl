{
 "cells": [
  {
   "cell_type": "code",
   "execution_count": 1,
   "id": "e00d5a1d",
   "metadata": {
    "scrolled": true
   },
   "outputs": [
    {
     "name": "stderr",
     "output_type": "stream",
     "text": [
      "/tmp/ipykernel_49913/1286269870.py:1: DeprecationWarning: Importing display from IPython.core.display is deprecated since IPython 7.14, please import from IPython display\n",
      "  from IPython.core.display import display, HTML\n"
     ]
    },
    {
     "data": {
      "text/html": [
       "<style>.container { width:100% !important; }</style>"
      ],
      "text/plain": [
       "<IPython.core.display.HTML object>"
      ]
     },
     "metadata": {},
     "output_type": "display_data"
    }
   ],
   "source": [
    "from IPython.core.display import display, HTML\n",
    "display(HTML(\"<style>.container { width:100% !important; }</style>\"))\n",
    "from pyspark.sql import functions as F\n",
    "from pyspark.sql.types import *"
   ]
  },
  {
   "cell_type": "code",
   "execution_count": 2,
   "id": "c9bbc29d",
   "metadata": {},
   "outputs": [],
   "source": [
    "sc.setCheckpointDir(\"/dados10t/datalake/raw/checkpoint_dir/\")"
   ]
  },
  {
   "cell_type": "code",
   "execution_count": 3,
   "id": "6a702509",
   "metadata": {},
   "outputs": [
    {
     "name": "stderr",
     "output_type": "stream",
     "text": [
      "                                                                                \r"
     ]
    }
   ],
   "source": [
    "df = spark.read.parquet(\"/dados10t/datalake/raw/omop/tabelas_input/tabela_pessoa_07072022_vigivac_nao_padronizada_v2.parquet/\")"
   ]
  },
  {
   "cell_type": "code",
   "execution_count": 4,
   "id": "96089984",
   "metadata": {},
   "outputs": [
    {
     "name": "stdout",
     "output_type": "stream",
     "text": [
      "root\n",
      " |-- id_vigvac: long (nullable = true)\n",
      " |-- vacinacao: string (nullable = true)\n",
      " |-- vac_d_sexo: string (nullable = true)\n",
      " |-- vac_d_codibge: string (nullable = true)\n",
      " |-- vac_inconsistente: string (nullable = true)\n",
      " |-- vac_d_idade: double (nullable = true)\n",
      " |-- vac_d_racacor: string (nullable = true)\n",
      " |-- srag_cs_sexo: string (nullable = true)\n",
      " |-- srag_cs_etinia: string (nullable = true)\n",
      " |-- srag_cs_raca: short (nullable = true)\n",
      " |-- sg_sexo_2: string (nullable = true)\n",
      " |-- sg_racacor_2: string (nullable = true)\n",
      " |-- sg_raw_datanascimento: string (nullable = true)\n",
      " |-- srag_raw_dt_nasc: string (nullable = true)\n",
      " |-- vac_raw_paciente_datanascimento: string (nullable = true)\n",
      "\n"
     ]
    }
   ],
   "source": [
    "df.printSchema()"
   ]
  },
  {
   "cell_type": "code",
   "execution_count": 5,
   "id": "425372f6",
   "metadata": {},
   "outputs": [
    {
     "name": "stderr",
     "output_type": "stream",
     "text": [
      "                                                                                \r"
     ]
    },
    {
     "data": {
      "text/plain": [
       "188537327"
      ]
     },
     "execution_count": 5,
     "metadata": {},
     "output_type": "execute_result"
    }
   ],
   "source": [
    "df.count() #188537327"
   ]
  },
  {
   "cell_type": "code",
   "execution_count": 6,
   "id": "97c33b2f",
   "metadata": {},
   "outputs": [
    {
     "data": {
      "text/plain": [
       "4777386"
      ]
     },
     "execution_count": 6,
     "metadata": {},
     "output_type": "execute_result"
    }
   ],
   "source": [
    "188537327 - 183759941 # 4777386 adicionadas via srag e sg   #vac tem 3437 pessoas sem sexo somente"
   ]
  },
  {
   "cell_type": "markdown",
   "id": "0a7bc9e7",
   "metadata": {},
   "source": [
    "### ajustar sexo vacina"
   ]
  },
  {
   "cell_type": "code",
   "execution_count": 7,
   "id": "ebf8db15",
   "metadata": {},
   "outputs": [
    {
     "name": "stderr",
     "output_type": "stream",
     "text": [
      "[Stage 4:=======================================================> (33 + 1) / 34]\r"
     ]
    },
    {
     "name": "stdout",
     "output_type": "stream",
     "text": [
      "+----------+--------+\n",
      "|vac_d_sexo|count   |\n",
      "+----------+--------+\n",
      "|F         |95510810|\n",
      "|M         |88245694|\n",
      "|null      |4777386 |\n",
      "|I         |3437    |\n",
      "+----------+--------+\n",
      "\n"
     ]
    },
    {
     "name": "stderr",
     "output_type": "stream",
     "text": [
      "\r",
      "                                                                                \r"
     ]
    }
   ],
   "source": [
    "df.groupBy(\"vac_d_sexo\").count().orderBy(F.desc(\"count\")).show(300,False) "
   ]
  },
  {
   "cell_type": "code",
   "execution_count": 8,
   "id": "1f7736ed",
   "metadata": {},
   "outputs": [],
   "source": [
    "df = df.withColumn(\"vac_d_sexo_ok\",F.when(F.col(\"vac_d_sexo\") == \"M\",\"Masculino\" ).otherwise(F.col(\"vac_d_sexo\")) )\n",
    "df = df.withColumn(\"vac_d_sexo_ok\",F.when(F.trim(F.col(\"vac_d_sexo_ok\")) == \"F\",\"Feminino\" ).otherwise(F.col(\"vac_d_sexo_ok\")) )\n",
    "df = df.withColumn(\"vac_d_sexo_ok\",F.when(F.col(\"vac_d_sexo_ok\").isin(\"\",\"I\"),None ).otherwise(F.col(\"vac_d_sexo_ok\")) )\n",
    "\n",
    "df = df.withColumn(\"vac_d_racacor\",F.trim(\"vac_d_racacor\"))\n"
   ]
  },
  {
   "cell_type": "code",
   "execution_count": 9,
   "id": "b8e98dca",
   "metadata": {},
   "outputs": [
    {
     "name": "stderr",
     "output_type": "stream",
     "text": [
      "[Stage 7:=======================================================> (33 + 1) / 34]\r"
     ]
    },
    {
     "name": "stdout",
     "output_type": "stream",
     "text": [
      "+-------------+--------+\n",
      "|vac_d_sexo_ok|count   |\n",
      "+-------------+--------+\n",
      "|Feminino     |95510810|\n",
      "|Masculino    |88245694|\n",
      "|null         |4780823 |\n",
      "+-------------+--------+\n",
      "\n"
     ]
    },
    {
     "name": "stderr",
     "output_type": "stream",
     "text": [
      "\r",
      "                                                                                \r"
     ]
    }
   ],
   "source": [
    "df.groupBy(\"vac_d_sexo_ok\").count().orderBy(F.desc(\"count\")).show(300,False) "
   ]
  },
  {
   "cell_type": "markdown",
   "id": "d88a7277",
   "metadata": {},
   "source": [
    "### ajustar sexo srag"
   ]
  },
  {
   "cell_type": "code",
   "execution_count": 10,
   "id": "cf17bb61",
   "metadata": {},
   "outputs": [
    {
     "name": "stderr",
     "output_type": "stream",
     "text": [
      "[Stage 10:======================================================> (33 + 1) / 34]\r"
     ]
    },
    {
     "name": "stdout",
     "output_type": "stream",
     "text": [
      "+------------+---------+\n",
      "|srag_cs_sexo|count    |\n",
      "+------------+---------+\n",
      "|null        |186216768|\n",
      "|M           |1254792  |\n",
      "|F           |1065744  |\n",
      "|I           |23       |\n",
      "+------------+---------+\n",
      "\n"
     ]
    },
    {
     "name": "stderr",
     "output_type": "stream",
     "text": [
      "\r",
      "                                                                                \r"
     ]
    }
   ],
   "source": [
    "df.groupBy(\"srag_cs_sexo\").count().orderBy(F.desc(\"count\")).show(300,False) "
   ]
  },
  {
   "cell_type": "code",
   "execution_count": 11,
   "id": "f0c340d2",
   "metadata": {},
   "outputs": [],
   "source": [
    "df = df.withColumn(\"srag_cs_sexo_ok\",F.when(F.col(\"srag_cs_sexo\") == \"M\",\"Masculino\" ).otherwise(F.col(\"srag_cs_sexo\")) )\n",
    "\n",
    "df = df.withColumn(\"srag_cs_sexo_ok\",F.when(F.trim(F.col(\"srag_cs_sexo_ok\")) == \"F\",\"Feminino\" ).otherwise(F.col(\"srag_cs_sexo_ok\")) )\n",
    "\n",
    "df = df.withColumn(\"srag_cs_sexo_ok\",F.when(F.col(\"srag_cs_sexo_ok\").isin(\"\",\"I\"),None ).otherwise(F.col(\"srag_cs_sexo_ok\")) )\n"
   ]
  },
  {
   "cell_type": "code",
   "execution_count": 12,
   "id": "b7da9e32",
   "metadata": {},
   "outputs": [
    {
     "name": "stderr",
     "output_type": "stream",
     "text": [
      "[Stage 13:======================================================> (33 + 1) / 34]\r"
     ]
    },
    {
     "name": "stdout",
     "output_type": "stream",
     "text": [
      "+---------------+---------+\n",
      "|srag_cs_sexo_ok|count    |\n",
      "+---------------+---------+\n",
      "|null           |186216791|\n",
      "|Masculino      |1254792  |\n",
      "|Feminino       |1065744  |\n",
      "+---------------+---------+\n",
      "\n"
     ]
    },
    {
     "name": "stderr",
     "output_type": "stream",
     "text": [
      "\r",
      "                                                                                \r"
     ]
    }
   ],
   "source": [
    "df.groupBy(\"srag_cs_sexo_ok\").count().orderBy(F.desc(\"count\")).show(300,False) "
   ]
  },
  {
   "cell_type": "markdown",
   "id": "bc39177e",
   "metadata": {},
   "source": [
    "### ajustar sexo SG"
   ]
  },
  {
   "cell_type": "code",
   "execution_count": 13,
   "id": "3c145511",
   "metadata": {},
   "outputs": [
    {
     "name": "stderr",
     "output_type": "stream",
     "text": [
      "[Stage 16:======================================================> (33 + 1) / 34]\r"
     ]
    },
    {
     "name": "stdout",
     "output_type": "stream",
     "text": [
      "+----------+---------+\n",
      "|sg_sexo_2 |count    |\n",
      "+----------+---------+\n",
      "|null      |135428772|\n",
      "|Feminino  |28535800 |\n",
      "|Masculino |24522435 |\n",
      "|Indefinido|50320    |\n",
      "+----------+---------+\n",
      "\n"
     ]
    },
    {
     "name": "stderr",
     "output_type": "stream",
     "text": [
      "\r",
      "                                                                                \r"
     ]
    }
   ],
   "source": [
    "df.groupBy(\"sg_sexo_2\").count().orderBy(F.desc(\"count\")).show(300,False) "
   ]
  },
  {
   "cell_type": "code",
   "execution_count": 14,
   "id": "f7905b55",
   "metadata": {},
   "outputs": [],
   "source": [
    "df = df.withColumn(\"sg_sexo_ok\",F.when(F.col(\"sg_sexo_2\").isin(\"\",\"Indefinido\"),None ).otherwise(F.col(\"sg_sexo_2\")) )\n"
   ]
  },
  {
   "cell_type": "code",
   "execution_count": 15,
   "id": "500653f5",
   "metadata": {},
   "outputs": [
    {
     "name": "stderr",
     "output_type": "stream",
     "text": [
      "[Stage 19:======================================================> (33 + 1) / 34]\r"
     ]
    },
    {
     "name": "stdout",
     "output_type": "stream",
     "text": [
      "+----------+---------+\n",
      "|sg_sexo_ok|count    |\n",
      "+----------+---------+\n",
      "|null      |135479092|\n",
      "|Feminino  |28535800 |\n",
      "|Masculino |24522435 |\n",
      "+----------+---------+\n",
      "\n"
     ]
    },
    {
     "name": "stderr",
     "output_type": "stream",
     "text": [
      "\r",
      "                                                                                \r"
     ]
    }
   ],
   "source": [
    "df.groupBy(\"sg_sexo_ok\").count().orderBy(F.desc(\"count\")).show(300,False) "
   ]
  },
  {
   "cell_type": "markdown",
   "id": "9f0e052f",
   "metadata": {},
   "source": [
    "### ajustar raça SG/VACINA/srag"
   ]
  },
  {
   "cell_type": "code",
   "execution_count": 16,
   "id": "1f8027e3",
   "metadata": {},
   "outputs": [],
   "source": [
    "def sex_harmo(var,idioma=\"pt-br\"): #\n",
    "    if idioma == \"pt-br\":\n",
    "        if var ==\"M\" or var == \"Masculino\":\n",
    "            return \"Masculino\"\n",
    "        elif var == 'F' or var == \"Feminino\":\n",
    "            return \"Feminino\"\n",
    "    if idioma == \"en\":\n",
    "        if var ==\"M\" or var == \"Masculino\":\n",
    "            return \"Male\"\n",
    "        elif var == \"F\" or var == \"Feminino\":\n",
    "            return \"Female\"\n",
    "    \n",
    "        \n",
    "        \n",
    "def raca_harmo(var,idioma=\"pt-br\"): #\n",
    "    if idioma == \"pt-br\":\n",
    "        if var == \"Branca\":\n",
    "            return \"BRANCA\"\n",
    "        elif var == \"Preta\" or var == \"Parda\":\n",
    "            return \"PRETA\"\n",
    "        elif var == \"Indigena\":\n",
    "            return \"INDIGENA\"\n",
    "        elif var == \"Amarela\":\n",
    "            return \"AMARELA\"\n",
    "    elif idioma == \"en\":\n",
    "        if var ==\"BRANCA\":\n",
    "            return \"White\"\n",
    "        elif var == \"PRETA\" or var == \"PARDA\":\n",
    "            return \"Black\"\n",
    "        elif var == \"INDIGENA\":\n",
    "            return \"American Indian\"\n",
    "        elif var == \"AMARELA\":\n",
    "            return \"Asian\"\n",
    "    else:\n",
    "        return \"erro\"\n",
    "    \n",
    "    \n",
    "def fix_raca_srag(raca):\n",
    "    raca = str(raca)\n",
    "    if raca:\n",
    "        if raca == \"1\":\n",
    "            return \"BRANCA\"\n",
    "        elif raca == \"2\":\n",
    "            return \"PRETA\"\n",
    "        elif raca == \"3\":\n",
    "            return \"AMARELA\"\n",
    "        elif raca == \"4\":\n",
    "            return \"PARDA\"\n",
    "        elif raca == \"5\":\n",
    "            return \"INDIGENA\"\n",
    "        \n",
    "        \n",
    "\n",
    "def sex_harmo(var,idioma=\"pt-br\"): #\n",
    "    if idioma == \"pt-br\":\n",
    "        if var ==\"M\" or var == \"Masculino\":\n",
    "            return \"Masculino\"\n",
    "        elif var == 'F' or var == \"Feminino\":\n",
    "            return \"Feminino\"\n",
    "    if idioma == \"en\":\n",
    "        if var ==\"M\" or var == \"Masculino\":\n",
    "            return \"Male\"\n",
    "        elif var == \"F\" or var == \"Feminino\":\n",
    "            return \"Female\"\n",
    "    "
   ]
  },
  {
   "cell_type": "code",
   "execution_count": 17,
   "id": "77aabf95",
   "metadata": {},
   "outputs": [],
   "source": [
    "udf_sex_omop = F.udf(sex_harmo,StringType() )\n",
    "\n",
    "udf_race_omop = F.udf(raca_harmo,StringType() )\n",
    "\n",
    "udf_fix_raca_srag = F.udf(fix_raca_srag,StringType() )\n",
    "\n",
    "\n",
    "udf_sex_omop = F.udf(sex_harmo,StringType() )"
   ]
  },
  {
   "cell_type": "code",
   "execution_count": 18,
   "id": "06fab776",
   "metadata": {},
   "outputs": [
    {
     "name": "stderr",
     "output_type": "stream",
     "text": [
      "[Stage 22:======================================================> (33 + 1) / 34]\r"
     ]
    },
    {
     "name": "stdout",
     "output_type": "stream",
     "text": [
      "+-------------+---------+\n",
      "|sg_racacor_2 |count    |\n",
      "+-------------+---------+\n",
      "|null         |145199541|\n",
      "|Branca       |20966789 |\n",
      "|Parda        |18222142 |\n",
      "|Preta        |2261902  |\n",
      "|Amarela      |1766380  |\n",
      "|Indigena     |120571   |\n",
      "|Não informado|2        |\n",
      "+-------------+---------+\n",
      "\n"
     ]
    },
    {
     "name": "stderr",
     "output_type": "stream",
     "text": [
      "\r",
      "                                                                                \r"
     ]
    }
   ],
   "source": [
    "df.groupBy(\"sg_racacor_2\").count().orderBy(F.desc(\"count\")).show(300,False)"
   ]
  },
  {
   "cell_type": "code",
   "execution_count": 19,
   "id": "6080ef03",
   "metadata": {},
   "outputs": [
    {
     "name": "stderr",
     "output_type": "stream",
     "text": [
      "[Stage 25:======================================================> (33 + 1) / 34]\r"
     ]
    },
    {
     "name": "stdout",
     "output_type": "stream",
     "text": [
      "+-------------+--------+\n",
      "|vac_d_racacor|count   |\n",
      "+-------------+--------+\n",
      "|BRANCA       |61517395|\n",
      "|null         |49851954|\n",
      "|PARDA        |42199385|\n",
      "|AMARELA      |26604921|\n",
      "|PRETA        |7806738 |\n",
      "|INDIGENA     |556934  |\n",
      "+-------------+--------+\n",
      "\n"
     ]
    },
    {
     "name": "stderr",
     "output_type": "stream",
     "text": [
      "\r",
      "                                                                                \r"
     ]
    }
   ],
   "source": [
    "df.groupBy(\"vac_d_racacor\").count().orderBy(F.desc(\"count\")).show(300,False)"
   ]
  },
  {
   "cell_type": "code",
   "execution_count": 20,
   "id": "f98beb54",
   "metadata": {},
   "outputs": [
    {
     "name": "stderr",
     "output_type": "stream",
     "text": [
      "[Stage 28:======================================================> (33 + 1) / 34]\r"
     ]
    },
    {
     "name": "stdout",
     "output_type": "stream",
     "text": [
      "+------------+---------+\n",
      "|srag_cs_raca|count    |\n",
      "+------------+---------+\n",
      "|null        |186242208|\n",
      "|1           |1025030  |\n",
      "|4           |765110   |\n",
      "|9           |377702   |\n",
      "|2           |100300   |\n",
      "|3           |22621    |\n",
      "|5           |4356     |\n",
      "+------------+---------+\n",
      "\n"
     ]
    },
    {
     "name": "stderr",
     "output_type": "stream",
     "text": [
      "\r",
      "                                                                                \r"
     ]
    }
   ],
   "source": [
    "df.groupBy(\"srag_cs_raca\").count().orderBy(F.desc(\"count\")).show(300,False)"
   ]
  },
  {
   "cell_type": "code",
   "execution_count": 21,
   "id": "090386f1",
   "metadata": {},
   "outputs": [],
   "source": [
    "#print(raca_harmo(\"Branca\",\"pt-br\"))"
   ]
  },
  {
   "cell_type": "code",
   "execution_count": 22,
   "id": "077f579b",
   "metadata": {},
   "outputs": [],
   "source": [
    "#df = df.withColumn(\"raca_omop_vac\",udf_race_omop(F.trim(F.col(\"vac_d_racacor\"))  , F.lit(\"pt-br\") )   ) # o dado original \n",
    "df = df.withColumn(\"raca_omop_en_vac\", udf_race_omop( F.trim(F.col(\"vac_d_racacor\")),F.lit(\"en\")))\n",
    "\n",
    "\n",
    "df = df.withColumn(\"raca_omop_sg\",udf_race_omop(F.col(\"sg_racacor_2\")))\n",
    "df = df.withColumn(\"raca_omop_en_sg\", udf_race_omop(\"raca_omop_sg\",F.lit(\"en\")   ))\n",
    "\n",
    "\n",
    "\n",
    "df = df.withColumn(\"raca_omop_srag\",udf_fix_raca_srag(F.col(\"srag_cs_raca\")))\n",
    "df = df.withColumn(\"raca_omop_en_srag\", udf_race_omop( \"raca_omop_srag\",F.lit(\"en\") ))"
   ]
  },
  {
   "cell_type": "code",
   "execution_count": 23,
   "id": "50aaa785",
   "metadata": {},
   "outputs": [],
   "source": [
    "#tratando SG dt\n",
    "df = df.withColumn(\"sub_datanascimento\",F.substring(\"sg_raw_datanascimento\",1,10))\n",
    "df = df.withColumn(\"dt_datanascimento_sg\",F.to_date(\"sub_datanascimento\",\"yyyy-MM-dd\"))\n",
    "\n",
    "#tratando srag data\n",
    "df = df.withColumn(\"dt_datanascimento_srag\",F.to_date(\"srag_raw_dt_nasc\",\"dd/MM/yyyy\"))"
   ]
  },
  {
   "cell_type": "code",
   "execution_count": 24,
   "id": "2ddd999d",
   "metadata": {},
   "outputs": [
    {
     "name": "stderr",
     "output_type": "stream",
     "text": [
      "23/10/18 16:52:19 WARN package: Truncated the string representation of a plan since it was too large. This behavior can be adjusted by setting 'spark.sql.debug.maxToStringFields'.\n",
      "                                                                                \r"
     ]
    }
   ],
   "source": [
    "\n",
    "df = df.withColumn(\"sexo_omop_en_vac\", udf_sex_omop( F.col(\"vac_d_sexo_ok\"),F.lit(\"en\") ))\n",
    "\n",
    "\n",
    "df = df.withColumn(\"sexo_omop_en_sg\", udf_sex_omop( \"sg_sexo_ok\",F.lit(\"en\") ))\n",
    "\n",
    "\n",
    "df = df.withColumn(\"sexo_omop_en_srag\", udf_sex_omop( \"srag_cs_sexo_ok\",F.lit(\"en\") )).checkpoint()"
   ]
  },
  {
   "cell_type": "code",
   "execution_count": 25,
   "id": "8c2893f6",
   "metadata": {},
   "outputs": [
    {
     "name": "stderr",
     "output_type": "stream",
     "text": [
      "[Stage 32:====================================================>   (32 + 2) / 34]\r"
     ]
    },
    {
     "name": "stdout",
     "output_type": "stream",
     "text": [
      "+--------------+---------+\n",
      "|raca_omop_srag|count    |\n",
      "+--------------+---------+\n",
      "|null          |186619910|\n",
      "|BRANCA        |1025030  |\n",
      "|PARDA         |765110   |\n",
      "|PRETA         |100300   |\n",
      "|AMARELA       |22621    |\n",
      "|INDIGENA      |4356     |\n",
      "+--------------+---------+\n",
      "\n"
     ]
    },
    {
     "name": "stderr",
     "output_type": "stream",
     "text": [
      "\r",
      "                                                                                \r"
     ]
    }
   ],
   "source": [
    "df.groupBy(\"raca_omop_srag\").count().orderBy(F.desc(\"count\")).show(300,False)"
   ]
  },
  {
   "cell_type": "code",
   "execution_count": 26,
   "id": "d2ca939c",
   "metadata": {},
   "outputs": [
    {
     "name": "stderr",
     "output_type": "stream",
     "text": [
      "[Stage 35:======================================================> (33 + 1) / 34]\r"
     ]
    },
    {
     "name": "stdout",
     "output_type": "stream",
     "text": [
      "+-----------------+---------+\n",
      "|raca_omop_en_srag|count    |\n",
      "+-----------------+---------+\n",
      "|null             |186619910|\n",
      "|White            |1025030  |\n",
      "|Black            |865410   |\n",
      "|Asian            |22621    |\n",
      "|American Indian  |4356     |\n",
      "+-----------------+---------+\n",
      "\n"
     ]
    },
    {
     "name": "stderr",
     "output_type": "stream",
     "text": [
      "\r",
      "                                                                                \r"
     ]
    }
   ],
   "source": [
    "df.groupBy(\"raca_omop_en_srag\").count().orderBy(F.desc(\"count\")).show(300,False)"
   ]
  },
  {
   "cell_type": "code",
   "execution_count": 27,
   "id": "8b7aeee4",
   "metadata": {},
   "outputs": [
    {
     "name": "stderr",
     "output_type": "stream",
     "text": [
      "[Stage 38:====================================================>   (32 + 2) / 34]\r"
     ]
    },
    {
     "name": "stdout",
     "output_type": "stream",
     "text": [
      "+----------------+--------+\n",
      "|raca_omop_en_vac|count   |\n",
      "+----------------+--------+\n",
      "|White           |61517395|\n",
      "|Black           |50006123|\n",
      "|null            |49851954|\n",
      "|Asian           |26604921|\n",
      "|American Indian |556934  |\n",
      "+----------------+--------+\n",
      "\n"
     ]
    },
    {
     "name": "stderr",
     "output_type": "stream",
     "text": [
      "\r",
      "                                                                                \r"
     ]
    }
   ],
   "source": [
    "df.groupBy(\"raca_omop_en_vac\").count().orderBy(F.desc(\"count\")).show(300,False)"
   ]
  },
  {
   "cell_type": "code",
   "execution_count": 28,
   "id": "b31be88d",
   "metadata": {},
   "outputs": [
    {
     "name": "stderr",
     "output_type": "stream",
     "text": [
      "[Stage 41:======================================================> (33 + 1) / 34]\r"
     ]
    },
    {
     "name": "stdout",
     "output_type": "stream",
     "text": [
      "+------------+---------+\n",
      "|raca_omop_sg|count    |\n",
      "+------------+---------+\n",
      "|null        |145199543|\n",
      "|BRANCA      |20966789 |\n",
      "|PRETA       |20484044 |\n",
      "|AMARELA     |1766380  |\n",
      "|INDIGENA    |120571   |\n",
      "+------------+---------+\n",
      "\n"
     ]
    },
    {
     "name": "stderr",
     "output_type": "stream",
     "text": [
      "\r",
      "                                                                                \r"
     ]
    }
   ],
   "source": [
    "df.groupBy(\"raca_omop_sg\").count().orderBy(F.desc(\"count\")).show(300,False)"
   ]
  },
  {
   "cell_type": "code",
   "execution_count": 29,
   "id": "82d857b9",
   "metadata": {},
   "outputs": [
    {
     "name": "stderr",
     "output_type": "stream",
     "text": [
      "[Stage 44:================================>                      (20 + 14) / 34]\r"
     ]
    },
    {
     "name": "stdout",
     "output_type": "stream",
     "text": [
      "+---------------+---------+\n",
      "|raca_omop_en_sg|count    |\n",
      "+---------------+---------+\n",
      "|null           |145199543|\n",
      "|White          |20966789 |\n",
      "|Black          |20484044 |\n",
      "|Asian          |1766380  |\n",
      "|American Indian|120571   |\n",
      "+---------------+---------+\n",
      "\n"
     ]
    },
    {
     "name": "stderr",
     "output_type": "stream",
     "text": [
      "\r",
      "                                                                                \r"
     ]
    }
   ],
   "source": [
    "df.groupBy(\"raca_omop_en_sg\").count().orderBy(F.desc(\"count\")).show(300,False)"
   ]
  },
  {
   "cell_type": "code",
   "execution_count": 30,
   "id": "59dc746a",
   "metadata": {},
   "outputs": [
    {
     "name": "stdout",
     "output_type": "stream",
     "text": [
      "root\n",
      " |-- id_vigvac: long (nullable = true)\n",
      " |-- vacinacao: string (nullable = true)\n",
      " |-- vac_d_sexo: string (nullable = true)\n",
      " |-- vac_d_codibge: string (nullable = true)\n",
      " |-- vac_inconsistente: string (nullable = true)\n",
      " |-- vac_d_idade: double (nullable = true)\n",
      " |-- vac_d_racacor: string (nullable = true)\n",
      " |-- srag_cs_sexo: string (nullable = true)\n",
      " |-- srag_cs_etinia: string (nullable = true)\n",
      " |-- srag_cs_raca: short (nullable = true)\n",
      " |-- sg_sexo_2: string (nullable = true)\n",
      " |-- sg_racacor_2: string (nullable = true)\n",
      " |-- sg_raw_datanascimento: string (nullable = true)\n",
      " |-- srag_raw_dt_nasc: string (nullable = true)\n",
      " |-- vac_raw_paciente_datanascimento: string (nullable = true)\n",
      " |-- vac_d_sexo_ok: string (nullable = true)\n",
      " |-- srag_cs_sexo_ok: string (nullable = true)\n",
      " |-- sg_sexo_ok: string (nullable = true)\n",
      " |-- raca_omop_en_vac: string (nullable = true)\n",
      " |-- raca_omop_sg: string (nullable = true)\n",
      " |-- raca_omop_en_sg: string (nullable = true)\n",
      " |-- raca_omop_srag: string (nullable = true)\n",
      " |-- raca_omop_en_srag: string (nullable = true)\n",
      " |-- sub_datanascimento: string (nullable = true)\n",
      " |-- dt_datanascimento_sg: date (nullable = true)\n",
      " |-- dt_datanascimento_srag: date (nullable = true)\n",
      " |-- sexo_omop_en_vac: string (nullable = true)\n",
      " |-- sexo_omop_en_sg: string (nullable = true)\n",
      " |-- sexo_omop_en_srag: string (nullable = true)\n",
      "\n"
     ]
    }
   ],
   "source": [
    "df.printSchema()"
   ]
  },
  {
   "cell_type": "code",
   "execution_count": 31,
   "id": "2c56e773",
   "metadata": {},
   "outputs": [],
   "source": [
    "df = df.withColumn(\"sexo\",F.coalesce(\"sexo_omop_en_srag\",\"sexo_omop_en_vac\",\"sexo_omop_en_sg\") ) #ordem: srag -> vac -> sg\n",
    "df = df.withColumn(\"raca\",F.coalesce(\"raca_omop_en_srag\",\"raca_omop_en_vac\",\"raca_omop_en_sg\") ) #ordem: srag -> vac -> sg\n",
    "\n",
    "\n",
    "df = df.withColumn(\"gender_source_value\",F.coalesce(\"srag_cs_sexo_ok\",\"vac_d_sexo_ok\",\"sg_sexo_ok\") ) #ordem: srag -> vac -> sg\n",
    "df = df.withColumn(\"race_source_value\",F.coalesce(\"raca_omop_srag\",\"vac_d_racacor\",\"raca_omop_sg\") ) #ordem: srag -> vac -> sg\n",
    "\n",
    "\n",
    "df = df.withColumn(\"dt_datanascimento\",F.coalesce(\"dt_datanascimento_srag\",\"vac_raw_paciente_datanascimento\",\"dt_datanascimento_sg\") ) #ordem: srag -> vac -> sg"
   ]
  },
  {
   "cell_type": "code",
   "execution_count": 32,
   "id": "df65f832",
   "metadata": {},
   "outputs": [],
   "source": [
    "#df.filter(F.col(\"srag_raw_dt_nasc\").isNotNull() ).select(\"dt_datanascimento\",\"srag_raw_dt_nasc\",\"sg_raw_datanascimento\",\"vac_raw_paciente_datanascimento\",\"dt_datanascimento_sg\",\"dt_datanascimento_srag\").show(100,False)"
   ]
  },
  {
   "cell_type": "code",
   "execution_count": null,
   "id": "c4f687c5",
   "metadata": {},
   "outputs": [],
   "source": []
  },
  {
   "cell_type": "code",
   "execution_count": 35,
   "id": "10c004e0",
   "metadata": {},
   "outputs": [],
   "source": [
    "#df = df.withColumn(\"person_id\",F.col(\"id_vigvac\"))"
   ]
  },
  {
   "cell_type": "code",
   "execution_count": 33,
   "id": "a3a72900",
   "metadata": {},
   "outputs": [],
   "source": [
    "person = df.select(\"id_vigvac\",\"sexo\",\"dt_datanascimento\",\"raca\",\"gender_source_value\",\"race_source_value\")"
   ]
  },
  {
   "cell_type": "code",
   "execution_count": 34,
   "id": "2c57b842",
   "metadata": {},
   "outputs": [
    {
     "name": "stderr",
     "output_type": "stream",
     "text": [
      "                                                                                \r"
     ]
    },
    {
     "data": {
      "text/plain": [
       "187643209"
      ]
     },
     "execution_count": 34,
     "metadata": {},
     "output_type": "execute_result"
    }
   ],
   "source": [
    "person.filter(F.col(\"dt_datanascimento\").isNotNull() ).count()"
   ]
  },
  {
   "cell_type": "code",
   "execution_count": 35,
   "id": "01cabc0d",
   "metadata": {},
   "outputs": [
    {
     "name": "stderr",
     "output_type": "stream",
     "text": [
      "                                                                                \r"
     ]
    },
    {
     "data": {
      "text/plain": [
       "188531871"
      ]
     },
     "execution_count": 35,
     "metadata": {},
     "output_type": "execute_result"
    }
   ],
   "source": [
    "person.filter(F.col(\"sexo\").isNotNull() ).count()"
   ]
  },
  {
   "cell_type": "code",
   "execution_count": 36,
   "id": "0780a0c9",
   "metadata": {},
   "outputs": [
    {
     "name": "stderr",
     "output_type": "stream",
     "text": [
      "                                                                                \r"
     ]
    },
    {
     "data": {
      "text/plain": [
       "151281144"
      ]
     },
     "execution_count": 36,
     "metadata": {},
     "output_type": "execute_result"
    }
   ],
   "source": [
    "person.filter(F.col(\"raca\").isNotNull() ).count()"
   ]
  },
  {
   "cell_type": "code",
   "execution_count": 37,
   "id": "aede8350",
   "metadata": {},
   "outputs": [
    {
     "name": "stderr",
     "output_type": "stream",
     "text": [
      "[Stage 56:======================================================> (33 + 1) / 34]\r"
     ]
    },
    {
     "name": "stdout",
     "output_type": "stream",
     "text": [
      "+------+--------+\n",
      "|sexo  |count   |\n",
      "+------+--------+\n",
      "|Female|97691350|\n",
      "|Male  |90840521|\n",
      "|null  |5456    |\n",
      "+------+--------+\n",
      "\n"
     ]
    },
    {
     "name": "stderr",
     "output_type": "stream",
     "text": [
      "\r",
      "                                                                                \r"
     ]
    }
   ],
   "source": [
    "person.groupBy(\"sexo\").count().orderBy(F.desc(\"count\")).show(20,False) "
   ]
  },
  {
   "cell_type": "code",
   "execution_count": 38,
   "id": "31e908c2",
   "metadata": {},
   "outputs": [
    {
     "name": "stderr",
     "output_type": "stream",
     "text": [
      "[Stage 59:======================================================> (33 + 1) / 34]\r"
     ]
    },
    {
     "name": "stdout",
     "output_type": "stream",
     "text": [
      "+---------------+--------+\n",
      "|raca           |count   |\n",
      "+---------------+--------+\n",
      "|White          |67765452|\n",
      "|Black          |56227881|\n",
      "|null           |37256183|\n",
      "|Asian          |26695911|\n",
      "|American Indian|591900  |\n",
      "+---------------+--------+\n",
      "\n"
     ]
    },
    {
     "name": "stderr",
     "output_type": "stream",
     "text": [
      "\r",
      "                                                                                \r"
     ]
    }
   ],
   "source": [
    "person.groupBy(\"raca\").count().orderBy(F.desc(\"count\")).show(100,False) "
   ]
  },
  {
   "cell_type": "code",
   "execution_count": 39,
   "id": "b1722534",
   "metadata": {},
   "outputs": [
    {
     "name": "stdout",
     "output_type": "stream",
     "text": [
      "+------------+------+-----------------+-----+-------------------+-----------------+\n",
      "|   id_vigvac|  sexo|dt_datanascimento| raca|gender_source_value|race_source_value|\n",
      "+------------+------+-----------------+-----+-------------------+-----------------+\n",
      "|841813590016|  Male|       1970-10-21| null|          Masculino|             null|\n",
      "|841813590017|  Male|       1959-10-05|White|          Masculino|           BRANCA|\n",
      "|841813590018|  Male|       1975-12-27|White|          Masculino|           BRANCA|\n",
      "|841813590019|  Male|       1951-08-22|Black|          Masculino|            PRETA|\n",
      "|841813590020|Female|       1987-04-06|Black|           Feminino|            PARDA|\n",
      "|841813590021|Female|       1985-12-21|White|           Feminino|           BRANCA|\n",
      "|841813590022|Female|       1948-06-27|White|           Feminino|           BRANCA|\n",
      "|841813590023|Female|       1996-08-26|Black|           Feminino|            PRETA|\n",
      "|841813590024|  Male|       1983-02-13|White|          Masculino|           BRANCA|\n",
      "|841813590025|Female|       1976-07-06|Asian|           Feminino|          AMARELA|\n",
      "|841813590026|Female|       1980-12-26|Asian|           Feminino|          AMARELA|\n",
      "|841813590027|Female|       1976-04-07|Black|           Feminino|            PARDA|\n",
      "|841813590028|Female|       2008-04-22|White|           Feminino|           BRANCA|\n",
      "|841813590029|Female|       1975-01-15|White|           Feminino|           BRANCA|\n",
      "|841813590030|  Male|       2013-09-21|Black|          Masculino|            PARDA|\n",
      "|841813590031|  Male|       1979-03-12|White|          Masculino|           BRANCA|\n",
      "|841813590032|Female|       1968-08-10|Black|           Feminino|            PARDA|\n",
      "|841813590033|Female|       1962-09-27|Asian|           Feminino|          AMARELA|\n",
      "|841813590034|Female|       1968-05-04| null|           Feminino|             null|\n",
      "|841813590035|  Male|       1985-09-06| null|          Masculino|             null|\n",
      "+------------+------+-----------------+-----+-------------------+-----------------+\n",
      "only showing top 20 rows\n",
      "\n"
     ]
    }
   ],
   "source": [
    "person.show()"
   ]
  },
  {
   "cell_type": "code",
   "execution_count": null,
   "id": "dca104e4",
   "metadata": {},
   "outputs": [],
   "source": []
  },
  {
   "cell_type": "code",
   "execution_count": null,
   "id": "2f7089b8",
   "metadata": {},
   "outputs": [],
   "source": []
  },
  {
   "cell_type": "code",
   "execution_count": 40,
   "id": "b4b3bf74",
   "metadata": {},
   "outputs": [],
   "source": [
    "#id_maper_sexo_raca = spark.read.csv(\"/home/juracy.santos/lista_termos_tb_pessoa_omop.csv\",sep=\";\",header=True) #arquivo enviado para o mapeamento sexo/raça"
   ]
  },
  {
   "cell_type": "code",
   "execution_count": 41,
   "id": "1ce1f34d",
   "metadata": {},
   "outputs": [],
   "source": [
    "sexo_raca_maper = spark.read.csv(\"/dados10t/datalake/standard/omop/resultado_mapeamento_sexo_raca.csv\",sep=\",\",header=True)\n",
    "gender = sexo_raca_maper.filter(F.col(\"target_vocabulary_id\") == \"Gender\")\n",
    "raca = sexo_raca_maper.filter(F.col(\"target_vocabulary_id\") == \"Race\")"
   ]
  },
  {
   "cell_type": "code",
   "execution_count": 42,
   "id": "49407c17",
   "metadata": {},
   "outputs": [
    {
     "name": "stdout",
     "output_type": "stream",
     "text": [
      "+-----------+-----------------+--------------------+-----------------------+-----------------+--------------------+----------------+--------------+--------------+\n",
      "|source_code|source_concept_id|source_vocabulary_id|source_code_description|target_concept_id|target_vocabulary_id|valid_start_date|valid_end_date|invalid_reason|\n",
      "+-----------+-----------------+--------------------+-----------------------+-----------------+--------------------+----------------+--------------+--------------+\n",
      "|          0|                0|                   1|                 Female|             8532|              Gender|      1970-01-01|    2099-12-31|          null|\n",
      "|          1|                0|                   1|                   Male|             8507|              Gender|      1970-01-01|    2099-12-31|          null|\n",
      "+-----------+-----------------+--------------------+-----------------------+-----------------+--------------------+----------------+--------------+--------------+\n",
      "\n"
     ]
    }
   ],
   "source": [
    "gender.show()"
   ]
  },
  {
   "cell_type": "code",
   "execution_count": 43,
   "id": "79d0a243",
   "metadata": {},
   "outputs": [],
   "source": [
    "#raca.show(5)"
   ]
  },
  {
   "cell_type": "code",
   "execution_count": 44,
   "id": "d923bafb",
   "metadata": {},
   "outputs": [],
   "source": [
    "gender_v2 = gender.select('source_code_description','target_concept_id').withColumnRenamed(\"source_code_description\",\"sexo\").withColumnRenamed(\"target_concept_id\",\"gender_concept_id\")\n",
    "raca_v2 = raca.select('source_code_description','target_concept_id').withColumnRenamed(\"source_code_description\",\"raca\").withColumnRenamed(\"target_concept_id\",\"race_concept_id\")"
   ]
  },
  {
   "cell_type": "code",
   "execution_count": 45,
   "id": "87f392e4",
   "metadata": {},
   "outputs": [],
   "source": [
    "person_v2 = person.join(gender_v2,['sexo'],'left')\n",
    "person_v2 = person_v2.join(raca_v2,['raca'],'left')\n",
    "\n",
    "person_v2 = person_v2.withColumn(\"dt_datanascimento_v2\",F.to_date(\"dt_datanascimento\"))\n",
    "\n",
    "person_v2 = person_v2.withColumn(\"year_of_birth\",F.year(\"dt_datanascimento_v2\"))\n",
    "person_v2 = person_v2.withColumn(\"month_of_birth\",F.month(\"dt_datanascimento_v2\"))\n",
    "person_v2 = person_v2.withColumn(\"day_of_birth\",F.dayofmonth(\"dt_datanascimento_v2\"))\n",
    "\n",
    "person_v2 = person_v2.withColumn(\"birth_datetime\", F.to_timestamp(\"dt_datanascimento_v2\", \"yyyy-MM-dd\"))\n",
    "\n",
    "\n",
    "person_v2 = person_v2.withColumn(\"ethnicity_concept_id\",F.lit(\"38003563\"))\n",
    "\n"
   ]
  },
  {
   "cell_type": "code",
   "execution_count": 46,
   "id": "bb2c365e",
   "metadata": {},
   "outputs": [],
   "source": [
    "#person_v2.show(10)"
   ]
  },
  {
   "cell_type": "code",
   "execution_count": 47,
   "id": "79b7cdf2",
   "metadata": {},
   "outputs": [],
   "source": [
    "person_v3 = person_v2.drop(*['dt_datanascimento','dt_datanascimento_v2'])"
   ]
  },
  {
   "cell_type": "code",
   "execution_count": 48,
   "id": "6a26d8b1",
   "metadata": {},
   "outputs": [
    {
     "name": "stdout",
     "output_type": "stream",
     "text": [
      "root\n",
      " |-- raca: string (nullable = true)\n",
      " |-- sexo: string (nullable = true)\n",
      " |-- id_vigvac: long (nullable = true)\n",
      " |-- gender_source_value: string (nullable = true)\n",
      " |-- race_source_value: string (nullable = true)\n",
      " |-- gender_concept_id: string (nullable = true)\n",
      " |-- race_concept_id: string (nullable = true)\n",
      " |-- year_of_birth: integer (nullable = true)\n",
      " |-- month_of_birth: integer (nullable = true)\n",
      " |-- day_of_birth: integer (nullable = true)\n",
      " |-- birth_datetime: timestamp (nullable = true)\n",
      " |-- ethnicity_concept_id: string (nullable = false)\n",
      "\n"
     ]
    }
   ],
   "source": [
    "person_v3.printSchema()"
   ]
  },
  {
   "cell_type": "code",
   "execution_count": 49,
   "id": "b9527b26",
   "metadata": {},
   "outputs": [],
   "source": [
    "#person_v3.show(10)"
   ]
  },
  {
   "cell_type": "code",
   "execution_count": 50,
   "id": "c76717a5",
   "metadata": {},
   "outputs": [
    {
     "name": "stderr",
     "output_type": "stream",
     "text": [
      "                                                                                \r"
     ]
    },
    {
     "data": {
      "text/plain": [
       "4661"
      ]
     },
     "execution_count": 50,
     "metadata": {},
     "output_type": "execute_result"
    }
   ],
   "source": [
    "person_v3.filter(F.col(\"birth_datetime\") < \"1900-01-01\").count()"
   ]
  },
  {
   "cell_type": "code",
   "execution_count": 51,
   "id": "24cb5f00",
   "metadata": {},
   "outputs": [],
   "source": [
    "from pyspark.sql.window import Window"
   ]
  },
  {
   "cell_type": "code",
   "execution_count": 54,
   "id": "f59ab39a",
   "metadata": {},
   "outputs": [],
   "source": [
    "import time\n",
    "start = time.time()"
   ]
  },
  {
   "cell_type": "code",
   "execution_count": 56,
   "id": "059ebbef",
   "metadata": {},
   "outputs": [
    {
     "name": "stderr",
     "output_type": "stream",
     "text": [
      "                                                                                \r"
     ]
    }
   ],
   "source": [
    "person_v4 = person_v3.rdd.zipWithIndex().toDF()\n"
   ]
  },
  {
   "cell_type": "code",
   "execution_count": 57,
   "id": "78535ae6",
   "metadata": {},
   "outputs": [],
   "source": [
    "person_v5=person_v4.select(F.col(\"_1.*\"),F.col(\"_2\").alias('increasing_id'))"
   ]
  },
  {
   "cell_type": "code",
   "execution_count": 58,
   "id": "ddd70596",
   "metadata": {},
   "outputs": [
    {
     "name": "stdout",
     "output_type": "stream",
     "text": [
      "root\n",
      " |-- raca: string (nullable = true)\n",
      " |-- sexo: string (nullable = true)\n",
      " |-- id_vigvac: long (nullable = true)\n",
      " |-- gender_source_value: string (nullable = true)\n",
      " |-- race_source_value: string (nullable = true)\n",
      " |-- gender_concept_id: string (nullable = true)\n",
      " |-- race_concept_id: string (nullable = true)\n",
      " |-- year_of_birth: long (nullable = true)\n",
      " |-- month_of_birth: long (nullable = true)\n",
      " |-- day_of_birth: long (nullable = true)\n",
      " |-- birth_datetime: timestamp (nullable = true)\n",
      " |-- ethnicity_concept_id: string (nullable = true)\n",
      " |-- increasing_id: long (nullable = true)\n",
      "\n"
     ]
    }
   ],
   "source": [
    "person_v5.printSchema()"
   ]
  },
  {
   "cell_type": "code",
   "execution_count": 59,
   "id": "fb211ca0",
   "metadata": {},
   "outputs": [
    {
     "name": "stdout",
     "output_type": "stream",
     "text": [
      "157.5714042186737\n"
     ]
    }
   ],
   "source": [
    "end = time.time()\n",
    "print(end - start)"
   ]
  },
  {
   "cell_type": "code",
   "execution_count": 60,
   "id": "0145e42d",
   "metadata": {},
   "outputs": [],
   "source": [
    "person_v5 = person_v5.withColumnRenamed(\"increasing_id\",\"person_id\")"
   ]
  },
  {
   "cell_type": "code",
   "execution_count": 61,
   "id": "adb471d5",
   "metadata": {},
   "outputs": [
    {
     "name": "stdout",
     "output_type": "stream",
     "text": [
      "root\n",
      " |-- raca: string (nullable = true)\n",
      " |-- sexo: string (nullable = true)\n",
      " |-- id_vigvac: long (nullable = true)\n",
      " |-- gender_source_value: string (nullable = true)\n",
      " |-- race_source_value: string (nullable = true)\n",
      " |-- gender_concept_id: string (nullable = true)\n",
      " |-- race_concept_id: string (nullable = true)\n",
      " |-- year_of_birth: long (nullable = true)\n",
      " |-- month_of_birth: long (nullable = true)\n",
      " |-- day_of_birth: long (nullable = true)\n",
      " |-- birth_datetime: timestamp (nullable = true)\n",
      " |-- ethnicity_concept_id: string (nullable = true)\n",
      " |-- person_id: long (nullable = true)\n",
      "\n"
     ]
    }
   ],
   "source": [
    "person_v5.printSchema()"
   ]
  },
  {
   "cell_type": "code",
   "execution_count": 55,
   "id": "dd92d6ed",
   "metadata": {},
   "outputs": [],
   "source": [
    "#person_v3= person_v3.withColumn(\"new_column\",F.lit(\"ABC\"))\n",
    "#w = Window().partitionBy('new_column').orderBy(F.lit('A'))\n",
    "#person_v4 = person_v3.withColumn(\"person_id_v2\",F.row_number().over(w)).drop(\"new_column\")"
   ]
  },
  {
   "cell_type": "code",
   "execution_count": 62,
   "id": "71065812",
   "metadata": {},
   "outputs": [],
   "source": [
    "spark.conf.set(\"spark.sql.parquet.int96RebaseModeInWrite\", \"CORRECTED\") #arquivo somente sera lido em spark 3.0+"
   ]
  },
  {
   "cell_type": "code",
   "execution_count": 63,
   "id": "183c4b24",
   "metadata": {},
   "outputs": [
    {
     "name": "stderr",
     "output_type": "stream",
     "text": [
      "                                                                                \r"
     ]
    }
   ],
   "source": [
    "person_v5.write.parquet(\"/dados10t/datalake/standard/omop/tabelas_omop_cmd_5.4_v1/tb_person.parquet\")  #falta preencher location nessa tabela"
   ]
  },
  {
   "cell_type": "code",
   "execution_count": 1,
   "id": "26d2b8d9",
   "metadata": {},
   "outputs": [],
   "source": [
    "#person_v3.filter(F.col(\"birth_datetime\") < \"1900-01-01\").show(100)"
   ]
  }
 ],
 "metadata": {
  "kernelspec": {
   "display_name": "Python 3 (ipykernel)",
   "language": "python",
   "name": "python3"
  },
  "language_info": {
   "codemirror_mode": {
    "name": "ipython",
    "version": 3
   },
   "file_extension": ".py",
   "mimetype": "text/x-python",
   "name": "python",
   "nbconvert_exporter": "python",
   "pygments_lexer": "ipython3",
   "version": "3.10.12"
  }
 },
 "nbformat": 4,
 "nbformat_minor": 5
}
