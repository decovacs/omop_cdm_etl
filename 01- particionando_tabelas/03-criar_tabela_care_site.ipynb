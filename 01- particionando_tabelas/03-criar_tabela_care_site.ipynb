{
 "cells": [
  {
   "cell_type": "code",
   "execution_count": 4,
   "id": "afe72794",
   "metadata": {},
   "outputs": [
    {
     "data": {
      "text/html": [
       "<style>.container { width:100% !important; }</style>"
      ],
      "text/plain": [
       "<IPython.core.display.HTML object>"
      ]
     },
     "metadata": {},
     "output_type": "display_data"
    }
   ],
   "source": [
    "from IPython.core.display import display, HTML\n",
    "display(HTML(\"<style>.container { width:100% !important; }</style>\"))\n",
    "from pyspark.sql import functions as F\n",
    "import glob"
   ]
  },
  {
   "cell_type": "code",
   "execution_count": 5,
   "id": "a7daf630",
   "metadata": {},
   "outputs": [
    {
     "name": "stdout",
     "output_type": "stream",
     "text": [
      "482479\n"
     ]
    }
   ],
   "source": [
    "#tb estabelecimento 2023 mes 3\n",
    "cnes = spark.read.csv(\"/dados10t/datalake/raw/omop/dados_auxiliares_de_input/cnes2023_03/tbEstabelecimento202302.csv\",sep=\";\",header=True,inferSchema=False)\n",
    "print(cnes.count())"
   ]
  },
  {
   "cell_type": "code",
   "execution_count": 6,
   "id": "bb63c486",
   "metadata": {},
   "outputs": [],
   "source": [
    "#tb estabelecimento 2023 mes 3\n",
    "#cnes = spark.read.csv(\"/dados10t/datalake/standard/omop/dados_auxiliares_de_input/cnes2023_03/tbEstabelecimento202302.csv\",sep=\";\",header=True,inferSchema=False)\n",
    "#print(cnes.count())"
   ]
  },
  {
   "cell_type": "code",
   "execution_count": 7,
   "id": "4851900f",
   "metadata": {},
   "outputs": [
    {
     "data": {
      "text/plain": [
       "[Row(TP_UNIDADE='02'), Row(TP_UNIDADE='40')]"
      ]
     },
     "execution_count": 7,
     "metadata": {},
     "output_type": "execute_result"
    }
   ],
   "source": [
    "cnes.select(\"TP_UNIDADE\").take(2)"
   ]
  },
  {
   "cell_type": "code",
   "execution_count": 8,
   "id": "2b6ca55a",
   "metadata": {},
   "outputs": [
    {
     "name": "stdout",
     "output_type": "stream",
     "text": [
      "root\n",
      " |-- CO_UNIDADE: string (nullable = true)\n",
      " |-- CO_CNES: string (nullable = true)\n",
      " |-- NU_CNPJ_MANTENEDORA: string (nullable = true)\n",
      " |-- TP_PFPJ: string (nullable = true)\n",
      " |-- NIVEL_DEP: string (nullable = true)\n",
      " |-- NO_RAZAO_SOCIAL: string (nullable = true)\n",
      " |-- NO_FANTASIA: string (nullable = true)\n",
      " |-- NO_LOGRADOURO: string (nullable = true)\n",
      " |-- NU_ENDERECO: string (nullable = true)\n",
      " |-- NO_COMPLEMENTO: string (nullable = true)\n",
      " |-- NO_BAIRRO: string (nullable = true)\n",
      " |-- CO_CEP: string (nullable = true)\n",
      " |-- CO_REGIAO_SAUDE: string (nullable = true)\n",
      " |-- CO_MICRO_REGIAO: string (nullable = true)\n",
      " |-- CO_DISTRITO_SANITARIO: string (nullable = true)\n",
      " |-- CO_DISTRITO_ADMINISTRATIVO: string (nullable = true)\n",
      " |-- NU_TELEFONE: string (nullable = true)\n",
      " |-- NU_FAX: string (nullable = true)\n",
      " |-- NO_EMAIL: string (nullable = true)\n",
      " |-- NU_CPF: string (nullable = true)\n",
      " |-- NU_CNPJ: string (nullable = true)\n",
      " |-- CO_ATIVIDADE: string (nullable = true)\n",
      " |-- CO_CLIENTELA: string (nullable = true)\n",
      " |-- NU_ALVARA: string (nullable = true)\n",
      " |-- DT_EXPEDICAO: string (nullable = true)\n",
      " |-- TP_ORGAO_EXPEDIDOR: string (nullable = true)\n",
      " |-- DT_VAL_LIC_SANI: string (nullable = true)\n",
      " |-- TP_LIC_SANI: string (nullable = true)\n",
      " |-- TP_UNIDADE: string (nullable = true)\n",
      " |-- CO_TURNO_ATENDIMENTO: string (nullable = true)\n",
      " |-- CO_ESTADO_GESTOR: string (nullable = true)\n",
      " |-- CO_MUNICIPIO_GESTOR: string (nullable = true)\n",
      " |-- TO_CHAR(DT_ATUALIZACAO,'DD/MM/YYYY'): string (nullable = true)\n",
      " |-- CO_USUARIO: string (nullable = true)\n",
      " |-- CO_CPFDIRETORCLN: string (nullable = true)\n",
      " |-- REG_DIRETORCLN: string (nullable = true)\n",
      " |-- ST_ADESAO_FILANTROP: string (nullable = true)\n",
      " |-- CO_MOTIVO_DESAB: string (nullable = true)\n",
      " |-- NO_URL: string (nullable = true)\n",
      " |-- NU_LATITUDE: string (nullable = true)\n",
      " |-- NU_LONGITUDE: string (nullable = true)\n",
      " |-- TO_CHAR(DT_ATU_GEO,'DD/MM/YYYY'): string (nullable = true)\n",
      " |-- NO_USUARIO_GEO: string (nullable = true)\n",
      " |-- CO_NATUREZA_JUR: string (nullable = true)\n",
      " |-- TP_ESTAB_SEMPRE_ABERTO: string (nullable = true)\n",
      " |-- ST_GERACREDITO_GERENTE_SGIF: string (nullable = true)\n",
      " |-- ST_CONEXAO_INTERNET: string (nullable = true)\n",
      " |-- CO_TIPO_UNIDADE: string (nullable = true)\n",
      " |-- NO_FANTASIA_ABREV: string (nullable = true)\n",
      " |-- TP_GESTAO: string (nullable = true)\n",
      " |-- TO_CHAR(DT_ATUALIZACAO_ORIGEM,'DD/MM/YYYY'): string (nullable = true)\n",
      " |-- CO_TIPO_ESTABELECIMENTO: string (nullable = true)\n",
      " |-- CO_ATIVIDADE_PRINCIPAL: string (nullable = true)\n",
      " |-- ST_CONTRATO_FORMALIZADO: string (nullable = true)\n",
      "\n"
     ]
    }
   ],
   "source": [
    "cnes.printSchema()"
   ]
  },
  {
   "cell_type": "code",
   "execution_count": 9,
   "id": "d5430da5",
   "metadata": {},
   "outputs": [
    {
     "name": "stdout",
     "output_type": "stream",
     "text": [
      "5571\n"
     ]
    }
   ],
   "source": [
    "municipios_br = spark.read.csv(\"/home/juracy.santos/dados/lista_municipios_brasil.csv\",sep=\",\",header=True,inferSchema=False)\n",
    "print(municipios_br.count())\n",
    "municipios_br_v2 = municipios_br.select(\"codigo\",\"codigo_6\")"
   ]
  },
  {
   "cell_type": "code",
   "execution_count": 10,
   "id": "eedfae54",
   "metadata": {},
   "outputs": [
    {
     "name": "stdout",
     "output_type": "stream",
     "text": [
      "root\n",
      " |-- codigo: string (nullable = true)\n",
      " |-- codigo_6: string (nullable = true)\n",
      "\n"
     ]
    }
   ],
   "source": [
    "municipios_br_v2.printSchema()"
   ]
  },
  {
   "cell_type": "code",
   "execution_count": 11,
   "id": "010f2b60",
   "metadata": {},
   "outputs": [],
   "source": [
    "cnes = cnes.join(municipios_br_v2, cnes.CO_MUNICIPIO_GESTOR == municipios_br_v2.codigo_6,'left') # 350 nao da match com o codigo de 7 digitos e ficam sem o id do municipio"
   ]
  },
  {
   "cell_type": "code",
   "execution_count": 13,
   "id": "ac376a13",
   "metadata": {},
   "outputs": [
    {
     "data": {
      "text/plain": [
       "482479"
      ]
     },
     "execution_count": 13,
     "metadata": {},
     "output_type": "execute_result"
    }
   ],
   "source": [
    "cnes.count()"
   ]
  },
  {
   "cell_type": "code",
   "execution_count": 14,
   "id": "f6e93f68",
   "metadata": {},
   "outputs": [
    {
     "data": {
      "text/plain": [
       "482479"
      ]
     },
     "execution_count": 14,
     "metadata": {},
     "output_type": "execute_result"
    }
   ],
   "source": [
    "cnes.select(\"CO_CNES\").distinct().count()"
   ]
  },
  {
   "cell_type": "code",
   "execution_count": 15,
   "id": "d9634b68",
   "metadata": {},
   "outputs": [
    {
     "data": {
      "text/plain": [
       "482479"
      ]
     },
     "execution_count": 15,
     "metadata": {},
     "output_type": "execute_result"
    }
   ],
   "source": [
    "cnes.select(\"CO_UNIDADE\").distinct().count()"
   ]
  },
  {
   "cell_type": "code",
   "execution_count": 36,
   "id": "8fa09326",
   "metadata": {},
   "outputs": [],
   "source": [
    "#tb estabelecimento 2023 mes 3 - qual usar para o tipo do estabelecimento? tb tipo estabelecimento  ou tipo unidade ? segundo a documentacao ta tb estabelecimento seria tb_unidade, onde entra tbtipoestabelcimento?\n",
    "#tipo_estab = spark.read.csv(\"/dados10t/datalake/raw/omop/dados_auxiliares_de_input/cnes2023_03/tbTipoEstabelecimento202302.csv\",sep=\";\",header=True,inferSchema=False)\n",
    "#print(tipo_estab.count())\n",
    "#print(tipo_estab.show(50,False)) # ao final usei a tabela tp unidade(tbTipoUnidade202302)"
   ]
  },
  {
   "cell_type": "code",
   "execution_count": 37,
   "id": "acf9d9fb",
   "metadata": {},
   "outputs": [],
   "source": [
    "#tb estabelecimento 2023 mes 3\n",
    "tipo_unidade = spark.read.csv(\"/dados10t/datalake/raw/omop/dados_auxiliares_de_input/cnes2023_03/tbTipoUnidade202302.csv\",sep=\";\",header=True,inferSchema=False)"
   ]
  },
  {
   "cell_type": "code",
   "execution_count": 39,
   "id": "76b3014d",
   "metadata": {
    "scrolled": true
   },
   "outputs": [
    {
     "name": "stdout",
     "output_type": "stream",
     "text": [
      "+---------------+------------------------------------------------------------+\n",
      "|CO_TIPO_UNIDADE|DS_TIPO_UNIDADE                                             |\n",
      "+---------------+------------------------------------------------------------+\n",
      "|01             |POSTO DE SAUDE                                              |\n",
      "|02             |CENTRO DE SAUDE/UNIDADE BASICA                              |\n",
      "|04             |POLICLINICA                                                 |\n",
      "|05             |HOSPITAL GERAL                                              |\n",
      "|07             |HOSPITAL ESPECIALIZADO                                      |\n",
      "|15             |UNIDADE MISTA                                               |\n",
      "|20             |PRONTO SOCORRO GERAL                                        |\n",
      "|21             |PRONTO SOCORRO ESPECIALIZADO                                |\n",
      "|22             |CONSULTORIO ISOLADO                                         |\n",
      "|32             |UNIDADE MOVEL FLUVIAL                                       |\n",
      "|36             |CLINICA/CENTRO DE ESPECIALIDADE                             |\n",
      "|39             |UNIDADE DE APOIO DIAGNOSE E TERAPIA (SADT ISOLADO)          |\n",
      "|40             |UNIDADE MOVEL TERRESTRE                                     |\n",
      "|42             |UNIDADE MOVEL DE NIVEL PRE-HOSPITALAR NA AREA DE URGENCIA   |\n",
      "|43             |FARMACIA                                                    |\n",
      "|50             |UNIDADE DE VIGILANCIA EM SAUDE                              |\n",
      "|60             |COOPERATIVA OU EMPRESA DE CESSAO DE TRABALHADORES NA SAUDE  |\n",
      "|61             |CENTRO DE PARTO NORMAL - ISOLADO                            |\n",
      "|62             |HOSPITAL/DIA - ISOLADO                                      |\n",
      "|64             |CENTRAL DE REGULACAO DE SERVICOS DE SAUDE                   |\n",
      "|67             |LABORATORIO CENTRAL DE SAUDE PUBLICA LACEN                  |\n",
      "|68             |CENTRAL DE GESTAO EM SAUDE                                  |\n",
      "|69             |CENTRO DE ATENCAO HEMOTERAPIA E OU HEMATOLOGICA             |\n",
      "|70             |CENTRO DE ATENCAO PSICOSSOCIAL                              |\n",
      "|71             |CENTRO DE APOIO A SAUDE DA FAMILIA                          |\n",
      "|72             |UNIDADE DE ATENCAO A SAUDE INDIGENA                         |\n",
      "|73             |PRONTO ATENDIMENTO                                          |\n",
      "|74             |POLO ACADEMIA DA SAUDE                                      |\n",
      "|75             |TELESSAUDE                                                  |\n",
      "|76             |CENTRAL DE REGULACAO MEDICA DAS URGENCIAS                   |\n",
      "|77             |SERVICO DE ATENCAO DOMICILIAR ISOLADO(HOME CARE)            |\n",
      "|78             |UNIDADE DE ATENCAO EM REGIME RESIDENCIAL                    |\n",
      "|79             |OFICINA ORTOPEDICA                                          |\n",
      "|80             |LABORATORIO DE SAUDE PUBLICA                                |\n",
      "|81             |CENTRAL DE REGULACAO DO ACESSO                              |\n",
      "|82             |CENTRAL DE NOTIFICACAO,CAPTACAO E DISTRIB DE ORGAOS ESTADUAL|\n",
      "|83             |POLO DE PREVENCAO DE DOENCAS E AGRAVOS E PROMOCAO DA SAUDE  |\n",
      "|84             |CENTRAL DE ABASTECIMENTO                                    |\n",
      "|85             |CENTRO DE IMUNIZACAO                                        |\n",
      "+---------------+------------------------------------------------------------+\n",
      "\n"
     ]
    }
   ],
   "source": [
    "tipo_unidade.orderBy(\"CO_TIPO_UNIDADE\").show(200,False)"
   ]
  },
  {
   "cell_type": "code",
   "execution_count": 20,
   "id": "92207af2",
   "metadata": {},
   "outputs": [
    {
     "data": {
      "text/plain": [
       "39"
      ]
     },
     "execution_count": 20,
     "metadata": {},
     "output_type": "execute_result"
    }
   ],
   "source": [
    "tipo_unidade.count()"
   ]
  },
  {
   "cell_type": "code",
   "execution_count": 21,
   "id": "7aea1297",
   "metadata": {},
   "outputs": [
    {
     "data": {
      "text/plain": [
       "39"
      ]
     },
     "execution_count": 21,
     "metadata": {},
     "output_type": "execute_result"
    }
   ],
   "source": [
    "tipo_unidade.select(\"CO_TIPO_UNIDADE\").distinct().count()"
   ]
  },
  {
   "cell_type": "code",
   "execution_count": 22,
   "id": "d1312b11",
   "metadata": {},
   "outputs": [
    {
     "data": {
      "text/plain": [
       "482479"
      ]
     },
     "execution_count": 22,
     "metadata": {},
     "output_type": "execute_result"
    }
   ],
   "source": [
    "cnes.count()"
   ]
  },
  {
   "cell_type": "code",
   "execution_count": 56,
   "id": "264c4b4c",
   "metadata": {},
   "outputs": [],
   "source": [
    "map_care_site = spark.read.csv(\"/dados10t/datalake/standard/omop/resultado_mapeamento/care_site_mapping.csv\",sep=\",\",inferSchema=False,header=True)"
   ]
  },
  {
   "cell_type": "code",
   "execution_count": 57,
   "id": "c729866b",
   "metadata": {},
   "outputs": [],
   "source": [
    "map_care_site = map_care_site.withColumn(\"id\",F.split(\"source_code\",\";\")[0])\n",
    "map_care_site = map_care_site.withColumn(\"CO_TIPO_UNIDADE\",F.regexp_replace(\"id\",'\\\"',\"\") )\n",
    "map_care_site_v2 = map_care_site.select(\"CO_TIPO_UNIDADE\",\"target_concept_id\")"
   ]
  },
  {
   "cell_type": "code",
   "execution_count": 60,
   "id": "a8d6eaee",
   "metadata": {},
   "outputs": [],
   "source": [
    "tipo_unidade_map = tipo_unidade.join(map_care_site_v2,['CO_TIPO_UNIDADE'],'inner')"
   ]
  },
  {
   "cell_type": "code",
   "execution_count": 62,
   "id": "6d5358d8",
   "metadata": {},
   "outputs": [
    {
     "data": {
      "text/plain": [
       "39"
      ]
     },
     "execution_count": 62,
     "metadata": {},
     "output_type": "execute_result"
    }
   ],
   "source": [
    "tipo_unidade_map.count()"
   ]
  },
  {
   "cell_type": "code",
   "execution_count": 63,
   "id": "349c230c",
   "metadata": {},
   "outputs": [
    {
     "name": "stdout",
     "output_type": "stream",
     "text": [
      "+---------------+---------------------------------------------------------+-----------------+\n",
      "|CO_TIPO_UNIDADE|DS_TIPO_UNIDADE                                          |target_concept_id|\n",
      "+---------------+---------------------------------------------------------+-----------------+\n",
      "|69             |CENTRO DE ATENCAO HEMOTERAPIA E OU HEMATOLOGICA          |38004240         |\n",
      "|70             |CENTRO DE ATENCAO PSICOSSOCIAL                           |8964             |\n",
      "|71             |CENTRO DE APOIO A SAUDE DA FAMILIA                       |38004247         |\n",
      "|72             |UNIDADE DE ATENCAO A SAUDE INDIGENA                      |38004702         |\n",
      "|01             |POSTO DE SAUDE                                           |38004247         |\n",
      "|02             |CENTRO DE SAUDE/UNIDADE BASICA                           |38004247         |\n",
      "|04             |POLICLINICA                                              |38004247         |\n",
      "|22             |CONSULTORIO ISOLADO                                      |38004207         |\n",
      "|40             |UNIDADE MOVEL TERRESTRE                                  |38004247         |\n",
      "|42             |UNIDADE MOVEL DE NIVEL PRE-HOSPITALAR NA AREA DE URGENCIA|38004353         |\n",
      "+---------------+---------------------------------------------------------+-----------------+\n",
      "only showing top 10 rows\n",
      "\n"
     ]
    }
   ],
   "source": [
    "tipo_unidade_map.show(10,False)"
   ]
  },
  {
   "cell_type": "code",
   "execution_count": 65,
   "id": "73ec7ad6",
   "metadata": {},
   "outputs": [],
   "source": [
    "tipo_unidade_map = tipo_unidade_map.withColumnRenamed(\"CO_TIPO_UNIDADE\",\"TP_UNIDADE\")"
   ]
  },
  {
   "cell_type": "code",
   "execution_count": 66,
   "id": "b738c6e9",
   "metadata": {},
   "outputs": [],
   "source": [
    "cnes_v2 = cnes.join(tipo_unidade_map,['TP_UNIDADE'],'left') #perde-se 1 unidade usando inner , capturar cnes desse 1 faltante"
   ]
  },
  {
   "cell_type": "code",
   "execution_count": 67,
   "id": "460fba20",
   "metadata": {},
   "outputs": [
    {
     "data": {
      "text/plain": [
       "482479"
      ]
     },
     "execution_count": 67,
     "metadata": {},
     "output_type": "execute_result"
    }
   ],
   "source": [
    "cnes_v2.count()"
   ]
  },
  {
   "cell_type": "code",
   "execution_count": 68,
   "id": "38586a05",
   "metadata": {},
   "outputs": [
    {
     "name": "stdout",
     "output_type": "stream",
     "text": [
      "root\n",
      " |-- TP_UNIDADE: string (nullable = true)\n",
      " |-- CO_UNIDADE: string (nullable = true)\n",
      " |-- CO_CNES: string (nullable = true)\n",
      " |-- NU_CNPJ_MANTENEDORA: string (nullable = true)\n",
      " |-- TP_PFPJ: string (nullable = true)\n",
      " |-- NIVEL_DEP: string (nullable = true)\n",
      " |-- NO_RAZAO_SOCIAL: string (nullable = true)\n",
      " |-- NO_FANTASIA: string (nullable = true)\n",
      " |-- NO_LOGRADOURO: string (nullable = true)\n",
      " |-- NU_ENDERECO: string (nullable = true)\n",
      " |-- NO_COMPLEMENTO: string (nullable = true)\n",
      " |-- NO_BAIRRO: string (nullable = true)\n",
      " |-- CO_CEP: string (nullable = true)\n",
      " |-- CO_REGIAO_SAUDE: string (nullable = true)\n",
      " |-- CO_MICRO_REGIAO: string (nullable = true)\n",
      " |-- CO_DISTRITO_SANITARIO: string (nullable = true)\n",
      " |-- CO_DISTRITO_ADMINISTRATIVO: string (nullable = true)\n",
      " |-- NU_TELEFONE: string (nullable = true)\n",
      " |-- NU_FAX: string (nullable = true)\n",
      " |-- NO_EMAIL: string (nullable = true)\n",
      " |-- NU_CPF: string (nullable = true)\n",
      " |-- NU_CNPJ: string (nullable = true)\n",
      " |-- CO_ATIVIDADE: string (nullable = true)\n",
      " |-- CO_CLIENTELA: string (nullable = true)\n",
      " |-- NU_ALVARA: string (nullable = true)\n",
      " |-- DT_EXPEDICAO: string (nullable = true)\n",
      " |-- TP_ORGAO_EXPEDIDOR: string (nullable = true)\n",
      " |-- DT_VAL_LIC_SANI: string (nullable = true)\n",
      " |-- TP_LIC_SANI: string (nullable = true)\n",
      " |-- CO_TURNO_ATENDIMENTO: string (nullable = true)\n",
      " |-- CO_ESTADO_GESTOR: string (nullable = true)\n",
      " |-- CO_MUNICIPIO_GESTOR: string (nullable = true)\n",
      " |-- TO_CHAR(DT_ATUALIZACAO,'DD/MM/YYYY'): string (nullable = true)\n",
      " |-- CO_USUARIO: string (nullable = true)\n",
      " |-- CO_CPFDIRETORCLN: string (nullable = true)\n",
      " |-- REG_DIRETORCLN: string (nullable = true)\n",
      " |-- ST_ADESAO_FILANTROP: string (nullable = true)\n",
      " |-- CO_MOTIVO_DESAB: string (nullable = true)\n",
      " |-- NO_URL: string (nullable = true)\n",
      " |-- NU_LATITUDE: string (nullable = true)\n",
      " |-- NU_LONGITUDE: string (nullable = true)\n",
      " |-- TO_CHAR(DT_ATU_GEO,'DD/MM/YYYY'): string (nullable = true)\n",
      " |-- NO_USUARIO_GEO: string (nullable = true)\n",
      " |-- CO_NATUREZA_JUR: string (nullable = true)\n",
      " |-- TP_ESTAB_SEMPRE_ABERTO: string (nullable = true)\n",
      " |-- ST_GERACREDITO_GERENTE_SGIF: string (nullable = true)\n",
      " |-- ST_CONEXAO_INTERNET: string (nullable = true)\n",
      " |-- CO_TIPO_UNIDADE: string (nullable = true)\n",
      " |-- NO_FANTASIA_ABREV: string (nullable = true)\n",
      " |-- TP_GESTAO: string (nullable = true)\n",
      " |-- TO_CHAR(DT_ATUALIZACAO_ORIGEM,'DD/MM/YYYY'): string (nullable = true)\n",
      " |-- CO_TIPO_ESTABELECIMENTO: string (nullable = true)\n",
      " |-- CO_ATIVIDADE_PRINCIPAL: string (nullable = true)\n",
      " |-- ST_CONTRATO_FORMALIZADO: string (nullable = true)\n",
      " |-- codigo: string (nullable = true)\n",
      " |-- codigo_6: string (nullable = true)\n",
      " |-- DS_TIPO_UNIDADE: string (nullable = true)\n",
      " |-- target_concept_id: string (nullable = true)\n",
      "\n"
     ]
    }
   ],
   "source": [
    "cnes_v2.printSchema()"
   ]
  },
  {
   "cell_type": "code",
   "execution_count": 69,
   "id": "7956417e",
   "metadata": {},
   "outputs": [],
   "source": [
    "tb_care_site = cnes_v2.select(\"CO_CNES\",\"DS_TIPO_UNIDADE\",\"NO_FANTASIA\",\"codigo\",\"target_concept_id\") #CO_MUNICIPIO_GESTOR removido agora usamos codigo que tem 7 digitos e nao CO_MUNICIPIO_GESTOR que só tem 6"
   ]
  },
  {
   "cell_type": "code",
   "execution_count": 98,
   "id": "aac802cb",
   "metadata": {},
   "outputs": [],
   "source": [
    "#tb_care_site.show(500,False)"
   ]
  },
  {
   "cell_type": "code",
   "execution_count": 70,
   "id": "0e11769e",
   "metadata": {},
   "outputs": [],
   "source": [
    "tb_care_site_v2 = tb_care_site.withColumnRenamed(\"CO_CNES\",\"care_site_id\")\n",
    "tb_care_site_v2 = tb_care_site_v2.withColumnRenamed(\"NO_FANTASIA\",\"care_site_name\")\n",
    "tb_care_site_v2 = tb_care_site_v2.withColumnRenamed(\"codigo\",\"location_id\")\n",
    "tb_care_site_v2 = tb_care_site_v2.withColumnRenamed(\"DS_TIPO_UNIDADE\",\"place_of_service_source_value\")\n",
    "tb_care_site_v2 = tb_care_site_v2.withColumn(\"care_site_source_value\",F.col(\"care_site_id\"))\n",
    "tb_care_site_v2 = tb_care_site_v2.withColumnRenamed(\"target_concept_id\",\"place_of_service_concept_id\")\n",
    "\n",
    "\n",
    "#tb_care_site_v2 = tb_care_site_v2.withColumn(\"place_of_service_concept_id\",F.lit(\"\"))"
   ]
  },
  {
   "cell_type": "code",
   "execution_count": 71,
   "id": "b64995f7",
   "metadata": {},
   "outputs": [],
   "source": [
    "tb_care_site_v2 = tb_care_site_v2.select(\"care_site_id\",\"care_site_name\",\"place_of_service_concept_id\",\"location_id\",\"care_site_source_value\",\"place_of_service_source_value\")"
   ]
  },
  {
   "cell_type": "code",
   "execution_count": 73,
   "id": "5e30fbab",
   "metadata": {},
   "outputs": [
    {
     "name": "stdout",
     "output_type": "stream",
     "text": [
      "+------------+--------------------------+---------------------------+-----------+----------------------+------------------------------+\n",
      "|care_site_id|care_site_name            |place_of_service_concept_id|location_id|care_site_source_value|place_of_service_source_value |\n",
      "+------------+--------------------------+---------------------------+-----------+----------------------+------------------------------+\n",
      "|2569302     |USF BULTRINS MONTE II     |38004247                   |2609600    |2569302               |CENTRO DE SAUDE/UNIDADE BASICA|\n",
      "|2571943     |UNIDADE MOVEL             |38004247                   |2609600    |2571943               |UNIDADE MOVEL TERRESTRE       |\n",
      "|2344637     |USF ALTO DA MINA          |38004247                   |2609600    |2344637               |CENTRO DE SAUDE/UNIDADE BASICA|\n",
      "|2344696     |USF ILHA DE SANTANA I E II|38004247                   |2609600    |2344696               |CENTRO DE SAUDE/UNIDADE BASICA|\n",
      "|2142295     |HOSPITAL CARLOS CHAGAS    |38004515                   |3112000    |2142295               |HOSPITAL GERAL                |\n",
      "+------------+--------------------------+---------------------------+-----------+----------------------+------------------------------+\n",
      "only showing top 5 rows\n",
      "\n"
     ]
    }
   ],
   "source": [
    "tb_care_site_v2.show(5,False)"
   ]
  },
  {
   "cell_type": "code",
   "execution_count": 74,
   "id": "c47dc699",
   "metadata": {},
   "outputs": [],
   "source": [
    "tb_care_site_v2.toPandas().to_csv(\"/dados10t/datalake/standard/omop/tabelas_omop_cmd_5.4_v1/tb_care_site.csv\",sep=\",\",index=False)"
   ]
  },
  {
   "cell_type": "code",
   "execution_count": null,
   "id": "e53dcdfd",
   "metadata": {},
   "outputs": [],
   "source": []
  },
  {
   "cell_type": "code",
   "execution_count": 76,
   "id": "ef88efcf",
   "metadata": {},
   "outputs": [],
   "source": [
    "tb_care_site_v2.write.parquet(\"/dados10t/datalake/standard/omop/tabelas_omop_cmd_5.4_v1/tb_care_site.parquet\")"
   ]
  }
 ],
 "metadata": {
  "kernelspec": {
   "display_name": "Python 3",
   "language": "python",
   "name": "python3"
  },
  "language_info": {
   "codemirror_mode": {
    "name": "ipython",
    "version": 3
   },
   "file_extension": ".py",
   "mimetype": "text/x-python",
   "name": "python",
   "nbconvert_exporter": "python",
   "pygments_lexer": "ipython3",
   "version": "3.8.5"
  }
 },
 "nbformat": 4,
 "nbformat_minor": 5
}
