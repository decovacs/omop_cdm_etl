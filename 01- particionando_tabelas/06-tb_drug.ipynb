{
 "cells": [
  {
   "cell_type": "code",
   "execution_count": 1,
   "id": "1ace5dd5-8916-4655-bb8e-e96b965cba47",
   "metadata": {},
   "outputs": [
    {
     "name": "stderr",
     "output_type": "stream",
     "text": [
      "/home/juracybertoldo2/.local/lib/python3.8/site-packages/pyspark/sql/context.py:112: FutureWarning: Deprecated in 3.0.0. Use SparkSession.builder.getOrCreate() instead.\n",
      "  warnings.warn(\n"
     ]
    }
   ],
   "source": [
    "import pyspark\n",
    "from pyspark.sql import SparkSession\n",
    "\n",
    "#Create SparkSession\n",
    "spark = SparkSession.builder \\\n",
    "       .master(\"local[*]\") \\\n",
    "       .appName(\"spark_juracy\") \\\n",
    "       .config(\"spark.driver.memory\", \"80g\")\\\n",
    "       .config(\"spark.executor.memory\", \"50g\")\\\n",
    "       .config(\"spark.dirver.maxResultSize\", \"50g\")\\\n",
    "       .getOrCreate()\n",
    "sc = spark.sparkContext\n",
    "from pyspark.sql import SQLContext\n",
    "sqlContext = SQLContext(sc)"
   ]
  },
  {
   "cell_type": "code",
   "execution_count": null,
   "id": "14589522",
   "metadata": {},
   "outputs": [],
   "source": [
    "from IPython.core.display import display, HTML\n",
    "display(HTML(\"<style>.container { width:100% !important; }</style>\"))\n",
    "from pyspark.sql import functions as F\n",
    "import glob\n",
    "from pyspark.sql.types import *\n",
    "from pyspark.sql.window import Window"
   ]
  },
  {
   "cell_type": "code",
   "execution_count": 2,
   "id": "d09fd07c-f06f-4d0b-9fbd-f15bf455e3bb",
   "metadata": {},
   "outputs": [],
   "source": [
    "sc.setCheckpointDir(\"/dados10t/datalake/raw/checkpoint_dir/\")"
   ]
  },
  {
   "cell_type": "markdown",
   "id": "22d076e2",
   "metadata": {},
   "source": [
    "### gerar tabela de drogas com dados de vacinação \n",
    "#### csv para mapeamento com nomes das vacinas originais"
   ]
  },
  {
   "cell_type": "code",
   "execution_count": 3,
   "id": "91c9821f",
   "metadata": {},
   "outputs": [
    {
     "name": "stderr",
     "output_type": "stream",
     "text": [
      "                                                                                \r"
     ]
    }
   ],
   "source": [
    "vac  = spark.read.parquet(\"/dados10t/datalake/standard/omop/data_with_ids/vacinacao07072022_pessoasunicas_5doses_v17-id_omop-v3.parquet/\")\n",
    "\n",
    "#vac  = spark.read.parquet(\"/dados10t/datalake/standard/vigivac/vacinacao/vacinacao17032023_pessoasunicas_7doses_v17.parquet/\")"
   ]
  },
  {
   "cell_type": "code",
   "execution_count": 5,
   "id": "3cfd94f1",
   "metadata": {},
   "outputs": [
    {
     "name": "stderr",
     "output_type": "stream",
     "text": [
      "[Stage 1:=====================================================> (196 + 4) / 200]\r"
     ]
    },
    {
     "name": "stdout",
     "output_type": "stream",
     "text": [
      "+-------+--------------------+\n",
      "|summary| visit_occurrence_id|\n",
      "+-------+--------------------+\n",
      "|  count|           446217353|\n",
      "|   mean|3.0849539100000024E8|\n",
      "| stddev|1.2881185458015317E8|\n",
      "|    min|            85386715|\n",
      "|    max|           531604067|\n",
      "+-------+--------------------+\n",
      "\n"
     ]
    },
    {
     "name": "stderr",
     "output_type": "stream",
     "text": [
      "                                                                                \r"
     ]
    }
   ],
   "source": [
    "vac.describe(\"visit_occurrence_id\").show()"
   ]
  },
  {
   "cell_type": "code",
   "execution_count": 6,
   "id": "0dfedcaa",
   "metadata": {},
   "outputs": [],
   "source": [
    "vac = vac.withColumn(\"visit_occurrence_id\",F.col(\"visit_occurrence_id\").cast(IntegerType()) )"
   ]
  },
  {
   "cell_type": "code",
   "execution_count": 7,
   "id": "6c9b6071",
   "metadata": {},
   "outputs": [
    {
     "name": "stderr",
     "output_type": "stream",
     "text": [
      "[Stage 4:===================================================>  (190 + 10) / 200]\r"
     ]
    },
    {
     "name": "stdout",
     "output_type": "stream",
     "text": [
      "+-------+--------------------+\n",
      "|summary| visit_occurrence_id|\n",
      "+-------+--------------------+\n",
      "|  count|           446217353|\n",
      "|   mean|3.0849539100000024E8|\n",
      "| stddev|1.2881185458015317E8|\n",
      "|    min|            85386715|\n",
      "|    max|           531604067|\n",
      "+-------+--------------------+\n",
      "\n"
     ]
    },
    {
     "name": "stderr",
     "output_type": "stream",
     "text": [
      "                                                                                \r"
     ]
    }
   ],
   "source": [
    "vac.describe(\"visit_occurrence_id\").show()"
   ]
  },
  {
   "cell_type": "code",
   "execution_count": 8,
   "id": "2b4c6a1b",
   "metadata": {},
   "outputs": [
    {
     "name": "stdout",
     "output_type": "stream",
     "text": [
      "root\n",
      " |-- d_sexo: string (nullable = true)\n",
      " |-- d_codibge: string (nullable = true)\n",
      " |-- d_idade: double (nullable = true)\n",
      " |-- d_racacor: string (nullable = true)\n",
      " |-- d_paciente_endereco_uf: string (nullable = true)\n",
      " |-- d_total_regitros_dedup: double (nullable = true)\n",
      " |-- d1_nome_vacina: string (nullable = true)\n",
      " |-- d1_data_aplicacao: date (nullable = true)\n",
      " |-- d1_estab_mun_codigo: string (nullable = true)\n",
      " |-- d1_estab_valor: string (nullable = true)\n",
      " |-- d1_vacina_grupoAtendimento_nome: string (nullable = true)\n",
      " |-- d1_vacina_categoria_nome: string (nullable = true)\n",
      " |-- d1_vacina_dose: string (nullable = true)\n",
      " |-- d2_nome_vacina: string (nullable = true)\n",
      " |-- d2_data_aplicacao: date (nullable = true)\n",
      " |-- d2_estab_mun_codigo: string (nullable = true)\n",
      " |-- d2_estab_valor: string (nullable = true)\n",
      " |-- d2_vacina_grupoAtendimento_nome: string (nullable = true)\n",
      " |-- d2_vacina_categoria_nome: string (nullable = true)\n",
      " |-- d2_vacina_dose: string (nullable = true)\n",
      " |-- d3_nome_vacina: string (nullable = true)\n",
      " |-- d3_data_aplicacao: date (nullable = true)\n",
      " |-- d3_estab_mun_codigo: string (nullable = true)\n",
      " |-- d3_estab_valor: string (nullable = true)\n",
      " |-- d3_vacina_grupoAtendimento_nome: string (nullable = true)\n",
      " |-- d3_vacina_categoria_nome: string (nullable = true)\n",
      " |-- d3_vacina_dose: string (nullable = true)\n",
      " |-- d4_nome_vacina: string (nullable = true)\n",
      " |-- d4_data_aplicacao: date (nullable = true)\n",
      " |-- d4_estab_mun_codigo: string (nullable = true)\n",
      " |-- d4_estab_valor: string (nullable = true)\n",
      " |-- d4_vacina_grupoAtendimento_nome: string (nullable = true)\n",
      " |-- d4_vacina_categoria_nome: string (nullable = true)\n",
      " |-- d4_vacina_dose: string (nullable = true)\n",
      " |-- d5_nome_vacina: string (nullable = true)\n",
      " |-- d5_data_aplicacao: date (nullable = true)\n",
      " |-- d5_estab_mun_codigo: string (nullable = true)\n",
      " |-- d5_estab_valor: string (nullable = true)\n",
      " |-- d5_vacina_grupoAtendimento_nome: string (nullable = true)\n",
      " |-- d5_vacina_categoria_nome: string (nullable = true)\n",
      " |-- d5_vacina_dose: string (nullable = true)\n",
      " |-- total_registros_vacinacao: double (nullable = true)\n",
      " |-- inconsistente: string (nullable = true)\n",
      " |-- id_vigvac: long (nullable = true)\n",
      " |-- n_vacina: string (nullable = true)\n",
      " |-- data_aplicacao: date (nullable = true)\n",
      " |-- visit_occurrence_id: integer (nullable = true)\n",
      "\n"
     ]
    }
   ],
   "source": [
    "vac.printSchema()"
   ]
  },
  {
   "cell_type": "code",
   "execution_count": 9,
   "id": "ddae66f5",
   "metadata": {},
   "outputs": [
    {
     "name": "stderr",
     "output_type": "stream",
     "text": [
      "[Stage 9:>                                                          (0 + 1) / 1]\r"
     ]
    },
    {
     "name": "stdout",
     "output_type": "stream",
     "text": [
      "+---------------------------------------------------------+---------+\n",
      "|d1_nome_vacina                                           |count    |\n",
      "+---------------------------------------------------------+---------+\n",
      "|Covid-19-AstraZeneca                                     |167749014|\n",
      "|Covid-19-Coronavac-Sinovac/Butantan                      |135072640|\n",
      "|Vacina covid-19 - BNT162b2 - BioNTech/Fosun Pharma/Pfizer|134948772|\n",
      "|Vacina covid-19 - Ad26.COV2.S - Janssen-Cilag            |8446927  |\n",
      "+---------------------------------------------------------+---------+\n",
      "\n"
     ]
    },
    {
     "name": "stderr",
     "output_type": "stream",
     "text": [
      "                                                                                \r"
     ]
    }
   ],
   "source": [
    "vac.groupBy(\"d1_nome_vacina\").count().orderBy(F.desc(\"count\")).show(60,False)"
   ]
  },
  {
   "cell_type": "code",
   "execution_count": 10,
   "id": "30645ff6",
   "metadata": {},
   "outputs": [
    {
     "name": "stderr",
     "output_type": "stream",
     "text": [
      "                                                                                \r"
     ]
    },
    {
     "data": {
      "text/plain": [
       "446217353"
      ]
     },
     "execution_count": 10,
     "metadata": {},
     "output_type": "execute_result"
    }
   ],
   "source": [
    "vac.count() #446217353"
   ]
  },
  {
   "cell_type": "code",
   "execution_count": 8,
   "id": "6a369d0e",
   "metadata": {},
   "outputs": [],
   "source": [
    "#vac.filter(F.col(\"id_vigvac\") == \"661425859668\").take(4)"
   ]
  },
  {
   "cell_type": "code",
   "execution_count": 11,
   "id": "7fa2ef95-ca11-41e3-8621-ab87fd957177",
   "metadata": {},
   "outputs": [
    {
     "name": "stderr",
     "output_type": "stream",
     "text": [
      "                                                                                \r"
     ]
    },
    {
     "data": {
      "text/plain": [
       "183759941"
      ]
     },
     "execution_count": 11,
     "metadata": {},
     "output_type": "execute_result"
    }
   ],
   "source": [
    "vac.select(\"id_vigvac\").distinct().count() #183759941"
   ]
  },
  {
   "cell_type": "code",
   "execution_count": 12,
   "id": "cca781f3",
   "metadata": {},
   "outputs": [
    {
     "name": "stderr",
     "output_type": "stream",
     "text": [
      "                                                                                \r"
     ]
    },
    {
     "data": {
      "text/plain": [
       "446217353"
      ]
     },
     "execution_count": 12,
     "metadata": {},
     "output_type": "execute_result"
    }
   ],
   "source": [
    "vac.select(\"visit_occurrence_id\").distinct().count() #446217353"
   ]
  },
  {
   "cell_type": "code",
   "execution_count": 13,
   "id": "a37d6089-ac9f-485c-beeb-0e8f4bf28aa9",
   "metadata": {},
   "outputs": [
    {
     "name": "stderr",
     "output_type": "stream",
     "text": [
      "[Stage 27:>                                                         (0 + 1) / 1]\r"
     ]
    },
    {
     "name": "stdout",
     "output_type": "stream",
     "text": [
      "+-------------+---------+\n",
      "|inconsistente|count    |\n",
      "+-------------+---------+\n",
      "|null         |446134022|\n",
      "|SIM          |83331    |\n",
      "+-------------+---------+\n",
      "\n"
     ]
    },
    {
     "name": "stderr",
     "output_type": "stream",
     "text": [
      "                                                                                \r"
     ]
    }
   ],
   "source": [
    "vac.groupBy(\"inconsistente\").count().orderBy(F.desc(\"count\")).show(30,False) #25938 "
   ]
  },
  {
   "cell_type": "code",
   "execution_count": 14,
   "id": "5be873ef-58d2-49fc-b13c-41ecf04be543",
   "metadata": {},
   "outputs": [],
   "source": [
    "vac = vac.filter(F.col(\"inconsistente\").isNull())"
   ]
  },
  {
   "cell_type": "code",
   "execution_count": 15,
   "id": "a5478637",
   "metadata": {},
   "outputs": [],
   "source": [
    "vac_join = vac.select(\"id_vigvac\",\"n_vacina\",\"data_aplicacao\",\"visit_occurrence_id\")"
   ]
  },
  {
   "cell_type": "code",
   "execution_count": 16,
   "id": "43fb7125-0e33-4c6f-a007-98f976915404",
   "metadata": {},
   "outputs": [
    {
     "name": "stderr",
     "output_type": "stream",
     "text": [
      "                                                                                \r"
     ]
    },
    {
     "data": {
      "text/plain": [
       "446134022"
      ]
     },
     "execution_count": 16,
     "metadata": {},
     "output_type": "execute_result"
    }
   ],
   "source": [
    "vac.count() #446134022"
   ]
  },
  {
   "cell_type": "code",
   "execution_count": 17,
   "id": "520cd748",
   "metadata": {},
   "outputs": [],
   "source": [
    "vac_v1 = vac.drop(\"n_vacina\",\"data_aplicacao\",\"visit_occurrence_id\").dropDuplicates(['id_vigvac'])"
   ]
  },
  {
   "cell_type": "code",
   "execution_count": 18,
   "id": "052639ce",
   "metadata": {},
   "outputs": [
    {
     "name": "stderr",
     "output_type": "stream",
     "text": [
      "                                                                                \r"
     ]
    },
    {
     "data": {
      "text/plain": [
       "183734003"
      ]
     },
     "execution_count": 18,
     "metadata": {},
     "output_type": "execute_result"
    }
   ],
   "source": [
    "vac_v1.count() #183734003"
   ]
  },
  {
   "cell_type": "code",
   "execution_count": 19,
   "id": "34c6bb71",
   "metadata": {},
   "outputs": [
    {
     "name": "stdout",
     "output_type": "stream",
     "text": [
      "root\n",
      " |-- d_sexo: string (nullable = true)\n",
      " |-- d_codibge: string (nullable = true)\n",
      " |-- d_idade: double (nullable = true)\n",
      " |-- d_racacor: string (nullable = true)\n",
      " |-- d_paciente_endereco_uf: string (nullable = true)\n",
      " |-- d_total_regitros_dedup: double (nullable = true)\n",
      " |-- d1_nome_vacina: string (nullable = true)\n",
      " |-- d1_data_aplicacao: date (nullable = true)\n",
      " |-- d1_estab_mun_codigo: string (nullable = true)\n",
      " |-- d1_estab_valor: string (nullable = true)\n",
      " |-- d1_vacina_grupoAtendimento_nome: string (nullable = true)\n",
      " |-- d1_vacina_categoria_nome: string (nullable = true)\n",
      " |-- d1_vacina_dose: string (nullable = true)\n",
      " |-- d2_nome_vacina: string (nullable = true)\n",
      " |-- d2_data_aplicacao: date (nullable = true)\n",
      " |-- d2_estab_mun_codigo: string (nullable = true)\n",
      " |-- d2_estab_valor: string (nullable = true)\n",
      " |-- d2_vacina_grupoAtendimento_nome: string (nullable = true)\n",
      " |-- d2_vacina_categoria_nome: string (nullable = true)\n",
      " |-- d2_vacina_dose: string (nullable = true)\n",
      " |-- d3_nome_vacina: string (nullable = true)\n",
      " |-- d3_data_aplicacao: date (nullable = true)\n",
      " |-- d3_estab_mun_codigo: string (nullable = true)\n",
      " |-- d3_estab_valor: string (nullable = true)\n",
      " |-- d3_vacina_grupoAtendimento_nome: string (nullable = true)\n",
      " |-- d3_vacina_categoria_nome: string (nullable = true)\n",
      " |-- d3_vacina_dose: string (nullable = true)\n",
      " |-- d4_nome_vacina: string (nullable = true)\n",
      " |-- d4_data_aplicacao: date (nullable = true)\n",
      " |-- d4_estab_mun_codigo: string (nullable = true)\n",
      " |-- d4_estab_valor: string (nullable = true)\n",
      " |-- d4_vacina_grupoAtendimento_nome: string (nullable = true)\n",
      " |-- d4_vacina_categoria_nome: string (nullable = true)\n",
      " |-- d4_vacina_dose: string (nullable = true)\n",
      " |-- d5_nome_vacina: string (nullable = true)\n",
      " |-- d5_data_aplicacao: date (nullable = true)\n",
      " |-- d5_estab_mun_codigo: string (nullable = true)\n",
      " |-- d5_estab_valor: string (nullable = true)\n",
      " |-- d5_vacina_grupoAtendimento_nome: string (nullable = true)\n",
      " |-- d5_vacina_categoria_nome: string (nullable = true)\n",
      " |-- d5_vacina_dose: string (nullable = true)\n",
      " |-- total_registros_vacinacao: double (nullable = true)\n",
      " |-- inconsistente: string (nullable = true)\n",
      " |-- id_vigvac: long (nullable = true)\n",
      "\n"
     ]
    }
   ],
   "source": [
    "vac_v1.printSchema()"
   ]
  },
  {
   "cell_type": "code",
   "execution_count": 20,
   "id": "3655e848",
   "metadata": {},
   "outputs": [],
   "source": [
    "#vac_v2 = vac.select(\"d1_nome_vacina\",\"d1_data_aplicacao\",\"d1_tipo_vacina\",\"d2_nome_vacina\",\"d2_data_aplicacao\",\"d2_tipo_vacina\",\"d3_nome_vacina\",\"d3_data_aplicacao\",\"d3_tipo_vacina\", 'd4_nome_vacina', 'd4_data_aplicacao',\"d4_tipo_vacina\", 'd5_nome_vacina', 'd5_data_aplicacao',\"d5_tipo_vacina\",\"id_vigvac\")\n",
    "vac_v2 = vac_v1.select(\"d1_nome_vacina\",\"d1_data_aplicacao\",\"d2_nome_vacina\",\"d2_data_aplicacao\",\"d3_nome_vacina\",\"d3_data_aplicacao\", 'd4_nome_vacina', 'd4_data_aplicacao', 'd5_nome_vacina', 'd5_data_aplicacao',\"id_vigvac\")"
   ]
  },
  {
   "cell_type": "markdown",
   "id": "451c8aa0",
   "metadata": {},
   "source": [
    "#### teste usando stack"
   ]
  },
  {
   "cell_type": "code",
   "execution_count": 21,
   "id": "3315751b",
   "metadata": {},
   "outputs": [],
   "source": [
    "#df_transformed = vacteste_v2.selectExpr('id_vigvac', 'stack(5, d1_nome_vacina, d1_data_aplicacao, d1_tipo_vacina, d2_nome_vacina, d2_data_aplicacao,d2_tipo_vacina, d3_nome_vacina, d3_data_aplicacao,d3_tipo_vacina, d4_nome_vacina, d4_data_aplicacao,d4_tipo_vacina, d5_nome_vacina, d5_data_aplicacao, d5_tipo_vacina) as (nome, drug_exposure_start_date,tipo)')\n",
    "df_transformed = vac_v2.selectExpr('id_vigvac', 'stack(5, d1_nome_vacina, d1_data_aplicacao, d2_nome_vacina, d2_data_aplicacao, d3_nome_vacina, d3_data_aplicacao, d4_nome_vacina, d4_data_aplicacao, d5_nome_vacina, d5_data_aplicacao) as (nome, drug_exposure_start_date)')"
   ]
  },
  {
   "cell_type": "code",
   "execution_count": 22,
   "id": "e3dee9be",
   "metadata": {},
   "outputs": [
    {
     "name": "stderr",
     "output_type": "stream",
     "text": [
      "                                                                                \r"
     ]
    },
    {
     "data": {
      "text/plain": [
       "918670015"
      ]
     },
     "execution_count": 22,
     "metadata": {},
     "output_type": "execute_result"
    }
   ],
   "source": [
    "df_transformed.count() #918670015"
   ]
  },
  {
   "cell_type": "code",
   "execution_count": 23,
   "id": "b6587342",
   "metadata": {},
   "outputs": [
    {
     "name": "stderr",
     "output_type": "stream",
     "text": [
      "                                                                                \r"
     ]
    },
    {
     "data": {
      "text/plain": [
       "446134022"
      ]
     },
     "execution_count": 23,
     "metadata": {},
     "output_type": "execute_result"
    }
   ],
   "source": [
    "df_transformed.filter(F.col(\"nome\").isNotNull()).count() #446134022"
   ]
  },
  {
   "cell_type": "code",
   "execution_count": 24,
   "id": "c62fd8be",
   "metadata": {},
   "outputs": [],
   "source": [
    "df_transformed = df_transformed.filter(F.col(\"nome\").isNotNull())"
   ]
  },
  {
   "cell_type": "code",
   "execution_count": 25,
   "id": "ee34efa6-326d-4567-91d3-96dc1426a12c",
   "metadata": {},
   "outputs": [
    {
     "name": "stderr",
     "output_type": "stream",
     "text": [
      "[Stage 49:=====================================================>(197 + 3) / 200]\r"
     ]
    },
    {
     "name": "stdout",
     "output_type": "stream",
     "text": [
      "+-------------+---------------------------------------------------------+------------------------+\n",
      "|id_vigvac    |nome                                                     |drug_exposure_start_date|\n",
      "+-------------+---------------------------------------------------------+------------------------+\n",
      "|1142461303481|Vacina covid-19 - BNT162b2 - BioNTech/Fosun Pharma/Pfizer|2021-08-14              |\n",
      "|1142461303481|Vacina covid-19 - BNT162b2 - BioNTech/Fosun Pharma/Pfizer|2021-10-09              |\n",
      "|1142461303481|Vacina covid-19 - BNT162b2 - BioNTech/Fosun Pharma/Pfizer|2022-02-09              |\n",
      "+-------------+---------------------------------------------------------+------------------------+\n",
      "\n"
     ]
    },
    {
     "name": "stderr",
     "output_type": "stream",
     "text": [
      "                                                                                \r"
     ]
    }
   ],
   "source": [
    "df_transformed.filter(F.col(\"id_vigvac\") == \"1142461303481\").show(10,False)"
   ]
  },
  {
   "cell_type": "code",
   "execution_count": 26,
   "id": "5724ead8",
   "metadata": {},
   "outputs": [
    {
     "name": "stderr",
     "output_type": "stream",
     "text": [
      "[Stage 52:====================================================> (195 + 5) / 200]\r"
     ]
    },
    {
     "name": "stdout",
     "output_type": "stream",
     "text": [
      "+---------------------------------------------------------+-----------------+---------------------------------------------------------+-----------------+---------------------------------------------------------+-----------------+--------------+-----------------+--------------+-----------------+-------------+\n",
      "|d1_nome_vacina                                           |d1_data_aplicacao|d2_nome_vacina                                           |d2_data_aplicacao|d3_nome_vacina                                           |d3_data_aplicacao|d4_nome_vacina|d4_data_aplicacao|d5_nome_vacina|d5_data_aplicacao|id_vigvac    |\n",
      "+---------------------------------------------------------+-----------------+---------------------------------------------------------+-----------------+---------------------------------------------------------+-----------------+--------------+-----------------+--------------+-----------------+-------------+\n",
      "|Vacina covid-19 - BNT162b2 - BioNTech/Fosun Pharma/Pfizer|2021-08-14       |Vacina covid-19 - BNT162b2 - BioNTech/Fosun Pharma/Pfizer|2021-10-09       |Vacina covid-19 - BNT162b2 - BioNTech/Fosun Pharma/Pfizer|2022-02-09       |null          |null             |null          |null             |1142461303481|\n",
      "+---------------------------------------------------------+-----------------+---------------------------------------------------------+-----------------+---------------------------------------------------------+-----------------+--------------+-----------------+--------------+-----------------+-------------+\n",
      "\n"
     ]
    },
    {
     "name": "stderr",
     "output_type": "stream",
     "text": [
      "                                                                                \r"
     ]
    }
   ],
   "source": [
    "vac_v2.filter(F.col(\"id_vigvac\") == \"1142461303481\").show(10,False)"
   ]
  },
  {
   "cell_type": "code",
   "execution_count": 27,
   "id": "6ed76944",
   "metadata": {},
   "outputs": [],
   "source": [
    "#df_transformed = df_transformed.withColumn(\"drug_exposure_id\",F.monotonically_increasing_id())\n",
    "\n",
    "#df_transformed = df_transformed.withColumnRenamed(\"id_vigvac\",\"person_id\")\n",
    "\n",
    "\n",
    "df_transformed = df_transformed.withColumn(\"drug_exposure_end_datetime\",F.col(\"drug_exposure_start_date\"))\n",
    "\n",
    "\n",
    "df_transformed = df_transformed.withColumn(\"drug_type_concept_id\",F.lit(\"32818\") )   # 32818 é EHR administration record\n",
    "\n",
    "\n",
    "df_transformed = df_transformed.withColumnRenamed(\"nome\",\"drug_source_value\")"
   ]
  },
  {
   "cell_type": "code",
   "execution_count": 28,
   "id": "e271d08a",
   "metadata": {},
   "outputs": [],
   "source": [
    "\"\"\"\n",
    "\n",
    "\n",
    "\n",
    "conceitos id por vacina\n",
    "\n",
    "coronavac concept id 702673 CVX\n",
    "\n",
    "astrazeneca concept id 724905 CVX\n",
    "\n",
    "pfizer  concept id  37003436  RxNorm\n",
    "\n",
    "jassen concept id  739906 RxNorm\n",
    "\n",
    "\"\"\"\n",
    "def vacina_to_conceito_id(vac,tipo_pfizer):  # usar para bancos de vacinacaod e 2023 em diante\n",
    "    if vac:\n",
    "        if vac == \"Vacina covid-19 - BNT162b2 - BioNTech/Fosun Pharma/Pfizer\":\n",
    "            if tipo_pfizer == \"pediatrica\":\n",
    "                return 702117\n",
    "            elif tipo_pfizer == \"pediatrica_menor_5\":\n",
    "                return 779947\n",
    "            return 37003436\n",
    "        elif vac == \"Vacina covid-19 - Ad26.COV2.S - Janssen-Cilag\":\n",
    "            return 739906\n",
    "        elif vac == \"Covid-19-Coronavac-Sinovac/Butantan\":\n",
    "            return 36941610\n",
    "        elif vac == \"Covid-19-AstraZeneca\":\n",
    "            return 724905\n",
    "        \n",
    "def vacina_to_conceito_id_2022(vac):  #usar para dados de vacinacao de 2022 e anterior\n",
    "    if vac:\n",
    "        if vac == \"Vacina covid-19 - BNT162b2 - BioNTech/Fosun Pharma/Pfizer\":\n",
    "          #  if tipo_pfizer == \"pediatrica\":\n",
    "          #      return 702117\n",
    "          #  elif tipo_pfizer == \"pediatrica_menor_5\":\n",
    "          #      return 779947\n",
    "            return 37003436\n",
    "        elif vac == \"Vacina covid-19 - Ad26.COV2.S - Janssen-Cilag\":\n",
    "            return 739906\n",
    "        elif vac == \"Covid-19-Coronavac-Sinovac/Butantan\":\n",
    "            return 36941610\n",
    "        elif vac == \"Covid-19-AstraZeneca\":\n",
    "            return 724905\n",
    "\n",
    "udf_vacina_to_conceito_id = F.udf(vacina_to_conceito_id,IntegerType())\n",
    "\n",
    "udf_vacina_to_conceito_id_2022= F.udf(vacina_to_conceito_id_2022,IntegerType())"
   ]
  },
  {
   "cell_type": "code",
   "execution_count": 29,
   "id": "1d0fb498",
   "metadata": {},
   "outputs": [
    {
     "name": "stderr",
     "output_type": "stream",
     "text": [
      "[Stage 60:>                                                         (0 + 1) / 1]\r"
     ]
    },
    {
     "name": "stdout",
     "output_type": "stream",
     "text": [
      "+---------------------------------------------------------+---------+\n",
      "|drug_source_value                                        |count    |\n",
      "+---------------------------------------------------------+---------+\n",
      "|Vacina covid-19 - BNT162b2 - BioNTech/Fosun Pharma/Pfizer|181277235|\n",
      "|Vacina covid-19 - Ad26.COV2.S - Janssen-Cilag            |25182248 |\n",
      "|Covid-19-Coronavac-Sinovac/Butantan                      |103615299|\n",
      "|Covid-19-AstraZeneca                                     |136059240|\n",
      "+---------------------------------------------------------+---------+\n",
      "\n"
     ]
    },
    {
     "name": "stderr",
     "output_type": "stream",
     "text": [
      "                                                                                \r"
     ]
    }
   ],
   "source": [
    "df_transformed.groupBy(\"drug_source_value\").count().orderBy(F.desc(\"drug_source_value\")).show(30,False)"
   ]
  },
  {
   "cell_type": "code",
   "execution_count": 30,
   "id": "79ece17f",
   "metadata": {
    "scrolled": true
   },
   "outputs": [
    {
     "name": "stdout",
     "output_type": "stream",
     "text": [
      "root\n",
      " |-- id_vigvac: long (nullable = true)\n",
      " |-- drug_source_value: string (nullable = true)\n",
      " |-- drug_exposure_start_date: date (nullable = true)\n",
      " |-- drug_exposure_end_datetime: date (nullable = true)\n",
      " |-- drug_type_concept_id: string (nullable = false)\n",
      "\n"
     ]
    }
   ],
   "source": [
    "df_transformed.printSchema()"
   ]
  },
  {
   "cell_type": "code",
   "execution_count": 31,
   "id": "14387ffc",
   "metadata": {},
   "outputs": [],
   "source": [
    "df_transformed = df_transformed.withColumn(\"drug_concept_id\",udf_vacina_to_conceito_id_2022(\"drug_source_value\") )"
   ]
  },
  {
   "cell_type": "code",
   "execution_count": 32,
   "id": "3ac9087a",
   "metadata": {},
   "outputs": [
    {
     "name": "stderr",
     "output_type": "stream",
     "text": [
      "[Stage 66:>                                                         (0 + 1) / 1]\r"
     ]
    },
    {
     "name": "stdout",
     "output_type": "stream",
     "text": [
      "+---------------+---------------------------------------------------------+---------+\n",
      "|drug_concept_id|drug_source_value                                        |count    |\n",
      "+---------------+---------------------------------------------------------+---------+\n",
      "|37003436       |Vacina covid-19 - BNT162b2 - BioNTech/Fosun Pharma/Pfizer|181277235|\n",
      "|36941610       |Covid-19-Coronavac-Sinovac/Butantan                      |103615299|\n",
      "|739906         |Vacina covid-19 - Ad26.COV2.S - Janssen-Cilag            |25182248 |\n",
      "|724905         |Covid-19-AstraZeneca                                     |136059240|\n",
      "+---------------+---------------------------------------------------------+---------+\n",
      "\n"
     ]
    },
    {
     "name": "stderr",
     "output_type": "stream",
     "text": [
      "                                                                                \r"
     ]
    }
   ],
   "source": [
    "df_transformed.groupBy(\"drug_concept_id\",\"drug_source_value\").count().orderBy(F.desc(\"drug_concept_id\")).show(30,False)"
   ]
  },
  {
   "cell_type": "code",
   "execution_count": 33,
   "id": "c7966c85-18b3-4b1a-abad-5eb3162616f4",
   "metadata": {},
   "outputs": [
    {
     "name": "stderr",
     "output_type": "stream",
     "text": [
      "[Stage 69:>                                                         (0 + 1) / 1]\r"
     ]
    },
    {
     "name": "stdout",
     "output_type": "stream",
     "text": [
      "+---------+---------------------------------------------------------+------------------------+--------------------------+--------------------+---------------+\n",
      "|id_vigvac|drug_source_value                                        |drug_exposure_start_date|drug_exposure_end_datetime|drug_type_concept_id|drug_concept_id|\n",
      "+---------+---------------------------------------------------------+------------------------+--------------------------+--------------------+---------------+\n",
      "|26       |Covid-19-Coronavac-Sinovac/Butantan                      |2022-03-16              |2022-03-16                |32818               |36941610       |\n",
      "|29       |Vacina covid-19 - BNT162b2 - BioNTech/Fosun Pharma/Pfizer|2021-08-20              |2021-08-20                |32818               |37003436       |\n",
      "|29       |Vacina covid-19 - BNT162b2 - BioNTech/Fosun Pharma/Pfizer|2021-11-04              |2021-11-04                |32818               |37003436       |\n",
      "|474      |Vacina covid-19 - BNT162b2 - BioNTech/Fosun Pharma/Pfizer|2021-10-06              |2021-10-06                |32818               |37003436       |\n",
      "|474      |Vacina covid-19 - BNT162b2 - BioNTech/Fosun Pharma/Pfizer|2021-12-03              |2021-12-03                |32818               |37003436       |\n",
      "|964      |Covid-19-AstraZeneca                                     |2021-07-09              |2021-07-09                |32818               |724905         |\n",
      "|964      |Vacina covid-19 - BNT162b2 - BioNTech/Fosun Pharma/Pfizer|2021-10-02              |2021-10-02                |32818               |37003436       |\n",
      "|1677     |Covid-19-Coronavac-Sinovac/Butantan                      |2021-02-02              |2021-02-02                |32818               |36941610       |\n",
      "|1677     |Covid-19-Coronavac-Sinovac/Butantan                      |2021-02-25              |2021-02-25                |32818               |36941610       |\n",
      "|1677     |Vacina covid-19 - BNT162b2 - BioNTech/Fosun Pharma/Pfizer|2021-10-16              |2021-10-16                |32818               |37003436       |\n",
      "|1697     |Vacina covid-19 - BNT162b2 - BioNTech/Fosun Pharma/Pfizer|2021-05-28              |2021-05-28                |32818               |37003436       |\n",
      "|1697     |Vacina covid-19 - BNT162b2 - BioNTech/Fosun Pharma/Pfizer|2021-08-13              |2021-08-13                |32818               |37003436       |\n",
      "|1806     |Vacina covid-19 - BNT162b2 - BioNTech/Fosun Pharma/Pfizer|2021-09-15              |2021-09-15                |32818               |37003436       |\n",
      "|1806     |Vacina covid-19 - BNT162b2 - BioNTech/Fosun Pharma/Pfizer|2021-12-13              |2021-12-13                |32818               |37003436       |\n",
      "|1950     |Vacina covid-19 - BNT162b2 - BioNTech/Fosun Pharma/Pfizer|2021-09-10              |2021-09-10                |32818               |37003436       |\n",
      "|1950     |Vacina covid-19 - BNT162b2 - BioNTech/Fosun Pharma/Pfizer|2021-11-29              |2021-11-29                |32818               |37003436       |\n",
      "|1950     |Covid-19-Coronavac-Sinovac/Butantan                      |2022-06-06              |2022-06-06                |32818               |36941610       |\n",
      "|2040     |Covid-19-AstraZeneca                                     |2021-05-04              |2021-05-04                |32818               |724905         |\n",
      "|2040     |Covid-19-AstraZeneca                                     |2021-07-27              |2021-07-27                |32818               |724905         |\n",
      "|2040     |Vacina covid-19 - BNT162b2 - BioNTech/Fosun Pharma/Pfizer|2021-12-15              |2021-12-15                |32818               |37003436       |\n",
      "|2040     |Covid-19-AstraZeneca                                     |2022-04-29              |2022-04-29                |32818               |724905         |\n",
      "|2214     |Covid-19-AstraZeneca                                     |2021-06-16              |2021-06-16                |32818               |724905         |\n",
      "|2214     |Covid-19-AstraZeneca                                     |2021-09-16              |2021-09-16                |32818               |724905         |\n",
      "|2214     |Covid-19-Coronavac-Sinovac/Butantan                      |2021-12-07              |2021-12-07                |32818               |36941610       |\n",
      "|2250     |Covid-19-Coronavac-Sinovac/Butantan                      |2021-03-05              |2021-03-05                |32818               |36941610       |\n",
      "|2453     |Covid-19-Coronavac-Sinovac/Butantan                      |2021-08-09              |2021-08-09                |32818               |36941610       |\n",
      "|2509     |Covid-19-Coronavac-Sinovac/Butantan                      |2021-02-19              |2021-02-19                |32818               |36941610       |\n",
      "|2509     |Covid-19-Coronavac-Sinovac/Butantan                      |2021-03-20              |2021-03-20                |32818               |36941610       |\n",
      "|2509     |Vacina covid-19 - BNT162b2 - BioNTech/Fosun Pharma/Pfizer|2022-02-03              |2022-02-03                |32818               |37003436       |\n",
      "|2529     |Vacina covid-19 - BNT162b2 - BioNTech/Fosun Pharma/Pfizer|2021-08-09              |2021-08-09                |32818               |37003436       |\n",
      "|2529     |Vacina covid-19 - BNT162b2 - BioNTech/Fosun Pharma/Pfizer|2021-10-26              |2021-10-26                |32818               |37003436       |\n",
      "|2927     |Covid-19-AstraZeneca                                     |2021-07-08              |2021-07-08                |32818               |724905         |\n",
      "|2927     |Covid-19-AstraZeneca                                     |2022-03-17              |2022-03-17                |32818               |724905         |\n",
      "|3091     |Covid-19-AstraZeneca                                     |2021-02-10              |2021-02-10                |32818               |724905         |\n",
      "|3091     |Covid-19-AstraZeneca                                     |2021-05-14              |2021-05-14                |32818               |724905         |\n",
      "|3506     |Covid-19-Coronavac-Sinovac/Butantan                      |2021-03-31              |2021-03-31                |32818               |36941610       |\n",
      "|3506     |Vacina covid-19 - BNT162b2 - BioNTech/Fosun Pharma/Pfizer|2021-09-30              |2021-09-30                |32818               |37003436       |\n",
      "|3764     |Vacina covid-19 - BNT162b2 - BioNTech/Fosun Pharma/Pfizer|2022-02-16              |2022-02-16                |32818               |37003436       |\n",
      "|4590     |Covid-19-AstraZeneca                                     |2021-05-17              |2021-05-17                |32818               |724905         |\n",
      "|4590     |Covid-19-AstraZeneca                                     |2021-08-10              |2021-08-10                |32818               |724905         |\n",
      "|4590     |Vacina covid-19 - Ad26.COV2.S - Janssen-Cilag            |2022-02-11              |2022-02-11                |32818               |739906         |\n",
      "|4823     |Covid-19-Coronavac-Sinovac/Butantan                      |2021-10-15              |2021-10-15                |32818               |36941610       |\n",
      "|4894     |Covid-19-Coronavac-Sinovac/Butantan                      |2021-07-30              |2021-07-30                |32818               |36941610       |\n",
      "|4894     |Covid-19-Coronavac-Sinovac/Butantan                      |2021-10-01              |2021-10-01                |32818               |36941610       |\n",
      "|5385     |Vacina covid-19 - BNT162b2 - BioNTech/Fosun Pharma/Pfizer|2021-09-18              |2021-09-18                |32818               |37003436       |\n",
      "|5385     |Vacina covid-19 - BNT162b2 - BioNTech/Fosun Pharma/Pfizer|2021-11-19              |2021-11-19                |32818               |37003436       |\n",
      "|5385     |Covid-19-Coronavac-Sinovac/Butantan                      |2022-06-27              |2022-06-27                |32818               |36941610       |\n",
      "|5409     |Vacina covid-19 - BNT162b2 - BioNTech/Fosun Pharma/Pfizer|2021-09-28              |2021-09-28                |32818               |37003436       |\n",
      "|5556     |Covid-19-AstraZeneca                                     |2021-05-03              |2021-05-03                |32818               |724905         |\n",
      "|5556     |Covid-19-AstraZeneca                                     |2021-07-26              |2021-07-26                |32818               |724905         |\n",
      "|5556     |Vacina covid-19 - BNT162b2 - BioNTech/Fosun Pharma/Pfizer|2022-01-14              |2022-01-14                |32818               |37003436       |\n",
      "|6721     |Covid-19-AstraZeneca                                     |2021-07-05              |2021-07-05                |32818               |724905         |\n",
      "|6721     |Covid-19-AstraZeneca                                     |2021-09-28              |2021-09-28                |32818               |724905         |\n",
      "|6721     |Vacina covid-19 - Ad26.COV2.S - Janssen-Cilag            |2022-03-02              |2022-03-02                |32818               |739906         |\n",
      "|7225     |Covid-19-AstraZeneca                                     |2021-05-05              |2021-05-05                |32818               |724905         |\n",
      "|7225     |Covid-19-AstraZeneca                                     |2021-07-28              |2021-07-28                |32818               |724905         |\n",
      "|7225     |Vacina covid-19 - BNT162b2 - BioNTech/Fosun Pharma/Pfizer|2021-12-28              |2021-12-28                |32818               |37003436       |\n",
      "|7279     |Covid-19-AstraZeneca                                     |2021-04-29              |2021-04-29                |32818               |724905         |\n",
      "|7279     |Covid-19-AstraZeneca                                     |2021-07-22              |2021-07-22                |32818               |724905         |\n",
      "|7279     |Vacina covid-19 - BNT162b2 - BioNTech/Fosun Pharma/Pfizer|2022-03-12              |2022-03-12                |32818               |37003436       |\n",
      "|7747     |Covid-19-Coronavac-Sinovac/Butantan                      |2021-08-10              |2021-08-10                |32818               |36941610       |\n",
      "|7747     |Covid-19-Coronavac-Sinovac/Butantan                      |2021-10-01              |2021-10-01                |32818               |36941610       |\n",
      "|8075     |Covid-19-Coronavac-Sinovac/Butantan                      |2021-07-23              |2021-07-23                |32818               |36941610       |\n",
      "|8075     |Covid-19-Coronavac-Sinovac/Butantan                      |2021-08-20              |2021-08-20                |32818               |36941610       |\n",
      "|8075     |Covid-19-AstraZeneca                                     |2022-06-27              |2022-06-27                |32818               |724905         |\n",
      "|8440     |Covid-19-AstraZeneca                                     |2021-04-24              |2021-04-24                |32818               |724905         |\n",
      "|8440     |Covid-19-AstraZeneca                                     |2021-06-24              |2021-06-24                |32818               |724905         |\n",
      "|8440     |Vacina covid-19 - BNT162b2 - BioNTech/Fosun Pharma/Pfizer|2021-11-30              |2021-11-30                |32818               |37003436       |\n",
      "|8440     |Vacina covid-19 - Ad26.COV2.S - Janssen-Cilag            |2022-06-08              |2022-06-08                |32818               |739906         |\n",
      "|8484     |Covid-19-AstraZeneca                                     |2021-04-22              |2021-04-22                |32818               |724905         |\n",
      "|8484     |Covid-19-AstraZeneca                                     |2021-07-16              |2021-07-16                |32818               |724905         |\n",
      "|9233     |Covid-19-AstraZeneca                                     |2021-06-01              |2021-06-01                |32818               |724905         |\n",
      "|9233     |Covid-19-AstraZeneca                                     |2021-08-27              |2021-08-27                |32818               |724905         |\n",
      "|9233     |Vacina covid-19 - BNT162b2 - BioNTech/Fosun Pharma/Pfizer|2021-12-27              |2021-12-27                |32818               |37003436       |\n",
      "|9233     |Covid-19-AstraZeneca                                     |2022-06-24              |2022-06-24                |32818               |724905         |\n",
      "|9458     |Covid-19-AstraZeneca                                     |2021-07-05              |2021-07-05                |32818               |724905         |\n",
      "|9458     |Vacina covid-19 - BNT162b2 - BioNTech/Fosun Pharma/Pfizer|2021-09-27              |2021-09-27                |32818               |37003436       |\n",
      "|9458     |Vacina covid-19 - BNT162b2 - BioNTech/Fosun Pharma/Pfizer|2022-02-17              |2022-02-17                |32818               |37003436       |\n",
      "|9715     |Covid-19-Coronavac-Sinovac/Butantan                      |2021-02-15              |2021-02-15                |32818               |36941610       |\n",
      "|9715     |Covid-19-Coronavac-Sinovac/Butantan                      |2021-03-09              |2021-03-09                |32818               |36941610       |\n",
      "|9715     |Vacina covid-19 - BNT162b2 - BioNTech/Fosun Pharma/Pfizer|2021-11-25              |2021-11-25                |32818               |37003436       |\n",
      "|9945     |Covid-19-Coronavac-Sinovac/Butantan                      |2021-10-15              |2021-10-15                |32818               |36941610       |\n",
      "|9945     |Covid-19-Coronavac-Sinovac/Butantan                      |2021-11-12              |2021-11-12                |32818               |36941610       |\n",
      "|9968     |Covid-19-Coronavac-Sinovac/Butantan                      |2021-09-02              |2021-09-02                |32818               |36941610       |\n",
      "|9968     |Covid-19-Coronavac-Sinovac/Butantan                      |2021-09-20              |2021-09-20                |32818               |36941610       |\n",
      "|9968     |Covid-19-AstraZeneca                                     |2022-03-11              |2022-03-11                |32818               |724905         |\n",
      "|9978     |Covid-19-AstraZeneca                                     |2021-07-02              |2021-07-02                |32818               |724905         |\n",
      "|10156    |Covid-19-Coronavac-Sinovac/Butantan                      |2021-02-11              |2021-02-11                |32818               |36941610       |\n",
      "|10156    |Covid-19-Coronavac-Sinovac/Butantan                      |2021-03-11              |2021-03-11                |32818               |36941610       |\n",
      "|10156    |Vacina covid-19 - BNT162b2 - BioNTech/Fosun Pharma/Pfizer|2021-10-14              |2021-10-14                |32818               |37003436       |\n",
      "|10422    |Covid-19-AstraZeneca                                     |2021-08-07              |2021-08-07                |32818               |724905         |\n",
      "|10422    |Covid-19-AstraZeneca                                     |2021-10-30              |2021-10-30                |32818               |724905         |\n",
      "|10422    |Vacina covid-19 - BNT162b2 - BioNTech/Fosun Pharma/Pfizer|2022-02-23              |2022-02-23                |32818               |37003436       |\n",
      "|10871    |Covid-19-AstraZeneca                                     |2021-07-23              |2021-07-23                |32818               |724905         |\n",
      "|10871    |Covid-19-AstraZeneca                                     |2021-10-06              |2021-10-06                |32818               |724905         |\n",
      "|10959    |Covid-19-AstraZeneca                                     |2021-05-06              |2021-05-06                |32818               |724905         |\n",
      "|10959    |Covid-19-AstraZeneca                                     |2021-07-29              |2021-07-29                |32818               |724905         |\n",
      "|10959    |Vacina covid-19 - BNT162b2 - BioNTech/Fosun Pharma/Pfizer|2022-01-08              |2022-01-08                |32818               |37003436       |\n",
      "|11190    |Covid-19-Coronavac-Sinovac/Butantan                      |2021-08-16              |2021-08-16                |32818               |36941610       |\n",
      "|11190    |Covid-19-Coronavac-Sinovac/Butantan                      |2021-09-20              |2021-09-20                |32818               |36941610       |\n",
      "+---------+---------------------------------------------------------+------------------------+--------------------------+--------------------+---------------+\n",
      "only showing top 100 rows\n",
      "\n"
     ]
    },
    {
     "name": "stderr",
     "output_type": "stream",
     "text": [
      "                                                                                \r"
     ]
    }
   ],
   "source": [
    "df_transformed.show(100,False)"
   ]
  },
  {
   "cell_type": "code",
   "execution_count": 26,
   "id": "cfdb29d0",
   "metadata": {},
   "outputs": [],
   "source": [
    "#df_transformed_v2 = df_transformed.drop(\"tipo\")"
   ]
  },
  {
   "cell_type": "code",
   "execution_count": 34,
   "id": "179ce70b",
   "metadata": {},
   "outputs": [
    {
     "name": "stdout",
     "output_type": "stream",
     "text": [
      "root\n",
      " |-- id_vigvac: long (nullable = true)\n",
      " |-- drug_source_value: string (nullable = true)\n",
      " |-- drug_exposure_start_date: date (nullable = true)\n",
      " |-- drug_exposure_end_datetime: date (nullable = true)\n",
      " |-- drug_type_concept_id: string (nullable = false)\n",
      " |-- drug_concept_id: integer (nullable = true)\n",
      "\n"
     ]
    }
   ],
   "source": [
    "df_transformed.printSchema()"
   ]
  },
  {
   "cell_type": "code",
   "execution_count": 35,
   "id": "31dade04",
   "metadata": {},
   "outputs": [],
   "source": [
    "pacientes_v6 = spark.read.parquet(\"/dados10t/datalake/standard/omop/tabelas_omop_cmd_5.4_v1/tb_person.parquet/\")"
   ]
  },
  {
   "cell_type": "code",
   "execution_count": 36,
   "id": "476c00d1",
   "metadata": {},
   "outputs": [
    {
     "name": "stdout",
     "output_type": "stream",
     "text": [
      "root\n",
      " |-- raca: string (nullable = true)\n",
      " |-- sexo: string (nullable = true)\n",
      " |-- id_vigvac: long (nullable = true)\n",
      " |-- gender_source_value: string (nullable = true)\n",
      " |-- race_source_value: string (nullable = true)\n",
      " |-- gender_concept_id: string (nullable = true)\n",
      " |-- race_concept_id: string (nullable = true)\n",
      " |-- year_of_birth: long (nullable = true)\n",
      " |-- month_of_birth: long (nullable = true)\n",
      " |-- day_of_birth: long (nullable = true)\n",
      " |-- birth_datetime: timestamp (nullable = true)\n",
      " |-- ethnicity_concept_id: string (nullable = true)\n",
      " |-- person_id: long (nullable = true)\n",
      "\n"
     ]
    }
   ],
   "source": [
    "pacientes_v6.printSchema()"
   ]
  },
  {
   "cell_type": "code",
   "execution_count": 37,
   "id": "326e1ec8",
   "metadata": {},
   "outputs": [
    {
     "name": "stderr",
     "output_type": "stream",
     "text": [
      "[Stage 71:======================================================> (33 + 1) / 34]\r"
     ]
    },
    {
     "name": "stdout",
     "output_type": "stream",
     "text": [
      "+-------+--------------------+\n",
      "|summary|           person_id|\n",
      "+-------+--------------------+\n",
      "|  count|           188537327|\n",
      "|   mean|         9.4268663E7|\n",
      "| stddev|5.4426038392208815E7|\n",
      "|    min|                   0|\n",
      "|    max|           188537326|\n",
      "+-------+--------------------+\n",
      "\n"
     ]
    },
    {
     "name": "stderr",
     "output_type": "stream",
     "text": [
      "                                                                                \r"
     ]
    }
   ],
   "source": [
    "pacientes_v6.describe(\"person_id\").show()"
   ]
  },
  {
   "cell_type": "code",
   "execution_count": 39,
   "id": "c0fc0d12",
   "metadata": {},
   "outputs": [],
   "source": [
    "pacientes_join = pacientes_v6.select(\"person_id\",\"id_vigvac\")"
   ]
  },
  {
   "cell_type": "code",
   "execution_count": 50,
   "id": "e851a2c3",
   "metadata": {},
   "outputs": [],
   "source": [
    "pacientes_join = pacientes_join.withColumnRenamed(\"id_vigvac\",\"id_vigivac\")"
   ]
  },
  {
   "cell_type": "code",
   "execution_count": 51,
   "id": "236fc79f",
   "metadata": {},
   "outputs": [
    {
     "name": "stdout",
     "output_type": "stream",
     "text": [
      "root\n",
      " |-- person_id: long (nullable = true)\n",
      " |-- id_vigivac: long (nullable = true)\n",
      "\n"
     ]
    }
   ],
   "source": [
    "pacientes_join.printSchema()"
   ]
  },
  {
   "cell_type": "code",
   "execution_count": null,
   "id": "2dab5a36",
   "metadata": {},
   "outputs": [],
   "source": []
  },
  {
   "cell_type": "code",
   "execution_count": 41,
   "id": "219d3b14",
   "metadata": {},
   "outputs": [],
   "source": [
    "df_transformed_v2 = df_transformed.withColumnRenamed(\"id_vigvac\",\"id_vigivac\")"
   ]
  },
  {
   "cell_type": "code",
   "execution_count": 42,
   "id": "faa0f032",
   "metadata": {},
   "outputs": [
    {
     "name": "stdout",
     "output_type": "stream",
     "text": [
      "root\n",
      " |-- id_vigivac: long (nullable = true)\n",
      " |-- drug_source_value: string (nullable = true)\n",
      " |-- drug_exposure_start_date: date (nullable = true)\n",
      " |-- drug_exposure_end_datetime: date (nullable = true)\n",
      " |-- drug_type_concept_id: string (nullable = false)\n",
      " |-- drug_concept_id: integer (nullable = true)\n",
      "\n"
     ]
    }
   ],
   "source": [
    "df_transformed_v2.printSchema()"
   ]
  },
  {
   "cell_type": "code",
   "execution_count": 43,
   "id": "cd4e4de4",
   "metadata": {},
   "outputs": [
    {
     "name": "stderr",
     "output_type": "stream",
     "text": [
      "                                                                                \r"
     ]
    },
    {
     "data": {
      "text/plain": [
       "446134022"
      ]
     },
     "execution_count": 43,
     "metadata": {},
     "output_type": "execute_result"
    }
   ],
   "source": [
    "df_transformed_v2.count() #446134022"
   ]
  },
  {
   "cell_type": "code",
   "execution_count": 44,
   "id": "b48737cd",
   "metadata": {},
   "outputs": [
    {
     "name": "stderr",
     "output_type": "stream",
     "text": [
      "                                                                                \r"
     ]
    },
    {
     "data": {
      "text/plain": [
       "188537327"
      ]
     },
     "execution_count": 44,
     "metadata": {},
     "output_type": "execute_result"
    }
   ],
   "source": [
    "pacientes_join.count() #187634532"
   ]
  },
  {
   "cell_type": "code",
   "execution_count": 52,
   "id": "59fb9121",
   "metadata": {},
   "outputs": [
    {
     "name": "stderr",
     "output_type": "stream",
     "text": [
      "                                                                                \r"
     ]
    }
   ],
   "source": [
    "df_transformed_v3 = df_transformed_v2.join(pacientes_join,['id_vigivac'],'inner').checkpoint()"
   ]
  },
  {
   "cell_type": "code",
   "execution_count": 53,
   "id": "21ebf3e8",
   "metadata": {},
   "outputs": [
    {
     "name": "stderr",
     "output_type": "stream",
     "text": [
      "                                                                                \r"
     ]
    },
    {
     "data": {
      "text/plain": [
       "446134022"
      ]
     },
     "execution_count": 53,
     "metadata": {},
     "output_type": "execute_result"
    }
   ],
   "source": [
    "df_transformed_v3.count() #446124123"
   ]
  },
  {
   "cell_type": "code",
   "execution_count": 54,
   "id": "d17422a8",
   "metadata": {},
   "outputs": [
    {
     "data": {
      "text/plain": [
       "[Row(id_vigvac=463856468018, n_vacina='d1_data_aplicacao', data_aplicacao=datetime.date(2021, 2, 22), visit_occurrence_id=85386823),\n",
       " Row(id_vigvac=463856468099, n_vacina='d2_data_aplicacao', data_aplicacao=datetime.date(2021, 8, 16), visit_occurrence_id=85387026)]"
      ]
     },
     "execution_count": 54,
     "metadata": {},
     "output_type": "execute_result"
    }
   ],
   "source": [
    "#vac_join = vac.select(\"id_vigvac\",\"n_vacina\",\"data_aplicacao\",\"visit_occurrence_id\")\n",
    "vac_join.take(2)"
   ]
  },
  {
   "cell_type": "code",
   "execution_count": 55,
   "id": "99aa552a",
   "metadata": {},
   "outputs": [],
   "source": [
    "vac_join = vac_join.withColumnRenamed(\"data_aplicacao\",\"drug_exposure_start_date\")\n"
   ]
  },
  {
   "cell_type": "code",
   "execution_count": 57,
   "id": "c3598f21",
   "metadata": {},
   "outputs": [
    {
     "name": "stdout",
     "output_type": "stream",
     "text": [
      "root\n",
      " |-- id_vigvac: long (nullable = true)\n",
      " |-- n_vacina: string (nullable = true)\n",
      " |-- drug_exposure_start_date: date (nullable = true)\n",
      " |-- visit_occurrence_id: integer (nullable = true)\n",
      "\n"
     ]
    }
   ],
   "source": [
    "vac_join.printSchema()"
   ]
  },
  {
   "cell_type": "code",
   "execution_count": 60,
   "id": "410316af",
   "metadata": {},
   "outputs": [],
   "source": [
    "vac_join = vac_join.withColumnRenamed(\"id_vigvac\",\"id_vigivac\")"
   ]
  },
  {
   "cell_type": "code",
   "execution_count": 61,
   "id": "f6f90684",
   "metadata": {},
   "outputs": [],
   "source": [
    "df_transformed_v4 = df_transformed_v3.join(vac_join ,['id_vigivac','drug_exposure_start_date']  , 'inner')"
   ]
  },
  {
   "cell_type": "code",
   "execution_count": 62,
   "id": "1488976a",
   "metadata": {},
   "outputs": [
    {
     "name": "stderr",
     "output_type": "stream",
     "text": [
      "                                                                                \r"
     ]
    },
    {
     "data": {
      "text/plain": [
       "446134022"
      ]
     },
     "execution_count": 62,
     "metadata": {},
     "output_type": "execute_result"
    }
   ],
   "source": [
    "df_transformed_v4.count()"
   ]
  },
  {
   "cell_type": "code",
   "execution_count": 63,
   "id": "7334df36",
   "metadata": {},
   "outputs": [],
   "source": [
    "df_transformed_v4 = df_transformed_v4.withColumn(\"person_id\",F.col(\"person_id\").cast(IntegerType()) )"
   ]
  },
  {
   "cell_type": "code",
   "execution_count": 64,
   "id": "f3dccef3",
   "metadata": {},
   "outputs": [
    {
     "name": "stderr",
     "output_type": "stream",
     "text": [
      "                                                                                \r"
     ]
    },
    {
     "data": {
      "text/plain": [
       "446134022"
      ]
     },
     "execution_count": 64,
     "metadata": {},
     "output_type": "execute_result"
    }
   ],
   "source": [
    "df_transformed_v4.select(\"visit_occurrence_id\").distinct().count()"
   ]
  },
  {
   "cell_type": "code",
   "execution_count": 65,
   "id": "2fdba78b",
   "metadata": {},
   "outputs": [],
   "source": [
    "#abs(446124123 - 446124123)"
   ]
  },
  {
   "cell_type": "code",
   "execution_count": 66,
   "id": "6201f566",
   "metadata": {},
   "outputs": [
    {
     "name": "stdout",
     "output_type": "stream",
     "text": [
      "root\n",
      " |-- id_vigivac: long (nullable = true)\n",
      " |-- drug_exposure_start_date: date (nullable = true)\n",
      " |-- drug_source_value: string (nullable = true)\n",
      " |-- drug_exposure_end_datetime: date (nullable = true)\n",
      " |-- drug_type_concept_id: string (nullable = false)\n",
      " |-- drug_concept_id: integer (nullable = true)\n",
      " |-- person_id: integer (nullable = true)\n",
      " |-- n_vacina: string (nullable = true)\n",
      " |-- visit_occurrence_id: integer (nullable = true)\n",
      "\n"
     ]
    }
   ],
   "source": [
    "df_transformed_v4.printSchema()"
   ]
  },
  {
   "cell_type": "code",
   "execution_count": 67,
   "id": "3f45cd15",
   "metadata": {},
   "outputs": [],
   "source": [
    "df_transformed_v5 = df_transformed_v4.drop(\"id_vigivac\",\"n_vacina\")"
   ]
  },
  {
   "cell_type": "code",
   "execution_count": 68,
   "id": "39c88259",
   "metadata": {},
   "outputs": [
    {
     "name": "stdout",
     "output_type": "stream",
     "text": [
      "root\n",
      " |-- drug_exposure_start_date: date (nullable = true)\n",
      " |-- drug_source_value: string (nullable = true)\n",
      " |-- drug_exposure_end_datetime: date (nullable = true)\n",
      " |-- drug_type_concept_id: string (nullable = false)\n",
      " |-- drug_concept_id: integer (nullable = true)\n",
      " |-- person_id: integer (nullable = true)\n",
      " |-- visit_occurrence_id: integer (nullable = true)\n",
      "\n"
     ]
    }
   ],
   "source": [
    "df_transformed_v5.printSchema()"
   ]
  },
  {
   "cell_type": "code",
   "execution_count": 69,
   "id": "47ceac2b",
   "metadata": {},
   "outputs": [],
   "source": [
    "import time\n",
    "start = time.time()"
   ]
  },
  {
   "cell_type": "code",
   "execution_count": 70,
   "id": "6dd7f6bf",
   "metadata": {},
   "outputs": [
    {
     "name": "stderr",
     "output_type": "stream",
     "text": [
      "                                                                                \r"
     ]
    }
   ],
   "source": [
    "df_transformed_v6 = df_transformed_v5.rdd.zipWithIndex().toDF().select(F.col(\"_1.*\"),F.col(\"_2\").alias('drug_exposure_id'))"
   ]
  },
  {
   "cell_type": "code",
   "execution_count": 71,
   "id": "adcce56a",
   "metadata": {},
   "outputs": [
    {
     "name": "stdout",
     "output_type": "stream",
     "text": [
      "350.66943430900574\n"
     ]
    }
   ],
   "source": [
    "end = time.time()\n",
    "print(end - start)"
   ]
  },
  {
   "cell_type": "code",
   "execution_count": null,
   "id": "74f3d538",
   "metadata": {},
   "outputs": [],
   "source": []
  },
  {
   "cell_type": "code",
   "execution_count": 72,
   "id": "a70f264e",
   "metadata": {},
   "outputs": [],
   "source": [
    "#df_transformed_v5= df_transformed_v5.withColumn(\"new_column\",F.lit(\"ABC\"))\n",
    "#w = Window().partitionBy('new_column').orderBy(F.lit('A'))\n",
    "#df_transformed_v6 = df_transformed_v5.withColumn(\"drug_exposure_id\",F.row_number().over(w)).drop(\"new_column\")"
   ]
  },
  {
   "cell_type": "code",
   "execution_count": 73,
   "id": "524c5c1f",
   "metadata": {},
   "outputs": [
    {
     "name": "stdout",
     "output_type": "stream",
     "text": [
      "root\n",
      " |-- drug_exposure_start_date: date (nullable = true)\n",
      " |-- drug_source_value: string (nullable = true)\n",
      " |-- drug_exposure_end_datetime: date (nullable = true)\n",
      " |-- drug_type_concept_id: string (nullable = true)\n",
      " |-- drug_concept_id: long (nullable = true)\n",
      " |-- person_id: long (nullable = true)\n",
      " |-- visit_occurrence_id: long (nullable = true)\n",
      " |-- drug_exposure_id: long (nullable = true)\n",
      "\n"
     ]
    }
   ],
   "source": [
    "df_transformed_v6.printSchema()"
   ]
  },
  {
   "cell_type": "code",
   "execution_count": 74,
   "id": "fc6ee855",
   "metadata": {},
   "outputs": [],
   "source": [
    "df_transformed_v6 = df_transformed_v6.withColumn(\"drug_exposure_id\",F.col(\"drug_exposure_id\").cast(IntegerType()) )"
   ]
  },
  {
   "cell_type": "code",
   "execution_count": null,
   "id": "a3dc3e5e",
   "metadata": {},
   "outputs": [],
   "source": []
  },
  {
   "cell_type": "code",
   "execution_count": 75,
   "id": "de9b74c2",
   "metadata": {},
   "outputs": [
    {
     "name": "stderr",
     "output_type": "stream",
     "text": [
      "                                                                                \r"
     ]
    }
   ],
   "source": [
    "df_transformed_v6.write.parquet(\"/dados10t/datalake/standard/omop/tabelas_omop_cmd_5.4_v1/tb_drug_exposure_v6.parquet\")"
   ]
  },
  {
   "cell_type": "code",
   "execution_count": 76,
   "id": "e393a423",
   "metadata": {},
   "outputs": [],
   "source": [
    "check = spark.read.parquet(\"/dados10t/datalake/standard/omop/tabelas_omop_cmd_5.4_v1/tb_drug_exposure_v6.parquet/\")"
   ]
  },
  {
   "cell_type": "code",
   "execution_count": 77,
   "id": "e3ad47ce",
   "metadata": {},
   "outputs": [
    {
     "name": "stderr",
     "output_type": "stream",
     "text": [
      "                                                                                \r"
     ]
    },
    {
     "data": {
      "text/plain": [
       "446134022"
      ]
     },
     "execution_count": 77,
     "metadata": {},
     "output_type": "execute_result"
    }
   ],
   "source": [
    "check.count()"
   ]
  },
  {
   "cell_type": "code",
   "execution_count": 78,
   "id": "b9272269",
   "metadata": {},
   "outputs": [
    {
     "name": "stdout",
     "output_type": "stream",
     "text": [
      "root\n",
      " |-- drug_exposure_start_date: date (nullable = true)\n",
      " |-- drug_source_value: string (nullable = true)\n",
      " |-- drug_exposure_end_datetime: date (nullable = true)\n",
      " |-- drug_type_concept_id: string (nullable = true)\n",
      " |-- drug_concept_id: long (nullable = true)\n",
      " |-- person_id: long (nullable = true)\n",
      " |-- visit_occurrence_id: long (nullable = true)\n",
      " |-- drug_exposure_id: integer (nullable = true)\n",
      "\n"
     ]
    }
   ],
   "source": [
    "check.printSchema()"
   ]
  },
  {
   "cell_type": "code",
   "execution_count": 53,
   "id": "a1fc4fd9",
   "metadata": {},
   "outputs": [],
   "source": []
  }
 ],
 "metadata": {
  "kernelspec": {
   "display_name": "Python 3",
   "language": "python",
   "name": "python3"
  },
  "language_info": {
   "codemirror_mode": {
    "name": "ipython",
    "version": 3
   },
   "file_extension": ".py",
   "mimetype": "text/x-python",
   "name": "python",
   "nbconvert_exporter": "python",
   "pygments_lexer": "ipython3",
   "version": "3.8.5"
  }
 },
 "nbformat": 4,
 "nbformat_minor": 5
}
