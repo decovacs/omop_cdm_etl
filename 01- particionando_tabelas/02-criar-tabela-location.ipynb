{
 "cells": [
  {
   "cell_type": "code",
   "execution_count": 22,
   "id": "97bc2503",
   "metadata": {},
   "outputs": [
    {
     "data": {
      "text/html": [
       "<style>.container { width:100% !important; }</style>"
      ],
      "text/plain": [
       "<IPython.core.display.HTML object>"
      ]
     },
     "metadata": {},
     "output_type": "display_data"
    }
   ],
   "source": [
    "from IPython.core.display import display, HTML\n",
    "display(HTML(\"<style>.container { width:100% !important; }</style>\"))\n",
    "from pyspark.sql import functions as F\n",
    "import glob\n",
    "from pyspark.sql.types import *"
   ]
  },
  {
   "cell_type": "code",
   "execution_count": 2,
   "id": "b2cc8bf1",
   "metadata": {},
   "outputs": [
    {
     "name": "stderr",
     "output_type": "stream",
     "text": [
      "                                                                                \r"
     ]
    }
   ],
   "source": [
    "municipios_br = spark.read.csv(\"/home/juracy.santos/dados/lista_municipios_brasil.csv\",sep=\",\",header=True,inferSchema=False)"
   ]
  },
  {
   "cell_type": "code",
   "execution_count": null,
   "id": "65b9db50",
   "metadata": {},
   "outputs": [],
   "source": []
  },
  {
   "cell_type": "code",
   "execution_count": 3,
   "id": "f18e5fe9",
   "metadata": {},
   "outputs": [
    {
     "data": {
      "text/plain": [
       "5571"
      ]
     },
     "execution_count": 3,
     "metadata": {},
     "output_type": "execute_result"
    }
   ],
   "source": [
    "municipios_br.count()"
   ]
  },
  {
   "cell_type": "code",
   "execution_count": 4,
   "id": "09c7689a",
   "metadata": {},
   "outputs": [],
   "source": [
    "municipios_br = municipios_br.filter(F.col(\"Estado\") != \"9999999\")"
   ]
  },
  {
   "cell_type": "code",
   "execution_count": 5,
   "id": "4cb9e8cd",
   "metadata": {},
   "outputs": [
    {
     "data": {
      "text/plain": [
       "5570"
      ]
     },
     "execution_count": 5,
     "metadata": {},
     "output_type": "execute_result"
    }
   ],
   "source": [
    "municipios_br.count()"
   ]
  },
  {
   "cell_type": "code",
   "execution_count": 6,
   "id": "bc823738",
   "metadata": {},
   "outputs": [
    {
     "name": "stderr",
     "output_type": "stream",
     "text": [
      "                                                                                \r"
     ]
    },
    {
     "data": {
      "text/plain": [
       "5570"
      ]
     },
     "execution_count": 6,
     "metadata": {},
     "output_type": "execute_result"
    }
   ],
   "source": [
    "municipios_br.select(\"codigo\").distinct().count()"
   ]
  },
  {
   "cell_type": "code",
   "execution_count": 7,
   "id": "a932bba3",
   "metadata": {},
   "outputs": [
    {
     "data": {
      "text/plain": [
       "27"
      ]
     },
     "execution_count": 7,
     "metadata": {},
     "output_type": "execute_result"
    }
   ],
   "source": [
    "municipios_br.select(\"Estado\").distinct().count()"
   ]
  },
  {
   "cell_type": "code",
   "execution_count": 8,
   "id": "94ffd46e",
   "metadata": {},
   "outputs": [
    {
     "name": "stderr",
     "output_type": "stream",
     "text": [
      "                                                                                \r"
     ]
    },
    {
     "data": {
      "text/plain": [
       "5570"
      ]
     },
     "execution_count": 8,
     "metadata": {},
     "output_type": "execute_result"
    }
   ],
   "source": [
    "municipios_br.select(\"nome_municipio\",\"Estado\").distinct().count()"
   ]
  },
  {
   "cell_type": "code",
   "execution_count": 9,
   "id": "662cd501",
   "metadata": {},
   "outputs": [
    {
     "name": "stdout",
     "output_type": "stream",
     "text": [
      "+-------+-------------------+---------+---+------------+--------+---------+--------+\n",
      "| codigo|     nome_municipio|Codigo_UF| UF|      Estado|Latitude|Longitude|codigo_6|\n",
      "+-------+-------------------+---------+---+------------+--------+---------+--------+\n",
      "|5200050|    Abadia de Goiás|       52| GO|       Goiás|-16.7573| -49.4412|  520005|\n",
      "|3100104|Abadia dos Dourados|       31| MG|Minas Gerais|-18.4831| -47.3916|  310010|\n",
      "|5200100|          Abadiânia|       52| GO|       Goiás| -16.197| -48.7057|  520010|\n",
      "+-------+-------------------+---------+---+------------+--------+---------+--------+\n",
      "only showing top 3 rows\n",
      "\n"
     ]
    }
   ],
   "source": [
    "municipios_br.show(3)"
   ]
  },
  {
   "cell_type": "code",
   "execution_count": 10,
   "id": "fb7a19ec",
   "metadata": {},
   "outputs": [],
   "source": [
    "municipios_br = municipios_br.withColumn(\"country_concept_id\",F.lit(\"41892130\") )\n",
    "municipios_br = municipios_br.withColumn(\"state\",F.col(\"UF\") )\n",
    "municipios_br = municipios_br.withColumn(\"city\",F.col(\"nome_municipio\") )\n",
    "municipios_br = municipios_br.withColumn(\"country_source_value\",F.lit(\"Brazil\") )\n",
    "municipios_br = municipios_br.withColumn(\"location_id\",F.col(\"codigo\") )\n",
    "municipios_br = municipios_br.withColumn(\"location_source_value\",F.col(\"codigo\") )"
   ]
  },
  {
   "cell_type": "code",
   "execution_count": 11,
   "id": "2f9395a6",
   "metadata": {},
   "outputs": [
    {
     "name": "stdout",
     "output_type": "stream",
     "text": [
      "root\n",
      " |-- codigo: string (nullable = true)\n",
      " |-- nome_municipio: string (nullable = true)\n",
      " |-- Codigo_UF: string (nullable = true)\n",
      " |-- UF: string (nullable = true)\n",
      " |-- Estado: string (nullable = true)\n",
      " |-- Latitude: string (nullable = true)\n",
      " |-- Longitude: string (nullable = true)\n",
      " |-- codigo_6: string (nullable = true)\n",
      " |-- country_concept_id: string (nullable = false)\n",
      " |-- state: string (nullable = true)\n",
      " |-- city: string (nullable = true)\n",
      " |-- country_source_value: string (nullable = false)\n",
      " |-- location_id: string (nullable = true)\n",
      " |-- location_source_value: string (nullable = true)\n",
      "\n"
     ]
    }
   ],
   "source": [
    "municipios_br.printSchema()"
   ]
  },
  {
   "cell_type": "code",
   "execution_count": 12,
   "id": "ac195e54",
   "metadata": {},
   "outputs": [],
   "source": [
    "regioes  = spark.read.csv(\"/home/juracy.santos/dados/mapeamento_id_nome_regiao.csv\",sep=\";\",header=True,inferSchema=False)"
   ]
  },
  {
   "cell_type": "code",
   "execution_count": 13,
   "id": "6bdeb59b",
   "metadata": {},
   "outputs": [
    {
     "name": "stdout",
     "output_type": "stream",
     "text": [
      "+---------+------------+\n",
      "|regiao_id| nome_regiao|\n",
      "+---------+------------+\n",
      "|        1|       Norte|\n",
      "|        2|    Nordeste|\n",
      "|        3|     Sudeste|\n",
      "|        4|Centro-Oeste|\n",
      "|        5|         sul|\n",
      "+---------+------------+\n",
      "\n"
     ]
    }
   ],
   "source": [
    "regioes.show()"
   ]
  },
  {
   "cell_type": "code",
   "execution_count": 14,
   "id": "758756dc",
   "metadata": {},
   "outputs": [],
   "source": [
    "municipios_br = municipios_br.withColumn(\"regiao_id\",F.substring(\"codigo\",1,1))"
   ]
  },
  {
   "cell_type": "code",
   "execution_count": 15,
   "id": "331387d0",
   "metadata": {},
   "outputs": [],
   "source": [
    "municipios_br_regiao = municipios_br.join(regioes,['regiao_id'],'left')"
   ]
  },
  {
   "cell_type": "code",
   "execution_count": 16,
   "id": "6ec5e5a3",
   "metadata": {},
   "outputs": [
    {
     "data": {
      "text/plain": [
       "5570"
      ]
     },
     "execution_count": 16,
     "metadata": {},
     "output_type": "execute_result"
    }
   ],
   "source": [
    "municipios_br_regiao.count()"
   ]
  },
  {
   "cell_type": "code",
   "execution_count": 17,
   "id": "92957b4f",
   "metadata": {},
   "outputs": [],
   "source": [
    "municipios_br_regiao = municipios_br_regiao.withColumn(\"county\",F.col(\"nome_regiao\") )"
   ]
  },
  {
   "cell_type": "code",
   "execution_count": 18,
   "id": "1709a01f",
   "metadata": {},
   "outputs": [],
   "source": [
    "location_table = municipios_br_regiao.select(\"location_id\",\"city\",\"state\",\"location_source_value\",\"country_concept_id\",\"county\",\"country_source_value\")"
   ]
  },
  {
   "cell_type": "code",
   "execution_count": 19,
   "id": "e311d262",
   "metadata": {},
   "outputs": [
    {
     "data": {
      "text/plain": [
       "5570"
      ]
     },
     "execution_count": 19,
     "metadata": {},
     "output_type": "execute_result"
    }
   ],
   "source": [
    "location_table.count()"
   ]
  },
  {
   "cell_type": "code",
   "execution_count": 25,
   "id": "cfe363c2",
   "metadata": {},
   "outputs": [],
   "source": [
    "location_table = location_table.withColumn(\"location_id\",F.col(\"location_id\").cast(IntegerType()))\n",
    "location_table = location_table.withColumn(\"country_concept_id\",F.col(\"country_concept_id\").cast(IntegerType()))"
   ]
  },
  {
   "cell_type": "code",
   "execution_count": 27,
   "id": "a56a9f7c",
   "metadata": {},
   "outputs": [],
   "source": [
    "location_table.write.parquet(\"/dados10t/datalake/standard/omop/tabelas_omop_cmd_5.4_v1/tb_location.parquet\")"
   ]
  },
  {
   "cell_type": "code",
   "execution_count": 20,
   "id": "d4b6e4d1",
   "metadata": {},
   "outputs": [],
   "source": [
    "location_table.toPandas().to_csv(\"/dados10t/datalake/standard/omop/tabelas_omop_cmd_5.4_v1/tb_location.csv\",sep=\",\",index=False)"
   ]
  },
  {
   "cell_type": "code",
   "execution_count": 21,
   "id": "99c8f356",
   "metadata": {},
   "outputs": [
    {
     "name": "stdout",
     "output_type": "stream",
     "text": [
      "root\n",
      " |-- location_id: string (nullable = true)\n",
      " |-- city: string (nullable = true)\n",
      " |-- state: string (nullable = true)\n",
      " |-- location_source_value: string (nullable = true)\n",
      " |-- country_concept_id: string (nullable = false)\n",
      " |-- county: string (nullable = true)\n",
      " |-- country_source_value: string (nullable = false)\n",
      "\n"
     ]
    }
   ],
   "source": [
    "location_table.printSchema()"
   ]
  },
  {
   "cell_type": "code",
   "execution_count": 63,
   "id": "28583cd0",
   "metadata": {},
   "outputs": [
    {
     "name": "stdout",
     "output_type": "stream",
     "text": [
      "+-----------+-------------------+--------------+---------------------+------------------+------------+--------------------+\n",
      "|location_id|               city|         state|location_source_value|country_concept_id|      county|country_source_value|\n",
      "+-----------+-------------------+--------------+---------------------+------------------+------------+--------------------+\n",
      "|    5200050|    Abadia de Goiás|         Goiás|              5200050|          41892130|         sul|              Brazil|\n",
      "|    3100104|Abadia dos Dourados|  Minas Gerais|              3100104|          41892130|     Sudeste|              Brazil|\n",
      "|    5200100|          Abadiânia|         Goiás|              5200100|          41892130|         sul|              Brazil|\n",
      "|    3100203|             Abaeté|  Minas Gerais|              3100203|          41892130|     Sudeste|              Brazil|\n",
      "|    1500107|         Abaetetuba|          Pará|              1500107|          41892130|       Norte|              Brazil|\n",
      "|    2300101|            Abaiara|         Ceará|              2300101|          41892130|    Nordeste|              Brazil|\n",
      "|    2900108|             Abaíra|         Bahia|              2900108|          41892130|    Nordeste|              Brazil|\n",
      "|    2900207|              Abaré|         Bahia|              2900207|          41892130|    Nordeste|              Brazil|\n",
      "|    4100103|             Abatiá|        Paraná|              4100103|          41892130|Centro-Oeste|              Brazil|\n",
      "|    4200051|      Abdon Batista|Santa Catarina|              4200051|          41892130|Centro-Oeste|              Brazil|\n",
      "|    1500131|    Abel Figueiredo|          Pará|              1500131|          41892130|       Norte|              Brazil|\n",
      "|    4200101|       Abelardo Luz|Santa Catarina|              4200101|          41892130|Centro-Oeste|              Brazil|\n",
      "|    3100302|         Abre Campo|  Minas Gerais|              3100302|          41892130|     Sudeste|              Brazil|\n",
      "|    2600054|       Abreu e Lima|    Pernambuco|              2600054|          41892130|    Nordeste|              Brazil|\n",
      "|    1700251|        Abreulândia|     Tocantins|              1700251|          41892130|       Norte|              Brazil|\n",
      "|    3100401|            Acaiaca|  Minas Gerais|              3100401|          41892130|     Sudeste|              Brazil|\n",
      "|    2100055|         Açailândia|      Maranhão|              2100055|          41892130|    Nordeste|              Brazil|\n",
      "|    2900306|          Acajutiba|         Bahia|              2900306|          41892130|    Nordeste|              Brazil|\n",
      "|    1500206|              Acará|          Pará|              1500206|          41892130|       Norte|              Brazil|\n",
      "|    2300150|            Acarape|         Ceará|              2300150|          41892130|    Nordeste|              Brazil|\n",
      "+-----------+-------------------+--------------+---------------------+------------------+------------+--------------------+\n",
      "only showing top 20 rows\n",
      "\n"
     ]
    }
   ],
   "source": [
    "location_table.show()"
   ]
  }
 ],
 "metadata": {
  "kernelspec": {
   "display_name": "Python 3 (ipykernel)",
   "language": "python",
   "name": "python3"
  },
  "language_info": {
   "codemirror_mode": {
    "name": "ipython",
    "version": 3
   },
   "file_extension": ".py",
   "mimetype": "text/x-python",
   "name": "python",
   "nbconvert_exporter": "python",
   "pygments_lexer": "ipython3",
   "version": "3.10.12"
  }
 },
 "nbformat": 4,
 "nbformat_minor": 5
}
