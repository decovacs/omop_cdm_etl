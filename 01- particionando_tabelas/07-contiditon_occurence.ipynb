{
 "cells": [
  {
   "cell_type": "code",
   "execution_count": 1,
   "id": "b2690f42-329f-4269-9bdb-5b30695a6394",
   "metadata": {},
   "outputs": [
    {
     "name": "stderr",
     "output_type": "stream",
     "text": [
      "/tmp/ipykernel_52920/1510302545.py:1: DeprecationWarning: Importing display from IPython.core.display is deprecated since IPython 7.14, please import from IPython display\n",
      "  from IPython.core.display import display, HTML\n"
     ]
    },
    {
     "data": {
      "text/html": [
       "<style>.container { width:100% !important; }</style>"
      ],
      "text/plain": [
       "<IPython.core.display.HTML object>"
      ]
     },
     "metadata": {},
     "output_type": "display_data"
    }
   ],
   "source": [
    "from IPython.core.display import display, HTML\n",
    "display(HTML(\"<style>.container { width:100% !important; }</style>\"))\n",
    "from pyspark.sql import functions as F\n",
    "from pyspark.sql.types import *\n",
    "import pandas as pd\n",
    "from pyspark.sql.window import Window\n",
    "import time\n",
    "from pyspark.sql import SparkSession"
   ]
  },
  {
   "cell_type": "code",
   "execution_count": 2,
   "id": "a3127f96-31b1-4176-ab76-7fd9ee2a993b",
   "metadata": {},
   "outputs": [
    {
     "name": "stderr",
     "output_type": "stream",
     "text": [
      "Setting default log level to \"WARN\".\n",
      "To adjust logging level use sc.setLogLevel(newLevel). For SparkR, use setLogLevel(newLevel).\n",
      "23/10/20 17:00:42 WARN NativeCodeLoader: Unable to load native-hadoop library for your platform... using builtin-java classes where applicable\n",
      "23/10/20 17:00:42 WARN SparkConf: Note that spark.local.dir will be overridden by the value set by the cluster manager (via SPARK_LOCAL_DIRS in mesos/standalone/kubernetes and LOCAL_DIRS in YARN).\n",
      "23/10/20 17:00:43 WARN Utils: Service 'SparkUI' could not bind on port 4040. Attempting port 4041.\n"
     ]
    }
   ],
   "source": [
    "spark = SparkSession.builder \\\n",
    "       .master(\"local[*]\") \\\n",
    "       .appName(\"test\") \\\n",
    "       .config(\"spark.driver.memory\", \"80g\")\\\n",
    "       .config(\"spark.executor.memory\", \"50g\")\\\n",
    "       .config(\"spark.dirver.maxResultSize\", \"50g\")\\\n",
    "       .config('spark.local.dir', '/dados10t/datalake/raw/checkpoint_dir')\\\n",
    "       .getOrCreate()\n",
    "sc = spark.sparkContext\n",
    "sc.setCheckpointDir('/dados10t/datalake/raw/checkpoint_dir')"
   ]
  },
  {
   "cell_type": "markdown",
   "id": "01ced628-db16-4fe4-bd94-24bcf1136f10",
   "metadata": {},
   "source": [
    "# Mapeamento"
   ]
  },
  {
   "cell_type": "code",
   "execution_count": 4,
   "id": "5fb04aa8-78dc-4b9a-a2cf-c84232222871",
   "metadata": {},
   "outputs": [],
   "source": [
    "df_sintomas =\\\n",
    "spark.read.csv('/dados10t/datalake/standard/omop/resultado_mapeamento/srag-condition/sintomas_mapeados.csv', header=True)"
   ]
  },
  {
   "cell_type": "code",
   "execution_count": 5,
   "id": "df16cdae-545f-4d0c-9adf-12a475f9f641",
   "metadata": {},
   "outputs": [],
   "source": [
    "df_comorbidades =\\\n",
    "spark.read.csv('/dados10t/datalake/standard/omop/resultado_mapeamento/srag-condition/comorbidades_mapeadas.csv', header=True)"
   ]
  },
  {
   "cell_type": "code",
   "execution_count": 6,
   "id": "69275d49-afa1-4baf-bd3b-6347c581d2cc",
   "metadata": {},
   "outputs": [],
   "source": [
    "conditions = df_comorbidades.union(df_sintomas)"
   ]
  },
  {
   "cell_type": "code",
   "execution_count": 7,
   "id": "96999d62-9f54-49ee-9c80-dd85482eea9e",
   "metadata": {},
   "outputs": [],
   "source": [
    "conditions = conditions.withColumn('condition', F.col('source_code_description'))"
   ]
  },
  {
   "cell_type": "code",
   "execution_count": 7,
   "id": "8b939c04-9fde-4023-be90-a3cf82381bb2",
   "metadata": {
    "collapsed": true,
    "jupyter": {
     "outputs_hidden": true
    },
    "tags": []
   },
   "outputs": [
    {
     "data": {
      "text/plain": [
       "['source_code',\n",
       " 'source_concept_id',\n",
       " 'source_vocabulary_id',\n",
       " 'source_code_description',\n",
       " 'target_concept_id',\n",
       " 'target_vocabulary_id',\n",
       " 'valid_start_date',\n",
       " 'valid_end_date',\n",
       " 'invalid_reason',\n",
       " 'condition']"
      ]
     },
     "execution_count": 7,
     "metadata": {},
     "output_type": "execute_result"
    }
   ],
   "source": [
    "#\n",
    "conditions.columns"
   ]
  },
  {
   "cell_type": "code",
   "execution_count": null,
   "id": "15184914-e99b-48b2-b5b9-3b6321b10dfc",
   "metadata": {
    "tags": []
   },
   "outputs": [],
   "source": [
    "#\n",
    "conditions\\\n",
    ".select('source_code_description', 'target_concept_id')\\\n",
    ".show(100)"
   ]
  },
  {
   "cell_type": "markdown",
   "id": "a0cba77b-237b-4d23-9cc6-2735b1a267b8",
   "metadata": {},
   "source": [
    "# Srag"
   ]
  },
  {
   "cell_type": "code",
   "execution_count": 8,
   "id": "a026029d-da3d-4f5f-93b8-08cdf0662595",
   "metadata": {},
   "outputs": [],
   "source": [
    "# srag = spark.read.parquet(\"/dados10t/datalake/standard/vigivac/srag/dbsrag_tb_influd_long_09072022_v8.parquet/\")\n",
    "srag = spark.read.parquet('/dados10t/datalake/standard/omop/data_with_ids/dbsrag_tb_influd_long_09072022_v8-id_omop-v3.parquet/')"
   ]
  },
  {
   "cell_type": "code",
   "execution_count": 9,
   "id": "4691428e-09ea-499e-87f0-02fdbafdde9b",
   "metadata": {},
   "outputs": [],
   "source": [
    "id_vigivac = spark.read.parquet(\"/dados10t/datalake/standard/vigivac/base_analise/id_paciente_to_id_vigivac/id_vigivac_id_paciente_09072022.parquet/\")"
   ]
  },
  {
   "cell_type": "code",
   "execution_count": 10,
   "id": "2f990496-41cb-4fc5-8858-acc475982fed",
   "metadata": {},
   "outputs": [],
   "source": [
    "srag = srag.join(id_vigivac, ['id_paciente'], 'inner')"
   ]
  },
  {
   "cell_type": "code",
   "execution_count": 228,
   "id": "19b9a22d-38f1-433f-b253-37fddd10fc26",
   "metadata": {
    "collapsed": true,
    "jupyter": {
     "outputs_hidden": true
    },
    "tags": []
   },
   "outputs": [
    {
     "name": "stdout",
     "output_type": "stream",
     "text": [
      "root\n",
      " |-- id_paciente: string (nullable = true)\n",
      " |-- st_notific: string (nullable = true)\n",
      " |-- dt_notific: string (nullable = true)\n",
      " |-- sem_not: string (nullable = true)\n",
      " |-- dt_sin_pri: string (nullable = true)\n",
      " |-- sem_pri: string (nullable = true)\n",
      " |-- sg_uf_not: string (nullable = true)\n",
      " |-- id_regiona: string (nullable = true)\n",
      " |-- co_regiona: decimal(10,0) (nullable = true)\n",
      " |-- id_municip: string (nullable = true)\n",
      " |-- co_mun_not: string (nullable = true)\n",
      " |-- id_unidade: string (nullable = true)\n",
      " |-- co_uni_not: string (nullable = true)\n",
      " |-- cs_sexo: string (nullable = true)\n",
      " |-- dt_nasc: string (nullable = true)\n",
      " |-- nu_idade_n: decimal(10,0) (nullable = true)\n",
      " |-- tp_idade: string (nullable = true)\n",
      " |-- cod_idade: string (nullable = true)\n",
      " |-- cs_gestant: decimal(10,0) (nullable = true)\n",
      " |-- cs_raca: string (nullable = true)\n",
      " |-- cs_etinia: string (nullable = true)\n",
      " |-- cs_escol_n: decimal(10,0) (nullable = true)\n",
      " |-- nu_cep: string (nullable = true)\n",
      " |-- id_pais: string (nullable = true)\n",
      " |-- co_pais: decimal(10,0) (nullable = true)\n",
      " |-- sg_uf: string (nullable = true)\n",
      " |-- id_rg_resi: string (nullable = true)\n",
      " |-- co_rg_resi: decimal(10,0) (nullable = true)\n",
      " |-- id_mn_resi: string (nullable = true)\n",
      " |-- co_mun_res: string (nullable = true)\n",
      " |-- nm_bairro: string (nullable = true)\n",
      " |-- cs_zona: string (nullable = true)\n",
      " |-- surto_sg: string (nullable = true)\n",
      " |-- nosocomial: string (nullable = true)\n",
      " |-- ave_suino: string (nullable = true)\n",
      " |-- febre: string (nullable = true)\n",
      " |-- tosse: string (nullable = true)\n",
      " |-- garganta: string (nullable = true)\n",
      " |-- dispneia: string (nullable = true)\n",
      " |-- desc_resp: string (nullable = true)\n",
      " |-- saturacao: string (nullable = true)\n",
      " |-- diarreia: string (nullable = true)\n",
      " |-- vomito: string (nullable = true)\n",
      " |-- outro_sin: string (nullable = true)\n",
      " |-- outro_des: string (nullable = true)\n",
      " |-- fator_risc: string (nullable = true)\n",
      " |-- puerpera: string (nullable = true)\n",
      " |-- cardiopati: string (nullable = true)\n",
      " |-- hematologi: string (nullable = true)\n",
      " |-- sind_down: string (nullable = true)\n",
      " |-- hepatica: string (nullable = true)\n",
      " |-- asma: string (nullable = true)\n",
      " |-- diabetes: string (nullable = true)\n",
      " |-- neurologic: string (nullable = true)\n",
      " |-- pneumopati: string (nullable = true)\n",
      " |-- imunodepre: string (nullable = true)\n",
      " |-- renal: string (nullable = true)\n",
      " |-- obesidade: string (nullable = true)\n",
      " |-- obes_imc: string (nullable = true)\n",
      " |-- out_morbi: string (nullable = true)\n",
      " |-- morb_desc: string (nullable = true)\n",
      " |-- vacina: string (nullable = true)\n",
      " |-- dt_ut_dose: string (nullable = true)\n",
      " |-- mae_vac: string (nullable = true)\n",
      " |-- dt_vac_mae: string (nullable = true)\n",
      " |-- m_amamenta: string (nullable = true)\n",
      " |-- dt_doseuni: string (nullable = true)\n",
      " |-- dt_1_dose: string (nullable = true)\n",
      " |-- dt_2_dose: string (nullable = true)\n",
      " |-- antiviral: string (nullable = true)\n",
      " |-- tp_antivir: decimal(10,0) (nullable = true)\n",
      " |-- out_antiv: string (nullable = true)\n",
      " |-- dt_antivir: string (nullable = true)\n",
      " |-- hospital: string (nullable = true)\n",
      " |-- dt_interna: string (nullable = true)\n",
      " |-- sg_uf_inte: string (nullable = true)\n",
      " |-- id_rg_inte: string (nullable = true)\n",
      " |-- co_rg_inte: decimal(10,0) (nullable = true)\n",
      " |-- id_mn_inte: string (nullable = true)\n",
      " |-- co_mu_inte: string (nullable = true)\n",
      " |-- nm_un_inte: string (nullable = true)\n",
      " |-- co_un_inte: string (nullable = true)\n",
      " |-- uti: string (nullable = true)\n",
      " |-- dt_entuti: string (nullable = true)\n",
      " |-- dt_saiduti: string (nullable = true)\n",
      " |-- suport_ven: string (nullable = true)\n",
      " |-- raiox_res: decimal(10,0) (nullable = true)\n",
      " |-- raiox_out: string (nullable = true)\n",
      " |-- dt_raiox: string (nullable = true)\n",
      " |-- amostra: string (nullable = true)\n",
      " |-- dt_coleta: string (nullable = true)\n",
      " |-- tp_amostra: decimal(10,0) (nullable = true)\n",
      " |-- out_amost: string (nullable = true)\n",
      " |-- st_requisicao_gal: string (nullable = true)\n",
      " |-- pcr_resul: string (nullable = true)\n",
      " |-- dt_pcr: string (nullable = true)\n",
      " |-- pos_pcrflu: string (nullable = true)\n",
      " |-- tp_flu_pcr: string (nullable = true)\n",
      " |-- pcr_fluasu: string (nullable = true)\n",
      " |-- fluasu_out: string (nullable = true)\n",
      " |-- pcr_flubli: string (nullable = true)\n",
      " |-- flubli_out: string (nullable = true)\n",
      " |-- pos_pcrout: string (nullable = true)\n",
      " |-- pcr_vsr: string (nullable = true)\n",
      " |-- pcr_para1: string (nullable = true)\n",
      " |-- pcr_para2: string (nullable = true)\n",
      " |-- pcr_para3: string (nullable = true)\n",
      " |-- pcr_para4: string (nullable = true)\n",
      " |-- pcr_adeno: string (nullable = true)\n",
      " |-- pcr_metap: string (nullable = true)\n",
      " |-- pcr_boca: string (nullable = true)\n",
      " |-- pcr_rino: string (nullable = true)\n",
      " |-- pcr_outro: string (nullable = true)\n",
      " |-- ds_pcr_out: string (nullable = true)\n",
      " |-- lab_pcr: string (nullable = true)\n",
      " |-- co_lab_pcr: string (nullable = true)\n",
      " |-- classi_fin: decimal(10,0) (nullable = true)\n",
      " |-- classi_out: string (nullable = true)\n",
      " |-- criterio: decimal(10,0) (nullable = true)\n",
      " |-- evolucao: string (nullable = true)\n",
      " |-- dt_evoluca: string (nullable = true)\n",
      " |-- dt_encerra: string (nullable = true)\n",
      " |-- dt_digita: string (nullable = true)\n",
      " |-- histo_vgm: string (nullable = true)\n",
      " |-- pais_vgm: string (nullable = true)\n",
      " |-- co_ps_vgm: decimal(10,0) (nullable = true)\n",
      " |-- lo_ps_vgm: string (nullable = true)\n",
      " |-- dt_vgm: string (nullable = true)\n",
      " |-- dt_rt_vgm: string (nullable = true)\n",
      " |-- pcr_sars2: string (nullable = true)\n",
      " |-- pac_cocbo: string (nullable = true)\n",
      " |-- pac_dscbo: string (nullable = true)\n",
      " |-- out_anim: string (nullable = true)\n",
      " |-- dor_abd: string (nullable = true)\n",
      " |-- fadiga: string (nullable = true)\n",
      " |-- perd_olft: string (nullable = true)\n",
      " |-- perd_pala: string (nullable = true)\n",
      " |-- tomo_res: decimal(10,0) (nullable = true)\n",
      " |-- tomo_out: string (nullable = true)\n",
      " |-- dt_tomo: string (nullable = true)\n",
      " |-- tp_tes_an: decimal(10,0) (nullable = true)\n",
      " |-- dt_res_an: string (nullable = true)\n",
      " |-- res_an: string (nullable = true)\n",
      " |-- lab_an: string (nullable = true)\n",
      " |-- co_lab_an: string (nullable = true)\n",
      " |-- pos_an_flu: string (nullable = true)\n",
      " |-- tp_flu_an: string (nullable = true)\n",
      " |-- pos_an_out: string (nullable = true)\n",
      " |-- an_sars2: string (nullable = true)\n",
      " |-- an_vsr: string (nullable = true)\n",
      " |-- an_para1: string (nullable = true)\n",
      " |-- an_para2: string (nullable = true)\n",
      " |-- an_para3: string (nullable = true)\n",
      " |-- an_adeno: string (nullable = true)\n",
      " |-- an_outro: string (nullable = true)\n",
      " |-- ds_an_out: string (nullable = true)\n",
      " |-- tp_am_sor: decimal(10,0) (nullable = true)\n",
      " |-- sor_out: string (nullable = true)\n",
      " |-- dt_co_sor: string (nullable = true)\n",
      " |-- tp_sor: decimal(10,0) (nullable = true)\n",
      " |-- out_sor: string (nullable = true)\n",
      " |-- dt_res: string (nullable = true)\n",
      " |-- res_igg: string (nullable = true)\n",
      " |-- res_igm: string (nullable = true)\n",
      " |-- res_iga: string (nullable = true)\n",
      " |-- st_do: string (nullable = true)\n",
      " |-- estrang: string (nullable = true)\n",
      " |-- vacina_cov: string (nullable = true)\n",
      " |-- dose_1_cov: string (nullable = true)\n",
      " |-- dose_2_cov: string (nullable = true)\n",
      " |-- lab_pr_cov: string (nullable = true)\n",
      " |-- lote_1_cov: string (nullable = true)\n",
      " |-- lote_2_cov: string (nullable = true)\n",
      " |-- fnt_in_cov: string (nullable = true)\n",
      " |-- id_row: long (nullable = true)\n",
      " |-- visit_occurrence_id: long (nullable = true)\n",
      " |-- sg: string (nullable = true)\n",
      " |-- srag: string (nullable = true)\n",
      " |-- vacinacao: string (nullable = true)\n",
      " |-- id_vigvac: long (nullable = true)\n",
      "\n"
     ]
    }
   ],
   "source": [
    "#\n",
    "srag.printSchema()"
   ]
  },
  {
   "cell_type": "markdown",
   "id": "0ee01082-ff12-4056-a872-a6422d96b53b",
   "metadata": {},
   "source": [
    "### comorbidades"
   ]
  },
  {
   "cell_type": "code",
   "execution_count": 11,
   "id": "01b1a651-8be9-4366-816e-3cf205aab7af",
   "metadata": {},
   "outputs": [],
   "source": [
    "aberto_comorbidade = spark.read.parquet('/dados10t/datalake/standard/omop/extracao_termos/srag/id_row/campo_aberto_comorbidades.parquet')"
   ]
  },
  {
   "cell_type": "code",
   "execution_count": 12,
   "id": "30c796cb-d840-4a12-b13f-781ef36f814a",
   "metadata": {},
   "outputs": [],
   "source": [
    "aberto_comorbidade_columns = aberto_comorbidade.columns\n",
    "aberto_comorbidade_columns.remove('id_vigvac')\n",
    "aberto_comorbidade_columns.remove('id_row')\n",
    "aberto_comorbidade_columns.remove('dt_notific')\n",
    "aberto_comorbidade_columns.remove('morb_desc')\n",
    "aberto_comorbidade_columns.remove('outro_des')"
   ]
  },
  {
   "cell_type": "code",
   "execution_count": 13,
   "id": "ccdcc5bc-79d3-4c93-a09e-b3147ed58478",
   "metadata": {},
   "outputs": [],
   "source": [
    "aberto_comorbidade = aberto_comorbidade.withColumn('conditions', \n",
    "              F.array(\n",
    "                  [F.when(F.col(e)==1, e) for e in aberto_comorbidade_columns]\n",
    "                     )\n",
    "             ).withColumn('conditions', F.array_compact('conditions'))"
   ]
  },
  {
   "cell_type": "code",
   "execution_count": 14,
   "id": "94237c8f-84a0-4934-9b31-fd24834962ef",
   "metadata": {},
   "outputs": [],
   "source": [
    "aberto_comorbidade = aberto_comorbidade.select( 'id_row' , F.explode_outer('conditions').alias('condition'))"
   ]
  },
  {
   "cell_type": "code",
   "execution_count": 15,
   "id": "0e25e8b6-3b46-4a15-9669-510ed623e864",
   "metadata": {},
   "outputs": [],
   "source": [
    "aberto_comorbidade  = aberto_comorbidade.withColumn('condition', F.regexp_replace(F.col('condition'), '_o$', ''))"
   ]
  },
  {
   "cell_type": "markdown",
   "id": "ffcd1655-81b6-4fa6-bc34-a5b967c6170b",
   "metadata": {},
   "source": [
    "### sintomas"
   ]
  },
  {
   "cell_type": "code",
   "execution_count": 16,
   "id": "da2b595a-5873-4d6a-bd05-45562d53da1a",
   "metadata": {},
   "outputs": [],
   "source": [
    "aberto_sintomas = spark.read.parquet('/dados10t/datalake/standard/omop/extracao_termos/srag/id_row/campo_aberto_sintomas.parquet')"
   ]
  },
  {
   "cell_type": "code",
   "execution_count": 17,
   "id": "20d035ec-fb55-4acf-aa64-048ede3b445f",
   "metadata": {},
   "outputs": [],
   "source": [
    "aberto_sintomas_columns = aberto_sintomas.columns\n",
    "aberto_sintomas_columns.remove('dt_notific')\n",
    "aberto_sintomas_columns.remove('id_vigvac')\n",
    "aberto_sintomas_columns.remove('id_row')\n",
    "aberto_sintomas_columns.remove('outro_des')\n",
    "aberto_sintomas_columns.remove('morb_desc')"
   ]
  },
  {
   "cell_type": "code",
   "execution_count": 18,
   "id": "6e3da867-ca0f-42a0-a7b5-d0785cc8b99d",
   "metadata": {},
   "outputs": [],
   "source": [
    "aberto_sintomas = aberto_sintomas.withColumn('conditions', \n",
    "              F.array(\n",
    "                  [F.when(F.col(e)==1, e) for e in aberto_sintomas_columns]\n",
    "                     )\n",
    "             ).withColumn('conditions', F.array_compact('conditions'))"
   ]
  },
  {
   "cell_type": "code",
   "execution_count": 19,
   "id": "603b6cf5-dbfc-4b46-86ca-1a72e667d0ad",
   "metadata": {},
   "outputs": [],
   "source": [
    "aberto_sintomas = aberto_sintomas.select( 'id_row' , F.explode_outer('conditions').alias('condition'))"
   ]
  },
  {
   "cell_type": "code",
   "execution_count": 20,
   "id": "6f847247-efef-404f-8c67-e0a13be60785",
   "metadata": {},
   "outputs": [],
   "source": [
    "aberto_sintomas = aberto_sintomas.withColumn('condition', F.regexp_replace(F.col('condition'), '_o$', ''))"
   ]
  },
  {
   "cell_type": "markdown",
   "id": "7121cc71-ba76-49dc-bdcb-acae9a7928d4",
   "metadata": {},
   "source": [
    "### concat data"
   ]
  },
  {
   "cell_type": "code",
   "execution_count": 21,
   "id": "0981a4fc-c8f1-45aa-b874-41defb7b3137",
   "metadata": {},
   "outputs": [],
   "source": [
    "conditions_df = aberto_sintomas.union(aberto_comorbidade)"
   ]
  },
  {
   "cell_type": "code",
   "execution_count": 22,
   "id": "04c36617-adb5-4475-8c76-0d2e12796521",
   "metadata": {},
   "outputs": [],
   "source": [
    "conditions_mapped = conditions_df.join(conditions, ['condition'], 'left').filter(F.col('condition').isNotNull())"
   ]
  },
  {
   "cell_type": "code",
   "execution_count": 23,
   "id": "5cae23ce-702b-4ad3-8f02-05aeaff00f3f",
   "metadata": {
    "collapsed": true,
    "jupyter": {
     "outputs_hidden": true
    },
    "tags": []
   },
   "outputs": [
    {
     "name": "stderr",
     "output_type": "stream",
     "text": [
      "23/10/20 17:01:21 WARN package: Truncated the string representation of a plan since it was too large. This behavior can be adjusted by setting 'spark.sql.debug.maxToStringFields'.\n",
      "[Stage 8:======================================================>  (25 + 1) / 26]\r"
     ]
    },
    {
     "name": "stdout",
     "output_type": "stream",
     "text": [
      "+--------------------+------+\n",
      "|           condition| count|\n",
      "+--------------------+------+\n",
      "|                dpoc| 26796|\n",
      "|              rinite|  1198|\n",
      "|doenca renal cronica|    28|\n",
      "|            enfisema|  2375|\n",
      "|           pneumonia|  1322|\n",
      "|                 has|285814|\n",
      "|    hipertireoidismo|  1715|\n",
      "+--------------------+------+\n",
      "\n"
     ]
    },
    {
     "name": "stderr",
     "output_type": "stream",
     "text": [
      "                                                                                \r"
     ]
    }
   ],
   "source": [
    "#\n",
    "conditions_mapped.filter(F.col('source_code_description').isNull()).groupBy(F.col('condition')).count().show()"
   ]
  },
  {
   "cell_type": "code",
   "execution_count": 24,
   "id": "3a9be03e-6293-4415-99b3-497cc2696f28",
   "metadata": {},
   "outputs": [],
   "source": [
    "conditions_mapped = conditions_mapped.select('id_row', 'target_concept_id').filter(F.col('target_concept_id').isNotNull())"
   ]
  },
  {
   "cell_type": "markdown",
   "id": "c9253c45-70f2-4852-8b26-7386e78b1854",
   "metadata": {},
   "source": [
    "### join data"
   ]
  },
  {
   "cell_type": "code",
   "execution_count": 25,
   "id": "922e6cfc-1476-4a2e-a675-10c1fc982d45",
   "metadata": {},
   "outputs": [],
   "source": [
    "srag_mapeado = srag.join(conditions_mapped, ['id_row'], 'inner')"
   ]
  },
  {
   "cell_type": "markdown",
   "id": "898c8c92-455c-4127-9aab-213762d7d72e",
   "metadata": {},
   "source": [
    "##### selecao var interesse"
   ]
  },
  {
   "cell_type": "code",
   "execution_count": 26,
   "id": "096ebd46-ae2d-4214-9082-b5449caa2503",
   "metadata": {},
   "outputs": [],
   "source": [
    "srag_mapeado = srag_mapeado.select(['id_vigvac', 'visit_occurrence_id', 'dt_interna', 'dt_notific', 'target_concept_id'])"
   ]
  },
  {
   "cell_type": "code",
   "execution_count": 27,
   "id": "17f8d91e-f9b7-4c3c-8b30-bc817e7b6e6c",
   "metadata": {},
   "outputs": [],
   "source": [
    "srag_mapeado = srag_mapeado.withColumn(\"condition_start_date\", \n",
    "                                       F.coalesce(\n",
    "                                           F.to_date(F.col('dt_interna'), 'dd/MM/yyyy'), \n",
    "                                           F.to_date(F.col('dt_notific'), 'dd/MM/yyyy') \n",
    "                                       )\n",
    "                                      )"
   ]
  },
  {
   "cell_type": "code",
   "execution_count": 28,
   "id": "57e3902e-c920-4e95-bd38-5faa066dd8f4",
   "metadata": {},
   "outputs": [],
   "source": [
    "srag_mapeado = srag_mapeado.filter(F.col('condition_start_date').isNotNull())"
   ]
  },
  {
   "cell_type": "code",
   "execution_count": 26,
   "id": "08db221b-b562-4f9d-8a54-a16e4a7fbb72",
   "metadata": {
    "collapsed": true,
    "jupyter": {
     "outputs_hidden": true
    },
    "tags": []
   },
   "outputs": [
    {
     "name": "stderr",
     "output_type": "stream",
     "text": [
      "23/10/11 20:01:19 WARN package: Truncated the string representation of a plan since it was too large. This behavior can be adjusted by setting 'spark.sql.debug.maxToStringFields'.\n",
      "                                                                                \r"
     ]
    },
    {
     "data": {
      "text/plain": [
       "1.0"
      ]
     },
     "execution_count": 26,
     "metadata": {},
     "output_type": "execute_result"
    }
   ],
   "source": [
    "# we need target_concept_id\n",
    "# dpoc is missing, what to do?\n",
    "srag_mapeado.filter(F.col('condition_start_date').isNotNull()).count()/srag_mapeado.count()"
   ]
  },
  {
   "cell_type": "markdown",
   "id": "962ca4fb-5465-4961-b0b8-663728e58d9f",
   "metadata": {},
   "source": [
    "### build structure"
   ]
  },
  {
   "cell_type": "code",
   "execution_count": null,
   "id": "47ed3f46-e0b2-4d68-bd0e-8469bef38349",
   "metadata": {
    "tags": []
   },
   "outputs": [],
   "source": [
    "#\n",
    "srag_mapeado.printSchema()"
   ]
  },
  {
   "cell_type": "code",
   "execution_count": 29,
   "id": "2b7263f1-0314-4fe9-876d-8eb01d143d68",
   "metadata": {},
   "outputs": [],
   "source": [
    "srag_mapeado = srag_mapeado.withColumnRenamed('target_concept_id', 'condition_concept_id')"
   ]
  },
  {
   "cell_type": "code",
   "execution_count": 30,
   "id": "ca90b4f5-c105-4538-9a99-79019de9dd4c",
   "metadata": {},
   "outputs": [],
   "source": [
    "srag_mapeado = srag_mapeado.select('id_vigvac', 'visit_occurrence_id', 'condition_start_date', 'condition_concept_id')"
   ]
  },
  {
   "cell_type": "code",
   "execution_count": 197,
   "id": "9c1b340c-469c-4d9c-b1fc-69b7b552dbca",
   "metadata": {
    "tags": []
   },
   "outputs": [
    {
     "data": {
      "text/plain": [
       "['id_vigvac',\n",
       " 'visit_occurrence_id',\n",
       " 'condition_start_date',\n",
       " 'condition_concept_id']"
      ]
     },
     "execution_count": 197,
     "metadata": {},
     "output_type": "execute_result"
    }
   ],
   "source": [
    "srag_mapeado.columns"
   ]
  },
  {
   "cell_type": "markdown",
   "id": "d3022de9-7104-488a-b80a-07bc888e10c2",
   "metadata": {},
   "source": [
    "# SG"
   ]
  },
  {
   "cell_type": "code",
   "execution_count": 31,
   "id": "e34390bf-fcce-4ef7-b5c9-c3fa178a80c2",
   "metadata": {},
   "outputs": [],
   "source": [
    "# sg = spark.read.parquet(\"/dados10t/datalake/standard/vigivac/SG/sg_long_09072022_v9.parquet/\")\n",
    "sg = spark.read.parquet('/dados10t/datalake/standard/omop/data_with_ids/sg_long_09072022_v9-id_omop.parquet/')"
   ]
  },
  {
   "cell_type": "code",
   "execution_count": 199,
   "id": "216d30ee-d268-4dee-b73a-332bf73c80b0",
   "metadata": {
    "collapsed": true,
    "jupyter": {
     "outputs_hidden": true
    },
    "tags": []
   },
   "outputs": [
    {
     "name": "stdout",
     "output_type": "stream",
     "text": [
      "root\n",
      " |-- dt_datanotificacao: date (nullable = true)\n",
      " |-- dt_datainiciosintomas: date (nullable = true)\n",
      " |-- dt_datateste: date (nullable = true)\n",
      " |-- condicoes: string (nullable = true)\n",
      " |-- sintomas: string (nullable = true)\n",
      " |-- classificacaofinal: string (nullable = true)\n",
      " |-- dt_dataencerramento: date (nullable = true)\n",
      " |-- evolucaocaso: string (nullable = true)\n",
      " |-- tipoteste: string (nullable = true)\n",
      " |-- resultadoteste: string (nullable = true)\n",
      " |-- codigotipoteste: string (nullable = true)\n",
      " |-- codigoresultadoteste: string (nullable = true)\n",
      " |-- estadonotificacao: string (nullable = true)\n",
      " |-- municipio: string (nullable = true)\n",
      " |-- estado: string (nullable = true)\n",
      " |-- idade: double (nullable = true)\n",
      " |-- codigo_ibge_resid: string (nullable = true)\n",
      " |-- profissionalsaude: string (nullable = true)\n",
      " |-- cbo: string (nullable = true)\n",
      " |-- evolucaocaso_2: string (nullable = true)\n",
      " |-- classificacaofinal_2: string (nullable = true)\n",
      " |-- sexo_2: string (nullable = true)\n",
      " |-- racacor_2: string (nullable = true)\n",
      " |-- condicoes_2: string (nullable = true)\n",
      " |-- tipoteste_2: string (nullable = true)\n",
      " |-- sg: string (nullable = true)\n",
      " |-- srag: string (nullable = true)\n",
      " |-- vacinacao: string (nullable = true)\n",
      " |-- id_vigvac: long (nullable = true)\n",
      " |-- visit_occurrence_id: integer (nullable = true)\n",
      "\n"
     ]
    }
   ],
   "source": [
    "#\n",
    "sg.printSchema()"
   ]
  },
  {
   "cell_type": "code",
   "execution_count": null,
   "id": "5ef296b5-5708-45eb-9e4f-1d0b049a5f82",
   "metadata": {
    "tags": []
   },
   "outputs": [],
   "source": [
    "#\n",
    "conditions.select('condition').show(100, truncate=False)"
   ]
  },
  {
   "cell_type": "markdown",
   "id": "0323e50b-c28f-43d8-b55d-c0da702b0c70",
   "metadata": {},
   "source": [
    "#### selecao var interesse"
   ]
  },
  {
   "cell_type": "code",
   "execution_count": 32,
   "id": "fff1b025-f11f-46c7-980b-cc3d0421881b",
   "metadata": {},
   "outputs": [],
   "source": [
    "sg = sg.select('id_vigvac', 'visit_occurrence_id', 'dt_datanotificacao', 'dt_datainiciosintomas', 'sintomas', 'condicoes')"
   ]
  },
  {
   "cell_type": "code",
   "execution_count": 33,
   "id": "7fe913e6-5f7d-40f5-9253-1e5f6c50baa0",
   "metadata": {},
   "outputs": [],
   "source": [
    "from collections import defaultdict"
   ]
  },
  {
   "cell_type": "markdown",
   "id": "8f561ca3-e65c-45a9-8ed1-3e929f11e01e",
   "metadata": {},
   "source": [
    "### cleaning sintomas"
   ]
  },
  {
   "cell_type": "code",
   "execution_count": 34,
   "id": "24c43f8e-860a-41c6-9db8-05ed2dd8e9bb",
   "metadata": {},
   "outputs": [],
   "source": [
    "sg = sg\\\n",
    ".withColumn('sintomas_split', F.split('sintomas', ','))\\\n",
    ".withColumn('sintomas_split', F.explode(F.column('sintomas_split')))\\\n",
    ".withColumn('sintomas_split', F.lower(F.trim('sintomas_split')))\\\n",
    ".filter(F.col('sintomas_split') != '')\\\n",
    ".filter(F.col('sintomas_split').isNotNull())"
   ]
  },
  {
   "cell_type": "code",
   "execution_count": 35,
   "id": "121429e7-3b76-43a1-9ed1-e00023e3528a",
   "metadata": {
    "tags": []
   },
   "outputs": [
    {
     "name": "stderr",
     "output_type": "stream",
     "text": [
      "[Stage 12:=================================================>      (28 + 4) / 32]\r"
     ]
    },
    {
     "name": "stdout",
     "output_type": "stream",
     "text": [
      "+------------------------------+--------+\n",
      "|sintomas_split                |count   |\n",
      "+------------------------------+--------+\n",
      "|tosse                         |36424385|\n",
      "|outros                        |27450503|\n",
      "|dor de garganta               |27055974|\n",
      "|dor de cabeça                 |26461410|\n",
      "|febre                         |24347056|\n",
      "|coriza                        |21163193|\n",
      "|assintomático                 |16737995|\n",
      "|dispneia                      |8437573 |\n",
      "|distúrbios gustativos         |5239557 |\n",
      "|distúrbios olfativos          |4920400 |\n",
      "|outros: paciente assintomático|154634  |\n",
      "|dispineia                     |4498    |\n",
      "|dificuldade de respirar       |989     |\n",
      "|tossedificuldade de respirar  |635     |\n",
      "|cefaleia                      |227     |\n",
      "|febredor de garganta          |215     |\n",
      "|dispnéia                      |168     |\n",
      "|fraqueza                      |103     |\n",
      "|adinamia                      |103     |\n",
      "|diarreia                      |86      |\n",
      "+------------------------------+--------+\n",
      "only showing top 20 rows\n",
      "\n"
     ]
    },
    {
     "name": "stderr",
     "output_type": "stream",
     "text": [
      "                                                                                \r"
     ]
    }
   ],
   "source": [
    "#\n",
    "sg.select('sintomas_split').groupBy('sintomas_split').count().orderBy(F.desc('count')).show(truncate=False)"
   ]
  },
  {
   "cell_type": "code",
   "execution_count": 36,
   "id": "5227fb8f-3f0b-44d2-80a8-56c9834206ec",
   "metadata": {},
   "outputs": [],
   "source": [
    "@F.udf(returnType=StringType())\n",
    "def map_sintomas(sintoma):\n",
    "    map_dict = {\n",
    "        'tosse': 'tosse',\n",
    "        'outros': None,\n",
    "        'dor de garganta': 'garganta',\n",
    "        'dor de cabeça': 'cefaleia',\n",
    "        'febre': 'febre',\n",
    "        'coriza': 'coriza',\n",
    "        'assintomático': None,\n",
    "        'dispneia': 'dispneia',\n",
    "        'distúrbios gustativos': 'perd_pala',\n",
    "        'distúrbios olfativos': 'perd_olft',\n",
    "        'outros: paciente assintomático': None,\n",
    "        'dispineia': 'dispneia',\n",
    "        'dificuldade de respirar': 'dispneia',\n",
    "    }\n",
    "    map_dict = defaultdict(lambda: None, map_dict)\n",
    "    return map_dict[sintoma]"
   ]
  },
  {
   "cell_type": "code",
   "execution_count": 37,
   "id": "235030f6-4074-4741-8d48-e6ca37b40dd2",
   "metadata": {},
   "outputs": [],
   "source": [
    "sg = sg.withColumn('sintomas_cleaned', map_sintomas(F.col('sintomas_split')))"
   ]
  },
  {
   "cell_type": "code",
   "execution_count": null,
   "id": "2364ffb3-17f3-4939-91ba-e2655d2560b9",
   "metadata": {
    "tags": []
   },
   "outputs": [],
   "source": [
    "#\n",
    "sg.select('sintomas_cleaned').groupBy('sintomas_cleaned').count().orderBy(F.desc('count'))\\\n",
    ".withColumn('percent', F.col('count')/F.sum('count').over(Window.partitionBy())*100)\\\n",
    ".show(truncate=False)"
   ]
  },
  {
   "cell_type": "markdown",
   "id": "e8690169-a6e4-434b-9259-215515f74e29",
   "metadata": {},
   "source": [
    "### tratamento condicoes"
   ]
  },
  {
   "cell_type": "code",
   "execution_count": 38,
   "id": "a28e6a18-80df-432b-9352-b4435a3614b1",
   "metadata": {
    "tags": []
   },
   "outputs": [],
   "source": [
    "sg = sg\\\n",
    ".withColumn('condicoes_split', F.split('condicoes', ','))\\\n",
    ".withColumn('condicoes_long', F.explode(F.column('condicoes_split')))\\\n",
    ".withColumn('condicoes_long', F.lower(F.trim('condicoes_long')))\\\n",
    ".filter(F.col('condicoes_long') != '')\\\n",
    ".filter(F.col('condicoes_long').isNotNull())"
   ]
  },
  {
   "cell_type": "code",
   "execution_count": 39,
   "id": "e759c560-3f42-4c1a-be16-0872a4188fca",
   "metadata": {
    "tags": []
   },
   "outputs": [
    {
     "name": "stderr",
     "output_type": "stream",
     "text": [
      "[Stage 15:===========================================>            (25 + 7) / 32]\r"
     ]
    },
    {
     "name": "stdout",
     "output_type": "stream",
     "text": [
      "+----------------------------------------------------------------------------------+-------+\n",
      "|condicoes_long                                                                    |count  |\n",
      "+----------------------------------------------------------------------------------+-------+\n",
      "|doenças cardíacas crônicas                                                        |8543609|\n",
      "|diabetes                                                                          |5115115|\n",
      "|doenças respiratórias crônicas descompensadas                                     |4614036|\n",
      "|outros                                                                            |2188102|\n",
      "|obesidade                                                                         |1572126|\n",
      "|gestante                                                                          |1133421|\n",
      "|imunossupressão                                                                   |967933 |\n",
      "|4 ou 5)                                                                           |463952 |\n",
      "|doenças renais crônicas em estágio avançado (graus 3                              |462721 |\n",
      "|portador de doenças cromossômicas ou estado de fragilidade imunológica            |360585 |\n",
      "|puérpera (até 45 dias do parto)                                                   |58333  |\n",
      "|gestante de alto risco                                                            |14469  |\n",
      "|doenças cardíacas crônicas descompensadas                                         |7287   |\n",
      "|imunosupressão                                                                    |2987   |\n",
      "|doenças renais crônicas                                                           |2080   |\n",
      "|doenças cardoacas crônicas                                                        |1396   |\n",
      "|doenças renais crônicas ou em estágio avançado (graus 3                           |1231   |\n",
      "|portador de doenças cromossômicas ou estado de fragilidade                        |1079   |\n",
      "|doença cardiovascular                                                             |1037   |\n",
      "|incluindo hipertensão                                                             |950    |\n",
      "|doença pulmonar crônica                                                           |664    |\n",
      "|puérpera (até 45 dias de parto)                                                   |400    |\n",
      "|doença cardíaca crônica                                                           |280    |\n",
      "|graus 3                                                                           |259    |\n",
      "|doencas cardiacas cronicas                                                        |239    |\n",
      "|doenças renais crônicas em estágio avançado                                       |237    |\n",
      "|4 e 5                                                                             |203    |\n",
      "|doença renal                                                                      |135    |\n",
      "|doencas respiratorias cronicas descompensadas                                     |123    |\n",
      "|imunodeficiência                                                                  |112    |\n",
      "|doenças cardiacas crônicas                                                        |93     |\n",
      "|neoplasia                                                                         |90     |\n",
      "|doenças cardoacas crônicasdoenças respiratórias crônicas descompensadas           |86     |\n",
      "|doença neurológica crônica ou neuromuscular                                       |85     |\n",
      "|tumor sólido ou hematológico                                                      |82     |\n",
      "|gestantes                                                                         |81     |\n",
      "|diabetesdoenças respiratórias crônicas descompensadas                             |62     |\n",
      "|4 ou 5                                                                            |56     |\n",
      "|pressão alta                                                                      |56     |\n",
      "|doença hepática                                                                   |54     |\n",
      "|doenças cardoacas crônicasdoenças renais crônicas                                 |53     |\n",
      "|doenças respitarórias crônicas descompensadas                                     |52     |\n",
      "|infecção pelo hiv                                                                 |48     |\n",
      "|dor de garganta                                                                   |45     |\n",
      "|imunossupressao                                                                   |42     |\n",
      "|febre                                                                             |38     |\n",
      "|dor de cabeça                                                                     |36     |\n",
      "|cansaço                                                                           |31     |\n",
      "|doencas renais cronicas                                                           |30     |\n",
      "|dor muscular                                                                      |30     |\n",
      "|tosse seca                                                                        |29     |\n",
      "|doença cardiovascular crônica                                                     |28     |\n",
      "|dor no corpo                                                                      |28     |\n",
      "|\"                                                                                 |27     |\n",
      "|doenças crônicas descompensadas                                                   |27     |\n",
      "|cansaço\"                                                                          |24     |\n",
      "|parse-cloud                                                                       |24     |\n",
      "|cefaleia                                                                          |22     |\n",
      "|mialgia\"                                                                          |21     |\n",
      "|tremores e calafrios                                                              |20     |\n",
      "|mialgia                                                                           |19     |\n",
      "|perda de olfato ou paladar                                                        |18     |\n",
      "|diarreia\"                                                                         |17     |\n",
      "|doençasrenais crônicas em estágio avançado                                        |15     |\n",
      "|fraqueza                                                                          |14     |\n",
      "|tosse                                                                             |14     |\n",
      "|concluído                                                                         |14     |\n",
      "|mal estar                                                                         |13     |\n",
      "|cefaleia\"                                                                         |13     |\n",
      "|coriza                                                                            |13     |\n",
      "|falta de ar                                                                       |12     |\n",
      "|positivo                                                                          |12     |\n",
      "|notificado por exigência de testagem para viabilizar transferência de serviço\"\". \"|11     |\n",
      "|minas gerais                                                                      |11     |\n",
      "|dor no peito\"                                                                     |11     |\n",
      "|dor nas costas\"                                                                   |11     |\n",
      "|coriza\"                                                                           |10     |\n",
      "|anosmia                                                                           |10     |\n",
      "|diarreia                                                                          |10     |\n",
      "|rt-pcr                                                                            |10     |\n",
      "|espirros\"                                                                         |9      |\n",
      "|cefaléia                                                                          |9      |\n",
      "|garganta seca que desencada tosse seca                                            |9      |\n",
      "|náuseas                                                                           |9      |\n",
      "|dor nos olhos                                                                     |9      |\n",
      "|dor no corpo\"                                                                     |8      |\n",
      "|diarréia                                                                          |8      |\n",
      "|dor nas costas                                                                    |8      |\n",
      "|\"\"zumbido no ouvido\"\".\"                                                           |8      |\n",
      "|cefaléia\"                                                                         |8      |\n",
      "|sem obstru��\"                                                                     |8      |\n",
      "|conjutivite/\"\"olho vermelho\"\"                                                     |8      |\n",
      "|coriza e obstrução nasal                                                          |8      |\n",
      "|fraqueza\"                                                                         |7      |\n",
      "|obstrução nasal                                                                   |7      |\n",
      "|imunossupressãodoenças renais crônicas em estágio avançado                        |7      |\n",
      "|\"\"pigarro\"\"                                                                       |7      |\n",
      "|fadiga\"                                                                           |7      |\n",
      "|conjuntivite/\"\"olho vermelho\"\"  dificuldade de engolir                            |7      |\n",
      "|adinamia                                                                          |7      |\n",
      "+----------------------------------------------------------------------------------+-------+\n",
      "only showing top 100 rows\n",
      "\n"
     ]
    },
    {
     "name": "stderr",
     "output_type": "stream",
     "text": [
      "                                                                                \r"
     ]
    }
   ],
   "source": [
    "#\n",
    "sg.groupBy('condicoes_long').count().orderBy(F.desc('count')).show(100, truncate=False)"
   ]
  },
  {
   "cell_type": "code",
   "execution_count": 40,
   "id": "bfd44c29-cfca-43e0-b3d6-580363901f7d",
   "metadata": {
    "tags": []
   },
   "outputs": [],
   "source": [
    "@F.udf(returnType=StringType())\n",
    "def map_condicoes(condicao):\n",
    "    map_dict = {\n",
    "        'doenças cardíacas crônicas': 'cardiopata',\n",
    "        'diabetes': 'diabetes',\n",
    "        'doenças respiratórias crônicas descompensadas': 'pneumopati', #pneumopatia\n",
    "        'outros': None,\n",
    "        'obesidade': 'obesidade',\n",
    "        'gestante': None,\n",
    "        'imunossupressão': 'imunodepre',\n",
    "        'doenças renais crônicas em estágio avançado (graus 3': 'renal',\n",
    "        'portador de doenças cromossômicas ou estado de fragilidade imunológica': 'imunodepre',\n",
    "        'doenças cardíacas crônicas descompensadas': 'cardiopata',\n",
    "        'doenças renais crônicas': 'renal',\n",
    "        'doenças cardoacas crônicas': 'cardiopata',\n",
    "        'doenças renais crônicas ou em estágio avançado (graus 3': 'renal',\n",
    "        'portador de doenças cromossômicas ou estado de fragilidade': 'imunodepre',\n",
    "        'doença cardiovascular': 'cardiopata'\n",
    "    }\n",
    "    map_dict = defaultdict(lambda: None, map_dict)\n",
    "    return map_dict[condicao]"
   ]
  },
  {
   "cell_type": "code",
   "execution_count": 41,
   "id": "1837f609-bd5e-442a-b427-44df985aa338",
   "metadata": {},
   "outputs": [],
   "source": [
    "sg = sg.withColumn('condicoes_cleaned', map_condicoes(F.col('condicoes_long')))"
   ]
  },
  {
   "cell_type": "code",
   "execution_count": null,
   "id": "49b48da3-c033-4eaf-baca-98d0de898689",
   "metadata": {
    "tags": []
   },
   "outputs": [],
   "source": [
    "# \n",
    "sg.groupBy('condicoes_cleaned')\\\n",
    ".count().orderBy(F.desc('count'))\\\n",
    ".withColumn('percent', F.col('count')/F.sum('count').over(Window.partitionBy())*100)\\\n",
    ".show(100, truncate=False)"
   ]
  },
  {
   "cell_type": "markdown",
   "id": "683a8d62-2394-4d42-9d01-dcf9f53b3038",
   "metadata": {},
   "source": [
    "##### join condicoes + sintomas"
   ]
  },
  {
   "cell_type": "code",
   "execution_count": 42,
   "id": "d820f1fe-1b7f-4643-acb9-e9da74393aab",
   "metadata": {},
   "outputs": [],
   "source": [
    "sg = sg\\\n",
    ".withColumn('condition', F.array(F.col('sintomas_cleaned'), F.col('condicoes_cleaned')))\\\n",
    ".withColumn('condition', F.explode_outer('condition'))\\\n",
    ".filter(F.col('condition').isNotNull())"
   ]
  },
  {
   "cell_type": "code",
   "execution_count": null,
   "id": "3c785c7e-5311-457f-b50d-b4324d31605a",
   "metadata": {},
   "outputs": [],
   "source": [
    "#\n",
    "sg.filter(F.col('condition').isNull()).count()"
   ]
  },
  {
   "cell_type": "markdown",
   "id": "a44e802e-3b27-44fd-ab75-42f32a01a6c5",
   "metadata": {},
   "source": [
    "### mapeamento"
   ]
  },
  {
   "cell_type": "code",
   "execution_count": 43,
   "id": "4b2e515f-5cbd-41e2-8949-04f18f529522",
   "metadata": {},
   "outputs": [],
   "source": [
    "sg_mapeado = sg.join(conditions, 'condition', 'left')"
   ]
  },
  {
   "cell_type": "markdown",
   "id": "55540767-061f-4921-909a-37a9df25faec",
   "metadata": {},
   "source": [
    "### build structure"
   ]
  },
  {
   "cell_type": "code",
   "execution_count": null,
   "id": "088b4519-4f6c-43a5-a9a7-eed645bd9b45",
   "metadata": {
    "tags": []
   },
   "outputs": [],
   "source": [
    "sg_mapeado.printSchema()"
   ]
  },
  {
   "cell_type": "code",
   "execution_count": 44,
   "id": "729ffa4d-ec4c-4f5e-8d4e-2895741cd340",
   "metadata": {},
   "outputs": [],
   "source": [
    "sg_mapeado = sg_mapeado\\\n",
    ".withColumn(\"condition_start_date\", F.coalesce(F.col(\"dt_datainiciosintomas\"), F.col(\"dt_datanotificacao\") ))\\\n",
    ".withColumnRenamed('target_concept_id', 'condition_concept_id')"
   ]
  },
  {
   "cell_type": "code",
   "execution_count": 45,
   "id": "af8df7ae-125f-4b29-b9e3-53d219921ce7",
   "metadata": {},
   "outputs": [],
   "source": [
    "sg_mapeado = sg_mapeado.filter(F.col('condition_start_date').isNotNull())"
   ]
  },
  {
   "cell_type": "code",
   "execution_count": 46,
   "id": "9843af0e-30a1-4a1f-a593-092efef06c52",
   "metadata": {},
   "outputs": [],
   "source": [
    "sg_mapeado = sg_mapeado.select('id_vigvac', 'visit_occurrence_id', 'condition_start_date', 'condition_concept_id')"
   ]
  },
  {
   "cell_type": "code",
   "execution_count": null,
   "id": "5fcf30a1-ee1b-448f-8a72-de81626597cb",
   "metadata": {},
   "outputs": [],
   "source": [
    "sg_mapeado.printSchema()"
   ]
  },
  {
   "cell_type": "markdown",
   "id": "2ee89f80-0ccb-4bb2-891b-a4543d2bc244",
   "metadata": {},
   "source": [
    "# union SG+SRAG"
   ]
  },
  {
   "cell_type": "code",
   "execution_count": 47,
   "id": "4d36d82a-9119-47eb-a54c-456cb0a4e406",
   "metadata": {},
   "outputs": [],
   "source": [
    "sg_srag = sg_mapeado.union(srag_mapeado)"
   ]
  },
  {
   "cell_type": "code",
   "execution_count": 48,
   "id": "23828a18-252f-4448-964f-16c120ee0980",
   "metadata": {},
   "outputs": [
    {
     "name": "stderr",
     "output_type": "stream",
     "text": [
      "                                                                                \r"
     ]
    }
   ],
   "source": [
    "sg_srag = sg_srag.checkpoint()"
   ]
  },
  {
   "cell_type": "code",
   "execution_count": 217,
   "id": "e4c5f876-6940-4f97-9a08-242ed4e40504",
   "metadata": {},
   "outputs": [
    {
     "name": "stderr",
     "output_type": "stream",
     "text": [
      "                                                                                \r"
     ]
    },
    {
     "data": {
      "text/plain": [
       "36895473"
      ]
     },
     "execution_count": 217,
     "metadata": {},
     "output_type": "execute_result"
    }
   ],
   "source": [
    "sg_srag.distinct().count()"
   ]
  },
  {
   "cell_type": "code",
   "execution_count": 218,
   "id": "d533b45f-19b7-44eb-a4d3-5156d2e096d1",
   "metadata": {},
   "outputs": [
    {
     "name": "stderr",
     "output_type": "stream",
     "text": [
      "                                                                                \r"
     ]
    },
    {
     "data": {
      "text/plain": [
       "67601332"
      ]
     },
     "execution_count": 218,
     "metadata": {},
     "output_type": "execute_result"
    }
   ],
   "source": [
    "sg_srag.count()"
   ]
  },
  {
   "cell_type": "code",
   "execution_count": 49,
   "id": "33034e3d-0303-4329-811f-3b88763b9ca3",
   "metadata": {},
   "outputs": [],
   "source": [
    "sg_srag = sg_srag.distinct()"
   ]
  },
  {
   "cell_type": "code",
   "execution_count": 235,
   "id": "ad3a50db-80d4-4e11-b19b-8de6106a81bf",
   "metadata": {},
   "outputs": [
    {
     "name": "stdout",
     "output_type": "stream",
     "text": [
      "root\n",
      " |-- id_vigvac: long (nullable = true)\n",
      " |-- visit_occurrence_id: long (nullable = true)\n",
      " |-- condition_start_date: date (nullable = true)\n",
      " |-- condition_concept_id: string (nullable = true)\n",
      " |-- person_id: long (nullable = true)\n",
      " |-- condition_type_concept_id: integer (nullable = false)\n",
      "\n"
     ]
    }
   ],
   "source": [
    "sg_srag.printSchema()"
   ]
  },
  {
   "cell_type": "markdown",
   "id": "6ede4663-a319-447c-be6a-1032a26211fa",
   "metadata": {},
   "source": [
    "## person_id "
   ]
  },
  {
   "cell_type": "code",
   "execution_count": 50,
   "id": "d03d2677-9f46-4075-a738-102ebd0995cd",
   "metadata": {},
   "outputs": [],
   "source": [
    "person_id = spark.read.parquet(\"/dados10t/datalake/standard/omop/tabelas_omop_cmd_5.4_v1/tb_person.parquet/\")\\\n",
    ".select('person_id', 'id_vigvac')"
   ]
  },
  {
   "cell_type": "code",
   "execution_count": 51,
   "id": "46253f8f-605a-4ff3-9c05-64824afb849a",
   "metadata": {},
   "outputs": [],
   "source": [
    "sg_srag = sg_srag.join(person_id, 'id_vigvac', 'inner')"
   ]
  },
  {
   "cell_type": "markdown",
   "id": "b80e6b40-c94c-4035-af58-4f8e7089609e",
   "metadata": {},
   "source": [
    "## condition_type_concept_id "
   ]
  },
  {
   "cell_type": "code",
   "execution_count": 52,
   "id": "4331cb69-146c-40ca-a6f8-207260a81755",
   "metadata": {},
   "outputs": [],
   "source": [
    "sg_srag = sg_srag.withColumn('condition_type_concept_id', F.lit(32817))"
   ]
  },
  {
   "cell_type": "markdown",
   "id": "f261ed5b-5a88-40c6-b9d6-a0327d154a07",
   "metadata": {},
   "source": [
    "## condition_occurrence_id  "
   ]
  },
  {
   "cell_type": "code",
   "execution_count": 49,
   "id": "cf0585a4-522c-43c3-95bd-ecd716dec064",
   "metadata": {},
   "outputs": [
    {
     "name": "stderr",
     "output_type": "stream",
     "text": [
      "                                                                                \r"
     ]
    }
   ],
   "source": [
    "# full_id = sg_srag.withColumn(\"new_column\", F.lit(\"ABC\"))\n",
    "# w = Window().partitionBy('new_column').orderBy(F.lit('A'))\n",
    "# full_id_with_row = full_id.withColumn(\"condition_occurrence_id\",F.row_number().over(w)).drop(\"new_column\").checkpoint()"
   ]
  },
  {
   "cell_type": "code",
   "execution_count": 53,
   "id": "22c2a5aa-062a-4896-8dd5-b86bc767a469",
   "metadata": {},
   "outputs": [
    {
     "name": "stderr",
     "output_type": "stream",
     "text": [
      "                                                                                \r"
     ]
    }
   ],
   "source": [
    "full_id_with_row = sg_srag.rdd.zipWithIndex().toDF().select(F.col(\"_1.*\"),F.col(\"_2\").alias('condition_occurrence_id'))"
   ]
  },
  {
   "cell_type": "raw",
   "id": "ddf200fa-cfb8-4d8f-b37e-4a06bcbda123",
   "metadata": {},
   "source": [
    "full_id_with_row.printSchema()"
   ]
  },
  {
   "cell_type": "code",
   "execution_count": 229,
   "id": "04578540-7619-402d-b9dd-deec070eab6e",
   "metadata": {
    "collapsed": true,
    "jupyter": {
     "outputs_hidden": true
    },
    "tags": []
   },
   "outputs": [
    {
     "name": "stderr",
     "output_type": "stream",
     "text": [
      "[Stage 153:=====================================================> (39 + 1) / 40]\r"
     ]
    },
    {
     "name": "stdout",
     "output_type": "stream",
     "text": [
      "+-------+--------------------+--------------------+--------------------+--------------------+-------------------------+-----------------------+\n",
      "|summary|           id_vigvac| visit_occurrence_id|condition_concept_id|           person_id|condition_type_concept_id|condition_occurrence_id|\n",
      "+-------+--------------------+--------------------+--------------------+--------------------+-------------------------+-----------------------+\n",
      "|  count|            67601332|            67601332|            67601332|            67601332|                 67601332|               67601332|\n",
      "|   mean|8.549695098373966E11|2.5263576198494256E8|   3739213.146207341| 9.420135634837797E7|                  32817.0|           3.38006655E7|\n",
      "| stddev|4.959038378632853E11| 2.455860063588613E8|   9271859.504480254|5.4414195757757865E7|                      0.0|     1.95148237582262E7|\n",
      "|    min|                   7|                   0|              196523|                   2|                    32817|                      0|\n",
      "|    max|       1709397927883|           531600926|              903657|           188537305|                    32817|               67601331|\n",
      "+-------+--------------------+--------------------+--------------------+--------------------+-------------------------+-----------------------+\n",
      "\n"
     ]
    },
    {
     "name": "stderr",
     "output_type": "stream",
     "text": [
      "                                                                                \r"
     ]
    }
   ],
   "source": [
    "full_id_with_row.describe().show()"
   ]
  },
  {
   "cell_type": "code",
   "execution_count": 54,
   "id": "b4adc0a6-3e30-4acf-90dc-4f09194bb6af",
   "metadata": {},
   "outputs": [],
   "source": [
    "full_id_with_row = full_id_with_row\\\n",
    ".withColumn('visit_occurrence_id', F.col('visit_occurrence_id').cast(IntegerType()))\\\n",
    ".withColumn('condition_concept_id', F.col('condition_concept_id').cast(IntegerType()))\\\n",
    ".withColumn('person_id', F.col('person_id').cast(IntegerType()))\\\n",
    ".withColumn('condition_type_concept_id', F.col('condition_type_concept_id').cast(IntegerType()))\\\n",
    ".withColumn('condition_occurrence_id', F.col('condition_occurrence_id').cast(IntegerType()))"
   ]
  },
  {
   "cell_type": "markdown",
   "id": "0ee36a56-60cf-4930-935b-a97aa0e27c14",
   "metadata": {},
   "source": [
    "### writing to disk"
   ]
  },
  {
   "cell_type": "markdown",
   "id": "7fdb8015-733f-4f21-88d0-631e872bdd3d",
   "metadata": {},
   "source": [
    "##### data"
   ]
  },
  {
   "cell_type": "code",
   "execution_count": 55,
   "id": "b1c1f658-0af9-4da4-aea5-800b9c17c759",
   "metadata": {},
   "outputs": [
    {
     "name": "stderr",
     "output_type": "stream",
     "text": [
      "23/10/20 18:04:01 WARN JavaUtils: Attempt to delete using native Unix OS command failed for path = /dados10t/datalake/raw/checkpoint_dir/blockmgr-65875f42-1649-42d6-81d2-90c921737bd3. Falling back to Java IO way\n",
      "java.io.IOException: Failed to delete: /dados10t/datalake/raw/checkpoint_dir/blockmgr-65875f42-1649-42d6-81d2-90c921737bd3\n",
      "\tat org.apache.spark.network.util.JavaUtils.deleteRecursivelyUsingUnixNative(JavaUtils.java:177)\n",
      "\tat org.apache.spark.network.util.JavaUtils.deleteRecursively(JavaUtils.java:113)\n",
      "\tat org.apache.spark.network.util.JavaUtils.deleteRecursively(JavaUtils.java:94)\n",
      "\tat org.apache.spark.util.Utils$.deleteRecursively(Utils.scala:1231)\n",
      "\tat org.apache.spark.storage.DiskBlockManager.$anonfun$doStop$1(DiskBlockManager.scala:368)\n",
      "\tat org.apache.spark.storage.DiskBlockManager.$anonfun$doStop$1$adapted(DiskBlockManager.scala:364)\n",
      "\tat scala.collection.IndexedSeqOptimized.foreach(IndexedSeqOptimized.scala:36)\n",
      "\tat scala.collection.IndexedSeqOptimized.foreach$(IndexedSeqOptimized.scala:33)\n",
      "\tat scala.collection.mutable.ArrayOps$ofRef.foreach(ArrayOps.scala:198)\n",
      "\tat org.apache.spark.storage.DiskBlockManager.doStop(DiskBlockManager.scala:364)\n",
      "\tat org.apache.spark.storage.DiskBlockManager.stop(DiskBlockManager.scala:359)\n",
      "\tat org.apache.spark.storage.BlockManager.stop(BlockManager.scala:2052)\n",
      "\tat org.apache.spark.SparkEnv.stop(SparkEnv.scala:95)\n",
      "\tat org.apache.spark.SparkContext.$anonfun$stop$25(SparkContext.scala:2175)\n",
      "\tat org.apache.spark.util.Utils$.tryLogNonFatalError(Utils.scala:1509)\n",
      "\tat org.apache.spark.SparkContext.stop(SparkContext.scala:2175)\n",
      "\tat org.apache.spark.SparkContext.stop(SparkContext.scala:2081)\n",
      "\tat org.apache.spark.SparkContext.$anonfun$new$31(SparkContext.scala:664)\n",
      "\tat org.apache.spark.util.SparkShutdownHook.run(ShutdownHookManager.scala:214)\n",
      "\tat org.apache.spark.util.SparkShutdownHookManager.$anonfun$runAll$2(ShutdownHookManager.scala:188)\n",
      "\tat scala.runtime.java8.JFunction0$mcV$sp.apply(JFunction0$mcV$sp.java:23)\n",
      "\tat org.apache.spark.util.Utils$.logUncaughtExceptions(Utils.scala:2088)\n",
      "\tat org.apache.spark.util.SparkShutdownHookManager.$anonfun$runAll$1(ShutdownHookManager.scala:188)\n",
      "\tat scala.runtime.java8.JFunction0$mcV$sp.apply(JFunction0$mcV$sp.java:23)\n",
      "\tat scala.util.Try$.apply(Try.scala:213)\n",
      "\tat org.apache.spark.util.SparkShutdownHookManager.runAll(ShutdownHookManager.scala:188)\n",
      "\tat org.apache.spark.util.SparkShutdownHookManager$$anon$2.run(ShutdownHookManager.scala:178)\n",
      "\tat java.util.concurrent.Executors$RunnableAdapter.call(Executors.java:511)\n",
      "\tat java.util.concurrent.FutureTask.run(FutureTask.java:266)\n",
      "\tat java.util.concurrent.ThreadPoolExecutor.runWorker(ThreadPoolExecutor.java:1149)\n",
      "\tat java.util.concurrent.ThreadPoolExecutor$Worker.run(ThreadPoolExecutor.java:624)\n",
      "\tat java.lang.Thread.run(Thread.java:748)\n",
      "23/10/20 18:04:01 WARN JavaUtils: Attempt to delete using native Unix OS command failed for path = /dados10t/datalake/raw/checkpoint_dir/blockmgr-65875f42-1649-42d6-81d2-90c921737bd3/38. Falling back to Java IO way\n",
      "java.io.IOException: Failed to delete: /dados10t/datalake/raw/checkpoint_dir/blockmgr-65875f42-1649-42d6-81d2-90c921737bd3/38\n",
      "\tat org.apache.spark.network.util.JavaUtils.deleteRecursivelyUsingUnixNative(JavaUtils.java:177)\n",
      "\tat org.apache.spark.network.util.JavaUtils.deleteRecursively(JavaUtils.java:113)\n",
      "\tat org.apache.spark.network.util.JavaUtils.deleteRecursivelyUsingJavaIO(JavaUtils.java:133)\n",
      "\tat org.apache.spark.network.util.JavaUtils.deleteRecursively(JavaUtils.java:121)\n",
      "\tat org.apache.spark.network.util.JavaUtils.deleteRecursively(JavaUtils.java:94)\n",
      "\tat org.apache.spark.util.Utils$.deleteRecursively(Utils.scala:1231)\n",
      "\tat org.apache.spark.storage.DiskBlockManager.$anonfun$doStop$1(DiskBlockManager.scala:368)\n",
      "\tat org.apache.spark.storage.DiskBlockManager.$anonfun$doStop$1$adapted(DiskBlockManager.scala:364)\n",
      "\tat scala.collection.IndexedSeqOptimized.foreach(IndexedSeqOptimized.scala:36)\n",
      "\tat scala.collection.IndexedSeqOptimized.foreach$(IndexedSeqOptimized.scala:33)\n",
      "\tat scala.collection.mutable.ArrayOps$ofRef.foreach(ArrayOps.scala:198)\n",
      "\tat org.apache.spark.storage.DiskBlockManager.doStop(DiskBlockManager.scala:364)\n",
      "\tat org.apache.spark.storage.DiskBlockManager.stop(DiskBlockManager.scala:359)\n",
      "\tat org.apache.spark.storage.BlockManager.stop(BlockManager.scala:2052)\n",
      "\tat org.apache.spark.SparkEnv.stop(SparkEnv.scala:95)\n",
      "\tat org.apache.spark.SparkContext.$anonfun$stop$25(SparkContext.scala:2175)\n",
      "\tat org.apache.spark.util.Utils$.tryLogNonFatalError(Utils.scala:1509)\n",
      "\tat org.apache.spark.SparkContext.stop(SparkContext.scala:2175)\n",
      "\tat org.apache.spark.SparkContext.stop(SparkContext.scala:2081)\n",
      "\tat org.apache.spark.SparkContext.$anonfun$new$31(SparkContext.scala:664)\n",
      "\tat org.apache.spark.util.SparkShutdownHook.run(ShutdownHookManager.scala:214)\n",
      "\tat org.apache.spark.util.SparkShutdownHookManager.$anonfun$runAll$2(ShutdownHookManager.scala:188)\n",
      "\tat scala.runtime.java8.JFunction0$mcV$sp.apply(JFunction0$mcV$sp.java:23)\n",
      "\tat org.apache.spark.util.Utils$.logUncaughtExceptions(Utils.scala:2088)\n",
      "\tat org.apache.spark.util.SparkShutdownHookManager.$anonfun$runAll$1(ShutdownHookManager.scala:188)\n",
      "\tat scala.runtime.java8.JFunction0$mcV$sp.apply(JFunction0$mcV$sp.java:23)\n",
      "\tat scala.util.Try$.apply(Try.scala:213)\n",
      "\tat org.apache.spark.util.SparkShutdownHookManager.runAll(ShutdownHookManager.scala:188)\n",
      "\tat org.apache.spark.util.SparkShutdownHookManager$$anon$2.run(ShutdownHookManager.scala:178)\n",
      "\tat java.util.concurrent.Executors$RunnableAdapter.call(Executors.java:511)\n",
      "\tat java.util.concurrent.FutureTask.run(FutureTask.java:266)\n",
      "\tat java.util.concurrent.ThreadPoolExecutor.runWorker(ThreadPoolExecutor.java:1149)\n",
      "\tat java.util.concurrent.ThreadPoolExecutor$Worker.run(ThreadPoolExecutor.java:624)\n",
      "\tat java.lang.Thread.run(Thread.java:748)\n",
      "23/10/20 18:04:02 WARN JavaUtils: Attempt to delete using native Unix OS command failed for path = /dados10t/datalake/raw/checkpoint_dir/blockmgr-65875f42-1649-42d6-81d2-90c921737bd3/21. Falling back to Java IO way\n",
      "java.io.IOException: Failed to delete: /dados10t/datalake/raw/checkpoint_dir/blockmgr-65875f42-1649-42d6-81d2-90c921737bd3/21\n",
      "\tat org.apache.spark.network.util.JavaUtils.deleteRecursivelyUsingUnixNative(JavaUtils.java:177)\n",
      "\tat org.apache.spark.network.util.JavaUtils.deleteRecursively(JavaUtils.java:113)\n",
      "\tat org.apache.spark.network.util.JavaUtils.deleteRecursivelyUsingJavaIO(JavaUtils.java:133)\n",
      "\tat org.apache.spark.network.util.JavaUtils.deleteRecursively(JavaUtils.java:121)\n",
      "\tat org.apache.spark.network.util.JavaUtils.deleteRecursively(JavaUtils.java:94)\n",
      "\tat org.apache.spark.util.Utils$.deleteRecursively(Utils.scala:1231)\n",
      "\tat org.apache.spark.storage.DiskBlockManager.$anonfun$doStop$1(DiskBlockManager.scala:368)\n",
      "\tat org.apache.spark.storage.DiskBlockManager.$anonfun$doStop$1$adapted(DiskBlockManager.scala:364)\n",
      "\tat scala.collection.IndexedSeqOptimized.foreach(IndexedSeqOptimized.scala:36)\n",
      "\tat scala.collection.IndexedSeqOptimized.foreach$(IndexedSeqOptimized.scala:33)\n",
      "\tat scala.collection.mutable.ArrayOps$ofRef.foreach(ArrayOps.scala:198)\n",
      "\tat org.apache.spark.storage.DiskBlockManager.doStop(DiskBlockManager.scala:364)\n",
      "\tat org.apache.spark.storage.DiskBlockManager.stop(DiskBlockManager.scala:359)\n",
      "\tat org.apache.spark.storage.BlockManager.stop(BlockManager.scala:2052)\n",
      "\tat org.apache.spark.SparkEnv.stop(SparkEnv.scala:95)\n",
      "\tat org.apache.spark.SparkContext.$anonfun$stop$25(SparkContext.scala:2175)\n",
      "\tat org.apache.spark.util.Utils$.tryLogNonFatalError(Utils.scala:1509)\n",
      "\tat org.apache.spark.SparkContext.stop(SparkContext.scala:2175)\n",
      "\tat org.apache.spark.SparkContext.stop(SparkContext.scala:2081)\n",
      "\tat org.apache.spark.SparkContext.$anonfun$new$31(SparkContext.scala:664)\n",
      "\tat org.apache.spark.util.SparkShutdownHook.run(ShutdownHookManager.scala:214)\n",
      "\tat org.apache.spark.util.SparkShutdownHookManager.$anonfun$runAll$2(ShutdownHookManager.scala:188)\n",
      "\tat scala.runtime.java8.JFunction0$mcV$sp.apply(JFunction0$mcV$sp.java:23)\n",
      "\tat org.apache.spark.util.Utils$.logUncaughtExceptions(Utils.scala:2088)\n",
      "\tat org.apache.spark.util.SparkShutdownHookManager.$anonfun$runAll$1(ShutdownHookManager.scala:188)\n",
      "\tat scala.runtime.java8.JFunction0$mcV$sp.apply(JFunction0$mcV$sp.java:23)\n",
      "\tat scala.util.Try$.apply(Try.scala:213)\n",
      "\tat org.apache.spark.util.SparkShutdownHookManager.runAll(ShutdownHookManager.scala:188)\n",
      "\tat org.apache.spark.util.SparkShutdownHookManager$$anon$2.run(ShutdownHookManager.scala:178)\n",
      "\tat java.util.concurrent.Executors$RunnableAdapter.call(Executors.java:511)\n",
      "\tat java.util.concurrent.FutureTask.run(FutureTask.java:266)\n",
      "\tat java.util.concurrent.ThreadPoolExecutor.runWorker(ThreadPoolExecutor.java:1149)\n",
      "\tat java.util.concurrent.ThreadPoolExecutor$Worker.run(ThreadPoolExecutor.java:624)\n",
      "\tat java.lang.Thread.run(Thread.java:748)\n"
     ]
    }
   ],
   "source": [
    "full_id_with_row.drop('id_vigvac').write.parquet(\"/dados10t/datalake/standard/omop/tabelas_omop_cmd_5.4_v1/tb_condition_occurence_data.parquet\")"
   ]
  },
  {
   "cell_type": "code",
   "execution_count": null,
   "id": "fa25a61c-4cba-4766-88a8-a6df9e4a3889",
   "metadata": {},
   "outputs": [],
   "source": []
  }
 ],
 "metadata": {
  "kernelspec": {
   "display_name": "base",
   "language": "python",
   "name": "base"
  },
  "language_info": {
   "codemirror_mode": {
    "name": "ipython",
    "version": 3
   },
   "file_extension": ".py",
   "mimetype": "text/x-python",
   "name": "python",
   "nbconvert_exporter": "python",
   "pygments_lexer": "ipython3",
   "version": "3.11.4"
  }
 },
 "nbformat": 4,
 "nbformat_minor": 5
}
