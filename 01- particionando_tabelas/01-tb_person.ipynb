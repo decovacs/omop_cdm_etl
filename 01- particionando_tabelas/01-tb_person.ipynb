{
 "cells": [
  {
   "cell_type": "code",
   "execution_count": 1,
   "id": "3d90cc9c",
   "metadata": {},
   "outputs": [
    {
     "name": "stderr",
     "output_type": "stream",
     "text": [
      "/tmp/ipykernel_53001/1286269870.py:1: DeprecationWarning: Importing display from IPython.core.display is deprecated since IPython 7.14, please import from IPython display\n",
      "  from IPython.core.display import display, HTML\n"
     ]
    },
    {
     "data": {
      "text/html": [
       "<style>.container { width:100% !important; }</style>"
      ],
      "text/plain": [
       "<IPython.core.display.HTML object>"
      ]
     },
     "metadata": {},
     "output_type": "display_data"
    }
   ],
   "source": [
    "from IPython.core.display import display, HTML\n",
    "display(HTML(\"<style>.container { width:100% !important; }</style>\"))\n",
    "from pyspark.sql import functions as F\n",
    "from pyspark.sql.types import *"
   ]
  },
  {
   "cell_type": "code",
   "execution_count": 2,
   "id": "9e891530",
   "metadata": {},
   "outputs": [
    {
     "name": "stderr",
     "output_type": "stream",
     "text": [
      "                                                                                \r"
     ]
    }
   ],
   "source": [
    "sg  = spark.read.parquet(\"/dados10t/datalake/standard/vigivac/SG/sg_long_09072022_v9.parquet/\")\n",
    "vac  = spark.read.parquet(\"/dados10t/datalake/standard/vigivac/vacinacao/vacinacao07072022_pessoasunicas_5doses_v17.parquet/\")\n",
    "srag  = spark.read.parquet(\"/dados10t/datalake/standard/vigivac/srag/dbsrag_tb_influd_long_09072022_v8.parquet/\")"
   ]
  },
  {
   "cell_type": "code",
   "execution_count": 3,
   "id": "cc26991e",
   "metadata": {},
   "outputs": [],
   "source": [
    "id_vigivac = spark.read.parquet(\"/dados10t/datalake/standard/vigivac/base_analise/id_paciente_to_id_vigivac/id_vigivac_id_paciente_09072022.parquet/\")\n",
    "id_vigivac_v2 = id_vigivac.select(\"id_paciente\",\"id_vigvac\",\"vacinacao\")"
   ]
  },
  {
   "cell_type": "code",
   "execution_count": 4,
   "id": "2a6c64fb",
   "metadata": {},
   "outputs": [],
   "source": [
    "vac_raw  = spark.read.parquet(\"/dados10t/datalake/raw/vigivac/vacinacao/vacinacao07072022_v5.parquet/\")\n",
    "sg_raw  = spark.read.parquet(\"/dados10t/datalake/raw/vigivac/sg/dbnotifica_tb_sindrome_gripal_from_pandas_09072022.parquet/\")\n",
    "srag_raw  = spark.read.parquet(\"/dados10t/datalake/raw/vigivac/srag/dbsrag_tb_influd_from_pandas_09072022.parquet/\")"
   ]
  },
  {
   "cell_type": "code",
   "execution_count": null,
   "id": "54292a61",
   "metadata": {},
   "outputs": [],
   "source": []
  },
  {
   "cell_type": "code",
   "execution_count": 5,
   "id": "7d2b9793",
   "metadata": {},
   "outputs": [],
   "source": [
    "vac_raw_dt = vac_raw.select(\"id_paciente\",\"paciente_datanascimento\")\n",
    "sg_raw_dt = sg_raw.select(\"id_paciente\",\"datanascimento\")\n",
    "srag_raw_dt = srag_raw.select(\"id_paciente\",\"dt_nasc\")"
   ]
  },
  {
   "cell_type": "code",
   "execution_count": 6,
   "id": "9f132d47",
   "metadata": {},
   "outputs": [],
   "source": [
    "srag_raw_dt_grouped = srag_raw_dt.groupBy(\"id_paciente\").agg( F.first(\"dt_nasc\",ignorenulls=True).alias(\"dt_nasc\") )\n",
    "sg_raw_dt_grouped = sg_raw_dt.groupBy(\"id_paciente\").agg( F.first(\"datanascimento\",ignorenulls=True).alias(\"datanascimento\") )\n",
    "vac_raw_dt_grouped = vac_raw_dt.groupBy(\"id_paciente\").agg( F.first(\"paciente_datanascimento\",ignorenulls=True).alias(\"paciente_datanascimento\") )"
   ]
  },
  {
   "cell_type": "code",
   "execution_count": null,
   "id": "2d6ecef0",
   "metadata": {},
   "outputs": [],
   "source": []
  },
  {
   "cell_type": "code",
   "execution_count": 7,
   "id": "b70871c4",
   "metadata": {},
   "outputs": [
    {
     "name": "stdout",
     "output_type": "stream",
     "text": [
      "root\n",
      " |-- dt_datanotificacao: date (nullable = true)\n",
      " |-- dt_datainiciosintomas: date (nullable = true)\n",
      " |-- dt_datateste: date (nullable = true)\n",
      " |-- condicoes: string (nullable = true)\n",
      " |-- sintomas: string (nullable = true)\n",
      " |-- classificacaofinal: string (nullable = true)\n",
      " |-- dt_dataencerramento: date (nullable = true)\n",
      " |-- evolucaocaso: string (nullable = true)\n",
      " |-- tipoteste: string (nullable = true)\n",
      " |-- resultadoteste: string (nullable = true)\n",
      " |-- codigotipoteste: string (nullable = true)\n",
      " |-- codigoresultadoteste: string (nullable = true)\n",
      " |-- estadonotificacao: string (nullable = true)\n",
      " |-- municipio: string (nullable = true)\n",
      " |-- estado: string (nullable = true)\n",
      " |-- idade: double (nullable = true)\n",
      " |-- codigo_ibge_resid: string (nullable = true)\n",
      " |-- profissionalsaude: string (nullable = true)\n",
      " |-- cbo: string (nullable = true)\n",
      " |-- evolucaocaso_2: string (nullable = true)\n",
      " |-- classificacaofinal_2: string (nullable = true)\n",
      " |-- sexo_2: string (nullable = true)\n",
      " |-- racacor_2: string (nullable = true)\n",
      " |-- condicoes_2: string (nullable = true)\n",
      " |-- tipoteste_2: string (nullable = true)\n",
      " |-- sg: string (nullable = true)\n",
      " |-- srag: string (nullable = true)\n",
      " |-- vacinacao: string (nullable = true)\n",
      " |-- id_vigvac: long (nullable = true)\n",
      "\n"
     ]
    }
   ],
   "source": [
    "sg.printSchema()"
   ]
  },
  {
   "cell_type": "code",
   "execution_count": 8,
   "id": "df633e58",
   "metadata": {},
   "outputs": [],
   "source": [
    "sg = sg.withColumn(\"diffdays\",F.datediff(\"dt_dataencerramento\",\"dt_datanotificacao\") )"
   ]
  },
  {
   "cell_type": "code",
   "execution_count": 9,
   "id": "575f4752",
   "metadata": {},
   "outputs": [
    {
     "name": "stdout",
     "output_type": "stream",
     "text": [
      "+------------------+-------------------+--------+\n",
      "|dt_datanotificacao|dt_dataencerramento|diffdays|\n",
      "+------------------+-------------------+--------+\n",
      "|        2021-06-02|               null|    null|\n",
      "|        2021-03-26|         2021-05-24|      59|\n",
      "|        2022-01-13|               null|    null|\n",
      "|        2022-01-24|               null|    null|\n",
      "|        2021-01-26|         2021-02-02|       7|\n",
      "|        2022-01-20|               null|    null|\n",
      "|        2021-04-12|               null|    null|\n",
      "|        2021-02-19|               null|    null|\n",
      "|        2022-03-11|               null|    null|\n",
      "|        2021-05-09|               null|    null|\n",
      "+------------------+-------------------+--------+\n",
      "only showing top 10 rows\n",
      "\n"
     ]
    }
   ],
   "source": [
    "sg.select(\"dt_datanotificacao\",\"dt_dataencerramento\",\"diffdays\").show(10)"
   ]
  },
  {
   "cell_type": "code",
   "execution_count": 10,
   "id": "9e85127f",
   "metadata": {},
   "outputs": [],
   "source": [
    "#sg.filter(F.col(\"dt_dataencerramento\").isNotNull()).count()"
   ]
  },
  {
   "cell_type": "code",
   "execution_count": 11,
   "id": "62a1b38d",
   "metadata": {},
   "outputs": [],
   "source": [
    "#sg.count()"
   ]
  },
  {
   "cell_type": "code",
   "execution_count": 12,
   "id": "64e9edab",
   "metadata": {},
   "outputs": [
    {
     "name": "stdout",
     "output_type": "stream",
     "text": [
      "+--------------------+----------+\n",
      "|          id_mn_resi|co_mun_res|\n",
      "+--------------------+----------+\n",
      "|      BELO HORIZONTE|    310620|\n",
      "|           SAO PAULO|    355030|\n",
      "|             ARACUAI|    310340|\n",
      "|CONSELHEIRO LAFAIETE|    311830|\n",
      "|             ERECHIM|    430700|\n",
      "|           FORTALEZA|    230440|\n",
      "|          VILA VELHA|    320520|\n",
      "|      BELO HORIZONTE|    310620|\n",
      "|              MARABA|    150420|\n",
      "|             CUBATAO|    351350|\n",
      "+--------------------+----------+\n",
      "only showing top 10 rows\n",
      "\n"
     ]
    }
   ],
   "source": [
    "srag.select(\"id_mn_resi\",\"co_mun_res\").show(10)"
   ]
  },
  {
   "cell_type": "code",
   "execution_count": 13,
   "id": "69d30e35",
   "metadata": {},
   "outputs": [
    {
     "name": "stdout",
     "output_type": "stream",
     "text": [
      "+----------+----------+\n",
      "|co_un_inte|co_uni_not|\n",
      "+----------+----------+\n",
      "|      null|   0023051|\n",
      "|   6668143|   6668143|\n",
      "|   2134276|   2134276|\n",
      "|   2098326|   8000956|\n",
      "|   2249472|   2249472|\n",
      "|      null|   2527057|\n",
      "|   7257406|   7257406|\n",
      "|   7866801|   7866801|\n",
      "|   2615797|   2615797|\n",
      "|   2078473|   2078473|\n",
      "|   2263823|   2263823|\n",
      "|   2576341|   2576341|\n",
      "|   7107366|   7107366|\n",
      "|   0012521|   0012521|\n",
      "|   9383298|   9383298|\n",
      "|   2089777|   2089777|\n",
      "|   2352516|   2352516|\n",
      "|   2022877|   2022877|\n",
      "|   2200902|   2200902|\n",
      "|   2079127|   2079127|\n",
      "+----------+----------+\n",
      "only showing top 20 rows\n",
      "\n"
     ]
    }
   ],
   "source": [
    "srag.select(\"co_un_inte\",\"co_uni_not\").show(20)"
   ]
  },
  {
   "cell_type": "code",
   "execution_count": 14,
   "id": "e448ea8e",
   "metadata": {
    "scrolled": true
   },
   "outputs": [
    {
     "name": "stdout",
     "output_type": "stream",
     "text": [
      "root\n",
      " |-- d_sexo: string (nullable = true)\n",
      " |-- d_codibge: string (nullable = true)\n",
      " |-- d_idade: double (nullable = true)\n",
      " |-- d_racacor: string (nullable = true)\n",
      " |-- d_paciente_endereco_uf: string (nullable = true)\n",
      " |-- d_total_regitros_dedup: double (nullable = true)\n",
      " |-- d1_nome_vacina: string (nullable = true)\n",
      " |-- d1_data_aplicacao: date (nullable = true)\n",
      " |-- d1_estab_mun_codigo: string (nullable = true)\n",
      " |-- d1_estab_valor: string (nullable = true)\n",
      " |-- d1_vacina_grupoAtendimento_nome: string (nullable = true)\n",
      " |-- d1_vacina_categoria_nome: string (nullable = true)\n",
      " |-- d1_vacina_dose: string (nullable = true)\n",
      " |-- d2_nome_vacina: string (nullable = true)\n",
      " |-- d2_data_aplicacao: date (nullable = true)\n",
      " |-- d2_estab_mun_codigo: string (nullable = true)\n",
      " |-- d2_estab_valor: string (nullable = true)\n",
      " |-- d2_vacina_grupoAtendimento_nome: string (nullable = true)\n",
      " |-- d2_vacina_categoria_nome: string (nullable = true)\n",
      " |-- d2_vacina_dose: string (nullable = true)\n",
      " |-- d3_nome_vacina: string (nullable = true)\n",
      " |-- d3_data_aplicacao: date (nullable = true)\n",
      " |-- d3_estab_mun_codigo: string (nullable = true)\n",
      " |-- d3_estab_valor: string (nullable = true)\n",
      " |-- d3_vacina_grupoAtendimento_nome: string (nullable = true)\n",
      " |-- d3_vacina_categoria_nome: string (nullable = true)\n",
      " |-- d3_vacina_dose: string (nullable = true)\n",
      " |-- d4_nome_vacina: string (nullable = true)\n",
      " |-- d4_data_aplicacao: date (nullable = true)\n",
      " |-- d4_estab_mun_codigo: string (nullable = true)\n",
      " |-- d4_estab_valor: string (nullable = true)\n",
      " |-- d4_vacina_grupoAtendimento_nome: string (nullable = true)\n",
      " |-- d4_vacina_categoria_nome: string (nullable = true)\n",
      " |-- d4_vacina_dose: string (nullable = true)\n",
      " |-- d5_nome_vacina: string (nullable = true)\n",
      " |-- d5_data_aplicacao: date (nullable = true)\n",
      " |-- d5_estab_mun_codigo: string (nullable = true)\n",
      " |-- d5_estab_valor: string (nullable = true)\n",
      " |-- d5_vacina_grupoAtendimento_nome: string (nullable = true)\n",
      " |-- d5_vacina_categoria_nome: string (nullable = true)\n",
      " |-- d5_vacina_dose: string (nullable = true)\n",
      " |-- total_registros_vacinacao: double (nullable = true)\n",
      " |-- inconsistente: string (nullable = true)\n",
      " |-- id_vigvac: long (nullable = true)\n",
      "\n"
     ]
    }
   ],
   "source": [
    "vac.printSchema()"
   ]
  },
  {
   "cell_type": "markdown",
   "id": "8fdf7891",
   "metadata": {},
   "source": [
    "### seleção de variáveis de pessoa de cada banco"
   ]
  },
  {
   "cell_type": "markdown",
   "id": "10c9a745",
   "metadata": {},
   "source": [
    "#### vacina"
   ]
  },
  {
   "cell_type": "code",
   "execution_count": 15,
   "id": "4be8ebb5",
   "metadata": {},
   "outputs": [],
   "source": [
    "vac_person = vac.select(\"d_sexo\",\"d_codibge\",\"id_vigvac\",\"inconsistente\",\"d_idade\",\"d_racacor\")"
   ]
  },
  {
   "cell_type": "markdown",
   "id": "65e34d5b",
   "metadata": {},
   "source": [
    "#### srag"
   ]
  },
  {
   "cell_type": "code",
   "execution_count": 16,
   "id": "0f80fc02",
   "metadata": {},
   "outputs": [],
   "source": [
    "srag_person = srag.select(\"cs_sexo\",\"co_mun_res\",\"id_vigvac\",\"nu_idade_n\",\"tp_idade\",\"cs_raca\",\"cs_etinia\")#,\"co_mun_res\",\"co_un_inte\",\"co_uni_not\")"
   ]
  },
  {
   "cell_type": "markdown",
   "id": "e1a142ce",
   "metadata": {},
   "source": [
    "#### sg"
   ]
  },
  {
   "cell_type": "code",
   "execution_count": 17,
   "id": "085f99e9",
   "metadata": {},
   "outputs": [],
   "source": [
    "sg_person = sg.select(\"sexo_2\",\"municipio\",\"id_vigvac\",\"idade\",\"racacor_2\")#,\"municipio\")"
   ]
  },
  {
   "cell_type": "code",
   "execution_count": 18,
   "id": "f2304fd9",
   "metadata": {},
   "outputs": [
    {
     "name": "stderr",
     "output_type": "stream",
     "text": [
      "                                                                                \r"
     ]
    },
    {
     "data": {
      "text/plain": [
       "188537327"
      ]
     },
     "execution_count": 18,
     "metadata": {},
     "output_type": "execute_result"
    }
   ],
   "source": [
    "id_vigivac_v2.count()"
   ]
  },
  {
   "cell_type": "code",
   "execution_count": 19,
   "id": "a54a59b0",
   "metadata": {},
   "outputs": [
    {
     "name": "stderr",
     "output_type": "stream",
     "text": [
      "                                                                                \r"
     ]
    },
    {
     "data": {
      "text/plain": [
       "183759941"
      ]
     },
     "execution_count": 19,
     "metadata": {},
     "output_type": "execute_result"
    }
   ],
   "source": [
    "vac_person.count()"
   ]
  },
  {
   "cell_type": "code",
   "execution_count": 20,
   "id": "f90170c5",
   "metadata": {},
   "outputs": [
    {
     "data": {
      "text/plain": [
       "2487085"
      ]
     },
     "execution_count": 20,
     "metadata": {},
     "output_type": "execute_result"
    }
   ],
   "source": [
    "srag_person.count()"
   ]
  },
  {
   "cell_type": "code",
   "execution_count": 21,
   "id": "85d4fe92",
   "metadata": {},
   "outputs": [
    {
     "name": "stderr",
     "output_type": "stream",
     "text": [
      "                                                                                \r"
     ]
    },
    {
     "data": {
      "text/plain": [
       "82896519"
      ]
     },
     "execution_count": 21,
     "metadata": {},
     "output_type": "execute_result"
    }
   ],
   "source": [
    "sg_person.count()"
   ]
  },
  {
   "cell_type": "code",
   "execution_count": 22,
   "id": "2e8936ff",
   "metadata": {},
   "outputs": [
    {
     "name": "stderr",
     "output_type": "stream",
     "text": [
      "                                                                                \r"
     ]
    },
    {
     "data": {
      "text/plain": [
       "188537327"
      ]
     },
     "execution_count": 22,
     "metadata": {},
     "output_type": "execute_result"
    }
   ],
   "source": [
    "id_vigivac_v2.select(\"id_vigvac\").distinct().count()"
   ]
  },
  {
   "cell_type": "code",
   "execution_count": 23,
   "id": "12edb548",
   "metadata": {},
   "outputs": [
    {
     "name": "stderr",
     "output_type": "stream",
     "text": [
      "                                                                                \r"
     ]
    },
    {
     "data": {
      "text/plain": [
       "183759941"
      ]
     },
     "execution_count": 23,
     "metadata": {},
     "output_type": "execute_result"
    }
   ],
   "source": [
    "vac_person.select(\"id_vigvac\").distinct().count()"
   ]
  },
  {
   "cell_type": "code",
   "execution_count": 24,
   "id": "15e70a14",
   "metadata": {},
   "outputs": [
    {
     "name": "stderr",
     "output_type": "stream",
     "text": [
      "                                                                                \r"
     ]
    },
    {
     "data": {
      "text/plain": [
       "2320559"
      ]
     },
     "execution_count": 24,
     "metadata": {},
     "output_type": "execute_result"
    }
   ],
   "source": [
    "srag_person.select(\"id_vigvac\").distinct().count()"
   ]
  },
  {
   "cell_type": "code",
   "execution_count": 25,
   "id": "d068b724",
   "metadata": {},
   "outputs": [
    {
     "name": "stderr",
     "output_type": "stream",
     "text": [
      "                                                                                \r"
     ]
    },
    {
     "data": {
      "text/plain": [
       "53109190"
      ]
     },
     "execution_count": 25,
     "metadata": {},
     "output_type": "execute_result"
    }
   ],
   "source": [
    "sg_person.select(\"id_vigvac\").distinct().count()"
   ]
  },
  {
   "cell_type": "code",
   "execution_count": 26,
   "id": "ead8a7f0",
   "metadata": {},
   "outputs": [],
   "source": [
    "for nome in sg_person.columns:\n",
    "    if nome == \"id_vigvac\":\n",
    "        pass\n",
    "    else:\n",
    "        sg_person = sg_person.withColumnRenamed(nome,\"sg_\"+nome)"
   ]
  },
  {
   "cell_type": "code",
   "execution_count": 27,
   "id": "b8cef47f",
   "metadata": {},
   "outputs": [],
   "source": [
    "for nome in vac_person.columns:\n",
    "    if nome == \"id_vigvac\":\n",
    "        pass\n",
    "    else:\n",
    "        vac_person = vac_person.withColumnRenamed(nome,\"vac_\"+nome)"
   ]
  },
  {
   "cell_type": "code",
   "execution_count": 28,
   "id": "d3655673",
   "metadata": {},
   "outputs": [],
   "source": [
    "for nome in srag_person.columns:\n",
    "    if nome == \"id_vigvac\":\n",
    "        pass\n",
    "    else:\n",
    "        srag_person = srag_person.withColumnRenamed(nome,\"srag_\"+nome)"
   ]
  },
  {
   "cell_type": "code",
   "execution_count": 29,
   "id": "5a97a270",
   "metadata": {},
   "outputs": [
    {
     "name": "stdout",
     "output_type": "stream",
     "text": [
      "root\n",
      " |-- sg_sexo_2: string (nullable = true)\n",
      " |-- sg_municipio: string (nullable = true)\n",
      " |-- id_vigvac: long (nullable = true)\n",
      " |-- sg_idade: double (nullable = true)\n",
      " |-- sg_racacor_2: string (nullable = true)\n",
      "\n"
     ]
    }
   ],
   "source": [
    "sg_person.printSchema()"
   ]
  },
  {
   "cell_type": "code",
   "execution_count": 30,
   "id": "d74250b8",
   "metadata": {},
   "outputs": [
    {
     "name": "stderr",
     "output_type": "stream",
     "text": [
      "[Stage 46:======================================================> (33 + 1) / 34]\r"
     ]
    },
    {
     "name": "stdout",
     "output_type": "stream",
     "text": [
      "+----------+--------+\n",
      "|sg_sexo_2 |count   |\n",
      "+----------+--------+\n",
      "|Feminino  |45511625|\n",
      "|Masculino |37301161|\n",
      "|Indefinido|82953   |\n",
      "|null      |780     |\n",
      "+----------+--------+\n",
      "\n"
     ]
    },
    {
     "name": "stderr",
     "output_type": "stream",
     "text": [
      "                                                                                \r"
     ]
    }
   ],
   "source": [
    "sg_person.groupBy(\"sg_sexo_2\").count().orderBy(F.desc(\"count\")).show(300,False) "
   ]
  },
  {
   "cell_type": "code",
   "execution_count": 31,
   "id": "a765e1ee",
   "metadata": {},
   "outputs": [
    {
     "name": "stderr",
     "output_type": "stream",
     "text": [
      "[Stage 49:======================================================> (33 + 1) / 34]\r"
     ]
    },
    {
     "name": "stdout",
     "output_type": "stream",
     "text": [
      "+-------------+--------+\n",
      "|sg_racacor_2 |count   |\n",
      "+-------------+--------+\n",
      "|Branca       |31615421|\n",
      "|Parda        |25570173|\n",
      "|null         |19866924|\n",
      "|Preta        |3218746 |\n",
      "|Amarela      |2456329 |\n",
      "|Indigena     |168924  |\n",
      "|Não informado|2       |\n",
      "+-------------+--------+\n",
      "\n"
     ]
    },
    {
     "name": "stderr",
     "output_type": "stream",
     "text": [
      "                                                                                \r"
     ]
    }
   ],
   "source": [
    "sg_person.groupBy(\"sg_racacor_2\").count().orderBy(F.desc(\"count\")).show(300,False) "
   ]
  },
  {
   "cell_type": "code",
   "execution_count": 32,
   "id": "da65b34b",
   "metadata": {},
   "outputs": [
    {
     "name": "stdout",
     "output_type": "stream",
     "text": [
      "root\n",
      " |-- srag_cs_sexo: string (nullable = true)\n",
      " |-- srag_co_mun_res: string (nullable = true)\n",
      " |-- id_vigvac: long (nullable = true)\n",
      " |-- srag_nu_idade_n: decimal(10,0) (nullable = true)\n",
      " |-- srag_tp_idade: string (nullable = true)\n",
      " |-- srag_cs_raca: short (nullable = true)\n",
      " |-- srag_cs_etinia: string (nullable = true)\n",
      "\n"
     ]
    }
   ],
   "source": [
    "srag_person.printSchema()"
   ]
  },
  {
   "cell_type": "code",
   "execution_count": 33,
   "id": "fb25dabe",
   "metadata": {},
   "outputs": [
    {
     "name": "stdout",
     "output_type": "stream",
     "text": [
      "+------------+-------+\n",
      "|srag_cs_sexo|count  |\n",
      "+------------+-------+\n",
      "|M           |1344547|\n",
      "|F           |1142513|\n",
      "|I           |25     |\n",
      "+------------+-------+\n",
      "\n"
     ]
    }
   ],
   "source": [
    "srag_person.groupBy(\"srag_cs_sexo\").count().orderBy(F.desc(\"count\")).show(300,False) "
   ]
  },
  {
   "cell_type": "code",
   "execution_count": 34,
   "id": "d08db8b5",
   "metadata": {},
   "outputs": [
    {
     "name": "stderr",
     "output_type": "stream",
     "text": [
      "[Stage 55:======================================>                 (20 + 9) / 29]\r"
     ]
    },
    {
     "name": "stdout",
     "output_type": "stream",
     "text": [
      "+----------------------------------+-------+\n",
      "|srag_cs_etinia                    |count  |\n",
      "+----------------------------------+-------+\n",
      "|null                              |2484368|\n",
      "|KAINGANG (CAINGANGUE)             |412    |\n",
      "|TERENA                            |307    |\n",
      "|GUARANI KAIOWA (PAI TAVYTERA)     |250    |\n",
      "|KOCAMA (COCAMA, KOKAMA)           |105    |\n",
      "|GUARANI                           |92     |\n",
      "|MAKUXI (MACUXI, MACHUSI, PEMON)   |79     |\n",
      "|XAVANTE (A'UWE, AKWE, AWEN, AKWEN)|68     |\n",
      "|MURA                              |63     |\n",
      "|TICUNA (TIKUNA, TUKUNA, MAGUTA)   |62     |\n",
      "+----------------------------------+-------+\n",
      "only showing top 10 rows\n",
      "\n"
     ]
    },
    {
     "name": "stderr",
     "output_type": "stream",
     "text": [
      "                                                                                \r"
     ]
    }
   ],
   "source": [
    "srag_person.groupBy(\"srag_cs_etinia\").count().orderBy(F.desc(\"count\")).show(10,False) "
   ]
  },
  {
   "cell_type": "code",
   "execution_count": 35,
   "id": "0541ebfe",
   "metadata": {},
   "outputs": [
    {
     "name": "stderr",
     "output_type": "stream",
     "text": [
      "[Stage 58:================================>                      (17 + 12) / 29]\r"
     ]
    },
    {
     "name": "stdout",
     "output_type": "stream",
     "text": [
      "+------------+-------+\n",
      "|srag_cs_raca|count  |\n",
      "+------------+-------+\n",
      "|1           |1098563|\n",
      "|4           |821187 |\n",
      "|9           |403505 |\n",
      "|2           |107781 |\n",
      "|null        |27250  |\n",
      "|3           |24113  |\n",
      "|5           |4686   |\n",
      "+------------+-------+\n",
      "\n"
     ]
    },
    {
     "name": "stderr",
     "output_type": "stream",
     "text": [
      "                                                                                \r"
     ]
    }
   ],
   "source": [
    " srag_person.groupBy(\"srag_cs_raca\").count().orderBy(F.desc(\"count\")).show(10,False) "
   ]
  },
  {
   "cell_type": "code",
   "execution_count": 36,
   "id": "47124eee",
   "metadata": {},
   "outputs": [
    {
     "name": "stdout",
     "output_type": "stream",
     "text": [
      "root\n",
      " |-- vac_d_sexo: string (nullable = true)\n",
      " |-- vac_d_codibge: string (nullable = true)\n",
      " |-- id_vigvac: long (nullable = true)\n",
      " |-- vac_inconsistente: string (nullable = true)\n",
      " |-- vac_d_idade: double (nullable = true)\n",
      " |-- vac_d_racacor: string (nullable = true)\n",
      "\n"
     ]
    }
   ],
   "source": [
    "vac_person.printSchema()"
   ]
  },
  {
   "cell_type": "code",
   "execution_count": 37,
   "id": "819ade77",
   "metadata": {},
   "outputs": [
    {
     "name": "stderr",
     "output_type": "stream",
     "text": [
      "[Stage 61:====================================================>   (47 + 3) / 50]\r"
     ]
    },
    {
     "name": "stdout",
     "output_type": "stream",
     "text": [
      "+----------+--------+\n",
      "|vac_d_sexo|count   |\n",
      "+----------+--------+\n",
      "|F         |95510810|\n",
      "|M         |88245694|\n",
      "|I         |3437    |\n",
      "+----------+--------+\n",
      "\n"
     ]
    },
    {
     "name": "stderr",
     "output_type": "stream",
     "text": [
      "                                                                                \r"
     ]
    }
   ],
   "source": [
    "vac_person.groupBy(\"vac_d_sexo\").count().orderBy(F.desc(\"count\")).show(300,False) "
   ]
  },
  {
   "cell_type": "code",
   "execution_count": 38,
   "id": "0a062fee",
   "metadata": {
    "scrolled": true
   },
   "outputs": [
    {
     "name": "stderr",
     "output_type": "stream",
     "text": [
      "[Stage 64:======================================================> (49 + 1) / 50]\r"
     ]
    },
    {
     "name": "stdout",
     "output_type": "stream",
     "text": [
      "+-------------+--------+\n",
      "|vac_d_racacor|count   |\n",
      "+-------------+--------+\n",
      "|BRANCA       |61517395|\n",
      "|null         |45074568|\n",
      "|PARDA        |42199385|\n",
      "|AMARELA      |26604921|\n",
      "|PRETA        |7806738 |\n",
      "|INDIGENA     |556934  |\n",
      "+-------------+--------+\n",
      "\n"
     ]
    },
    {
     "name": "stderr",
     "output_type": "stream",
     "text": [
      "                                                                                \r"
     ]
    }
   ],
   "source": [
    "vac_person.groupBy(\"vac_d_racacor\").count().orderBy(F.desc(\"count\")).show(300,False) "
   ]
  },
  {
   "cell_type": "markdown",
   "id": "b071697c",
   "metadata": {},
   "source": [
    "### otmizar depois para pegar o valor com maior frequencia entre quem tem o mesmo id"
   ]
  },
  {
   "cell_type": "code",
   "execution_count": 39,
   "id": "de341b16",
   "metadata": {},
   "outputs": [],
   "source": [
    "srag_person_grouped = srag_person.groupBy(\"id_vigvac\").agg( F.first(\"srag_cs_sexo\",ignorenulls=True).alias(\"srag_cs_sexo\"), \n",
    "                                                            F.first(\"srag_cs_etinia\",ignorenulls=True).alias(\"srag_cs_etinia\"),\n",
    "                                                          F.first(\"srag_cs_raca\",ignorenulls=True).alias(\"srag_cs_raca\"))"
   ]
  },
  {
   "cell_type": "code",
   "execution_count": 40,
   "id": "2bec564b",
   "metadata": {},
   "outputs": [],
   "source": [
    "sg_person_grouped = sg_person.groupBy(\"id_vigvac\").agg( F.first(\"sg_sexo_2\",ignorenulls=True).alias(\"sg_sexo_2\"), F.first(\"sg_racacor_2\",ignorenulls=True).alias(\"sg_racacor_2\") )"
   ]
  },
  {
   "cell_type": "code",
   "execution_count": 41,
   "id": "35e26e72",
   "metadata": {},
   "outputs": [
    {
     "name": "stderr",
     "output_type": "stream",
     "text": [
      "[Stage 69:====================================================>   (32 + 2) / 34]\r"
     ]
    },
    {
     "name": "stdout",
     "output_type": "stream",
     "text": [
      "+----------+--------+\n",
      "|sg_sexo_2 |count   |\n",
      "+----------+--------+\n",
      "|Feminino  |28535800|\n",
      "|Masculino |24522435|\n",
      "|Indefinido|50320   |\n",
      "|null      |635     |\n",
      "+----------+--------+\n",
      "\n"
     ]
    },
    {
     "name": "stderr",
     "output_type": "stream",
     "text": [
      "                                                                                \r"
     ]
    }
   ],
   "source": [
    "sg_person_grouped.groupBy(\"sg_sexo_2\").count().orderBy(F.desc(\"count\")).show(300,False) "
   ]
  },
  {
   "cell_type": "code",
   "execution_count": 42,
   "id": "41daa6e3",
   "metadata": {},
   "outputs": [
    {
     "name": "stderr",
     "output_type": "stream",
     "text": [
      "[Stage 75:======================================================> (33 + 1) / 34]\r"
     ]
    },
    {
     "name": "stdout",
     "output_type": "stream",
     "text": [
      "+-------------+--------+\n",
      "|sg_racacor_2 |count   |\n",
      "+-------------+--------+\n",
      "|Branca       |20966789|\n",
      "|Parda        |18222142|\n",
      "|null         |9771404 |\n",
      "|Preta        |2261902 |\n",
      "|Amarela      |1766380 |\n",
      "|Indigena     |120571  |\n",
      "|Não informado|2       |\n",
      "+-------------+--------+\n",
      "\n"
     ]
    },
    {
     "name": "stderr",
     "output_type": "stream",
     "text": [
      "                                                                                \r"
     ]
    }
   ],
   "source": [
    "sg_person_grouped.groupBy(\"sg_racacor_2\").count().orderBy(F.desc(\"count\")).show(300,False) "
   ]
  },
  {
   "cell_type": "code",
   "execution_count": null,
   "id": "b4dc2829",
   "metadata": {},
   "outputs": [],
   "source": []
  },
  {
   "cell_type": "code",
   "execution_count": 43,
   "id": "1bcad249",
   "metadata": {},
   "outputs": [],
   "source": [
    "tb_pessoa = id_vigivac_v2.join(vac_person,['id_vigvac'] , 'left' )\n",
    "tb_pessoa = tb_pessoa.join(srag_person_grouped,['id_vigvac'] , 'left' )\n",
    "tb_pessoa = tb_pessoa.join(sg_person_grouped,['id_vigvac'] , 'left' ).cache()"
   ]
  },
  {
   "cell_type": "code",
   "execution_count": 44,
   "id": "40b70f84",
   "metadata": {},
   "outputs": [
    {
     "name": "stdout",
     "output_type": "stream",
     "text": [
      "root\n",
      " |-- id_vigvac: long (nullable = true)\n",
      " |-- id_paciente: string (nullable = true)\n",
      " |-- vacinacao: string (nullable = true)\n",
      " |-- vac_d_sexo: string (nullable = true)\n",
      " |-- vac_d_codibge: string (nullable = true)\n",
      " |-- vac_inconsistente: string (nullable = true)\n",
      " |-- vac_d_idade: double (nullable = true)\n",
      " |-- vac_d_racacor: string (nullable = true)\n",
      " |-- srag_cs_sexo: string (nullable = true)\n",
      " |-- srag_cs_etinia: string (nullable = true)\n",
      " |-- srag_cs_raca: short (nullable = true)\n",
      " |-- sg_sexo_2: string (nullable = true)\n",
      " |-- sg_racacor_2: string (nullable = true)\n",
      "\n"
     ]
    }
   ],
   "source": [
    "tb_pessoa.printSchema()"
   ]
  },
  {
   "cell_type": "code",
   "execution_count": 47,
   "id": "c4fcc0e7",
   "metadata": {},
   "outputs": [
    {
     "name": "stdout",
     "output_type": "stream",
     "text": [
      "root\n",
      " |-- id_vigvac: long (nullable = true)\n",
      " |-- id_paciente: string (nullable = true)\n",
      " |-- vacinacao: string (nullable = true)\n",
      " |-- vac_d_sexo: string (nullable = true)\n",
      " |-- vac_d_codibge: string (nullable = true)\n",
      " |-- vac_inconsistente: string (nullable = true)\n",
      " |-- vac_d_idade: double (nullable = true)\n",
      " |-- vac_d_racacor: string (nullable = true)\n",
      " |-- srag_cs_sexo: string (nullable = true)\n",
      " |-- srag_cs_etinia: string (nullable = true)\n",
      " |-- sg_sexo_2: string (nullable = true)\n",
      " |-- sg_racacor_2: string (nullable = true)\n",
      "\n"
     ]
    }
   ],
   "source": [
    "tb_pessoa.printSchema()"
   ]
  },
  {
   "cell_type": "code",
   "execution_count": 45,
   "id": "306e9b06",
   "metadata": {},
   "outputs": [
    {
     "name": "stderr",
     "output_type": "stream",
     "text": [
      "                                                                                \r"
     ]
    },
    {
     "data": {
      "text/plain": [
       "188537327"
      ]
     },
     "execution_count": 45,
     "metadata": {},
     "output_type": "execute_result"
    }
   ],
   "source": [
    "tb_pessoa.count() #188537327"
   ]
  },
  {
   "cell_type": "code",
   "execution_count": 46,
   "id": "859c2afe",
   "metadata": {},
   "outputs": [
    {
     "name": "stderr",
     "output_type": "stream",
     "text": [
      "                                                                                \r"
     ]
    },
    {
     "data": {
      "text/plain": [
       "188537327"
      ]
     },
     "execution_count": 46,
     "metadata": {},
     "output_type": "execute_result"
    }
   ],
   "source": [
    "tb_pessoa.select(\"id_vigvac\").distinct().count() #188537327"
   ]
  },
  {
   "cell_type": "code",
   "execution_count": 47,
   "id": "b9d395c1",
   "metadata": {},
   "outputs": [
    {
     "name": "stdout",
     "output_type": "stream",
     "text": [
      "+---------+----------------------------------------------------------------+---------+----------+-------------+-----------------+-----------+-------------+------------+--------------+------------+---------+------------+\n",
      "|id_vigvac|id_paciente                                                     |vacinacao|vac_d_sexo|vac_d_codibge|vac_inconsistente|vac_d_idade|vac_d_racacor|srag_cs_sexo|srag_cs_etinia|srag_cs_raca|sg_sexo_2|sg_racacor_2|\n",
      "+---------+----------------------------------------------------------------+---------+----------+-------------+-----------------+-----------+-------------+------------+--------------+------------+---------+------------+\n",
      "|26       |0001ff0fe81e6fe93017f0916e2736582d073e67395aedcf3d3442528f2f1279|vacinacao|F         |291300       |null             |8.0        |PARDA        |null        |null          |null        |null     |null        |\n",
      "|29       |00021308008b1c05812fd61abbfb8037eb4f823878df0da6d76880995376e983|vacinacao|F         |412010       |null             |20.0       |BRANCA       |null        |null          |null        |null     |null        |\n",
      "|474      |00215d526dd990395529edaacd50e01bbfc38a5a58e7dda6b4473687a1a43845|vacinacao|F         |510785       |null             |12.0       |null         |null        |null          |null        |null     |null        |\n",
      "|964      |00444bd6055478501875583f02af6eec83ffc2d42f5ab1858fa95818b9c7f38f|vacinacao|F         |350950       |null             |40.0       |BRANCA       |null        |null          |null        |Feminino |Parda       |\n",
      "|1677     |00756e9e114ab0efc136e758f65f58e31bc99df4236506dc0a85a3a7a89fd147|vacinacao|F         |130070       |null             |86.0       |PARDA        |null        |null          |null        |null     |null        |\n",
      "|1697     |0077757d5a8a9708166b06a76fb86478f121708b484a36b42144e37df39f859b|vacinacao|F         |150140       |null             |20.0       |AMARELA      |null        |null          |null        |null     |null        |\n",
      "|1806     |00805d549610a8f0b7528208e0a3cafdb78d5c2be8aa021d30f7e65545c2902c|vacinacao|M         |354165       |null             |12.0       |null         |null        |null          |null        |null     |null        |\n",
      "|1950     |008a5d84fcb7b7aa3d9fa27e5e4f8dd7d8b96205a14f8311c27d436f55302dd8|vacinacao|M         |350600       |null             |13.0       |BRANCA       |null        |null          |null        |null     |null        |\n",
      "|2040     |0090dbe7a8a8ef93128b85459f3f5887f88a68a6f82577dc8cddcb0c863a851d|vacinacao|F         |410690       |null             |61.0       |null         |null        |null          |null        |null     |null        |\n",
      "|2214     |009eaf428e763bd02653e2c66cc575f4d0ef85edfff958539e9ece6f8edabece|vacinacao|F         |351870       |null             |55.0       |AMARELA      |null        |null          |null        |null     |null        |\n",
      "+---------+----------------------------------------------------------------+---------+----------+-------------+-----------------+-----------+-------------+------------+--------------+------------+---------+------------+\n",
      "only showing top 10 rows\n",
      "\n"
     ]
    }
   ],
   "source": [
    "tb_pessoa.show(10,False)"
   ]
  },
  {
   "cell_type": "code",
   "execution_count": 48,
   "id": "9031a972",
   "metadata": {},
   "outputs": [],
   "source": [
    "for nome in sg_raw_dt_grouped.columns:\n",
    "    if nome == \"id_paciente\":\n",
    "        pass\n",
    "    else:\n",
    "        sg_raw_dt_grouped = sg_raw_dt_grouped.withColumnRenamed(nome,\"sg_raw_\"+nome)\n",
    "        \n",
    "for nome in srag_raw_dt_grouped.columns:\n",
    "    if nome == \"id_paciente\":\n",
    "        pass\n",
    "    else:\n",
    "        srag_raw_dt_grouped = srag_raw_dt_grouped.withColumnRenamed(nome,\"srag_raw_\"+nome)\n",
    "        \n",
    "\n",
    "for nome in vac_raw_dt_grouped.columns:\n",
    "    if nome == \"id_paciente\":\n",
    "        pass\n",
    "    else:\n",
    "        vac_raw_dt_grouped = vac_raw_dt_grouped.withColumnRenamed(nome,\"vac_raw_\"+nome)"
   ]
  },
  {
   "cell_type": "code",
   "execution_count": 49,
   "id": "bab7e5ee",
   "metadata": {},
   "outputs": [
    {
     "name": "stdout",
     "output_type": "stream",
     "text": [
      "root\n",
      " |-- id_paciente: string (nullable = true)\n",
      " |-- vac_raw_paciente_datanascimento: string (nullable = true)\n",
      "\n"
     ]
    }
   ],
   "source": [
    "vac_raw_dt_grouped.printSchema()"
   ]
  },
  {
   "cell_type": "code",
   "execution_count": 50,
   "id": "6afae61f",
   "metadata": {},
   "outputs": [],
   "source": [
    "tb_pessoa = tb_pessoa.join(sg_raw_dt_grouped,['id_paciente'] , 'left' )\n",
    "tb_pessoa = tb_pessoa.join(srag_raw_dt_grouped,['id_paciente'] , 'left' )\n",
    "tb_pessoa_v2 = tb_pessoa.join(vac_raw_dt_grouped,['id_paciente'] , 'left' )#.cache()"
   ]
  },
  {
   "cell_type": "code",
   "execution_count": 51,
   "id": "497bc24a",
   "metadata": {},
   "outputs": [
    {
     "name": "stderr",
     "output_type": "stream",
     "text": [
      "[Stage 117:>                                                        (0 + 1) / 1]\r"
     ]
    },
    {
     "name": "stdout",
     "output_type": "stream",
     "text": [
      "+----------------------------------------------------------------+---------+---------+----------+-------------+-----------------+-----------+-------------+------------+--------------+------------+---------+------------+------------------------+----------------+-------------------------------+\n",
      "|id_paciente                                                     |id_vigvac|vacinacao|vac_d_sexo|vac_d_codibge|vac_inconsistente|vac_d_idade|vac_d_racacor|srag_cs_sexo|srag_cs_etinia|srag_cs_raca|sg_sexo_2|sg_racacor_2|sg_raw_datanascimento   |srag_raw_dt_nasc|vac_raw_paciente_datanascimento|\n",
      "+----------------------------------------------------------------+---------+---------+----------+-------------+-----------------+-----------+-------------+------------+--------------+------------+---------+------------+------------------------+----------------+-------------------------------+\n",
      "|00000c08e215dfabf66a513ada8cce634347971b4693334ed94f4bb78bacb587|0        |vacinacao|M         |211130       |null             |16.0       |AMARELA      |null        |null          |null        |null     |null        |null                    |null            |2005-08-29                     |\n",
      "|00000ebe17d9d9e7febf4413d3a84e38a19863c7180827ab01cc0c0a620d8bf1|1        |vacinacao|M         |510840       |null             |28.0       |AMARELA      |null        |null          |null        |null     |null        |null                    |null            |1992-10-23                     |\n",
      "|000012b2e517d9e4ce52d6fbb14e4cdc4e8a8f0fa37c7a34d37f9c129b72072c|2        |vacinacao|F         |410315       |null             |35.0       |BRANCA       |null        |null          |null        |null     |null        |null                    |null            |1986-03-24                     |\n",
      "|0000202b3f7ac14421af8443b37e1fc2df19a192df4d5b727e1b3d416405bff0|3        |vacinacao|F         |354910       |null             |76.0       |BRANCA       |null        |null          |null        |null     |null        |null                    |null            |1945-05-01                     |\n",
      "|000026754b22b77ef020a32fc72faa0219821e160e3e6cf4acadd280aa2ce4a5|4        |vacinacao|M         |411915       |null             |30.0       |null         |null        |null          |null        |null     |null        |null                    |null            |1991-01-03                     |\n",
      "|00002bb0024f62ece4e8470c1c145919ec26fe3bb04d7c90443bb9504626c1d4|5        |vacinacao|F         |315990       |null             |57.0       |BRANCA       |null        |null          |null        |Feminino |Branca      |1963-08-14T03:00:00.000Z|null            |1963-08-14                     |\n",
      "|00002bd60eededb21e6f2fedfeea376e02db67298b6c2c369ed8e8e0d43e4787|6        |vacinacao|F         |240800       |null             |62.0       |BRANCA       |null        |null          |null        |null     |null        |null                    |null            |1958-07-17                     |\n",
      "|00002c5276816e78aff923d103abab08e9cffe87a9b327b2eea375ee7313005a|7        |vacinacao|F         |530010       |null             |69.0       |PARDA        |F           |null          |4           |Feminino |Parda       |1951-12-14T02:00:00.000Z|14/12/1951      |1951-12-14                     |\n",
      "|00006693edcd99225629b67d38c6fc6a59ec6cd5d94629216ab9909a264f4d2a|8        |vacinacao|F         |280300       |null             |62.0       |null         |null        |null          |null        |null     |null        |null                    |null            |1958-06-25                     |\n",
      "|00007c9bc74aedc0225fed5ba5a01f16704c019994679e78e4d22e3e99c97d2b|9        |vacinacao|M         |260720       |null             |54.0       |PRETA        |null        |null          |null        |null     |null        |null                    |null            |1966-11-17                     |\n",
      "|0000814f48f9d98cd366f3e90e61a8e1c2da523eeb2580a406deb0c681d813a6|10       |vacinacao|M         |160023       |null             |80.0       |AMARELA      |null        |null          |null        |Masculino|Branca      |null                    |null            |1940-08-14                     |\n",
      "|00009be3ca17baed71bba21c0271dfe7af6f623c089508221d10be6670b9ecef|11       |vacinacao|M         |240810       |null             |53.0       |null         |null        |null          |null        |Masculino|Parda       |null                    |null            |1967-02-08                     |\n",
      "|0000aa03fabd9847715789a3054d2f74d52adb9ed82d0ed55251a79c8bbff560|12       |vacinacao|M         |355030       |null             |46.0       |AMARELA      |null        |null          |null        |Masculino|null        |1974-09-10T03:00:00.000Z|null            |1974-09-10                     |\n",
      "|0000c18ca70fc788ebe6976af2ac8cc3b2ec2ff02b00feae144fae61f42e2e13|13       |vacinacao|M         |410430       |null             |7.0        |null         |null        |null          |null        |null     |null        |null                    |null            |2015-01-13                     |\n",
      "|0000c79f50bf4b6e73434fd17b7622022eb22f38f2cfa9989e4fb6a8f71d3b27|14       |vacinacao|F         |290520       |null             |66.0       |BRANCA       |null        |null          |null        |null     |null        |null                    |null            |1954-07-13                     |\n",
      "+----------------------------------------------------------------+---------+---------+----------+-------------+-----------------+-----------+-------------+------------+--------------+------------+---------+------------+------------------------+----------------+-------------------------------+\n",
      "only showing top 15 rows\n",
      "\n"
     ]
    },
    {
     "name": "stderr",
     "output_type": "stream",
     "text": [
      "                                                                                \r"
     ]
    }
   ],
   "source": [
    "tb_pessoa_v2.show(15,False)"
   ]
  },
  {
   "cell_type": "code",
   "execution_count": 52,
   "id": "e40dcff9",
   "metadata": {},
   "outputs": [
    {
     "name": "stderr",
     "output_type": "stream",
     "text": [
      "                                                                                \r"
     ]
    },
    {
     "data": {
      "text/plain": [
       "188537327"
      ]
     },
     "execution_count": 52,
     "metadata": {},
     "output_type": "execute_result"
    }
   ],
   "source": [
    "tb_pessoa_v2.count() #188537327"
   ]
  },
  {
   "cell_type": "code",
   "execution_count": 53,
   "id": "fe71fb31",
   "metadata": {},
   "outputs": [],
   "source": [
    "tb_pessoa_v3 = tb_pessoa_v2.drop(\"id_paciente\")"
   ]
  },
  {
   "cell_type": "code",
   "execution_count": 54,
   "id": "7f63fa98",
   "metadata": {},
   "outputs": [
    {
     "name": "stdout",
     "output_type": "stream",
     "text": [
      "root\n",
      " |-- id_vigvac: long (nullable = true)\n",
      " |-- vacinacao: string (nullable = true)\n",
      " |-- vac_d_sexo: string (nullable = true)\n",
      " |-- vac_d_codibge: string (nullable = true)\n",
      " |-- vac_inconsistente: string (nullable = true)\n",
      " |-- vac_d_idade: double (nullable = true)\n",
      " |-- vac_d_racacor: string (nullable = true)\n",
      " |-- srag_cs_sexo: string (nullable = true)\n",
      " |-- srag_cs_etinia: string (nullable = true)\n",
      " |-- srag_cs_raca: short (nullable = true)\n",
      " |-- sg_sexo_2: string (nullable = true)\n",
      " |-- sg_racacor_2: string (nullable = true)\n",
      " |-- sg_raw_datanascimento: string (nullable = true)\n",
      " |-- srag_raw_dt_nasc: string (nullable = true)\n",
      " |-- vac_raw_paciente_datanascimento: string (nullable = true)\n",
      "\n"
     ]
    }
   ],
   "source": [
    "tb_pessoa_v3.printSchema()"
   ]
  },
  {
   "cell_type": "code",
   "execution_count": 55,
   "id": "a910941f",
   "metadata": {},
   "outputs": [
    {
     "name": "stderr",
     "output_type": "stream",
     "text": [
      "                                                                                \r"
     ]
    }
   ],
   "source": [
    "tb_pessoa_v3.write.parquet(\"/dados10t/datalake/raw/omop/tabelas_input/tabela_pessoa_07072022_vigivac_nao_padronizada_v2.parquet\")"
   ]
  },
  {
   "cell_type": "code",
   "execution_count": 12,
   "id": "8a7c1c63",
   "metadata": {},
   "outputs": [
    {
     "name": "stdout",
     "output_type": "stream",
     "text": [
      "+------+---------+------------+-------------+-------+---------+\n",
      "|d_sexo|d_codibge|   id_vigvac|inconsistente|d_idade|d_racacor|\n",
      "+------+---------+------------+-------------+-------+---------+\n",
      "|     M|   290210|463856467968|         null|   33.0|    PARDA|\n",
      "|     M|   355030|463856467969|         null|   13.0|     null|\n",
      "|     F|   292260|463856467970|         null|   30.0|   BRANCA|\n",
      "|     M|   150180|463856467971|         null|   13.0|    PARDA|\n",
      "|     M|   330455|463856467972|         null|   34.0|     null|\n",
      "|     F|   530010|463856467973|         null|   14.0|    PARDA|\n",
      "|     F|   320140|463856467974|         null|   35.0|   BRANCA|\n",
      "|     F|   410690|463856467975|         null|   38.0|  AMARELA|\n",
      "|     M|   500790|463856467976|         null|   46.0|    PARDA|\n",
      "|     F|   291072|463856467977|         null|   57.0|    PARDA|\n",
      "|     M|   150680|463856467978|         null|   50.0|    PARDA|\n",
      "|     M|   432270|463856467980|         null|   45.0|     null|\n",
      "|     F|   250400|463856467981|         null|   53.0|   BRANCA|\n",
      "|     M|   411800|463856467982|         null|   57.0|   BRANCA|\n",
      "|     M|   355030|463856467983|         null|   69.0|     null|\n",
      "|     F|   355030|463856467984|         null|   27.0|   BRANCA|\n",
      "|     F|   240510|463856467985|         null|   44.0|    PARDA|\n",
      "|     F|   510340|463856467986|         null|   21.0|    PARDA|\n",
      "|     M|   314800|463856467987|         null|   15.0|     null|\n",
      "|     F|   355030|463856467988|         null|   54.0|     null|\n",
      "+------+---------+------------+-------------+-------+---------+\n",
      "only showing top 20 rows\n",
      "\n"
     ]
    }
   ],
   "source": [
    "vac_person.show()"
   ]
  },
  {
   "cell_type": "code",
   "execution_count": 13,
   "id": "5d7eae7a",
   "metadata": {},
   "outputs": [
    {
     "name": "stdout",
     "output_type": "stream",
     "text": [
      "+-------+----------+-------------+----------+--------+-------+---------+\n",
      "|cs_sexo|co_mun_res|    id_vigvac|nu_idade_n|tp_idade|cs_raca|cs_etinia|\n",
      "+-------+----------+-------------+----------+--------+-------+---------+\n",
      "|      F|    310620|1511828488212|        54|       3|      1|     null|\n",
      "|      F|    355030|1511828488233|        86|       3|      9|     null|\n",
      "|      M|    310340|1511828488237|        54|       3|      9|     null|\n",
      "|      F|    311830|1511828488269|        74|       3|      1|     null|\n",
      "|      F|    430700|1511828488443|        96|       3|      1|     null|\n",
      "|      F|    230440|1511828488504|        87|       3|      4|     null|\n",
      "|      F|    320520|1511828488524|        62|       3|      4|     null|\n",
      "|      M|    310620|1511828488600|        69|       3|      4|     null|\n",
      "|      M|    150420|1511828488669|        13|       3|      4|     null|\n",
      "|      F|    351350|1511828488848|        41|       3|      1|     null|\n",
      "|      M|    431390|1511828488850|        54|       3|      1|     null|\n",
      "|      M|    411210|1511828488872|        65|       3|      1|     null|\n",
      "|      F|    330455|1511828488899|        78|       3|      4|     null|\n",
      "|      F|    330330|1511828488899|        78|       3|      9|     null|\n",
      "|      F|    292990|1511828488930|        28|       3|      1|     null|\n",
      "|      M|    352590|1511828489133|        51|       3|      9|     null|\n",
      "|      F|    261160|1511828489154|       101|       3|      1|     null|\n",
      "|      F|    350950|1511828489164|         4|       3|      4|     null|\n",
      "|      M|    313420|1511828489242|        59|       3|      1|     null|\n",
      "|      M|    520870|1511828489350|        50|       3|      1|     null|\n",
      "+-------+----------+-------------+----------+--------+-------+---------+\n",
      "only showing top 20 rows\n",
      "\n"
     ]
    }
   ],
   "source": [
    "srag_person.show()"
   ]
  },
  {
   "cell_type": "code",
   "execution_count": 14,
   "id": "c2503bda",
   "metadata": {},
   "outputs": [
    {
     "name": "stdout",
     "output_type": "stream",
     "text": [
      "+---------+-------------------+------------+-----+---------+\n",
      "|   sexo_2|          municipio|   id_vigvac|idade|racacor_2|\n",
      "+---------+-------------------+------------+-----+---------+\n",
      "|Masculino|     rio de janeiro|463856467979| 43.0|   Branca|\n",
      "|Masculino|          são paulo|463856467983| 70.0|     null|\n",
      "| Feminino|           jandaíra|463856467985| 45.0|    Parda|\n",
      "| Feminino|       itapetininga|463856467990| 23.0|   Branca|\n",
      "| Feminino|      caxias do sul|463856467992| 26.0|    Parda|\n",
      "| Feminino|     paraíba do sul|463856467998| 48.0|   Branca|\n",
      "|Masculino|      novo hamburgo|463856467999| 23.0|   Branca|\n",
      "|Masculino|      novo hamburgo|463856467999| 23.0|   Branca|\n",
      "|Masculino|      novo hamburgo|463856467999| 23.0|     null|\n",
      "|Masculino|      novo hamburgo|463856467999| 23.0|     null|\n",
      "|Masculino|      novo hamburgo|463856467999| 23.0|   Branca|\n",
      "|Masculino|      novo hamburgo|463856467999| 23.0|   Branca|\n",
      "| Feminino|     rio de janeiro|463856468001| 63.0|     null|\n",
      "| Feminino|     rio de janeiro|463856468009| 32.0|    Parda|\n",
      "|Masculino|             ilhéus|463856468012| 25.0|     null|\n",
      "| Feminino|       porto alegre|463856468026| 44.0|   Branca|\n",
      "| Feminino|         são carlos|463856468027| 38.0|   Branca|\n",
      "| Feminino|          são paulo|463856468031|  2.0|   Branca|\n",
      "| Feminino|        sete lagoas|463856468037| 30.0|    Parda|\n",
      "|Masculino|são josé dos campos|463856468042| 42.0|   Branca|\n",
      "+---------+-------------------+------------+-----+---------+\n",
      "only showing top 20 rows\n",
      "\n"
     ]
    }
   ],
   "source": [
    "sg_person.show()"
   ]
  },
  {
   "cell_type": "code",
   "execution_count": null,
   "id": "906674e5",
   "metadata": {},
   "outputs": [],
   "source": []
  }
 ],
 "metadata": {
  "kernelspec": {
   "display_name": "Python 3 (ipykernel)",
   "language": "python",
   "name": "python3"
  },
  "language_info": {
   "codemirror_mode": {
    "name": "ipython",
    "version": 3
   },
   "file_extension": ".py",
   "mimetype": "text/x-python",
   "name": "python",
   "nbconvert_exporter": "python",
   "pygments_lexer": "ipython3",
   "version": "3.10.12"
  }
 },
 "nbformat": 4,
 "nbformat_minor": 5
}
