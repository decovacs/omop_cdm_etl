{
 "cells": [
  {
   "cell_type": "code",
   "execution_count": 5,
   "id": "2ba387c0",
   "metadata": {},
   "outputs": [
    {
     "name": "stderr",
     "output_type": "stream",
     "text": [
      "/tmp/ipykernel_33370/1510302545.py:1: DeprecationWarning: Importing display from IPython.core.display is deprecated since IPython 7.14, please import from IPython display\n",
      "  from IPython.core.display import display, HTML\n"
     ]
    },
    {
     "data": {
      "text/html": [
       "<style>.container { width:100% !important; }</style>"
      ],
      "text/plain": [
       "<IPython.core.display.HTML object>"
      ]
     },
     "metadata": {},
     "output_type": "display_data"
    }
   ],
   "source": [
    "from IPython.core.display import display, HTML\n",
    "display(HTML(\"<style>.container { width:100% !important; }</style>\"))\n",
    "from pyspark.sql import functions as F\n",
    "from pyspark.sql.types import *\n",
    "import pandas as pd\n",
    "from pyspark.sql.window import Window\n",
    "import time\n",
    "from pyspark.sql import SparkSession"
   ]
  },
  {
   "cell_type": "code",
   "execution_count": 6,
   "id": "b111a63e-ef80-43d6-84d8-b1636059cf24",
   "metadata": {},
   "outputs": [],
   "source": [
    "spark = SparkSession.builder \\\n",
    "       .master(\"local[*]\") \\\n",
    "       .appName(\"test\") \\\n",
    "       .config(\"spark.driver.memory\", \"80g\")\\\n",
    "       .config(\"spark.executor.memory\", \"50g\")\\\n",
    "       .config(\"spark.dirver.maxResultSize\", \"50g\")\\\n",
    "       .config('spark.local.dir', '/dados10t/datalake/raw/checkpoint_dir')\\\n",
    "       .getOrCreate()\n",
    "sc = spark.sparkContext\n",
    "sc.setCheckpointDir('/dados10t/datalake/raw/checkpoint_dir')"
   ]
  },
  {
   "cell_type": "markdown",
   "id": "c5a5362d-68af-476c-8d47-2701f13ea448",
   "metadata": {},
   "source": [
    "##### id_vigivac"
   ]
  },
  {
   "cell_type": "code",
   "execution_count": 7,
   "id": "ec1cb9dd-78d5-4e24-84ac-4fcc4d2a0aa0",
   "metadata": {},
   "outputs": [],
   "source": [
    "id_vigivac = spark.read.parquet(\"/dados10t/datalake/standard/vigivac/base_analise/id_paciente_to_id_vigivac/id_vigivac_id_paciente_09072022.parquet/\")"
   ]
  },
  {
   "cell_type": "markdown",
   "id": "28e328d3-9dbc-4a2c-9fc8-04ca17330283",
   "metadata": {},
   "source": [
    "##### person_id"
   ]
  },
  {
   "cell_type": "code",
   "execution_count": 8,
   "id": "1ebeb82b-280e-4c36-9cd2-9634d5208e15",
   "metadata": {},
   "outputs": [],
   "source": [
    "person_id = spark.read.parquet(\"/dados10t/datalake/standard/omop/tabelas_omop_cmd_5.4_v1/tb_person.parquet/\")"
   ]
  },
  {
   "cell_type": "markdown",
   "id": "c804e8e2-14cb-4a76-914d-af2de8312492",
   "metadata": {},
   "source": [
    "# sg"
   ]
  },
  {
   "cell_type": "code",
   "execution_count": 9,
   "id": "ad89ba08-2ca0-4395-8dcc-902d3fec0d1d",
   "metadata": {},
   "outputs": [],
   "source": [
    "#sg = spark.read.parquet(\"/dados10t/datalake/standard/vigivac/SG_uniao/dbnotifica_tb_sindrome_gripal_from_pandas_18032023_unido_2020a2023.parquet/\")\n",
    "#sg = spark.read.parquet(\"/dados10t/datalake/standard/vigivac/SG/sg_long_18032023_v9.parquet/\")\n",
    "#sg = spark.read.parquet(\"/dados10t/datalake/standard/vigivac/SG/sg_long_09072022_v9.parquet/\")\n",
    "sg = spark.read.parquet('/dados10t/datalake/standard/omop/data_with_ids/sg_long_09072022_v9-id_omop-v3.parquet/')"
   ]
  },
  {
   "cell_type": "markdown",
   "id": "5930c4f5-ab55-4166-b243-27359be6060d",
   "metadata": {},
   "source": [
    "##### Checking missing dates"
   ]
  },
  {
   "cell_type": "code",
   "execution_count": 14,
   "id": "8d3da5c7-0fab-4cff-9924-68bece7b07ee",
   "metadata": {},
   "outputs": [
    {
     "data": {
      "text/plain": [
       "82896519"
      ]
     },
     "execution_count": 14,
     "metadata": {},
     "output_type": "execute_result"
    }
   ],
   "source": [
    "#\n",
    "sg.count()"
   ]
  },
  {
   "cell_type": "code",
   "execution_count": 133,
   "id": "ed3d020a-c82d-48ed-8aa9-d02afc3e211b",
   "metadata": {},
   "outputs": [
    {
     "data": {
      "text/plain": [
       "0.9999959467538077"
      ]
     },
     "execution_count": 133,
     "metadata": {},
     "output_type": "execute_result"
    }
   ],
   "source": [
    "# porcentagem de missing dt_not\n",
    "sg.filter(F.col(\"dt_datanotificacao\").isNotNull() ).count()/sg.count()"
   ]
  },
  {
   "cell_type": "markdown",
   "id": "de33ea2b-7e48-4689-bd41-919fd0458b34",
   "metadata": {},
   "source": [
    "##### data inicio "
   ]
  },
  {
   "cell_type": "code",
   "execution_count": 26,
   "id": "e521c7ec-e7c2-4e3a-a485-0d98261ee2f6",
   "metadata": {},
   "outputs": [
    {
     "name": "stderr",
     "output_type": "stream",
     "text": [
      "                                                                                \r"
     ]
    },
    {
     "data": {
      "text/plain": [
       "0.9999959467538077"
      ]
     },
     "execution_count": 26,
     "metadata": {},
     "output_type": "execute_result"
    }
   ],
   "source": [
    "# porcentagem de missing com data_teste\n",
    "# = 0.9999967191795461\n",
    "# nenhuma mudança\n",
    "sg.filter(F.col(\"dt_datanotificacao\").isNotNull() ).count()/sg.count()"
   ]
  },
  {
   "cell_type": "code",
   "execution_count": 10,
   "id": "ff0e0dcb-aab8-4417-8eb9-a79844699faa",
   "metadata": {},
   "outputs": [],
   "source": [
    "sg = sg.withColumn(\"visit_start_date\", F.coalesce(F.col(\"dt_datanotificacao\"), F.col(\"dt_datateste\"), F.col('dt_datainiciosintomas')  ) )"
   ]
  },
  {
   "cell_type": "code",
   "execution_count": 11,
   "id": "6a46f9f2-343d-4957-b70c-11d2d0c506e6",
   "metadata": {},
   "outputs": [],
   "source": [
    "sg = sg.filter(F.col('visit_start_date').isNotNull())"
   ]
  },
  {
   "cell_type": "markdown",
   "id": "6871a05a-49c1-442b-9ea0-45fabaad869b",
   "metadata": {},
   "source": [
    "##### data fim"
   ]
  },
  {
   "cell_type": "code",
   "execution_count": 11,
   "id": "06248d59-731e-4bb4-b96f-d7e832c5faca",
   "metadata": {},
   "outputs": [
    {
     "name": "stderr",
     "output_type": "stream",
     "text": [
      "                                                                                \r"
     ]
    },
    {
     "data": {
      "text/plain": [
       "0.4260621877627599"
      ]
     },
     "execution_count": 11,
     "metadata": {},
     "output_type": "execute_result"
    }
   ],
   "source": [
    "# how many people with data encerramento\n",
    "sg.filter(F.col(\"dt_dataencerramento\").isNotNull() ).count()/sg.count()"
   ]
  },
  {
   "cell_type": "code",
   "execution_count": 139,
   "id": "5bfba16b-a617-4f85-b0d6-4b80e8de4d39",
   "metadata": {},
   "outputs": [
    {
     "data": {
      "text/plain": [
       "0.009443329707687787"
      ]
     },
     "execution_count": 139,
     "metadata": {},
     "output_type": "execute_result"
    }
   ],
   "source": [
    "# \n",
    "sg.filter(F.col(\"visit_start_date\") > F.col(\"visit_end_date\") ).count()/sg.count()"
   ]
  },
  {
   "cell_type": "code",
   "execution_count": 143,
   "id": "a0df448a-9132-4d98-8feb-718dc668dbf8",
   "metadata": {},
   "outputs": [
    {
     "data": {
      "text/plain": [
       "1.0"
      ]
     },
     "execution_count": 143,
     "metadata": {},
     "output_type": "execute_result"
    }
   ],
   "source": [
    "#\n",
    "sg.filter(F.col(\"visit_start_date\").isNotNull() ).count()/sg.count()"
   ]
  },
  {
   "cell_type": "code",
   "execution_count": 12,
   "id": "56f95a01-891c-4d6d-a9c3-e56284037624",
   "metadata": {},
   "outputs": [],
   "source": [
    "sg = sg.withColumn(\"visit_end_date\", F.coalesce(F.col(\"dt_dataencerramento\"), F.col(\"visit_start_date\") )  )"
   ]
  },
  {
   "cell_type": "code",
   "execution_count": 13,
   "id": "07a216af-f1e2-4790-9b6a-eeed2ee3a52a",
   "metadata": {},
   "outputs": [],
   "source": [
    "# when start_date is after end_date, use start_date for both\n",
    "sg = sg.withColumn(\"visit_end_date\", \n",
    "              F.when(F.col(\"visit_start_date\") > F.col(\"visit_end_date\"),\n",
    "                     F.col(\"visit_start_date\")\n",
    "                    ).otherwise(F.col(\"visit_end_date\")))"
   ]
  },
  {
   "cell_type": "code",
   "execution_count": 15,
   "id": "292a645b-0b2e-40c0-a928-83f66b34ceca",
   "metadata": {
    "collapsed": true,
    "jupyter": {
     "outputs_hidden": true
    },
    "tags": []
   },
   "outputs": [
    {
     "name": "stdout",
     "output_type": "stream",
     "text": [
      "+----------------+--------------+\n",
      "|visit_start_date|visit_end_date|\n",
      "+----------------+--------------+\n",
      "|      2020-07-01|    2020-06-30|\n",
      "|      2020-06-08|    2020-06-01|\n",
      "|      2021-03-31|    2021-03-06|\n",
      "|      2020-09-15|    2020-09-01|\n",
      "|      2021-01-17|    2021-01-09|\n",
      "|      2020-11-29|    2020-11-28|\n",
      "|      2020-06-16|    2020-06-03|\n",
      "|      2021-06-03|    2021-06-02|\n",
      "|      2020-08-03|    2020-07-30|\n",
      "|      2021-07-07|    2021-07-05|\n",
      "|      2020-06-01|    2020-05-26|\n",
      "|      2021-07-15|    2021-07-14|\n",
      "|      2022-03-10|    2020-03-10|\n",
      "|      2020-07-30|    2020-07-29|\n",
      "|      2022-01-19|    2020-01-22|\n",
      "|      2021-09-02|    2021-08-27|\n",
      "|      2021-05-11|    2021-03-14|\n",
      "|      2020-07-30|    2020-03-31|\n",
      "|      2022-01-21|    2022-01-04|\n",
      "|      2021-08-11|    2021-05-11|\n",
      "+----------------+--------------+\n",
      "only showing top 20 rows\n",
      "\n"
     ]
    }
   ],
   "source": [
    "#\n",
    "sg.filter(F.col(\"visit_start_date\") > F.col(\"visit_end_date\") ).select('visit_start_date','visit_end_date').show()"
   ]
  },
  {
   "cell_type": "markdown",
   "id": "729a0ef5-58a1-42f3-8f87-ebf84d0c068e",
   "metadata": {},
   "source": [
    "##### check diff in days"
   ]
  },
  {
   "cell_type": "code",
   "execution_count": 10,
   "id": "c9ce1c2a-8c1d-4c25-9937-0fded8f68716",
   "metadata": {},
   "outputs": [],
   "source": [
    "#\n",
    "sg_days = sg.withColumn('days_diff', F.datediff( F.col('visit_end_date'), F.col('visit_start_date')) )"
   ]
  },
  {
   "cell_type": "code",
   "execution_count": 19,
   "id": "23c001b1-a65a-4b98-ad3e-6a40c1a308b1",
   "metadata": {
    "collapsed": true,
    "jupyter": {
     "outputs_hidden": true
    },
    "tags": []
   },
   "outputs": [
    {
     "name": "stderr",
     "output_type": "stream",
     "text": [
      "[Stage 11:========================>                              (14 + 18) / 32]\r"
     ]
    },
    {
     "name": "stdout",
     "output_type": "stream",
     "text": [
      "+---------+--------+\n",
      "|days_diff|   count|\n",
      "+---------+--------+\n",
      "|        0|53092848|\n",
      "|        1| 1393527|\n",
      "|        7| 1243859|\n",
      "|        6| 1142699|\n",
      "|        2| 1139177|\n",
      "|        3| 1136140|\n",
      "|        4| 1088107|\n",
      "|        5| 1060690|\n",
      "|        8|  991219|\n",
      "|       10|  892551|\n",
      "|        9|  853085|\n",
      "|       14|  810129|\n",
      "|       11|  750813|\n",
      "|       13|  732654|\n",
      "|       12|  690018|\n",
      "|       15|  621840|\n",
      "|       16|  481528|\n",
      "|       17|  428639|\n",
      "|       20|  407029|\n",
      "|       21|  396296|\n",
      "+---------+--------+\n",
      "only showing top 20 rows\n",
      "\n"
     ]
    },
    {
     "name": "stderr",
     "output_type": "stream",
     "text": [
      "                                                                                \r"
     ]
    }
   ],
   "source": [
    "#\n",
    "sg_days.groupBy('days_diff').count().orderBy(F.col('count').desc()).show()"
   ]
  },
  {
   "cell_type": "markdown",
   "id": "250c32c1-2af4-49a6-abd5-9bef06ef7907",
   "metadata": {},
   "source": [
    "##### visit_concept_id "
   ]
  },
  {
   "cell_type": "code",
   "execution_count": 14,
   "id": "19c0be18-4ca3-4357-ab8d-a05ba0ac49ec",
   "metadata": {},
   "outputs": [],
   "source": [
    "# sg = sg_days.withColumn('visit_concept_id', F.when(F.col('days_diff') == 0, 9202).otherwise(9201))\n",
    "sg = sg.withColumn('visit_concept_id', F.lit(9202))"
   ]
  },
  {
   "cell_type": "markdown",
   "id": "b44144cc-a6a2-4bdd-933b-1aa740fda29f",
   "metadata": {},
   "source": [
    "##### visit_type_concept_id "
   ]
  },
  {
   "cell_type": "code",
   "execution_count": 15,
   "id": "1fc08029-cdd2-4a1a-a993-b58710de1e71",
   "metadata": {},
   "outputs": [],
   "source": [
    "# EHR type\n",
    "sg = sg.withColumn('visit_type_concept_id', F.lit(32817))"
   ]
  },
  {
   "cell_type": "markdown",
   "id": "5e7fa2b5-699c-4dbf-9bf6-e4fbc5746ef3",
   "metadata": {},
   "source": [
    "##### care_site_id "
   ]
  },
  {
   "cell_type": "code",
   "execution_count": 16,
   "id": "ee286424-4a3c-432d-afb4-92e85abf8e9f",
   "metadata": {},
   "outputs": [],
   "source": [
    "sg = sg.withColumn('care_site_id', F.lit(None))"
   ]
  },
  {
   "cell_type": "markdown",
   "id": "c3b489d7-92e0-4f6a-a8f5-82ade038b1c1",
   "metadata": {},
   "source": [
    "##### person_id"
   ]
  },
  {
   "cell_type": "code",
   "execution_count": 12,
   "id": "0e8bcd38-7665-4847-8bda-307640bf2603",
   "metadata": {
    "collapsed": true,
    "jupyter": {
     "outputs_hidden": true
    },
    "tags": []
   },
   "outputs": [
    {
     "name": "stdout",
     "output_type": "stream",
     "text": [
      "root\n",
      " |-- dt_datanotificacao: date (nullable = true)\n",
      " |-- dt_datainiciosintomas: date (nullable = true)\n",
      " |-- dt_datateste: date (nullable = true)\n",
      " |-- condicoes: string (nullable = true)\n",
      " |-- sintomas: string (nullable = true)\n",
      " |-- classificacaofinal: string (nullable = true)\n",
      " |-- dt_dataencerramento: date (nullable = true)\n",
      " |-- evolucaocaso: string (nullable = true)\n",
      " |-- tipoteste: string (nullable = true)\n",
      " |-- resultadoteste: string (nullable = true)\n",
      " |-- codigotipoteste: string (nullable = true)\n",
      " |-- codigoresultadoteste: string (nullable = true)\n",
      " |-- estadonotificacao: string (nullable = true)\n",
      " |-- municipio: string (nullable = true)\n",
      " |-- estado: string (nullable = true)\n",
      " |-- idade: double (nullable = true)\n",
      " |-- codigo_ibge_resid: string (nullable = true)\n",
      " |-- profissionalsaude: string (nullable = true)\n",
      " |-- cbo: string (nullable = true)\n",
      " |-- evolucaocaso_2: string (nullable = true)\n",
      " |-- classificacaofinal_2: string (nullable = true)\n",
      " |-- sexo_2: string (nullable = true)\n",
      " |-- racacor_2: string (nullable = true)\n",
      " |-- condicoes_2: string (nullable = true)\n",
      " |-- tipoteste_2: string (nullable = true)\n",
      " |-- sg: string (nullable = true)\n",
      " |-- srag: string (nullable = true)\n",
      " |-- vacinacao: string (nullable = true)\n",
      " |-- id_vigvac: long (nullable = true)\n",
      " |-- visit_occurrence_id: integer (nullable = true)\n",
      " |-- visit_start_date: date (nullable = true)\n",
      " |-- visit_end_date: date (nullable = true)\n",
      " |-- visit_concept_id: integer (nullable = false)\n",
      " |-- visit_type_concept_id: integer (nullable = false)\n",
      " |-- care_site_id: void (nullable = true)\n",
      "\n"
     ]
    }
   ],
   "source": [
    "#\n",
    "sg.printSchema()"
   ]
  },
  {
   "cell_type": "code",
   "execution_count": 23,
   "id": "d541f344-e731-4c35-a02d-63f2ed81f804",
   "metadata": {},
   "outputs": [
    {
     "name": "stderr",
     "output_type": "stream",
     "text": [
      "                                                                                \r"
     ]
    },
    {
     "data": {
      "text/plain": [
       "82896502"
      ]
     },
     "execution_count": 23,
     "metadata": {},
     "output_type": "execute_result"
    }
   ],
   "source": [
    "sg.count()"
   ]
  },
  {
   "cell_type": "code",
   "execution_count": 17,
   "id": "a7f86589-1efd-435e-bab6-945cb334fa36",
   "metadata": {
    "tags": []
   },
   "outputs": [],
   "source": [
    "sg_select = sg.select('id_vigvac', 'visit_occurrence_id', 'visit_concept_id', 'visit_start_date', 'visit_end_date', 'care_site_id', 'visit_type_concept_id')"
   ]
  },
  {
   "cell_type": "markdown",
   "id": "2018757b-16a2-41b0-8ebb-20983ef831b4",
   "metadata": {},
   "source": [
    "# vacinacao "
   ]
  },
  {
   "cell_type": "code",
   "execution_count": 18,
   "id": "4bdd3308-a7ad-4150-9feb-93199d1687de",
   "metadata": {},
   "outputs": [],
   "source": [
    "# vac = spark.read.parquet('/dados10t/datalake/standard/vigivac/vacinacao/vacinacao07072022_pessoasunicas_5doses_v17.parquet/')\n",
    "vac_long = spark.read.parquet('/dados10t/datalake/standard/omop/data_with_ids/vacinacao07072022_pessoasunicas_5doses_v17-id_omop-v3.parquet/')"
   ]
  },
  {
   "cell_type": "code",
   "execution_count": 29,
   "id": "9d164693-bd75-429d-bdeb-dcf6f6573e38",
   "metadata": {},
   "outputs": [
    {
     "data": {
      "text/plain": [
       "446217353"
      ]
     },
     "execution_count": 29,
     "metadata": {},
     "output_type": "execute_result"
    }
   ],
   "source": [
    "vac_long.count()"
   ]
  },
  {
   "cell_type": "code",
   "execution_count": 19,
   "id": "2e110d7c-e91e-4d63-a96a-4c58d40e780d",
   "metadata": {},
   "outputs": [],
   "source": [
    "vac_long = vac_long.withColumn('estabelecimento_valor', \n",
    "                    F.when(F.col('n_vacina')=='d1_data_aplicacao', F.col('d1_estab_valor'))\\\n",
    "                    .when(F.col('n_vacina')=='d2_data_aplicacao', F.col('d2_estab_valor'))\\\n",
    "                    .when(F.col('n_vacina')=='d3_data_aplicacao', F.col('d3_estab_valor'))\\\n",
    "                    .when(F.col('n_vacina')=='d4_data_aplicacao', F.col('d4_estab_valor'))\\\n",
    "                    .when(F.col('n_vacina')=='d5_data_aplicacao', F.col('d5_estab_valor'))\n",
    "                   )"
   ]
  },
  {
   "cell_type": "code",
   "execution_count": 28,
   "id": "b60ed7c4-85ce-4ecd-b990-1547120eaf27",
   "metadata": {},
   "outputs": [],
   "source": [
    "# vac_long = vac.selectExpr(\"id_vigvac\",\n",
    "#                          \"stack(5,'d1_data_aplicacao',d1_data_aplicacao,'d2_data_aplicacao',d2_data_aplicacao,'d3_data_aplicacao',d3_data_aplicacao,'d4_data_aplicacao',d4_data_aplicacao,'d5_data_aplicacao',d5_data_aplicacao) as (variable,data_entrada)\" ).filter(F.col(\"data_entrada\").isNotNull())"
   ]
  },
  {
   "cell_type": "code",
   "execution_count": 161,
   "id": "06433f13-c012-499f-ad9a-741f7b8c2d37",
   "metadata": {},
   "outputs": [],
   "source": [
    "# vac_total = vac_plus_raw.count()"
   ]
  },
  {
   "cell_type": "markdown",
   "id": "187003fa-f160-49fc-9aeb-39d85d81668a",
   "metadata": {},
   "source": [
    "##### start and end date"
   ]
  },
  {
   "cell_type": "code",
   "execution_count": 20,
   "id": "84dbd04a-aee2-4189-999a-98e84d76978d",
   "metadata": {},
   "outputs": [],
   "source": [
    "# start and end date for vaccination are the same\n",
    "vac_long = vac_long.withColumn(\"visit_start_date\", F.col('data_aplicacao'))\n",
    "vac_long = vac_long.withColumn(\"visit_end_date\", F.col('data_aplicacao'))"
   ]
  },
  {
   "cell_type": "markdown",
   "id": "fb48862b-cdf1-4555-80fa-2b1fb10330d4",
   "metadata": {},
   "source": [
    "##### visit_concept_id"
   ]
  },
  {
   "cell_type": "code",
   "execution_count": 21,
   "id": "1b9fad59-783e-4cdc-8c04-d35d7fce7e72",
   "metadata": {},
   "outputs": [],
   "source": [
    "# pharmacy concept id\n",
    "vac_long = vac_long.withColumn('visit_concept_id', F.lit(38004338))"
   ]
  },
  {
   "cell_type": "markdown",
   "id": "ad879df8-d3ab-4976-bc5f-b10fd1387e7b",
   "metadata": {},
   "source": [
    "##### visit_type_concept_id"
   ]
  },
  {
   "cell_type": "code",
   "execution_count": 22,
   "id": "90b95813-5233-497f-bf64-b40773686019",
   "metadata": {},
   "outputs": [],
   "source": [
    "# EHR concept id\n",
    "vac_long = vac_long.withColumn('visit_type_concept_id', F.lit(32817))"
   ]
  },
  {
   "cell_type": "markdown",
   "id": "f0b47661-9b63-49d5-8955-6fda83201576",
   "metadata": {},
   "source": [
    "##### care_site_id "
   ]
  },
  {
   "cell_type": "code",
   "execution_count": 23,
   "id": "b7363a66-4e33-424d-bfac-66a42a0765a2",
   "metadata": {},
   "outputs": [],
   "source": [
    "vac_long = vac_long.withColumn('care_site_id', F.col('estabelecimento_valor'))"
   ]
  },
  {
   "cell_type": "markdown",
   "id": "592549cb-a33f-4c30-badb-ad469836a780",
   "metadata": {},
   "source": [
    "##### person_id"
   ]
  },
  {
   "cell_type": "code",
   "execution_count": 24,
   "id": "4c6aac09-4562-48cd-97da-8d1feb67e8d5",
   "metadata": {},
   "outputs": [],
   "source": [
    "vac_select = vac_long.select('id_vigvac', 'visit_occurrence_id', 'visit_concept_id', 'visit_start_date', 'visit_end_date', 'care_site_id', 'visit_type_concept_id')"
   ]
  },
  {
   "cell_type": "code",
   "execution_count": 36,
   "id": "4280a105-d363-415f-ba96-b9f0c9d35708",
   "metadata": {},
   "outputs": [
    {
     "data": {
      "text/plain": [
       "446217353"
      ]
     },
     "execution_count": 36,
     "metadata": {},
     "output_type": "execute_result"
    }
   ],
   "source": [
    "#\n",
    "vac_select.count()"
   ]
  },
  {
   "cell_type": "markdown",
   "id": "e1272275-ec12-401f-9cca-f86cdad14f37",
   "metadata": {},
   "source": [
    "# srag "
   ]
  },
  {
   "cell_type": "code",
   "execution_count": 25,
   "id": "5ad16e8b-3cdf-4398-88c6-1b6f9f65f482",
   "metadata": {},
   "outputs": [],
   "source": [
    "# srag = spark.read.parquet('/dados10t/datalake/standard/vigivac/srag/dbsrag_tb_influd_long_28032023_v8.parquet')\n",
    "# srag = spark.read.parquet(\"/dados10t/datalake/standard/vigivac/srag/dbsrag_tb_influd_long_09072022_v8.parquet/\")\n",
    "srag = spark.read.parquet('/dados10t/datalake/standard/omop/data_with_ids/dbsrag_tb_influd_long_09072022_v8-id_omop-v3.parquet/')"
   ]
  },
  {
   "cell_type": "code",
   "execution_count": 38,
   "id": "4ed6840b-4b1b-43ad-b116-1f5a045f4903",
   "metadata": {},
   "outputs": [
    {
     "data": {
      "text/plain": [
       "2487085"
      ]
     },
     "execution_count": 38,
     "metadata": {},
     "output_type": "execute_result"
    }
   ],
   "source": [
    "#\n",
    "srag.count()"
   ]
  },
  {
   "cell_type": "markdown",
   "id": "23c8ab0c-0a69-4346-b305-79dc7ac5ea03",
   "metadata": {},
   "source": [
    "##### start date"
   ]
  },
  {
   "cell_type": "code",
   "execution_count": 39,
   "id": "b9a82030-ff9c-440a-9bab-25557085e802",
   "metadata": {},
   "outputs": [
    {
     "data": {
      "text/plain": [
       "0.9350762036681497"
      ]
     },
     "execution_count": 39,
     "metadata": {},
     "output_type": "execute_result"
    }
   ],
   "source": [
    "#\n",
    "srag.filter(F.col('dt_interna').isNotNull()).count()/srag.count()"
   ]
  },
  {
   "cell_type": "code",
   "execution_count": 90,
   "id": "355d5337-1bf7-4b4f-b8e6-4d48e4ec0511",
   "metadata": {},
   "outputs": [
    {
     "data": {
      "text/plain": [
       "1.0"
      ]
     },
     "execution_count": 90,
     "metadata": {},
     "output_type": "execute_result"
    }
   ],
   "source": [
    "#\n",
    "srag.filter(F.col('dt_notif_dt').isNotNull()).count()/srag.count()"
   ]
  },
  {
   "cell_type": "code",
   "execution_count": 27,
   "id": "db2f2294-33e8-44de-984a-63067fdabfa9",
   "metadata": {},
   "outputs": [
    {
     "name": "stdout",
     "output_type": "stream",
     "text": [
      "root\n",
      " |-- id_paciente: string (nullable = true)\n",
      " |-- st_notific: string (nullable = true)\n",
      " |-- dt_notific: string (nullable = true)\n",
      " |-- sem_not: string (nullable = true)\n",
      " |-- dt_sin_pri: string (nullable = true)\n",
      " |-- sem_pri: string (nullable = true)\n",
      " |-- sg_uf_not: string (nullable = true)\n",
      " |-- id_regiona: string (nullable = true)\n",
      " |-- co_regiona: decimal(10,0) (nullable = true)\n",
      " |-- id_municip: string (nullable = true)\n",
      " |-- co_mun_not: string (nullable = true)\n",
      " |-- id_unidade: string (nullable = true)\n",
      " |-- co_uni_not: string (nullable = true)\n",
      " |-- cs_sexo: string (nullable = true)\n",
      " |-- dt_nasc: string (nullable = true)\n",
      " |-- nu_idade_n: decimal(10,0) (nullable = true)\n",
      " |-- tp_idade: string (nullable = true)\n",
      " |-- cod_idade: string (nullable = true)\n",
      " |-- cs_gestant: decimal(10,0) (nullable = true)\n",
      " |-- cs_raca: string (nullable = true)\n",
      " |-- cs_etinia: string (nullable = true)\n",
      " |-- cs_escol_n: decimal(10,0) (nullable = true)\n",
      " |-- nu_cep: string (nullable = true)\n",
      " |-- id_pais: string (nullable = true)\n",
      " |-- co_pais: decimal(10,0) (nullable = true)\n",
      " |-- sg_uf: string (nullable = true)\n",
      " |-- id_rg_resi: string (nullable = true)\n",
      " |-- co_rg_resi: decimal(10,0) (nullable = true)\n",
      " |-- id_mn_resi: string (nullable = true)\n",
      " |-- co_mun_res: string (nullable = true)\n",
      " |-- nm_bairro: string (nullable = true)\n",
      " |-- cs_zona: string (nullable = true)\n",
      " |-- surto_sg: string (nullable = true)\n",
      " |-- nosocomial: string (nullable = true)\n",
      " |-- ave_suino: string (nullable = true)\n",
      " |-- febre: string (nullable = true)\n",
      " |-- tosse: string (nullable = true)\n",
      " |-- garganta: string (nullable = true)\n",
      " |-- dispneia: string (nullable = true)\n",
      " |-- desc_resp: string (nullable = true)\n",
      " |-- saturacao: string (nullable = true)\n",
      " |-- diarreia: string (nullable = true)\n",
      " |-- vomito: string (nullable = true)\n",
      " |-- outro_sin: string (nullable = true)\n",
      " |-- outro_des: string (nullable = true)\n",
      " |-- fator_risc: string (nullable = true)\n",
      " |-- puerpera: string (nullable = true)\n",
      " |-- cardiopati: string (nullable = true)\n",
      " |-- hematologi: string (nullable = true)\n",
      " |-- sind_down: string (nullable = true)\n",
      " |-- hepatica: string (nullable = true)\n",
      " |-- asma: string (nullable = true)\n",
      " |-- diabetes: string (nullable = true)\n",
      " |-- neurologic: string (nullable = true)\n",
      " |-- pneumopati: string (nullable = true)\n",
      " |-- imunodepre: string (nullable = true)\n",
      " |-- renal: string (nullable = true)\n",
      " |-- obesidade: string (nullable = true)\n",
      " |-- obes_imc: string (nullable = true)\n",
      " |-- out_morbi: string (nullable = true)\n",
      " |-- morb_desc: string (nullable = true)\n",
      " |-- vacina: string (nullable = true)\n",
      " |-- dt_ut_dose: string (nullable = true)\n",
      " |-- mae_vac: string (nullable = true)\n",
      " |-- dt_vac_mae: string (nullable = true)\n",
      " |-- m_amamenta: string (nullable = true)\n",
      " |-- dt_doseuni: string (nullable = true)\n",
      " |-- dt_1_dose: string (nullable = true)\n",
      " |-- dt_2_dose: string (nullable = true)\n",
      " |-- antiviral: string (nullable = true)\n",
      " |-- tp_antivir: decimal(10,0) (nullable = true)\n",
      " |-- out_antiv: string (nullable = true)\n",
      " |-- dt_antivir: string (nullable = true)\n",
      " |-- hospital: string (nullable = true)\n",
      " |-- dt_interna: string (nullable = true)\n",
      " |-- sg_uf_inte: string (nullable = true)\n",
      " |-- id_rg_inte: string (nullable = true)\n",
      " |-- co_rg_inte: decimal(10,0) (nullable = true)\n",
      " |-- id_mn_inte: string (nullable = true)\n",
      " |-- co_mu_inte: string (nullable = true)\n",
      " |-- nm_un_inte: string (nullable = true)\n",
      " |-- co_un_inte: string (nullable = true)\n",
      " |-- uti: string (nullable = true)\n",
      " |-- dt_entuti: string (nullable = true)\n",
      " |-- dt_saiduti: string (nullable = true)\n",
      " |-- suport_ven: string (nullable = true)\n",
      " |-- raiox_res: decimal(10,0) (nullable = true)\n",
      " |-- raiox_out: string (nullable = true)\n",
      " |-- dt_raiox: string (nullable = true)\n",
      " |-- amostra: string (nullable = true)\n",
      " |-- dt_coleta: string (nullable = true)\n",
      " |-- tp_amostra: decimal(10,0) (nullable = true)\n",
      " |-- out_amost: string (nullable = true)\n",
      " |-- st_requisicao_gal: string (nullable = true)\n",
      " |-- pcr_resul: string (nullable = true)\n",
      " |-- dt_pcr: string (nullable = true)\n",
      " |-- pos_pcrflu: string (nullable = true)\n",
      " |-- tp_flu_pcr: string (nullable = true)\n",
      " |-- pcr_fluasu: string (nullable = true)\n",
      " |-- fluasu_out: string (nullable = true)\n",
      " |-- pcr_flubli: string (nullable = true)\n",
      " |-- flubli_out: string (nullable = true)\n",
      " |-- pos_pcrout: string (nullable = true)\n",
      " |-- pcr_vsr: string (nullable = true)\n",
      " |-- pcr_para1: string (nullable = true)\n",
      " |-- pcr_para2: string (nullable = true)\n",
      " |-- pcr_para3: string (nullable = true)\n",
      " |-- pcr_para4: string (nullable = true)\n",
      " |-- pcr_adeno: string (nullable = true)\n",
      " |-- pcr_metap: string (nullable = true)\n",
      " |-- pcr_boca: string (nullable = true)\n",
      " |-- pcr_rino: string (nullable = true)\n",
      " |-- pcr_outro: string (nullable = true)\n",
      " |-- ds_pcr_out: string (nullable = true)\n",
      " |-- lab_pcr: string (nullable = true)\n",
      " |-- co_lab_pcr: string (nullable = true)\n",
      " |-- classi_fin: decimal(10,0) (nullable = true)\n",
      " |-- classi_out: string (nullable = true)\n",
      " |-- criterio: decimal(10,0) (nullable = true)\n",
      " |-- evolucao: string (nullable = true)\n",
      " |-- dt_evoluca: string (nullable = true)\n",
      " |-- dt_encerra: string (nullable = true)\n",
      " |-- dt_digita: string (nullable = true)\n",
      " |-- histo_vgm: string (nullable = true)\n",
      " |-- pais_vgm: string (nullable = true)\n",
      " |-- co_ps_vgm: decimal(10,0) (nullable = true)\n",
      " |-- lo_ps_vgm: string (nullable = true)\n",
      " |-- dt_vgm: string (nullable = true)\n",
      " |-- dt_rt_vgm: string (nullable = true)\n",
      " |-- pcr_sars2: string (nullable = true)\n",
      " |-- pac_cocbo: string (nullable = true)\n",
      " |-- pac_dscbo: string (nullable = true)\n",
      " |-- out_anim: string (nullable = true)\n",
      " |-- dor_abd: string (nullable = true)\n",
      " |-- fadiga: string (nullable = true)\n",
      " |-- perd_olft: string (nullable = true)\n",
      " |-- perd_pala: string (nullable = true)\n",
      " |-- tomo_res: decimal(10,0) (nullable = true)\n",
      " |-- tomo_out: string (nullable = true)\n",
      " |-- dt_tomo: string (nullable = true)\n",
      " |-- tp_tes_an: decimal(10,0) (nullable = true)\n",
      " |-- dt_res_an: string (nullable = true)\n",
      " |-- res_an: string (nullable = true)\n",
      " |-- lab_an: string (nullable = true)\n",
      " |-- co_lab_an: string (nullable = true)\n",
      " |-- pos_an_flu: string (nullable = true)\n",
      " |-- tp_flu_an: string (nullable = true)\n",
      " |-- pos_an_out: string (nullable = true)\n",
      " |-- an_sars2: string (nullable = true)\n",
      " |-- an_vsr: string (nullable = true)\n",
      " |-- an_para1: string (nullable = true)\n",
      " |-- an_para2: string (nullable = true)\n",
      " |-- an_para3: string (nullable = true)\n",
      " |-- an_adeno: string (nullable = true)\n",
      " |-- an_outro: string (nullable = true)\n",
      " |-- ds_an_out: string (nullable = true)\n",
      " |-- tp_am_sor: decimal(10,0) (nullable = true)\n",
      " |-- sor_out: string (nullable = true)\n",
      " |-- dt_co_sor: string (nullable = true)\n",
      " |-- tp_sor: decimal(10,0) (nullable = true)\n",
      " |-- out_sor: string (nullable = true)\n",
      " |-- dt_res: string (nullable = true)\n",
      " |-- res_igg: string (nullable = true)\n",
      " |-- res_igm: string (nullable = true)\n",
      " |-- res_iga: string (nullable = true)\n",
      " |-- st_do: string (nullable = true)\n",
      " |-- estrang: string (nullable = true)\n",
      " |-- vacina_cov: string (nullable = true)\n",
      " |-- dose_1_cov: string (nullable = true)\n",
      " |-- dose_2_cov: string (nullable = true)\n",
      " |-- lab_pr_cov: string (nullable = true)\n",
      " |-- lote_1_cov: string (nullable = true)\n",
      " |-- lote_2_cov: string (nullable = true)\n",
      " |-- fnt_in_cov: string (nullable = true)\n",
      " |-- id_row: long (nullable = true)\n",
      " |-- visit_occurrence_id: long (nullable = true)\n",
      "\n"
     ]
    }
   ],
   "source": [
    "srag.printSchema()"
   ]
  },
  {
   "cell_type": "code",
   "execution_count": 29,
   "id": "769027b2-bfb6-49ab-bb0d-b3efb13da307",
   "metadata": {},
   "outputs": [],
   "source": [
    "srag = srag.withColumn('visit_start_date', \n",
    "                       F.coalesce(\n",
    "                           F.to_date(F.col('dt_interna'), 'dd/MM/yyyy'), \n",
    "                           F.to_date(F.col('dt_notific'), 'dd/MM/yyyy')\n",
    "                       )\n",
    "                      )"
   ]
  },
  {
   "cell_type": "markdown",
   "id": "b15296fd-be85-4db7-b495-08abad0b1f92",
   "metadata": {},
   "source": [
    "##### end date"
   ]
  },
  {
   "cell_type": "code",
   "execution_count": 41,
   "id": "d6fed236-cc5c-44e5-b188-788281ef362c",
   "metadata": {},
   "outputs": [
    {
     "data": {
      "text/plain": [
       "0.8969994994139726"
      ]
     },
     "execution_count": 41,
     "metadata": {},
     "output_type": "execute_result"
    }
   ],
   "source": [
    "#\n",
    "srag.filter(F.col('dt_encerra_dt').isNotNull()).count()/srag.count()"
   ]
  },
  {
   "cell_type": "code",
   "execution_count": 42,
   "id": "badf4c45-4cde-4d23-add6-226ecad98107",
   "metadata": {},
   "outputs": [
    {
     "data": {
      "text/plain": [
       "0.831092222421027"
      ]
     },
     "execution_count": 42,
     "metadata": {},
     "output_type": "execute_result"
    }
   ],
   "source": [
    "#\n",
    "srag.filter(F.col('dt_evoluca').isNotNull()).count()/srag.count()"
   ]
  },
  {
   "cell_type": "code",
   "execution_count": 30,
   "id": "c19b7db2-2855-45a9-a229-82fb3703e223",
   "metadata": {},
   "outputs": [],
   "source": [
    "srag = srag.withColumn('visit_end_date', \n",
    "                       F.coalesce(\n",
    "                           F.to_date(F.col('dt_encerra'), 'dd/MM/yyyy'), \n",
    "                           F.to_date(F.col('dt_evoluca'), 'dd/MM/yyyy'), \n",
    "                           F.col('visit_start_date')\n",
    "                       ) )"
   ]
  },
  {
   "cell_type": "markdown",
   "id": "2037cb74-0a86-4942-8513-b21197e6b8d3",
   "metadata": {},
   "source": [
    "##### checking quality"
   ]
  },
  {
   "cell_type": "code",
   "execution_count": 91,
   "id": "65bfd1c8-a74c-4618-970d-551072387796",
   "metadata": {},
   "outputs": [
    {
     "data": {
      "text/plain": [
       "0.0008777343757853069"
      ]
     },
     "execution_count": 91,
     "metadata": {},
     "output_type": "execute_result"
    }
   ],
   "source": [
    "srag.filter(F.col('visit_start_date') > F.col('visit_end_date')).count()/srag.count()"
   ]
  },
  {
   "cell_type": "code",
   "execution_count": 24,
   "id": "afaf965a-4b8d-4ddd-8654-6f21986052d2",
   "metadata": {},
   "outputs": [],
   "source": [
    "#\n",
    "srag_days = srag.withColumn('days_diff', F.datediff( F.col('visit_end_date'), F.col('visit_start_date')) )"
   ]
  },
  {
   "cell_type": "code",
   "execution_count": 29,
   "id": "678acbef-81c2-4fd9-a031-c166e6ab5279",
   "metadata": {
    "collapsed": true,
    "jupyter": {
     "outputs_hidden": true
    },
    "tags": []
   },
   "outputs": [
    {
     "name": "stderr",
     "output_type": "stream",
     "text": [
      "[Stage 6:=======================================================> (31 + 1) / 32]\r"
     ]
    },
    {
     "name": "stdout",
     "output_type": "stream",
     "text": [
      "+---------+------+\n",
      "|days_diff| count|\n",
      "+---------+------+\n",
      "|        0|277563|\n",
      "|        7|100629|\n",
      "|        6|100262|\n",
      "|        5| 97075|\n",
      "|        4| 91595|\n",
      "|        8| 91395|\n",
      "|        9| 82295|\n",
      "|        3| 80601|\n",
      "|       10| 76533|\n",
      "|       11| 69192|\n",
      "|       12| 63802|\n",
      "|        2| 62186|\n",
      "|       13| 60240|\n",
      "|       14| 57219|\n",
      "|        1| 51815|\n",
      "|       15| 51453|\n",
      "|       16| 46263|\n",
      "|       17| 42893|\n",
      "|       18| 39667|\n",
      "|       19| 36782|\n",
      "+---------+------+\n",
      "only showing top 20 rows\n",
      "\n"
     ]
    },
    {
     "name": "stderr",
     "output_type": "stream",
     "text": [
      "                                                                                \r"
     ]
    }
   ],
   "source": [
    "#\n",
    "srag_days.groupBy('days_diff').count().orderBy(F.col('count').desc()).show()"
   ]
  },
  {
   "cell_type": "markdown",
   "id": "300ddc65-572e-41cf-9f76-969f298cdd1d",
   "metadata": {},
   "source": [
    "##### visit_concept_id"
   ]
  },
  {
   "cell_type": "code",
   "execution_count": 31,
   "id": "281e5f51-20ed-4479-86b9-99593672a4d7",
   "metadata": {},
   "outputs": [],
   "source": [
    "srag = srag.withColumn('visit_concept_id', F.lit(9201))\n",
    "# srag = srag_days.withColumn('visit_concept_id', F.when(F.col('days_diff') == 0, 9202).otherwiseb(9201))"
   ]
  },
  {
   "cell_type": "markdown",
   "id": "8d953cf6-892c-46f5-bd1a-351b9899ef07",
   "metadata": {},
   "source": [
    "##### visit_type_concept_id "
   ]
  },
  {
   "cell_type": "code",
   "execution_count": 32,
   "id": "b7511db0-a95c-418c-9117-5e3e99c86f07",
   "metadata": {},
   "outputs": [],
   "source": [
    "srag = srag.withColumn('visit_type_concept_id', F.lit(32817))"
   ]
  },
  {
   "cell_type": "markdown",
   "id": "54e686f1-a70b-43ef-8808-98adbe237574",
   "metadata": {},
   "source": [
    "##### care_site_id "
   ]
  },
  {
   "cell_type": "code",
   "execution_count": 46,
   "id": "3898a68d-70b7-4448-9fdb-7e14ae53130c",
   "metadata": {
    "collapsed": true,
    "jupyter": {
     "outputs_hidden": true
    },
    "tags": []
   },
   "outputs": [
    {
     "name": "stdout",
     "output_type": "stream",
     "text": [
      "+----------+\n",
      "|co_uni_not|\n",
      "+----------+\n",
      "|   0023051|\n",
      "|   6668143|\n",
      "|   2134276|\n",
      "|   8000956|\n",
      "|   2249472|\n",
      "|   2527057|\n",
      "|   7257406|\n",
      "|   7866801|\n",
      "|   2615797|\n",
      "|   2078473|\n",
      "|   2263823|\n",
      "|   2576341|\n",
      "|   7107366|\n",
      "|   0012521|\n",
      "|   9383298|\n",
      "|   2089777|\n",
      "|   2352516|\n",
      "|   2022877|\n",
      "|   2200902|\n",
      "|   2079127|\n",
      "+----------+\n",
      "only showing top 20 rows\n",
      "\n"
     ]
    }
   ],
   "source": [
    "#\n",
    "srag.select('co_uni_not').show()"
   ]
  },
  {
   "cell_type": "code",
   "execution_count": 33,
   "id": "a006ce4a-e289-405b-b89b-ad5533113270",
   "metadata": {},
   "outputs": [],
   "source": [
    "srag = srag.withColumn('care_site_id', F.col('co_uni_not'))"
   ]
  },
  {
   "cell_type": "markdown",
   "id": "eb84f9cd-d081-4a49-8594-f312487da01b",
   "metadata": {},
   "source": [
    "##### person_id"
   ]
  },
  {
   "cell_type": "code",
   "execution_count": 35,
   "id": "d0b786fd-92e6-4235-acfd-30fe82c3804f",
   "metadata": {
    "tags": []
   },
   "outputs": [
    {
     "name": "stderr",
     "output_type": "stream",
     "text": [
      "                                                                                \r"
     ]
    },
    {
     "data": {
      "text/plain": [
       "2490196"
      ]
     },
     "execution_count": 35,
     "metadata": {},
     "output_type": "execute_result"
    }
   ],
   "source": [
    "srag.count()"
   ]
  },
  {
   "cell_type": "code",
   "execution_count": 36,
   "id": "03c299b8-c4e4-45c2-ac3e-8004ed57c49f",
   "metadata": {},
   "outputs": [],
   "source": [
    "srag_vigvac = srag.join(id_vigivac, ['id_paciente'], 'inner')"
   ]
  },
  {
   "cell_type": "code",
   "execution_count": 37,
   "id": "b360c4bc-59f7-4360-908d-cf94c3b66fb4",
   "metadata": {},
   "outputs": [
    {
     "name": "stderr",
     "output_type": "stream",
     "text": [
      "                                                                                \r"
     ]
    },
    {
     "data": {
      "text/plain": [
       "2490196"
      ]
     },
     "execution_count": 37,
     "metadata": {},
     "output_type": "execute_result"
    }
   ],
   "source": [
    "srag_vigvac.count()"
   ]
  },
  {
   "cell_type": "code",
   "execution_count": 38,
   "id": "16bae315-87c3-43f2-818d-3ce2de31523f",
   "metadata": {},
   "outputs": [],
   "source": [
    "srag_select = srag_vigvac.select('id_vigvac', 'visit_occurrence_id', 'visit_concept_id', 'visit_start_date', 'visit_end_date', 'care_site_id', 'visit_type_concept_id')"
   ]
  },
  {
   "cell_type": "code",
   "execution_count": 50,
   "id": "d704975c-3320-413e-bed9-19ffc469ff37",
   "metadata": {},
   "outputs": [
    {
     "data": {
      "text/plain": [
       "2487085"
      ]
     },
     "execution_count": 50,
     "metadata": {},
     "output_type": "execute_result"
    }
   ],
   "source": [
    "srag_select.count()"
   ]
  },
  {
   "cell_type": "markdown",
   "id": "a0a4b3e9-495f-456c-b078-40dde2e98316",
   "metadata": {},
   "source": [
    "# Union"
   ]
  },
  {
   "cell_type": "code",
   "execution_count": 39,
   "id": "61c00fa9-4097-49d3-a1bb-8fb9f20a76d2",
   "metadata": {},
   "outputs": [],
   "source": [
    "srag_sg = srag_select.union(sg_select)"
   ]
  },
  {
   "cell_type": "code",
   "execution_count": 40,
   "id": "6e723f76-040d-4862-b3d9-f5ddf33894bf",
   "metadata": {},
   "outputs": [],
   "source": [
    "srag_sg_vac = srag_sg.union(vac_select)"
   ]
  },
  {
   "cell_type": "code",
   "execution_count": 41,
   "id": "c49601a0-34a1-4980-8062-4615cf2c730b",
   "metadata": {},
   "outputs": [
    {
     "name": "stderr",
     "output_type": "stream",
     "text": [
      "                                                                                \r"
     ]
    }
   ],
   "source": [
    "srag_sg_vac = srag_sg_vac.checkpoint()"
   ]
  },
  {
   "cell_type": "code",
   "execution_count": 37,
   "id": "018ad86a-d4d9-4143-9da8-09394a634077",
   "metadata": {},
   "outputs": [
    {
     "data": {
      "text/plain": [
       "['id_vigvac',\n",
       " 'visit_occurrence_id',\n",
       " 'visit_concept_id',\n",
       " 'visit_start_date',\n",
       " 'visit_end_date',\n",
       " 'care_site_id',\n",
       " 'visit_type_concept_id']"
      ]
     },
     "execution_count": 37,
     "metadata": {},
     "output_type": "execute_result"
    }
   ],
   "source": [
    "srag_sg_vac.columns"
   ]
  },
  {
   "cell_type": "code",
   "execution_count": 38,
   "id": "3b8e5b17-c6ba-4822-962a-a79fff832460",
   "metadata": {},
   "outputs": [
    {
     "name": "stderr",
     "output_type": "stream",
     "text": [
      "                                                                                \r"
     ]
    },
    {
     "data": {
      "text/plain": [
       "531600940"
      ]
     },
     "execution_count": 38,
     "metadata": {},
     "output_type": "execute_result"
    }
   ],
   "source": [
    "srag_sg_vac.count()"
   ]
  },
  {
   "cell_type": "markdown",
   "id": "cb2b038d-7489-417c-b124-35c7dfb75e45",
   "metadata": {},
   "source": [
    "# Add person_id"
   ]
  },
  {
   "cell_type": "code",
   "execution_count": 44,
   "id": "0d27d5c5-0a00-47f7-92c7-a0a687359039",
   "metadata": {},
   "outputs": [],
   "source": [
    "person_id = person_id.withColumnRenamed('id_vigivac', 'id_vigvac')"
   ]
  },
  {
   "cell_type": "code",
   "execution_count": 187,
   "id": "4964750b-7a79-472d-926b-fa125ffeb700",
   "metadata": {
    "collapsed": true,
    "jupyter": {
     "outputs_hidden": true
    },
    "tags": []
   },
   "outputs": [
    {
     "data": {
      "text/plain": [
       "['person_id',\n",
       " 'gender_source_value',\n",
       " 'race_source_value',\n",
       " 'gender_concept_id',\n",
       " 'race_concept_id',\n",
       " 'year_of_birth',\n",
       " 'month_of_birth',\n",
       " 'day_of_birth',\n",
       " 'birth_datetime',\n",
       " 'ethnicity_concept_id',\n",
       " 'id_vigvac']"
      ]
     },
     "execution_count": 187,
     "metadata": {},
     "output_type": "execute_result"
    }
   ],
   "source": [
    "#\n",
    "person_id.columns"
   ]
  },
  {
   "cell_type": "code",
   "execution_count": 179,
   "id": "bce7ce30-2892-46d2-8a4b-15520523fdba",
   "metadata": {
    "collapsed": true,
    "jupyter": {
     "outputs_hidden": true
    },
    "tags": []
   },
   "outputs": [
    {
     "data": {
      "text/plain": [
       "['id_vigvac',\n",
       " 'visit_concept_id',\n",
       " 'visit_start_date',\n",
       " 'visit_end_date',\n",
       " 'care_site_id',\n",
       " 'visit_type_concept_id']"
      ]
     },
     "execution_count": 179,
     "metadata": {},
     "output_type": "execute_result"
    }
   ],
   "source": [
    "#\n",
    "srag_sg_vac.columns"
   ]
  },
  {
   "cell_type": "code",
   "execution_count": 45,
   "id": "47f71e82-3410-4607-873b-cf884d6df450",
   "metadata": {},
   "outputs": [],
   "source": [
    "full_id = srag_sg_vac.join(person_id, 'id_vigvac', 'inner').select(srag_sg_vac.columns + ['person_id'])"
   ]
  },
  {
   "cell_type": "code",
   "execution_count": 189,
   "id": "fc92f51c-c7d2-419e-a11e-dcedd6f177e4",
   "metadata": {
    "tags": []
   },
   "outputs": [
    {
     "data": {
      "text/plain": [
       "['id_vigvac',\n",
       " 'visit_concept_id',\n",
       " 'visit_start_date',\n",
       " 'visit_end_date',\n",
       " 'care_site_id',\n",
       " 'visit_type_concept_id',\n",
       " 'person_id']"
      ]
     },
     "execution_count": 189,
     "metadata": {},
     "output_type": "execute_result"
    }
   ],
   "source": [
    "full_id.columns"
   ]
  },
  {
   "cell_type": "code",
   "execution_count": 39,
   "id": "83c2b3f5-e972-4b0d-96f5-0b79a28ee2eb",
   "metadata": {
    "tags": []
   },
   "outputs": [
    {
     "name": "stderr",
     "output_type": "stream",
     "text": [
      "                                                                                \r"
     ]
    },
    {
     "data": {
      "text/plain": [
       "530582227"
      ]
     },
     "execution_count": 39,
     "metadata": {},
     "output_type": "execute_result"
    }
   ],
   "source": [
    "full_id.count()"
   ]
  },
  {
   "cell_type": "code",
   "execution_count": null,
   "id": "29324b92-3d5b-4931-a0e1-772cd889c15a",
   "metadata": {},
   "outputs": [],
   "source": []
  },
  {
   "cell_type": "markdown",
   "id": "ec2e3268-f5a6-4c25-9906-4b833b17e388",
   "metadata": {},
   "source": [
    "## remove care_site_id numbers that aren't present in cnae"
   ]
  },
  {
   "cell_type": "code",
   "execution_count": 46,
   "id": "bb88849a-7ce5-4d49-a4c7-6fa8113e362e",
   "metadata": {},
   "outputs": [],
   "source": [
    "cnae = spark.read.parquet(\"/dados10t/datalake/standard/omop/tabelas_omop_cmd_5.4_v1/tb_care_site.parquet\")"
   ]
  },
  {
   "cell_type": "code",
   "execution_count": 47,
   "id": "7d315c50-fb64-4066-b10a-6759c5e8a3ff",
   "metadata": {},
   "outputs": [],
   "source": [
    "table_p_cnae = full_id.join(cnae, 'care_site_id' ,'left')"
   ]
  },
  {
   "cell_type": "code",
   "execution_count": 48,
   "id": "19963421-6aaa-4d56-b929-9af683de72ec",
   "metadata": {},
   "outputs": [],
   "source": [
    "table_p_cnae = table_p_cnae.withColumn('valid_cnae',\n",
    "                                       F.when(F.col('care_site_source_value').isNull() & F.col('care_site_id').isNotNull(), 0)\n",
    "                                       .otherwise(1))"
   ]
  },
  {
   "cell_type": "code",
   "execution_count": 49,
   "id": "d2d4bf15-41fa-4cc1-ac18-9bacf762c11b",
   "metadata": {},
   "outputs": [],
   "source": [
    "table_p_cnae = table_p_cnae.withColumn('care_site_id',\n",
    "                                       F.when(F.col('valid_cnae') == 0, None)\\\n",
    "                                       .otherwise(F.col('care_site_id'))\n",
    "                                      )"
   ]
  },
  {
   "cell_type": "code",
   "execution_count": 50,
   "id": "d71342c2-8a9b-4a72-92d1-1929c2334b31",
   "metadata": {},
   "outputs": [],
   "source": [
    "table_p_cnae = table_p_cnae.select(full_id.columns)"
   ]
  },
  {
   "cell_type": "markdown",
   "id": "b24052d3-7f9a-4e1e-b31a-022551534859",
   "metadata": {},
   "source": [
    "### saving dataset"
   ]
  },
  {
   "cell_type": "code",
   "execution_count": 51,
   "id": "4d581cb2-49cf-4a8d-be6d-bb8b64d6197c",
   "metadata": {},
   "outputs": [
    {
     "name": "stderr",
     "output_type": "stream",
     "text": [
      "                                                                                \r"
     ]
    }
   ],
   "source": [
    "table_p_cnae\\\n",
    ".drop('id_vigvac')\\\n",
    ".write.parquet(\"/dados10t/datalake/standard/omop/tabelas_omop_cmd_5.4_v1/tb_visit_occurrence_data.parquet\")"
   ]
  }
 ],
 "metadata": {
  "kernelspec": {
   "display_name": "Python 3 (ipykernel)",
   "language": "python",
   "name": "python3"
  },
  "language_info": {
   "codemirror_mode": {
    "name": "ipython",
    "version": 3
   },
   "file_extension": ".py",
   "mimetype": "text/x-python",
   "name": "python",
   "nbconvert_exporter": "python",
   "pygments_lexer": "ipython3",
   "version": "3.10.12"
  }
 },
 "nbformat": 4,
 "nbformat_minor": 5
}
