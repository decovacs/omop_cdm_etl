{
 "cells": [
  {
   "cell_type": "code",
   "execution_count": 1,
   "id": "e4f43e21-e692-49ee-b697-2e6b26012b11",
   "metadata": {},
   "outputs": [
    {
     "name": "stderr",
     "output_type": "stream",
     "text": [
      "/home/juracybertoldo2/.local/lib/python3.8/site-packages/pyspark/sql/context.py:112: FutureWarning: Deprecated in 3.0.0. Use SparkSession.builder.getOrCreate() instead.\n",
      "  warnings.warn(\n"
     ]
    }
   ],
   "source": [
    "import pyspark\n",
    "from pyspark.sql import SparkSession\n",
    "\n",
    "#Create SparkSession\n",
    "spark = SparkSession.builder \\\n",
    "       .master(\"local[*]\") \\\n",
    "       .appName(\"spark_juracy\") \\\n",
    "       .config(\"spark.driver.memory\", \"80g\")\\\n",
    "       .config(\"spark.executor.memory\", \"50g\")\\\n",
    "       .config(\"spark.dirver.maxResultSize\", \"50g\")\\\n",
    "       .getOrCreate()\n",
    "sc = spark.sparkContext\n",
    "from pyspark.sql import SQLContext\n",
    "sqlContext = SQLContext(sc)"
   ]
  },
  {
   "cell_type": "code",
   "execution_count": 1,
   "id": "9e8d3544-284b-4318-a847-91f2f388d99e",
   "metadata": {},
   "outputs": [
    {
     "name": "stderr",
     "output_type": "stream",
     "text": [
      "/tmp/ipykernel_169473/2205588029.py:1: DeprecationWarning: Importing display from IPython.core.display is deprecated since IPython 7.14, please import from IPython display\n",
      "  from IPython.core.display import display, HTML\n"
     ]
    },
    {
     "data": {
      "text/html": [
       "<style>.container { width:100% !important; }</style>"
      ],
      "text/plain": [
       "<IPython.core.display.HTML object>"
      ]
     },
     "metadata": {},
     "output_type": "display_data"
    }
   ],
   "source": [
    "from IPython.core.display import display, HTML\n",
    "display(HTML(\"<style>.container { width:100% !important; }</style>\"))\n",
    "from pyspark.sql import functions as F\n",
    "import glob\n",
    "from pyspark.sql.types import *"
   ]
  },
  {
   "cell_type": "code",
   "execution_count": 31,
   "id": "b2dff403-44bd-4f98-a763-322f03c8c965",
   "metadata": {},
   "outputs": [],
   "source": [
    "options = {\n",
    "    \"url\": \"jdbc:postgresql://localhost:5432/postgres\",\n",
    "    \"dbtable\": \"omop54_v2.domain\",\n",
    "    \"user\": \"postgres\",\n",
    "    \"password\": \"omop2023\",\n",
    "    \"postgreSQLConf\": \"constraint.mode=noconstraints\"\n",
    "}"
   ]
  },
  {
   "cell_type": "code",
   "execution_count": null,
   "id": "3b4698f0",
   "metadata": {},
   "outputs": [],
   "source": [
    "# start 13:15"
   ]
  },
  {
   "cell_type": "code",
   "execution_count": 32,
   "id": "394bf032-7ba5-4c2c-bec3-f65f6d6e86b3",
   "metadata": {},
   "outputs": [],
   "source": [
    "path = \"/dados10t/datalake/raw/omop/dados_auxiliares_de_input/vocabulario/vocabulario_update_16102023/\""
   ]
  },
  {
   "cell_type": "markdown",
   "id": "dd994af8",
   "metadata": {},
   "source": [
    "desabilitando constrains diretamente via sql no dbaver \n",
    "\n",
    "ALTER TABLE omop54.vocabulary drop CONSTRAINT fpk_vocabulary_vocabulary_concept_id\n",
    "\n",
    "\n",
    "ALTER TABLE omop54.concept drop CONSTRAINT fpk_concept_concept_class_id;\n",
    "\n",
    "ALTER TABLE omop54.concept drop CONSTRAINT fpk_concept_domain_id;\n",
    "\n",
    "ALTER TABLE omop54.concept drop CONSTRAINT fpk_concept_vocabulary_id;\n",
    "\n",
    "\n",
    "ALTER TABLE omop54.concept_ancestor  drop CONSTRAINT fpk_concept_ancestor_ancestor_concept_id;\n",
    "\n",
    "ALTER TABLE omop54.concept_ancestor drop CONSTRAINT fpk_concept_ancestor_descendant_concept_id;"
   ]
  },
  {
   "cell_type": "markdown",
   "id": "849797c6-eca6-4ccc-aaf7-d292314687e7",
   "metadata": {},
   "source": [
    "### tb vocabulary"
   ]
  },
  {
   "cell_type": "code",
   "execution_count": 33,
   "id": "f80a26a9-cfae-4de0-afdb-9920915970fa",
   "metadata": {},
   "outputs": [],
   "source": [
    "vocab = spark.read.csv(path+\"VOCABULARY.csv\",sep=\"\\t\",header=True,inferSchema=True)"
   ]
  },
  {
   "cell_type": "code",
   "execution_count": 34,
   "id": "2e308ca0-917a-4320-94a7-89a858ee8c4e",
   "metadata": {},
   "outputs": [
    {
     "name": "stdout",
     "output_type": "stream",
     "text": [
      "root\n",
      " |-- vocabulary_id: string (nullable = true)\n",
      " |-- vocabulary_name: string (nullable = true)\n",
      " |-- vocabulary_reference: string (nullable = true)\n",
      " |-- vocabulary_version: string (nullable = true)\n",
      " |-- vocabulary_concept_id: integer (nullable = true)\n",
      "\n"
     ]
    }
   ],
   "source": [
    "vocab.printSchema()"
   ]
  },
  {
   "cell_type": "code",
   "execution_count": 35,
   "id": "3f7b3187",
   "metadata": {},
   "outputs": [
    {
     "data": {
      "text/plain": [
       "63"
      ]
     },
     "execution_count": 35,
     "metadata": {},
     "output_type": "execute_result"
    }
   ],
   "source": [
    "vocab.count()"
   ]
  },
  {
   "cell_type": "code",
   "execution_count": 10,
   "id": "5b0c216c",
   "metadata": {},
   "outputs": [],
   "source": [
    "#vocab.select(\"vocabulary_name\").show(100,False)"
   ]
  },
  {
   "cell_type": "code",
   "execution_count": 36,
   "id": "2bdb4e50-614a-4355-a3f8-debae42894c9",
   "metadata": {},
   "outputs": [],
   "source": [
    "options = {\n",
    "    \"url\": \"jdbc:postgresql://localhost:5432/postgres\",\n",
    "    \"dbtable\": \"omop54_v2.vocabulary\",\n",
    "    \"user\": \"postgres\",\n",
    "    \"password\": \"omop2023\",\n",
    "}\n",
    "#    \"postgreSQLConf\": \"constraint.mode=noconstraints\"\n",
    "\n",
    "\n",
    "vocab.write \\\n",
    "    .format(\"jdbc\") \\\n",
    "    .options(**options) \\\n",
    "    .mode(\"append\") \\\n",
    "    .save()"
   ]
  },
  {
   "cell_type": "markdown",
   "id": "d8b45cdb-2925-42a6-835e-449d17b4545f",
   "metadata": {
    "jp-MarkdownHeadingCollapsed": true,
    "tags": []
   },
   "source": [
    "### conceito"
   ]
  },
  {
   "cell_type": "code",
   "execution_count": 37,
   "id": "c60e02d5-848c-46b6-975e-2ce3b8ca5862",
   "metadata": {},
   "outputs": [],
   "source": [
    "concept = spark.read.csv(path+\"CONCEPT.csv\",sep=\"\\t\",header=True,inferSchema=False)"
   ]
  },
  {
   "cell_type": "code",
   "execution_count": 38,
   "id": "81de464c",
   "metadata": {},
   "outputs": [
    {
     "data": {
      "text/plain": [
       "6206230"
      ]
     },
     "execution_count": 38,
     "metadata": {},
     "output_type": "execute_result"
    }
   ],
   "source": [
    "concept.count() #5954357"
   ]
  },
  {
   "cell_type": "code",
   "execution_count": 39,
   "id": "290e3e50-e10e-4eab-92fe-b62a87c06622",
   "metadata": {},
   "outputs": [],
   "source": [
    "concept = concept.withColumn(\"valid_start_date\",F.to_date(\"valid_start_date\",format=\"yyyyMMdd\") )\n",
    "concept = concept.withColumn(\"valid_end_date\",F.to_date(\"valid_end_date\",format=\"yyyyMMdd\") )\n",
    "concept = concept.withColumn(\"concept_id\",F.col(\"concept_id\").cast(IntegerType()))"
   ]
  },
  {
   "cell_type": "code",
   "execution_count": 40,
   "id": "88da5d2a-187a-4a84-97a0-60e3de096e43",
   "metadata": {},
   "outputs": [],
   "source": [
    "#df.select(\"valid_start_date\",\"valid_end_date\").show()"
   ]
  },
  {
   "cell_type": "code",
   "execution_count": 41,
   "id": "3848e759-d053-416a-b478-8edd3ed55c73",
   "metadata": {},
   "outputs": [
    {
     "data": {
      "text/plain": [
       "6206230"
      ]
     },
     "execution_count": 41,
     "metadata": {},
     "output_type": "execute_result"
    }
   ],
   "source": [
    "concept.count()"
   ]
  },
  {
   "cell_type": "code",
   "execution_count": 42,
   "id": "ae2e15cc-85e2-4a5e-ab4d-a18ae21f2b8c",
   "metadata": {},
   "outputs": [
    {
     "name": "stdout",
     "output_type": "stream",
     "text": [
      "root\n",
      " |-- concept_id: integer (nullable = true)\n",
      " |-- concept_name: string (nullable = true)\n",
      " |-- domain_id: string (nullable = true)\n",
      " |-- vocabulary_id: string (nullable = true)\n",
      " |-- concept_class_id: string (nullable = true)\n",
      " |-- standard_concept: string (nullable = true)\n",
      " |-- concept_code: string (nullable = true)\n",
      " |-- valid_start_date: date (nullable = true)\n",
      " |-- valid_end_date: date (nullable = true)\n",
      " |-- invalid_reason: string (nullable = true)\n",
      "\n"
     ]
    }
   ],
   "source": [
    "concept.printSchema()"
   ]
  },
  {
   "cell_type": "code",
   "execution_count": 43,
   "id": "c13ffdf4-7675-4adf-8cba-1d6e150f5878",
   "metadata": {},
   "outputs": [],
   "source": [
    "options = {\n",
    "    \"url\": \"jdbc:postgresql://localhost:5432/postgres\",\n",
    "    \"dbtable\": \"omop54_v2.concept\",\n",
    "    \"user\": \"postgres\",\n",
    "    \"password\": \"omop2023\",\n",
    "    \"postgreSQLConf\": \"constraint.mode=noconstraints\"\n",
    "}"
   ]
  },
  {
   "cell_type": "code",
   "execution_count": 44,
   "id": "55a3dbe1-b529-4369-bab8-533956f8e0f0",
   "metadata": {},
   "outputs": [
    {
     "name": "stderr",
     "output_type": "stream",
     "text": [
      "                                                                                \r"
     ]
    }
   ],
   "source": [
    "concept.write \\\n",
    "    .format(\"jdbc\") \\\n",
    "    .options(**options) \\\n",
    "    .mode(\"append\") \\\n",
    "    .save()"
   ]
  },
  {
   "cell_type": "code",
   "execution_count": null,
   "id": "0d640869-308d-4974-a1d6-a5bb25de3bd1",
   "metadata": {},
   "outputs": [],
   "source": []
  },
  {
   "cell_type": "markdown",
   "id": "8edc82d2-26b3-4ead-a3c5-7f37e2eed7ec",
   "metadata": {
    "jp-MarkdownHeadingCollapsed": true,
    "tags": []
   },
   "source": [
    "### conceito ancestor"
   ]
  },
  {
   "cell_type": "code",
   "execution_count": 45,
   "id": "9ecb57c4-af64-4e79-bfde-17863af88bd1",
   "metadata": {},
   "outputs": [
    {
     "name": "stderr",
     "output_type": "stream",
     "text": [
      "                                                                                \r"
     ]
    }
   ],
   "source": [
    "conc_ancestor = spark.read.csv(path+\"CONCEPT_ANCESTOR.csv\",sep=\"\\t\",header=True,inferSchema=True)"
   ]
  },
  {
   "cell_type": "code",
   "execution_count": 46,
   "id": "1109e5fd-fa4b-418e-b71a-f0b4464ba7da",
   "metadata": {},
   "outputs": [
    {
     "name": "stderr",
     "output_type": "stream",
     "text": [
      "                                                                                \r"
     ]
    },
    {
     "data": {
      "text/plain": [
       "75834327"
      ]
     },
     "execution_count": 46,
     "metadata": {},
     "output_type": "execute_result"
    }
   ],
   "source": [
    "conc_ancestor.count() #72501431"
   ]
  },
  {
   "cell_type": "code",
   "execution_count": 47,
   "id": "d9073839-c400-40b5-91f4-49f00cdd755f",
   "metadata": {},
   "outputs": [
    {
     "name": "stdout",
     "output_type": "stream",
     "text": [
      "root\n",
      " |-- ancestor_concept_id: integer (nullable = true)\n",
      " |-- descendant_concept_id: integer (nullable = true)\n",
      " |-- min_levels_of_separation: integer (nullable = true)\n",
      " |-- max_levels_of_separation: integer (nullable = true)\n",
      "\n"
     ]
    }
   ],
   "source": [
    "conc_ancestor.printSchema()"
   ]
  },
  {
   "cell_type": "code",
   "execution_count": 48,
   "id": "b44b815f-162a-4835-ae67-d2b1e234d311",
   "metadata": {},
   "outputs": [
    {
     "name": "stderr",
     "output_type": "stream",
     "text": [
      "                                                                                \r"
     ]
    }
   ],
   "source": [
    "options = {\n",
    "    \"url\": \"jdbc:postgresql://localhost:5432/postgres\",\n",
    "    \"dbtable\": \"omop54_v2.concept_ancestor\",\n",
    "    \"user\": \"postgres\",\n",
    "    \"password\": \"omop2023\",\n",
    "    \"postgreSQLConf\": \"constraint.mode=noconstraints\"\n",
    "}\n",
    "\n",
    "\n",
    "conc_ancestor.write \\\n",
    "    .format(\"jdbc\") \\\n",
    "    .options(**options) \\\n",
    "    .mode(\"append\") \\\n",
    "    .save()"
   ]
  },
  {
   "cell_type": "markdown",
   "id": "037b79da-761b-45cc-974d-197f0f9d9186",
   "metadata": {
    "jp-MarkdownHeadingCollapsed": true,
    "tags": []
   },
   "source": [
    "###  domain"
   ]
  },
  {
   "cell_type": "code",
   "execution_count": 49,
   "id": "f03f2c7a-c363-4ecb-879b-0d6e1339b41c",
   "metadata": {},
   "outputs": [],
   "source": [
    "domain = spark.read.csv(path+\"DOMAIN.csv\",sep=\"\\t\",header=True,inferSchema=True)"
   ]
  },
  {
   "cell_type": "code",
   "execution_count": 50,
   "id": "15832f20-6499-47ac-81e2-20ae145e3e39",
   "metadata": {},
   "outputs": [
    {
     "name": "stdout",
     "output_type": "stream",
     "text": [
      "root\n",
      " |-- domain_id: string (nullable = true)\n",
      " |-- domain_name: string (nullable = true)\n",
      " |-- domain_concept_id: integer (nullable = true)\n",
      "\n"
     ]
    }
   ],
   "source": [
    "domain.printSchema()"
   ]
  },
  {
   "cell_type": "code",
   "execution_count": 51,
   "id": "eb47236d",
   "metadata": {},
   "outputs": [
    {
     "data": {
      "text/plain": [
       "50"
      ]
     },
     "execution_count": 51,
     "metadata": {},
     "output_type": "execute_result"
    }
   ],
   "source": [
    "domain.count()"
   ]
  },
  {
   "cell_type": "code",
   "execution_count": 52,
   "id": "b64a1a1c-f8fd-48a7-8eff-1f8ae96cfb95",
   "metadata": {
    "tags": []
   },
   "outputs": [],
   "source": [
    "options = {\n",
    "    \"url\": \"jdbc:postgresql://localhost:5432/postgres\",\n",
    "    \"dbtable\": \"omop54_v2.domain\",\n",
    "    \"user\": \"postgres\",\n",
    "    \"password\": \"omop2023\",\n",
    "    \"postgreSQLConf\": \"constraint.mode=noconstraints\"\n",
    "}\n",
    "\n",
    "\n",
    "domain.write \\\n",
    "    .format(\"jdbc\") \\\n",
    "    .options(**options) \\\n",
    "    .mode(\"append\") \\\n",
    "    .save()"
   ]
  },
  {
   "cell_type": "markdown",
   "id": "e10f0c4e-09ea-421a-ad6e-48d985637209",
   "metadata": {
    "jp-MarkdownHeadingCollapsed": true,
    "tags": []
   },
   "source": [
    "### conceito class"
   ]
  },
  {
   "cell_type": "code",
   "execution_count": 53,
   "id": "13dd093f-f91f-4685-a7b5-a0d68dfc677c",
   "metadata": {},
   "outputs": [],
   "source": [
    "conc_class = spark.read.csv(path+\"CONCEPT_CLASS.csv\",sep=\"\\t\",header=True,inferSchema=True)"
   ]
  },
  {
   "cell_type": "code",
   "execution_count": 54,
   "id": "12f58c0e-37d1-453c-8faf-02686266cd69",
   "metadata": {},
   "outputs": [
    {
     "data": {
      "text/plain": [
       "417"
      ]
     },
     "execution_count": 54,
     "metadata": {},
     "output_type": "execute_result"
    }
   ],
   "source": [
    "conc_class.count()"
   ]
  },
  {
   "cell_type": "code",
   "execution_count": 55,
   "id": "6e07a8ca-85b3-452b-ae44-082387ecf33d",
   "metadata": {},
   "outputs": [
    {
     "name": "stdout",
     "output_type": "stream",
     "text": [
      "root\n",
      " |-- concept_class_id: string (nullable = true)\n",
      " |-- concept_class_name: string (nullable = true)\n",
      " |-- concept_class_concept_id: integer (nullable = true)\n",
      "\n"
     ]
    }
   ],
   "source": [
    "conc_class.printSchema()"
   ]
  },
  {
   "cell_type": "code",
   "execution_count": 56,
   "id": "e90fe07c-5310-481f-b9d3-23495deb2594",
   "metadata": {},
   "outputs": [],
   "source": [
    "options = {\n",
    "    \"url\": \"jdbc:postgresql://localhost:5432/postgres\",\n",
    "    \"dbtable\": \"omop54_v2.concept_class\",\n",
    "    \"user\": \"postgres\",\n",
    "    \"password\": \"omop2023\",\n",
    "    \"postgreSQLConf\": \"constraint.mode=noconstraints\"\n",
    "}\n",
    "\n",
    "\n",
    "conc_class.write \\\n",
    "    .format(\"jdbc\") \\\n",
    "    .options(**options) \\\n",
    "    .mode(\"append\") \\\n",
    "    .save()"
   ]
  },
  {
   "cell_type": "code",
   "execution_count": null,
   "id": "19bb79b8",
   "metadata": {},
   "outputs": [],
   "source": []
  },
  {
   "cell_type": "markdown",
   "id": "8c18684f",
   "metadata": {
    "jp-MarkdownHeadingCollapsed": true,
    "tags": []
   },
   "source": [
    "### relationship"
   ]
  },
  {
   "cell_type": "code",
   "execution_count": 57,
   "id": "81a9e5e6",
   "metadata": {},
   "outputs": [],
   "source": [
    "relationship = spark.read.csv(path+\"RELATIONSHIP.csv\",sep=\"\\t\",header=True,inferSchema=True)"
   ]
  },
  {
   "cell_type": "code",
   "execution_count": 58,
   "id": "d8500b73",
   "metadata": {},
   "outputs": [
    {
     "data": {
      "text/plain": [
       "690"
      ]
     },
     "execution_count": 58,
     "metadata": {},
     "output_type": "execute_result"
    }
   ],
   "source": [
    "relationship.count()"
   ]
  },
  {
   "cell_type": "code",
   "execution_count": 59,
   "id": "a7d09c69",
   "metadata": {},
   "outputs": [
    {
     "name": "stdout",
     "output_type": "stream",
     "text": [
      "root\n",
      " |-- relationship_id: string (nullable = true)\n",
      " |-- relationship_name: string (nullable = true)\n",
      " |-- is_hierarchical: integer (nullable = true)\n",
      " |-- defines_ancestry: integer (nullable = true)\n",
      " |-- reverse_relationship_id: string (nullable = true)\n",
      " |-- relationship_concept_id: integer (nullable = true)\n",
      "\n"
     ]
    }
   ],
   "source": [
    "relationship.printSchema()"
   ]
  },
  {
   "cell_type": "code",
   "execution_count": 60,
   "id": "946b9953",
   "metadata": {},
   "outputs": [],
   "source": [
    "options = {\n",
    "    \"url\": \"jdbc:postgresql://localhost:5432/postgres\",\n",
    "    \"dbtable\": \"omop54_v2.relationship\",\n",
    "    \"user\": \"postgres\",\n",
    "    \"password\": \"omop2023\",\n",
    "    \"postgreSQLConf\": \"constraint.mode=noconstraints\"\n",
    "}\n",
    "\n",
    "\n",
    "relationship.write \\\n",
    "    .format(\"jdbc\") \\\n",
    "    .options(**options) \\\n",
    "    .mode(\"append\") \\\n",
    "    .save()"
   ]
  },
  {
   "cell_type": "markdown",
   "id": "2871938b-f813-403d-983a-d0663154f417",
   "metadata": {
    "tags": []
   },
   "source": [
    "### conceito relationship"
   ]
  },
  {
   "cell_type": "code",
   "execution_count": 61,
   "id": "6ea09e1d-9743-41d4-9ee6-f47fb6c7686e",
   "metadata": {},
   "outputs": [],
   "source": [
    "conc_rl = spark.read.csv(path+\"CONCEPT_RELATIONSHIP.csv\",sep=\"\\t\",header=True,inferSchema=False)"
   ]
  },
  {
   "cell_type": "code",
   "execution_count": 62,
   "id": "e08a3db3-7ec0-47bc-9ddf-0b719f7c3e46",
   "metadata": {},
   "outputs": [
    {
     "name": "stderr",
     "output_type": "stream",
     "text": [
      "                                                                                \r"
     ]
    },
    {
     "data": {
      "text/plain": [
       "49203082"
      ]
     },
     "execution_count": 62,
     "metadata": {},
     "output_type": "execute_result"
    }
   ],
   "source": [
    "conc_rl.count()"
   ]
  },
  {
   "cell_type": "code",
   "execution_count": 63,
   "id": "8cc635e5-3523-4228-914f-246b9b3533fc",
   "metadata": {},
   "outputs": [
    {
     "name": "stdout",
     "output_type": "stream",
     "text": [
      "root\n",
      " |-- concept_id_1: string (nullable = true)\n",
      " |-- concept_id_2: string (nullable = true)\n",
      " |-- relationship_id: string (nullable = true)\n",
      " |-- valid_start_date: string (nullable = true)\n",
      " |-- valid_end_date: string (nullable = true)\n",
      " |-- invalid_reason: string (nullable = true)\n",
      "\n"
     ]
    }
   ],
   "source": [
    "conc_rl.printSchema()"
   ]
  },
  {
   "cell_type": "code",
   "execution_count": 64,
   "id": "7cdbbaba-8a72-4a24-b0df-432f35ad2206",
   "metadata": {},
   "outputs": [],
   "source": [
    "conc_rl = conc_rl.withColumn(\"valid_start_date\",F.to_date(\"valid_start_date\",format=\"yyyyMMdd\") )\n",
    "conc_rl = conc_rl.withColumn(\"valid_end_date\",F.to_date(\"valid_end_date\",format=\"yyyyMMdd\") )\n",
    "conc_rl = conc_rl.withColumn(\"concept_id_1\",F.col(\"concept_id_1\").cast(IntegerType()))\n",
    "\n",
    "conc_rl = conc_rl.withColumn(\"concept_id_1\",F.col(\"concept_id_1\").cast(IntegerType()))\n",
    "conc_rl = conc_rl.withColumn(\"concept_id_2\",F.col(\"concept_id_2\").cast(IntegerType()))"
   ]
  },
  {
   "cell_type": "code",
   "execution_count": 65,
   "id": "a9f5cc75",
   "metadata": {},
   "outputs": [
    {
     "name": "stderr",
     "output_type": "stream",
     "text": [
      "                                                                                \r"
     ]
    }
   ],
   "source": [
    "options = {\n",
    "    \"url\": \"jdbc:postgresql://localhost:5432/postgres\",\n",
    "    \"dbtable\": \"omop54_v2.concept_relationship\",\n",
    "    \"user\": \"postgres\",\n",
    "    \"password\": \"omop2023\",\n",
    "    \"postgreSQLConf\": \"constraint.mode=noconstraints\"\n",
    "}\n",
    "\n",
    "\n",
    "conc_rl.write \\\n",
    "    .format(\"jdbc\") \\\n",
    "    .options(**options) \\\n",
    "    .mode(\"append\") \\\n",
    "    .save()"
   ]
  },
  {
   "cell_type": "code",
   "execution_count": null,
   "id": "cac557fb",
   "metadata": {},
   "outputs": [],
   "source": []
  },
  {
   "cell_type": "markdown",
   "id": "6cfe34d3",
   "metadata": {
    "jp-MarkdownHeadingCollapsed": true,
    "tags": []
   },
   "source": [
    "### CONCEPT_SYNONYM"
   ]
  },
  {
   "cell_type": "code",
   "execution_count": 66,
   "id": "0d86941a",
   "metadata": {},
   "outputs": [],
   "source": [
    "conc_synonym = spark.read.csv(path+\"CONCEPT_SYNONYM.csv\",sep=\"\\t\",header=True,inferSchema=True)"
   ]
  },
  {
   "cell_type": "code",
   "execution_count": 67,
   "id": "e0417e21",
   "metadata": {},
   "outputs": [
    {
     "data": {
      "text/plain": [
       "2204058"
      ]
     },
     "execution_count": 67,
     "metadata": {},
     "output_type": "execute_result"
    }
   ],
   "source": [
    "conc_synonym.count() #2058520"
   ]
  },
  {
   "cell_type": "code",
   "execution_count": 68,
   "id": "6cabc73a",
   "metadata": {},
   "outputs": [
    {
     "name": "stdout",
     "output_type": "stream",
     "text": [
      "root\n",
      " |-- concept_id: integer (nullable = true)\n",
      " |-- concept_synonym_name: string (nullable = true)\n",
      " |-- language_concept_id: integer (nullable = true)\n",
      "\n"
     ]
    }
   ],
   "source": [
    "conc_synonym.printSchema()"
   ]
  },
  {
   "cell_type": "code",
   "execution_count": 70,
   "id": "70fd5957",
   "metadata": {},
   "outputs": [
    {
     "name": "stderr",
     "output_type": "stream",
     "text": [
      "                                                                                \r"
     ]
    }
   ],
   "source": [
    "options = {\n",
    "    \"url\": \"jdbc:postgresql://localhost:5432/postgres\",\n",
    "    \"dbtable\": \"omop54_v2.concept_synonym\",\n",
    "    \"user\": \"postgres\",\n",
    "    \"password\": \"omop2023\",\n",
    "    \"postgreSQLConf\": \"constraint.mode=noconstraints\"\n",
    "}\n",
    "\n",
    "\n",
    "conc_synonym.write \\\n",
    "    .format(\"jdbc\") \\\n",
    "    .options(**options) \\\n",
    "    .mode(\"append\") \\\n",
    "    .save()"
   ]
  },
  {
   "cell_type": "code",
   "execution_count": null,
   "id": "c328daf0",
   "metadata": {},
   "outputs": [],
   "source": []
  },
  {
   "cell_type": "markdown",
   "id": "6a351e7e",
   "metadata": {
    "jp-MarkdownHeadingCollapsed": true,
    "tags": []
   },
   "source": [
    "### DRUG_STRENGT"
   ]
  },
  {
   "cell_type": "code",
   "execution_count": 72,
   "id": "76572566",
   "metadata": {},
   "outputs": [],
   "source": [
    "drug_strengt = spark.read.csv(path+\"DRUG_STRENGTH.csv\",sep=\"\\t\",header=True,inferSchema=True)"
   ]
  },
  {
   "cell_type": "code",
   "execution_count": 73,
   "id": "80e374d1",
   "metadata": {},
   "outputs": [
    {
     "name": "stdout",
     "output_type": "stream",
     "text": [
      "root\n",
      " |-- drug_concept_id: integer (nullable = true)\n",
      " |-- ingredient_concept_id: integer (nullable = true)\n",
      " |-- amount_value: double (nullable = true)\n",
      " |-- amount_unit_concept_id: integer (nullable = true)\n",
      " |-- numerator_value: double (nullable = true)\n",
      " |-- numerator_unit_concept_id: integer (nullable = true)\n",
      " |-- denominator_value: double (nullable = true)\n",
      " |-- denominator_unit_concept_id: integer (nullable = true)\n",
      " |-- box_size: integer (nullable = true)\n",
      " |-- valid_start_date: integer (nullable = true)\n",
      " |-- valid_end_date: integer (nullable = true)\n",
      " |-- invalid_reason: string (nullable = true)\n",
      "\n"
     ]
    }
   ],
   "source": [
    "drug_strengt.printSchema()"
   ]
  },
  {
   "cell_type": "code",
   "execution_count": 74,
   "id": "80f51257",
   "metadata": {},
   "outputs": [
    {
     "data": {
      "text/plain": [
       "2980115"
      ]
     },
     "execution_count": 74,
     "metadata": {},
     "output_type": "execute_result"
    }
   ],
   "source": [
    "drug_strengt.count()"
   ]
  },
  {
   "cell_type": "code",
   "execution_count": 75,
   "id": "35808891",
   "metadata": {},
   "outputs": [],
   "source": [
    "customSchema_drug_strengt = StructType([\n",
    "        StructField(\"drug_concept_id\", IntegerType(), True),\n",
    "        StructField(\"ingredient_concept_id\", IntegerType(), True),\n",
    "        StructField(\"amount_value\", FloatType(), True),\n",
    "        StructField(\"amount_unit_concept_id\", IntegerType(), True),\n",
    "        StructField(\"numerator_value\", FloatType(), True),\n",
    "        StructField(\"numerator_unit_concept_id\", IntegerType(), True),\n",
    "        StructField(\"denominator_value\", FloatType(), True),\n",
    "        StructField(\"denominator_unit_concept_id\", IntegerType(), True),\n",
    "        StructField(\"box_size\", IntegerType(), True),\n",
    "        StructField(\"valid_start_date\", StringType(), True),\n",
    "        StructField(\"valid_end_date\", StringType(), True),\n",
    "        StructField(\"invalid_reason\", StringType(), True)])"
   ]
  },
  {
   "cell_type": "code",
   "execution_count": 76,
   "id": "ee43ccd9",
   "metadata": {},
   "outputs": [],
   "source": [
    "drug_strengt = spark.read.schema(customSchema_drug_strengt).csv(path+\"DRUG_STRENGTH.csv\",sep=\"\\t\",header=True,inferSchema=False)"
   ]
  },
  {
   "cell_type": "code",
   "execution_count": 77,
   "id": "21a7a3ec",
   "metadata": {},
   "outputs": [
    {
     "name": "stdout",
     "output_type": "stream",
     "text": [
      "root\n",
      " |-- drug_concept_id: integer (nullable = true)\n",
      " |-- ingredient_concept_id: integer (nullable = true)\n",
      " |-- amount_value: float (nullable = true)\n",
      " |-- amount_unit_concept_id: integer (nullable = true)\n",
      " |-- numerator_value: float (nullable = true)\n",
      " |-- numerator_unit_concept_id: integer (nullable = true)\n",
      " |-- denominator_value: float (nullable = true)\n",
      " |-- denominator_unit_concept_id: integer (nullable = true)\n",
      " |-- box_size: integer (nullable = true)\n",
      " |-- valid_start_date: string (nullable = true)\n",
      " |-- valid_end_date: string (nullable = true)\n",
      " |-- invalid_reason: string (nullable = true)\n",
      "\n"
     ]
    }
   ],
   "source": [
    "drug_strengt.printSchema()"
   ]
  },
  {
   "cell_type": "code",
   "execution_count": 78,
   "id": "d76759ab",
   "metadata": {},
   "outputs": [],
   "source": [
    "drug_strengt = drug_strengt.withColumn(\"valid_start_date\",F.to_date(\"valid_start_date\",format=\"yyyyMMdd\") )\n",
    "drug_strengt = drug_strengt.withColumn(\"valid_end_date\",F.to_date(\"valid_end_date\",format=\"yyyyMMdd\") )"
   ]
  },
  {
   "cell_type": "code",
   "execution_count": 79,
   "id": "c2e29b55",
   "metadata": {},
   "outputs": [
    {
     "name": "stdout",
     "output_type": "stream",
     "text": [
      "+---------------+---------------------+------------+----------------------+---------------+-------------------------+-----------------+---------------------------+--------+----------------+--------------+--------------+\n",
      "|drug_concept_id|ingredient_concept_id|amount_value|amount_unit_concept_id|numerator_value|numerator_unit_concept_id|denominator_value|denominator_unit_concept_id|box_size|valid_start_date|valid_end_date|invalid_reason|\n",
      "+---------------+---------------------+------------+----------------------+---------------+-------------------------+-----------------+---------------------------+--------+----------------+--------------+--------------+\n",
      "|       40729359|              1337720|        null|                  null|            1.2|                     8576|             null|                       8587|    null|      2018-06-04|    2099-12-31|          null|\n",
      "|       40713261|              1337720|        null|                  null|           60.0|                     8576|             50.0|                       8587|    null|      2018-06-04|    2099-12-31|          null|\n",
      "|       40735716|               998392|        null|                  null|            6.0|                     8576|             null|                       8587|    null|      2018-06-04|    2099-12-31|          null|\n",
      "|       40735717|               998392|        null|                  null|            6.0|                     8576|             null|                       8587|    null|      2018-06-04|    2099-12-31|          null|\n",
      "|       40735715|               998392|        null|                  null|            6.0|                     8576|             null|                       8587|       1|      2018-06-04|    2099-12-31|          null|\n",
      "|       40718096|               998392|        null|                  null|            6.0|                     8576|              1.0|                       8587|    null|      2018-06-04|    2099-12-31|          null|\n",
      "|       40714927|             19018663|        null|                  null|            2.1|                     8576|             10.0|                       8587|      20|      2018-06-04|    2099-12-31|          null|\n",
      "|       40714926|             19018663|        null|                  null|            2.1|                     8576|             10.0|                       8587|      20|      2018-06-04|    2099-12-31|          null|\n",
      "|       40714931|             19018663|        null|                  null|            2.1|                     8576|             10.0|                       8587|    null|      2018-06-04|    2099-12-31|          null|\n",
      "|       40714933|             19018663|        null|                  null|            2.1|                     8576|             10.0|                       8587|       1|      2018-06-04|    2099-12-31|          null|\n",
      "|       40736453|             19018663|        null|                  null|           0.21|                     8576|             null|                       8587|       1|      2018-06-04|    2099-12-31|          null|\n",
      "|       40736452|             19018663|        null|                  null|           0.21|                     8576|             null|                       8587|      20|      2018-06-04|    2099-12-31|          null|\n",
      "|       40714928|             19018663|        null|                  null|            2.1|                     8576|             10.0|                       8587|       1|      2018-06-04|    2099-12-31|          null|\n",
      "|       40703934|               908464|        null|                  null|        36300.0|                     8576|         100000.0|                       8576|    null|      2018-06-04|    2099-12-31|          null|\n",
      "|       40735942|               908464|        null|                  null|          0.363|                     8576|             null|                       8576|    null|      2018-06-04|    2099-12-31|          null|\n",
      "|       40704229|               908464|        null|                  null|        36700.0|                     8576|         101000.0|                       8576|    null|      2018-06-04|    2099-12-31|          null|\n",
      "|       40703936|               908464|        null|                  null|        36300.0|                     8576|         100000.0|                       8576|    null|      2018-06-04|    2099-12-31|          null|\n",
      "|       40750077|             19005046|        null|                  null|            8.0|                     8576|             null|                       8587|    null|      2018-06-04|    2099-12-31|          null|\n",
      "|       40709653|             19013958|        null|                  null|          410.0|                     8576|            500.0|                       8587|       6|      2018-06-04|    2099-12-31|          null|\n",
      "|       40755658|             19013958|        null|                  null|           0.82|                     8576|             null|                       8587|    null|      2018-06-04|    2099-12-31|          null|\n",
      "+---------------+---------------------+------------+----------------------+---------------+-------------------------+-----------------+---------------------------+--------+----------------+--------------+--------------+\n",
      "only showing top 20 rows\n",
      "\n"
     ]
    }
   ],
   "source": [
    "drug_strengt.show()"
   ]
  },
  {
   "cell_type": "code",
   "execution_count": 80,
   "id": "136afe95",
   "metadata": {},
   "outputs": [
    {
     "data": {
      "text/plain": [
       "2980115"
      ]
     },
     "execution_count": 80,
     "metadata": {},
     "output_type": "execute_result"
    }
   ],
   "source": [
    "drug_strengt.count() #2976841"
   ]
  },
  {
   "cell_type": "code",
   "execution_count": 81,
   "id": "b339040c",
   "metadata": {},
   "outputs": [
    {
     "name": "stderr",
     "output_type": "stream",
     "text": [
      "                                                                                \r"
     ]
    }
   ],
   "source": [
    "options = {\n",
    "    \"url\": \"jdbc:postgresql://localhost:5432/postgres\",\n",
    "    \"dbtable\": \"omop54_v2.drug_strength\",\n",
    "    \"user\": \"postgres\",\n",
    "    \"password\": \"omop2023\",\n",
    "    \"postgreSQLConf\": \"constraint.mode=noconstraints\"\n",
    "}\n",
    "\n",
    "\n",
    "drug_strengt.write \\\n",
    "    .format(\"jdbc\") \\\n",
    "    .options(**options) \\\n",
    "    .mode(\"append\") \\\n",
    "    .save()"
   ]
  },
  {
   "cell_type": "markdown",
   "id": "9dd4d7c0",
   "metadata": {},
   "source": [
    "### final script"
   ]
  }
 ],
 "metadata": {
  "kernelspec": {
   "display_name": "Python 3 (ipykernel)",
   "language": "python",
   "name": "python3"
  },
  "language_info": {
   "codemirror_mode": {
    "name": "ipython",
    "version": 3
   },
   "file_extension": ".py",
   "mimetype": "text/x-python",
   "name": "python",
   "nbconvert_exporter": "python",
   "pygments_lexer": "ipython3",
   "version": "3.10.12"
  }
 },
 "nbformat": 4,
 "nbformat_minor": 5
}
