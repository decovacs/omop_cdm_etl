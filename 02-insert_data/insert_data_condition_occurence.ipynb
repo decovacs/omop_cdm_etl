{
 "cells": [
  {
   "cell_type": "code",
   "execution_count": 1,
   "id": "4878318a",
   "metadata": {
    "tags": []
   },
   "outputs": [
    {
     "name": "stderr",
     "output_type": "stream",
     "text": [
      "/tmp/ipykernel_58440/3760276594.py:1: DeprecationWarning: Importing display from IPython.core.display is deprecated since IPython 7.14, please import from IPython display\n",
      "  from IPython.core.display import display, HTML\n"
     ]
    },
    {
     "data": {
      "text/html": [
       "<style>.container { width:100% !important; }</style>"
      ],
      "text/plain": [
       "<IPython.core.display.HTML object>"
      ]
     },
     "metadata": {},
     "output_type": "display_data"
    }
   ],
   "source": [
    "from IPython.core.display import display, HTML\n",
    "display(HTML(\"<style>.container { width:100% !important; }</style>\"))\n",
    "from pyspark.sql import functions as F\n",
    "from pyspark.sql.types import *\n",
    "from pyspark.sql.window import Window\n",
    "import time\n",
    "from pyspark.sql import SparkSession"
   ]
  },
  {
   "cell_type": "code",
   "execution_count": 2,
   "id": "771a17fb-344c-4f5e-a4e9-b6f0de12af5d",
   "metadata": {},
   "outputs": [
    {
     "name": "stderr",
     "output_type": "stream",
     "text": [
      "Setting default log level to \"WARN\".\n",
      "To adjust logging level use sc.setLogLevel(newLevel). For SparkR, use setLogLevel(newLevel).\n",
      "23/10/20 23:34:10 WARN NativeCodeLoader: Unable to load native-hadoop library for your platform... using builtin-java classes where applicable\n",
      "23/10/20 23:34:10 WARN SparkConf: Note that spark.local.dir will be overridden by the value set by the cluster manager (via SPARK_LOCAL_DIRS in mesos/standalone/kubernetes and LOCAL_DIRS in YARN).\n",
      "23/10/20 23:34:11 WARN Utils: Service 'SparkUI' could not bind on port 4040. Attempting port 4041.\n",
      "23/10/20 23:34:11 WARN Utils: Service 'SparkUI' could not bind on port 4041. Attempting port 4042.\n",
      "23/10/20 23:34:11 WARN Utils: Service 'SparkUI' could not bind on port 4042. Attempting port 4043.\n"
     ]
    }
   ],
   "source": [
    "spark = SparkSession.builder \\\n",
    "       .master(\"local[*]\") \\\n",
    "       .appName(\"test\")\\\n",
    "       .config(\"spark.driver.extraClassPath\", \"/dados10t/datalake/raw/omop/docker_imagens/postgresql-42.6.0.jar\")\\\n",
    "       .config(\"spark.driver.memory\", \"80g\")\\\n",
    "       .config(\"spark.executor.memory\", \"50g\")\\\n",
    "       .config(\"spark.dirver.maxResultSize\", \"50g\")\\\n",
    "       .config('spark.local.dir', '/dados10t/datalake/raw/checkpoint_dir')\\\n",
    "       .getOrCreate()\n",
    "sc = spark.sparkContext\n",
    "sc.setCheckpointDir('/dados10t/datalake/raw/checkpoint_dir')"
   ]
  },
  {
   "cell_type": "markdown",
   "id": "34529252",
   "metadata": {},
   "source": [
    "#### reading table"
   ]
  },
  {
   "cell_type": "code",
   "execution_count": 3,
   "id": "f912b70d",
   "metadata": {},
   "outputs": [
    {
     "name": "stderr",
     "output_type": "stream",
     "text": [
      "                                                                                \r"
     ]
    }
   ],
   "source": [
    "df = spark.read.parquet('/dados10t/datalake/standard/omop/tabelas_omop_cmd_5.4_v1/tb_condition_occurence_data.parquet/')"
   ]
  },
  {
   "cell_type": "code",
   "execution_count": 4,
   "id": "5ca80f3d",
   "metadata": {
    "scrolled": true
   },
   "outputs": [
    {
     "name": "stdout",
     "output_type": "stream",
     "text": [
      "root\n",
      " |-- visit_occurrence_id: integer (nullable = true)\n",
      " |-- condition_start_date: date (nullable = true)\n",
      " |-- condition_concept_id: string (nullable = true)\n",
      " |-- person_id: integer (nullable = true)\n",
      " |-- condition_type_concept_id: integer (nullable = true)\n",
      " |-- condition_occurrence_id: integer (nullable = true)\n",
      "\n"
     ]
    }
   ],
   "source": [
    "df.printSchema()"
   ]
  },
  {
   "cell_type": "code",
   "execution_count": 9,
   "id": "2383eb28-230e-4fd1-98eb-4cfff2566514",
   "metadata": {
    "collapsed": true,
    "jupyter": {
     "outputs_hidden": true
    },
    "tags": []
   },
   "outputs": [
    {
     "name": "stdout",
     "output_type": "stream",
     "text": [
      "+-------------------+--------------------+--------------------+---------+-------------------------+-----------------------+\n",
      "|visit_occurrence_id|condition_start_date|condition_concept_id|person_id|condition_type_concept_id|condition_occurrence_id|\n",
      "+-------------------+--------------------+--------------------+---------+-------------------------+-----------------------+\n",
      "|          478617188|          2021-10-03|              321588| 37733095|                    32817|                      1|\n",
      "|          478618006|          2021-12-19|              254761| 37734049|                    32817|                      2|\n",
      "|          478618374|          2021-11-15|              254761| 37734455|                    32817|                      3|\n",
      "|          478618374|          2021-11-15|             4186898| 37734455|                    32817|                      4|\n",
      "|          478618374|          2021-11-15|              312437| 37734455|                    32817|                      5|\n",
      "|          478618374|          2021-11-15|              378253| 37734455|                    32817|                      6|\n",
      "|          478618374|          2021-11-15|              201820| 37734455|                    32817|                      7|\n",
      "|          478618374|          2021-11-15|             4276172| 37734455|                    32817|                      8|\n",
      "|          478618374|          2021-11-15|              259153| 37734455|                    32817|                      9|\n",
      "|            1581973|          2022-06-29|              254761| 37735485|                    32817|                     10|\n",
      "|            1581973|          2022-06-29|              437663| 37735485|                    32817|                     11|\n",
      "|            1581973|          2022-06-29|              259153| 37735485|                    32817|                     12|\n",
      "|          478619808|          2022-03-07|             4276172| 37735955|                    32817|                     13|\n",
      "|          478619808|          2022-03-07|              259153| 37735955|                    32817|                     14|\n",
      "|          478621650|          2021-03-07|              437663| 37738145|                    32817|                     15|\n",
      "|          478621650|          2021-03-07|              321588| 37738145|                    32817|                     16|\n",
      "|          478621650|          2021-03-07|              201820| 37738145|                    32817|                     17|\n",
      "|          478621650|          2021-03-07|              254761| 37738145|                    32817|                     18|\n",
      "|          478621650|          2021-03-07|              259153| 37738145|                    32817|                     19|\n",
      "|          478621650|          2021-03-07|              378253| 37738145|                    32817|                     20|\n",
      "+-------------------+--------------------+--------------------+---------+-------------------------+-----------------------+\n",
      "only showing top 20 rows\n",
      "\n"
     ]
    }
   ],
   "source": [
    "df.show()"
   ]
  },
  {
   "cell_type": "code",
   "execution_count": 5,
   "id": "a2d886d1-2b0f-489a-aae6-d3ab0c49e42b",
   "metadata": {},
   "outputs": [],
   "source": [
    "df = df.withColumn('condition_concept_id', F.col('condition_concept_id').cast(IntegerType()))"
   ]
  },
  {
   "cell_type": "code",
   "execution_count": 4,
   "id": "9192c7a1",
   "metadata": {},
   "outputs": [],
   "source": [
    "options = {\n",
    "    \"url\": \"jdbc:postgresql://157.86.211.201:5432/postgres\",\n",
    "    \"dbtable\": \"omop54_v2.condition_occurrence\",\n",
    "    \"user\": \"postgres\",\n",
    "    \"password\": \"omop2023\",\n",
    "    \"postgreSQLConf\": \"constraint.mode=noconstraints\"\n",
    "}"
   ]
  },
  {
   "cell_type": "code",
   "execution_count": 9,
   "id": "c9e86ed9-6a6c-49f7-9c39-f994171fd040",
   "metadata": {},
   "outputs": [],
   "source": [
    "df = df.filter(F.col('condition_start_date').isNotNull())"
   ]
  },
  {
   "cell_type": "code",
   "execution_count": 5,
   "id": "44efb0c2-a31a-40f4-b093-89665fda70c1",
   "metadata": {},
   "outputs": [
    {
     "name": "stdout",
     "output_type": "stream",
     "text": [
      "root\n",
      " |-- visit_occurrence_id: integer (nullable = true)\n",
      " |-- condition_start_date: date (nullable = true)\n",
      " |-- condition_concept_id: integer (nullable = true)\n",
      " |-- person_id: integer (nullable = true)\n",
      " |-- condition_type_concept_id: integer (nullable = true)\n",
      " |-- condition_occurrence_id: integer (nullable = true)\n",
      "\n"
     ]
    }
   ],
   "source": [
    "df.printSchema()"
   ]
  },
  {
   "cell_type": "code",
   "execution_count": 6,
   "id": "9eb27562",
   "metadata": {
    "tags": []
   },
   "outputs": [
    {
     "name": "stderr",
     "output_type": "stream",
     "text": [
      "                                                                                \r"
     ]
    }
   ],
   "source": [
    "df.write \\\n",
    "    .format(\"jdbc\") \\\n",
    "    .options(**options) \\\n",
    "    .mode(\"append\") \\\n",
    "    .save()"
   ]
  },
  {
   "cell_type": "code",
   "execution_count": 7,
   "id": "74ead862-d889-4c70-9713-2a7e4e44c90a",
   "metadata": {
    "tags": []
   },
   "outputs": [
    {
     "name": "stdout",
     "output_type": "stream",
     "text": [
      "terminou\n"
     ]
    }
   ],
   "source": [
    "print('terminou')"
   ]
  },
  {
   "cell_type": "code",
   "execution_count": null,
   "id": "cd612de3-c84a-43f0-b13f-05f9c50db8c5",
   "metadata": {},
   "outputs": [],
   "source": []
  }
 ],
 "metadata": {
  "kernelspec": {
   "display_name": "base",
   "language": "python",
   "name": "base"
  },
  "language_info": {
   "codemirror_mode": {
    "name": "ipython",
    "version": 3
   },
   "file_extension": ".py",
   "mimetype": "text/x-python",
   "name": "python",
   "nbconvert_exporter": "python",
   "pygments_lexer": "ipython3",
   "version": "3.11.4"
  }
 },
 "nbformat": 4,
 "nbformat_minor": 5
}
