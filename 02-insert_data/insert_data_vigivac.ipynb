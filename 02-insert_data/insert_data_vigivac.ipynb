{
 "cells": [
  {
   "cell_type": "code",
   "execution_count": 1,
   "id": "4878318a",
   "metadata": {},
   "outputs": [
    {
     "data": {
      "text/html": [
       "<style>.container { width:100% !important; }</style>"
      ],
      "text/plain": [
       "<IPython.core.display.HTML object>"
      ]
     },
     "metadata": {},
     "output_type": "display_data"
    }
   ],
   "source": [
    "from IPython.display import display, HTML\n",
    "display(HTML(\"<style>.container { width:100% !important; }</style>\"))\n",
    "from pyspark.sql import functions as F\n",
    "import glob\n",
    "from pyspark.sql.types import *\n",
    "\n",
    "from pyspark.sql.window import Window"
   ]
  },
  {
   "cell_type": "code",
   "execution_count": null,
   "id": "f912b70d",
   "metadata": {},
   "outputs": [],
   "source": []
  },
  {
   "cell_type": "code",
   "execution_count": 8,
   "id": "32cc16ea",
   "metadata": {},
   "outputs": [],
   "source": [
    "sc.setCheckpointDir(\"/dados10t/datalake/raw/checkpoint_dir/\")"
   ]
  },
  {
   "cell_type": "code",
   "execution_count": 9,
   "id": "2023fd7d",
   "metadata": {},
   "outputs": [],
   "source": [
    "path = \"/dados10t/datalake/standard/omop/tabelas_omop_cmd_5.4_v1/\""
   ]
  },
  {
   "cell_type": "markdown",
   "id": "34529252",
   "metadata": {},
   "source": [
    "### tb location"
   ]
  },
  {
   "cell_type": "code",
   "execution_count": 4,
   "id": "62a3e6b0-0f8d-4c97-878f-dd0d804c398a",
   "metadata": {},
   "outputs": [
    {
     "name": "stderr",
     "output_type": "stream",
     "text": [
      "                                                                                \r"
     ]
    }
   ],
   "source": [
    "#df = spark.read.csv(\"/home/juracy/codigos_2021/fiocruz/omop/tabela_para_insert/tb_location.csv\",sep = \",\",header=True,inferSchema=True)\n",
    "df = spark.read.parquet(\"/dados10t/datalake/standard/omop/tabelas_omop_cmd_5.4_v1/tb_location.parquet/\")"
   ]
  },
  {
   "cell_type": "code",
   "execution_count": 5,
   "id": "be72795e-0fd8-4f24-a4e6-f7a26d3dce82",
   "metadata": {},
   "outputs": [
    {
     "data": {
      "text/plain": [
       "5570"
      ]
     },
     "execution_count": 5,
     "metadata": {},
     "output_type": "execute_result"
    }
   ],
   "source": [
    "df.count()"
   ]
  },
  {
   "cell_type": "code",
   "execution_count": 6,
   "id": "24eb7351-6d9e-41ef-a956-fd9d49aa42fb",
   "metadata": {},
   "outputs": [
    {
     "name": "stderr",
     "output_type": "stream",
     "text": [
      "                                                                                \r"
     ]
    },
    {
     "data": {
      "text/plain": [
       "5570"
      ]
     },
     "execution_count": 6,
     "metadata": {},
     "output_type": "execute_result"
    }
   ],
   "source": [
    "df.select(\"location_id\").distinct().count()"
   ]
  },
  {
   "cell_type": "code",
   "execution_count": 7,
   "id": "f0ef33db-3299-4db1-92fb-ac0f5564de77",
   "metadata": {},
   "outputs": [
    {
     "name": "stdout",
     "output_type": "stream",
     "text": [
      "root\n",
      " |-- location_id: integer (nullable = true)\n",
      " |-- city: string (nullable = true)\n",
      " |-- state: string (nullable = true)\n",
      " |-- location_source_value: string (nullable = true)\n",
      " |-- country_concept_id: integer (nullable = true)\n",
      " |-- county: string (nullable = true)\n",
      " |-- country_source_value: string (nullable = true)\n",
      "\n"
     ]
    }
   ],
   "source": [
    "df.printSchema()"
   ]
  },
  {
   "cell_type": "code",
   "execution_count": 8,
   "id": "83a1fc51-3ccb-4193-99fb-0b7f08acc167",
   "metadata": {},
   "outputs": [
    {
     "name": "stdout",
     "output_type": "stream",
     "text": [
      "+-----------+-------------------+-----+---------------------+------------------+-------+--------------------+\n",
      "|location_id|               city|state|location_source_value|country_concept_id| county|country_source_value|\n",
      "+-----------+-------------------+-----+---------------------+------------------+-------+--------------------+\n",
      "|    5200050|    Abadia de Goiás|   GO|              5200050|          41892130|    sul|              Brazil|\n",
      "|    3100104|Abadia dos Dourados|   MG|              3100104|          41892130|Sudeste|              Brazil|\n",
      "|    5200100|          Abadiânia|   GO|              5200100|          41892130|    sul|              Brazil|\n",
      "+-----------+-------------------+-----+---------------------+------------------+-------+--------------------+\n",
      "only showing top 3 rows\n",
      "\n"
     ]
    }
   ],
   "source": [
    "df.show(3)"
   ]
  },
  {
   "cell_type": "code",
   "execution_count": 9,
   "id": "ce7c638f",
   "metadata": {},
   "outputs": [],
   "source": [
    "\n",
    "options = {\n",
    "    \"url\": \"jdbc:postgresql://localhost:5432/postgres\",\n",
    "    \"dbtable\": \"omop54_v2.location\",\n",
    "    \"user\": \"postgres\",\n",
    "    \"password\": \"omop2023\",\n",
    "    \"postgreSQLConf\": \"constraint.mode=noconstraints\"\n",
    "}\n",
    "\n",
    "df.write \\\n",
    "    .format(\"jdbc\") \\\n",
    "    .options(**options) \\\n",
    "    .mode(\"append\") \\\n",
    "    .save()"
   ]
  },
  {
   "cell_type": "markdown",
   "id": "5b5acaa5",
   "metadata": {},
   "source": [
    "### tb care site"
   ]
  },
  {
   "cell_type": "code",
   "execution_count": 4,
   "id": "c86c0953",
   "metadata": {},
   "outputs": [
    {
     "name": "stderr",
     "output_type": "stream",
     "text": [
      "                                                                                \r"
     ]
    }
   ],
   "source": [
    "#df = spark.read.csv(\"/home/juracy/codigos_2021/fiocruz/omop/tabela_para_insert/tb_location.csv\",sep = \",\",header=True,inferSchema=True)\n",
    "care = spark.read.parquet(\"/dados10t/datalake/standard/omop/tabelas_omop_cmd_5.4_v1/tb_care_site.parquet/\")"
   ]
  },
  {
   "cell_type": "code",
   "execution_count": 5,
   "id": "c3a36395",
   "metadata": {},
   "outputs": [
    {
     "name": "stderr",
     "output_type": "stream",
     "text": [
      "                                                                                \r"
     ]
    },
    {
     "data": {
      "text/plain": [
       "482479"
      ]
     },
     "execution_count": 5,
     "metadata": {},
     "output_type": "execute_result"
    }
   ],
   "source": [
    "care.count()"
   ]
  },
  {
   "cell_type": "code",
   "execution_count": 6,
   "id": "3ae7ad6e",
   "metadata": {},
   "outputs": [
    {
     "name": "stderr",
     "output_type": "stream",
     "text": [
      "                                                                                \r"
     ]
    },
    {
     "data": {
      "text/plain": [
       "482479"
      ]
     },
     "execution_count": 6,
     "metadata": {},
     "output_type": "execute_result"
    }
   ],
   "source": [
    "care.select(\"care_site_id\").distinct().count()"
   ]
  },
  {
   "cell_type": "code",
   "execution_count": 7,
   "id": "291195f1",
   "metadata": {},
   "outputs": [
    {
     "name": "stdout",
     "output_type": "stream",
     "text": [
      "+------------+--------------------+---------------------------+-----------+----------------------+-----------------------------+\n",
      "|care_site_id|      care_site_name|place_of_service_concept_id|location_id|care_site_source_value|place_of_service_source_value|\n",
      "+------------+--------------------+---------------------------+-----------+----------------------+-----------------------------+\n",
      "|     0000019|POLICLINICA DR JA...|                   38004247|    2602902|               0000019|                  POLICLINICA|\n",
      "|     0000027|CASA DE SAUDE SAN...|                   38004515|    2602902|               0000027|               HOSPITAL GERAL|\n",
      "|     0000035|HOSPITAL MENDO SA...|                   38004515|    2602902|               0000035|               HOSPITAL GERAL|\n",
      "|     0000043|POLICLINICA DR MA...|                   38004247|    2602902|               0000043|                  POLICLINICA|\n",
      "|     0000051|POLICLINICA VICEN...|                   38004247|    2602902|               0000051|                  POLICLINICA|\n",
      "|     0000078|CENTRO HERBERT DE...|                   38004207|    2602902|               0000078|         CLINICA/CENTRO DE...|\n",
      "|     0000086|CENTRO DE SAUDE D...|                   38004207|    2602902|               0000086|         CLINICA/CENTRO DE...|\n",
      "|     0000094|MATERNIDADE PADRE...|                   38004287|    2602902|               0000094|         HOSPITAL ESPECIAL...|\n",
      "|     0000108| USF ALTO DOS INDIOS|                   38004247|    2602902|               0000108|         CENTRO DE SAUDE/U...|\n",
      "|     0000116|     USF CHARNECA II|                   38004247|    2602902|               0000116|         CENTRO DE SAUDE/U...|\n",
      "|     0000124| USF SAO FRANCISCO I|                   38004247|    2602902|               0000124|         CENTRO DE SAUDE/U...|\n",
      "|     0000132|         USF ROSARIO|                   38004247|    2602902|               0000132|         CENTRO DE SAUDE/U...|\n",
      "|     0000140|        USF JUSSARAL|                   38004247|    2602902|               0000140|         CENTRO DE SAUDE/U...|\n",
      "|     0000159|          UAP TAPUGI|                   38004247|    2602902|               0000159|               POSTO DE SAUDE|\n",
      "|     0000167|          USF MERCES|                   38004247|    2602902|               0000167|         CENTRO DE SAUDE/U...|\n",
      "|     0000175|           USF SUAPE|                   38004247|    2602902|               0000175|         CENTRO DE SAUDE/U...|\n",
      "|     0000183| HOSPITAL SAMARITANO|                   38004515|    2602902|               0000183|               HOSPITAL GERAL|\n",
      "|     0000205|K FORTES CLINICA ...|                   38004207|    4127700|               0000205|          CONSULTORIO ISOLADO|\n",
      "|     0000213|FISIO FITNESS CEN...|                   38004678|    3205309|               0000213|         UNIDADE DE APOIO ...|\n",
      "|     0000221|HOSPITAL SAO SEBA...|                   38004515|    2602902|               0000221|               HOSPITAL GERAL|\n",
      "|     0000248|    USF MANOEL VIGIA|                   38004247|    2602902|               0000248|         CENTRO DE SAUDE/U...|\n",
      "|     0000256|      USF SANTA ROSA|                   38004247|    2602902|               0000256|         CENTRO DE SAUDE/U...|\n",
      "|     0000264|          USF MARUIM|                   38004247|    2602902|               0000264|         CENTRO DE SAUDE/U...|\n",
      "|     0000272|     USF ALTO DO SOL|                   38004247|    2602902|               0000272|         CENTRO DE SAUDE/U...|\n",
      "|     0000280|          USF CACARI|                   38004247|    2602902|               0000280|         CENTRO DE SAUDE/U...|\n",
      "|     0000299|        USF TORRINHA|                   38004247|    2602902|               0000299|         CENTRO DE SAUDE/U...|\n",
      "|     0000302|   USF SANTO ESTEVAO|                   38004247|    2602902|               0000302|         CENTRO DE SAUDE/U...|\n",
      "|     0000310|  USF ALTO DA IGREJA|                   38004247|    2602902|               0000310|         CENTRO DE SAUDE/U...|\n",
      "|     0000329|CAPS ESTACAO CIDA...|                       8964|    2602902|               0000329|         CENTRO DE ATENCAO...|\n",
      "|     0000337|         USF ARARIBA|                   38004247|    2602902|               0000337|         CENTRO DE SAUDE/U...|\n",
      "|     0000345|   USF ALTO DO PIRES|                   38004247|    2602902|               0000345|         CENTRO DE SAUDE/U...|\n",
      "|     0000353|       USF MALAQUIAS|                   38004247|    2602902|               0000353|         CENTRO DE SAUDE/U...|\n",
      "|     0000361|USF SAO FRANCISCO II|                   38004247|    2602902|               0000361|         CENTRO DE SAUDE/U...|\n",
      "|     0000388|USF SAO FRANCISCO...|                   38004247|    2602902|               0000388|         CENTRO DE SAUDE/U...|\n",
      "|     0000396|HOSPITAL DAS CLIN...|                   38004515|    2611606|               0000396|               HOSPITAL GERAL|\n",
      "|     0000418|HOSPITAL AGAMENON...|                   38004515|    2611606|               0000418|               HOSPITAL GERAL|\n",
      "|     0000426|HOSPITAL OTAVIO D...|                   38004515|    2611606|               0000426|               HOSPITAL GERAL|\n",
      "|     0000434|                IMIP|                   38004515|    2611606|               0000434|               HOSPITAL GERAL|\n",
      "|     0000469|           AMORSAUDE|                   38004207|    2931350|               0000469|         CLINICA/CENTRO DE...|\n",
      "|     0000477|HOSPITAL OSWALDO ...|                   38004515|    2611606|               0000477|               HOSPITAL GERAL|\n",
      "|     0000485|FUNDACAO ALTINO V...|                   38004287|    2611606|               0000485|         HOSPITAL ESPECIAL...|\n",
      "|     0000507|US 160 POLICLINIC...|                   38004247|    2611606|               0000507|                  POLICLINICA|\n",
      "|     0000523|SINGULARI CLINICA...|                   38004207|    3205309|               0000523|         CLINICA/CENTRO DE...|\n",
      "|     0000531|US 159 POLICLINIC...|                   38004247|    2611606|               0000531|                  POLICLINICA|\n",
      "|     0000558|US 217 CENTRO MED...|                   38004207|    2611606|               0000558|         CLINICA/CENTRO DE...|\n",
      "|     0000566|HOSPITAL MARIA LU...|                   38004515|    2611606|               0000566|               HOSPITAL GERAL|\n",
      "|     0000582|HOSPITAL DE CANCE...|                   38004287|    2611606|               0000582|         HOSPITAL ESPECIAL...|\n",
      "|     0000590|US 128 POLICLINIC...|                   38004247|    2611606|               0000590|                  POLICLINICA|\n",
      "|     0000604|US 169 POLICLINIC...|                   38004247|    2611606|               0000604|                  POLICLINICA|\n",
      "|     0000612|US 162 POLICLINIC...|                   38004247|    2611606|               0000612|                  POLICLINICA|\n",
      "|     0000620|US 101 POLICLINIC...|                   38004247|    2611606|               0000620|                  POLICLINICA|\n",
      "|     0000639|US 106 CS PROF JO...|                   38004247|    2611606|               0000639|         CENTRO DE SAUDE/U...|\n",
      "|     0000647|US 144 POLICLINIC...|                   38004247|    2611606|               0000647|                  POLICLINICA|\n",
      "|     0000655|HOSPITAL DA RESTA...|                   38004515|    2611606|               0000655|               HOSPITAL GERAL|\n",
      "|     0000663|            CEO UFPE|                   38004207|    2611606|               0000663|         CLINICA/CENTRO DE...|\n",
      "|     0000671|US 153 POLICLINIC...|                   38004515|    2611606|               0000671|               HOSPITAL GERAL|\n",
      "|     0000701|US 165 MATERNIDAD...|                   38004515|    2611606|               0000701|               HOSPITAL GERAL|\n",
      "|     0000752|US 119 CS PROF JO...|                   38004247|    2611606|               0000752|         CENTRO DE SAUDE/U...|\n",
      "|     0000760|US 161 CS PROF RO...|                   38004247|    2611606|               0000760|         CENTRO DE SAUDE/U...|\n",
      "|     0000779|US 143 LABORATORI...|                   38004294|    2611606|               0000779|         LABORATORIO DE SA...|\n",
      "|     0000795|             CLINOPE|                   38004207|    2611606|               0000795|         CLINICA/CENTRO DE...|\n",
      "|     0000809|     FUNDACAO HEMOPE|                   38004287|    2611606|               0000809|         HOSPITAL ESPECIAL...|\n",
      "|     0000817|US 149 CS OLINTO ...|                   38004247|    2611606|               0000817|         CENTRO DE SAUDE/U...|\n",
      "|     0000825|US 155 CS PROF MO...|                   38004247|    2611606|               0000825|         CENTRO DE SAUDE/U...|\n",
      "|     0000833|US 137 CS PROF DJ...|                   38004247|    2611606|               0000833|         CENTRO DE SAUDE/U...|\n",
      "|     0000841|US 150 CS PROFESS...|                   38004247|    2611606|               0000841|         CENTRO DE SAUDE/U...|\n",
      "|     0000868|US 142 CS BIDU KR...|                   38004247|    2611606|               0000868|         CENTRO DE SAUDE/U...|\n",
      "|     0000876|US 138 USF DR LUI...|                   38004247|    2611606|               0000876|         CENTRO DE SAUDE/U...|\n",
      "|     0000884|                 PCO|                   38004207|    2611606|               0000884|         CLINICA/CENTRO DE...|\n",
      "|     0000892|                LIAC|                   38004678|    2611606|               0000892|         UNIDADE DE APOIO ...|\n",
      "|     0000906|US 321 CENTRAL DE...|                   38004207|    2611606|               0000906|         CLINICA/CENTRO DE...|\n",
      "|     0000930|US 164 CENTRO DE ...|                   38004287|    2611606|               0000930|         HOSPITAL ESPECIAL...|\n",
      "|     0000949|        ORAL CONCEPT|                   38004207|    3205309|               0000949|         CLINICA/CENTRO DE...|\n",
      "|     0000957|US 174 USF SITIO ...|                   38004247|    2611606|               0000957|         CENTRO DE SAUDE/U...|\n",
      "|     0000965|US 177 USF CHICO ...|                   38004247|    2611606|               0000965|         CENTRO DE SAUDE/U...|\n",
      "|     0000973|          ENDOCLINIC|                   38004247|    1302603|               0000973|                  POLICLINICA|\n",
      "|     0000981|HOSPITAL CORREIA ...|                   38004515|    2611606|               0000981|               HOSPITAL GERAL|\n",
      "|     0001015|US 163 HOSPITAL D...|                   38004287|    2611606|               0001015|         HOSPITAL ESPECIAL...|\n",
      "|     0001023|               IRSIR|                   38004678|    2611606|               0001023|         UNIDADE DE APOIO ...|\n",
      "|     0001058|US 121 CS PROF BR...|                   38004247|    2611606|               0001058|         CENTRO DE SAUDE/U...|\n",
      "|     0001082|US 104 CS SEBASTI...|                   38004247|    2611606|               0001082|         CENTRO DE SAUDE/U...|\n",
      "|     0001090|US 126 CS VER ROM...|                   38004247|    2611606|               0001090|         CENTRO DE SAUDE/U...|\n",
      "|     0001112|US 186 USF JARDIM...|                   38004247|    2611606|               0001112|         CENTRO DE SAUDE/U...|\n",
      "|     0001120|REAL HOSPITAL POR...|                   38004515|    2611606|               0001120|               HOSPITAL GERAL|\n",
      "|     0001139|US 166 POLICLINIC...|                   38004247|    2611606|               0001139|                  POLICLINICA|\n",
      "|     0001147|LABORATORIO DE AN...|                   38004678|    2611606|               0001147|         UNIDADE DE APOIO ...|\n",
      "|     0001155|DEPARTAMENTO DE Q...|                   38004207|    2611606|               0001155|         CLINICA/CENTRO DE...|\n",
      "|     0001163|US 109 CS FRANCIS...|                   38004247|    2611606|               0001163|         CENTRO DE SAUDE/U...|\n",
      "|     0001198|US 113 CS DR ARIS...|                   38004247|    2611606|               0001198|         CENTRO DE SAUDE/U...|\n",
      "|     0001201|PSF RESIDENCIAL C...|                   38004247|    2931350|               0001201|         CENTRO DE SAUDE/U...|\n",
      "|     0001236|US 152 CS INA ROS...|                   38004247|    2611606|               0001236|         CENTRO DE SAUDE/U...|\n",
      "|     0001244|US 175 USF DR DIO...|                   38004247|    2611606|               0001244|         CENTRO DE SAUDE/U...|\n",
      "|     0001252|    US 218 USF COQUE|                   38004247|    2611606|               0001252|         CENTRO DE SAUDE/U...|\n",
      "|     0001279|    FUNDACAO PIO XII|                   38004207|    2931350|               0001279|         CLINICA/CENTRO DE...|\n",
      "|     0001309|             CLIMAPE|                   38004678|    2611606|               0001309|         UNIDADE DE APOIO ...|\n",
      "|     0001317|US 120 CS MARIO M...|                   38004247|    2611606|               0001317|         CENTRO DE SAUDE/U...|\n",
      "|     0001341|CLINICA RADIOLOGI...|                   38004678|    2611606|               0001341|         UNIDADE DE APOIO ...|\n",
      "|     0001368| US 158 CS PAM CEASA|                   38004247|    2611606|               0001368|         CENTRO DE SAUDE/U...|\n",
      "|     0001384|CLINICA DE RADIOD...|                   38004678|    2611606|               0001384|         UNIDADE DE APOIO ...|\n",
      "|     0001392|US 148 CS DOM MIG...|                   38004247|    2611606|               0001392|         CENTRO DE SAUDE/U...|\n",
      "+------------+--------------------+---------------------------+-----------+----------------------+-----------------------------+\n",
      "only showing top 100 rows\n",
      "\n"
     ]
    }
   ],
   "source": [
    "care.orderBy(F.asc(\"care_site_id\")).show(100)"
   ]
  },
  {
   "cell_type": "code",
   "execution_count": 12,
   "id": "896a7426",
   "metadata": {},
   "outputs": [],
   "source": [
    "care = care.withColumn(\"care_site_id\",F.col(\"care_site_id\").cast(IntegerType()))\n",
    "care = care.withColumn(\"location_id\",F.col(\"location_id\").cast(IntegerType()))\n",
    "care = care.withColumn(\"place_of_service_concept_id\",F.col(\"place_of_service_concept_id\").cast(IntegerType()))\n",
    "care = care.withColumn(\"place_of_service_source_value\", F.substring(\"place_of_service_source_value\",1,50))"
   ]
  },
  {
   "cell_type": "code",
   "execution_count": null,
   "id": "51dd7794",
   "metadata": {},
   "outputs": [],
   "source": []
  },
  {
   "cell_type": "code",
   "execution_count": 13,
   "id": "310d73bb",
   "metadata": {},
   "outputs": [
    {
     "name": "stdout",
     "output_type": "stream",
     "text": [
      "root\n",
      " |-- care_site_id: integer (nullable = true)\n",
      " |-- care_site_name: string (nullable = true)\n",
      " |-- place_of_service_concept_id: integer (nullable = true)\n",
      " |-- location_id: integer (nullable = true)\n",
      " |-- care_site_source_value: string (nullable = true)\n",
      " |-- place_of_service_source_value: string (nullable = true)\n",
      "\n"
     ]
    }
   ],
   "source": [
    "care.printSchema()"
   ]
  },
  {
   "cell_type": "code",
   "execution_count": 14,
   "id": "5c51612d",
   "metadata": {},
   "outputs": [
    {
     "name": "stdout",
     "output_type": "stream",
     "text": [
      "+------------+----------------------------------------------------------+---------------------------+-----------+----------------------+--------------------------------------------------+\n",
      "|care_site_id|care_site_name                                            |place_of_service_concept_id|location_id|care_site_source_value|place_of_service_source_value                     |\n",
      "+------------+----------------------------------------------------------+---------------------------+-----------+----------------------+--------------------------------------------------+\n",
      "|6290434     |LEONARDO RODRIGUES RESENDE                                |38004207                   |5002704    |6290434               |CONSULTORIO ISOLADO                               |\n",
      "|6280250     |LABORATORIO SANTO ANTONIO                                 |38004678                   |5005004    |6280250               |UNIDADE DE APOIO DIAGNOSE E TERAPIA (SADT ISOLADO)|\n",
      "|6284744     |CONSULTORIO DE NATUROLOGIA                                |38004207                   |5100250    |6284744               |CONSULTORIO ISOLADO                               |\n",
      "|6293255     |ODONTO BEVILAQUA                                          |38004207                   |5100250    |6293255               |CONSULTORIO ISOLADO                               |\n",
      "|6287816     |SECRETARIA MUNICIPAL DE SAUDE DE CASTANHEIRA              |42028194                   |5102850    |6287816               |CENTRAL DE GESTAO EM SAUDE                        |\n",
      "|6648088     |RESGATE DOMINANTE CRRRD                                   |41897942                   |4208203    |6648088               |POLO DE PREVENCAO DE DOENCAS E AGRAVOS E PROMOCAO |\n",
      "|6294154     |LABORATORIO SAO RAPHAEL                                   |38004678                   |5102850    |6294154               |UNIDADE DE APOIO DIAGNOSE E TERAPIA (SADT ISOLADO)|\n",
      "|6276997     |ESCOLA ESPECIAL SONHO E ESPERANCA                         |38004207                   |5106224    |6276997               |CLINICA/CENTRO DE ESPECIALIDADE                   |\n",
      "|6285058     |ESPACO INTEGRADO EM SAUDE                                 |38004207                   |5106240    |6285058               |CONSULTORIO ISOLADO                               |\n",
      "|6291910     |CENTRO ESPECIALIDADES ODONTOLOGICA E LRPD PONTES E LACERDA|38004207                   |5106752    |6291910               |CLINICA/CENTRO DE ESPECIALIDADE                   |\n",
      "+------------+----------------------------------------------------------+---------------------------+-----------+----------------------+--------------------------------------------------+\n",
      "only showing top 10 rows\n",
      "\n"
     ]
    }
   ],
   "source": [
    "care.show(10,False)"
   ]
  },
  {
   "cell_type": "code",
   "execution_count": 15,
   "id": "dbf18409",
   "metadata": {},
   "outputs": [
    {
     "name": "stderr",
     "output_type": "stream",
     "text": [
      "                                                                                \r"
     ]
    }
   ],
   "source": [
    "\n",
    "options = {\n",
    "    \"url\": \"jdbc:postgresql://localhost:5432/postgres\",\n",
    "    \"dbtable\": \"omop54_v2.care_site\",\n",
    "    \"user\": \"postgres\",\n",
    "    \"password\": \"omop2023\",\n",
    "    \"postgreSQLConf\": \"constraint.mode=noconstraints\"\n",
    "}\n",
    "\n",
    "care.write \\\n",
    "    .format(\"jdbc\") \\\n",
    "    .options(**options) \\\n",
    "    .mode(\"append\") \\\n",
    "    .save()"
   ]
  },
  {
   "cell_type": "markdown",
   "id": "863a1416",
   "metadata": {},
   "source": [
    "### tb paciente"
   ]
  },
  {
   "cell_type": "code",
   "execution_count": 10,
   "id": "cf3671c2",
   "metadata": {},
   "outputs": [],
   "source": [
    "pacientes = spark.read.parquet(\"/dados10t/datalake/standard/omop/tabelas_omop_cmd_5.4_v1/tb_person.parquet/\")"
   ]
  },
  {
   "cell_type": "code",
   "execution_count": 11,
   "id": "6b078e5c",
   "metadata": {},
   "outputs": [
    {
     "name": "stderr",
     "output_type": "stream",
     "text": [
      "                                                                                \r"
     ]
    },
    {
     "data": {
      "text/plain": [
       "188537327"
      ]
     },
     "execution_count": 11,
     "metadata": {},
     "output_type": "execute_result"
    }
   ],
   "source": [
    "pacientes.count()"
   ]
  },
  {
   "cell_type": "code",
   "execution_count": 12,
   "id": "52b3f751",
   "metadata": {},
   "outputs": [
    {
     "name": "stderr",
     "output_type": "stream",
     "text": [
      "[Stage 11:======================================================> (33 + 1) / 34]\r"
     ]
    },
    {
     "name": "stdout",
     "output_type": "stream",
     "text": [
      "+-------+--------------------+\n",
      "|summary|           person_id|\n",
      "+-------+--------------------+\n",
      "|  count|           188537327|\n",
      "|   mean|         9.4268663E7|\n",
      "| stddev|5.4426038392208815E7|\n",
      "|    min|                   0|\n",
      "|    max|           188537326|\n",
      "+-------+--------------------+\n",
      "\n"
     ]
    },
    {
     "name": "stderr",
     "output_type": "stream",
     "text": [
      "\r",
      "                                                                                \r"
     ]
    }
   ],
   "source": [
    "pacientes.describe(\"person_id\").show()"
   ]
  },
  {
   "cell_type": "code",
   "execution_count": 13,
   "id": "597564c3",
   "metadata": {},
   "outputs": [
    {
     "name": "stderr",
     "output_type": "stream",
     "text": [
      "                                                                                \r"
     ]
    },
    {
     "data": {
      "text/plain": [
       "188537327"
      ]
     },
     "execution_count": 13,
     "metadata": {},
     "output_type": "execute_result"
    }
   ],
   "source": [
    "pacientes.select(\"person_id\").distinct().count()"
   ]
  },
  {
   "cell_type": "code",
   "execution_count": 14,
   "id": "d5a6a3c5",
   "metadata": {},
   "outputs": [
    {
     "name": "stdout",
     "output_type": "stream",
     "text": [
      "root\n",
      " |-- raca: string (nullable = true)\n",
      " |-- sexo: string (nullable = true)\n",
      " |-- id_vigvac: long (nullable = true)\n",
      " |-- gender_source_value: string (nullable = true)\n",
      " |-- race_source_value: string (nullable = true)\n",
      " |-- gender_concept_id: string (nullable = true)\n",
      " |-- race_concept_id: string (nullable = true)\n",
      " |-- year_of_birth: long (nullable = true)\n",
      " |-- month_of_birth: long (nullable = true)\n",
      " |-- day_of_birth: long (nullable = true)\n",
      " |-- birth_datetime: timestamp (nullable = true)\n",
      " |-- ethnicity_concept_id: string (nullable = true)\n",
      " |-- person_id: long (nullable = true)\n",
      "\n"
     ]
    }
   ],
   "source": [
    "pacientes.printSchema()"
   ]
  },
  {
   "cell_type": "code",
   "execution_count": null,
   "id": "8154683b",
   "metadata": {},
   "outputs": [],
   "source": []
  },
  {
   "cell_type": "code",
   "execution_count": 16,
   "id": "7121618e",
   "metadata": {},
   "outputs": [],
   "source": [
    "pacientes_v2 = pacientes.withColumn(\"year_of_birth\",F.col(\"year_of_birth\").cast(IntegerType()))\n",
    "pacientes_v2 = pacientes_v2.withColumn(\"month_of_birth\",F.col(\"month_of_birth\").cast(IntegerType()))\n",
    "pacientes_v2 = pacientes_v2.withColumn(\"day_of_birth\",F.col(\"day_of_birth\").cast(IntegerType()))\n",
    "pacientes_v2 = pacientes_v2.withColumn(\"ethnicity_concept_id\",F.col(\"ethnicity_concept_id\").cast(IntegerType()))\n",
    "pacientes_v2 = pacientes_v2.withColumn(\"gender_concept_id\",F.col(\"gender_concept_id\").cast(IntegerType()))\n",
    "pacientes_v2 = pacientes_v2.withColumn(\"race_concept_id\",F.col(\"race_concept_id\").cast(IntegerType()))"
   ]
  },
  {
   "cell_type": "code",
   "execution_count": 17,
   "id": "072b0b0b",
   "metadata": {},
   "outputs": [],
   "source": [
    "pacientes_v2 = pacientes_v2.drop(*['raca','sexo','id_vigvac'])"
   ]
  },
  {
   "cell_type": "code",
   "execution_count": 16,
   "id": "d1a95344",
   "metadata": {},
   "outputs": [],
   "source": [
    "#pacientes_v2.show(5)"
   ]
  },
  {
   "cell_type": "code",
   "execution_count": 18,
   "id": "37bbf68c",
   "metadata": {},
   "outputs": [
    {
     "name": "stdout",
     "output_type": "stream",
     "text": [
      "root\n",
      " |-- gender_source_value: string (nullable = true)\n",
      " |-- race_source_value: string (nullable = true)\n",
      " |-- gender_concept_id: integer (nullable = true)\n",
      " |-- race_concept_id: integer (nullable = true)\n",
      " |-- year_of_birth: integer (nullable = true)\n",
      " |-- month_of_birth: integer (nullable = true)\n",
      " |-- day_of_birth: integer (nullable = true)\n",
      " |-- birth_datetime: timestamp (nullable = true)\n",
      " |-- ethnicity_concept_id: integer (nullable = true)\n",
      " |-- person_id: long (nullable = true)\n",
      "\n"
     ]
    }
   ],
   "source": [
    "pacientes_v2.printSchema()"
   ]
  },
  {
   "cell_type": "code",
   "execution_count": 19,
   "id": "42d70efc",
   "metadata": {},
   "outputs": [
    {
     "name": "stderr",
     "output_type": "stream",
     "text": [
      "[Stage 20:======================================================> (33 + 1) / 34]\r"
     ]
    },
    {
     "name": "stdout",
     "output_type": "stream",
     "text": [
      "+-----------------+--------+\n",
      "|gender_concept_id|count   |\n",
      "+-----------------+--------+\n",
      "|8532             |97691350|\n",
      "|8507             |90840521|\n",
      "|null             |5456    |\n",
      "+-----------------+--------+\n",
      "\n"
     ]
    },
    {
     "name": "stderr",
     "output_type": "stream",
     "text": [
      "\r",
      "                                                                                \r"
     ]
    }
   ],
   "source": [
    "pacientes_v2.groupBy(\"gender_concept_id\").count().orderBy(F.desc(\"count\")).show(500,False) "
   ]
  },
  {
   "cell_type": "code",
   "execution_count": 20,
   "id": "c637898c",
   "metadata": {},
   "outputs": [],
   "source": [
    "pacientes_v2 = pacientes_v2.withColumn(\"race_concept_id\",F.when(F.col(\"race_concept_id\").isNull(),0).otherwise(F.col(\"race_concept_id\")) )"
   ]
  },
  {
   "cell_type": "code",
   "execution_count": 20,
   "id": "4662dddc",
   "metadata": {},
   "outputs": [],
   "source": [
    "#pacientes_v2 = pacientes_v2.withColumn(\"year_of_birth\",F.when(F.col(\"year_of_birth\").isNull(),0).otherwise(F.col(\"year_of_birth\")) )"
   ]
  },
  {
   "cell_type": "code",
   "execution_count": 21,
   "id": "abdad5b0",
   "metadata": {},
   "outputs": [],
   "source": [
    "pacientes_v3 = pacientes_v2.filter(F.col(\"gender_concept_id\").isNotNull())"
   ]
  },
  {
   "cell_type": "code",
   "execution_count": 22,
   "id": "808127dd",
   "metadata": {},
   "outputs": [
    {
     "name": "stderr",
     "output_type": "stream",
     "text": [
      "                                                                                \r"
     ]
    },
    {
     "data": {
      "text/plain": [
       "188531871"
      ]
     },
     "execution_count": 22,
     "metadata": {},
     "output_type": "execute_result"
    }
   ],
   "source": [
    "pacientes_v3.count()"
   ]
  },
  {
   "cell_type": "code",
   "execution_count": 23,
   "id": "6d756f32",
   "metadata": {},
   "outputs": [
    {
     "name": "stderr",
     "output_type": "stream",
     "text": [
      "                                                                                \r"
     ]
    },
    {
     "data": {
      "text/plain": [
       "187639193"
      ]
     },
     "execution_count": 23,
     "metadata": {},
     "output_type": "execute_result"
    }
   ],
   "source": [
    "pacientes_v3.filter(F.col(\"year_of_birth\").isNotNull()).count()"
   ]
  },
  {
   "cell_type": "code",
   "execution_count": 24,
   "id": "8dd47cea",
   "metadata": {},
   "outputs": [
    {
     "name": "stderr",
     "output_type": "stream",
     "text": [
      "                                                                                \r"
     ]
    },
    {
     "data": {
      "text/plain": [
       "892678"
      ]
     },
     "execution_count": 24,
     "metadata": {},
     "output_type": "execute_result"
    }
   ],
   "source": [
    "pacientes_v3.filter(F.col(\"year_of_birth\").isNull()).count()"
   ]
  },
  {
   "cell_type": "code",
   "execution_count": 25,
   "id": "f29afb2b",
   "metadata": {},
   "outputs": [
    {
     "name": "stderr",
     "output_type": "stream",
     "text": [
      "                                                                                \r"
     ]
    }
   ],
   "source": [
    "pacientes_v4 = pacientes_v3.filter(F.col(\"year_of_birth\").isNotNull() ).checkpoint(eager=True)"
   ]
  },
  {
   "cell_type": "code",
   "execution_count": 26,
   "id": "23393b5f",
   "metadata": {},
   "outputs": [
    {
     "name": "stderr",
     "output_type": "stream",
     "text": [
      "                                                                                \r"
     ]
    },
    {
     "data": {
      "text/plain": [
       "4683"
      ]
     },
     "execution_count": 26,
     "metadata": {},
     "output_type": "execute_result"
    }
   ],
   "source": [
    "pacientes_v4.filter(F.col(\"birth_datetime\") <= \"1900-01-01\").count()"
   ]
  },
  {
   "cell_type": "code",
   "execution_count": 27,
   "id": "7e84aa5e",
   "metadata": {},
   "outputs": [],
   "source": [
    "pacientes_v5 = pacientes_v4.filter(F.col(\"birth_datetime\") >= \"1900-01-01\")"
   ]
  },
  {
   "cell_type": "code",
   "execution_count": 28,
   "id": "9e667b96",
   "metadata": {},
   "outputs": [
    {
     "name": "stdout",
     "output_type": "stream",
     "text": [
      "+-------------------+-----------------+-----------------+---------------+-------------+--------------+------------+-------------------+--------------------+---------+\n",
      "|gender_source_value|race_source_value|gender_concept_id|race_concept_id|year_of_birth|month_of_birth|day_of_birth|     birth_datetime|ethnicity_concept_id|person_id|\n",
      "+-------------------+-----------------+-----------------+---------------+-------------+--------------+------------+-------------------+--------------------+---------+\n",
      "|          Masculino|           BRANCA|             8507|           8527|         2012|            10|          20|2012-10-20 00:00:00|            38003563| 11328339|\n",
      "|           Feminino|           BRANCA|             8532|           8527|         2015|            11|          16|2015-11-16 00:00:00|            38003563| 11328340|\n",
      "|           Feminino|           BRANCA|             8532|           8527|         1965|            12|          20|1965-12-20 00:00:00|            38003563| 11328341|\n",
      "|           Feminino|            PARDA|             8532|       38003598|         1997|             5|          31|1997-05-31 00:00:00|            38003563| 11328342|\n",
      "|          Masculino|             null|             8507|              0|         2013|             7|           7|2013-07-07 00:00:00|            38003563| 11328343|\n",
      "|          Masculino|          AMARELA|             8507|           8515|         1998|            12|           1|1998-12-01 00:00:00|            38003563| 11328344|\n",
      "|          Masculino|            PARDA|             8507|       38003598|         2009|            10|          26|2009-10-26 00:00:00|            38003563| 11328345|\n",
      "|           Feminino|            PRETA|             8532|       38003598|         1977|             1|           3|1977-01-03 00:00:00|            38003563| 11328346|\n",
      "|          Masculino|          AMARELA|             8507|           8515|         2011|             1|          28|2011-01-28 00:00:00|            38003563| 11328347|\n",
      "|          Masculino|             null|             8507|              0|         2007|             6|          18|2007-06-18 00:00:00|            38003563| 11328348|\n",
      "+-------------------+-----------------+-----------------+---------------+-------------+--------------+------------+-------------------+--------------------+---------+\n",
      "only showing top 10 rows\n",
      "\n"
     ]
    }
   ],
   "source": [
    "pacientes_v5.show(10)"
   ]
  },
  {
   "cell_type": "code",
   "execution_count": 30,
   "id": "9769e42c",
   "metadata": {},
   "outputs": [
    {
     "name": "stderr",
     "output_type": "stream",
     "text": [
      "                                                                                \r"
     ]
    },
    {
     "data": {
      "text/plain": [
       "187634532"
      ]
     },
     "execution_count": 30,
     "metadata": {},
     "output_type": "execute_result"
    }
   ],
   "source": [
    "pacientes_v5.count()"
   ]
  },
  {
   "cell_type": "code",
   "execution_count": 32,
   "id": "359e3809",
   "metadata": {},
   "outputs": [],
   "source": [
    "#17:50"
   ]
  },
  {
   "cell_type": "code",
   "execution_count": 31,
   "id": "3b0629e5",
   "metadata": {},
   "outputs": [
    {
     "name": "stderr",
     "output_type": "stream",
     "text": [
      "                                                                                \r"
     ]
    }
   ],
   "source": [
    "\n",
    "options = {\n",
    "    \"url\": \"jdbc:postgresql://localhost:5432/postgres\",\n",
    "    \"dbtable\": \"omop54_v2.person\",\n",
    "    \"user\": \"postgres\",\n",
    "    \"password\": \"omop2023\",\n",
    "    \"postgreSQLConf\": \"constraint.mode=noconstraints\"\n",
    "}\n",
    "\n",
    "pacientes_v5.write \\\n",
    "    .format(\"jdbc\") \\\n",
    "    .options(**options) \\\n",
    "    .mode(\"append\") \\\n",
    "    .save()"
   ]
  },
  {
   "cell_type": "code",
   "execution_count": 33,
   "id": "89c1966a",
   "metadata": {},
   "outputs": [
    {
     "name": "stdout",
     "output_type": "stream",
     "text": [
      "now = 2023-10-18 18:18:43.710524\n"
     ]
    }
   ],
   "source": [
    "from datetime import datetime\n",
    "\n",
    "# datetime object containing current date and time\n",
    "now = datetime.now()\n",
    "print(\"now =\", now)"
   ]
  },
  {
   "cell_type": "markdown",
   "id": "71056e11",
   "metadata": {},
   "source": [
    "### tb periodo observação"
   ]
  },
  {
   "cell_type": "code",
   "execution_count": 36,
   "id": "90d943bd",
   "metadata": {},
   "outputs": [],
   "source": [
    "peri_obs = spark.read.parquet(\"/dados10t/datalake/standard/omop/tabelas_omop_cmd_5.4_v1/tb_observation_period.parquet\")"
   ]
  },
  {
   "cell_type": "code",
   "execution_count": 37,
   "id": "89fb8202",
   "metadata": {
    "scrolled": true
   },
   "outputs": [
    {
     "name": "stdout",
     "output_type": "stream",
     "text": [
      "root\n",
      " |-- id_vigvac: long (nullable = true)\n",
      " |-- observation_period_start_date: date (nullable = true)\n",
      " |-- observation_period_end_date: date (nullable = true)\n",
      " |-- period_type_concept_id: string (nullable = true)\n",
      " |-- person_id: long (nullable = true)\n",
      " |-- observation_period_id: long (nullable = true)\n",
      "\n"
     ]
    }
   ],
   "source": [
    "peri_obs.printSchema()"
   ]
  },
  {
   "cell_type": "code",
   "execution_count": 38,
   "id": "329f9070",
   "metadata": {},
   "outputs": [
    {
     "name": "stderr",
     "output_type": "stream",
     "text": [
      "                                                                                \r"
     ]
    },
    {
     "data": {
      "text/plain": [
       "188537327"
      ]
     },
     "execution_count": 38,
     "metadata": {},
     "output_type": "execute_result"
    }
   ],
   "source": [
    "peri_obs.count()"
   ]
  },
  {
   "cell_type": "code",
   "execution_count": 39,
   "id": "da2bcbfe",
   "metadata": {},
   "outputs": [],
   "source": [
    "peri_obs_v2 = peri_obs.withColumn(\"period_type_concept_id\",F.col(\"period_type_concept_id\").cast(IntegerType()))"
   ]
  },
  {
   "cell_type": "code",
   "execution_count": 40,
   "id": "c7934d41",
   "metadata": {},
   "outputs": [
    {
     "name": "stderr",
     "output_type": "stream",
     "text": [
      "[Stage 46:======================================================> (33 + 1) / 34]\r"
     ]
    },
    {
     "name": "stdout",
     "output_type": "stream",
     "text": [
      "+-------+-------------------+\n",
      "|summary|          person_id|\n",
      "+-------+-------------------+\n",
      "|  count|          188537327|\n",
      "|   mean|        9.4268663E7|\n",
      "| stddev|5.442603839220903E7|\n",
      "|    min|                  0|\n",
      "|    max|          188537326|\n",
      "+-------+-------------------+\n",
      "\n"
     ]
    },
    {
     "name": "stderr",
     "output_type": "stream",
     "text": [
      "\r",
      "                                                                                \r"
     ]
    }
   ],
   "source": [
    "peri_obs_v2.describe(\"person_id\").show()"
   ]
  },
  {
   "cell_type": "code",
   "execution_count": 41,
   "id": "bf7b9e59",
   "metadata": {},
   "outputs": [
    {
     "name": "stderr",
     "output_type": "stream",
     "text": [
      "[Stage 49:======================================================> (33 + 1) / 34]\r"
     ]
    },
    {
     "name": "stdout",
     "output_type": "stream",
     "text": [
      "+-------+---------------------+\n",
      "|summary|observation_period_id|\n",
      "+-------+---------------------+\n",
      "|  count|            188537327|\n",
      "|   mean|  9.426866299999999E7|\n",
      "| stddev|  5.442603839220844E7|\n",
      "|    min|                    0|\n",
      "|    max|            188537326|\n",
      "+-------+---------------------+\n",
      "\n"
     ]
    },
    {
     "name": "stderr",
     "output_type": "stream",
     "text": [
      "\r",
      "                                                                                \r"
     ]
    }
   ],
   "source": [
    "peri_obs_v2.describe(\"observation_period_id\").show()"
   ]
  },
  {
   "cell_type": "code",
   "execution_count": 43,
   "id": "2d971ddb",
   "metadata": {},
   "outputs": [],
   "source": [
    "peri_obs_v3 = peri_obs_v2.drop(*['id_vigvac'])"
   ]
  },
  {
   "cell_type": "code",
   "execution_count": 44,
   "id": "6d76507a",
   "metadata": {},
   "outputs": [
    {
     "name": "stdout",
     "output_type": "stream",
     "text": [
      "root\n",
      " |-- observation_period_start_date: date (nullable = true)\n",
      " |-- observation_period_end_date: date (nullable = true)\n",
      " |-- period_type_concept_id: integer (nullable = true)\n",
      " |-- person_id: long (nullable = true)\n",
      " |-- observation_period_id: long (nullable = true)\n",
      "\n"
     ]
    }
   ],
   "source": [
    "peri_obs_v3.printSchema()"
   ]
  },
  {
   "cell_type": "code",
   "execution_count": 46,
   "id": "718a4714",
   "metadata": {},
   "outputs": [],
   "source": [
    "#19:24"
   ]
  },
  {
   "cell_type": "code",
   "execution_count": 45,
   "id": "7e6a1c7c",
   "metadata": {},
   "outputs": [
    {
     "name": "stderr",
     "output_type": "stream",
     "text": [
      "                                                                                \r"
     ]
    }
   ],
   "source": [
    "\n",
    "options = {\n",
    "    \"url\": \"jdbc:postgresql://localhost:5432/postgres\",\n",
    "    \"dbtable\": \"omop54_v2.observation_period\",\n",
    "    \"user\": \"postgres\",\n",
    "    \"password\": \"omop2023\",\n",
    "    \"postgreSQLConf\": \"constraint.mode=noconstraints\"\n",
    "}\n",
    "\n",
    "peri_obs_v3.write \\\n",
    "    .format(\"jdbc\") \\\n",
    "    .options(**options) \\\n",
    "    .mode(\"append\") \\\n",
    "    .save()"
   ]
  },
  {
   "cell_type": "code",
   "execution_count": 47,
   "id": "136fc86d",
   "metadata": {},
   "outputs": [
    {
     "name": "stdout",
     "output_type": "stream",
     "text": [
      "now = 2023-10-18 19:51:08.760588\n"
     ]
    }
   ],
   "source": [
    "from datetime import datetime\n",
    "\n",
    "# datetime object containing current date and time\n",
    "now = datetime.now()\n",
    "print(\"now =\", now)"
   ]
  },
  {
   "cell_type": "markdown",
   "id": "c6750b97",
   "metadata": {},
   "source": [
    "### tb drug exposure"
   ]
  },
  {
   "cell_type": "code",
   "execution_count": 1,
   "id": "81ce963a",
   "metadata": {},
   "outputs": [
    {
     "name": "stderr",
     "output_type": "stream",
     "text": [
      "                                                                                \r"
     ]
    }
   ],
   "source": [
    "drug = spark.read.parquet(\"/dados10t/datalake/standard/omop/tabelas_omop_cmd_5.4_v1/tb_drug_exposure_v6.parquet/\")"
   ]
  },
  {
   "cell_type": "code",
   "execution_count": 2,
   "id": "bd641171",
   "metadata": {},
   "outputs": [
    {
     "name": "stdout",
     "output_type": "stream",
     "text": [
      "+------------------------+--------------------+--------------------------+--------------------+---------------+---------+-------------------+----------------+\n",
      "|drug_exposure_start_date|   drug_source_value|drug_exposure_end_datetime|drug_type_concept_id|drug_concept_id|person_id|visit_occurrence_id|drug_exposure_id|\n",
      "+------------------------+--------------------+--------------------------+--------------------+---------------+---------+-------------------+----------------+\n",
      "|              2022-04-28|Vacina covid-19 -...|                2022-04-28|               32818|       37003436|  9441615|          321953373|       410442167|\n",
      "|              2021-09-09|Covid-19-AstraZeneca|                2021-09-09|               32818|         724905|  9441657|          321953467|       410442168|\n",
      "|              2021-04-17|Covid-19-AstraZeneca|                2021-04-17|               32818|         724905|  9441668|          321953499|       410442169|\n",
      "|              2021-07-14|Vacina covid-19 -...|                2021-07-14|               32818|         739906|  9441782|          321953774|       410442170|\n",
      "|              2021-09-17|Covid-19-Coronava...|                2021-09-17|               32818|       36941610|  9441812|          321953837|       410442171|\n",
      "|              2021-03-10|Covid-19-Coronava...|                2021-03-10|               32818|       36941610|  9441843|          321953907|       410442172|\n",
      "|              2021-07-21|Covid-19-Coronava...|                2021-07-21|               32818|       36941610|  9441851|          321953928|       410442173|\n",
      "|              2021-08-26|Vacina covid-19 -...|                2021-08-26|               32818|       37003436|  9441941|          321954148|       410442174|\n",
      "|              2021-05-21|Covid-19-AstraZeneca|                2021-05-21|               32818|         724905|  9441999|          321954290|       410442175|\n",
      "|              2021-08-27|Vacina covid-19 -...|                2021-08-27|               32818|       37003436|  9442004|          321954300|       410442176|\n",
      "+------------------------+--------------------+--------------------------+--------------------+---------------+---------+-------------------+----------------+\n",
      "only showing top 10 rows\n",
      "\n"
     ]
    },
    {
     "name": "stderr",
     "output_type": "stream",
     "text": [
      "\r",
      "[Stage 1:>                                                          (0 + 1) / 1]\r",
      "\r",
      "                                                                                \r"
     ]
    }
   ],
   "source": [
    "drug.show(10)"
   ]
  },
  {
   "cell_type": "code",
   "execution_count": 3,
   "id": "fc9d13fd",
   "metadata": {},
   "outputs": [
    {
     "name": "stdout",
     "output_type": "stream",
     "text": [
      "root\n",
      " |-- drug_exposure_start_date: date (nullable = true)\n",
      " |-- drug_source_value: string (nullable = true)\n",
      " |-- drug_exposure_end_datetime: date (nullable = true)\n",
      " |-- drug_type_concept_id: string (nullable = true)\n",
      " |-- drug_concept_id: long (nullable = true)\n",
      " |-- person_id: long (nullable = true)\n",
      " |-- visit_occurrence_id: long (nullable = true)\n",
      " |-- drug_exposure_id: integer (nullable = true)\n",
      "\n"
     ]
    }
   ],
   "source": [
    "drug.printSchema()"
   ]
  },
  {
   "cell_type": "code",
   "execution_count": 4,
   "id": "cf1afd72",
   "metadata": {},
   "outputs": [
    {
     "name": "stderr",
     "output_type": "stream",
     "text": [
      "                                                                                \r"
     ]
    },
    {
     "data": {
      "text/plain": [
       "446134022"
      ]
     },
     "execution_count": 4,
     "metadata": {},
     "output_type": "execute_result"
    }
   ],
   "source": [
    "drug.count() #446124123"
   ]
  },
  {
   "cell_type": "code",
   "execution_count": 5,
   "id": "ee97ecb2",
   "metadata": {},
   "outputs": [
    {
     "name": "stderr",
     "output_type": "stream",
     "text": [
      "                                                                                \r"
     ]
    },
    {
     "data": {
      "text/plain": [
       "446134022"
      ]
     },
     "execution_count": 5,
     "metadata": {},
     "output_type": "execute_result"
    }
   ],
   "source": [
    "drug.select(\"drug_exposure_id\").distinct().count()"
   ]
  },
  {
   "cell_type": "code",
   "execution_count": 6,
   "id": "2ce4afe7",
   "metadata": {},
   "outputs": [
    {
     "name": "stderr",
     "output_type": "stream",
     "text": [
      "                                                                                \r"
     ]
    },
    {
     "data": {
      "text/plain": [
       "446134022"
      ]
     },
     "execution_count": 6,
     "metadata": {},
     "output_type": "execute_result"
    }
   ],
   "source": [
    "drug.select(\"visit_occurrence_id\").distinct().count()"
   ]
  },
  {
   "cell_type": "code",
   "execution_count": 7,
   "id": "6199352b",
   "metadata": {},
   "outputs": [
    {
     "name": "stderr",
     "output_type": "stream",
     "text": [
      "                                                                                \r"
     ]
    },
    {
     "data": {
      "text/plain": [
       "183734003"
      ]
     },
     "execution_count": 7,
     "metadata": {},
     "output_type": "execute_result"
    }
   ],
   "source": [
    "drug.select(\"person_id\").distinct().count()"
   ]
  },
  {
   "cell_type": "code",
   "execution_count": 8,
   "id": "debee107",
   "metadata": {},
   "outputs": [],
   "source": [
    "drug = drug.withColumn(\"person_id\",F.col(\"person_id\").cast(IntegerType()))\n",
    "drug = drug.withColumn(\"visit_occurrence_id\",F.col(\"visit_occurrence_id\").cast(IntegerType()))"
   ]
  },
  {
   "cell_type": "code",
   "execution_count": 9,
   "id": "6029293b",
   "metadata": {},
   "outputs": [
    {
     "name": "stderr",
     "output_type": "stream",
     "text": [
      "                                                                                \r"
     ]
    },
    {
     "data": {
      "text/plain": [
       "446134022"
      ]
     },
     "execution_count": 9,
     "metadata": {},
     "output_type": "execute_result"
    }
   ],
   "source": [
    "drug.select(\"visit_occurrence_id\").distinct().count()"
   ]
  },
  {
   "cell_type": "code",
   "execution_count": 10,
   "id": "d5d7ba33",
   "metadata": {},
   "outputs": [
    {
     "name": "stderr",
     "output_type": "stream",
     "text": [
      "                                                                                \r"
     ]
    },
    {
     "data": {
      "text/plain": [
       "183734003"
      ]
     },
     "execution_count": 10,
     "metadata": {},
     "output_type": "execute_result"
    }
   ],
   "source": [
    "drug.select(\"person_id\").distinct().count()"
   ]
  },
  {
   "cell_type": "code",
   "execution_count": 11,
   "id": "c28a6244",
   "metadata": {},
   "outputs": [],
   "source": [
    "drug = drug.withColumn(\"drug_type_concept_id\",F.col(\"drug_type_concept_id\").cast(IntegerType()))"
   ]
  },
  {
   "cell_type": "code",
   "execution_count": 12,
   "id": "2b93c3c0",
   "metadata": {},
   "outputs": [
    {
     "name": "stdout",
     "output_type": "stream",
     "text": [
      "root\n",
      " |-- drug_exposure_start_date: date (nullable = true)\n",
      " |-- drug_source_value: string (nullable = true)\n",
      " |-- drug_exposure_end_datetime: date (nullable = true)\n",
      " |-- drug_type_concept_id: integer (nullable = true)\n",
      " |-- drug_concept_id: long (nullable = true)\n",
      " |-- person_id: integer (nullable = true)\n",
      " |-- visit_occurrence_id: integer (nullable = true)\n",
      " |-- drug_exposure_id: integer (nullable = true)\n",
      "\n"
     ]
    }
   ],
   "source": [
    "drug.printSchema()"
   ]
  },
  {
   "cell_type": "code",
   "execution_count": 13,
   "id": "77d63a30",
   "metadata": {},
   "outputs": [
    {
     "name": "stderr",
     "output_type": "stream",
     "text": [
      "[Stage 34:==============================================>        (57 + 10) / 67]\r"
     ]
    },
    {
     "name": "stdout",
     "output_type": "stream",
     "text": [
      "+-------+--------------------+\n",
      "|summary| visit_occurrence_id|\n",
      "+-------+--------------------+\n",
      "|  count|           446134022|\n",
      "|   mean|3.0849558567280805E8|\n",
      "| stddev|1.2881189733768925E8|\n",
      "|    min|            85386715|\n",
      "|    max|           531604067|\n",
      "+-------+--------------------+\n",
      "\n"
     ]
    },
    {
     "name": "stderr",
     "output_type": "stream",
     "text": [
      "\r",
      "                                                                                \r"
     ]
    }
   ],
   "source": [
    "drug.describe(\"visit_occurrence_id\").show()"
   ]
  },
  {
   "cell_type": "code",
   "execution_count": 14,
   "id": "9dfd97fe",
   "metadata": {},
   "outputs": [
    {
     "name": "stderr",
     "output_type": "stream",
     "text": [
      "[Stage 37:=======================================================>(66 + 1) / 67]\r"
     ]
    },
    {
     "name": "stdout",
     "output_type": "stream",
     "text": [
      "+-------+--------------------+\n",
      "|summary|    drug_exposure_id|\n",
      "+-------+--------------------+\n",
      "|  count|           446134022|\n",
      "|   mean|2.2306701050000003E8|\n",
      "| stddev| 1.287877989925135E8|\n",
      "|    min|                   0|\n",
      "|    max|           446134021|\n",
      "+-------+--------------------+\n",
      "\n"
     ]
    },
    {
     "name": "stderr",
     "output_type": "stream",
     "text": [
      "\r",
      "                                                                                \r"
     ]
    }
   ],
   "source": [
    "drug.describe(\"drug_exposure_id\").show()"
   ]
  },
  {
   "cell_type": "code",
   "execution_count": 15,
   "id": "444f14d6",
   "metadata": {},
   "outputs": [
    {
     "data": {
      "text/plain": [
       "45"
      ]
     },
     "execution_count": 15,
     "metadata": {},
     "output_type": "execute_result"
    }
   ],
   "source": [
    "len(\"Vacina covid-19 - Ad26.COV2.S - Janssen-Cilag\")"
   ]
  },
  {
   "cell_type": "code",
   "execution_count": 16,
   "id": "a5153631",
   "metadata": {},
   "outputs": [
    {
     "name": "stderr",
     "output_type": "stream",
     "text": [
      "[Stage 40:=======================================================>(66 + 1) / 67]\r"
     ]
    },
    {
     "name": "stdout",
     "output_type": "stream",
     "text": [
      "+---------------+---------------------------------------------------------+---------+\n",
      "|drug_concept_id|drug_source_value                                        |count    |\n",
      "+---------------+---------------------------------------------------------+---------+\n",
      "|37003436       |Vacina covid-19 - BNT162b2 - BioNTech/Fosun Pharma/Pfizer|181277235|\n",
      "|36941610       |Covid-19-Coronavac-Sinovac/Butantan                      |103615299|\n",
      "|739906         |Vacina covid-19 - Ad26.COV2.S - Janssen-Cilag            |25182248 |\n",
      "|724905         |Covid-19-AstraZeneca                                     |136059240|\n",
      "+---------------+---------------------------------------------------------+---------+\n",
      "\n"
     ]
    },
    {
     "name": "stderr",
     "output_type": "stream",
     "text": [
      "\r",
      "                                                                                \r"
     ]
    }
   ],
   "source": [
    "drug.groupBy(\"drug_concept_id\",\"drug_source_value\").count().orderBy(F.desc(\"drug_concept_id\")).show(30,False)"
   ]
  },
  {
   "cell_type": "code",
   "execution_count": 17,
   "id": "b9607302",
   "metadata": {},
   "outputs": [],
   "source": [
    "drug = drug.withColumn(\"drug_source_value\",F.when(F.col(\"drug_source_value\") == \"Vacina covid-19 - BNT162b2 - BioNTech/Fosun Pharma/Pfizer\", \"pfizer\" ).otherwise(F.col(\"drug_source_value\"))  )"
   ]
  },
  {
   "cell_type": "code",
   "execution_count": 30,
   "id": "2586f157",
   "metadata": {},
   "outputs": [],
   "source": [
    "#drug = drug.withColumn(\"drug_concept_id\",F.when(F.col(\"drug_concept_id\") == \"724905\", \"pfizer\" ).otherwise(F.col(\"drug_source_value\"))  )"
   ]
  },
  {
   "cell_type": "code",
   "execution_count": 31,
   "id": "4f74a771",
   "metadata": {},
   "outputs": [],
   "source": [
    "#drug.groupBy(\"drug_concept_id\",\"drug_source_value\").count().orderBy(F.desc(\"drug_concept_id\")).show(30,False)"
   ]
  },
  {
   "cell_type": "code",
   "execution_count": 32,
   "id": "fe7e29b8",
   "metadata": {},
   "outputs": [],
   "source": [
    "#drug_v2 = drug.filter(F.col(\"drug_concept_id\") != \"724905\")"
   ]
  },
  {
   "cell_type": "code",
   "execution_count": 18,
   "id": "d78e11e4",
   "metadata": {},
   "outputs": [
    {
     "data": {
      "text/plain": [
       "0"
      ]
     },
     "execution_count": 18,
     "metadata": {},
     "output_type": "execute_result"
    }
   ],
   "source": [
    "drug.filter(F.col(\"drug_exposure_end_datetime\").isNull()  ).count()"
   ]
  },
  {
   "cell_type": "code",
   "execution_count": 19,
   "id": "9b2bb285",
   "metadata": {},
   "outputs": [],
   "source": [
    "drug = drug.withColumnRenamed(\"drug_exposure_end_datetime\",\"drug_exposure_end_date\")"
   ]
  },
  {
   "cell_type": "code",
   "execution_count": 21,
   "id": "c472e502",
   "metadata": {},
   "outputs": [
    {
     "name": "stderr",
     "output_type": "stream",
     "text": [
      "[Stage 46:======================================================> (65 + 2) / 67]\r"
     ]
    },
    {
     "name": "stdout",
     "output_type": "stream",
     "text": [
      "+---------------+---------------------------------------------+---------+\n",
      "|drug_concept_id|drug_source_value                            |count    |\n",
      "+---------------+---------------------------------------------+---------+\n",
      "|37003436       |pfizer                                       |181277235|\n",
      "|36941610       |Covid-19-Coronavac-Sinovac/Butantan          |103615299|\n",
      "|739906         |Vacina covid-19 - Ad26.COV2.S - Janssen-Cilag|25182248 |\n",
      "|724905         |Covid-19-AstraZeneca                         |136059240|\n",
      "+---------------+---------------------------------------------+---------+\n",
      "\n"
     ]
    },
    {
     "name": "stderr",
     "output_type": "stream",
     "text": [
      "\r",
      "                                                                                \r"
     ]
    }
   ],
   "source": [
    "drug.groupBy(\"drug_concept_id\",\"drug_source_value\").count().orderBy(F.desc(\"drug_concept_id\")).show(30,False)"
   ]
  },
  {
   "cell_type": "code",
   "execution_count": 22,
   "id": "24e4651f",
   "metadata": {},
   "outputs": [
    {
     "name": "stdout",
     "output_type": "stream",
     "text": [
      "root\n",
      " |-- drug_exposure_start_date: date (nullable = true)\n",
      " |-- drug_source_value: string (nullable = true)\n",
      " |-- drug_exposure_end_date: date (nullable = true)\n",
      " |-- drug_type_concept_id: integer (nullable = true)\n",
      " |-- drug_concept_id: long (nullable = true)\n",
      " |-- person_id: integer (nullable = true)\n",
      " |-- visit_occurrence_id: integer (nullable = true)\n",
      " |-- drug_exposure_id: integer (nullable = true)\n",
      "\n"
     ]
    }
   ],
   "source": [
    "drug.printSchema()"
   ]
  },
  {
   "cell_type": "code",
   "execution_count": 23,
   "id": "1ac8ccaa",
   "metadata": {},
   "outputs": [
    {
     "name": "stderr",
     "output_type": "stream",
     "text": [
      "                                                                                \r"
     ]
    }
   ],
   "source": [
    "\n",
    "options = {\n",
    "    \"url\": \"jdbc:postgresql://localhost:5432/postgres\",\n",
    "    \"dbtable\": \"omop54_v2.drug_exposure\",\n",
    "    \"user\": \"postgres\",\n",
    "    \"password\": \"omop2023\",\n",
    "    \"postgreSQLConf\": \"constraint.mode=noconstraints\"\n",
    "}\n",
    "\n",
    "drug.write \\\n",
    "    .format(\"jdbc\") \\\n",
    "    .options(**options) \\\n",
    "    .mode(\"append\") \\\n",
    "    .save()"
   ]
  }
 ],
 "metadata": {
  "kernelspec": {
   "display_name": "Python 3 (ipykernel)",
   "language": "python",
   "name": "python3"
  },
  "language_info": {
   "codemirror_mode": {
    "name": "ipython",
    "version": 3
   },
   "file_extension": ".py",
   "mimetype": "text/x-python",
   "name": "python",
   "nbconvert_exporter": "python",
   "pygments_lexer": "ipython3",
   "version": "3.10.12"
  }
 },
 "nbformat": 4,
 "nbformat_minor": 5
}
