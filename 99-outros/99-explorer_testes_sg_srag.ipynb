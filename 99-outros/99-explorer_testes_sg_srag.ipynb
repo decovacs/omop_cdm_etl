{
 "cells": [
  {
   "cell_type": "code",
   "execution_count": 1,
   "id": "ec5c40f2",
   "metadata": {},
   "outputs": [
    {
     "data": {
      "text/html": [
       "<style>.container { width:100% !important; }</style>"
      ],
      "text/plain": [
       "<IPython.core.display.HTML object>"
      ]
     },
     "metadata": {},
     "output_type": "display_data"
    }
   ],
   "source": [
    "from IPython.display import display, HTML\n",
    "display(HTML(\"<style>.container { width:100% !important; }</style>\"))\n",
    "from pyspark.sql import functions as F\n",
    "from pyspark.sql.types import *\n",
    "sc.setCheckpointDir(\"/dados10t/datalake/raw/checkpint_dir/\")"
   ]
  },
  {
   "cell_type": "code",
   "execution_count": null,
   "id": "9826e8ec",
   "metadata": {},
   "outputs": [],
   "source": [
    "df = spark.read.parquet(\"/dados10t/datalake/raw/vigivac/srag/dbsrag_tb_influd_from_pandas_09072022.parquet/\")"
   ]
  },
  {
   "cell_type": "code",
   "execution_count": null,
   "id": "07c1f62d",
   "metadata": {},
   "outputs": [],
   "source": []
  },
  {
   "cell_type": "code",
   "execution_count": null,
   "id": "5bcd551d",
   "metadata": {},
   "outputs": [],
   "source": []
  },
  {
   "cell_type": "code",
   "execution_count": null,
   "id": "2efb5c96",
   "metadata": {},
   "outputs": [],
   "source": []
  },
  {
   "cell_type": "code",
   "execution_count": 6,
   "id": "3e259ae8",
   "metadata": {},
   "outputs": [],
   "source": [
    "df = spark.read.parquet(\"/dados10t/datalake/raw/vigivac/srag/dbsrag_tb_influd_from_pandas_09072022.parquet/\")"
   ]
  },
  {
   "cell_type": "code",
   "execution_count": 10,
   "id": "14c33b2d",
   "metadata": {},
   "outputs": [
    {
     "name": "stderr",
     "output_type": "stream",
     "text": [
      "\r",
      "[Stage 12:===========================================>              (3 + 1) / 4]\r"
     ]
    },
    {
     "name": "stdout",
     "output_type": "stream",
     "text": [
      "+--------------------+----------+----------+-------+----------+-------+---------+--------------------+----------+--------------------+----------+--------------------+----------+-------+----------+----------+--------+---------+----------+-------+---------+----------+--------+-------+-------+-----+--------------------+----------+-------------------+----------+--------------------+-------+--------+----------+---------+-----+-----+--------+--------+---------+---------+--------+------+---------+---------+----------+--------+----------+----------+---------+--------+----+--------+----------+----------+----------+-----+---------+--------+---------+--------------------+------+----------+-------+----------+----------+----------+---------+---------+---------+----------+---------+----------+--------+----------+----------+--------------------+----------+--------------------+----------+--------------------+----------+----+----------+----------+----------+---------+---------+----------+-------+----------+----------+------------+-----------------+---------+----------+----------+----------+----------+----------+----------+----------+----------+-------+---------+---------+---------+---------+---------+---------+--------+--------+---------+----------+--------------------+----------+----------+----------+--------+--------+----------+----------+----------+---------+--------+---------+---------+------+---------+---------+---------+---------+--------+-------+------+---------+---------+--------+--------+----------+---------+----------+------+--------------------+---------+----------+---------+----------+--------+------+--------+--------+--------+--------+--------+---------+---------+-------+----------+------+-------+----------+-------+-------+-------+-----+-------+----------+----------+----------+--------------------+----------+----------+----------+\n",
      "|         id_paciente|st_notific|dt_notific|sem_not|dt_sin_pri|sem_pri|sg_uf_not|          id_regiona|co_regiona|          id_municip|co_mun_not|          id_unidade|co_uni_not|cs_sexo|   dt_nasc|nu_idade_n|tp_idade|cod_idade|cs_gestant|cs_raca|cs_etinia|cs_escol_n|  nu_cep|id_pais|co_pais|sg_uf|          id_rg_resi|co_rg_resi|         id_mn_resi|co_mun_res|           nm_bairro|cs_zona|surto_sg|nosocomial|ave_suino|febre|tosse|garganta|dispneia|desc_resp|saturacao|diarreia|vomito|outro_sin|outro_des|fator_risc|puerpera|cardiopati|hematologi|sind_down|hepatica|asma|diabetes|neurologic|pneumopati|imunodepre|renal|obesidade|obes_imc|out_morbi|           morb_desc|vacina|dt_ut_dose|mae_vac|dt_vac_mae|m_amamenta|dt_doseuni|dt_1_dose|dt_2_dose|antiviral|tp_antivir|out_antiv|dt_antivir|hospital|dt_interna|sg_uf_inte|          id_rg_inte|co_rg_inte|          id_mn_inte|co_mu_inte|          nm_un_inte|co_un_inte| uti| dt_entuti|dt_saiduti|suport_ven|raiox_res|raiox_out|  dt_raiox|amostra| dt_coleta|tp_amostra|   out_amost|st_requisicao_gal|pcr_resul|    dt_pcr|pos_pcrflu|tp_flu_pcr|pcr_fluasu|fluasu_out|pcr_flubli|flubli_out|pos_pcrout|pcr_vsr|pcr_para1|pcr_para2|pcr_para3|pcr_para4|pcr_adeno|pcr_metap|pcr_boca|pcr_rino|pcr_outro|ds_pcr_out|             lab_pcr|co_lab_pcr|classi_fin|classi_out|criterio|evolucao|dt_evoluca|dt_encerra| dt_digita|histo_vgm|pais_vgm|co_ps_vgm|lo_ps_vgm|dt_vgm|dt_rt_vgm|pcr_sars2|pac_cocbo|pac_dscbo|out_anim|dor_abd|fadiga|perd_olft|perd_pala|tomo_res|tomo_out|   dt_tomo|tp_tes_an| dt_res_an|res_an|              lab_an|co_lab_an|pos_an_flu|tp_flu_an|pos_an_out|an_sars2|an_vsr|an_para1|an_para2|an_para3|an_adeno|an_outro|ds_an_out|tp_am_sor|sor_out| dt_co_sor|tp_sor|out_sor|    dt_res|res_igg|res_igm|res_iga|st_do|estrang|vacina_cov|dose_1_cov|dose_2_cov|          lab_pr_cov|lote_1_cov|lote_2_cov|fnt_in_cov|\n",
      "+--------------------+----------+----------+-------+----------+-------+---------+--------------------+----------+--------------------+----------+--------------------+----------+-------+----------+----------+--------+---------+----------+-------+---------+----------+--------+-------+-------+-----+--------------------+----------+-------------------+----------+--------------------+-------+--------+----------+---------+-----+-----+--------+--------+---------+---------+--------+------+---------+---------+----------+--------+----------+----------+---------+--------+----+--------+----------+----------+----------+-----+---------+--------+---------+--------------------+------+----------+-------+----------+----------+----------+---------+---------+---------+----------+---------+----------+--------+----------+----------+--------------------+----------+--------------------+----------+--------------------+----------+----+----------+----------+----------+---------+---------+----------+-------+----------+----------+------------+-----------------+---------+----------+----------+----------+----------+----------+----------+----------+----------+-------+---------+---------+---------+---------+---------+---------+--------+--------+---------+----------+--------------------+----------+----------+----------+--------+--------+----------+----------+----------+---------+--------+---------+---------+------+---------+---------+---------+---------+--------+-------+------+---------+---------+--------+--------+----------+---------+----------+------+--------------------+---------+----------+---------+----------+--------+------+--------+--------+--------+--------+--------+---------+---------+-------+----------+------+-------+----------+-------+-------+-------+-----+-------+----------+----------+----------+--------------------+----------+----------+----------+\n",
      "|d45156805ffbfad3c...|         S|20/09/2021|     38|19/09/2021|     38|       SP|       GVE I CAPITAL|      1331|           SAO PAULO|    355030|HOSPITAL NIPO BRA...|   2089777|      M|07/07/2017|         4|       3|     3004|         6|      9|     null|      null|07097380| BRASIL|      1|   SP|GVE VIII MOGI DAS...|      1333|          GUARULHOS|    351880|JARDIM FLOR DA MO...|      1|    null|         2|        2|    1|    1|    null|    null|     null|     null|    null|  null|     null|     null|         2|    null|      null|      null|     null|    null|null|    null|      null|      null|      null| null|     null|    null|     null|                null|  null|      null|   null|      null|      null|      null|     null|     null|        2|      null|     null|      null|       1|20/09/2021|      null|                null|      null|                null|      null|                null|      null|   2|      null|      null|         3|        3|     null|      null|      1|20/09/2021|         1|        null|                N|        2|21/09/2021|      null|      null|      null|      null|      null|      null|      null|   null|     null|     null|     null|     null|     null|     null|    null|    null|     null|      null|                null|      null|         4|      null|       1|       1|23/09/2021|27/09/2021|21/09/2021|        0|    null|     null|     null|  null|     null|     null|     null|     null|    null|   null|  null|     null|     null|       6|    null|      null|     null|      null|     5|                null|     null|      null|     null|      null|    null|  null|    null|    null|    null|    null|    null|     null|     null|   null|      null|  null|   null|      null|   null|   null|   null|    N|      2|      null|      null|      null|                null|      null|      null|      null|\n",
      "|1dfcffbdbb00914cc...|         S|20/09/2021|     38|07/09/2021|     36|       DF|                null|      null|            BRASILIA|    530010|UPA NUCLEO BANDEI...|   7111924|      M|29/07/1967|        54|       3|     3054|         6|      4|     null|         9|    null| BRASIL|      1|   DF|                null|      null| NUCLEO BANDEIRANTE|    530100|                null|      1|    null|         9|        9|    1|    2|       2|       1|        1|        1|       2|     2|        2|     null|         2|    null|      null|      null|     null|    null|null|    null|      null|      null|      null| null|     null|    null|     null|                null|     9|      null|   null|      null|      null|      null|     null|     null|        2|      null|     null|      null|       1|17/09/2021|        DF|                null|      null|            BRASILIA|    530010|HRSAM HOSPITAL RE...|   2672197|   2|      null|      null|         2|        4|     null|      null|      1|08/09/2021|         1|        null|                N|        1|11/09/2021|      null|      null|      null|      null|      null|      null|         1|   null|     null|     null|     null|     null|     null|     null|    null|    null|     null|      null|                null|      null|         5|      null|       1|       1|24/09/2021|24/09/2021|20/09/2021|        0|    null|     null|     null|  null|     null|        1|     null|     null|    null|      2|     1|        2|        2|       6|    null|      null|     null|      null|  null|                null|     null|      null|     null|      null|    null|  null|    null|    null|    null|    null|    null|     null|     null|   null|      null|  null|   null|      null|   null|   null|   null|    N|      2|         1|29/07/2021|26/10/2021|87 - COVID-19 PFI...|    FD7221|   31065BD|         2|\n",
      "|5d2e30a3e0106275d...|         S|20/09/2021|     38|17/09/2021|     37|       MG|         DIVINOPOLIS|      1472|         ITAPECERICA|    313350|SANTA CASA DE ITA...|   2143895|      F|10/06/1936|        85|       3|     3085|         6|      4|     null|         1|35550000| BRASIL|      1|   MG|         DIVINOPOLIS|      1472|        ITAPECERICA|    313350|              CENTRO|      1|    null|         2|     null|    1|    2|       2|       1|        1|        1|       2|     2|        2|     null|         2|    null|      null|      null|     null|    null|null|    null|      null|      null|      null| null|     null|    null|     null|                null|     9|      null|   null|      null|      null|      null|     null|     null|        9|      null|     null|      null|       1|22/09/2021|        MG|         DIVINOPOLIS|      1472|         DIVINOPOLIS|    312230|HOSPITAL SANTA LU...|   2192012|   9|      null|      null|         9|        9|     null|      null|      1|20/09/2021|         1|        null|                N|        5|      null|      null|      null|      null|      null|      null|      null|      null|   null|     null|     null|     null|     null|     null|     null|    null|    null|     null|      null|LABORATORIO SANTA...|   0483907|         5|      null|       2|       2|14/10/2021|16/10/2021|16/10/2021|        0|    null|     null|     null|  null|     null|     null|     null|     null|    null|      2|     2|        2|        2|       9|    null|      null|        2|20/09/2021|     5|                null|     null|      null|     null|      null|    null|  null|    null|    null|    null|    null|    null|     null|        9|   null|      null|     1|   null|      null|      4|      4|      4|    N|      2|         1|12/03/2021|29/03/2021|86 - COVID-19 SIN...|    210040|    210071|         2|\n",
      "|ebcd0c70869a7e18d...|         S|20/09/2021|     38|03/09/2021|     35|       PR|  02RS METROPOLITANA|      1356|            CURITIBA|    410690|COMPLEXO HOSPITAL...|   0015369|      M|17/08/1979|        42|       3|     3042|         6|      4|     null|      null|83833150| BRASIL|      1|   PR|  02RS METROPOLITANA|      1356| FAZENDA RIO GRANDE|    410765|              IGUACU|      1|    null|         2|        2| null| null|    null|       1|        1|        1|    null|  null|     null|     null|         2|    null|      null|      null|     null|    null|null|    null|      null|      null|      null| null|     null|    null|     null|                null|  null|      null|   null|      null|      null|      null|     null|     null|        2|      null|     null|      null|       1|19/09/2021|        PR|  02RS METROPOLITANA|      1356|            CURITIBA|    410690|COMPLEXO HOSPITAL...|   0015369|   1|19/09/2021|28/10/2021|         2|        6|     null|      null|      1|06/09/2021|         1|        null|                N|        1|08/09/2021|         2|      null|      null|      null|      null|      null|         1|   null|     null|     null|     null|     null|     null|     null|    null|    null|     null|      null|                null|      null|         5|      null|       1|       1|01/11/2021|10/11/2021|20/09/2021|        0|    null|     null|     null|  null|     null|        1|     null|     null|    null|   null|  null|     null|     null|       6|    null|      null|     null|      null|     4|                null|     null|      null|     null|      null|    null|  null|    null|    null|    null|    null|    null|     null|     null|   null|      null|  null|   null|      null|   null|   null|   null|    N|      2|         1|04/11/2021|      null|86 - COVID-19 SIN...|    210468|      null|         2|\n",
      "|aaa376cad7983adfc...|         S|20/09/2021|     38|18/09/2021|     37|       PE|                 001|      1497|              RECIFE|    261160|SOCIEDADE HOSPITA...|   0147028|      M|27/06/1949|        72|       3|     3072|         6|      9|     null|      null|51010172| BRASIL|      1|   PE|                 001|      1497|             RECIFE|    261160|                PINA|   null|    null|         9|        9|    2|    1|       2|       1|        2|        2|       2|     2|        2|     null|         2|    null|      null|      null|     null|    null|null|    null|      null|      null|      null| null|     null|    null|     null|                null|     9|      null|   null|      null|      null|      null|     null|     null|        9|      null|     null|      null|       1|20/09/2021|        PE|                 001|      1497|              RECIFE|    261160|SOCIEDADE HOSPITA...|   0147028|   1|20/09/2021|      null|         1|     null|     null|      null|      1|20/09/2021|         1|        null|                S|        2|22/09/2021|      null|      null|      null|      null|      null|      null|      null|   null|     null|     null|     null|     null|     null|     null|    null|    null|     null|      null|LAB CENTRAL DE SA...|   2712075|         4|      null|       1|       1|22/09/2021|22/09/2021|03/10/2021|        0|    null|     null|     null|  null|     null|     null|     null|     null|    null|      2|     2|        2|        2|    null|    null|      null|     null|      null|     5|                null|     null|      null|     null|      null|    null|  null|    null|    null|    null|    null|    null|     null|     null|   null|      null|  null|   null|      null|   null|   null|   null|    N|      2|         9|      null|      null|                null|      null|      null|         1|\n",
      "|2aa4bf63b32c7656a...|         S|20/09/2021|     38|31/08/2021|     35|       MG|GOVERNADOR VALADARES|      1471|GOVERNADOR VALADARES|    312770|HOSPITAL UNIMED G...|   6236367|      F|08/05/1947|        74|       3|     3074|         5|      1|     null|         9|    null| BRASIL|      1|   MG|       TEOFILO OTONI|      1465|      PADRE PARAISO|    314630|CORONEL OLINTO VI...|      1|    null|         2|        2|    2|    1|       1|       1|        1|        1|       2|     1|        2|     null|         1|       2|         2|         2|        2|       2|   2|       2|         2|         2|         2|    2|        2|    null|        1|CA MAMA /METASTAS...|     2|      null|   null|      null|      null|      null|     null|     null|        9|      null|     null|      null|       1|14/09/2021|        MG|GOVERNADOR VALADARES|      1471|GOVERNADOR VALADARES|    312770|HOSPITAL UNIMED G...|   6236367|   2|      null|      null|         2|        5|     null|20/09/2021|      1|14/09/2021|         1|        null|                N|        4|      null|      null|      null|      null|      null|      null|      null|      null|   null|     null|     null|     null|     null|     null|     null|    null|    null|     null|      null|                null|      null|         4|      null|       1|       1|25/09/2021|07/12/2021|22/09/2021|        0|    null|     null|     null|  null|     null|     null|     null|     null|    null|      1|     1|        2|        2|       1|    null|15/09/2021|        2|14/09/2021|     2|  LABORATORIO UNIMED|  2430509|      null|     null|      null|    null|  null|    null|    null|    null|    null|    null|     null|     null|   null|      null|  null|   null|      null|      4|      4|      4|    N|      2|         1|30/03/2021|17/04/2021|86 - COVID-19 SIN...|    210071|    210115|         2|\n",
      "|3b4b3b10cf53af19e...|         S|20/09/2021|     38|05/09/2021|     36|       MG|          LEOPOLDINA|      1453|          LEOPOLDINA|    313840|CASA DE CARIDADE ...|   2122650|      M|27/01/1959|        62|       3|     3062|         6|      1|     null|         3|36700084| BRASIL|      1|   MG|          LEOPOLDINA|      1453|         LEOPOLDINA|    313840|              CENTRO|      1|    null|         2|        2|    2|    1|       1|       2|        2|        1|       2|     2|        2|     null|         2|    null|      null|      null|     null|    null|null|    null|      null|      null|      null| null|     null|    null|     null|                null|     2|      null|   null|      null|      null|      null|     null|     null|        9|      null|     null|      null|       1|20/09/2021|        MG|          LEOPOLDINA|      1453|          LEOPOLDINA|    313840|CASA DE CARIDADE ...|   2122650|   2|      null|      null|         3|     null|     null|      null|      1|09/09/2021|         1|        null|                N|        5|      null|      null|      null|      null|      null|      null|      null|      null|   null|     null|     null|     null|     null|     null|     null|    null|    null|     null|      null|                null|      null|         5|      null|       1|       1|28/09/2021|05/10/2021|23/09/2021|        0|    null|     null|     null|  null|     null|     null|     null|     null|    null|      2|     1|        2|        2|       5|    null|20/09/2021|        2|09/09/2021|     1|                null|     null|      null|     null|         1|       1|  null|    null|    null|    null|    null|    null|     null|     null|   null|      null|  null|   null|      null|   null|   null|   null|    N|   null|         2|      null|      null|                null|      null|      null|         1|\n",
      "|fc11525006e97287d...|         S|20/09/2021|     38|14/09/2021|     37|       DF|                null|      null|            BRASILIA|    530010|                HRBZ|   0010545|      F|14/04/1953|        68|       3|     3068|         5|      4|     null|         9|    null| BRASIL|      1|   GO|            PIRINEUS|      1792|COCALZINHO DE GOIAS|    520551|                null|      1|    null|         2|        9|    2|    1|       2|       1|        1|        1|       9|     9|        1| DELIRIO,|         1|       2|         1|         9|        9|       2|   9|       2|         2|         2|         1|    2|        1|    null|        1|                DPOC|     9|      null|   null|      null|      null|      null|     null|     null|        2|      null|     null|      null|       1|17/09/2021|        DF|                null|      null|            BRASILIA|    530010|                HRBZ|   0010545|   1|18/09/2021|02/10/2021|         1|        6|     null|      null|      1|17/09/2021|         1|        null|                N|        2|17/09/2021|      null|      null|      null|      null|      null|      null|      null|   null|     null|     null|     null|     null|     null|     null|    null|    null|     null|      null|            LACEN DF|   0011371|         4|      null|       3|       2|02/10/2021|10/11/2021|20/09/2021|        0|    null|     null|     null|  null|     null|     null|     null|     null|    null|      9|     1|        9|        9|       6|    null|      null|        2|17/09/2021|     2|                HRBZ|  0010545|      null|     null|      null|    null|  null|    null|    null|    null|    null|    null|     null|     null|   null|      null|  null|   null|17/09/2021|      2|      2|      4|    N|      2|         1|26/04/2021|29/03/2021|COVID-19-CORONAVA...|    210050|    210120|         1|\n",
      "|2e83b34648a391b24...|         S|20/09/2021|     38|22/08/2021|     34|       RJ|                null|      null|         NOVA IGUACU|    330350|                HGNI|   2798662|      M|21/02/1950|        71|       3|     3071|         6|      4|     null|         9|26040550| BRASIL|      1|   RJ|                null|      null|        NOVA IGUACU|    330350|        PARQUE FLORA|      1|    null|         1|        9| null| null|    null|    null|     null|     null|    null|  null|     null|     null|         1|    null|         1|      null|     null|    null|null|       1|      null|      null|      null| null|     null|    null|     null|                null|     9|      null|   null|      null|      null|      null|     null|     null|        9|      null|     null|      null|       1|22/08/2021|        RJ|                null|      null|         NOVA IGUACU|    330350|                HGNI|   2798662|   2|      null|      null|         3|        1|     null|      null|      1|20/09/2021|         1|        null|                S|        1|21/09/2021|         2|      null|      null|      null|      null|      null|         1|   null|     null|     null|     null|     null|     null|     null|    null|    null|     null|      null|UNIDADE DE APOIO ...|   0149101|         5|      null|       1|       9|      null|22/09/2021|14/09/2021|        0|    null|     null|     null|  null|     null|        1|     null|     null|    null|   null|  null|     null|     null|       1|    null|20/09/2021|     null|      null|  null|                null|     null|      null|     null|      null|    null|  null|    null|    null|    null|    null|    null|     null|     null|   null|      null|  null|   null|      null|   null|   null|   null|    N|      2|         9|      null|      null|                null|      null|      null|         1|\n",
      "|2bfc6b25245e4cd6a...|         S|20/09/2021|     38|06/09/2021|     36|       RN|           VII URSAP|      1416|               NATAL|    240810|HOSPITAL ANTONIO ...|   2654024|      F|25/03/1942|        79|       3|     3079|         9|      9|     null|         9|59000000| BRASIL|      1|   RN|           VII URSAP|      1416|              NATAL|    240810|                null|      9|    null|         2|        9|    2|    1|       2|       1|        2|        1|       2|     2|        2|     null|         1|       2|         2|         2|        2|       2|   2|       2|         2|         2|         2|    2|        2|    null|        1|           ALZHEIMER|     9|      null|   null|      null|      null|      null|     null|     null|        2|      null|     null|      null|       1|13/09/2021|        RN|           VII URSAP|      1416|               NATAL|    240810|HOSPITAL ANTONIO ...|   2654024|   2|      null|      null|         2|        9|     null|      null|      1|13/09/2021|         4|TESTE RAPIDO|                N|        4|      null|      null|      null|      null|      null|      null|      null|      null|   null|     null|     null|     null|     null|     null|     null|    null|    null|     null|      null|                null|      null|         4|      null|       1|       3|19/09/2021|20/09/2021|27/12/2021|        0|    null|     null|     null|  null|     null|     null|     null|     null|    null|      2|     2|        2|        2|       9|    null|      null|        2|13/09/2021|     2|HOSPITAL ANTONIO ...|  2654024|      null|     null|      null|    null|  null|    null|    null|    null|    null|    null|     null|     null|   null|      null|  null|   null|      null|   null|   null|   null|    S|      2|         1|      null|04/05/2021|   FUNDACAO BUTANTAN|      null|    210147|         1|\n",
      "|0f6dd424b41ba4235...|         S|20/09/2021|     38|02/08/2021|     31|       SP|      GVE XXV SANTOS|      1349|             GUARUJA|    351870|INST DE INFECT EM...|   7544529|      M|17/06/1938|        83|       3|     3083|         6|      4|     null|         1|11730000| BRASIL|      1|   SP|      GVE XXV SANTOS|      1349|           MONGAGUA|    353110| JARDIM PRAIA GRANDE|      1|    null|         2|        2|    9|    1|       9|       1|        2|        1|       9|     9|        9|     null|         1|       2|         2|         2|        1|       2|   2|       1|         1|         2|         2|    2|        2|    null|        2|                null|     1|12/07/2021|   null|      null|      null|      null|     null|     null|        2|      null|     null|      null|       1|06/09/2021|        SP|      GVE XXV SANTOS|      1349|             GUARUJA|    351870|INST DE INFECT EM...|   7544529|   1|06/09/2021|14/09/2021|         1|        6|     null|      null|      1|07/09/2021|         1|        null|                N|        2|08/09/2021|      null|      null|      null|      null|      null|      null|      null|   null|     null|     null|     null|     null|     null|     null|    null|    null|     null|      null|AMBULATORIO DE ES...|   2789582|         5|      null|       4|       2|14/09/2021|24/02/2022|30/10/2021|        0|    null|     null|     null|  null|     null|     null|     null|     null|    null|      9|     9|        9|        9|       1|    null|06/09/2021|     null|      null|  null|                null|     null|      null|     null|      null|    null|  null|    null|    null|    null|    null|    null|     null|        1|   null|10/09/2021|     3|   null|10/09/2021|      3|      3|   null|    S|      2|         1|08/03/2021|      null|86 - COVID-19 SIN...|    210044|      null|         2|\n",
      "|aeca8231b6e86a03c...|         S|20/09/2021|     38|08/09/2021|     36|       RJ|                null|      null|      RIO DE JANEIRO|    330455|SMS HOSPITAL MUNI...|   5717256|      M|13/12/1933|        87|       3|     3087|         6|      4|     null|         2|20970600| BRASIL|      1|   RJ|                null|      null|     RIO DE JANEIRO|    330455|             SAMPAIO|      1|    null|         2|        9| null|    1|    null|       1|     null|     null|    null|  null|     null|     null|         1|    null|         1|      null|     null|    null|null|       1|      null|      null|      null| null|     null|    null|     null|                null|  null|      null|   null|      null|      null|      null|     null|     null|     null|      null|     null|      null|       1|17/09/2021|        RJ|                null|      null|      RIO DE JANEIRO|    330455|SMS HOSPITAL MUNI...|   5717256|   1|17/09/2021|      null|         2|     null|     null|      null|      1|17/09/2021|         1|        null|                S|        1|18/09/2021|         2|      null|      null|      null|      null|      null|         1|   null|     null|     null|     null|     null|     null|     null|    null|    null|     null|      null|UNIDADE DE APOIO ...|   0149101|         5|      null|       1|       2|01/10/2021|10/10/2021|20/09/2021|        0|    null|     null|     null|  null|     null|        1|     null|     null|    null|   null|  null|     null|     null|       1|    null|17/09/2021|     null|      null|     5|                null|     null|      null|     null|      null|    null|  null|    null|    null|    null|    null|    null|     null|     null|   null|      null|  null|   null|      null|   null|   null|   null|    S|      2|         1|08/02/2021|08/03/2021|            BUTANTAN| 202010019|    210040|         1|\n",
      "|1793b0efcddd1b8f7...|         S|20/09/2021|     38|12/09/2021|     37|       PR|         20RS TOLEDO|      1374|            PALOTINA|    411790|HOSPITAL MUNICIPA...|   4054695|      F|20/04/1969|        52|       3|     3052|         5|      1|     null|         4|85950000| BRASIL|      1|   PR|         20RS TOLEDO|      1374|           PALOTINA|    411790|          BELA VISTA|      1|    null|         2|        2|    1|    1|       1|       2|        2|        1|       1|     2|        1|  TONTURA|         1|       2|         2|         2|        2|       1|   2|       2|         2|         2|         2|    2|        2|    null|        1|         HIPERTENSAO|     9|      null|   null|      null|      null|      null|     null|     null|        9|      null|     null|      null|       1|20/09/2021|        PR|         20RS TOLEDO|      1374|            PALOTINA|    411790|HOSPITAL MUNICIPA...|   4054695|   2|      null|      null|         2|     null|     null|      null|      1|13/09/2021|         4| NASOFARINGE|                S|        1|17/09/2021|         2|      null|      null|      null|      null|      null|         1|   null|     null|     null|     null|     null|     null|     null|    null|    null|     null|      null|LABORATORIO CENTR...|   2795965|         5|      null|       1|       1|04/10/2021|06/10/2021|20/09/2021|        0|    null|     null|     null|  null|     null|        1|     null|     null|    null|      2|     1|        2|        2|    null|    null|      null|     null|      null|     4|                null|     null|      null|     null|      null|    null|  null|    null|    null|    null|    null|    null|     null|     null|   null|      null|  null|   null|      null|   null|   null|   null|    N|      2|         1|22/06/2021|      null|              PFIZER|    FC2495|      null|         1|\n",
      "|f0aca42c1494a3344...|         S|20/09/2021|     38|19/09/2021|     38|       MG|                 UBA|      1464|              MURIAE|    314390|HOSPITAL PRONTOCO...|   4042107|      F|22/11/1941|        79|       3|     3079|         5|      1|     null|      null|36870000| BRASIL|      1|   MG|                 UBA|      1464|BARAO DE MONTE ALTO|    310550|          ZONA RURAL|      1|    null|         2|        2|    1|    2|       2|       1|        1|        1|       2|     2|        2|     null|         1|       2|         2|         2|        2|       2|   2|       2|         2|         2|         2|    2|        2|    null|        1|   BRONQUITE CRONICA|     2|      null|   null|      null|      null|      null|     null|     null|        2|      null|     null|      null|       1|20/09/2021|        MG|                 UBA|      1464|              MURIAE|    314390|HOSPITAL PRONTOCO...|   4042107|   2|      null|      null|         1|        2|     null|20/09/2021|      1|20/09/2021|         4|TESTE RAPIDO|                N|        4|      null|      null|      null|      null|      null|      null|      null|      null|   null|     null|     null|     null|     null|     null|     null|    null|    null|     null|      null|                null|      null|         4|      null|       1|       1|      null|22/09/2021|22/09/2021|        0|    null|     null|     null|  null|     null|     null|     null|     null|    null|      2|     2|        2|        2|    null|    null|      null|        2|20/09/2021|     2|                null|     null|      null|     null|      null|    null|  null|    null|    null|    null|    null|    null|     null|     null|   null|      null|  null|   null|      null|   null|   null|   null|    N|      2|         2|      null|      null|                null|      null|      null|         1|\n",
      "|9b27fd8b64b03d652...|         S|20/09/2021|     38|11/09/2021|     36|       PR|       17RS LONDRINA|      1371|            LONDRINA|    411370|HOSPITAL UNIVERSI...|   2781859|      M|23/01/1938|        83|       3|     3083|         6|      9|     null|         9|86220000| BRASIL|      1|   PR|       17RS LONDRINA|      1371|              ASSAI|    410190|                  NI|      1|    null|         2|        2|    2|    1|       2|       1|        1|        1|       2|     2|        2|     null|         1|       2|         1|         2|        2|       2|   2|       2|         2|         2|         2|    2|        2|    null|        1|                 HAS|     9|      null|   null|      null|      null|      null|     null|     null|        2|      null|     null|      null|       1|20/09/2021|        PR|       17RS LONDRINA|      1371|            LONDRINA|    411370|HOSPITAL UNIVERSI...|   2781859|   1|20/09/2021|03/10/2021|         1|        4|     null|20/09/2021|      1|21/09/2021|         1|        null|                S|        1|21/09/2021|         9|      null|      null|      null|      null|      null|         1|   null|     null|     null|     null|     null|     null|     null|    null|    null|     null|      null|HOSPITAL UNIVERSI...|   2781859|         5|      null|       1|       2|03/10/2021|21/10/2021|21/09/2021|        0|    null|     null|     null|  null|     null|        1|     null|     null|    null|      2|     2|        2|        2|       1|    null|21/09/2021|        2|21/09/2021|     1|LABORATORIO SAO L...|  2582406|         9|     null|         1|       1|  null|    null|    null|    null|    null|    null|     null|     null|   null|      null|  null|   null|      null|      4|      4|      4|    S|      2|         1|08/03/2021|01/04/2021|            BUTANTAN|    210046|    210056|         1|\n",
      "|f8f7ffb01ac8400d5...|         S|20/09/2021|     38|14/09/2021|     37|       DF|                null|      null|            BRASILIA|    530010|HOSPITAL REGIONAL...|   0010480|      M|27/01/1974|        47|       3|     3047|         6|      9|     null|         9|    null| BRASIL|      1|   DF|                null|      null|          CEILANDIA|    530040|       SETOR M IMPAR|      1|    null|         2|        2|    1|    2|       2|       1|        2|        1|       2|     2|        1| MIALGIA,|         2|    null|      null|      null|     null|    null|null|    null|      null|      null|      null| null|     null|    null|     null|                null|     9|      null|   null|      null|      null|      null|     null|     null|        2|      null|     null|      null|       1|20/09/2021|        DF|                null|      null|            BRASILIA|    530010|HOSPITAL DE CAMPA...|   0766216|   2|      null|      null|         2|        6|     null|      null|      1|19/09/2021|         1|        null|                N|        5|      null|      null|      null|      null|      null|      null|      null|      null|   null|     null|     null|     null|     null|     null|     null|    null|    null|     null|      null|                null|      null|         5|      null|       3|       1|24/09/2021|24/09/2021|20/09/2021|        0|    null|     null|     null|  null|     null|     null|     null|     null|    null|      2|     2|        1|        1|       1|    null|19/09/2021|        2|19/09/2021|     2|HOSPITAL REGIONAL...|  0010480|      null|     null|      null|    null|  null|    null|    null|    null|    null|    null|     null|     null|   null|      null|  null|   null|      null|   null|   null|   null|    N|      2|         2|      null|      null|                null|      null|      null|         1|\n",
      "|ad11e11bcb7b1a037...|         S|20/09/2021|     38|16/08/2021|     33|       RJ|                null|      null|      RIO DE JANEIRO|    330455| HOSPITAL EVANGELICO|   2273519|      F|28/09/1939|        81|       3|     3081|         6|      1|     null|         9|20541330| BRASIL|      1|   RJ|                null|      null|     RIO DE JANEIRO|    330455|              GRAJAU|      1|    null|         2|        2| null| null|    null|    null|     null|        1|    null|     1|        1|   NAUSEA|         1|    null|         1|      null|     null|    null|null|    null|      null|      null|      null| null|     null|    null|     null|                null|     9|      null|   null|      null|      null|      null|     null|     null|        9|      null|     null|      null|       1|17/08/2021|        RJ|                null|      null|      RIO DE JANEIRO|    330455| HOSPITAL EVANGELICO|   2273519|   1|17/08/2021|      null|         2|        9|     null|      null|      1|17/08/2021|         1|        null|                N|        5|      null|      null|      null|      null|      null|      null|      null|      null|   null|     null|     null|     null|     null|     null|     null|    null|    null|     null|      null|                null|      null|         5|      null|       1|    null|      null|20/09/2021|20/09/2021|        0|    null|     null|     null|  null|     null|     null|     null|     null|    null|   null|  null|     null|     null|       1|    null|16/08/2021|        2|17/08/2021|     1|                null|     null|         9|     null|         1|       1|  null|    null|    null|    null|    null|    null|     null|     null|   null|      null|  null|   null|      null|   null|   null|   null|    N|      2|         1|27/02/2021|27/05/2021|      OXFORD/FIOCRUZ|  4120Z026|214VCD058W|         1|\n",
      "|1db58d2bd5aa909f6...|         S|20/09/2021|     38|20/09/2021|     38|       RJ|                null|      null|      RIO DE JANEIRO|    330455|SES RJ HOSPITAL E...|   2298724|      F|13/08/1934|        87|       3|     3087|         5|      9|     null|         9|    null| BRASIL|      1|   RJ|                null|      null|     RIO DE JANEIRO|    330455|          COPACABANA|      1|    null|         2|        2|    2|    2|    null|       2|        2|        2|       2|     2|        2|     null|         1|       2|         1|         2|        2|       2|   2|       2|         2|         2|         2|    2|        2|    null|        2|                null|     2|      null|   null|      null|      null|      null|     null|     null|        2|      null|     null|      null|       1|20/09/2021|        RJ|                null|      null|      RIO DE JANEIRO|    330455|SES RJ HOSPITAL E...|   2298724|   2|      null|      null|         3|        6|     null|      null|      2|      null|      null|        null|                N|     null|      null|      null|      null|      null|      null|      null|      null|      null|   null|     null|     null|     null|     null|     null|     null|    null|    null|     null|      null|                null|      null|         5|      null|       3|       2|20/09/2021|20/09/2021|03/10/2021|        0|    null|     null|     null|  null|     null|     null|     null|     null|    null|      2|     2|        2|        2|       6|    null|      null|     null|      null|  null|                null|     null|      null|     null|      null|    null|  null|    null|    null|    null|    null|    null|     null|     null|   null|      null|  null|   null|      null|   null|   null|   null|    S|      2|         2|      null|      null|                null|      null|      null|         1|\n",
      "|a7d1fa4a6b2ef4a41...|         S|20/09/2021|     38|19/09/2021|     38|       MG|          DIAMANTINA|      1450|           TURMALINA|    316970|HOSPITAL SAO VICE...|   2135108|      M|01/01/1947|        74|       3|     3074|         6|      1|     null|         1|39660000| BRASIL|      1|   MG|          DIAMANTINA|      1450|          TURMALINA|    316970|      NOVA TURMALINA|      1|    null|         2|        2|    1|    2|       2|       1|        2|        1|       2|     2|        2|     null|         1|    null|      null|      null|     null|    null|null|    null|      null|      null|      null| null|     null|    null|        1|                 HAS|     9|      null|   null|      null|      null|      null|     null|     null|        2|      null|     null|      null|       1|20/09/2021|        MG|          DIAMANTINA|      1450|           TURMALINA|    316970|HOSPITAL SAO VICE...|   2135108|   2|      null|      null|         2|        1|     null|20/09/2021|      1|20/09/2021|         1|        null|                S|        2|22/09/2021|      null|      null|      null|      null|      null|      null|      null|   null|     null|     null|     null|     null|     null|     null|    null|    null|     null|      null|               UFVJM|   4040384|         4|      null|       1|       1|22/09/2021|18/10/2021|21/09/2021|        0|    null|     null|     null|  null|     null|     null|     null|     null|    null|      2|     2|        2|        2|       6|    null|      null|        2|      null|     4|                null|     null|      null|     null|      null|    null|  null|    null|    null|    null|    null|    null|     null|     null|   null|      null|  null|   null|      null|   null|   null|   null|    N|      2|         1|24/03/2021|07/04/2021|            BUTANTAN|    210071|    210013|         1|\n",
      "|f8b5fd922d858bc22...|         S|20/09/2021|     38|18/09/2021|     37|       AL|9 MICROREGIAO DE ...|      1541| PALMEIRA DOS INDIOS|    270630|HOSPITAL REGIONAL...|   2010631|      F|15/11/1999|        21|       3|     3021|         5|      4|     null|         2|57600620| BRASIL|      1|   AL|9 MICROREGIAO DE ...|      1541|PALMEIRA DOS INDIOS|    270630|    ALTO DO CRUZEIRO|      1|    null|         2|        2|    1|    1|       1|       1|        1|        1|       2|     2|        2|     null|         2|    null|      null|      null|     null|    null|null|    null|      null|      null|      null| null|     null|    null|     null|                null|     9|      null|   null|      null|      null|      null|     null|     null|        2|      null|     null|      null|       2|      null|      null|                null|      null|                null|      null|                null|      null|null|      null|      null|         3|        6|     null|      null|      1|20/09/2021|         1|        null|                S|        2|21/09/2021|      null|      null|      null|      null|      null|      null|      null|   null|     null|     null|     null|     null|     null|     null|    null|    null|     null|      null|LABORATORIO DE SA...|   2009129|         4|      null|       1|       1|21/09/2021|21/09/2021|29/09/2021|        0|    null|     null|     null|  null|     null|     null|     null|     null|    null|      2|     2|        1|        1|       6|    null|      null|     null|      null|     4|                null|     null|      null|     null|      null|    null|  null|    null|    null|    null|    null|    null|     null|     null|   null|      null|  null|   null|      null|      4|      4|      4|    N|   null|         9|      null|      null|                null|      null|      null|         1|\n",
      "+--------------------+----------+----------+-------+----------+-------+---------+--------------------+----------+--------------------+----------+--------------------+----------+-------+----------+----------+--------+---------+----------+-------+---------+----------+--------+-------+-------+-----+--------------------+----------+-------------------+----------+--------------------+-------+--------+----------+---------+-----+-----+--------+--------+---------+---------+--------+------+---------+---------+----------+--------+----------+----------+---------+--------+----+--------+----------+----------+----------+-----+---------+--------+---------+--------------------+------+----------+-------+----------+----------+----------+---------+---------+---------+----------+---------+----------+--------+----------+----------+--------------------+----------+--------------------+----------+--------------------+----------+----+----------+----------+----------+---------+---------+----------+-------+----------+----------+------------+-----------------+---------+----------+----------+----------+----------+----------+----------+----------+----------+-------+---------+---------+---------+---------+---------+---------+--------+--------+---------+----------+--------------------+----------+----------+----------+--------+--------+----------+----------+----------+---------+--------+---------+---------+------+---------+---------+---------+---------+--------+-------+------+---------+---------+--------+--------+----------+---------+----------+------+--------------------+---------+----------+---------+----------+--------+------+--------+--------+--------+--------+--------+---------+---------+-------+----------+------+-------+----------+-------+-------+-------+-----+-------+----------+----------+----------+--------------------+----------+----------+----------+\n",
      "only showing top 20 rows\n",
      "\n"
     ]
    },
    {
     "name": "stderr",
     "output_type": "stream",
     "text": [
      "\r",
      "                                                                                \r"
     ]
    }
   ],
   "source": [
    "df.show()"
   ]
  },
  {
   "cell_type": "code",
   "execution_count": 7,
   "id": "cf523ac8",
   "metadata": {},
   "outputs": [
    {
     "name": "stderr",
     "output_type": "stream",
     "text": [
      "[Stage 2:=======================================================> (30 + 1) / 31]\r"
     ]
    },
    {
     "name": "stdout",
     "output_type": "stream",
     "text": [
      "+---------+-------+\n",
      "|tp_tes_an|count  |\n",
      "+---------+-------+\n",
      "|null     |1786870|\n",
      "|2        |438859 |\n",
      "|1        |264467 |\n",
      "+---------+-------+\n",
      "\n"
     ]
    },
    {
     "name": "stderr",
     "output_type": "stream",
     "text": [
      "\r",
      "                                                                                \r"
     ]
    }
   ],
   "source": [
    "df.groupBy(\"tp_tes_an\").count().orderBy(F.desc(\"count\")).show(30,False)"
   ]
  },
  {
   "cell_type": "code",
   "execution_count": 9,
   "id": "4fe9b1b5",
   "metadata": {},
   "outputs": [
    {
     "name": "stdout",
     "output_type": "stream",
     "text": [
      "+------+-------+\n",
      "|res_an|count  |\n",
      "+------+-------+\n",
      "|5     |1051932|\n",
      "|4     |582184 |\n",
      "|1     |370139 |\n",
      "|null  |339463 |\n",
      "|2     |127352 |\n",
      "|9     |18816  |\n",
      "|3     |310    |\n",
      "+------+-------+\n",
      "\n"
     ]
    }
   ],
   "source": [
    "df.groupBy(\"res_an\").count().orderBy(F.desc(\"count\")).show(30,False)"
   ]
  },
  {
   "cell_type": "code",
   "execution_count": null,
   "id": "bcee0f62",
   "metadata": {},
   "outputs": [],
   "source": [
    "df.groupBy(\"res_an\").count().orderBy(F.desc(\"count\")).show(30,False)"
   ]
  },
  {
   "cell_type": "code",
   "execution_count": 8,
   "id": "c1b5fc65",
   "metadata": {},
   "outputs": [
    {
     "name": "stderr",
     "output_type": "stream",
     "text": [
      "\r",
      "[Stage 5:===============================================>         (26 + 5) / 31]\r"
     ]
    },
    {
     "name": "stdout",
     "output_type": "stream",
     "text": [
      "+----------+-------+\n",
      "|DT_RES_AN |count  |\n",
      "+----------+-------+\n",
      "|null      |1976564|\n",
      "|31/05/2021|2844   |\n",
      "|07/06/2021|2699   |\n",
      "|24/05/2021|2555   |\n",
      "|24/01/2022|2518   |\n",
      "|17/05/2021|2479   |\n",
      "|14/06/2021|2448   |\n",
      "|04/06/2021|2385   |\n",
      "|25/01/2022|2350   |\n",
      "|02/06/2021|2331   |\n",
      "|01/06/2021|2296   |\n",
      "|27/01/2022|2282   |\n",
      "|21/01/2022|2261   |\n",
      "|18/01/2022|2259   |\n",
      "|25/05/2021|2249   |\n",
      "|28/05/2021|2224   |\n",
      "|26/01/2022|2222   |\n",
      "|15/03/2021|2221   |\n",
      "|19/01/2022|2193   |\n",
      "|10/05/2021|2175   |\n",
      "|22/03/2021|2171   |\n",
      "|20/01/2022|2161   |\n",
      "|21/06/2021|2154   |\n",
      "|27/05/2021|2154   |\n",
      "|31/01/2022|2152   |\n",
      "|26/05/2021|2150   |\n",
      "|21/05/2021|2141   |\n",
      "|08/06/2021|2140   |\n",
      "|17/01/2022|2115   |\n",
      "|20/05/2021|2041   |\n",
      "+----------+-------+\n",
      "only showing top 30 rows\n",
      "\n"
     ]
    },
    {
     "name": "stderr",
     "output_type": "stream",
     "text": [
      "\r",
      "                                                                                \r"
     ]
    }
   ],
   "source": [
    "df.groupBy(\"DT_RES_AN\").count().orderBy(F.desc(\"count\")).show(30,False)"
   ]
  },
  {
   "cell_type": "code",
   "execution_count": 3,
   "id": "a75b4cbb",
   "metadata": {},
   "outputs": [
    {
     "name": "stdout",
     "output_type": "stream",
     "text": [
      "root\n",
      " |-- id_paciente: string (nullable = true)\n",
      " |-- st_notific: string (nullable = true)\n",
      " |-- dt_notific: string (nullable = true)\n",
      " |-- sem_not: string (nullable = true)\n",
      " |-- dt_sin_pri: string (nullable = true)\n",
      " |-- sem_pri: string (nullable = true)\n",
      " |-- sg_uf_not: string (nullable = true)\n",
      " |-- id_regiona: string (nullable = true)\n",
      " |-- co_regiona: decimal(10,0) (nullable = true)\n",
      " |-- id_municip: string (nullable = true)\n",
      " |-- co_mun_not: string (nullable = true)\n",
      " |-- id_unidade: string (nullable = true)\n",
      " |-- co_uni_not: string (nullable = true)\n",
      " |-- cs_sexo: string (nullable = true)\n",
      " |-- dt_nasc: string (nullable = true)\n",
      " |-- nu_idade_n: decimal(10,0) (nullable = true)\n",
      " |-- tp_idade: string (nullable = true)\n",
      " |-- cod_idade: string (nullable = true)\n",
      " |-- cs_gestant: decimal(10,0) (nullable = true)\n",
      " |-- cs_raca: string (nullable = true)\n",
      " |-- cs_etinia: string (nullable = true)\n",
      " |-- cs_escol_n: decimal(10,0) (nullable = true)\n",
      " |-- nu_cep: string (nullable = true)\n",
      " |-- id_pais: string (nullable = true)\n",
      " |-- co_pais: decimal(10,0) (nullable = true)\n",
      " |-- sg_uf: string (nullable = true)\n",
      " |-- id_rg_resi: string (nullable = true)\n",
      " |-- co_rg_resi: decimal(10,0) (nullable = true)\n",
      " |-- id_mn_resi: string (nullable = true)\n",
      " |-- co_mun_res: string (nullable = true)\n",
      " |-- nm_bairro: string (nullable = true)\n",
      " |-- cs_zona: string (nullable = true)\n",
      " |-- surto_sg: string (nullable = true)\n",
      " |-- nosocomial: string (nullable = true)\n",
      " |-- ave_suino: string (nullable = true)\n",
      " |-- febre: string (nullable = true)\n",
      " |-- tosse: string (nullable = true)\n",
      " |-- garganta: string (nullable = true)\n",
      " |-- dispneia: string (nullable = true)\n",
      " |-- desc_resp: string (nullable = true)\n",
      " |-- saturacao: string (nullable = true)\n",
      " |-- diarreia: string (nullable = true)\n",
      " |-- vomito: string (nullable = true)\n",
      " |-- outro_sin: string (nullable = true)\n",
      " |-- outro_des: string (nullable = true)\n",
      " |-- fator_risc: string (nullable = true)\n",
      " |-- puerpera: string (nullable = true)\n",
      " |-- cardiopati: string (nullable = true)\n",
      " |-- hematologi: string (nullable = true)\n",
      " |-- sind_down: string (nullable = true)\n",
      " |-- hepatica: string (nullable = true)\n",
      " |-- asma: string (nullable = true)\n",
      " |-- diabetes: string (nullable = true)\n",
      " |-- neurologic: string (nullable = true)\n",
      " |-- pneumopati: string (nullable = true)\n",
      " |-- imunodepre: string (nullable = true)\n",
      " |-- renal: string (nullable = true)\n",
      " |-- obesidade: string (nullable = true)\n",
      " |-- obes_imc: string (nullable = true)\n",
      " |-- out_morbi: string (nullable = true)\n",
      " |-- morb_desc: string (nullable = true)\n",
      " |-- vacina: string (nullable = true)\n",
      " |-- dt_ut_dose: string (nullable = true)\n",
      " |-- mae_vac: string (nullable = true)\n",
      " |-- dt_vac_mae: string (nullable = true)\n",
      " |-- m_amamenta: string (nullable = true)\n",
      " |-- dt_doseuni: string (nullable = true)\n",
      " |-- dt_1_dose: string (nullable = true)\n",
      " |-- dt_2_dose: string (nullable = true)\n",
      " |-- antiviral: string (nullable = true)\n",
      " |-- tp_antivir: decimal(10,0) (nullable = true)\n",
      " |-- out_antiv: string (nullable = true)\n",
      " |-- dt_antivir: string (nullable = true)\n",
      " |-- hospital: string (nullable = true)\n",
      " |-- dt_interna: string (nullable = true)\n",
      " |-- sg_uf_inte: string (nullable = true)\n",
      " |-- id_rg_inte: string (nullable = true)\n",
      " |-- co_rg_inte: decimal(10,0) (nullable = true)\n",
      " |-- id_mn_inte: string (nullable = true)\n",
      " |-- co_mu_inte: string (nullable = true)\n",
      " |-- nm_un_inte: string (nullable = true)\n",
      " |-- co_un_inte: string (nullable = true)\n",
      " |-- uti: string (nullable = true)\n",
      " |-- dt_entuti: string (nullable = true)\n",
      " |-- dt_saiduti: string (nullable = true)\n",
      " |-- suport_ven: string (nullable = true)\n",
      " |-- raiox_res: decimal(10,0) (nullable = true)\n",
      " |-- raiox_out: string (nullable = true)\n",
      " |-- dt_raiox: string (nullable = true)\n",
      " |-- amostra: string (nullable = true)\n",
      " |-- dt_coleta: string (nullable = true)\n",
      " |-- tp_amostra: decimal(10,0) (nullable = true)\n",
      " |-- out_amost: string (nullable = true)\n",
      " |-- st_requisicao_gal: string (nullable = true)\n",
      " |-- pcr_resul: string (nullable = true)\n",
      " |-- dt_pcr: string (nullable = true)\n",
      " |-- pos_pcrflu: string (nullable = true)\n",
      " |-- tp_flu_pcr: string (nullable = true)\n",
      " |-- pcr_fluasu: string (nullable = true)\n",
      " |-- fluasu_out: string (nullable = true)\n",
      " |-- pcr_flubli: string (nullable = true)\n",
      " |-- flubli_out: string (nullable = true)\n",
      " |-- pos_pcrout: string (nullable = true)\n",
      " |-- pcr_vsr: string (nullable = true)\n",
      " |-- pcr_para1: string (nullable = true)\n",
      " |-- pcr_para2: string (nullable = true)\n",
      " |-- pcr_para3: string (nullable = true)\n",
      " |-- pcr_para4: string (nullable = true)\n",
      " |-- pcr_adeno: string (nullable = true)\n",
      " |-- pcr_metap: string (nullable = true)\n",
      " |-- pcr_boca: string (nullable = true)\n",
      " |-- pcr_rino: string (nullable = true)\n",
      " |-- pcr_outro: string (nullable = true)\n",
      " |-- ds_pcr_out: string (nullable = true)\n",
      " |-- lab_pcr: string (nullable = true)\n",
      " |-- co_lab_pcr: string (nullable = true)\n",
      " |-- classi_fin: decimal(10,0) (nullable = true)\n",
      " |-- classi_out: string (nullable = true)\n",
      " |-- criterio: decimal(10,0) (nullable = true)\n",
      " |-- evolucao: string (nullable = true)\n",
      " |-- dt_evoluca: string (nullable = true)\n",
      " |-- dt_encerra: string (nullable = true)\n",
      " |-- dt_digita: string (nullable = true)\n",
      " |-- histo_vgm: string (nullable = true)\n",
      " |-- pais_vgm: string (nullable = true)\n",
      " |-- co_ps_vgm: decimal(10,0) (nullable = true)\n",
      " |-- lo_ps_vgm: string (nullable = true)\n",
      " |-- dt_vgm: string (nullable = true)\n",
      " |-- dt_rt_vgm: string (nullable = true)\n",
      " |-- pcr_sars2: string (nullable = true)\n",
      " |-- pac_cocbo: string (nullable = true)\n",
      " |-- pac_dscbo: string (nullable = true)\n",
      " |-- out_anim: string (nullable = true)\n",
      " |-- dor_abd: string (nullable = true)\n",
      " |-- fadiga: string (nullable = true)\n",
      " |-- perd_olft: string (nullable = true)\n",
      " |-- perd_pala: string (nullable = true)\n",
      " |-- tomo_res: decimal(10,0) (nullable = true)\n",
      " |-- tomo_out: string (nullable = true)\n",
      " |-- dt_tomo: string (nullable = true)\n",
      " |-- tp_tes_an: decimal(10,0) (nullable = true)\n",
      " |-- dt_res_an: string (nullable = true)\n",
      " |-- res_an: string (nullable = true)\n",
      " |-- lab_an: string (nullable = true)\n",
      " |-- co_lab_an: string (nullable = true)\n",
      " |-- pos_an_flu: string (nullable = true)\n",
      " |-- tp_flu_an: string (nullable = true)\n",
      " |-- pos_an_out: string (nullable = true)\n",
      " |-- an_sars2: string (nullable = true)\n",
      " |-- an_vsr: string (nullable = true)\n",
      " |-- an_para1: string (nullable = true)\n",
      " |-- an_para2: string (nullable = true)\n",
      " |-- an_para3: string (nullable = true)\n",
      " |-- an_adeno: string (nullable = true)\n",
      " |-- an_outro: string (nullable = true)\n",
      " |-- ds_an_out: string (nullable = true)\n",
      " |-- tp_am_sor: decimal(10,0) (nullable = true)\n",
      " |-- sor_out: string (nullable = true)\n",
      " |-- dt_co_sor: string (nullable = true)\n",
      " |-- tp_sor: decimal(10,0) (nullable = true)\n",
      " |-- out_sor: string (nullable = true)\n",
      " |-- dt_res: string (nullable = true)\n",
      " |-- res_igg: string (nullable = true)\n",
      " |-- res_igm: string (nullable = true)\n",
      " |-- res_iga: string (nullable = true)\n",
      " |-- st_do: string (nullable = true)\n",
      " |-- estrang: string (nullable = true)\n",
      " |-- vacina_cov: string (nullable = true)\n",
      " |-- dose_1_cov: string (nullable = true)\n",
      " |-- dose_2_cov: string (nullable = true)\n",
      " |-- lab_pr_cov: string (nullable = true)\n",
      " |-- lote_1_cov: string (nullable = true)\n",
      " |-- lote_2_cov: string (nullable = true)\n",
      " |-- fnt_in_cov: string (nullable = true)\n",
      "\n"
     ]
    }
   ],
   "source": [
    "df.printSchema()"
   ]
  }
 ],
 "metadata": {
  "kernelspec": {
   "display_name": "Python 3 (ipykernel)",
   "language": "python",
   "name": "python3"
  },
  "language_info": {
   "codemirror_mode": {
    "name": "ipython",
    "version": 3
   },
   "file_extension": ".py",
   "mimetype": "text/x-python",
   "name": "python",
   "nbconvert_exporter": "python",
   "pygments_lexer": "ipython3",
   "version": "3.10.12"
  }
 },
 "nbformat": 4,
 "nbformat_minor": 5
}
