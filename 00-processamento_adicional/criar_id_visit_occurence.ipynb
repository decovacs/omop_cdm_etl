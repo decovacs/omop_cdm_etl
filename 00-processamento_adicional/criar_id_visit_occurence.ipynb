{
 "cells": [
  {
   "cell_type": "code",
   "execution_count": 4,
   "id": "28c95156",
   "metadata": {
    "tags": []
   },
   "outputs": [
    {
     "name": "stderr",
     "output_type": "stream",
     "text": [
      "/tmp/ipykernel_31780/1510302545.py:1: DeprecationWarning: Importing display from IPython.core.display is deprecated since IPython 7.14, please import from IPython display\n",
      "  from IPython.core.display import display, HTML\n"
     ]
    },
    {
     "data": {
      "text/html": [
       "<style>.container { width:100% !important; }</style>"
      ],
      "text/plain": [
       "<IPython.core.display.HTML object>"
      ]
     },
     "metadata": {},
     "output_type": "display_data"
    }
   ],
   "source": [
    "from IPython.core.display import display, HTML\n",
    "display(HTML(\"<style>.container { width:100% !important; }</style>\"))\n",
    "from pyspark.sql import functions as F\n",
    "from pyspark.sql.types import *\n",
    "import pandas as pd\n",
    "from pyspark.sql.window import Window\n",
    "import time\n",
    "from pyspark.sql import SparkSession"
   ]
  },
  {
   "cell_type": "code",
   "execution_count": 5,
   "id": "1a99061c-dd7a-4efd-9423-100a8c6f802a",
   "metadata": {},
   "outputs": [],
   "source": [
    "spark = SparkSession.builder \\\n",
    "       .master(\"local[*]\") \\\n",
    "       .appName(\"test\") \\\n",
    "       .config(\"spark.driver.memory\", \"80g\")\\\n",
    "       .config(\"spark.executor.memory\", \"50g\")\\\n",
    "       .config(\"spark.dirver.maxResultSize\", \"50g\")\\\n",
    "       .config('spark.local.dir', '/dados10t/datalake/raw/checkpoint_dir')\\\n",
    "       .getOrCreate()\n",
    "sc = spark.sparkContext\n",
    "sc.setCheckpointDir('/dados10t/datalake/raw/checkpoint_dir')"
   ]
  },
  {
   "cell_type": "markdown",
   "id": "0b62d339-f2db-4131-b170-1ea704c2298f",
   "metadata": {},
   "source": [
    "# Srag"
   ]
  },
  {
   "cell_type": "code",
   "execution_count": 6,
   "id": "d650978e-29ea-4cb7-a200-106fb55d46dd",
   "metadata": {},
   "outputs": [],
   "source": [
    "#srag = spark.read.parquet(\"/dados10t/datalake/standard/vigivac/srag/dbsrag_tb_influd_long_09072022_v8.parquet/\")\n",
    "srag = spark.read.parquet(\"/dados10t/datalake/raw/vigivac/srag/dbsrag_tb_influd_pandas_idrow_09072022.parquet/\")"
   ]
  },
  {
   "cell_type": "code",
   "execution_count": 7,
   "id": "6ae012a3-46a2-4cae-b089-a8692b56825b",
   "metadata": {},
   "outputs": [],
   "source": [
    "srag = srag.withColumn('srag_bin', F.lit(1))"
   ]
  },
  {
   "cell_type": "markdown",
   "id": "c76bb3c6-c196-4b60-af4b-3bb5deff0b72",
   "metadata": {},
   "source": [
    "# SG"
   ]
  },
  {
   "cell_type": "code",
   "execution_count": 8,
   "id": "bc30b07d-4c10-4ee8-ad97-17877b295dbb",
   "metadata": {},
   "outputs": [],
   "source": [
    "sg = spark.read.parquet(\"/dados10t/datalake/standard/vigivac/SG/sg_long_09072022_v9.parquet/\")"
   ]
  },
  {
   "cell_type": "code",
   "execution_count": 9,
   "id": "4cc7d7ec-33a2-492f-8ca4-3fd010c85f26",
   "metadata": {},
   "outputs": [],
   "source": [
    "sg = sg.withColumn('sg_bin', F.lit(1))"
   ]
  },
  {
   "cell_type": "markdown",
   "id": "463bcc52-873f-4dfa-bc83-ebb16136d8ba",
   "metadata": {},
   "source": [
    "# Vacinas"
   ]
  },
  {
   "cell_type": "code",
   "execution_count": 10,
   "id": "3b198e75-4bfe-44a8-abf5-b85af94b6ace",
   "metadata": {},
   "outputs": [],
   "source": [
    "vac = spark.read.parquet('/dados10t/datalake/standard/vigivac/vacinacao/vacinacao07072022_pessoasunicas_5doses_v17.parquet/')"
   ]
  },
  {
   "cell_type": "code",
   "execution_count": 11,
   "id": "be66affd-151e-4d47-b522-3394b6cfb9fa",
   "metadata": {},
   "outputs": [],
   "source": [
    "vac = vac.selectExpr(\"*\",\n",
    "    \"stack(5,'d1_data_aplicacao',d1_data_aplicacao,'d2_data_aplicacao',d2_data_aplicacao,'d3_data_aplicacao',d3_data_aplicacao,'d4_data_aplicacao',d4_data_aplicacao,'d5_data_aplicacao',d5_data_aplicacao) as (n_vacina,data_aplicacao)\")\\\n",
    ".filter(F.col('data_aplicacao').isNotNull())"
   ]
  },
  {
   "cell_type": "code",
   "execution_count": 9,
   "id": "02423dd0-5225-49ee-884f-bb38c7a821dd",
   "metadata": {},
   "outputs": [],
   "source": [
    "#vac = spark.read.parquet('/dados10t/datalake/raw/vigivac/vacinacao/vacinacao07072022_v5.parquet/')"
   ]
  },
  {
   "cell_type": "code",
   "execution_count": 12,
   "id": "83c6e383-6d57-4ad4-8c20-43d9c56eb9e2",
   "metadata": {},
   "outputs": [],
   "source": [
    "vac = vac.withColumn('vac_bin', F.lit(1))"
   ]
  },
  {
   "cell_type": "markdown",
   "id": "a7fec531-3d63-4e2b-b39c-9760ac2cd4d3",
   "metadata": {},
   "source": [
    "# Merge"
   ]
  },
  {
   "cell_type": "code",
   "execution_count": 13,
   "id": "b5afa312-6320-486c-b4df-d53782a834ce",
   "metadata": {},
   "outputs": [],
   "source": [
    "srag_sg = srag.unionByName(sg,allowMissingColumns=True )"
   ]
  },
  {
   "cell_type": "code",
   "execution_count": 16,
   "id": "b8f126ee-7d0a-42ab-9f80-d9b6d3843d62",
   "metadata": {},
   "outputs": [],
   "source": [
    "srag_sg_vac = srag_sg.unionByName(vac, allowMissingColumns=True)"
   ]
  },
  {
   "cell_type": "code",
   "execution_count": 17,
   "id": "cfd37e82-bb75-4c95-8a19-89b2317039a5",
   "metadata": {},
   "outputs": [],
   "source": [
    "full_id = srag_sg_vac.withColumn(\"new_column\", F.lit(\"ABC\"))\n",
    "w = Window().partitionBy('new_column').orderBy(F.lit('A'))\n",
    "full_id_with_row = full_id.withColumn(\"visit_occurrence_id\",F.row_number().over(w)).drop(\"new_column\")"
   ]
  },
  {
   "cell_type": "code",
   "execution_count": null,
   "id": "e559e7ea-ab10-4fb6-bdce-940fbfec558b",
   "metadata": {},
   "outputs": [],
   "source": [
    "full_id_with_row.columns"
   ]
  },
  {
   "cell_type": "code",
   "execution_count": 18,
   "id": "acdef811-4398-478f-a82c-8aed3262d869",
   "metadata": {},
   "outputs": [
    {
     "name": "stderr",
     "output_type": "stream",
     "text": [
      "23/10/19 12:18:37 WARN package: Truncated the string representation of a plan since it was too large. This behavior can be adjusted by setting 'spark.sql.debug.maxToStringFields'.\n",
      "                                                                                \r"
     ]
    }
   ],
   "source": [
    "full_id_with_row = full_id_with_row.checkpoint()"
   ]
  },
  {
   "cell_type": "markdown",
   "id": "485c8b00-a672-419b-b897-41f52c688d21",
   "metadata": {},
   "source": [
    "# Writting"
   ]
  },
  {
   "cell_type": "markdown",
   "id": "976528e0-df3e-47a3-9c6e-9113754903c1",
   "metadata": {},
   "source": [
    "### srag"
   ]
  },
  {
   "cell_type": "code",
   "execution_count": 19,
   "id": "2cd6624c-6a70-4c1f-ad6e-a808ec5b9af2",
   "metadata": {},
   "outputs": [],
   "source": [
    "srag_id = full_id_with_row.filter(F.col('srag_bin') == 1).select(srag.columns + ['visit_occurrence_id']).drop('srag_bin')"
   ]
  },
  {
   "cell_type": "code",
   "execution_count": null,
   "id": "7132ac1c-9ec9-409f-985f-241b3d88007a",
   "metadata": {},
   "outputs": [
    {
     "name": "stderr",
     "output_type": "stream",
     "text": [
      "[Stage 12:>                                                         (0 + 1) / 1]\r"
     ]
    }
   ],
   "source": [
    "srag_id.write.parquet('/dados10t/datalake/standard/omop/data_with_ids/dbsrag_tb_influd_long_09072022_v8-id_omop-v2.parquet')"
   ]
  },
  {
   "cell_type": "markdown",
   "id": "372d0bdd-26d0-4b99-afde-e0a67d5ee405",
   "metadata": {},
   "source": [
    "#### sg"
   ]
  },
  {
   "cell_type": "code",
   "execution_count": null,
   "id": "11ecc056-a35e-43a5-9e6f-793ba95a8ddb",
   "metadata": {},
   "outputs": [],
   "source": [
    "sg_id = full_id_with_row.filter(F.col('sg_bin') == 1).select(sg.columns + ['visit_occurrence_id']).drop('sg_bin')"
   ]
  },
  {
   "cell_type": "code",
   "execution_count": null,
   "id": "3109ae0e-74dc-4df8-9a33-9be9b0882eaa",
   "metadata": {},
   "outputs": [],
   "source": [
    "sg_id.write.parquet('/dados10t/datalake/standard/omop/data_with_ids/sg_long_09072022_v9-id_omop-v2.parquet/')"
   ]
  },
  {
   "cell_type": "markdown",
   "id": "ddd3f766-3760-4d35-8736-c881ce2b0b47",
   "metadata": {},
   "source": [
    "#### vac"
   ]
  },
  {
   "cell_type": "code",
   "execution_count": null,
   "id": "ad439f1b-e63d-4ec2-b7b4-d1a8bfe2ae08",
   "metadata": {},
   "outputs": [],
   "source": [
    "vac_id = full_id_with_row.filter(F.col('vac_bin') == 1).select(vac.columns + ['visit_occurrence_id']).drop('vac_bin')"
   ]
  },
  {
   "cell_type": "code",
   "execution_count": null,
   "id": "27f8e5fa-5274-461c-8d25-5edb9cca27a9",
   "metadata": {},
   "outputs": [],
   "source": [
    "vac_id.write.parquet('/dados10t/datalake/standard/omop/data_with_ids/vacinacao07072022_pessoasunicas_5doses_v17-id_omop-v2.parquet/')"
   ]
  }
 ],
 "metadata": {
  "kernelspec": {
   "display_name": "base",
   "language": "python",
   "name": "base"
  },
  "language_info": {
   "codemirror_mode": {
    "name": "ipython",
    "version": 3
   },
   "file_extension": ".py",
   "mimetype": "text/x-python",
   "name": "python",
   "nbconvert_exporter": "python",
   "pygments_lexer": "ipython3",
   "version": "3.11.4"
  }
 },
 "nbformat": 4,
 "nbformat_minor": 5
}
