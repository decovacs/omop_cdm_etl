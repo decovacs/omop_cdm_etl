{
 "cells": [
  {
   "cell_type": "code",
   "execution_count": 1,
   "id": "28c95156",
   "metadata": {},
   "outputs": [
    {
     "data": {
      "text/html": [
       "<style>.container { width:100% !important; }</style>"
      ],
      "text/plain": [
       "<IPython.core.display.HTML object>"
      ]
     },
     "metadata": {},
     "output_type": "display_data"
    }
   ],
   "source": [
    "from IPython.display import display, HTML\n",
    "display(HTML(\"<style>.container { width:100% !important; }</style>\"))\n",
    "from pyspark.sql import functions as F\n",
    "from pyspark.sql.types import *"
   ]
  },
  {
   "cell_type": "code",
   "execution_count": 6,
   "id": "21d4e7ad",
   "metadata": {},
   "outputs": [],
   "source": [
    "srag = spark.read.parquet(\"/dados10t/datalake/raw/vigivac/srag/dbsrag_tb_influd_from_pandas_28032023.parquet/\") # banco raw, tenho que tratar o id do paciente para bater com o novo criado do banco pre processado e dropar o id original"
   ]
  },
  {
   "cell_type": "code",
   "execution_count": 7,
   "id": "bae8130c",
   "metadata": {},
   "outputs": [],
   "source": [
    "srag = srag.withColumn(\"id_row\",F.monotonically_increasing_id())"
   ]
  },
  {
   "cell_type": "code",
   "execution_count": 8,
   "id": "6a4e7e87",
   "metadata": {},
   "outputs": [
    {
     "name": "stderr",
     "output_type": "stream",
     "text": [
      "                                                                                \r"
     ]
    },
    {
     "data": {
      "text/plain": [
       "2680086"
      ]
     },
     "execution_count": 8,
     "metadata": {},
     "output_type": "execute_result"
    }
   ],
   "source": [
    "srag.count()"
   ]
  },
  {
   "cell_type": "code",
   "execution_count": 9,
   "id": "e6a443ba",
   "metadata": {},
   "outputs": [
    {
     "name": "stderr",
     "output_type": "stream",
     "text": [
      "                                                                                \r"
     ]
    },
    {
     "data": {
      "text/plain": [
       "2680086"
      ]
     },
     "execution_count": 9,
     "metadata": {},
     "output_type": "execute_result"
    }
   ],
   "source": [
    "srag.select(\"id_row\").distinct().count()"
   ]
  },
  {
   "cell_type": "code",
   "execution_count": 11,
   "id": "23708a66",
   "metadata": {},
   "outputs": [
    {
     "name": "stderr",
     "output_type": "stream",
     "text": [
      "                                                                                \r"
     ]
    },
    {
     "data": {
      "text/plain": [
       "2490556"
      ]
     },
     "execution_count": 11,
     "metadata": {},
     "output_type": "execute_result"
    }
   ],
   "source": [
    "srag.select(\"id_paciente\").distinct().count()"
   ]
  },
  {
   "cell_type": "code",
   "execution_count": 12,
   "id": "bb0c0c26",
   "metadata": {},
   "outputs": [
    {
     "name": "stderr",
     "output_type": "stream",
     "text": [
      "23/09/11 15:26:54 WARN package: Truncated the string representation of a plan since it was too large. This behavior can be adjusted by setting 'spark.sql.debug.maxToStringFields'.\n",
      "                                                                                \r"
     ]
    }
   ],
   "source": [
    "srag.write.parquet(\"/dados10t/datalake/raw/vigivac/srag/dbsrag_tb_influd_pandas_idrow_28032023.parquet/\")"
   ]
  },
  {
   "cell_type": "code",
   "execution_count": 10,
   "id": "3cdb3559",
   "metadata": {},
   "outputs": [
    {
     "name": "stdout",
     "output_type": "stream",
     "text": [
      "root\n",
      " |-- id_paciente: string (nullable = true)\n",
      " |-- st_notific: string (nullable = true)\n",
      " |-- dt_notific: string (nullable = true)\n",
      " |-- sem_not: string (nullable = true)\n",
      " |-- dt_sin_pri: string (nullable = true)\n",
      " |-- sem_pri: string (nullable = true)\n",
      " |-- sg_uf_not: string (nullable = true)\n",
      " |-- id_regiona: string (nullable = true)\n",
      " |-- co_regiona: string (nullable = true)\n",
      " |-- id_municip: string (nullable = true)\n",
      " |-- co_mun_not: string (nullable = true)\n",
      " |-- id_unidade: string (nullable = true)\n",
      " |-- co_uni_not: string (nullable = true)\n",
      " |-- cs_sexo: string (nullable = true)\n",
      " |-- dt_nasc: string (nullable = true)\n",
      " |-- nu_idade_n: string (nullable = true)\n",
      " |-- tp_idade: string (nullable = true)\n",
      " |-- cod_idade: string (nullable = true)\n",
      " |-- cs_gestant: string (nullable = true)\n",
      " |-- cs_raca: string (nullable = true)\n",
      " |-- cs_etinia: string (nullable = true)\n",
      " |-- cs_escol_n: string (nullable = true)\n",
      " |-- nu_cep: string (nullable = true)\n",
      " |-- id_pais: string (nullable = true)\n",
      " |-- co_pais: string (nullable = true)\n",
      " |-- sg_uf: string (nullable = true)\n",
      " |-- id_rg_resi: string (nullable = true)\n",
      " |-- co_rg_resi: string (nullable = true)\n",
      " |-- id_mn_resi: string (nullable = true)\n",
      " |-- co_mun_res: string (nullable = true)\n",
      " |-- nm_bairro: string (nullable = true)\n",
      " |-- cs_zona: string (nullable = true)\n",
      " |-- surto_sg: string (nullable = true)\n",
      " |-- nosocomial: string (nullable = true)\n",
      " |-- ave_suino: string (nullable = true)\n",
      " |-- febre: string (nullable = true)\n",
      " |-- tosse: string (nullable = true)\n",
      " |-- garganta: string (nullable = true)\n",
      " |-- dispneia: string (nullable = true)\n",
      " |-- desc_resp: string (nullable = true)\n",
      " |-- saturacao: string (nullable = true)\n",
      " |-- diarreia: string (nullable = true)\n",
      " |-- vomito: string (nullable = true)\n",
      " |-- outro_sin: string (nullable = true)\n",
      " |-- outro_des: string (nullable = true)\n",
      " |-- fator_risc: string (nullable = true)\n",
      " |-- puerpera: string (nullable = true)\n",
      " |-- cardiopati: string (nullable = true)\n",
      " |-- hematologi: string (nullable = true)\n",
      " |-- sind_down: string (nullable = true)\n",
      " |-- hepatica: string (nullable = true)\n",
      " |-- asma: string (nullable = true)\n",
      " |-- diabetes: string (nullable = true)\n",
      " |-- neurologic: string (nullable = true)\n",
      " |-- pneumopati: string (nullable = true)\n",
      " |-- imunodepre: string (nullable = true)\n",
      " |-- renal: string (nullable = true)\n",
      " |-- obesidade: string (nullable = true)\n",
      " |-- obes_imc: string (nullable = true)\n",
      " |-- out_morbi: string (nullable = true)\n",
      " |-- morb_desc: string (nullable = true)\n",
      " |-- vacina: string (nullable = true)\n",
      " |-- dt_ut_dose: string (nullable = true)\n",
      " |-- mae_vac: string (nullable = true)\n",
      " |-- dt_vac_mae: string (nullable = true)\n",
      " |-- m_amamenta: string (nullable = true)\n",
      " |-- dt_doseuni: string (nullable = true)\n",
      " |-- dt_1_dose: string (nullable = true)\n",
      " |-- dt_2_dose: string (nullable = true)\n",
      " |-- antiviral: string (nullable = true)\n",
      " |-- tp_antivir: string (nullable = true)\n",
      " |-- out_antiv: string (nullable = true)\n",
      " |-- dt_antivir: string (nullable = true)\n",
      " |-- hospital: string (nullable = true)\n",
      " |-- dt_interna: string (nullable = true)\n",
      " |-- sg_uf_inte: string (nullable = true)\n",
      " |-- id_rg_inte: string (nullable = true)\n",
      " |-- co_rg_inte: string (nullable = true)\n",
      " |-- id_mn_inte: string (nullable = true)\n",
      " |-- co_mu_inte: string (nullable = true)\n",
      " |-- nm_un_inte: string (nullable = true)\n",
      " |-- co_un_inte: string (nullable = true)\n",
      " |-- uti: string (nullable = true)\n",
      " |-- dt_entuti: string (nullable = true)\n",
      " |-- dt_saiduti: string (nullable = true)\n",
      " |-- suport_ven: string (nullable = true)\n",
      " |-- raiox_res: string (nullable = true)\n",
      " |-- raiox_out: string (nullable = true)\n",
      " |-- dt_raiox: string (nullable = true)\n",
      " |-- amostra: string (nullable = true)\n",
      " |-- dt_coleta: string (nullable = true)\n",
      " |-- tp_amostra: string (nullable = true)\n",
      " |-- out_amost: string (nullable = true)\n",
      " |-- st_requisicao_gal: string (nullable = true)\n",
      " |-- pcr_resul: string (nullable = true)\n",
      " |-- dt_pcr: string (nullable = true)\n",
      " |-- pos_pcrflu: string (nullable = true)\n",
      " |-- tp_flu_pcr: string (nullable = true)\n",
      " |-- pcr_fluasu: string (nullable = true)\n",
      " |-- fluasu_out: string (nullable = true)\n",
      " |-- pcr_flubli: string (nullable = true)\n",
      " |-- flubli_out: string (nullable = true)\n",
      " |-- pos_pcrout: string (nullable = true)\n",
      " |-- pcr_vsr: string (nullable = true)\n",
      " |-- pcr_para1: string (nullable = true)\n",
      " |-- pcr_para2: string (nullable = true)\n",
      " |-- pcr_para3: string (nullable = true)\n",
      " |-- pcr_para4: string (nullable = true)\n",
      " |-- pcr_adeno: string (nullable = true)\n",
      " |-- pcr_metap: string (nullable = true)\n",
      " |-- pcr_boca: string (nullable = true)\n",
      " |-- pcr_rino: string (nullable = true)\n",
      " |-- pcr_outro: string (nullable = true)\n",
      " |-- ds_pcr_out: string (nullable = true)\n",
      " |-- lab_pcr: string (nullable = true)\n",
      " |-- co_lab_pcr: string (nullable = true)\n",
      " |-- classi_fin: string (nullable = true)\n",
      " |-- classi_out: string (nullable = true)\n",
      " |-- criterio: string (nullable = true)\n",
      " |-- evolucao: string (nullable = true)\n",
      " |-- dt_evoluca: string (nullable = true)\n",
      " |-- dt_encerra: string (nullable = true)\n",
      " |-- dt_digita: string (nullable = true)\n",
      " |-- histo_vgm: string (nullable = true)\n",
      " |-- pais_vgm: string (nullable = true)\n",
      " |-- co_ps_vgm: string (nullable = true)\n",
      " |-- lo_ps_vgm: string (nullable = true)\n",
      " |-- dt_vgm: string (nullable = true)\n",
      " |-- dt_rt_vgm: string (nullable = true)\n",
      " |-- pcr_sars2: string (nullable = true)\n",
      " |-- pac_cocbo: string (nullable = true)\n",
      " |-- pac_dscbo: string (nullable = true)\n",
      " |-- out_anim: string (nullable = true)\n",
      " |-- dor_abd: string (nullable = true)\n",
      " |-- fadiga: string (nullable = true)\n",
      " |-- perd_olft: string (nullable = true)\n",
      " |-- perd_pala: string (nullable = true)\n",
      " |-- tomo_res: string (nullable = true)\n",
      " |-- tomo_out: string (nullable = true)\n",
      " |-- dt_tomo: string (nullable = true)\n",
      " |-- tp_tes_an: string (nullable = true)\n",
      " |-- dt_res_an: string (nullable = true)\n",
      " |-- res_an: string (nullable = true)\n",
      " |-- lab_an: string (nullable = true)\n",
      " |-- co_lab_an: string (nullable = true)\n",
      " |-- pos_an_flu: string (nullable = true)\n",
      " |-- tp_flu_an: string (nullable = true)\n",
      " |-- pos_an_out: string (nullable = true)\n",
      " |-- an_sars2: string (nullable = true)\n",
      " |-- an_vsr: string (nullable = true)\n",
      " |-- an_para1: string (nullable = true)\n",
      " |-- an_para2: string (nullable = true)\n",
      " |-- an_para3: string (nullable = true)\n",
      " |-- an_adeno: string (nullable = true)\n",
      " |-- an_outro: string (nullable = true)\n",
      " |-- ds_an_out: string (nullable = true)\n",
      " |-- tp_am_sor: string (nullable = true)\n",
      " |-- sor_out: string (nullable = true)\n",
      " |-- dt_co_sor: string (nullable = true)\n",
      " |-- tp_sor: string (nullable = true)\n",
      " |-- out_sor: string (nullable = true)\n",
      " |-- dt_res: string (nullable = true)\n",
      " |-- res_igg: string (nullable = true)\n",
      " |-- res_igm: string (nullable = true)\n",
      " |-- res_iga: string (nullable = true)\n",
      " |-- st_do: string (nullable = true)\n",
      " |-- estrang: string (nullable = true)\n",
      " |-- vacina_cov: string (nullable = true)\n",
      " |-- dose_1_cov: string (nullable = true)\n",
      " |-- dose_2_cov: string (nullable = true)\n",
      " |-- lab_pr_cov: string (nullable = true)\n",
      " |-- lote_1_cov: string (nullable = true)\n",
      " |-- lote_2_cov: string (nullable = true)\n",
      " |-- fnt_in_cov: string (nullable = true)\n",
      " |-- dt_notific_dt: string (nullable = true)\n",
      " |-- __index_level_0__: integer (nullable = true)\n",
      " |-- id_row: long (nullable = false)\n",
      "\n"
     ]
    }
   ],
   "source": [
    "srag.printSchema()"
   ]
  },
  {
   "cell_type": "markdown",
   "id": "abe882d1",
   "metadata": {},
   "source": [
    "### testes"
   ]
  },
  {
   "cell_type": "code",
   "execution_count": 6,
   "id": "72add593",
   "metadata": {},
   "outputs": [],
   "source": [
    "check  = spark.read.parquet(\"/dados10t/datalake/raw/vigivac/srag/dbsrag_tb_influd_pandas_idrow_28032023.parquet/\") \n",
    "srag_raw  = spark.read.parquet(\"/dados10t/datalake/raw/vigivac/srag/dbsrag_tb_influd_from_pandas_09072022.parquet/\")"
   ]
  },
  {
   "cell_type": "code",
   "execution_count": 9,
   "id": "d3ab5bf7",
   "metadata": {},
   "outputs": [],
   "source": [
    "srag_raw = srag_raw.withColumn(\"dt_notif_dt\",F.to_date(\"dt_notific\",\"dd/MM/yyyy\"))\n",
    "check = check.withColumn(\"dt_notif_dt\",F.to_date(\"dt_notific\",\"dd/MM/yyyy\"))"
   ]
  },
  {
   "cell_type": "code",
   "execution_count": 10,
   "id": "6eb9c153",
   "metadata": {},
   "outputs": [],
   "source": []
  },
  {
   "cell_type": "code",
   "execution_count": 12,
   "id": "0edb21ba",
   "metadata": {},
   "outputs": [
    {
     "name": "stderr",
     "output_type": "stream",
     "text": [
      "                                                                                \r"
     ]
    },
    {
     "data": {
      "text/plain": [
       "2490196"
      ]
     },
     "execution_count": 12,
     "metadata": {},
     "output_type": "execute_result"
    }
   ],
   "source": [
    "srag_raw.filter(F.col(\"dt_notif_dt\") <= \"2022-07-09\").count()"
   ]
  },
  {
   "cell_type": "code",
   "execution_count": 11,
   "id": "edf6e118",
   "metadata": {},
   "outputs": [
    {
     "name": "stderr",
     "output_type": "stream",
     "text": [
      "                                                                                \r"
     ]
    },
    {
     "data": {
      "text/plain": [
       "2519389"
      ]
     },
     "execution_count": 11,
     "metadata": {},
     "output_type": "execute_result"
    }
   ],
   "source": [
    "check.filter(F.col(\"dt_notif_dt\") <= \"2022-07-09\").count()"
   ]
  },
  {
   "cell_type": "code",
   "execution_count": 15,
   "id": "15979fad",
   "metadata": {},
   "outputs": [],
   "source": [
    "teste_2022 = srag_raw.select(\"id_paciente\").drop_duplicates(['id_paciente'])\n",
    "teste_2023 = check.select(\"id_paciente\").drop_duplicates(['id_paciente'])"
   ]
  },
  {
   "cell_type": "code",
   "execution_count": 16,
   "id": "4bfd00c1",
   "metadata": {},
   "outputs": [
    {
     "name": "stderr",
     "output_type": "stream",
     "text": [
      "                                                                                \r"
     ]
    },
    {
     "data": {
      "text/plain": [
       "2320559"
      ]
     },
     "execution_count": 16,
     "metadata": {},
     "output_type": "execute_result"
    }
   ],
   "source": [
    "teste_2022.count()"
   ]
  },
  {
   "cell_type": "code",
   "execution_count": 17,
   "id": "e8bd405f",
   "metadata": {},
   "outputs": [
    {
     "name": "stderr",
     "output_type": "stream",
     "text": [
      "                                                                                \r"
     ]
    },
    {
     "data": {
      "text/plain": [
       "2490556"
      ]
     },
     "execution_count": 17,
     "metadata": {},
     "output_type": "execute_result"
    }
   ],
   "source": [
    "teste_2023.count()"
   ]
  },
  {
   "cell_type": "code",
   "execution_count": null,
   "id": "d6945715",
   "metadata": {},
   "outputs": [],
   "source": []
  },
  {
   "cell_type": "code",
   "execution_count": 19,
   "id": "3b652c8c",
   "metadata": {},
   "outputs": [],
   "source": [
    "ver = teste_2022.join(teste_2023,['id_paciente'],'leftanti')"
   ]
  },
  {
   "cell_type": "code",
   "execution_count": 20,
   "id": "4c8d441f",
   "metadata": {},
   "outputs": [
    {
     "name": "stderr",
     "output_type": "stream",
     "text": [
      "                                                                                \r"
     ]
    },
    {
     "data": {
      "text/plain": [
       "3738"
      ]
     },
     "execution_count": 20,
     "metadata": {},
     "output_type": "execute_result"
    },
    {
     "name": "stderr",
     "output_type": "stream",
     "text": [
      "ERROR:root:Exception while sending command.\n",
      "Traceback (most recent call last):\n",
      "  File \"/home/juracy.santos/tools/spark-3.4.1-bin-hadoop3/python/lib/py4j-0.10.9.7-src.zip/py4j/clientserver.py\", line 516, in send_command\n",
      "    raise Py4JNetworkError(\"Answer from Java side is empty\")\n",
      "py4j.protocol.Py4JNetworkError: Answer from Java side is empty\n",
      "\n",
      "During handling of the above exception, another exception occurred:\n",
      "\n",
      "Traceback (most recent call last):\n",
      "  File \"/home/juracy.santos/tools/spark-3.4.1-bin-hadoop3/python/lib/py4j-0.10.9.7-src.zip/py4j/java_gateway.py\", line 1038, in send_command\n",
      "    response = connection.send_command(command)\n",
      "  File \"/home/juracy.santos/tools/spark-3.4.1-bin-hadoop3/python/lib/py4j-0.10.9.7-src.zip/py4j/clientserver.py\", line 539, in send_command\n",
      "    raise Py4JNetworkError(\n",
      "py4j.protocol.Py4JNetworkError: Error while sending or receiving\n",
      "/home/juracy.santos/tools/spark-3.4.1-bin-hadoop3/python/pyspark/context.py:654: RuntimeWarning: Unable to cleanly shutdown Spark JVM process. It is possible that the process has crashed, been killed or may also be in a zombie state.\n",
      "  warnings.warn(\n"
     ]
    }
   ],
   "source": [
    "ver.count()"
   ]
  },
  {
   "cell_type": "code",
   "execution_count": null,
   "id": "17c98847",
   "metadata": {},
   "outputs": [],
   "source": []
  },
  {
   "cell_type": "code",
   "execution_count": null,
   "id": "bf4d3fa2",
   "metadata": {},
   "outputs": [],
   "source": []
  },
  {
   "cell_type": "code",
   "execution_count": 7,
   "id": "2eee0f4d",
   "metadata": {},
   "outputs": [
    {
     "data": {
      "text/plain": [
       "2490196"
      ]
     },
     "execution_count": 7,
     "metadata": {},
     "output_type": "execute_result"
    }
   ],
   "source": [
    "srag_raw.count()"
   ]
  },
  {
   "cell_type": "code",
   "execution_count": 3,
   "id": "8221e6e3",
   "metadata": {},
   "outputs": [
    {
     "name": "stderr",
     "output_type": "stream",
     "text": [
      "                                                                                \r"
     ]
    },
    {
     "data": {
      "text/plain": [
       "2680086"
      ]
     },
     "execution_count": 3,
     "metadata": {},
     "output_type": "execute_result"
    }
   ],
   "source": [
    "check.count()"
   ]
  },
  {
   "cell_type": "code",
   "execution_count": 5,
   "id": "07286e70",
   "metadata": {},
   "outputs": [
    {
     "name": "stderr",
     "output_type": "stream",
     "text": [
      "                                                                                \r"
     ]
    },
    {
     "data": {
      "text/plain": [
       "2680086"
      ]
     },
     "execution_count": 5,
     "metadata": {},
     "output_type": "execute_result"
    }
   ],
   "source": [
    "check.select(\"id_row\").distinct().count()"
   ]
  },
  {
   "cell_type": "code",
   "execution_count": 8,
   "id": "e2a8de08",
   "metadata": {},
   "outputs": [
    {
     "name": "stdout",
     "output_type": "stream",
     "text": [
      "root\n",
      " |-- id_paciente: string (nullable = true)\n",
      " |-- st_notific: string (nullable = true)\n",
      " |-- dt_notific: string (nullable = true)\n",
      " |-- sem_not: string (nullable = true)\n",
      " |-- dt_sin_pri: string (nullable = true)\n",
      " |-- sem_pri: string (nullable = true)\n",
      " |-- sg_uf_not: string (nullable = true)\n",
      " |-- id_regiona: string (nullable = true)\n",
      " |-- co_regiona: string (nullable = true)\n",
      " |-- id_municip: string (nullable = true)\n",
      " |-- co_mun_not: string (nullable = true)\n",
      " |-- id_unidade: string (nullable = true)\n",
      " |-- co_uni_not: string (nullable = true)\n",
      " |-- cs_sexo: string (nullable = true)\n",
      " |-- dt_nasc: string (nullable = true)\n",
      " |-- nu_idade_n: string (nullable = true)\n",
      " |-- tp_idade: string (nullable = true)\n",
      " |-- cod_idade: string (nullable = true)\n",
      " |-- cs_gestant: string (nullable = true)\n",
      " |-- cs_raca: string (nullable = true)\n",
      " |-- cs_etinia: string (nullable = true)\n",
      " |-- cs_escol_n: string (nullable = true)\n",
      " |-- nu_cep: string (nullable = true)\n",
      " |-- id_pais: string (nullable = true)\n",
      " |-- co_pais: string (nullable = true)\n",
      " |-- sg_uf: string (nullable = true)\n",
      " |-- id_rg_resi: string (nullable = true)\n",
      " |-- co_rg_resi: string (nullable = true)\n",
      " |-- id_mn_resi: string (nullable = true)\n",
      " |-- co_mun_res: string (nullable = true)\n",
      " |-- nm_bairro: string (nullable = true)\n",
      " |-- cs_zona: string (nullable = true)\n",
      " |-- surto_sg: string (nullable = true)\n",
      " |-- nosocomial: string (nullable = true)\n",
      " |-- ave_suino: string (nullable = true)\n",
      " |-- febre: string (nullable = true)\n",
      " |-- tosse: string (nullable = true)\n",
      " |-- garganta: string (nullable = true)\n",
      " |-- dispneia: string (nullable = true)\n",
      " |-- desc_resp: string (nullable = true)\n",
      " |-- saturacao: string (nullable = true)\n",
      " |-- diarreia: string (nullable = true)\n",
      " |-- vomito: string (nullable = true)\n",
      " |-- outro_sin: string (nullable = true)\n",
      " |-- outro_des: string (nullable = true)\n",
      " |-- fator_risc: string (nullable = true)\n",
      " |-- puerpera: string (nullable = true)\n",
      " |-- cardiopati: string (nullable = true)\n",
      " |-- hematologi: string (nullable = true)\n",
      " |-- sind_down: string (nullable = true)\n",
      " |-- hepatica: string (nullable = true)\n",
      " |-- asma: string (nullable = true)\n",
      " |-- diabetes: string (nullable = true)\n",
      " |-- neurologic: string (nullable = true)\n",
      " |-- pneumopati: string (nullable = true)\n",
      " |-- imunodepre: string (nullable = true)\n",
      " |-- renal: string (nullable = true)\n",
      " |-- obesidade: string (nullable = true)\n",
      " |-- obes_imc: string (nullable = true)\n",
      " |-- out_morbi: string (nullable = true)\n",
      " |-- morb_desc: string (nullable = true)\n",
      " |-- vacina: string (nullable = true)\n",
      " |-- dt_ut_dose: string (nullable = true)\n",
      " |-- mae_vac: string (nullable = true)\n",
      " |-- dt_vac_mae: string (nullable = true)\n",
      " |-- m_amamenta: string (nullable = true)\n",
      " |-- dt_doseuni: string (nullable = true)\n",
      " |-- dt_1_dose: string (nullable = true)\n",
      " |-- dt_2_dose: string (nullable = true)\n",
      " |-- antiviral: string (nullable = true)\n",
      " |-- tp_antivir: string (nullable = true)\n",
      " |-- out_antiv: string (nullable = true)\n",
      " |-- dt_antivir: string (nullable = true)\n",
      " |-- hospital: string (nullable = true)\n",
      " |-- dt_interna: string (nullable = true)\n",
      " |-- sg_uf_inte: string (nullable = true)\n",
      " |-- id_rg_inte: string (nullable = true)\n",
      " |-- co_rg_inte: string (nullable = true)\n",
      " |-- id_mn_inte: string (nullable = true)\n",
      " |-- co_mu_inte: string (nullable = true)\n",
      " |-- nm_un_inte: string (nullable = true)\n",
      " |-- co_un_inte: string (nullable = true)\n",
      " |-- uti: string (nullable = true)\n",
      " |-- dt_entuti: string (nullable = true)\n",
      " |-- dt_saiduti: string (nullable = true)\n",
      " |-- suport_ven: string (nullable = true)\n",
      " |-- raiox_res: string (nullable = true)\n",
      " |-- raiox_out: string (nullable = true)\n",
      " |-- dt_raiox: string (nullable = true)\n",
      " |-- amostra: string (nullable = true)\n",
      " |-- dt_coleta: string (nullable = true)\n",
      " |-- tp_amostra: string (nullable = true)\n",
      " |-- out_amost: string (nullable = true)\n",
      " |-- st_requisicao_gal: string (nullable = true)\n",
      " |-- pcr_resul: string (nullable = true)\n",
      " |-- dt_pcr: string (nullable = true)\n",
      " |-- pos_pcrflu: string (nullable = true)\n",
      " |-- tp_flu_pcr: string (nullable = true)\n",
      " |-- pcr_fluasu: string (nullable = true)\n",
      " |-- fluasu_out: string (nullable = true)\n",
      " |-- pcr_flubli: string (nullable = true)\n",
      " |-- flubli_out: string (nullable = true)\n",
      " |-- pos_pcrout: string (nullable = true)\n",
      " |-- pcr_vsr: string (nullable = true)\n",
      " |-- pcr_para1: string (nullable = true)\n",
      " |-- pcr_para2: string (nullable = true)\n",
      " |-- pcr_para3: string (nullable = true)\n",
      " |-- pcr_para4: string (nullable = true)\n",
      " |-- pcr_adeno: string (nullable = true)\n",
      " |-- pcr_metap: string (nullable = true)\n",
      " |-- pcr_boca: string (nullable = true)\n",
      " |-- pcr_rino: string (nullable = true)\n",
      " |-- pcr_outro: string (nullable = true)\n",
      " |-- ds_pcr_out: string (nullable = true)\n",
      " |-- lab_pcr: string (nullable = true)\n",
      " |-- co_lab_pcr: string (nullable = true)\n",
      " |-- classi_fin: string (nullable = true)\n",
      " |-- classi_out: string (nullable = true)\n",
      " |-- criterio: string (nullable = true)\n",
      " |-- evolucao: string (nullable = true)\n",
      " |-- dt_evoluca: string (nullable = true)\n",
      " |-- dt_encerra: string (nullable = true)\n",
      " |-- dt_digita: string (nullable = true)\n",
      " |-- histo_vgm: string (nullable = true)\n",
      " |-- pais_vgm: string (nullable = true)\n",
      " |-- co_ps_vgm: string (nullable = true)\n",
      " |-- lo_ps_vgm: string (nullable = true)\n",
      " |-- dt_vgm: string (nullable = true)\n",
      " |-- dt_rt_vgm: string (nullable = true)\n",
      " |-- pcr_sars2: string (nullable = true)\n",
      " |-- pac_cocbo: string (nullable = true)\n",
      " |-- pac_dscbo: string (nullable = true)\n",
      " |-- out_anim: string (nullable = true)\n",
      " |-- dor_abd: string (nullable = true)\n",
      " |-- fadiga: string (nullable = true)\n",
      " |-- perd_olft: string (nullable = true)\n",
      " |-- perd_pala: string (nullable = true)\n",
      " |-- tomo_res: string (nullable = true)\n",
      " |-- tomo_out: string (nullable = true)\n",
      " |-- dt_tomo: string (nullable = true)\n",
      " |-- tp_tes_an: string (nullable = true)\n",
      " |-- dt_res_an: string (nullable = true)\n",
      " |-- res_an: string (nullable = true)\n",
      " |-- lab_an: string (nullable = true)\n",
      " |-- co_lab_an: string (nullable = true)\n",
      " |-- pos_an_flu: string (nullable = true)\n",
      " |-- tp_flu_an: string (nullable = true)\n",
      " |-- pos_an_out: string (nullable = true)\n",
      " |-- an_sars2: string (nullable = true)\n",
      " |-- an_vsr: string (nullable = true)\n",
      " |-- an_para1: string (nullable = true)\n",
      " |-- an_para2: string (nullable = true)\n",
      " |-- an_para3: string (nullable = true)\n",
      " |-- an_adeno: string (nullable = true)\n",
      " |-- an_outro: string (nullable = true)\n",
      " |-- ds_an_out: string (nullable = true)\n",
      " |-- tp_am_sor: string (nullable = true)\n",
      " |-- sor_out: string (nullable = true)\n",
      " |-- dt_co_sor: string (nullable = true)\n",
      " |-- tp_sor: string (nullable = true)\n",
      " |-- out_sor: string (nullable = true)\n",
      " |-- dt_res: string (nullable = true)\n",
      " |-- res_igg: string (nullable = true)\n",
      " |-- res_igm: string (nullable = true)\n",
      " |-- res_iga: string (nullable = true)\n",
      " |-- st_do: string (nullable = true)\n",
      " |-- estrang: string (nullable = true)\n",
      " |-- vacina_cov: string (nullable = true)\n",
      " |-- dose_1_cov: string (nullable = true)\n",
      " |-- dose_2_cov: string (nullable = true)\n",
      " |-- lab_pr_cov: string (nullable = true)\n",
      " |-- lote_1_cov: string (nullable = true)\n",
      " |-- lote_2_cov: string (nullable = true)\n",
      " |-- fnt_in_cov: string (nullable = true)\n",
      " |-- dt_notific_dt: string (nullable = true)\n",
      " |-- __index_level_0__: integer (nullable = true)\n",
      " |-- id_row: long (nullable = true)\n",
      "\n"
     ]
    }
   ],
   "source": [
    "check.printSchema()"
   ]
  }
 ],
 "metadata": {
  "kernelspec": {
   "display_name": "Python 3",
   "language": "python",
   "name": "python3"
  },
  "language_info": {
   "codemirror_mode": {
    "name": "ipython",
    "version": 3
   },
   "file_extension": ".py",
   "mimetype": "text/x-python",
   "name": "python",
   "nbconvert_exporter": "python",
   "pygments_lexer": "ipython3",
   "version": "3.8.5"
  }
 },
 "nbformat": 4,
 "nbformat_minor": 5
}
