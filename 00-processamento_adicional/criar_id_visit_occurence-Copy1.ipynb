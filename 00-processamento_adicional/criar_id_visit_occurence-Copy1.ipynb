{
 "cells": [
  {
   "cell_type": "code",
   "execution_count": 1,
   "id": "28c95156",
   "metadata": {
    "tags": []
   },
   "outputs": [
    {
     "name": "stderr",
     "output_type": "stream",
     "text": [
      "/tmp/ipykernel_210951/1510302545.py:1: DeprecationWarning: Importing display from IPython.core.display is deprecated since IPython 7.14, please import from IPython display\n",
      "  from IPython.core.display import display, HTML\n"
     ]
    },
    {
     "data": {
      "text/html": [
       "<style>.container { width:100% !important; }</style>"
      ],
      "text/plain": [
       "<IPython.core.display.HTML object>"
      ]
     },
     "metadata": {},
     "output_type": "display_data"
    }
   ],
   "source": [
    "from IPython.core.display import display, HTML\n",
    "display(HTML(\"<style>.container { width:100% !important; }</style>\"))\n",
    "from pyspark.sql import functions as F\n",
    "from pyspark.sql.types import *\n",
    "import pandas as pd\n",
    "from pyspark.sql.window import Window\n",
    "import time\n",
    "from pyspark.sql import SparkSession"
   ]
  },
  {
   "cell_type": "markdown",
   "id": "0b62d339-f2db-4131-b170-1ea704c2298f",
   "metadata": {},
   "source": [
    "# Srag"
   ]
  },
  {
   "cell_type": "code",
   "execution_count": 14,
   "id": "d650978e-29ea-4cb7-a200-106fb55d46dd",
   "metadata": {},
   "outputs": [],
   "source": [
    "#srag = spark.read.parquet(\"/dados10t/datalake/standard/vigivac/srag/dbsrag_tb_influd_long_09072022_v8.parquet/\")\n",
    "srag = spark.read.parquet(\"/dados10t/datalake/raw/vigivac/srag/dbsrag_tb_influd_pandas_idrow_09072022.parquet/\")"
   ]
  },
  {
   "cell_type": "code",
   "execution_count": 15,
   "id": "6ae012a3-46a2-4cae-b089-a8692b56825b",
   "metadata": {},
   "outputs": [],
   "source": [
    "srag = srag.withColumn('srag_bin', F.lit(1))"
   ]
  },
  {
   "cell_type": "markdown",
   "id": "c76bb3c6-c196-4b60-af4b-3bb5deff0b72",
   "metadata": {},
   "source": [
    "# SG"
   ]
  },
  {
   "cell_type": "code",
   "execution_count": 16,
   "id": "bc30b07d-4c10-4ee8-ad97-17877b295dbb",
   "metadata": {},
   "outputs": [],
   "source": [
    "sg = spark.read.parquet(\"/dados10t/datalake/standard/vigivac/SG/sg_long_09072022_v9.parquet/\")"
   ]
  },
  {
   "cell_type": "code",
   "execution_count": 17,
   "id": "4cc7d7ec-33a2-492f-8ca4-3fd010c85f26",
   "metadata": {},
   "outputs": [],
   "source": [
    "sg = sg.withColumn('sg_bin', F.lit(1))"
   ]
  },
  {
   "cell_type": "markdown",
   "id": "463bcc52-873f-4dfa-bc83-ebb16136d8ba",
   "metadata": {},
   "source": [
    "# Vacinas"
   ]
  },
  {
   "cell_type": "code",
   "execution_count": 2,
   "id": "3b198e75-4bfe-44a8-abf5-b85af94b6ace",
   "metadata": {},
   "outputs": [
    {
     "name": "stderr",
     "output_type": "stream",
     "text": [
      "                                                                                \r"
     ]
    }
   ],
   "source": [
    "vac = spark.read.parquet('/dados10t/datalake/standard/vigivac/vacinacao/vacinacao07072022_pessoasunicas_5doses_v17.parquet/')"
   ]
  },
  {
   "cell_type": "code",
   "execution_count": 3,
   "id": "be66affd-151e-4d47-b522-3394b6cfb9fa",
   "metadata": {},
   "outputs": [],
   "source": [
    "vac = vac.selectExpr(\"*\",\n",
    "    \"stack(5,'d1_data_aplicacao',d1_data_aplicacao,'d2_data_aplicacao',d2_data_aplicacao,'d3_data_aplicacao',d3_data_aplicacao,'d4_data_aplicacao',d4_data_aplicacao,'d5_data_aplicacao',d5_data_aplicacao) as (n_vacina,data_aplicacao)\")\\\n",
    ".filter(F.col('data_aplicacao').isNotNull())"
   ]
  },
  {
   "cell_type": "code",
   "execution_count": 20,
   "id": "02423dd0-5225-49ee-884f-bb38c7a821dd",
   "metadata": {},
   "outputs": [],
   "source": [
    "#vac = spark.read.parquet('/dados10t/datalake/raw/vigivac/vacinacao/vacinacao07072022_v5.parquet/')"
   ]
  },
  {
   "cell_type": "code",
   "execution_count": 4,
   "id": "83c6e383-6d57-4ad4-8c20-43d9c56eb9e2",
   "metadata": {},
   "outputs": [],
   "source": [
    "vac = vac.withColumn('vac_bin', F.lit(1))"
   ]
  },
  {
   "cell_type": "markdown",
   "id": "a7fec531-3d63-4e2b-b39c-9760ac2cd4d3",
   "metadata": {},
   "source": [
    "# Merge"
   ]
  },
  {
   "cell_type": "code",
   "execution_count": 11,
   "id": "b5afa312-6320-486c-b4df-d53782a834ce",
   "metadata": {},
   "outputs": [],
   "source": [
    "srag_sg = srag.unionByName(sg,allowMissingColumns=True )"
   ]
  },
  {
   "cell_type": "code",
   "execution_count": 18,
   "id": "b8f126ee-7d0a-42ab-9f80-d9b6d3843d62",
   "metadata": {},
   "outputs": [
    {
     "name": "stderr",
     "output_type": "stream",
     "text": [
      "23/10/19 13:17:20 WARN package: Truncated the string representation of a plan since it was too large. This behavior can be adjusted by setting 'spark.sql.debug.maxToStringFields'.\n",
      "                                                                                \r"
     ]
    }
   ],
   "source": [
    "srag_sg_vac = srag_sg.unionByName(vac, allowMissingColumns=True).checkpoint(eager=True)"
   ]
  },
  {
   "cell_type": "code",
   "execution_count": 19,
   "id": "5b5a893c",
   "metadata": {},
   "outputs": [
    {
     "name": "stdout",
     "output_type": "stream",
     "text": [
      "root\n",
      " |-- id_paciente: string (nullable = true)\n",
      " |-- st_notific: string (nullable = true)\n",
      " |-- dt_notific: string (nullable = true)\n",
      " |-- sem_not: string (nullable = true)\n",
      " |-- dt_sin_pri: string (nullable = true)\n",
      " |-- sem_pri: string (nullable = true)\n",
      " |-- sg_uf_not: string (nullable = true)\n",
      " |-- id_regiona: string (nullable = true)\n",
      " |-- co_regiona: decimal(10,0) (nullable = true)\n",
      " |-- id_municip: string (nullable = true)\n",
      " |-- co_mun_not: string (nullable = true)\n",
      " |-- id_unidade: string (nullable = true)\n",
      " |-- co_uni_not: string (nullable = true)\n",
      " |-- cs_sexo: string (nullable = true)\n",
      " |-- dt_nasc: string (nullable = true)\n",
      " |-- nu_idade_n: decimal(10,0) (nullable = true)\n",
      " |-- tp_idade: string (nullable = true)\n",
      " |-- cod_idade: string (nullable = true)\n",
      " |-- cs_gestant: decimal(10,0) (nullable = true)\n",
      " |-- cs_raca: string (nullable = true)\n",
      " |-- cs_etinia: string (nullable = true)\n",
      " |-- cs_escol_n: decimal(10,0) (nullable = true)\n",
      " |-- nu_cep: string (nullable = true)\n",
      " |-- id_pais: string (nullable = true)\n",
      " |-- co_pais: decimal(10,0) (nullable = true)\n",
      " |-- sg_uf: string (nullable = true)\n",
      " |-- id_rg_resi: string (nullable = true)\n",
      " |-- co_rg_resi: decimal(10,0) (nullable = true)\n",
      " |-- id_mn_resi: string (nullable = true)\n",
      " |-- co_mun_res: string (nullable = true)\n",
      " |-- nm_bairro: string (nullable = true)\n",
      " |-- cs_zona: string (nullable = true)\n",
      " |-- surto_sg: string (nullable = true)\n",
      " |-- nosocomial: string (nullable = true)\n",
      " |-- ave_suino: string (nullable = true)\n",
      " |-- febre: string (nullable = true)\n",
      " |-- tosse: string (nullable = true)\n",
      " |-- garganta: string (nullable = true)\n",
      " |-- dispneia: string (nullable = true)\n",
      " |-- desc_resp: string (nullable = true)\n",
      " |-- saturacao: string (nullable = true)\n",
      " |-- diarreia: string (nullable = true)\n",
      " |-- vomito: string (nullable = true)\n",
      " |-- outro_sin: string (nullable = true)\n",
      " |-- outro_des: string (nullable = true)\n",
      " |-- fator_risc: string (nullable = true)\n",
      " |-- puerpera: string (nullable = true)\n",
      " |-- cardiopati: string (nullable = true)\n",
      " |-- hematologi: string (nullable = true)\n",
      " |-- sind_down: string (nullable = true)\n",
      " |-- hepatica: string (nullable = true)\n",
      " |-- asma: string (nullable = true)\n",
      " |-- diabetes: string (nullable = true)\n",
      " |-- neurologic: string (nullable = true)\n",
      " |-- pneumopati: string (nullable = true)\n",
      " |-- imunodepre: string (nullable = true)\n",
      " |-- renal: string (nullable = true)\n",
      " |-- obesidade: string (nullable = true)\n",
      " |-- obes_imc: string (nullable = true)\n",
      " |-- out_morbi: string (nullable = true)\n",
      " |-- morb_desc: string (nullable = true)\n",
      " |-- vacina: string (nullable = true)\n",
      " |-- dt_ut_dose: string (nullable = true)\n",
      " |-- mae_vac: string (nullable = true)\n",
      " |-- dt_vac_mae: string (nullable = true)\n",
      " |-- m_amamenta: string (nullable = true)\n",
      " |-- dt_doseuni: string (nullable = true)\n",
      " |-- dt_1_dose: string (nullable = true)\n",
      " |-- dt_2_dose: string (nullable = true)\n",
      " |-- antiviral: string (nullable = true)\n",
      " |-- tp_antivir: decimal(10,0) (nullable = true)\n",
      " |-- out_antiv: string (nullable = true)\n",
      " |-- dt_antivir: string (nullable = true)\n",
      " |-- hospital: string (nullable = true)\n",
      " |-- dt_interna: string (nullable = true)\n",
      " |-- sg_uf_inte: string (nullable = true)\n",
      " |-- id_rg_inte: string (nullable = true)\n",
      " |-- co_rg_inte: decimal(10,0) (nullable = true)\n",
      " |-- id_mn_inte: string (nullable = true)\n",
      " |-- co_mu_inte: string (nullable = true)\n",
      " |-- nm_un_inte: string (nullable = true)\n",
      " |-- co_un_inte: string (nullable = true)\n",
      " |-- uti: string (nullable = true)\n",
      " |-- dt_entuti: string (nullable = true)\n",
      " |-- dt_saiduti: string (nullable = true)\n",
      " |-- suport_ven: string (nullable = true)\n",
      " |-- raiox_res: decimal(10,0) (nullable = true)\n",
      " |-- raiox_out: string (nullable = true)\n",
      " |-- dt_raiox: string (nullable = true)\n",
      " |-- amostra: string (nullable = true)\n",
      " |-- dt_coleta: string (nullable = true)\n",
      " |-- tp_amostra: decimal(10,0) (nullable = true)\n",
      " |-- out_amost: string (nullable = true)\n",
      " |-- st_requisicao_gal: string (nullable = true)\n",
      " |-- pcr_resul: string (nullable = true)\n",
      " |-- dt_pcr: string (nullable = true)\n",
      " |-- pos_pcrflu: string (nullable = true)\n",
      " |-- tp_flu_pcr: string (nullable = true)\n",
      " |-- pcr_fluasu: string (nullable = true)\n",
      " |-- fluasu_out: string (nullable = true)\n",
      " |-- pcr_flubli: string (nullable = true)\n",
      " |-- flubli_out: string (nullable = true)\n",
      " |-- pos_pcrout: string (nullable = true)\n",
      " |-- pcr_vsr: string (nullable = true)\n",
      " |-- pcr_para1: string (nullable = true)\n",
      " |-- pcr_para2: string (nullable = true)\n",
      " |-- pcr_para3: string (nullable = true)\n",
      " |-- pcr_para4: string (nullable = true)\n",
      " |-- pcr_adeno: string (nullable = true)\n",
      " |-- pcr_metap: string (nullable = true)\n",
      " |-- pcr_boca: string (nullable = true)\n",
      " |-- pcr_rino: string (nullable = true)\n",
      " |-- pcr_outro: string (nullable = true)\n",
      " |-- ds_pcr_out: string (nullable = true)\n",
      " |-- lab_pcr: string (nullable = true)\n",
      " |-- co_lab_pcr: string (nullable = true)\n",
      " |-- classi_fin: decimal(10,0) (nullable = true)\n",
      " |-- classi_out: string (nullable = true)\n",
      " |-- criterio: decimal(10,0) (nullable = true)\n",
      " |-- evolucao: string (nullable = true)\n",
      " |-- dt_evoluca: string (nullable = true)\n",
      " |-- dt_encerra: string (nullable = true)\n",
      " |-- dt_digita: string (nullable = true)\n",
      " |-- histo_vgm: string (nullable = true)\n",
      " |-- pais_vgm: string (nullable = true)\n",
      " |-- co_ps_vgm: decimal(10,0) (nullable = true)\n",
      " |-- lo_ps_vgm: string (nullable = true)\n",
      " |-- dt_vgm: string (nullable = true)\n",
      " |-- dt_rt_vgm: string (nullable = true)\n",
      " |-- pcr_sars2: string (nullable = true)\n",
      " |-- pac_cocbo: string (nullable = true)\n",
      " |-- pac_dscbo: string (nullable = true)\n",
      " |-- out_anim: string (nullable = true)\n",
      " |-- dor_abd: string (nullable = true)\n",
      " |-- fadiga: string (nullable = true)\n",
      " |-- perd_olft: string (nullable = true)\n",
      " |-- perd_pala: string (nullable = true)\n",
      " |-- tomo_res: decimal(10,0) (nullable = true)\n",
      " |-- tomo_out: string (nullable = true)\n",
      " |-- dt_tomo: string (nullable = true)\n",
      " |-- tp_tes_an: decimal(10,0) (nullable = true)\n",
      " |-- dt_res_an: string (nullable = true)\n",
      " |-- res_an: string (nullable = true)\n",
      " |-- lab_an: string (nullable = true)\n",
      " |-- co_lab_an: string (nullable = true)\n",
      " |-- pos_an_flu: string (nullable = true)\n",
      " |-- tp_flu_an: string (nullable = true)\n",
      " |-- pos_an_out: string (nullable = true)\n",
      " |-- an_sars2: string (nullable = true)\n",
      " |-- an_vsr: string (nullable = true)\n",
      " |-- an_para1: string (nullable = true)\n",
      " |-- an_para2: string (nullable = true)\n",
      " |-- an_para3: string (nullable = true)\n",
      " |-- an_adeno: string (nullable = true)\n",
      " |-- an_outro: string (nullable = true)\n",
      " |-- ds_an_out: string (nullable = true)\n",
      " |-- tp_am_sor: decimal(10,0) (nullable = true)\n",
      " |-- sor_out: string (nullable = true)\n",
      " |-- dt_co_sor: string (nullable = true)\n",
      " |-- tp_sor: decimal(10,0) (nullable = true)\n",
      " |-- out_sor: string (nullable = true)\n",
      " |-- dt_res: string (nullable = true)\n",
      " |-- res_igg: string (nullable = true)\n",
      " |-- res_igm: string (nullable = true)\n",
      " |-- res_iga: string (nullable = true)\n",
      " |-- st_do: string (nullable = true)\n",
      " |-- estrang: string (nullable = true)\n",
      " |-- vacina_cov: string (nullable = true)\n",
      " |-- dose_1_cov: string (nullable = true)\n",
      " |-- dose_2_cov: string (nullable = true)\n",
      " |-- lab_pr_cov: string (nullable = true)\n",
      " |-- lote_1_cov: string (nullable = true)\n",
      " |-- lote_2_cov: string (nullable = true)\n",
      " |-- fnt_in_cov: string (nullable = true)\n",
      " |-- id_row: long (nullable = true)\n",
      " |-- srag_bin: integer (nullable = true)\n",
      " |-- dt_datanotificacao: date (nullable = true)\n",
      " |-- dt_datainiciosintomas: date (nullable = true)\n",
      " |-- dt_datateste: date (nullable = true)\n",
      " |-- condicoes: string (nullable = true)\n",
      " |-- sintomas: string (nullable = true)\n",
      " |-- classificacaofinal: string (nullable = true)\n",
      " |-- dt_dataencerramento: date (nullable = true)\n",
      " |-- evolucaocaso: string (nullable = true)\n",
      " |-- tipoteste: string (nullable = true)\n",
      " |-- resultadoteste: string (nullable = true)\n",
      " |-- codigotipoteste: string (nullable = true)\n",
      " |-- codigoresultadoteste: string (nullable = true)\n",
      " |-- estadonotificacao: string (nullable = true)\n",
      " |-- municipio: string (nullable = true)\n",
      " |-- estado: string (nullable = true)\n",
      " |-- idade: double (nullable = true)\n",
      " |-- codigo_ibge_resid: string (nullable = true)\n",
      " |-- profissionalsaude: string (nullable = true)\n",
      " |-- cbo: string (nullable = true)\n",
      " |-- evolucaocaso_2: string (nullable = true)\n",
      " |-- classificacaofinal_2: string (nullable = true)\n",
      " |-- sexo_2: string (nullable = true)\n",
      " |-- racacor_2: string (nullable = true)\n",
      " |-- condicoes_2: string (nullable = true)\n",
      " |-- tipoteste_2: string (nullable = true)\n",
      " |-- sg: string (nullable = true)\n",
      " |-- srag: string (nullable = true)\n",
      " |-- vacinacao: string (nullable = true)\n",
      " |-- id_vigvac: long (nullable = true)\n",
      " |-- sg_bin: integer (nullable = true)\n",
      " |-- d_sexo: string (nullable = true)\n",
      " |-- d_codibge: string (nullable = true)\n",
      " |-- d_idade: double (nullable = true)\n",
      " |-- d_racacor: string (nullable = true)\n",
      " |-- d_paciente_endereco_uf: string (nullable = true)\n",
      " |-- d_total_regitros_dedup: double (nullable = true)\n",
      " |-- d1_nome_vacina: string (nullable = true)\n",
      " |-- d1_data_aplicacao: date (nullable = true)\n",
      " |-- d1_estab_mun_codigo: string (nullable = true)\n",
      " |-- d1_estab_valor: string (nullable = true)\n",
      " |-- d1_vacina_grupoAtendimento_nome: string (nullable = true)\n",
      " |-- d1_vacina_categoria_nome: string (nullable = true)\n",
      " |-- d1_vacina_dose: string (nullable = true)\n",
      " |-- d2_nome_vacina: string (nullable = true)\n",
      " |-- d2_data_aplicacao: date (nullable = true)\n",
      " |-- d2_estab_mun_codigo: string (nullable = true)\n",
      " |-- d2_estab_valor: string (nullable = true)\n",
      " |-- d2_vacina_grupoAtendimento_nome: string (nullable = true)\n",
      " |-- d2_vacina_categoria_nome: string (nullable = true)\n",
      " |-- d2_vacina_dose: string (nullable = true)\n",
      " |-- d3_nome_vacina: string (nullable = true)\n",
      " |-- d3_data_aplicacao: date (nullable = true)\n",
      " |-- d3_estab_mun_codigo: string (nullable = true)\n",
      " |-- d3_estab_valor: string (nullable = true)\n",
      " |-- d3_vacina_grupoAtendimento_nome: string (nullable = true)\n",
      " |-- d3_vacina_categoria_nome: string (nullable = true)\n",
      " |-- d3_vacina_dose: string (nullable = true)\n",
      " |-- d4_nome_vacina: string (nullable = true)\n",
      " |-- d4_data_aplicacao: date (nullable = true)\n",
      " |-- d4_estab_mun_codigo: string (nullable = true)\n",
      " |-- d4_estab_valor: string (nullable = true)\n",
      " |-- d4_vacina_grupoAtendimento_nome: string (nullable = true)\n",
      " |-- d4_vacina_categoria_nome: string (nullable = true)\n",
      " |-- d4_vacina_dose: string (nullable = true)\n",
      " |-- d5_nome_vacina: string (nullable = true)\n",
      " |-- d5_data_aplicacao: date (nullable = true)\n",
      " |-- d5_estab_mun_codigo: string (nullable = true)\n",
      " |-- d5_estab_valor: string (nullable = true)\n",
      " |-- d5_vacina_grupoAtendimento_nome: string (nullable = true)\n",
      " |-- d5_vacina_categoria_nome: string (nullable = true)\n",
      " |-- d5_vacina_dose: string (nullable = true)\n",
      " |-- total_registros_vacinacao: double (nullable = true)\n",
      " |-- inconsistente: string (nullable = true)\n",
      " |-- n_vacina: string (nullable = true)\n",
      " |-- data_aplicacao: date (nullable = true)\n",
      " |-- vac_bin: integer (nullable = true)\n",
      "\n"
     ]
    }
   ],
   "source": [
    "srag_sg_vac.printSchema()"
   ]
  },
  {
   "cell_type": "code",
   "execution_count": 20,
   "id": "66d1365c",
   "metadata": {},
   "outputs": [
    {
     "name": "stderr",
     "output_type": "stream",
     "text": [
      "                                                                                \r"
     ]
    },
    {
     "data": {
      "text/plain": [
       "531604068"
      ]
     },
     "execution_count": 20,
     "metadata": {},
     "output_type": "execute_result"
    }
   ],
   "source": [
    "srag_sg_vac.count()"
   ]
  },
  {
   "cell_type": "code",
   "execution_count": 22,
   "id": "8aebc4b4",
   "metadata": {},
   "outputs": [
    {
     "name": "stderr",
     "output_type": "stream",
     "text": [
      "                                                                                \r"
     ]
    },
    {
     "data": {
      "text/plain": [
       "2490196"
      ]
     },
     "execution_count": 22,
     "metadata": {},
     "output_type": "execute_result"
    }
   ],
   "source": [
    "#srag_sg_vac.filter(F.col(\"id_paciente\").isNotNull()).count() #2490196"
   ]
  },
  {
   "cell_type": "code",
   "execution_count": 23,
   "id": "2b8d3809",
   "metadata": {},
   "outputs": [],
   "source": [
    "srag_sg_vac = srag_sg_vac.withColumn(\"id_intermediorio_tb_visitas\",F.monotonically_increasing_id()) # em um banco com somente esse id vai ser criado o zip with index e ele vai ser para voltar ao banco full"
   ]
  },
  {
   "cell_type": "code",
   "execution_count": 24,
   "id": "b5072b87",
   "metadata": {},
   "outputs": [
    {
     "name": "stderr",
     "output_type": "stream",
     "text": [
      "                                                                                \r"
     ]
    },
    {
     "data": {
      "text/plain": [
       "531604068"
      ]
     },
     "execution_count": 24,
     "metadata": {},
     "output_type": "execute_result"
    }
   ],
   "source": [
    "#srag_sg_vac.count() #531604068"
   ]
  },
  {
   "cell_type": "code",
   "execution_count": 25,
   "id": "f3e0f8ff",
   "metadata": {},
   "outputs": [
    {
     "name": "stderr",
     "output_type": "stream",
     "text": [
      "                                                                                \r"
     ]
    },
    {
     "data": {
      "text/plain": [
       "531604068"
      ]
     },
     "execution_count": 25,
     "metadata": {},
     "output_type": "execute_result"
    }
   ],
   "source": [
    "#srag_sg_vac.select(\"id_intermediorio_tb_visitas\").distinct().count() #531604068"
   ]
  },
  {
   "cell_type": "code",
   "execution_count": 26,
   "id": "6e2f9def",
   "metadata": {},
   "outputs": [
    {
     "name": "stderr",
     "output_type": "stream",
     "text": [
      "                                                                                \r"
     ]
    }
   ],
   "source": [
    "srag_sg_vac.write.parquet('/dados10t/datalake/standard/omop/data_with_ids/bancos_intermediarios/tb_forvisitas_vac_srag_sg_full_id_long.parquet')"
   ]
  },
  {
   "cell_type": "code",
   "execution_count": 27,
   "id": "840033f1",
   "metadata": {},
   "outputs": [],
   "source": [
    "srag_sg_vac_ids = srag_sg_vac.select(\"id_intermediorio_tb_visitas\")"
   ]
  },
  {
   "cell_type": "code",
   "execution_count": 28,
   "id": "47ceac2b",
   "metadata": {},
   "outputs": [],
   "source": [
    "import time\n",
    "start = time.time()"
   ]
  },
  {
   "cell_type": "code",
   "execution_count": 29,
   "id": "6dd7f6bf",
   "metadata": {},
   "outputs": [
    {
     "name": "stderr",
     "output_type": "stream",
     "text": [
      "                                                                                \r"
     ]
    }
   ],
   "source": [
    "full_id_with_row = srag_sg_vac_ids.rdd.zipWithIndex().toDF().select(F.col(\"_1.*\"),F.col(\"_2\").alias('visit_occurrence_id'))"
   ]
  },
  {
   "cell_type": "code",
   "execution_count": 30,
   "id": "adcce56a",
   "metadata": {},
   "outputs": [
    {
     "name": "stdout",
     "output_type": "stream",
     "text": [
      "834.0656304359436\n"
     ]
    }
   ],
   "source": [
    "end = time.time()\n",
    "print(end - start)"
   ]
  },
  {
   "cell_type": "code",
   "execution_count": null,
   "id": "e34d9c1c",
   "metadata": {},
   "outputs": [],
   "source": []
  },
  {
   "cell_type": "code",
   "execution_count": null,
   "id": "961edbe5",
   "metadata": {},
   "outputs": [],
   "source": []
  },
  {
   "cell_type": "code",
   "execution_count": null,
   "id": "cfd37e82-bb75-4c95-8a19-89b2317039a5",
   "metadata": {},
   "outputs": [],
   "source": [
    "#full_id = srag_sg_vac.withColumn(\"new_column\", F.lit(\"ABC\"))\n",
    "#w = Window().partitionBy('new_column').orderBy(F.lit('A'))\n",
    "#full_id_with_row = full_id.withColumn(\"visit_occurrence_id\",F.row_number().over(w)).drop(\"new_column\")"
   ]
  },
  {
   "cell_type": "code",
   "execution_count": 31,
   "id": "e559e7ea-ab10-4fb6-bdce-940fbfec558b",
   "metadata": {},
   "outputs": [
    {
     "data": {
      "text/plain": [
       "['id_intermediorio_tb_visitas', 'visit_occurrence_id']"
      ]
     },
     "execution_count": 31,
     "metadata": {},
     "output_type": "execute_result"
    }
   ],
   "source": [
    "full_id_with_row.columns"
   ]
  },
  {
   "cell_type": "code",
   "execution_count": 32,
   "id": "acdef811-4398-478f-a82c-8aed3262d869",
   "metadata": {},
   "outputs": [],
   "source": [
    "#full_id_with_row = full_id_with_row.checkpoint(eager = true)"
   ]
  },
  {
   "cell_type": "code",
   "execution_count": 33,
   "id": "730403f0",
   "metadata": {},
   "outputs": [
    {
     "name": "stdout",
     "output_type": "stream",
     "text": [
      "834.085613489151\n"
     ]
    }
   ],
   "source": [
    "end = time.time()\n",
    "print(end - start)"
   ]
  },
  {
   "cell_type": "code",
   "execution_count": 34,
   "id": "8a4dac1c",
   "metadata": {},
   "outputs": [
    {
     "name": "stderr",
     "output_type": "stream",
     "text": [
      "                                                                                \r"
     ]
    }
   ],
   "source": [
    "full_id_with_row.write.parquet('/dados10t/datalake/standard/omop/data_with_ids/bancos_intermediarios/tb_forvisitas_id_long_id_int.parquet') #banco com duas variaveis, id long para retornar ao banco full e o novo id das visitas"
   ]
  },
  {
   "cell_type": "code",
   "execution_count": null,
   "id": "e2129591",
   "metadata": {},
   "outputs": [],
   "source": []
  },
  {
   "cell_type": "code",
   "execution_count": 5,
   "id": "882fd054",
   "metadata": {},
   "outputs": [],
   "source": [
    "srag_sg_vac_v2 = spark.read.parquet('/dados10t/datalake/standard/omop/data_with_ids/bancos_intermediarios/tb_forvisitas_vac_srag_sg_full_id_long.parquet')\n",
    "full_id_with_row_v2 = spark.read.parquet('/dados10t/datalake/standard/omop/data_with_ids/bancos_intermediarios/tb_forvisitas_id_long_id_int.parquet')"
   ]
  },
  {
   "cell_type": "code",
   "execution_count": 3,
   "id": "05a4f82f",
   "metadata": {},
   "outputs": [
    {
     "name": "stderr",
     "output_type": "stream",
     "text": [
      "                                                                                \r"
     ]
    },
    {
     "data": {
      "text/plain": [
       "531604068"
      ]
     },
     "execution_count": 3,
     "metadata": {},
     "output_type": "execute_result"
    }
   ],
   "source": [
    "srag_sg_vac_v2.count()"
   ]
  },
  {
   "cell_type": "code",
   "execution_count": 4,
   "id": "21bd5c61",
   "metadata": {},
   "outputs": [
    {
     "name": "stderr",
     "output_type": "stream",
     "text": [
      "                                                                                \r"
     ]
    },
    {
     "data": {
      "text/plain": [
       "531604068"
      ]
     },
     "execution_count": 4,
     "metadata": {},
     "output_type": "execute_result"
    }
   ],
   "source": [
    "full_id_with_row_v2.count()"
   ]
  },
  {
   "cell_type": "code",
   "execution_count": 5,
   "id": "8f900dbb",
   "metadata": {},
   "outputs": [
    {
     "name": "stderr",
     "output_type": "stream",
     "text": [
      "                                                                                \r"
     ]
    },
    {
     "data": {
      "text/plain": [
       "531604068"
      ]
     },
     "execution_count": 5,
     "metadata": {},
     "output_type": "execute_result"
    }
   ],
   "source": [
    "full_id_with_row_v2.select(\"id_intermediorio_tb_visitas\").distinct().count() #531604068"
   ]
  },
  {
   "cell_type": "code",
   "execution_count": 6,
   "id": "716f0c18",
   "metadata": {},
   "outputs": [
    {
     "name": "stderr",
     "output_type": "stream",
     "text": [
      "                                                                                \r"
     ]
    },
    {
     "data": {
      "text/plain": [
       "531604068"
      ]
     },
     "execution_count": 6,
     "metadata": {},
     "output_type": "execute_result"
    }
   ],
   "source": [
    "srag_sg_vac_v2.select(\"id_intermediorio_tb_visitas\").distinct().count() #531604068"
   ]
  },
  {
   "cell_type": "code",
   "execution_count": 6,
   "id": "4c17c5f0",
   "metadata": {},
   "outputs": [],
   "source": [
    "srag_sg_vac_full_variaveis = srag_sg_vac_v2.join(full_id_with_row_v2,['id_intermediorio_tb_visitas'],'inner')"
   ]
  },
  {
   "cell_type": "code",
   "execution_count": 8,
   "id": "f66074b8",
   "metadata": {},
   "outputs": [
    {
     "name": "stdout",
     "output_type": "stream",
     "text": [
      "root\n",
      " |-- id_intermediorio_tb_visitas: long (nullable = true)\n",
      " |-- id_paciente: string (nullable = true)\n",
      " |-- st_notific: string (nullable = true)\n",
      " |-- dt_notific: string (nullable = true)\n",
      " |-- sem_not: string (nullable = true)\n",
      " |-- dt_sin_pri: string (nullable = true)\n",
      " |-- sem_pri: string (nullable = true)\n",
      " |-- sg_uf_not: string (nullable = true)\n",
      " |-- id_regiona: string (nullable = true)\n",
      " |-- co_regiona: decimal(10,0) (nullable = true)\n",
      " |-- id_municip: string (nullable = true)\n",
      " |-- co_mun_not: string (nullable = true)\n",
      " |-- id_unidade: string (nullable = true)\n",
      " |-- co_uni_not: string (nullable = true)\n",
      " |-- cs_sexo: string (nullable = true)\n",
      " |-- dt_nasc: string (nullable = true)\n",
      " |-- nu_idade_n: decimal(10,0) (nullable = true)\n",
      " |-- tp_idade: string (nullable = true)\n",
      " |-- cod_idade: string (nullable = true)\n",
      " |-- cs_gestant: decimal(10,0) (nullable = true)\n",
      " |-- cs_raca: string (nullable = true)\n",
      " |-- cs_etinia: string (nullable = true)\n",
      " |-- cs_escol_n: decimal(10,0) (nullable = true)\n",
      " |-- nu_cep: string (nullable = true)\n",
      " |-- id_pais: string (nullable = true)\n",
      " |-- co_pais: decimal(10,0) (nullable = true)\n",
      " |-- sg_uf: string (nullable = true)\n",
      " |-- id_rg_resi: string (nullable = true)\n",
      " |-- co_rg_resi: decimal(10,0) (nullable = true)\n",
      " |-- id_mn_resi: string (nullable = true)\n",
      " |-- co_mun_res: string (nullable = true)\n",
      " |-- nm_bairro: string (nullable = true)\n",
      " |-- cs_zona: string (nullable = true)\n",
      " |-- surto_sg: string (nullable = true)\n",
      " |-- nosocomial: string (nullable = true)\n",
      " |-- ave_suino: string (nullable = true)\n",
      " |-- febre: string (nullable = true)\n",
      " |-- tosse: string (nullable = true)\n",
      " |-- garganta: string (nullable = true)\n",
      " |-- dispneia: string (nullable = true)\n",
      " |-- desc_resp: string (nullable = true)\n",
      " |-- saturacao: string (nullable = true)\n",
      " |-- diarreia: string (nullable = true)\n",
      " |-- vomito: string (nullable = true)\n",
      " |-- outro_sin: string (nullable = true)\n",
      " |-- outro_des: string (nullable = true)\n",
      " |-- fator_risc: string (nullable = true)\n",
      " |-- puerpera: string (nullable = true)\n",
      " |-- cardiopati: string (nullable = true)\n",
      " |-- hematologi: string (nullable = true)\n",
      " |-- sind_down: string (nullable = true)\n",
      " |-- hepatica: string (nullable = true)\n",
      " |-- asma: string (nullable = true)\n",
      " |-- diabetes: string (nullable = true)\n",
      " |-- neurologic: string (nullable = true)\n",
      " |-- pneumopati: string (nullable = true)\n",
      " |-- imunodepre: string (nullable = true)\n",
      " |-- renal: string (nullable = true)\n",
      " |-- obesidade: string (nullable = true)\n",
      " |-- obes_imc: string (nullable = true)\n",
      " |-- out_morbi: string (nullable = true)\n",
      " |-- morb_desc: string (nullable = true)\n",
      " |-- vacina: string (nullable = true)\n",
      " |-- dt_ut_dose: string (nullable = true)\n",
      " |-- mae_vac: string (nullable = true)\n",
      " |-- dt_vac_mae: string (nullable = true)\n",
      " |-- m_amamenta: string (nullable = true)\n",
      " |-- dt_doseuni: string (nullable = true)\n",
      " |-- dt_1_dose: string (nullable = true)\n",
      " |-- dt_2_dose: string (nullable = true)\n",
      " |-- antiviral: string (nullable = true)\n",
      " |-- tp_antivir: decimal(10,0) (nullable = true)\n",
      " |-- out_antiv: string (nullable = true)\n",
      " |-- dt_antivir: string (nullable = true)\n",
      " |-- hospital: string (nullable = true)\n",
      " |-- dt_interna: string (nullable = true)\n",
      " |-- sg_uf_inte: string (nullable = true)\n",
      " |-- id_rg_inte: string (nullable = true)\n",
      " |-- co_rg_inte: decimal(10,0) (nullable = true)\n",
      " |-- id_mn_inte: string (nullable = true)\n",
      " |-- co_mu_inte: string (nullable = true)\n",
      " |-- nm_un_inte: string (nullable = true)\n",
      " |-- co_un_inte: string (nullable = true)\n",
      " |-- uti: string (nullable = true)\n",
      " |-- dt_entuti: string (nullable = true)\n",
      " |-- dt_saiduti: string (nullable = true)\n",
      " |-- suport_ven: string (nullable = true)\n",
      " |-- raiox_res: decimal(10,0) (nullable = true)\n",
      " |-- raiox_out: string (nullable = true)\n",
      " |-- dt_raiox: string (nullable = true)\n",
      " |-- amostra: string (nullable = true)\n",
      " |-- dt_coleta: string (nullable = true)\n",
      " |-- tp_amostra: decimal(10,0) (nullable = true)\n",
      " |-- out_amost: string (nullable = true)\n",
      " |-- st_requisicao_gal: string (nullable = true)\n",
      " |-- pcr_resul: string (nullable = true)\n",
      " |-- dt_pcr: string (nullable = true)\n",
      " |-- pos_pcrflu: string (nullable = true)\n",
      " |-- tp_flu_pcr: string (nullable = true)\n",
      " |-- pcr_fluasu: string (nullable = true)\n",
      " |-- fluasu_out: string (nullable = true)\n",
      " |-- pcr_flubli: string (nullable = true)\n",
      " |-- flubli_out: string (nullable = true)\n",
      " |-- pos_pcrout: string (nullable = true)\n",
      " |-- pcr_vsr: string (nullable = true)\n",
      " |-- pcr_para1: string (nullable = true)\n",
      " |-- pcr_para2: string (nullable = true)\n",
      " |-- pcr_para3: string (nullable = true)\n",
      " |-- pcr_para4: string (nullable = true)\n",
      " |-- pcr_adeno: string (nullable = true)\n",
      " |-- pcr_metap: string (nullable = true)\n",
      " |-- pcr_boca: string (nullable = true)\n",
      " |-- pcr_rino: string (nullable = true)\n",
      " |-- pcr_outro: string (nullable = true)\n",
      " |-- ds_pcr_out: string (nullable = true)\n",
      " |-- lab_pcr: string (nullable = true)\n",
      " |-- co_lab_pcr: string (nullable = true)\n",
      " |-- classi_fin: decimal(10,0) (nullable = true)\n",
      " |-- classi_out: string (nullable = true)\n",
      " |-- criterio: decimal(10,0) (nullable = true)\n",
      " |-- evolucao: string (nullable = true)\n",
      " |-- dt_evoluca: string (nullable = true)\n",
      " |-- dt_encerra: string (nullable = true)\n",
      " |-- dt_digita: string (nullable = true)\n",
      " |-- histo_vgm: string (nullable = true)\n",
      " |-- pais_vgm: string (nullable = true)\n",
      " |-- co_ps_vgm: decimal(10,0) (nullable = true)\n",
      " |-- lo_ps_vgm: string (nullable = true)\n",
      " |-- dt_vgm: string (nullable = true)\n",
      " |-- dt_rt_vgm: string (nullable = true)\n",
      " |-- pcr_sars2: string (nullable = true)\n",
      " |-- pac_cocbo: string (nullable = true)\n",
      " |-- pac_dscbo: string (nullable = true)\n",
      " |-- out_anim: string (nullable = true)\n",
      " |-- dor_abd: string (nullable = true)\n",
      " |-- fadiga: string (nullable = true)\n",
      " |-- perd_olft: string (nullable = true)\n",
      " |-- perd_pala: string (nullable = true)\n",
      " |-- tomo_res: decimal(10,0) (nullable = true)\n",
      " |-- tomo_out: string (nullable = true)\n",
      " |-- dt_tomo: string (nullable = true)\n",
      " |-- tp_tes_an: decimal(10,0) (nullable = true)\n",
      " |-- dt_res_an: string (nullable = true)\n",
      " |-- res_an: string (nullable = true)\n",
      " |-- lab_an: string (nullable = true)\n",
      " |-- co_lab_an: string (nullable = true)\n",
      " |-- pos_an_flu: string (nullable = true)\n",
      " |-- tp_flu_an: string (nullable = true)\n",
      " |-- pos_an_out: string (nullable = true)\n",
      " |-- an_sars2: string (nullable = true)\n",
      " |-- an_vsr: string (nullable = true)\n",
      " |-- an_para1: string (nullable = true)\n",
      " |-- an_para2: string (nullable = true)\n",
      " |-- an_para3: string (nullable = true)\n",
      " |-- an_adeno: string (nullable = true)\n",
      " |-- an_outro: string (nullable = true)\n",
      " |-- ds_an_out: string (nullable = true)\n",
      " |-- tp_am_sor: decimal(10,0) (nullable = true)\n",
      " |-- sor_out: string (nullable = true)\n",
      " |-- dt_co_sor: string (nullable = true)\n",
      " |-- tp_sor: decimal(10,0) (nullable = true)\n",
      " |-- out_sor: string (nullable = true)\n",
      " |-- dt_res: string (nullable = true)\n",
      " |-- res_igg: string (nullable = true)\n",
      " |-- res_igm: string (nullable = true)\n",
      " |-- res_iga: string (nullable = true)\n",
      " |-- st_do: string (nullable = true)\n",
      " |-- estrang: string (nullable = true)\n",
      " |-- vacina_cov: string (nullable = true)\n",
      " |-- dose_1_cov: string (nullable = true)\n",
      " |-- dose_2_cov: string (nullable = true)\n",
      " |-- lab_pr_cov: string (nullable = true)\n",
      " |-- lote_1_cov: string (nullable = true)\n",
      " |-- lote_2_cov: string (nullable = true)\n",
      " |-- fnt_in_cov: string (nullable = true)\n",
      " |-- id_row: long (nullable = true)\n",
      " |-- srag_bin: integer (nullable = true)\n",
      " |-- dt_datanotificacao: date (nullable = true)\n",
      " |-- dt_datainiciosintomas: date (nullable = true)\n",
      " |-- dt_datateste: date (nullable = true)\n",
      " |-- condicoes: string (nullable = true)\n",
      " |-- sintomas: string (nullable = true)\n",
      " |-- classificacaofinal: string (nullable = true)\n",
      " |-- dt_dataencerramento: date (nullable = true)\n",
      " |-- evolucaocaso: string (nullable = true)\n",
      " |-- tipoteste: string (nullable = true)\n",
      " |-- resultadoteste: string (nullable = true)\n",
      " |-- codigotipoteste: string (nullable = true)\n",
      " |-- codigoresultadoteste: string (nullable = true)\n",
      " |-- estadonotificacao: string (nullable = true)\n",
      " |-- municipio: string (nullable = true)\n",
      " |-- estado: string (nullable = true)\n",
      " |-- idade: double (nullable = true)\n",
      " |-- codigo_ibge_resid: string (nullable = true)\n",
      " |-- profissionalsaude: string (nullable = true)\n",
      " |-- cbo: string (nullable = true)\n",
      " |-- evolucaocaso_2: string (nullable = true)\n",
      " |-- classificacaofinal_2: string (nullable = true)\n",
      " |-- sexo_2: string (nullable = true)\n",
      " |-- racacor_2: string (nullable = true)\n",
      " |-- condicoes_2: string (nullable = true)\n",
      " |-- tipoteste_2: string (nullable = true)\n",
      " |-- sg: string (nullable = true)\n",
      " |-- srag: string (nullable = true)\n",
      " |-- vacinacao: string (nullable = true)\n",
      " |-- id_vigvac: long (nullable = true)\n",
      " |-- sg_bin: integer (nullable = true)\n",
      " |-- d_sexo: string (nullable = true)\n",
      " |-- d_codibge: string (nullable = true)\n",
      " |-- d_idade: double (nullable = true)\n",
      " |-- d_racacor: string (nullable = true)\n",
      " |-- d_paciente_endereco_uf: string (nullable = true)\n",
      " |-- d_total_regitros_dedup: double (nullable = true)\n",
      " |-- d1_nome_vacina: string (nullable = true)\n",
      " |-- d1_data_aplicacao: date (nullable = true)\n",
      " |-- d1_estab_mun_codigo: string (nullable = true)\n",
      " |-- d1_estab_valor: string (nullable = true)\n",
      " |-- d1_vacina_grupoAtendimento_nome: string (nullable = true)\n",
      " |-- d1_vacina_categoria_nome: string (nullable = true)\n",
      " |-- d1_vacina_dose: string (nullable = true)\n",
      " |-- d2_nome_vacina: string (nullable = true)\n",
      " |-- d2_data_aplicacao: date (nullable = true)\n",
      " |-- d2_estab_mun_codigo: string (nullable = true)\n",
      " |-- d2_estab_valor: string (nullable = true)\n",
      " |-- d2_vacina_grupoAtendimento_nome: string (nullable = true)\n",
      " |-- d2_vacina_categoria_nome: string (nullable = true)\n",
      " |-- d2_vacina_dose: string (nullable = true)\n",
      " |-- d3_nome_vacina: string (nullable = true)\n",
      " |-- d3_data_aplicacao: date (nullable = true)\n",
      " |-- d3_estab_mun_codigo: string (nullable = true)\n",
      " |-- d3_estab_valor: string (nullable = true)\n",
      " |-- d3_vacina_grupoAtendimento_nome: string (nullable = true)\n",
      " |-- d3_vacina_categoria_nome: string (nullable = true)\n",
      " |-- d3_vacina_dose: string (nullable = true)\n",
      " |-- d4_nome_vacina: string (nullable = true)\n",
      " |-- d4_data_aplicacao: date (nullable = true)\n",
      " |-- d4_estab_mun_codigo: string (nullable = true)\n",
      " |-- d4_estab_valor: string (nullable = true)\n",
      " |-- d4_vacina_grupoAtendimento_nome: string (nullable = true)\n",
      " |-- d4_vacina_categoria_nome: string (nullable = true)\n",
      " |-- d4_vacina_dose: string (nullable = true)\n",
      " |-- d5_nome_vacina: string (nullable = true)\n",
      " |-- d5_data_aplicacao: date (nullable = true)\n",
      " |-- d5_estab_mun_codigo: string (nullable = true)\n",
      " |-- d5_estab_valor: string (nullable = true)\n",
      " |-- d5_vacina_grupoAtendimento_nome: string (nullable = true)\n",
      " |-- d5_vacina_categoria_nome: string (nullable = true)\n",
      " |-- d5_vacina_dose: string (nullable = true)\n",
      " |-- total_registros_vacinacao: double (nullable = true)\n",
      " |-- inconsistente: string (nullable = true)\n",
      " |-- n_vacina: string (nullable = true)\n",
      " |-- data_aplicacao: date (nullable = true)\n",
      " |-- vac_bin: integer (nullable = true)\n",
      " |-- visit_occurrence_id: long (nullable = true)\n",
      "\n"
     ]
    }
   ],
   "source": [
    "srag_sg_vac_full_variaveis.printSchema()"
   ]
  },
  {
   "cell_type": "code",
   "execution_count": 9,
   "id": "91bd2740",
   "metadata": {},
   "outputs": [
    {
     "name": "stderr",
     "output_type": "stream",
     "text": [
      "                                                                                \r"
     ]
    },
    {
     "data": {
      "text/plain": [
       "531604068"
      ]
     },
     "execution_count": 9,
     "metadata": {},
     "output_type": "execute_result"
    }
   ],
   "source": [
    "srag_sg_vac_full_variaveis.count()"
   ]
  },
  {
   "cell_type": "markdown",
   "id": "485c8b00-a672-419b-b897-41f52c688d21",
   "metadata": {},
   "source": [
    "# Writting"
   ]
  },
  {
   "cell_type": "markdown",
   "id": "976528e0-df3e-47a3-9c6e-9113754903c1",
   "metadata": {},
   "source": [
    "### srag"
   ]
  },
  {
   "cell_type": "code",
   "execution_count": 22,
   "id": "2cd6624c-6a70-4c1f-ad6e-a808ec5b9af2",
   "metadata": {},
   "outputs": [],
   "source": [
    "srag_id = srag_sg_vac_full_variaveis.filter(F.col('srag_bin') == 1).select(srag.columns + ['visit_occurrence_id']).drop('srag_bin')"
   ]
  },
  {
   "cell_type": "code",
   "execution_count": 23,
   "id": "7132ac1c-9ec9-409f-985f-241b3d88007a",
   "metadata": {},
   "outputs": [
    {
     "name": "stderr",
     "output_type": "stream",
     "text": [
      "23/10/19 16:14:39 WARN package: Truncated the string representation of a plan since it was too large. This behavior can be adjusted by setting 'spark.sql.debug.maxToStringFields'.\n",
      "                                                                                \r"
     ]
    }
   ],
   "source": [
    "srag_id.write.parquet('/dados10t/datalake/standard/omop/data_with_ids/dbsrag_tb_influd_long_09072022_v8-id_omop-v3.parquet')"
   ]
  },
  {
   "cell_type": "markdown",
   "id": "372d0bdd-26d0-4b99-afde-e0a67d5ee405",
   "metadata": {},
   "source": [
    "#### sg"
   ]
  },
  {
   "cell_type": "code",
   "execution_count": 24,
   "id": "11ecc056-a35e-43a5-9e6f-793ba95a8ddb",
   "metadata": {},
   "outputs": [],
   "source": [
    "sg_id = srag_sg_vac_full_variaveis.filter(F.col('sg_bin') == 1).select(sg.columns + ['visit_occurrence_id']).drop('sg_bin')"
   ]
  },
  {
   "cell_type": "code",
   "execution_count": 25,
   "id": "3109ae0e-74dc-4df8-9a33-9be9b0882eaa",
   "metadata": {},
   "outputs": [
    {
     "name": "stderr",
     "output_type": "stream",
     "text": [
      "                                                                                \r"
     ]
    }
   ],
   "source": [
    "sg_id.write.parquet('/dados10t/datalake/standard/omop/data_with_ids/sg_long_09072022_v9-id_omop-v3.parquet/')"
   ]
  },
  {
   "cell_type": "markdown",
   "id": "ddd3f766-3760-4d35-8736-c881ce2b0b47",
   "metadata": {},
   "source": [
    "#### vac"
   ]
  },
  {
   "cell_type": "code",
   "execution_count": 7,
   "id": "ad439f1b-e63d-4ec2-b7b4-d1a8bfe2ae08",
   "metadata": {},
   "outputs": [],
   "source": [
    "vac_id = srag_sg_vac_full_variaveis.filter(F.col('vac_bin') == 1).select(vac.columns + ['visit_occurrence_id']).drop('vac_bin')"
   ]
  },
  {
   "cell_type": "code",
   "execution_count": 8,
   "id": "27f8e5fa-5274-461c-8d25-5edb9cca27a9",
   "metadata": {},
   "outputs": [
    {
     "name": "stderr",
     "output_type": "stream",
     "text": [
      "23/10/19 16:52:49 WARN package: Truncated the string representation of a plan since it was too large. This behavior can be adjusted by setting 'spark.sql.debug.maxToStringFields'.\n",
      "                                                                                \r"
     ]
    }
   ],
   "source": [
    "vac_id.write.parquet('/dados10t/datalake/standard/omop/data_with_ids/vacinacao07072022_pessoasunicas_5doses_v17-id_omop-v3.parquet/')"
   ]
  }
 ],
 "metadata": {
  "kernelspec": {
   "display_name": "Python 3 (ipykernel)",
   "language": "python",
   "name": "python3"
  },
  "language_info": {
   "codemirror_mode": {
    "name": "ipython",
    "version": 3
   },
   "file_extension": ".py",
   "mimetype": "text/x-python",
   "name": "python",
   "nbconvert_exporter": "python",
   "pygments_lexer": "ipython3",
   "version": "3.10.12"
  }
 },
 "nbformat": 4,
 "nbformat_minor": 5
}
