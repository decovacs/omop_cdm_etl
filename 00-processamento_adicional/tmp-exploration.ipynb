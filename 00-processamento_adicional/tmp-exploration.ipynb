{
 "cells": [
  {
   "cell_type": "code",
   "execution_count": 1,
   "id": "28c95156",
   "metadata": {
    "tags": []
   },
   "outputs": [
    {
     "name": "stderr",
     "output_type": "stream",
     "text": [
      "/tmp/ipykernel_58473/1510302545.py:1: DeprecationWarning: Importing display from IPython.core.display is deprecated since IPython 7.14, please import from IPython display\n",
      "  from IPython.core.display import display, HTML\n"
     ]
    },
    {
     "data": {
      "text/html": [
       "<style>.container { width:100% !important; }</style>"
      ],
      "text/plain": [
       "<IPython.core.display.HTML object>"
      ]
     },
     "metadata": {},
     "output_type": "display_data"
    }
   ],
   "source": [
    "from IPython.core.display import display, HTML\n",
    "display(HTML(\"<style>.container { width:100% !important; }</style>\"))\n",
    "from pyspark.sql import functions as F\n",
    "from pyspark.sql.types import *\n",
    "import pandas as pd\n",
    "from pyspark.sql.window import Window\n",
    "import time\n",
    "from pyspark.sql import SparkSession"
   ]
  },
  {
   "cell_type": "code",
   "execution_count": 2,
   "id": "1a99061c-dd7a-4efd-9423-100a8c6f802a",
   "metadata": {},
   "outputs": [
    {
     "name": "stderr",
     "output_type": "stream",
     "text": [
      "Setting default log level to \"WARN\".\n",
      "To adjust logging level use sc.setLogLevel(newLevel). For SparkR, use setLogLevel(newLevel).\n",
      "23/10/20 19:08:26 WARN NativeCodeLoader: Unable to load native-hadoop library for your platform... using builtin-java classes where applicable\n",
      "23/10/20 19:08:26 WARN SparkConf: Note that spark.local.dir will be overridden by the value set by the cluster manager (via SPARK_LOCAL_DIRS in mesos/standalone/kubernetes and LOCAL_DIRS in YARN).\n",
      "23/10/20 19:08:27 WARN Utils: Service 'SparkUI' could not bind on port 4040. Attempting port 4041.\n",
      "23/10/20 19:08:27 WARN Utils: Service 'SparkUI' could not bind on port 4041. Attempting port 4042.\n"
     ]
    }
   ],
   "source": [
    "spark = SparkSession.builder \\\n",
    "       .master(\"local[*]\") \\\n",
    "       .appName(\"test\") \\\n",
    "       .config(\"spark.driver.memory\", \"80g\")\\\n",
    "       .config(\"spark.executor.memory\", \"50g\")\\\n",
    "       .config(\"spark.dirver.maxResultSize\", \"50g\")\\\n",
    "       .config('spark.local.dir', '/dados10t/datalake/raw/checkpoint_dir')\\\n",
    "       .getOrCreate()\n",
    "sc = spark.sparkContext\n",
    "sc.setCheckpointDir('/dados10t/datalake/raw/checkpoint_dir')"
   ]
  },
  {
   "cell_type": "markdown",
   "id": "463bcc52-873f-4dfa-bc83-ebb16136d8ba",
   "metadata": {},
   "source": [
    "# TMP"
   ]
  },
  {
   "cell_type": "code",
   "execution_count": 3,
   "id": "8353f7e3-cb3c-4cc0-8a4b-8bc128801e3f",
   "metadata": {},
   "outputs": [
    {
     "name": "stderr",
     "output_type": "stream",
     "text": [
      "                                                                                \r"
     ]
    }
   ],
   "source": [
    "srag1  = spark.read.parquet(\"/dados10t/datalake/standard/vigivac/srag/dbsrag_tb_influd_long_09072022_v8.parquet/\")"
   ]
  },
  {
   "cell_type": "code",
   "execution_count": 4,
   "id": "8f5e5f5e-de18-4396-8ea6-425b68136d75",
   "metadata": {},
   "outputs": [],
   "source": [
    "srag2 = spark.read.parquet(\"/dados10t/datalake/raw/vigivac/srag/dbsrag_tb_influd_pandas_idrow_09072022.parquet/\")"
   ]
  },
  {
   "cell_type": "code",
   "execution_count": 5,
   "id": "b6d7cb39-96a7-473d-bf19-f7baf5d691c5",
   "metadata": {},
   "outputs": [
    {
     "name": "stderr",
     "output_type": "stream",
     "text": [
      "                                                                                \r"
     ]
    },
    {
     "data": {
      "text/plain": [
       "2487085"
      ]
     },
     "execution_count": 5,
     "metadata": {},
     "output_type": "execute_result"
    }
   ],
   "source": [
    "srag1.count()"
   ]
  },
  {
   "cell_type": "code",
   "execution_count": 6,
   "id": "093c50d2-8b05-4007-aa00-5088022befb3",
   "metadata": {},
   "outputs": [
    {
     "name": "stderr",
     "output_type": "stream",
     "text": [
      "                                                                                \r"
     ]
    },
    {
     "data": {
      "text/plain": [
       "2490196"
      ]
     },
     "execution_count": 6,
     "metadata": {},
     "output_type": "execute_result"
    }
   ],
   "source": [
    "srag2.count()"
   ]
  },
  {
   "cell_type": "code",
   "execution_count": null,
   "id": "ee3c7d22-e018-4d55-bc24-58af4f37ff71",
   "metadata": {},
   "outputs": [],
   "source": [
    "spark.read.parquet('/dados10t/datalake/standard/omop/data_with_ids/bancos_intermediarios/tb_forvisitas_vac_srag_sg_full_id_long.parquet/')"
   ]
  },
  {
   "cell_type": "code",
   "execution_count": 5,
   "id": "009fbbaf-f2f2-4e3b-9ea8-b4e595ac6a32",
   "metadata": {},
   "outputs": [],
   "source": [
    "df = spark.read.parquet('/dados10t/datalake/standard/omop/tabelas_omop_cmd_5.4_v1/tb_condition_occurence_data.parquet/')"
   ]
  },
  {
   "cell_type": "code",
   "execution_count": 6,
   "id": "7e1f1096-f7a1-4426-b960-3962c3adfdee",
   "metadata": {},
   "outputs": [
    {
     "data": {
      "text/plain": [
       "36895473"
      ]
     },
     "execution_count": 6,
     "metadata": {},
     "output_type": "execute_result"
    }
   ],
   "source": [
    "df.count()"
   ]
  },
  {
   "cell_type": "code",
   "execution_count": 7,
   "id": "0da37b53-36aa-4b65-a344-7571962279cb",
   "metadata": {},
   "outputs": [
    {
     "name": "stdout",
     "output_type": "stream",
     "text": [
      "+-------------------+--------------------+--------------------+---------+-------------------------+-----------------------+\n",
      "|visit_occurrence_id|condition_start_date|condition_concept_id|person_id|condition_type_concept_id|condition_occurrence_id|\n",
      "+-------------------+--------------------+--------------------+---------+-------------------------+-----------------------+\n",
      "|          478617278|          2021-12-30|              201820|  9441832|                    32817|               33942313|\n",
      "|          478617280|          2021-12-30|              254761|  9441832|                    32817|               33942314|\n",
      "|          478617280|          2021-12-30|              378253|  9441832|                    32817|               33942315|\n",
      "|          478617280|          2021-12-30|              201820|  9441832|                    32817|               33942316|\n",
      "|          478617278|          2021-12-30|              254761|  9441832|                    32817|               33942317|\n",
      "|          478617278|          2021-12-30|              259153|  9441832|                    32817|               33942318|\n",
      "|          478617280|          2021-12-30|              259153|  9441832|                    32817|               33942319|\n",
      "|          478617278|          2021-12-30|              378253|  9441832|                    32817|               33942320|\n",
      "|          478618388|          2022-01-17|             4215968|  9443128|                    32817|               33942321|\n",
      "|          478618394|          2021-09-18|             4215968|  9443128|                    32817|               33942322|\n",
      "|          478618388|          2022-01-17|              321588|  9443128|                    32817|               33942323|\n",
      "|          478618396|          2021-09-18|             4276172|  9443128|                    32817|               33942324|\n",
      "|          478618392|          2021-07-22|             4276172|  9443128|                    32817|               33942325|\n",
      "|          478618396|          2021-09-18|              259153|  9443128|                    32817|               33942326|\n",
      "|          478618400|          2022-01-17|             4215968|  9443128|                    32817|               33942327|\n",
      "|          478618400|          2022-01-17|             4276172|  9443128|                    32817|               33942328|\n",
      "|          478618392|          2021-07-22|             4215968|  9443128|                    32817|               33942329|\n",
      "|          478618396|          2021-09-18|             4215968|  9443128|                    32817|               33942330|\n",
      "|          478618400|          2022-01-17|              321588|  9443128|                    32817|               33942331|\n",
      "|          478618394|          2021-09-18|             4276172|  9443128|                    32817|               33942332|\n",
      "+-------------------+--------------------+--------------------+---------+-------------------------+-----------------------+\n",
      "only showing top 20 rows\n",
      "\n"
     ]
    }
   ],
   "source": [
    "df.show()"
   ]
  },
  {
   "cell_type": "code",
   "execution_count": null,
   "id": "c251a3be-660f-4de7-92c4-0ac1428175ec",
   "metadata": {},
   "outputs": [],
   "source": []
  }
 ],
 "metadata": {
  "kernelspec": {
   "display_name": "base",
   "language": "python",
   "name": "base"
  },
  "language_info": {
   "codemirror_mode": {
    "name": "ipython",
    "version": 3
   },
   "file_extension": ".py",
   "mimetype": "text/x-python",
   "name": "python",
   "nbconvert_exporter": "python",
   "pygments_lexer": "ipython3",
   "version": "3.11.4"
  }
 },
 "nbformat": 4,
 "nbformat_minor": 5
}
