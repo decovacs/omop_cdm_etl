{
 "cells": [
  {
   "cell_type": "code",
   "execution_count": 1,
   "id": "28c95156",
   "metadata": {},
   "outputs": [
    {
     "data": {
      "text/html": [
       "<style>.container { width:100% !important; }</style>"
      ],
      "text/plain": [
       "<IPython.core.display.HTML object>"
      ]
     },
     "metadata": {},
     "output_type": "display_data"
    }
   ],
   "source": [
    "from IPython.display import display, HTML\n",
    "display(HTML(\"<style>.container { width:100% !important; }</style>\"))\n",
    "from pyspark.sql import functions as F\n",
    "from pyspark.sql.types import *"
   ]
  },
  {
   "cell_type": "code",
   "execution_count": 2,
   "id": "21d4e7ad",
   "metadata": {},
   "outputs": [
    {
     "name": "stderr",
     "output_type": "stream",
     "text": [
      "                                                                                \r"
     ]
    }
   ],
   "source": [
    "srag = spark.read.parquet(\"/dados10t/datalake/raw/vigivac/srag/dbsrag_tb_influd_from_pandas_09072022.parquet/\") # banco raw, tenho que tratar o id do paciente para bater com o novo criado do banco pre processado e dropar o id original"
   ]
  },
  {
   "cell_type": "code",
   "execution_count": 3,
   "id": "bae8130c",
   "metadata": {},
   "outputs": [],
   "source": [
    "srag = srag.withColumn(\"id_row\",F.monotonically_increasing_id())"
   ]
  },
  {
   "cell_type": "code",
   "execution_count": 4,
   "id": "6a4e7e87",
   "metadata": {},
   "outputs": [
    {
     "name": "stderr",
     "output_type": "stream",
     "text": [
      "                                                                                \r"
     ]
    },
    {
     "data": {
      "text/plain": [
       "2490196"
      ]
     },
     "execution_count": 4,
     "metadata": {},
     "output_type": "execute_result"
    }
   ],
   "source": [
    "srag.count()"
   ]
  },
  {
   "cell_type": "code",
   "execution_count": 6,
   "id": "e6a443ba",
   "metadata": {},
   "outputs": [],
   "source": [
    "srag.select(\"id_row\").distinct().count()"
   ]
  },
  {
   "cell_type": "code",
   "execution_count": 7,
   "id": "23708a66",
   "metadata": {},
   "outputs": [],
   "source": [
    "srag.select(\"id_paciente\").distinct().count()"
   ]
  },
  {
   "cell_type": "code",
   "execution_count": 8,
   "id": "bb0c0c26",
   "metadata": {},
   "outputs": [],
   "source": [
    "srag.write.parquet(\"/dados10t/datalake/raw/vigivac/srag/dbsrag_tb_influd_pandas_idrow_09072022.parquet/\")"
   ]
  },
  {
   "cell_type": "code",
   "execution_count": 9,
   "id": "3cdb3559",
   "metadata": {},
   "outputs": [],
   "source": [
    "srag.printSchema()"
   ]
  },
  {
   "cell_type": "code",
   "execution_count": 6,
   "id": "ee50a6fa",
   "metadata": {},
   "outputs": [],
   "source": [
    "teste = spark.read.parquet(\"/dados10t/datalake/raw/vigivac/srag/dbsrag_tb_influd_pandas_idrow_09072022.parquet/\")"
   ]
  },
  {
   "cell_type": "code",
   "execution_count": 7,
   "id": "26101a9d",
   "metadata": {},
   "outputs": [
    {
     "data": {
      "text/plain": [
       "2490196"
      ]
     },
     "execution_count": 7,
     "metadata": {},
     "output_type": "execute_result"
    }
   ],
   "source": [
    "teste.count()"
   ]
  }
 ],
 "metadata": {
  "kernelspec": {
   "display_name": "Python 3 (ipykernel)",
   "language": "python",
   "name": "python3"
  },
  "language_info": {
   "codemirror_mode": {
    "name": "ipython",
    "version": 3
   },
   "file_extension": ".py",
   "mimetype": "text/x-python",
   "name": "python",
   "nbconvert_exporter": "python",
   "pygments_lexer": "ipython3",
   "version": "3.10.12"
  }
 },
 "nbformat": 4,
 "nbformat_minor": 5
}
